{
 "cells": [
  {
   "cell_type": "code",
   "execution_count": null,
   "metadata": {},
   "outputs": [],
   "source": [
    "import pandas as pd\n",
    "import tellurium as te\n",
    "from src.odbm.odbm_main import ModelBuilder\n",
    "\n",
    "\n",
    "#Define DataFrames of species, reactions from input model\n",
    "model_species = pd.read_csv('src/frenda_brenda/Examples/SpeciesBaseMechanisms_placeholder.csv')\n",
    "model_rxns = pd.read_csv('src/frenda_brenda/Examples/Reaction_placeholder.csv')\n",
    "\n",
    "#Generate and save model to txt file\n",
    "modelfile = 'src/frenda_brenda/Examples/model_placeholder.txt'\n",
    "myModel = ModelBuilder(model_species, model_rxns)\n",
    "myModel.saveModel(modelfile)\n",
    "\n",
    "r  = te.loada(myModel.compile())\n",
    "\n",
    "s = r.simulate(0,10)\n",
    "\n"
   ]
  },
  {
   "cell_type": "code",
   "execution_count": null,
   "metadata": {},
   "outputs": [],
   "source": []
  }
 ],
 "metadata": {
  "kernelspec": {
   "display_name": "myenv",
   "language": "python",
   "name": "myenv"
  }
 },
 "nbformat": 4,
 "nbformat_minor": 2
}
