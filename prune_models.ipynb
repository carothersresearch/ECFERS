{
 "cells": [
  {
   "cell_type": "code",
   "execution_count": 1,
   "metadata": {},
   "outputs": [],
   "source": [
    "import os\n",
    "import tellurium as te\n",
    "import numpy as np\n",
    "import matplotlib.pyplot as plt\n",
    "import pandas as pd\n",
    "import pickle"
   ]
  },
  {
   "cell_type": "code",
   "execution_count": 180,
   "metadata": {},
   "outputs": [],
   "source": [
    "# load SBML model\n",
    "modelfile = os.getcwd()+'/models/240226MC_MS.sbml'\n",
    "r = te.loadSBMLModel(modelfile)"
   ]
  },
  {
   "cell_type": "code",
   "execution_count": 89,
   "metadata": {},
   "outputs": [],
   "source": [
    "metabolites = ['C00037', 'C00149', 'C00022', 'C00065']"
   ]
  },
  {
   "cell_type": "code",
   "execution_count": 90,
   "metadata": {},
   "outputs": [
    {
     "name": "stderr",
     "output_type": "stream",
     "text": [
      "RuntimeError: Object of type <class 'NamedArray'> appears to be C subclassed NumPy array, void scalar, or allocated in a non-standard way.NumPy reserves the right to change the size of these structures. Projects are required to take this into account by either recompiling against a specific NumPy version or padding the struct and enforcing a maximum NumPy version.\n"
     ]
    }
   ],
   "source": [
    "S = r.getFullStoichiometryMatrix()\n",
    "R = r.getReactionIds()\n",
    "SP = r.getFloatingSpeciesIds()"
   ]
  },
  {
   "cell_type": "code",
   "execution_count": 91,
   "metadata": {},
   "outputs": [],
   "source": [
    "keep_rxn = np.zeros(S[0,:].shape)\n",
    "for m in metabolites:\n",
    "    keep_rxn = keep_rxn +  np.abs(S[m])\n",
    "    \n",
    "keep_rxn[keep_rxn>0] = 1\n",
    "rmv_rxn = 1 - keep_rxn"
   ]
  },
  {
   "cell_type": "code",
   "execution_count": 92,
   "metadata": {},
   "outputs": [],
   "source": [
    "removed_R = []\n",
    "for k,i in enumerate(np.where(rmv_rxn)[0]):\n",
    "    try:\n",
    "        r.removeReaction(R[i],deleteUnusedParameters=False,forceRegenerate=False)\n",
    "        removed_R.append(R[i])\n",
    "    except Exception as e:\n",
    "        print(e)\n",
    "        pass\n",
    "r.setConstant('rel0',True)"
   ]
  },
  {
   "cell_type": "code",
   "execution_count": 93,
   "metadata": {},
   "outputs": [],
   "source": [
    "model_rxns = pd.read_csv(os.getcwd()+'/src/frenda_brenda/Files/Reaction.csv')\n",
    "model_rxns['EC'] = model_rxns['EC'].apply(lambda x: 'EC'+x.replace('.',''))\n",
    "r_to_ec_map = {l:ec for l,ec in zip(model_rxns['Label'],model_rxns['EC'])}\n",
    "\n",
    "removed_E = []\n",
    "for rid in removed_R:\n",
    "    if r_to_ec_map[rid] not in [r_to_ec_map[rid2] for rid2 in r.getReactionIds()]:\n",
    "        try:\n",
    "            removed_E.append(r_to_ec_map[rid])\n",
    "        except:\n",
    "            pass\n",
    "removed_E = np.unique(removed_E)"
   ]
  },
  {
   "cell_type": "code",
   "execution_count": 94,
   "metadata": {},
   "outputs": [
    {
     "data": {
      "text/plain": [
       "['R26',\n",
       " 'R27',\n",
       " 'R28',\n",
       " 'R29',\n",
       " 'R30',\n",
       " 'R31',\n",
       " 'R32',\n",
       " 'R33',\n",
       " 'R34',\n",
       " 'R43',\n",
       " 'R44',\n",
       " 'R45',\n",
       " 'R64',\n",
       " 'R65',\n",
       " 'R146',\n",
       " 'R147',\n",
       " 'R151',\n",
       " 'R152',\n",
       " 'R153',\n",
       " 'R154',\n",
       " 'R155',\n",
       " 'R156',\n",
       " 'R157',\n",
       " 'R158',\n",
       " 'R159',\n",
       " 'R160',\n",
       " 'R162',\n",
       " 'R164',\n",
       " 'R165',\n",
       " 'R167',\n",
       " 'R168',\n",
       " 'R169',\n",
       " 'R171',\n",
       " 'R173',\n",
       " 'R175',\n",
       " 'R176',\n",
       " 'R177']"
      ]
     },
     "execution_count": 94,
     "metadata": {},
     "output_type": "execute_result"
    }
   ],
   "source": [
    "r.getReactionIds()"
   ]
  },
  {
   "cell_type": "code",
   "execution_count": 109,
   "metadata": {},
   "outputs": [],
   "source": [
    "keep_sp = np.abs(S[len([s for s in SP if 'EC' in s]):,np.where(keep_rxn)[0]]).sum(axis=1)\n",
    "keep_sp[keep_sp>0] = 1\n",
    "rmv_sp = 1 - keep_sp\n",
    "removed_S = [s for s,i in zip([s for s in SP if 'EC' not in s],rmv_sp) if i]\n",
    "removed_S.extend(removed_E)"
   ]
  },
  {
   "cell_type": "code",
   "execution_count": 85,
   "metadata": {},
   "outputs": [
    {
     "name": "stdout",
     "output_type": "stream",
     "text": [
      "C12214\n",
      "False\n",
      "C00111\n",
      "False\n",
      "C00345\n",
      "False\n",
      "C00005\n",
      "False\n",
      "C00390\n",
      "False\n",
      "C01172\n",
      "False\n",
      "C05747\n",
      "False\n",
      "C05760\n",
      "False\n",
      "C04688\n",
      "False\n",
      "C05378\n",
      "False\n",
      "C05223\n",
      "False\n",
      "C05749\n",
      "False\n",
      "C05345\n",
      "False\n",
      "C05381\n",
      "False\n",
      "C00103\n",
      "False\n",
      "C05746\n",
      "False\n",
      "C00322\n",
      "False\n",
      "C05259\n",
      "False\n",
      "C00229\n",
      "False\n",
      "C00136\n",
      "False\n",
      "C05748\n",
      "False\n",
      "C00347\n",
      "False\n",
      "C16470\n",
      "False\n",
      "C00249\n",
      "False\n",
      "C00369\n",
      "False\n",
      "C03069\n",
      "False\n",
      "C00236\n",
      "False\n",
      "C00026\n",
      "False\n",
      "C16219\n",
      "False\n",
      "C04633\n",
      "False\n",
      "C03344\n",
      "False\n",
      "C03356\n",
      "False\n",
      "C16389\n",
      "False\n",
      "C00447\n",
      "False\n",
      "C05270\n",
      "False\n",
      "C16339\n",
      "False\n",
      "C16335\n",
      "False\n",
      "C00118\n",
      "False\n",
      "C05764\n",
      "False\n",
      "C03735\n",
      "False\n",
      "C06157\n",
      "False\n",
      "C13378\n",
      "False\n",
      "C05274\n",
      "False\n",
      "C05755\n",
      "False\n",
      "C00577\n",
      "False\n",
      "C16169\n",
      "False\n",
      "C16334\n",
      "False\n",
      "C00279\n",
      "False\n",
      "C00042\n",
      "False\n",
      "C01832\n",
      "False\n",
      "C16338\n",
      "False\n",
      "C04419\n",
      "False\n",
      "C05752\n",
      "False\n",
      "C00668\n",
      "False\n",
      "C03785\n",
      "False\n",
      "C00085\n",
      "False\n",
      "C05269\n",
      "False\n",
      "C00197\n",
      "False\n",
      "C02232\n",
      "False\n",
      "C05754\n",
      "False\n",
      "C05265\n",
      "False\n",
      "C01094\n",
      "False\n",
      "C00531\n",
      "False\n",
      "C16254\n",
      "False\n",
      "C04246\n",
      "False\n",
      "C00100\n",
      "False\n",
      "C00490\n",
      "False\n",
      "C16220\n",
      "False\n",
      "C00685\n",
      "False\n",
      "C05758\n",
      "False\n",
      "C01097\n",
      "False\n",
      "C05763\n",
      "False\n",
      "C01944\n",
      "False\n",
      "C00006\n",
      "False\n",
      "C07118\n",
      "False\n",
      "C16173\n",
      "False\n",
      "C00173\n",
      "False\n",
      "C01271\n",
      "False\n",
      "C04620\n",
      "False\n",
      "C05761\n",
      "False\n",
      "C00620\n",
      "False\n",
      "C12215\n",
      "False\n",
      "C00199\n",
      "False\n",
      "C00158\n",
      "False\n",
      "C16331\n",
      "False\n",
      "C05753\n",
      "False\n",
      "C16330\n",
      "False\n",
      "C00091\n",
      "False\n",
      "C05759\n",
      "False\n",
      "C00311\n",
      "False\n",
      "C00693\n",
      "False\n",
      "C05757\n",
      "False\n",
      "C03939\n",
      "False\n",
      "C05261\n",
      "False\n",
      "C05756\n",
      "False\n",
      "C04619\n",
      "False\n",
      "C01209\n",
      "False\n",
      "C05751\n",
      "False\n",
      "C01171\n",
      "False\n",
      "C05263\n",
      "False\n",
      "C05745\n",
      "False\n",
      "C00354\n",
      "False\n",
      "C05382\n",
      "False\n",
      "C05762\n",
      "False\n",
      "C00288\n",
      "False\n",
      "C00083\n",
      "False\n",
      "C02593\n",
      "False\n",
      "C00512\n",
      "False\n",
      "C16466\n",
      "False\n",
      "C00231\n",
      "False\n",
      "C00399\n",
      "False\n",
      "C05267\n",
      "False\n",
      "C00264\n",
      "False\n",
      "C06250\n",
      "False\n",
      "C00417\n",
      "False\n",
      "C05750\n",
      "False\n",
      "C00527\n",
      "False\n",
      "C00631\n",
      "False\n",
      "C00117\n",
      "False\n",
      "C00092\n",
      "False\n",
      "C00718\n",
      "False\n",
      "C16471\n",
      "False\n",
      "C00040\n",
      "False\n",
      "C00154\n",
      "False\n",
      "C04618\n",
      "False\n",
      "C16376\n",
      "False\n",
      "C04309\n",
      "False\n",
      "C05744\n",
      "False\n",
      "C00109\n",
      "False\n",
      "C00161\n",
      "False\n",
      "C00188\n",
      "False\n",
      "C00248\n",
      "False\n",
      "C00445\n",
      "False\n",
      "C00579\n",
      "False\n",
      "C02972\n",
      "False\n",
      "C03479\n",
      "False\n",
      "C05167\n",
      "False\n",
      "C15973\n",
      "False\n",
      "C16237\n",
      "False\n",
      "C16832\n",
      "False\n"
     ]
    },
    {
     "name": "stderr",
     "output_type": "stream",
     "text": [
      "C:\\Users\\Diego Alba\\AppData\\Roaming\\Python\\Python37\\site-packages\\ipykernel_launcher.py:5: DeprecationWarning:\n",
      "\n",
      "elementwise comparison failed; this will raise an error in the future.\n",
      "\n"
     ]
    }
   ],
   "source": [
    "removed_S = []\n",
    "for k,i in enumerate([s for s,i in zip([s for s in SP if 'EC' not in s],rmv_sp) if i]):\n",
    "    try:\n",
    "        print(i)\n",
    "        print(np.where(S[i])[0] in np.where(keep_rxn)[0])\n",
    "        r.removeSpecies(i,forceRegenerate=False)\n",
    "        removed_S.append(i)\n",
    "        if len(r.getReactionIds()) < 37:\n",
    "            print('sos')\n",
    "            break\n",
    "    except Exception as e:\n",
    "        print(e)\n",
    "        pass\n",
    "\n",
    "for i in removed_E:\n",
    "    try:\n",
    "        r.removeSpecies(i,forceRegenerate=False)\n",
    "    except Exception as e:\n",
    "        print(e)\n",
    "        pass\n",
    "r.setConstant('rel0',True)"
   ]
  },
  {
   "cell_type": "code",
   "execution_count": 96,
   "metadata": {},
   "outputs": [
    {
     "data": {
      "text/plain": [
       "['C12214',\n",
       " 'C00111',\n",
       " 'C00345',\n",
       " 'C00005',\n",
       " 'C00390',\n",
       " 'C01172',\n",
       " 'C05747',\n",
       " 'C05760',\n",
       " 'C04688',\n",
       " 'C05378',\n",
       " 'C05223',\n",
       " 'C05749',\n",
       " 'C05345',\n",
       " 'C05381',\n",
       " 'C00103',\n",
       " 'C05746',\n",
       " 'C00322',\n",
       " 'C05259',\n",
       " 'C00229',\n",
       " 'C00136',\n",
       " 'C05748',\n",
       " 'C00347',\n",
       " 'C16470',\n",
       " 'C00249',\n",
       " 'C00369',\n",
       " 'C03069',\n",
       " 'C00236',\n",
       " 'C00026',\n",
       " 'C16219',\n",
       " 'C04633',\n",
       " 'C03344',\n",
       " 'C03356',\n",
       " 'C16389',\n",
       " 'C00447',\n",
       " 'C05270',\n",
       " 'C16339',\n",
       " 'C16335',\n",
       " 'C00118',\n",
       " 'C05764',\n",
       " 'C03735',\n",
       " 'C06157',\n",
       " 'C13378',\n",
       " 'C05274',\n",
       " 'C05755',\n",
       " 'C00577',\n",
       " 'C16169',\n",
       " 'C16334',\n",
       " 'C00279',\n",
       " 'C00042',\n",
       " 'C01832',\n",
       " 'C16338',\n",
       " 'C04419',\n",
       " 'C05752',\n",
       " 'C00668',\n",
       " 'C03785',\n",
       " 'C00085',\n",
       " 'C05269',\n",
       " 'C00197',\n",
       " 'C02232',\n",
       " 'C05754',\n",
       " 'C05265',\n",
       " 'C01094',\n",
       " 'C00531',\n",
       " 'C16254',\n",
       " 'C04246',\n",
       " 'C00100',\n",
       " 'C00490',\n",
       " 'C16220',\n",
       " 'C00685',\n",
       " 'C05758',\n",
       " 'C01097',\n",
       " 'C05763',\n",
       " 'C01944',\n",
       " 'C00006',\n",
       " 'C07118',\n",
       " 'C16173',\n",
       " 'C00173',\n",
       " 'C01271',\n",
       " 'C04620',\n",
       " 'C05761',\n",
       " 'C00620',\n",
       " 'C12215',\n",
       " 'C00199',\n",
       " 'C00158',\n",
       " 'C16331',\n",
       " 'C05753',\n",
       " 'C16330',\n",
       " 'C00091',\n",
       " 'C05759',\n",
       " 'C00311',\n",
       " 'C00693',\n",
       " 'C05757',\n",
       " 'C03939',\n",
       " 'C05261',\n",
       " 'C05756',\n",
       " 'C04619',\n",
       " 'C01209',\n",
       " 'C05751',\n",
       " 'C01171',\n",
       " 'C05263',\n",
       " 'C05745',\n",
       " 'C00354',\n",
       " 'C05382',\n",
       " 'C05762',\n",
       " 'C00288',\n",
       " 'C00083',\n",
       " 'C02593',\n",
       " 'C00512',\n",
       " 'C16466',\n",
       " 'C00231',\n",
       " 'C00399',\n",
       " 'C05267',\n",
       " 'C00264',\n",
       " 'C06250',\n",
       " 'C00417',\n",
       " 'C05750',\n",
       " 'C00527',\n",
       " 'C00631',\n",
       " 'C00117',\n",
       " 'C00092',\n",
       " 'C00718',\n",
       " 'C16471',\n",
       " 'C00040',\n",
       " 'C00154',\n",
       " 'C04618',\n",
       " 'C16376',\n",
       " 'C04309',\n",
       " 'C05744',\n",
       " 'C00109',\n",
       " 'C00161',\n",
       " 'C00188',\n",
       " 'C00248',\n",
       " 'C00445',\n",
       " 'C00579',\n",
       " 'C02972',\n",
       " 'C03479',\n",
       " 'C05167',\n",
       " 'C15973',\n",
       " 'C16237',\n",
       " 'C16832']"
      ]
     },
     "execution_count": 96,
     "metadata": {},
     "output_type": "execute_result"
    }
   ],
   "source": [
    "removed_S"
   ]
  },
  {
   "cell_type": "code",
   "execution_count": 97,
   "metadata": {},
   "outputs": [],
   "source": [
    "model_species = pd.read_csv(os.getcwd()+'/src/frenda_brenda/Files/SpeciesBaseMechanisms.csv')\n",
    "c_to_v_map = {s:model_species.loc[model_species['Label'] == s, 'Relative'].values[0] for s in [s for s in S.rownames if 'EC' not in s]}\n",
    "\n",
    "removed_V = []\n",
    "for s in removed_S:\n",
    "    try:\n",
    "        removed_V.append(c_to_v_map[s])\n",
    "    except:\n",
    "        pass"
   ]
  },
  {
   "cell_type": "code",
   "execution_count": 112,
   "metadata": {},
   "outputs": [],
   "source": [
    "for p in r.getGlobalParameterIds():\n",
    "    if np.any([i in p.split('_') for i in removed_S+removed_R+removed_V]):\n",
    "        try:\n",
    "            r.removeParameter(p, forceRegenerate = False)\n",
    "        except Exception as e:\n",
    "            print(e)\n",
    "        pass\n",
    "r.setConstant('rel0',True)"
   ]
  },
  {
   "cell_type": "code",
   "execution_count": 137,
   "metadata": {},
   "outputs": [
    {
     "data": {
      "text/plain": [
       "105"
      ]
     },
     "execution_count": 137,
     "metadata": {},
     "output_type": "execute_result"
    }
   ],
   "source": [
    "sum(['v' in i for i in r.getGlobalParameterIds()])"
   ]
  },
  {
   "cell_type": "code",
   "execution_count": 144,
   "metadata": {},
   "outputs": [
    {
     "data": {
      "text/plain": [
       "array(['C00002', 'C00004', 'C00008', 'C00009', 'C00010', 'C00020',\n",
       "       'C00022', 'C00024', 'C00025', 'C00036', 'C00041', 'C00044',\n",
       "       'C00048', 'C00074', 'C00122', 'C00168', 'C00209', 'C00302',\n",
       "       'C00389', 'C00552', 'C00704', 'C00712', 'C00741', 'C00742',\n",
       "       'C01401', 'C02441', 'C05625', 'C11592', 'C16487', 'C20679'],\n",
       "      dtype='<U6')"
      ]
     },
     "execution_count": 144,
     "metadata": {},
     "output_type": "execute_result"
    }
   ],
   "source": [
    "np.unique([i.split('_')[1] for i in r.getGlobalParameterIds() if 'Ki' in i])"
   ]
  },
  {
   "cell_type": "code",
   "execution_count": 132,
   "metadata": {},
   "outputs": [
    {
     "data": {
      "text/plain": [
       "False"
      ]
     },
     "execution_count": 132,
     "metadata": {},
     "output_type": "execute_result"
    }
   ],
   "source": [
    "'C02441' in r.getFloatingSpeciesIds()"
   ]
  },
  {
   "cell_type": "code",
   "execution_count": 138,
   "metadata": {},
   "outputs": [
    {
     "data": {
      "text/plain": [
       "37.0"
      ]
     },
     "execution_count": 138,
     "metadata": {},
     "output_type": "execute_result"
    }
   ],
   "source": [
    "sum(keep_rxn)"
   ]
  },
  {
   "cell_type": "code",
   "execution_count": 139,
   "metadata": {},
   "outputs": [
    {
     "data": {
      "text/plain": [
       "False"
      ]
     },
     "execution_count": 139,
     "metadata": {},
     "output_type": "execute_result"
    }
   ],
   "source": [
    "'C00741' in removed_S"
   ]
  },
  {
   "cell_type": "code",
   "execution_count": 146,
   "metadata": {},
   "outputs": [
    {
     "data": {
      "text/plain": [
       "37.0"
      ]
     },
     "execution_count": 146,
     "metadata": {},
     "output_type": "execute_result"
    }
   ],
   "source": [
    "sum(keep_rxn)"
   ]
  },
  {
   "cell_type": "code",
   "execution_count": 147,
   "metadata": {},
   "outputs": [
    {
     "data": {
      "text/plain": [
       "(247, 161)"
      ]
     },
     "execution_count": 147,
     "metadata": {},
     "output_type": "execute_result"
    }
   ],
   "source": [
    "S.shape"
   ]
  },
  {
   "cell_type": "code",
   "execution_count": 157,
   "metadata": {},
   "outputs": [
    {
     "data": {
      "text/plain": [
       "19"
      ]
     },
     "execution_count": 157,
     "metadata": {},
     "output_type": "execute_result"
    }
   ],
   "source": [
    "sum(['EC' in i for i in r.getGlobalParameterIds()])"
   ]
  },
  {
   "cell_type": "code",
   "execution_count": 156,
   "metadata": {},
   "outputs": [
    {
     "data": {
      "text/plain": [
       "[<matplotlib.lines.Line2D at 0x1eef0ac2488>,\n",
       " <matplotlib.lines.Line2D at 0x1eef0ac2048>,\n",
       " <matplotlib.lines.Line2D at 0x1eef0aef788>,\n",
       " <matplotlib.lines.Line2D at 0x1eef0aef988>,\n",
       " <matplotlib.lines.Line2D at 0x1eef0aefb88>,\n",
       " <matplotlib.lines.Line2D at 0x1eef0aefdc8>,\n",
       " <matplotlib.lines.Line2D at 0x1eef0aeffc8>,\n",
       " <matplotlib.lines.Line2D at 0x1eef0afa208>,\n",
       " <matplotlib.lines.Line2D at 0x1eef0aefb48>,\n",
       " <matplotlib.lines.Line2D at 0x1eef0aefd88>,\n",
       " <matplotlib.lines.Line2D at 0x1eef0ab52c8>,\n",
       " <matplotlib.lines.Line2D at 0x1eef0afa948>,\n",
       " <matplotlib.lines.Line2D at 0x1eef0afab48>,\n",
       " <matplotlib.lines.Line2D at 0x1eef0afad48>,\n",
       " <matplotlib.lines.Line2D at 0x1eef0afaf48>,\n",
       " <matplotlib.lines.Line2D at 0x1eef0afe188>,\n",
       " <matplotlib.lines.Line2D at 0x1eef0afe388>,\n",
       " <matplotlib.lines.Line2D at 0x1eef0afe588>,\n",
       " <matplotlib.lines.Line2D at 0x1eef0afe788>,\n",
       " <matplotlib.lines.Line2D at 0x1eef0afe988>,\n",
       " <matplotlib.lines.Line2D at 0x1eef0afeb88>,\n",
       " <matplotlib.lines.Line2D at 0x1eef0afed88>,\n",
       " <matplotlib.lines.Line2D at 0x1eef0afef88>,\n",
       " <matplotlib.lines.Line2D at 0x1eef0b051c8>,\n",
       " <matplotlib.lines.Line2D at 0x1eef0b053c8>,\n",
       " <matplotlib.lines.Line2D at 0x1eef0b055c8>,\n",
       " <matplotlib.lines.Line2D at 0x1eef0b057c8>,\n",
       " <matplotlib.lines.Line2D at 0x1eef0b059c8>,\n",
       " <matplotlib.lines.Line2D at 0x1eef0b05bc8>,\n",
       " <matplotlib.lines.Line2D at 0x1eef0b05dc8>,\n",
       " <matplotlib.lines.Line2D at 0x1eef0b05fc8>,\n",
       " <matplotlib.lines.Line2D at 0x1eef0b08208>,\n",
       " <matplotlib.lines.Line2D at 0x1eef0b08408>,\n",
       " <matplotlib.lines.Line2D at 0x1eef0b08608>,\n",
       " <matplotlib.lines.Line2D at 0x1eef0b08808>,\n",
       " <matplotlib.lines.Line2D at 0x1eef0b08a08>,\n",
       " <matplotlib.lines.Line2D at 0x1eef0b08c08>,\n",
       " <matplotlib.lines.Line2D at 0x1eef0b08e08>,\n",
       " <matplotlib.lines.Line2D at 0x1eef0b0d048>,\n",
       " <matplotlib.lines.Line2D at 0x1eef0b0d248>,\n",
       " <matplotlib.lines.Line2D at 0x1eef0b0d448>,\n",
       " <matplotlib.lines.Line2D at 0x1eef0b0d648>,\n",
       " <matplotlib.lines.Line2D at 0x1eef0b0d848>,\n",
       " <matplotlib.lines.Line2D at 0x1eef0b0da48>,\n",
       " <matplotlib.lines.Line2D at 0x1eef0b0dc48>,\n",
       " <matplotlib.lines.Line2D at 0x1eef0b0de48>,\n",
       " <matplotlib.lines.Line2D at 0x1eef0b11088>,\n",
       " <matplotlib.lines.Line2D at 0x1eef0b11288>,\n",
       " <matplotlib.lines.Line2D at 0x1eef0b11488>,\n",
       " <matplotlib.lines.Line2D at 0x1eef0b11688>,\n",
       " <matplotlib.lines.Line2D at 0x1eef0b11888>,\n",
       " <matplotlib.lines.Line2D at 0x1eef0b11a88>,\n",
       " <matplotlib.lines.Line2D at 0x1eef0b11c88>,\n",
       " <matplotlib.lines.Line2D at 0x1eef0b11e88>,\n",
       " <matplotlib.lines.Line2D at 0x1eef0b160c8>,\n",
       " <matplotlib.lines.Line2D at 0x1eef0b162c8>,\n",
       " <matplotlib.lines.Line2D at 0x1eef0b164c8>,\n",
       " <matplotlib.lines.Line2D at 0x1eef0b166c8>,\n",
       " <matplotlib.lines.Line2D at 0x1eef0b168c8>,\n",
       " <matplotlib.lines.Line2D at 0x1eef0b16ac8>,\n",
       " <matplotlib.lines.Line2D at 0x1eef0b16cc8>,\n",
       " <matplotlib.lines.Line2D at 0x1eef0b16ec8>,\n",
       " <matplotlib.lines.Line2D at 0x1eef0b1b108>,\n",
       " <matplotlib.lines.Line2D at 0x1eef0b1b308>,\n",
       " <matplotlib.lines.Line2D at 0x1eef0b1b508>,\n",
       " <matplotlib.lines.Line2D at 0x1eef0b1b708>,\n",
       " <matplotlib.lines.Line2D at 0x1eef0b1b908>,\n",
       " <matplotlib.lines.Line2D at 0x1eef0b1bb08>,\n",
       " <matplotlib.lines.Line2D at 0x1eef0b1bd08>,\n",
       " <matplotlib.lines.Line2D at 0x1eef0b1bf08>,\n",
       " <matplotlib.lines.Line2D at 0x1eef0b1f148>,\n",
       " <matplotlib.lines.Line2D at 0x1eef0b1f348>,\n",
       " <matplotlib.lines.Line2D at 0x1eef0b1f548>,\n",
       " <matplotlib.lines.Line2D at 0x1eef0b1f748>,\n",
       " <matplotlib.lines.Line2D at 0x1eef0b1f948>,\n",
       " <matplotlib.lines.Line2D at 0x1eef0b1fb48>,\n",
       " <matplotlib.lines.Line2D at 0x1eef0b1fd48>,\n",
       " <matplotlib.lines.Line2D at 0x1eef0b1ff48>,\n",
       " <matplotlib.lines.Line2D at 0x1eef0b23188>,\n",
       " <matplotlib.lines.Line2D at 0x1eef0b23388>,\n",
       " <matplotlib.lines.Line2D at 0x1eef0b23588>,\n",
       " <matplotlib.lines.Line2D at 0x1eef0b23788>,\n",
       " <matplotlib.lines.Line2D at 0x1eef0b23988>,\n",
       " <matplotlib.lines.Line2D at 0x1eef0b23b88>,\n",
       " <matplotlib.lines.Line2D at 0x1eef0b23d88>,\n",
       " <matplotlib.lines.Line2D at 0x1eef0b23f88>,\n",
       " <matplotlib.lines.Line2D at 0x1eef0b291c8>,\n",
       " <matplotlib.lines.Line2D at 0x1eef0b293c8>,\n",
       " <matplotlib.lines.Line2D at 0x1eef0b295c8>,\n",
       " <matplotlib.lines.Line2D at 0x1eef0b297c8>,\n",
       " <matplotlib.lines.Line2D at 0x1eef0b299c8>,\n",
       " <matplotlib.lines.Line2D at 0x1eef0b29bc8>,\n",
       " <matplotlib.lines.Line2D at 0x1eef0b29dc8>,\n",
       " <matplotlib.lines.Line2D at 0x1eef0b29fc8>,\n",
       " <matplotlib.lines.Line2D at 0x1eef0b2d208>,\n",
       " <matplotlib.lines.Line2D at 0x1eef0b2d408>,\n",
       " <matplotlib.lines.Line2D at 0x1eef0b2d608>,\n",
       " <matplotlib.lines.Line2D at 0x1eef0b2d808>,\n",
       " <matplotlib.lines.Line2D at 0x1eef0b2da08>,\n",
       " <matplotlib.lines.Line2D at 0x1eef0b2dc08>,\n",
       " <matplotlib.lines.Line2D at 0x1eef0b2de08>,\n",
       " <matplotlib.lines.Line2D at 0x1eef0b31048>,\n",
       " <matplotlib.lines.Line2D at 0x1eef0b31248>,\n",
       " <matplotlib.lines.Line2D at 0x1eef0b31448>,\n",
       " <matplotlib.lines.Line2D at 0x1eef0b31648>,\n",
       " <matplotlib.lines.Line2D at 0x1eef0b31848>,\n",
       " <matplotlib.lines.Line2D at 0x1eef0b31a48>,\n",
       " <matplotlib.lines.Line2D at 0x1eef0b31c48>,\n",
       " <matplotlib.lines.Line2D at 0x1eef0b31e48>,\n",
       " <matplotlib.lines.Line2D at 0x1eef0b37088>,\n",
       " <matplotlib.lines.Line2D at 0x1eef0b37288>,\n",
       " <matplotlib.lines.Line2D at 0x1eef0b37488>,\n",
       " <matplotlib.lines.Line2D at 0x1eef0b37688>,\n",
       " <matplotlib.lines.Line2D at 0x1eef0b37888>,\n",
       " <matplotlib.lines.Line2D at 0x1eef0b37a88>,\n",
       " <matplotlib.lines.Line2D at 0x1eef0b37c88>,\n",
       " <matplotlib.lines.Line2D at 0x1eef0b37e88>,\n",
       " <matplotlib.lines.Line2D at 0x1eef0b3c0c8>,\n",
       " <matplotlib.lines.Line2D at 0x1eef0b3c2c8>,\n",
       " <matplotlib.lines.Line2D at 0x1eef0b3c4c8>,\n",
       " <matplotlib.lines.Line2D at 0x1eef0b3c6c8>,\n",
       " <matplotlib.lines.Line2D at 0x1eef0b3c8c8>,\n",
       " <matplotlib.lines.Line2D at 0x1eef0b3cac8>,\n",
       " <matplotlib.lines.Line2D at 0x1eef0b3ccc8>,\n",
       " <matplotlib.lines.Line2D at 0x1eef0b3cec8>,\n",
       " <matplotlib.lines.Line2D at 0x1eef0b40108>,\n",
       " <matplotlib.lines.Line2D at 0x1eef0b40308>,\n",
       " <matplotlib.lines.Line2D at 0x1eef0b40508>,\n",
       " <matplotlib.lines.Line2D at 0x1eef0b40708>,\n",
       " <matplotlib.lines.Line2D at 0x1eef0b40908>,\n",
       " <matplotlib.lines.Line2D at 0x1eef0b40b08>,\n",
       " <matplotlib.lines.Line2D at 0x1eef0b40d08>,\n",
       " <matplotlib.lines.Line2D at 0x1eef0b40f08>,\n",
       " <matplotlib.lines.Line2D at 0x1eef0b45148>,\n",
       " <matplotlib.lines.Line2D at 0x1eef0b45348>,\n",
       " <matplotlib.lines.Line2D at 0x1eef0b45548>,\n",
       " <matplotlib.lines.Line2D at 0x1eef0b45748>,\n",
       " <matplotlib.lines.Line2D at 0x1eef0b45948>,\n",
       " <matplotlib.lines.Line2D at 0x1eef0b45b48>,\n",
       " <matplotlib.lines.Line2D at 0x1eef0b45d48>,\n",
       " <matplotlib.lines.Line2D at 0x1eef0b45f48>,\n",
       " <matplotlib.lines.Line2D at 0x1eef0b49188>,\n",
       " <matplotlib.lines.Line2D at 0x1eef0b49388>,\n",
       " <matplotlib.lines.Line2D at 0x1eef0b49588>,\n",
       " <matplotlib.lines.Line2D at 0x1eef0b49788>,\n",
       " <matplotlib.lines.Line2D at 0x1eef0b49988>,\n",
       " <matplotlib.lines.Line2D at 0x1eef0b49b88>,\n",
       " <matplotlib.lines.Line2D at 0x1eef0b49d88>,\n",
       " <matplotlib.lines.Line2D at 0x1eef0b49f88>,\n",
       " <matplotlib.lines.Line2D at 0x1eef0b501c8>,\n",
       " <matplotlib.lines.Line2D at 0x1eef0b503c8>,\n",
       " <matplotlib.lines.Line2D at 0x1eef0b505c8>,\n",
       " <matplotlib.lines.Line2D at 0x1eef0b507c8>,\n",
       " <matplotlib.lines.Line2D at 0x1eef0b509c8>,\n",
       " <matplotlib.lines.Line2D at 0x1eef0b50bc8>,\n",
       " <matplotlib.lines.Line2D at 0x1eef0b50dc8>,\n",
       " <matplotlib.lines.Line2D at 0x1eef0b50fc8>,\n",
       " <matplotlib.lines.Line2D at 0x1eef0b53208>,\n",
       " <matplotlib.lines.Line2D at 0x1eef0b53408>,\n",
       " <matplotlib.lines.Line2D at 0x1eef0b53608>,\n",
       " <matplotlib.lines.Line2D at 0x1eef0b53808>,\n",
       " <matplotlib.lines.Line2D at 0x1eef0b53a08>,\n",
       " <matplotlib.lines.Line2D at 0x1eef0b53c08>,\n",
       " <matplotlib.lines.Line2D at 0x1eef0b53e08>,\n",
       " <matplotlib.lines.Line2D at 0x1eef0b57048>,\n",
       " <matplotlib.lines.Line2D at 0x1eef0b57248>,\n",
       " <matplotlib.lines.Line2D at 0x1eef0b57448>,\n",
       " <matplotlib.lines.Line2D at 0x1eef0b57648>,\n",
       " <matplotlib.lines.Line2D at 0x1eef0b57848>,\n",
       " <matplotlib.lines.Line2D at 0x1eef0b57a48>,\n",
       " <matplotlib.lines.Line2D at 0x1eef0b57c48>,\n",
       " <matplotlib.lines.Line2D at 0x1eef0b57e48>,\n",
       " <matplotlib.lines.Line2D at 0x1eef0b5c088>,\n",
       " <matplotlib.lines.Line2D at 0x1eef0b5c288>,\n",
       " <matplotlib.lines.Line2D at 0x1eef0b5c488>,\n",
       " <matplotlib.lines.Line2D at 0x1eef0b5c688>,\n",
       " <matplotlib.lines.Line2D at 0x1eef0b5c888>,\n",
       " <matplotlib.lines.Line2D at 0x1eef0b5ca88>,\n",
       " <matplotlib.lines.Line2D at 0x1eef0b5cc88>,\n",
       " <matplotlib.lines.Line2D at 0x1eef0b5ce88>,\n",
       " <matplotlib.lines.Line2D at 0x1eef0b610c8>,\n",
       " <matplotlib.lines.Line2D at 0x1eef0b612c8>,\n",
       " <matplotlib.lines.Line2D at 0x1eef0b614c8>,\n",
       " <matplotlib.lines.Line2D at 0x1eef0b616c8>,\n",
       " <matplotlib.lines.Line2D at 0x1eef0b618c8>,\n",
       " <matplotlib.lines.Line2D at 0x1eef0b61ac8>,\n",
       " <matplotlib.lines.Line2D at 0x1eef0b61cc8>,\n",
       " <matplotlib.lines.Line2D at 0x1eef0b61ec8>,\n",
       " <matplotlib.lines.Line2D at 0x1eef0b65108>,\n",
       " <matplotlib.lines.Line2D at 0x1eef0b65308>,\n",
       " <matplotlib.lines.Line2D at 0x1eef0b65508>,\n",
       " <matplotlib.lines.Line2D at 0x1eef0b65708>,\n",
       " <matplotlib.lines.Line2D at 0x1eef0b65908>,\n",
       " <matplotlib.lines.Line2D at 0x1eef0b65b08>,\n",
       " <matplotlib.lines.Line2D at 0x1eef0b65d08>,\n",
       " <matplotlib.lines.Line2D at 0x1eef0b65f08>,\n",
       " <matplotlib.lines.Line2D at 0x1eef0b6a148>,\n",
       " <matplotlib.lines.Line2D at 0x1eef0b6a348>,\n",
       " <matplotlib.lines.Line2D at 0x1eef0b6a548>,\n",
       " <matplotlib.lines.Line2D at 0x1eef0b6a748>,\n",
       " <matplotlib.lines.Line2D at 0x1eef0b6a948>,\n",
       " <matplotlib.lines.Line2D at 0x1eef0b6ab48>,\n",
       " <matplotlib.lines.Line2D at 0x1eef0b6ad48>,\n",
       " <matplotlib.lines.Line2D at 0x1eef0b6af48>,\n",
       " <matplotlib.lines.Line2D at 0x1eef0b6e188>,\n",
       " <matplotlib.lines.Line2D at 0x1eef0b6e388>,\n",
       " <matplotlib.lines.Line2D at 0x1eef0b6e588>,\n",
       " <matplotlib.lines.Line2D at 0x1eef0b6e788>,\n",
       " <matplotlib.lines.Line2D at 0x1eef0b6e988>,\n",
       " <matplotlib.lines.Line2D at 0x1eef0b6eb88>,\n",
       " <matplotlib.lines.Line2D at 0x1eef0b6ed88>,\n",
       " <matplotlib.lines.Line2D at 0x1eef0b6ef88>,\n",
       " <matplotlib.lines.Line2D at 0x1eef0b741c8>,\n",
       " <matplotlib.lines.Line2D at 0x1eef0b743c8>,\n",
       " <matplotlib.lines.Line2D at 0x1eef0b745c8>,\n",
       " <matplotlib.lines.Line2D at 0x1eef0b747c8>,\n",
       " <matplotlib.lines.Line2D at 0x1eef0b749c8>,\n",
       " <matplotlib.lines.Line2D at 0x1eef0b74bc8>,\n",
       " <matplotlib.lines.Line2D at 0x1eef0b74dc8>,\n",
       " <matplotlib.lines.Line2D at 0x1eef0b74fc8>,\n",
       " <matplotlib.lines.Line2D at 0x1eef0b78208>,\n",
       " <matplotlib.lines.Line2D at 0x1eef0b78408>,\n",
       " <matplotlib.lines.Line2D at 0x1eef0b78608>,\n",
       " <matplotlib.lines.Line2D at 0x1eef0b78808>,\n",
       " <matplotlib.lines.Line2D at 0x1eef0b78a08>,\n",
       " <matplotlib.lines.Line2D at 0x1eef0b78c08>,\n",
       " <matplotlib.lines.Line2D at 0x1eef0b78e08>,\n",
       " <matplotlib.lines.Line2D at 0x1eef0b7c048>,\n",
       " <matplotlib.lines.Line2D at 0x1eef0b7c248>,\n",
       " <matplotlib.lines.Line2D at 0x1eef0b7c448>,\n",
       " <matplotlib.lines.Line2D at 0x1eef0b7c648>,\n",
       " <matplotlib.lines.Line2D at 0x1eef0b7c848>,\n",
       " <matplotlib.lines.Line2D at 0x1eef0b7ca48>,\n",
       " <matplotlib.lines.Line2D at 0x1eef0b7cc48>,\n",
       " <matplotlib.lines.Line2D at 0x1eef0b7ce48>,\n",
       " <matplotlib.lines.Line2D at 0x1eef0b83088>,\n",
       " <matplotlib.lines.Line2D at 0x1eef0b83288>,\n",
       " <matplotlib.lines.Line2D at 0x1eef0b83488>,\n",
       " <matplotlib.lines.Line2D at 0x1eef0b83688>,\n",
       " <matplotlib.lines.Line2D at 0x1eef0b83888>,\n",
       " <matplotlib.lines.Line2D at 0x1eef0b83a88>,\n",
       " <matplotlib.lines.Line2D at 0x1eef0b83c88>,\n",
       " <matplotlib.lines.Line2D at 0x1eef0b83e88>,\n",
       " <matplotlib.lines.Line2D at 0x1eef0b870c8>,\n",
       " <matplotlib.lines.Line2D at 0x1eef0b872c8>,\n",
       " <matplotlib.lines.Line2D at 0x1eef0b874c8>,\n",
       " <matplotlib.lines.Line2D at 0x1eef0b876c8>]"
      ]
     },
     "execution_count": 156,
     "metadata": {},
     "output_type": "execute_result"
    },
    {
     "data": {
      "image/png": "[encoded data removed]",
      "text/plain": [
       "<Figure size 432x288 with 1 Axes>"
      ]
     },
     "metadata": {
      "needs_background": "light"
     },
     "output_type": "display_data"
    }
   ],
   "source": [
    "plt.plot(r.simulate(0,90000,9).__array__()[:,1:])"
   ]
  },
  {
   "cell_type": "code",
   "execution_count": 182,
   "metadata": {},
   "outputs": [
    {
     "data": {
      "text/plain": [
       "array(['C00002', 'C00004', 'C00008', 'C00009', 'C00010', 'C00020',\n",
       "       'C00022', 'C00024', 'C00025', 'C00036', 'C00041', 'C00044',\n",
       "       'C00048', 'C00074', 'C00122', 'C00168', 'C00209', 'C00302',\n",
       "       'C00389', 'C00552', 'C00704', 'C00712', 'C00741', 'C00742',\n",
       "       'C01401', 'C02441', 'C05625', 'C11592', 'C16487', 'C20679'],\n",
       "      dtype='<U6')"
      ]
     },
     "execution_count": 182,
     "metadata": {},
     "output_type": "execute_result"
    }
   ],
   "source": []
  },
  {
   "cell_type": "code",
   "execution_count": 160,
   "metadata": {},
   "outputs": [],
   "source": [
    "with open('models/240226MC_MS.sbml', 'w') as f:\n",
    "    # Write the data to the file\n",
    "    f.write(r.getCurrentSBML())"
   ]
  },
  {
   "cell_type": "code",
   "execution_count": 166,
   "metadata": {},
   "outputs": [
    {
     "data": {
      "text/plain": [
       "False"
      ]
     },
     "execution_count": 166,
     "metadata": {},
     "output_type": "execute_result"
    }
   ],
   "source": [
    "np.any([k in r.getGlobalParameterIds()[5] for k in ['Ki','Gi']])"
   ]
  },
  {
   "cell_type": "code",
   "execution_count": 179,
   "metadata": {},
   "outputs": [
    {
     "data": {
      "text/plain": [
       "247"
      ]
     },
     "execution_count": 179,
     "metadata": {},
     "output_type": "execute_result"
    }
   ],
   "source": [
    "len(r.getFloatingSpeciesIds())"
   ]
  },
  {
   "cell_type": "code",
   "execution_count": 185,
   "metadata": {},
   "outputs": [
    {
     "data": {
      "text/plain": [
       "12"
      ]
     },
     "execution_count": 185,
     "metadata": {},
     "output_type": "execute_result"
    }
   ],
   "source": [
    "sum([i in r.getFloatingSpeciesIds() for i in np.unique([i.split('_')[1] for i in r.getGlobalParameterIds() if np.any([k in i for k in ['Ki','Gi']])])])"
   ]
  },
  {
   "cell_type": "code",
   "execution_count": null,
   "metadata": {},
   "outputs": [],
   "source": []
  }
 ],
 "metadata": {
  "kernelspec": {
   "display_name": "Python 3",
   "language": "python",
   "name": "python3"
  },
  "language_info": {
   "codemirror_mode": {
    "name": "ipython",
    "version": 3
   },
   "file_extension": ".py",
   "mimetype": "text/x-python",
   "name": "python",
   "nbconvert_exporter": "python",
   "pygments_lexer": "ipython3",
   "version": "3.7.6"
  }
 },
 "nbformat": 4,
 "nbformat_minor": 4
}
