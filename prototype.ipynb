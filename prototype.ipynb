{
 "cells": [
  {
   "cell_type": "code",
   "execution_count": 1,
   "metadata": {},
   "outputs": [],
   "source": [
    "from src.kinetic_estimator.estimators import Estimator, ENKIE\n"
   ]
  },
  {
   "cell_type": "code",
   "execution_count": 2,
   "metadata": {},
   "outputs": [],
   "source": [
    "DLKcat = Estimator('DLKcat','kcat')\n",
    "KMest = Estimator('KM_prediction','Km')\n",
    "\n",
    "species = \"L-Arginine\"\n",
    "enzyme_seq = \"MSLGIRYLALLPLFVITACQQPVNYNPPATQVAQVQPAIVNNSWIEISRSALDFNVKKVQSLLGKQSSLCAVLKGDAYGHDLSLVAPIMIENNVKCIGVTNNQELKEVRDLGFKGRLMRVRNATEQEMAQATNYNVEELIGDLDMAKRLDAIAKQQNKVIPIHLALNSGGMSRNGLEVDNKSGLEKAKQISQLANLKVVGIMSHYPEEDANKVREDLARFKQQSQQVLEVMGLERNNVTLHMANTFATITVPESWLDMVRVGGIFYGDTIASTDYKRVMTFKSNIASINYYPKGNTVGYDRTYTLKRDSVLANIPVGYADGYRRVFSNAGHALIAGQRVPVLGKTSMNTVIVDITSLNNIKPGDEVVFFGKQGNSEITAEEIEDISGALFTEMSILWGATNQRVLVD\"\n"
   ]
  },
  {
   "cell_type": "code",
   "execution_count": 3,
   "metadata": {},
   "outputs": [
    {
     "data": {
      "text/plain": [
       "[37.38470390794175]"
      ]
     },
     "execution_count": 3,
     "metadata": {},
     "output_type": "execute_result"
    }
   ],
   "source": [
    "DLKcat.estimate([species], [enzyme_seq])\n"
   ]
  },
  {
   "cell_type": "code",
   "execution_count": 5,
   "metadata": {},
   "outputs": [
    {
     "name": "stderr",
     "output_type": "stream",
     "text": [
      "[21:59:36] ERROR: \n",
      "\n"
     ]
    },
    {
     "data": {
      "text/plain": [
       "[0.4244131]"
      ]
     },
     "execution_count": 5,
     "metadata": {},
     "output_type": "execute_result"
    }
   ],
   "source": [
    "KMest.estimate([species], [enzyme_seq])"
   ]
  },
  {
   "cell_type": "code",
   "execution_count": 4,
   "metadata": {},
   "outputs": [
    {
     "ename": "AttributeError",
     "evalue": "type object 'ExecutableModel' has no attribute 'getNumDepFloatingSpecies'",
     "output_type": "error",
     "traceback": [
      "\u001b[1;31m---------------------------------------------------------------------------\u001b[0m",
      "\u001b[1;31mAttributeError\u001b[0m                            Traceback (most recent call last)",
      "\u001b[1;32mc:\\Users\\Diego Alba\\Documents\\GitHub\\ECFERS\\prototype.ipynb Cell 5\u001b[0m line \u001b[0;36m3\n\u001b[0;32m      <a href='vscode-notebook-cell:/c%3A/Users/Diego%20Alba/Documents/GitHub/ECFERS/prototype.ipynb#W4sZmlsZQ%3D%3D?line=0'>1</a>\u001b[0m \u001b[39mimport\u001b[39;00m \u001b[39mpandas\u001b[39;00m \u001b[39mas\u001b[39;00m \u001b[39mpd\u001b[39;00m\n\u001b[0;32m      <a href='vscode-notebook-cell:/c%3A/Users/Diego%20Alba/Documents/GitHub/ECFERS/prototype.ipynb#W4sZmlsZQ%3D%3D?line=1'>2</a>\u001b[0m \u001b[39m#import tellurium as te\u001b[39;00m\n\u001b[1;32m----> <a href='vscode-notebook-cell:/c%3A/Users/Diego%20Alba/Documents/GitHub/ECFERS/prototype.ipynb#W4sZmlsZQ%3D%3D?line=2'>3</a>\u001b[0m \u001b[39mfrom\u001b[39;00m \u001b[39msrc\u001b[39;00m\u001b[39m.\u001b[39;00m\u001b[39modbm\u001b[39;00m\u001b[39m.\u001b[39;00m\u001b[39modbm_main\u001b[39;00m \u001b[39mimport\u001b[39;00m ModelBuilder\n\u001b[0;32m      <a href='vscode-notebook-cell:/c%3A/Users/Diego%20Alba/Documents/GitHub/ECFERS/prototype.ipynb#W4sZmlsZQ%3D%3D?line=4'>5</a>\u001b[0m \u001b[39m#file_path = input('File path to model definition (excel format):')\u001b[39;00m\n\u001b[0;32m      <a href='vscode-notebook-cell:/c%3A/Users/Diego%20Alba/Documents/GitHub/ECFERS/prototype.ipynb#W4sZmlsZQ%3D%3D?line=5'>6</a>\u001b[0m \n\u001b[0;32m      <a href='vscode-notebook-cell:/c%3A/Users/Diego%20Alba/Documents/GitHub/ECFERS/prototype.ipynb#W4sZmlsZQ%3D%3D?line=6'>7</a>\u001b[0m \u001b[39m#Define DataFrames of species, reactions from input model\u001b[39;00m\n\u001b[0;32m      <a href='vscode-notebook-cell:/c%3A/Users/Diego%20Alba/Documents/GitHub/ECFERS/prototype.ipynb#W4sZmlsZQ%3D%3D?line=7'>8</a>\u001b[0m model_species \u001b[39m=\u001b[39m pd\u001b[39m.\u001b[39mread_excel(\u001b[39m'\u001b[39m\u001b[39msrc/odbm/multi_enzyme_model.xlsx\u001b[39m\u001b[39m'\u001b[39m, sheet_name \u001b[39m=\u001b[39m \u001b[39m'\u001b[39m\u001b[39mSpecies & Base Mechanisms\u001b[39m\u001b[39m'\u001b[39m, engine \u001b[39m=\u001b[39m \u001b[39m'\u001b[39m\u001b[39mopenpyxl\u001b[39m\u001b[39m'\u001b[39m)\u001b[39m.\u001b[39mdropna(\u001b[39m'\u001b[39m\u001b[39mindex\u001b[39m\u001b[39m'\u001b[39m,\u001b[39m'\u001b[39m\u001b[39mall\u001b[39m\u001b[39m'\u001b[39m)\n",
      "File \u001b[1;32mc:\\Users\\Diego Alba\\Documents\\GitHub\\ECFERS\\src\\odbm\\odbm_main.py:3\u001b[0m\n\u001b[0;32m      1\u001b[0m \u001b[39mimport\u001b[39;00m \u001b[39mpandas\u001b[39;00m \u001b[39mas\u001b[39;00m \u001b[39mpd\u001b[39;00m\n\u001b[0;32m      2\u001b[0m \u001b[39mimport\u001b[39;00m \u001b[39mitertools\u001b[39;00m\n\u001b[1;32m----> 3\u001b[0m \u001b[39mimport\u001b[39;00m \u001b[39mtellurium\u001b[39;00m \u001b[39mas\u001b[39;00m \u001b[39mte\u001b[39;00m\n\u001b[0;32m      5\u001b[0m \u001b[39mfrom\u001b[39;00m \u001b[39modbm\u001b[39;00m\u001b[39m.\u001b[39;00m\u001b[39mutils\u001b[39;00m \u001b[39mimport\u001b[39;00m extractParams, fmt\n\u001b[0;32m      7\u001b[0m \u001b[39mfrom\u001b[39;00m \u001b[39modbm\u001b[39;00m\u001b[39m.\u001b[39;00m\u001b[39mmechanisms\u001b[39;00m \u001b[39mimport\u001b[39;00m \u001b[39m*\u001b[39m\n",
      "File \u001b[1;32mc:\\Users\\Diego Alba\\.conda\\envs\\ODBM2\\lib\\site-packages\\tellurium\\__init__.py:14\u001b[0m\n\u001b[0;32m      7\u001b[0m \u001b[39mfrom\u001b[39;00m \u001b[39m__future__\u001b[39;00m \u001b[39mimport\u001b[39;00m absolute_import\n\u001b[0;32m      9\u001b[0m \u001b[39m# ----------------------------------------------------------------\u001b[39;00m\n\u001b[0;32m     10\u001b[0m \u001b[39m# TELLURIUM API\u001b[39;00m\n\u001b[0;32m     11\u001b[0m \u001b[39m# ----------------------------------------------------------------\u001b[39;00m\n\u001b[0;32m     12\u001b[0m \n\u001b[0;32m     13\u001b[0m \u001b[39m# General\u001b[39;00m\n\u001b[1;32m---> 14\u001b[0m \u001b[39mfrom\u001b[39;00m \u001b[39m.\u001b[39;00m\u001b[39mtellurium\u001b[39;00m \u001b[39mimport\u001b[39;00m (\n\u001b[0;32m     15\u001b[0m     getVersionInfo,\n\u001b[0;32m     16\u001b[0m     printVersionInfo,\n\u001b[0;32m     17\u001b[0m     getTelluriumVersion,\n\u001b[0;32m     18\u001b[0m     noticesOff,\n\u001b[0;32m     19\u001b[0m     noticesOn,\n\u001b[0;32m     20\u001b[0m )\n\u001b[0;32m     22\u001b[0m \u001b[39m# Converters\u001b[39;00m\n\u001b[0;32m     23\u001b[0m \u001b[39mfrom\u001b[39;00m \u001b[39m.\u001b[39;00m\u001b[39mteconverters\u001b[39;00m \u001b[39mimport\u001b[39;00m (\n\u001b[0;32m     24\u001b[0m     antimonyConverter,\n\u001b[0;32m     25\u001b[0m     inlineOmex,\n\u001b[0;32m     26\u001b[0m )\n",
      "File \u001b[1;32mc:\\Users\\Diego Alba\\.conda\\envs\\ODBM2\\lib\\site-packages\\tellurium\\tellurium.py:1049\u001b[0m\n\u001b[0;32m   1047\u001b[0m \u001b[39m# Add model functions to ExendedRoadRunner class\u001b[39;00m\n\u001b[0;32m   1048\u001b[0m \u001b[39mfor\u001b[39;00m key \u001b[39min\u001b[39;00m ExtendedRoadRunner\u001b[39m.\u001b[39m_model_functions:\n\u001b[1;32m-> 1049\u001b[0m     \u001b[39msetattr\u001b[39m(ExtendedRoadRunner, key, _model_function_factory(key))\n\u001b[0;32m   1052\u001b[0m \u001b[39m# Now we assign the ExtendedRoadRunner to RoadRunner\u001b[39;00m\n\u001b[0;32m   1053\u001b[0m \u001b[39mdef\u001b[39;00m \u001b[39mRoadRunner\u001b[39m(\u001b[39m*\u001b[39margs):\n\u001b[0;32m   1054\u001b[0m     \u001b[39m# return roadrunner.RoadRunner(*args)\u001b[39;00m\n",
      "File \u001b[1;32mc:\\Users\\Diego Alba\\.conda\\envs\\ODBM2\\lib\\site-packages\\tellurium\\tellurium.py:1044\u001b[0m, in \u001b[0;36m_model_function_factory\u001b[1;34m(key)\u001b[0m\n\u001b[0;32m   1042\u001b[0m f\u001b[39m.\u001b[39m\u001b[39m__name__\u001b[39m \u001b[39m=\u001b[39m key\n\u001b[0;32m   1043\u001b[0m \u001b[39m# copy the docstring\u001b[39;00m\n\u001b[1;32m-> 1044\u001b[0m f\u001b[39m.\u001b[39m\u001b[39m__doc__\u001b[39m \u001b[39m=\u001b[39m \u001b[39mgetattr\u001b[39;49m(roadrunner\u001b[39m.\u001b[39;49mExecutableModel, key)\u001b[39m.\u001b[39m\u001b[39m__doc__\u001b[39m\n\u001b[0;32m   1045\u001b[0m \u001b[39mreturn\u001b[39;00m f\n",
      "\u001b[1;31mAttributeError\u001b[0m: type object 'ExecutableModel' has no attribute 'getNumDepFloatingSpecies'"
     ]
    }
   ],
   "source": [
    "import pandas as pd\n",
    "#import tellurium as te\n",
    "from src.odbm.odbm_main import ModelBuilder\n",
    "\n",
    "#file_path = input('File path to model definition (excel format):')\n",
    "\n",
    "#Define DataFrames of species, reactions from input model\n",
    "model_species = pd.read_excel('src/odbm/multi_enzyme_model.xlsx', sheet_name = 'Species & Base Mechanisms', engine = 'openpyxl').dropna('index','all')\n",
    "model_rxns = pd.read_excel('src/odbm/multi_enzyme_model.xlsx', sheet_name = 'Reaction', engine = 'openpyxl').dropna('index','all')\n",
    "\n",
    "#Generate and save model to txt file\n",
    "modelfile = 'src/odbm/multi_enzyme_model.txt'\n",
    "myModel = ModelBuilder(model_species, model_rxns)\n",
    "myModel.saveModel(modelfile)\n",
    "\n",
    "#Run simulation\n",
    "model = open(modelfile,'r').read()\n",
    "r  = te.loada(model)\n",
    "s = r.simulate(0,10)\n",
    "\n",
    "\n",
    "#Write simulation results to excel sheet\n",
    "#sim_df = pd.DataFrame(s, columns = s.colnames).round(2)\n",
    "#sim_df.to_csv('Examples/model_txtl_test.xlsx', sheet_name = 'Results')"
   ]
  },
  {
   "cell_type": "code",
   "execution_count": null,
   "metadata": {},
   "outputs": [],
   "source": []
  }
 ],
 "metadata": {
  "kernelspec": {
   "display_name": "ODBM2",
   "language": "python",
   "name": "python3"
  },
  "language_info": {
   "codemirror_mode": {
    "name": "ipython",
    "version": 3
   },
   "file_extension": ".py",
   "mimetype": "text/x-python",
   "name": "python",
   "nbconvert_exporter": "python",
   "pygments_lexer": "ipython3",
   "version": "3.8.17"
  },
  "orig_nbformat": 4
 },
 "nbformat": 4,
 "nbformat_minor": 2
}
