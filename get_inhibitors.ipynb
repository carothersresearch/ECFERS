{
 "cells": [
  {
   "cell_type": "code",
   "execution_count": 15,
   "metadata": {},
   "outputs": [],
   "source": [
    "import requests\n",
    "import xml.etree.ElementTree as ET\n",
    "\n",
    "s = requests.Session() # create session\n",
    "# Post login credentials to session:\n",
    "s.post('https://websvc.biocyc.org/credentials/login/', data={'email':'dalba@uw.edu', 'password':'RNAdevices2024'})\n"
   ]
  },
  {
   "cell_type": "code",
   "execution_count": 195,
   "metadata": {},
   "outputs": [],
   "source": [
    "# from EC to BioCyc Reaction ID\n",
    "EC = '1.1.1.37'\n",
    "r = s.get('https://metacyc.org/META/substring-search?type=NIL&object=EC+'+EC)"
   ]
  },
  {
   "cell_type": "code",
   "execution_count": 196,
   "metadata": {},
   "outputs": [],
   "source": [
    "loc = r.text.find('/META/NEW-IMAGE?type=REACTION&object=') # this only finds the first instance, there may be other reactinos associated with this EC...\n",
    "BioCycID = r.text[loc+37:].split('\"')[0]"
   ]
  },
  {
   "cell_type": "code",
   "execution_count": 198,
   "metadata": {},
   "outputs": [],
   "source": [
    "\n",
    "# from BioCyc Reaction ID to  reactions\n",
    "r = s.get('https://websvc.biocyc.org/apixml?fn=enzymes-of-reaction&id=META:{i}&detail=low'.format(i=BioCycID))\n",
    "reactions = [e.find('catalyzes').find('Enzymatic-Reaction').items()[0][1] for e in list(ET.fromstring(r.text))[1:]]\n",
    "\n",
    "# from reactions to inhibitors\n",
    "inhibitors = []\n",
    "for reaction in reactions:\n",
    "    r = s.get('https://websvc.biocyc.org/apixml?fn=direct-inhibitors&id={i}&detail=low'.format(i=reaction))\n",
    "    inhibitors.append([list(c)[-1].text for c in list(ET.fromstring(r.text))[1:]])\n",
    "inhibitors = sum(inhibitors,[])"
   ]
  },
  {
   "cell_type": "code",
   "execution_count": 204,
   "metadata": {},
   "outputs": [
    {
     "data": {
      "text/plain": [
       "['oxaloacetate',\n",
       " 'ATP',\n",
       " 'acetyl-CoA',\n",
       " 'coenzyme A',\n",
       " 'oxalate',\n",
       " '<i>N</i>-ethylmaleimide',\n",
       " \"5,5'-dithio-bis-2-nitrobenzoate\",\n",
       " \"4,4'-dithiodipyridine\",\n",
       " 'diethylpyrocarbonate',\n",
       " 'diacetyl',\n",
       " 'Cd<SUP>2+</SUP>']"
      ]
     },
     "execution_count": 204,
     "metadata": {},
     "output_type": "execute_result"
    }
   ],
   "source": [
    "inhibitors"
   ]
  },
  {
   "cell_type": "code",
   "execution_count": null,
   "metadata": {},
   "outputs": [],
   "source": []
  }
 ],
 "metadata": {
  "kernelspec": {
   "display_name": "ODBM2",
   "language": "python",
   "name": "python3"
  },
  "language_info": {
   "codemirror_mode": {
    "name": "ipython",
    "version": 3
   },
   "file_extension": ".py",
   "mimetype": "text/x-python",
   "name": "python",
   "nbconvert_exporter": "python",
   "pygments_lexer": "ipython3",
   "version": "3.8.17"
  }
 },
 "nbformat": 4,
 "nbformat_minor": 2
}
