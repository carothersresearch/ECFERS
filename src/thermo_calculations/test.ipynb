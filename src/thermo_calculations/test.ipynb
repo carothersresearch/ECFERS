{
 "cells": [
  {
   "cell_type": "code",
   "execution_count": 1,
   "metadata": {},
   "outputs": [],
   "source": [
    "from equilibrator_api import ComponentContribution, Reaction\n",
    "import numpy as np\n",
    "import json\n",
    "import gzip\n",
    "import pandas as pd\n",
    "\n",
    "with gzip.open(\"kegg_enzymes.json.gz\", \"r\") as f:\n",
    "        ECs = {e['EC']:e['reaction_ids'] for e in json.load(f)}\n",
    "\n",
    "with gzip.open(\"kegg_reactions.json.gz\", \"r\") as f:\n",
    "        RXNs = {r['RID']:r['reaction'] for r in json.load(f)}\n",
    "\n",
    "cc = ComponentContribution()\n",
    "list_of_ECs = [list(ECs.keys())[i] for i in [5,6,10,12,23]]\n",
    "model_ECs = pd.read_csv('Reaction.csv', usecols=['EC'])\n"
   ]
  },
  {
   "cell_type": "code",
   "execution_count": 2,
   "metadata": {},
   "outputs": [
    {
     "name": "stdout",
     "output_type": "stream",
     "text": [
      "6.1.1.15\n",
      "R03661\n",
      "balancing!\n"
     ]
    },
    {
     "name": "stderr",
     "output_type": "stream",
     "text": [
      "c:\\Users\\Diego Alba\\.conda\\envs\\ODBM2\\lib\\site-packages\\equilibrator_cache\\reaction.py:616: UserWarning: Cannot calculate Legendre transform for Compound(id=74548, inchi_key=None): TRNA(PRO) has not yet been analyzed by ChemAxon.\n",
      "  warnings.warn(\n",
      "c:\\Users\\Diego Alba\\.conda\\envs\\ODBM2\\lib\\site-packages\\equilibrator_cache\\reaction.py:616: UserWarning: Cannot calculate Legendre transform for Compound(id=234, inchi_key=None): Pro-tRNA(Pro) has not yet been analyzed by ChemAxon.\n",
      "  warnings.warn(\n"
     ]
    },
    {
     "name": "stdout",
     "output_type": "stream",
     "text": [
      "(-0.0 +/- 1.0)e+05 kilojoule / mole\n",
      "1.11.1.26\n",
      "6.1.1.5\n",
      "R03656\n",
      "balancing!\n"
     ]
    },
    {
     "name": "stderr",
     "output_type": "stream",
     "text": [
      "c:\\Users\\Diego Alba\\.conda\\envs\\ODBM2\\lib\\site-packages\\equilibrator_cache\\reaction.py:616: UserWarning: Cannot calculate Legendre transform for Compound(id=74587, inchi_key=None): tRNA(Ile) has not yet been analyzed by ChemAxon.\n",
      "  warnings.warn(\n",
      "c:\\Users\\Diego Alba\\.conda\\envs\\ODBM2\\lib\\site-packages\\equilibrator_cache\\reaction.py:616: UserWarning: Cannot calculate Legendre transform for Compound(id=74418, inchi_key=None): Ile-tRNA(Ile) has not yet been analyzed by ChemAxon.\n",
      "  warnings.warn(\n"
     ]
    },
    {
     "name": "stdout",
     "output_type": "stream",
     "text": [
      "(-0.0 +/- 1.0)e+05 kilojoule / mole\n",
      "2.7.9.2\n",
      "R00199\n",
      "(-4.9 +/- 0.5) kilojoule / mole\n",
      "2.3.1.61\n",
      "R02570\n",
      "balancing!\n"
     ]
    },
    {
     "name": "stderr",
     "output_type": "stream",
     "text": [
      "c:\\Users\\Diego Alba\\.conda\\envs\\ODBM2\\lib\\site-packages\\equilibrator_cache\\reaction.py:616: UserWarning: Cannot calculate Legendre transform for Compound(id=75258, inchi_key=None): CHEBI:80219 has not yet been analyzed by ChemAxon.\n",
      "  warnings.warn(\n",
      "c:\\Users\\Diego Alba\\.conda\\envs\\ODBM2\\lib\\site-packages\\equilibrator_cache\\reaction.py:616: UserWarning: Cannot calculate Legendre transform for Compound(id=4798, inchi_key=None): CHEBI:80403 has not yet been analyzed by ChemAxon.\n",
      "  warnings.warn(\n"
     ]
    },
    {
     "name": "stdout",
     "output_type": "stream",
     "text": [
      "(0.0 +/- 1.0)e+05 kilojoule / mole\n",
      "R01933\n",
      "(-33 +/- 4) kilojoule / mole\n",
      "R02571\n",
      "R08549\n",
      "(-28 +/- 4) kilojoule / mole\n",
      "          EC KEGG Rid                                           R string  \\\n",
      "0   2.3.1.61   R08549      NAD + CoA + 2OG <=> H+ + DPNH + CO2 + suc-coa   \n",
      "1   2.3.1.61   R02571                                                      \n",
      "2   2.3.1.61   R01933  NAD + CoA + oxoadipate <=> H+ + DPNH + CO2 + g...   \n",
      "3   2.3.1.61   R02570  H+ + 3.5 O2 + suc-coa + CHEBI:80219 <=> 2 HO- ...   \n",
      "4    2.7.9.2   R00199                 HOH + atp + PYR <=> Pi + AMP + PEP   \n",
      "5    6.1.1.5   R03656  atp + 7.5 O2 + Ile + tRNA(Ile) <=> H+ + 4 H4O(...   \n",
      "6  1.11.1.26                                                               \n",
      "7   6.1.1.15   R03661  atp + 5.5 O2 + PRO + TRNA(PRO) <=> H+ + 2 H4O(...   \n",
      "\n",
      "            Keq  \n",
      "0  8.822845e+04  \n",
      "1           NaN  \n",
      "2  5.530758e+05  \n",
      "3  5.463841e-10  \n",
      "4  7.370111e+00  \n",
      "5  4.543658e+08  \n",
      "6           NaN  \n",
      "7  4.616016e+08  \n"
     ]
    }
   ],
   "source": [
    "db = pd.DataFrame(columns=['EC','KEGG Rid','R string','Keq'])\n",
    "for ec_string in model_ECs['EC'][20:25]:\n",
    "    print(ec_string)\n",
    "    try:\n",
    "        for r in ECs[ec_string]:\n",
    "            print(r)\n",
    "            try:\n",
    "                rxn = Reaction({cc.get_compound(\"kegg:\"+species[1]):species[0] for species in RXNs[r]})\n",
    "                if not rxn.is_balanced():\n",
    "                    rxn = cc.balance_by_oxidation(rxn)\n",
    "                    print('balancing!')\n",
    "                r_string = rxn.__str__()\n",
    "                Keq = np.exp((-cc.standard_dg_prime(rxn)/cc.RT).value).magnitude \n",
    "                print(cc.standard_dg_prime(rxn))\n",
    "\n",
    "            except:\n",
    "                r_string = ''\n",
    "                Keq = np.nan\n",
    "\n",
    "            db = pd.concat([pd.DataFrame([[ec_string,r,r_string,Keq]], columns=db.columns), db], ignore_index=True)\n",
    "\n",
    "    except:\n",
    "        r = ''\n",
    "        r_string = ''\n",
    "        Keq = np.nan\n",
    "        \n",
    "        db = pd.concat([pd.DataFrame([[ec_string,r,r_string,Keq]], columns=db.columns), db], ignore_index=True)\n",
    "\n",
    "print(db)\n",
    "# rxn = cc.search_reaction(reaction_string)\n",
    "# sp = [c.inchi_key for c in list(rxn.sparse_with_phases.keys())]\n",
    "# print(cc.standard_dg_prime(rxn))\n",
    "# Keq = np.exp((-cc.standard_dg_prime(rxn)/cc.RT).value)\n",
    "# print(Keq)"
   ]
  },
  {
   "cell_type": "code",
   "execution_count": 11,
   "metadata": {},
   "outputs": [],
   "source": [
    "  \n",
    "db.to_csv('parsed_w_strings.csv')"
   ]
  },
  {
   "cell_type": "code",
   "execution_count": 13,
   "metadata": {},
   "outputs": [
    {
     "data": {
      "text/plain": [
       "Compound(id=41600, inchi_key=OSBNUHNVJFXWOG-WBHMSIDWSA-L)"
      ]
     },
     "execution_count": 13,
     "metadata": {},
     "output_type": "execute_result"
    }
   ],
   "source": [
    "cc.ccache.get_compound_by_internal_id(41600)"
   ]
  },
  {
   "cell_type": "code",
   "execution_count": 14,
   "metadata": {},
   "outputs": [],
   "source": [
    "cc.ccache.get_compound_by_inchi('AHKZTVQIVOEVFO-UHFFFAOYSA-N')"
   ]
  },
  {
   "cell_type": "code",
   "execution_count": 17,
   "metadata": {},
   "outputs": [
    {
     "data": {
      "text/plain": [
       "[[1, 'C00001'], [-1, 'C00009'], [1, 'C00011'], [-1, 'C00036'], [1, 'C00074']]"
      ]
     },
     "execution_count": 17,
     "metadata": {},
     "output_type": "execute_result"
    }
   ],
   "source": [
    "RXNs['R00345']"
   ]
  },
  {
   "cell_type": "code",
   "execution_count": 29,
   "metadata": {},
   "outputs": [
    {
     "data": {
      "text/plain": [
       "'bAla'"
      ]
     },
     "execution_count": 29,
     "metadata": {},
     "output_type": "execute_result"
    }
   ],
   "source": [
    "cc.get_compound(\"kegg:C00099\").identifiers\n",
    "\n",
    "def find_short(ids):\n",
    "    shortest = 'dummy'*99\n",
    "    for i in ids:\n",
    "        if i.registry.name == \"Synonyms\":\n",
    "            if len(i.accession) < len(shortest):\n",
    "                shortest = i.accession\n",
    "    return shortest\n",
    "\n",
    "find_short(cc.get_compound(\"kegg:C00099\").identifiers)"
   ]
  },
  {
   "cell_type": "code",
   "execution_count": 3,
   "metadata": {},
   "outputs": [
    {
     "data": {
      "text/plain": [
       "[CompoundIdentifier(registry=Registry(namespace=bigg.metabolite), accession=ala_B),\n",
       " CompoundIdentifier(registry=Registry(namespace=bigg.metabolite), accession=M_ala_B),\n",
       " CompoundIdentifier(registry=Registry(namespace=chebi), accession=CHEBI:16958),\n",
       " CompoundIdentifier(registry=Registry(namespace=chebi), accession=CHEBI:10343),\n",
       " CompoundIdentifier(registry=Registry(namespace=chebi), accession=CHEBI:12389),\n",
       " CompoundIdentifier(registry=Registry(namespace=chebi), accession=CHEBI:22821),\n",
       " CompoundIdentifier(registry=Registry(namespace=chebi), accession=CHEBI:41050),\n",
       " CompoundIdentifier(registry=Registry(namespace=chebi), accession=CHEBI:57966),\n",
       " CompoundIdentifier(registry=Registry(namespace=chebi), accession=CHEBI:63070),\n",
       " CompoundIdentifier(registry=Registry(namespace=hmdb), accession=HMDB00056),\n",
       " CompoundIdentifier(registry=Registry(namespace=kegg), accession=C00099),\n",
       " CompoundIdentifier(registry=Registry(namespace=kegg), accession=D07561),\n",
       " CompoundIdentifier(registry=Registry(namespace=metacyc.compound), accession=B-ALANINE),\n",
       " CompoundIdentifier(registry=Registry(namespace=reactome), accession=73590),\n",
       " CompoundIdentifier(registry=Registry(namespace=reactome), accession=909777),\n",
       " CompoundIdentifier(registry=Registry(namespace=sabiork.compound), accession=1932),\n",
       " CompoundIdentifier(registry=Registry(namespace=seed), accession=cpd00085),\n",
       " CompoundIdentifier(registry=Registry(namespace=metanetx.chemical), accession=MNXM144),\n",
       " CompoundIdentifier(registry=Registry(namespace=synonyms), accession=Beta-Alanine),\n",
       " CompoundIdentifier(registry=Registry(namespace=synonyms), accession=3-Aminopropionic acid),\n",
       " CompoundIdentifier(registry=Registry(namespace=synonyms), accession=3-aminopropanoic acid),\n",
       " CompoundIdentifier(registry=Registry(namespace=synonyms), accession=BETA-ALANINE),\n",
       " CompoundIdentifier(registry=Registry(namespace=synonyms), accession=H-beta-Ala-OH),\n",
       " CompoundIdentifier(registry=Registry(namespace=synonyms), accession=UCMIRNVEIXFBKS-UHFFFAOYSA-N),\n",
       " CompoundIdentifier(registry=Registry(namespace=synonyms), accession=bAla),\n",
       " CompoundIdentifier(registry=Registry(namespace=synonyms), accession=beta-Alanine),\n",
       " CompoundIdentifier(registry=Registry(namespace=synonyms), accession=beta-alanine),\n",
       " CompoundIdentifier(registry=Registry(namespace=synonyms), accession=beta-aminopropionic acid),\n",
       " CompoundIdentifier(registry=Registry(namespace=synonyms), accession=omega-aminopropionic acid),\n",
       " CompoundIdentifier(registry=Registry(namespace=synonyms), accession=3-ammoniopropanoate),\n",
       " CompoundIdentifier(registry=Registry(namespace=synonyms), accession=3-azaniumylpropanoate),\n",
       " CompoundIdentifier(registry=Registry(namespace=synonyms), accession=UCMIRNVEIXFBKS-UHFFFAOYSA-N),\n",
       " CompoundIdentifier(registry=Registry(namespace=synonyms), accession=beta-alanine),\n",
       " CompoundIdentifier(registry=Registry(namespace=synonyms), accession=beta-alanine zwitterion),\n",
       " CompoundIdentifier(registry=Registry(namespace=synonyms), accession=3-aminopropanoate),\n",
       " CompoundIdentifier(registry=Registry(namespace=synonyms), accession=UCMIRNVEIXFBKS-UHFFFAOYSA-M),\n",
       " CompoundIdentifier(registry=Registry(namespace=synonyms), accession=beta-alaninate),\n",
       " CompoundIdentifier(registry=Registry(namespace=synonyms), accession=beta-alaninate anion),\n",
       " CompoundIdentifier(registry=Registry(namespace=synonyms), accession=beta-alaninate(1-)),\n",
       " CompoundIdentifier(registry=Registry(namespace=synonyms), accession=3-aminopropanoic acid),\n",
       " CompoundIdentifier(registry=Registry(namespace=synonyms), accession=Beta-Alanine),\n",
       " CompoundIdentifier(registry=Registry(namespace=synonyms), accession=beta alanine),\n",
       " CompoundIdentifier(registry=Registry(namespace=synonyms), accession=3-Aminopropanoate),\n",
       " CompoundIdentifier(registry=Registry(namespace=synonyms), accession=3-Aminopropionic acid),\n",
       " CompoundIdentifier(registry=Registry(namespace=synonyms), accession=Abufene (TN)),\n",
       " CompoundIdentifier(registry=Registry(namespace=synonyms), accession=beta-Alanine),\n",
       " CompoundIdentifier(registry=Registry(namespace=synonyms), accession=3-ammoniopropanoate),\n",
       " CompoundIdentifier(registry=Registry(namespace=synonyms), accession=3-azaniumylpropanoate),\n",
       " CompoundIdentifier(registry=Registry(namespace=synonyms), accession=B-ALANINE),\n",
       " CompoundIdentifier(registry=Registry(namespace=synonyms), accession=beta-alanine),\n",
       " CompoundIdentifier(registry=Registry(namespace=synonyms), accession=3-Aminopropanoate),\n",
       " CompoundIdentifier(registry=Registry(namespace=synonyms), accession=3-aminopropionic acid),\n",
       " CompoundIdentifier(registry=Registry(namespace=synonyms), accession=b-Ala),\n",
       " CompoundIdentifier(registry=Registry(namespace=synonyms), accession=beta-alanine),\n",
       " CompoundIdentifier(registry=Registry(namespace=synonyms), accession=3-Aminopropanoate),\n",
       " CompoundIdentifier(registry=Registry(namespace=synonyms), accession=3-Aminopropionic acid),\n",
       " CompoundIdentifier(registry=Registry(namespace=synonyms), accession=3-aminopropionic acid),\n",
       " CompoundIdentifier(registry=Registry(namespace=synonyms), accession=beta-Alanine),\n",
       " CompoundIdentifier(registry=Registry(namespace=synonyms), accession=3-Aminopropanoate),\n",
       " CompoundIdentifier(registry=Registry(namespace=synonyms), accession=3-Aminopropionic acid),\n",
       " CompoundIdentifier(registry=Registry(namespace=synonyms), accession=ala-B),\n",
       " CompoundIdentifier(registry=Registry(namespace=synonyms), accession=beta-Alanine)]"
      ]
     },
     "execution_count": 3,
     "metadata": {},
     "output_type": "execute_result"
    }
   ],
   "source": [
    "cc.get_compound(\"kegg:C00099\").identifiers"
   ]
  },
  {
   "cell_type": "code",
   "execution_count": 21,
   "metadata": {},
   "outputs": [
    {
     "data": {
      "text/plain": [
       "495"
      ]
     },
     "execution_count": 21,
     "metadata": {},
     "output_type": "execute_result"
    }
   ],
   "source": []
  },
  {
   "cell_type": "code",
   "execution_count": 3,
   "metadata": {},
   "outputs": [
    {
     "data": {
      "text/html": [
       "<div>\n",
       "<style scoped>\n",
       "    .dataframe tbody tr th:only-of-type {\n",
       "        vertical-align: middle;\n",
       "    }\n",
       "\n",
       "    .dataframe tbody tr th {\n",
       "        vertical-align: top;\n",
       "    }\n",
       "\n",
       "    .dataframe thead th {\n",
       "        text-align: right;\n",
       "    }\n",
       "</style>\n",
       "<table border=\"1\" class=\"dataframe\">\n",
       "  <thead>\n",
       "    <tr style=\"text-align: right;\">\n",
       "      <th></th>\n",
       "      <th>EC</th>\n",
       "      <th>KEGG Rid</th>\n",
       "      <th>R string</th>\n",
       "      <th>Keq</th>\n",
       "    </tr>\n",
       "  </thead>\n",
       "  <tbody>\n",
       "    <tr>\n",
       "      <th>0</th>\n",
       "      <td>2.3.1.61</td>\n",
       "      <td>R08549</td>\n",
       "      <td>DPN + CoA + akg &lt;=&gt; H + NADH + co2 + SUC-COA</td>\n",
       "      <td>8.822845e+04</td>\n",
       "    </tr>\n",
       "    <tr>\n",
       "      <th>1</th>\n",
       "      <td>2.3.1.61</td>\n",
       "      <td>R02571</td>\n",
       "      <td></td>\n",
       "      <td>NaN</td>\n",
       "    </tr>\n",
       "    <tr>\n",
       "      <th>2</th>\n",
       "      <td>2.3.1.61</td>\n",
       "      <td>R01933</td>\n",
       "      <td>DPN + CoA + 2oxoadp &lt;=&gt; H + NADH + CO2 + glutcoa</td>\n",
       "      <td>5.530758e+05</td>\n",
       "    </tr>\n",
       "    <tr>\n",
       "      <th>3</th>\n",
       "      <td>2.3.1.61</td>\n",
       "      <td>R02570</td>\n",
       "      <td>H + 3.5 O2 + SUC-COA + Enzyme N6-(dihydrolipoy...</td>\n",
       "      <td>5.463841e-10</td>\n",
       "    </tr>\n",
       "    <tr>\n",
       "      <th>4</th>\n",
       "      <td>2.7.9.2</td>\n",
       "      <td>R00199</td>\n",
       "      <td>oh1 + ATP + PYR &lt;=&gt; Pi + amp + PEP</td>\n",
       "      <td>7.370111e+00</td>\n",
       "    </tr>\n",
       "    <tr>\n",
       "      <th>5</th>\n",
       "      <td>6.1.1.5</td>\n",
       "      <td>R03656</td>\n",
       "      <td>ATP + 7.5 O2 + I + ILE-tRNAs &lt;=&gt; H + 4 oxide +...</td>\n",
       "      <td>4.543658e+08</td>\n",
       "    </tr>\n",
       "    <tr>\n",
       "      <th>6</th>\n",
       "      <td>1.11.1.26</td>\n",
       "      <td></td>\n",
       "      <td></td>\n",
       "      <td>NaN</td>\n",
       "    </tr>\n",
       "    <tr>\n",
       "      <th>7</th>\n",
       "      <td>6.1.1.15</td>\n",
       "      <td>R03661</td>\n",
       "      <td>ATP + 5.5 O2 + P + a tRNApro &lt;=&gt; H + 2 oxide +...</td>\n",
       "      <td>4.616016e+08</td>\n",
       "    </tr>\n",
       "  </tbody>\n",
       "</table>\n",
       "</div>"
      ],
      "text/plain": [
       "          EC KEGG Rid                                           R string  \\\n",
       "0   2.3.1.61   R08549       DPN + CoA + akg <=> H + NADH + co2 + SUC-COA   \n",
       "1   2.3.1.61   R02571                                                      \n",
       "2   2.3.1.61   R01933   DPN + CoA + 2oxoadp <=> H + NADH + CO2 + glutcoa   \n",
       "3   2.3.1.61   R02570  H + 3.5 O2 + SUC-COA + Enzyme N6-(dihydrolipoy...   \n",
       "4    2.7.9.2   R00199                 oh1 + ATP + PYR <=> Pi + amp + PEP   \n",
       "5    6.1.1.5   R03656  ATP + 7.5 O2 + I + ILE-tRNAs <=> H + 4 oxide +...   \n",
       "6  1.11.1.26                                                               \n",
       "7   6.1.1.15   R03661  ATP + 5.5 O2 + P + a tRNApro <=> H + 2 oxide +...   \n",
       "\n",
       "            Keq  \n",
       "0  8.822845e+04  \n",
       "1           NaN  \n",
       "2  5.530758e+05  \n",
       "3  5.463841e-10  \n",
       "4  7.370111e+00  \n",
       "5  4.543658e+08  \n",
       "6           NaN  \n",
       "7  4.616016e+08  "
      ]
     },
     "execution_count": 3,
     "metadata": {},
     "output_type": "execute_result"
    }
   ],
   "source": [
    "db"
   ]
  },
  {
   "cell_type": "code",
   "execution_count": null,
   "metadata": {},
   "outputs": [],
   "source": []
  }
 ],
 "metadata": {
  "kernelspec": {
   "display_name": "ODBM2",
   "language": "python",
   "name": "python3"
  },
  "language_info": {
   "codemirror_mode": {
    "name": "ipython",
    "version": 3
   },
   "file_extension": ".py",
   "mimetype": "text/x-python",
   "name": "python",
   "nbconvert_exporter": "python",
   "pygments_lexer": "ipython3",
   "version": "3.8.17"
  },
  "orig_nbformat": 4
 },
 "nbformat": 4,
 "nbformat_minor": 2
}
