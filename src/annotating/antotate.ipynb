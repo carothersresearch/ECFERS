{
 "cells": [
  {
   "cell_type": "code",
   "execution_count": 1,
   "metadata": {},
   "outputs": [],
   "source": [
    "import tellurium as te\n",
    "from equilibrator_api import ComponentContribution\n",
    "cc = ComponentContribution()"
   ]
  },
  {
   "cell_type": "code",
   "execution_count": 2,
   "metadata": {},
   "outputs": [],
   "source": [
    "# Read the existing file\n",
    "with open(r\"C:\\Users\\mkcoo\\Documents\\UW\\GitHub\\ECFERS\\src\\frenda_brenda\\Files\\KEGG_Filtered\\M0_renamed.txt\", 'r') as file:\n",
    "    content = file.readlines()"
   ]
  },
  {
   "cell_type": "code",
   "execution_count": 12,
   "metadata": {},
   "outputs": [],
   "source": [
    "with open(r\"C:\\Users\\mkcoo\\Documents\\UW\\GitHub\\ECFERS\\src\\frenda_brenda\\Files\\KEGG_Filtered\\M0_renamed.txt\", 'r') as file:\n",
    "    antimony = file.read()"
   ]
  },
  {
   "cell_type": "code",
   "execution_count": 17,
   "metadata": {},
   "outputs": [],
   "source": [
    "# Filter lines and extract words\n",
    "filtered_words = []\n",
    "\n",
    "# Iterate over each line\n",
    "for line in content:\n",
    "    if \"->\" in line:  # Check if the line contains \"->\"\n",
    "        # Split the line at the colon and extract the part after it\n",
    "        parts = line.split(\":\")\n",
    "        if len(parts) > 1:\n",
    "            reaction_part = parts[1].strip().replace(\";\", \"\")  # Get the reaction after the colon\n",
    "\n",
    "            # Split the reaction at \"->\" into left and right parts\n",
    "            left, right = reaction_part.split(\"->\")\n",
    "            left_words = set(left.split())\n",
    "            right_words = set(right.split())\n",
    "\n",
    "            # Find words common to both sides\n",
    "            common_words = left_words.intersection(right_words)\n",
    "\n",
    "            # Filter out numbers and unwanted characters\n",
    "            filtered = [word for word in common_words if not (word.isdigit() or word in [\"+\"])]\n",
    "            \n",
    "            # Add to the filtered list\n",
    "            filtered_words.extend(filtered)\n",
    "\n",
    "# Display the unique words\\\n",
    "speciesList = list(set(filtered_words))"
   ]
  },
  {
   "cell_type": "code",
   "execution_count": 14,
   "metadata": {},
   "outputs": [],
   "source": [
    "r  = te.loada(antimony)"
   ]
  },
  {
   "cell_type": "code",
   "execution_count": 19,
   "metadata": {},
   "outputs": [],
   "source": [
    "# do we need to get both floating and boundary species? what is the difference?\n",
    "allSpecies = r.getFloatingSpeciesIds()"
   ]
  },
  {
   "cell_type": "code",
   "execution_count": 23,
   "metadata": {},
   "outputs": [],
   "source": [
    "onlySpecies = list(set(allSpecies)-set(speciesList))"
   ]
  },
  {
   "cell_type": "code",
   "execution_count": null,
   "metadata": {},
   "outputs": [],
   "source": [
    "# this list of dbs are the options a user can choose from as databases to annotate with. they will be used for the identity variable, this should be code that lets the users input their decision\n",
    "dbs = ['kegg', 'bigg.metabolite', 'chebi', 'hmdb']"
   ]
  },
  {
   "cell_type": "code",
   "execution_count": null,
   "metadata": {},
   "outputs": [],
   "source": [
    "with open(r\"C:\\Users\\mkcoo\\Documents\\UW\\GitHub\\ECFERS\\src\\frenda_brenda\\Files\\KEGG_Filtered\\M0_renamed.txt\", 'a') as file:\n",
    "    file.write(f'\\n')  # Add a newline before appending new content\n",
    "\n",
    "    for spc in onlySpecies:\n",
    "        relid = None\n",
    "        identity = None\n",
    "\n",
    "        for i in cc.search_compound(spc).identifiers:\n",
    "            if relid is None and i.registry.namespace == 'metacyc.compound':\n",
    "                relid = i.accession\n",
    "                \n",
    "            if identity is None and i.registry.namespace == dbs[0]:  # or whichever annotation database the user wants\n",
    "                identity = i.accession\n",
    "                \n",
    "            # Break the loop if both relid and identity have been found\n",
    "            if relid is not None and identity is not None:\n",
    "                break\n",
    "\n",
    "            # Write each new line to the file\n",
    "        file.write(f'{spc} is \"{relid}\";\\n')\n",
    "        file.write(f'{spc} identity \"http://identifiers.org/kegg.compound/{identity}\";\\n')"
   ]
  }
 ],
 "metadata": {
  "kernelspec": {
   "display_name": "myenv",
   "language": "python",
   "name": "python3"
  },
  "language_info": {
   "codemirror_mode": {
    "name": "ipython",
    "version": 3
   },
   "file_extension": ".py",
   "mimetype": "text/x-python",
   "name": "python",
   "nbconvert_exporter": "python",
   "pygments_lexer": "ipython3",
   "version": "3.9.18"
  }
 },
 "nbformat": 4,
 "nbformat_minor": 2
}
