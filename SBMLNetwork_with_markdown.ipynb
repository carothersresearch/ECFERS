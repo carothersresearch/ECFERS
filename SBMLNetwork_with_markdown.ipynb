{
 "cells": [
  {
   "cell_type": "markdown",
   "id": "60e843f8-6dc8-4150-8606-7f656dbedf8d",
   "metadata": {},
   "source": [
    "## 0. Import statements"
   ]
  },
  {
   "cell_type": "code",
   "execution_count": 1,
   "id": "c83dbe5d-0ce3-408d-a15a-3a51bf5d88d8",
   "metadata": {},
   "outputs": [],
   "source": [
    "import sbmlnetwork\n",
    "import libsbml\n",
    "\n",
    "import pandas as pd\n",
    "import tellurium as te\n",
    "import seaborn as sns\n",
    "import matplotlib.pyplot as plt\n",
    "import requests\n",
    "from bs4 import BeautifulSoup"
   ]
  },
  {
   "cell_type": "code",
   "execution_count": 2,
   "id": "76f6fe51",
   "metadata": {},
   "outputs": [],
   "source": [
    "rxns = pd.read_csv('src/frenda_brenda/Files/KEGG_Filtered/Reactions_M1.csv')"
   ]
  },
  {
   "cell_type": "markdown",
   "id": "b7ba6bd9",
   "metadata": {},
   "source": [
    "## 1. Retrieve coordinates from KEGG\n",
    "### 1a. Get the (x,y) coordinates for each species in the KEGG map"
   ]
  },
  {
   "cell_type": "code",
   "execution_count": 3,
   "id": "86fd4035",
   "metadata": {},
   "outputs": [],
   "source": [
    "def get_kegg_orthology_ids(reaction_ids):\n",
    "    orthology_dict = {}\n",
    "    for reaction_id in reaction_ids:\n",
    "        url = f\"https://www.kegg.jp/dbget-bin/www_bget?rn:{reaction_id}\"\n",
    "        response = requests.get(url)\n",
    "        soup = BeautifulSoup(response.text, 'html.parser')\n",
    "\n",
    "        # Find the orthology section\n",
    "        orthology_section = soup.find('th', string=\"Orthology\")\n",
    "        if orthology_section:\n",
    "            # Get the orthology ID from the adjacent <td> tag\n",
    "            orthology_ids = orthology_section.find_next('td').find_all('a')\n",
    "            # Filter IDs that start with 'K'\n",
    "            orthology_dict[reaction_id] = [ortho_id.get_text() for ortho_id in orthology_ids if ortho_id.get_text().startswith('K')]\n",
    "        else:\n",
    "            orthology_dict[reaction_id] = []\n",
    "    \n",
    "    return orthology_dict"
   ]
  },
  {
   "cell_type": "code",
   "execution_count": 4,
   "id": "665fb07d",
   "metadata": {},
   "outputs": [],
   "source": [
    "orthology_ids = get_kegg_orthology_ids(rxns['Reaction ID'])"
   ]
  },
  {
   "cell_type": "code",
   "execution_count": 5,
   "id": "b677cfa5",
   "metadata": {},
   "outputs": [],
   "source": [
    "import xml.etree.ElementTree as ET\n",
    "from Bio.KEGG.KGML import KGML_parser\n",
    "from Bio.Graphics.KGML_vis import KGMLCanvas\n",
    "\n",
    "def map_reaction_to_entry_id(xml_file_path, reaction_orthology_dict):\n",
    "    # Parse the XML file\n",
    "    pathway = KGML_parser.read(open(xml_file_path, 'r'))\n",
    "\n",
    "    # Initialize dictionary to hold the reaction ID -> entry ID mapping\n",
    "    reaction_entry_map = {}\n",
    "\n",
    "    # Loop through each entry in the pathway\n",
    "    for entry in pathway.entries.values():\n",
    "        # Check if the entry is of type 'ortholog'\n",
    "        if entry.type == \"ortholog\":\n",
    "            # Extract the orthology IDs (split by space, remove 'ko:' prefix)\n",
    "            orthology_ids_in_entry = entry.name.replace('ko:', '').split()\n",
    "\n",
    "            # Convert to set for comparison\n",
    "            orthology_ids_in_entry_set = set(orthology_ids_in_entry)\n",
    "\n",
    "            # Loop through the reaction dictionary\n",
    "            for reaction_id, orthology_ids in reaction_orthology_dict.items():\n",
    "                if len(orthology_ids)==0:\n",
    "                    continue\n",
    "                # Convert orthology_ids from the reaction dictionary to a set\n",
    "                orthology_ids_set = set(orthology_ids)\n",
    "\n",
    "                # Check if all orthology IDs in the entry are present in orthology_ids_set\n",
    "                # CHANGING THIS AS AN EXPERIMENT: CHECK IF ANY OF THE ORTHOLOGY IDS IN THE ENTRY ARE PRESENT IN ORTHOLOGY_IDS_SET\n",
    "                # if not orthology_ids_set.isdisjoint(orthology_ids_in_entry_set):\n",
    "                # if orthology_ids_set.issubset(orthology_ids_in_entry_set):\n",
    "                if not orthology_ids_set.isdisjoint(orthology_ids_in_entry_set):\n",
    "                    # Add the mapping to the dictionary\n",
    "                    if reaction_id not in reaction_entry_map:\n",
    "                        reaction_entry_map[reaction_id] = []\n",
    "                    reaction_entry_map[reaction_id].append(entry.id)  # Save the entry ID\n",
    "\n",
    "    return reaction_entry_map"
   ]
  },
  {
   "cell_type": "code",
   "execution_count": 6,
   "id": "fc4659b3",
   "metadata": {},
   "outputs": [],
   "source": [
    "xml_file = 'ko01100.xml'\n",
    "reaction_entry_map = map_reaction_to_entry_id(xml_file, orthology_ids)"
   ]
  },
  {
   "cell_type": "code",
   "execution_count": 7,
   "id": "0c71570d",
   "metadata": {},
   "outputs": [],
   "source": [
    "pathway = KGML_parser.read(open(xml_file, 'r'))\n",
    "reaction_dict = reaction_entry_map\n",
    "    \n",
    "# Initialize dictionary to hold the cpd ID and Reaction ID mapping\n",
    "cpd_coordinates_map = {}\n",
    "\n",
    "# Loop through the reaction dictionary\n",
    "for reaction_id, entry_ids in reaction_dict.items():\n",
    "    for entry_id in entry_ids:\n",
    "        # Search for the reaction in the pathway\n",
    "        reaction_entry = next((reaction for reaction in pathway.reactions if reaction.id == entry_id), None)\n",
    "\n",
    "        if reaction_entry:\n",
    "            newrns = []\n",
    "            for rn in reaction_entry._names:\n",
    "                newrns.append(rn.replace('rn:',''))\n",
    "            if reaction_id in newrns:\n",
    "                # Collect substrates\n",
    "                sloop_counter = 0\n",
    "                for substrate in reaction_entry._substrates:\n",
    "                    substrate_entry = next((sub for sub in pathway.entries.values() if sub.id == substrate), None)\n",
    "                    x, y = substrate_entry.graphics[0].x, substrate_entry.graphics[0].y\n",
    "                    \n",
    "                    rxnentry = str(reaction_entry)\n",
    "                    # Split the string into lines and find the line containing 'Substrates'\n",
    "                    substrates_line = next(line for line in rxnentry.splitlines() if 'Substrates:' in line)\n",
    "                    # Extract the part of the line after 'Substrates:'\n",
    "                    substrates_part = substrates_line.split('Substrates: ')[1]\n",
    "                    # Split the substrates by comma and strip the 'cpd:' prefix\n",
    "                    cpd_id = [substrate.strip().replace('cpd:', '') for substrate in substrates_part.split(',')][sloop_counter]\n",
    "                    sloop_counter += 1\n",
    "\n",
    "                    cpd_coordinates_map[f\"{cpd_id}_{reaction_id}_{entry_id}\"] = (x, y)\n",
    "\n",
    "                # Collect products\n",
    "                ploop_counter = 0\n",
    "                for product in reaction_entry._products:\n",
    "                    product_entry = next((prod for prod in pathway.entries.values() if prod.id == product), None)\n",
    "                    x, y = product_entry.graphics[0].x, product_entry.graphics[0].y\n",
    "                    \n",
    "                    rxnentry = str(reaction_entry)\n",
    "                    # Split the string into lines and find the line containing 'Substrates'\n",
    "                    products_line = next(line for line in rxnentry.splitlines() if 'Products:' in line)\n",
    "                    # Extract the part of the line after 'Substrates:'\n",
    "                    products_part = products_line.split('Products: ')[1]\n",
    "                    # Split the substrates by comma and strip the 'cpd:' prefix\n",
    "                    cpd_id = [product.strip().replace('cpd:', '') for product in products_part.split(',')][ploop_counter]\n",
    "                    ploop_counter += 1\n",
    "\n",
    "                    cpd_coordinates_map[f\"{cpd_id}_{reaction_id}_{entry_id}\"] = (x, y)"
   ]
  },
  {
   "cell_type": "code",
   "execution_count": 8,
   "id": "652ab7bf",
   "metadata": {},
   "outputs": [],
   "source": [
    "data = pd.read_csv('/workspaces/ECFERS/kegg_labels_add.csv',dtype='str',encoding='us-ascii',encoding_errors='ignore')\n",
    "data = data.where(data.notnull(), None)"
   ]
  },
  {
   "cell_type": "code",
   "execution_count": 9,
   "id": "d6112a9a",
   "metadata": {},
   "outputs": [],
   "source": [
    "# Create a new dictionary with replaced keys\n",
    "cpd_coordinates_map_tran = {}\n",
    "for key, value in cpd_coordinates_map.items():\n",
    "    new_key = key\n",
    "    # Check for each \"KEGG ID\" in the key string\n",
    "    for _, row in data.iterrows():\n",
    "        kegg_id = row['KEGG ID']\n",
    "        id_value = row['ID']\n",
    "        # Replace any occurrence of the \"KEGG ID\" within the key string\n",
    "        if kegg_id in new_key:\n",
    "            new_key = new_key.replace(kegg_id, id_value)\n",
    "    # Add the modified key-value pair to the new dictionary\n",
    "    cpd_coordinates_map_tran[new_key] = value"
   ]
  },
  {
   "cell_type": "code",
   "execution_count": 10,
   "id": "c9a72e1e",
   "metadata": {},
   "outputs": [
    {
     "data": {
      "text/plain": [
       "{'Glycine_R00945_7890': (3160.0, 1713.0),\n",
       " '_510CH2THF_R00945_7890': (2280.0, 2169.0),\n",
       " 'THF_R00945_7890': (1936.0, 2049.0),\n",
       " 'Serine_R00945_7890': (2965.0, 1713.0),\n",
       " 'THF_R00945_5411': (4553.0, 791.0),\n",
       " '_510CH2THF_R00945_5411': (4788.0, 792.0),\n",
       " 'Serine_R09099_1212': (2965.0, 1713.0),\n",
       " '_510MTHMPT_R09099_1212': (2057.0, 2696.0),\n",
       " 'Pyr_R00209_1556': (2399.0, 1713.0),\n",
       " 'AcCoA_R00209_1556': (2399.0, 1834.0),\n",
       " 'Oxa_R00355_2421': (2234.0, 3105.0),\n",
       " 'LAspartate_R00355_2421': (2284.0, 3105.0),\n",
       " 'Oxa_R00355_4044': (2321.0, 1979.0),\n",
       " 'Glu_R00355_4044': (3271.0, 2333.0),\n",
       " 'LAspartate_R00355_4044': (2709.0, 2013.0),\n",
       " 'Pyr_R00220_4482': (2399.0, 1713.0),\n",
       " 'Serine_R00220_4482': (2965.0, 1713.0),\n",
       " 'PEP_R00200_3083': (2399.0, 1614.0),\n",
       " 'Pyr_R00200_3083': (2399.0, 1713.0),\n",
       " 'dATP_R01138_1128': (3598.0, 377.0),\n",
       " 'dADP_R01138_1128': (3684.0, 377.0),\n",
       " 'dGDP_R01858_1116': (4160.0, 378.0),\n",
       " 'dGTP_R01858_1116': (4257.0, 378.0),\n",
       " 'PEP_R02320_3083': (2399.0, 1614.0),\n",
       " 'Pyr_R02320_3083': (2399.0, 1713.0),\n",
       " 'Mal_R00342_4357': (2216.0, 2075.0),\n",
       " 'Oxa_R00342_4357': (2321.0, 1979.0),\n",
       " 'Mal_R00342_5622': (2171.0, 3134.0),\n",
       " 'Oxa_R00342_5622': (2234.0, 3105.0),\n",
       " 'GA3P_R05605_2005': (2399.0, 1220.0),\n",
       " '_2Dehydro3deoxy6phosphoDgluconate_R05605_2005': (2764.0, 943.0),\n",
       " 'Oxa_R00351_6235': (2321.0, 1979.0),\n",
       " 'AcCoA_R00351_6235': (2399.0, 1834.0),\n",
       " 'Citrate_R00351_6235': (2464.0, 1977.0),\n",
       " 'Glyox_R00471_2121': (2408.0, 2119.0),\n",
       " '_4R4Hydroxy2oxoglutarate_R00471_2121': (2790.0, 2304.0),\n",
       " 'Pyr_R00704_1304': (2399.0, 1713.0),\n",
       " 'DLactate_R00704_1304': (2286.0, 1594.0),\n",
       " 'Indole_R00673_1899': (3748.0, 1413.0),\n",
       " 'Tryptophan_R00673_1899': (3693.0, 1492.0),\n",
       " 'Prephenate_R01731_3042': (3307.0, 1268.0),\n",
       " 'LArogenate_R01731_3042': (3219.0, 1155.0),\n",
       " 'S2Acetolactate_R00226_2209': (3431.0, 1619.0),\n",
       " 'Pyr_R00226_2209': (2399.0, 1713.0),\n",
       " '_2Oxobutanoate_R08648_2205': (3292.0, 1799.0),\n",
       " 'Pyr_R08648_2205': (2399.0, 1713.0),\n",
       " 'S2Aceto2hydroxybutanoate_R08648_2205': (3398.0, 1826.0),\n",
       " 'Mal_R00214_2409': (2171.0, 3134.0),\n",
       " 'CO2_R00214_2409': (2234.0, 2959.0),\n",
       " 'Pyr_R00214_2409': (2109.0, 3105.0),\n",
       " 'Mal_R00216_2409': (2171.0, 3134.0),\n",
       " 'CO2_R00216_2409': (2234.0, 2959.0),\n",
       " 'Pyr_R00216_2409': (2109.0, 3105.0),\n",
       " 'PEP_R00345_2412': (2172.0, 3078.0),\n",
       " 'CO2_R00345_2412': (2234.0, 2959.0),\n",
       " 'Oxa_R00345_2412': (2234.0, 3105.0),\n",
       " 'Oxa_R00345_3007': (2321.0, 1979.0),\n",
       " 'PEP_R00345_3007': (2399.0, 1614.0),\n",
       " 'Formate_R00519_2418': (2132.0, 2959.0),\n",
       " 'CO2_R00519_2418': (2234.0, 2959.0),\n",
       " 'H_R00519_2418': (2162.0, 2884.0),\n",
       " 'PEP_R00341_2422': (2172.0, 3078.0),\n",
       " 'Oxa_R00341_2422': (2234.0, 3105.0),\n",
       " 'Oxa_R00341_3007': (2321.0, 1979.0),\n",
       " 'PEP_R00341_3007': (2399.0, 1614.0),\n",
       " 'Oxa_R00217_3008': (2321.0, 1979.0),\n",
       " 'Pyr_R00217_3008': (2399.0, 1713.0),\n",
       " 'Oxa_R00344_3008': (2321.0, 1979.0),\n",
       " 'Pyr_R00344_3008': (2399.0, 1713.0),\n",
       " 'PEP_R00199_3083': (2399.0, 1614.0),\n",
       " 'Pyr_R00199_3083': (2399.0, 1713.0),\n",
       " 'Fum_R01082_4366': (2198.0, 2209.0),\n",
       " 'Mal_R01082_4366': (2216.0, 2075.0),\n",
       " 'NAcetylneuraminate_R01811_5536': (2341.0, 1578.0),\n",
       " 'NAcetylDmannosamine_R01811_5536': (2341.0, 1383.0),\n",
       " 'Oxa_R00352_6235': (2321.0, 1979.0),\n",
       " 'AcCoA_R00352_6235': (2399.0, 1834.0),\n",
       " 'Citrate_R00352_6235': (2464.0, 1977.0)}"
      ]
     },
     "execution_count": 10,
     "metadata": {},
     "output_type": "execute_result"
    }
   ],
   "source": [
    "cpd_coordinates_map_tran"
   ]
  },
  {
   "cell_type": "markdown",
   "id": "2554e227-a8c9-428f-95c3-941e2a4f69d2",
   "metadata": {},
   "source": [
    "## 2. Apply KEGG coordinates to SBMLNetwork layout"
   ]
  },
  {
   "cell_type": "markdown",
   "id": "db35284d-ecf6-4545-bae1-88f28425b61f",
   "metadata": {},
   "source": [
    "### 2a. Remove enzymes, inhibitors, and cofactors from the visual."
   ]
  },
  {
   "cell_type": "code",
   "execution_count": 11,
   "id": "9de6714b-c8e0-42ac-8c76-a2f32f7977d2",
   "metadata": {},
   "outputs": [],
   "source": [
    "#remove any unused species\n",
    "def remove_unused_species(sbml_file, output_file):\n",
    "    # Read SBML file\n",
    "    reader = libsbml.SBMLReader()\n",
    "    document = reader.readSBML(sbml_file)\n",
    "    model = document.getModel()\n",
    "    \n",
    "    if model is None:\n",
    "        print(\"Failed to read model from SBML file.\")\n",
    "        return\n",
    "\n",
    "    # Collect IDs of all species involved in reactions\n",
    "    used_species = set()\n",
    "    for reaction in model.getListOfReactions():\n",
    "        for reactant in reaction.getListOfReactants():\n",
    "            used_species.add(reactant.getSpecies())\n",
    "        for product in reaction.getListOfProducts():\n",
    "            used_species.add(product.getSpecies())\n",
    "        for modifier in reaction.getListOfModifiers():\n",
    "            used_species.add(modifier.getSpecies())\n",
    "    \n",
    "    # Collect IDs of all species in the model\n",
    "    all_species = {species.getId() for species in model.getListOfSpecies()}\n",
    "    \n",
    "    # Determine unused species\n",
    "    unused_species = all_species - used_species\n",
    "    \n",
    "    # Remove unused species\n",
    "    for species_id in unused_species:\n",
    "        species = model.getSpecies(species_id)\n",
    "        model.removeSpecies(species_id)\n",
    "\n",
    "    # Write the updated model to a new SBML file\n",
    "    writer = libsbml.SBMLWriter()\n",
    "    writer.writeSBMLToFile(document, output_file)\n",
    "    print(f\"Updated SBML file saved to {output_file}\")"
   ]
  },
  {
   "cell_type": "code",
   "execution_count": 12,
   "id": "a9999ed4-e65a-4e38-b084-b8ebd20f23ea",
   "metadata": {},
   "outputs": [
    {
     "name": "stdout",
     "output_type": "stream",
     "text": [
      "Updated SBML file saved to /workspaces/ECFERS/src/frenda_brenda/Files/KEGG_Filtered/M1_renamed_noextras.sbml\n"
     ]
    }
   ],
   "source": [
    "M1_original = '/workspaces/ECFERS/src/frenda_brenda/Files/KEGG_Filtered/M1_renamed.sbml'\n",
    "M1_modified = '/workspaces/ECFERS/src/frenda_brenda/Files/KEGG_Filtered/M1_renamed_noextras.sbml'\n",
    "remove_unused_species(M1_original, M1_modified)"
   ]
  },
  {
   "cell_type": "code",
   "execution_count": 13,
   "id": "69a66538-9063-4d4c-a3d4-03f1a349ae39",
   "metadata": {},
   "outputs": [],
   "source": [
    "#remove enzymes\n",
    "def remove_ecs(input_filename, output_filename):\n",
    "    # Load SBML document\n",
    "    document = libsbml.readSBML(input_filename)\n",
    "    if document.getNumErrors() > 0:\n",
    "        raise Exception('Error reading SBML file.')\n",
    "    \n",
    "    # Get model from document\n",
    "    model = document.getModel()\n",
    "    if model is None:\n",
    "        raise Exception('No model found in the SBML document.')\n",
    "    \n",
    "    # Loop through reactions\n",
    "    for i in range(model.getNumReactions()):\n",
    "        reaction = model.getReaction(i)\n",
    "        reactants = set(reaction.getReactant(j).getSpecies() for j in range(reaction.getNumReactants()))\n",
    "        products = set(reaction.getProduct(j).getSpecies() for j in range(reaction.getNumProducts()))\n",
    "        \n",
    "        mutual_species = reactants & products\n",
    "        \n",
    "        for species in mutual_species:\n",
    "            for j in range(reaction.getNumReactants()):\n",
    "                if reaction.getReactant(j).getSpecies() == species:\n",
    "                    reaction.removeReactant(j)\n",
    "                    break  # Break after removing to avoid index issues\n",
    "\n",
    "            for j in range(reaction.getNumProducts()):\n",
    "                if reaction.getProduct(j).getSpecies() == species:\n",
    "                    reaction.removeProduct(j)\n",
    "                    break  # Break after removing to avoid index issues\n",
    "\n",
    "    # Save the modified SBML document\n",
    "    success = libsbml.writeSBMLToFile(document, output_filename)\n",
    "    print(f\"Updated SBML file saved to {output_filename}\")\n",
    "    if not success:\n",
    "        raise Exception('Error writing SBML file.')"
   ]
  },
  {
   "cell_type": "code",
   "execution_count": 14,
   "id": "05252065",
   "metadata": {},
   "outputs": [],
   "source": [
    "reader = libsbml.SBMLReader()\n",
    "document = reader.readSBML('/workspaces/ECFERS/src/frenda_brenda/Files/KEGG_Filtered/M1_renamed_ECfilt.sbml')\n",
    "model = document.getModel()"
   ]
  },
  {
   "cell_type": "code",
   "execution_count": 15,
   "id": "01fff1f8-8895-4dc8-a883-6f144a901fcb",
   "metadata": {},
   "outputs": [],
   "source": [
    "def remove_ECs_2(file_in, file_out):\n",
    "    # Read the SBML file\n",
    "    reader = libsbml.SBMLReader()\n",
    "    document = reader.readSBML(file_in)\n",
    "    model = document.getModel()\n",
    "    \n",
    "    if model is None:\n",
    "        raise ValueError(\"Could not find a valid model in the SBML file.\")\n",
    "    \n",
    "    # Collect the species to remove\n",
    "    species_to_remove = []\n",
    "    for species in model.getListOfSpecies():\n",
    "        if species.id.startswith((\"e\", \"h\")):\n",
    "            species_to_remove.append(species.id)\n",
    "\n",
    "    # Remove the collected species\n",
    "    for species in species_to_remove:\n",
    "        model.removeSpecies(species)\n",
    "\n",
    "    # Write the modified SBML to a new file\n",
    "    writer = libsbml.SBMLWriter()\n",
    "    writer.writeSBMLToFile(document, file_out)\n",
    "    \n",
    "    print(f\"Modified SBML saved to {file_out}\")"
   ]
  },
  {
   "cell_type": "code",
   "execution_count": 16,
   "id": "2ae69bc8-abc6-42a6-af98-ca63608b5484",
   "metadata": {},
   "outputs": [
    {
     "name": "stdout",
     "output_type": "stream",
     "text": [
      "Updated SBML file saved to /workspaces/ECFERS/src/frenda_brenda/Files/KEGG_Filtered/M1_renamed_ECfilt.sbml\n",
      "Modified SBML saved to /workspaces/ECFERS/src/frenda_brenda/Files/KEGG_Filtered/M1_renamed_fin.sbml\n"
     ]
    }
   ],
   "source": [
    "M1_wECs = '/workspaces/ECFERS/src/frenda_brenda/Files/KEGG_Filtered/M1_renamed_noextras.sbml'\n",
    "M1_woutECS = '/workspaces/ECFERS/src/frenda_brenda/Files/KEGG_Filtered/M1_renamed_ECfilt.sbml'\n",
    "remove_ecs(M1_wECs, M1_woutECS)\n",
    "remove_ECs_2(M1_woutECS, '/workspaces/ECFERS/src/frenda_brenda/Files/KEGG_Filtered/M1_renamed_fin.sbml')"
   ]
  },
  {
   "cell_type": "code",
   "execution_count": 17,
   "id": "7f0947e3-6764-4110-94c2-385085876003",
   "metadata": {},
   "outputs": [],
   "source": [
    "#Change this path to get new model\n",
    "M1 = sbmlnetwork.load('/workspaces/ECFERS/src/frenda_brenda/Files/KEGG_Filtered/M1_renamed_fin.sbml')"
   ]
  },
  {
   "cell_type": "markdown",
   "id": "16aa807b-9082-4bf4-a709-73d4eedccbfb",
   "metadata": {},
   "source": [
    "### 2b. Match reaction labels (our convention) with reaction IDs (KEGG convention)"
   ]
  },
  {
   "cell_type": "code",
   "execution_count": 33,
   "id": "f6f0d598",
   "metadata": {},
   "outputs": [
    {
     "data": {
      "text/plain": [
       "{'R10': 'R05605',\n",
       " 'R11': 'R00471',\n",
       " 'R62': 'R00226',\n",
       " 'R63': 'R08648',\n",
       " 'R105': 'R01731',\n",
       " 'R113': 'R00355',\n",
       " 'R123': 'R00352',\n",
       " 'R157': 'R00351',\n",
       " 'R171': 'R00209',\n",
       " 'R175': 'R00209',\n",
       " 'R181': 'R00704',\n",
       " 'R204': 'R01082',\n",
       " 'R227': 'R00945',\n",
       " 'R228': 'R09099',\n",
       " 'R268': 'R00342',\n",
       " 'R270': 'R00214',\n",
       " 'R271': 'R00217',\n",
       " 'R272': 'R00216',\n",
       " 'R273': 'R00217',\n",
       " 'R283': 'R01811',\n",
       " 'R307': 'R00341',\n",
       " 'R308': 'R00345',\n",
       " 'R346': 'R00209',\n",
       " 'R347': 'R00200',\n",
       " 'R348': 'R01138',\n",
       " 'R349': 'R01858',\n",
       " 'R350': 'R02320',\n",
       " 'R351': 'R00199',\n",
       " 'R378': 'R00220',\n",
       " 'R385': 'R00673',\n",
       " 'R406': 'R00220',\n",
       " 'R197': 'R00519',\n",
       " 'R269': 'R00342',\n",
       " 'R345': 'R00344'}"
      ]
     },
     "execution_count": 33,
     "metadata": {},
     "output_type": "execute_result"
    }
   ],
   "source": [
    "label_to_reaction_id"
   ]
  },
  {
   "cell_type": "code",
   "execution_count": 31,
   "id": "61d69837",
   "metadata": {},
   "outputs": [
    {
     "data": {
      "text/plain": [
       "['R21',\n",
       " 'R22',\n",
       " 'R23',\n",
       " 'R32',\n",
       " 'R50',\n",
       " 'R61',\n",
       " 'R71',\n",
       " 'R76',\n",
       " 'R77',\n",
       " 'R78',\n",
       " 'R79',\n",
       " 'R87',\n",
       " 'R110',\n",
       " 'R00355',\n",
       " 'R130',\n",
       " 'R131',\n",
       " 'R132',\n",
       " 'R133',\n",
       " 'R134',\n",
       " 'R135',\n",
       " 'R136',\n",
       " 'R137',\n",
       " 'R167',\n",
       " 'R207',\n",
       " 'R208',\n",
       " 'R309',\n",
       " 'R310',\n",
       " 'R358',\n",
       " 'R359',\n",
       " 'R360',\n",
       " 'R361',\n",
       " 'R362',\n",
       " 'R364',\n",
       " 'R376',\n",
       " 'R377',\n",
       " 'R379',\n",
       " 'R401',\n",
       " 'R402',\n",
       " 'R405',\n",
       " 'R415',\n",
       " 'R578',\n",
       " 'R599',\n",
       " 'R703',\n",
       " 'R704',\n",
       " 'R705',\n",
       " 'R706',\n",
       " 'R707',\n",
       " 'R708',\n",
       " 'R709',\n",
       " 'R710']"
      ]
     },
     "execution_count": 31,
     "metadata": {},
     "output_type": "execute_result"
    }
   ],
   "source": [
    "M1_reactionIDs"
   ]
  },
  {
   "cell_type": "code",
   "execution_count": 18,
   "id": "80d1b3a2-b1a2-40fa-b0aa-f8f6a618977e",
   "metadata": {},
   "outputs": [
    {
     "name": "stdout",
     "output_type": "stream",
     "text": [
      "List of reaction labels: ['R21', 'R22', 'R23', 'R32', 'R50', 'R61', 'R71', 'R76', 'R77', 'R78', 'R79', 'R87', 'R110', 'R113', 'R130', 'R131', 'R132', 'R133', 'R134', 'R135', 'R136', 'R137', 'R167', 'R207', 'R208', 'R309', 'R310', 'R358', 'R359', 'R360', 'R361', 'R362', 'R364', 'R376', 'R377', 'R379', 'R401', 'R402', 'R405', 'R415', 'R578', 'R599', 'R703', 'R704', 'R705', 'R706', 'R707', 'R708', 'R709', 'R710']\n",
      "\n",
      "List of corresponding reaction IDs: ['R21', 'R22', 'R23', 'R32', 'R50', 'R61', 'R71', 'R76', 'R77', 'R78', 'R79', 'R87', 'R110', 'R00355', 'R130', 'R131', 'R132', 'R133', 'R134', 'R135', 'R136', 'R137', 'R167', 'R207', 'R208', 'R309', 'R310', 'R358', 'R359', 'R360', 'R361', 'R362', 'R364', 'R376', 'R377', 'R379', 'R401', 'R402', 'R405', 'R415', 'R578', 'R599', 'R703', 'R704', 'R705', 'R706', 'R707', 'R708', 'R709', 'R710']\n",
      "\n",
      "{'R21': 'R21', 'R22': 'R22', 'R23': 'R23', 'R32': 'R32', 'R50': 'R50', 'R61': 'R61', 'R71': 'R71', 'R76': 'R76', 'R77': 'R77', 'R78': 'R78', 'R79': 'R79', 'R87': 'R87', 'R110': 'R110', 'R113': 'R00355', 'R130': 'R130', 'R131': 'R131', 'R132': 'R132', 'R133': 'R133', 'R134': 'R134', 'R135': 'R135', 'R136': 'R136', 'R137': 'R137', 'R167': 'R167', 'R207': 'R207', 'R208': 'R208', 'R309': 'R309', 'R310': 'R310', 'R358': 'R358', 'R359': 'R359', 'R360': 'R360', 'R361': 'R361', 'R362': 'R362', 'R364': 'R364', 'R376': 'R376', 'R377': 'R377', 'R379': 'R379', 'R401': 'R401', 'R402': 'R402', 'R405': 'R405', 'R415': 'R415', 'R578': 'R578', 'R599': 'R599', 'R703': 'R703', 'R704': 'R704', 'R705': 'R705', 'R706': 'R706', 'R707': 'R707', 'R708': 'R708', 'R709': 'R709', 'R710': 'R710'}\n"
     ]
    }
   ],
   "source": [
    "M1_reaction_labels = M1.getListOfReactionIds()\n",
    "\n",
    "df = pd.read_csv('src/frenda_brenda/Files/KEGG_Filtered/Reactions_M1.csv')\n",
    "label_to_reaction_id = dict(zip(df['Label'], df['Reaction ID']))\n",
    "M1_reactionIDs = [label_to_reaction_id.get(item, item) for item in M1_reaction_labels]\n",
    "\n",
    "print(f'List of reaction labels: {M1_reaction_labels}')\n",
    "print()\n",
    "print(f'List of corresponding reaction IDs: {M1_reactionIDs}')\n",
    "\n",
    "label_to_ID_dict = {}\n",
    "i = 0\n",
    "for label in M1_reaction_labels:\n",
    "    label_to_ID_dict[label] = M1_reactionIDs[i]\n",
    "    i = i+1\n",
    "\n",
    "print()\n",
    "print(label_to_ID_dict)"
   ]
  },
  {
   "cell_type": "code",
   "execution_count": 19,
   "id": "8b40c48a-51a6-4690-a0b4-e1d6c9803e4d",
   "metadata": {},
   "outputs": [],
   "source": [
    "def getSpecsinRxn(reaction):\n",
    "    #get the number of species involved in the reaction\n",
    "    numSpecs = M1.getNumSpeciesReferences(reaction, reaction_glyph_index=0, layout_index=0)\n",
    "    specList = []\n",
    "    for i in range(numSpecs):\n",
    "        #get the ID of each species\n",
    "        specID = M1.getSpeciesReferenceSpeciesId(reaction, reaction_glyph_index=0, species_reference_index=i, layout_index=0)\n",
    "        specList.append(specID)\n",
    "    return specList"
   ]
  },
  {
   "cell_type": "code",
   "execution_count": 20,
   "id": "703062b7",
   "metadata": {},
   "outputs": [
    {
     "name": "stdout",
     "output_type": "stream",
     "text": [
      "{'R21': ['Pyr', 'LAmE', 'CO2', 'SadhlamE'], 'R22': ['Pyr', 'ThPP', 'CO2', '_2HEThPP'], 'R23': ['NAD', 'CoA', 'Pyr', 'NADH', 'CO2', 'AcCoA', 'H'], 'R32': ['NAD', 'CoA', 'Pyr', 'NADH', 'CO2', 'AcCoA', 'H'], 'R50': ['NAD', 'CoA', 'Pyr', 'NADH', 'CO2', 'AcCoA', 'H'], 'R61': ['NAD', 'Mal', 'NADH', 'Oxa', 'H'], 'R71': ['H2O', 'ATP', 'Pyr', 'PO4', 'AMP', 'PEP'], 'R76': ['ATP', 'Oxa', 'ADP', 'CO2', 'PEP'], 'R77': ['H2O', 'Glycine', '_510CH2THF', 'Serine', 'THF'], 'R78': ['Serine', 'THMPT', 'H2O', 'Glycine', '_510MTHMPT'], 'R79': ['Mal', 'H2O', 'Fum'], 'R87': ['aKG', 'LAspartate', 'Glu', 'Oxa'], 'R110': ['PO4', 'Oxa', 'H2O', 'CO2', 'PEP'], 'R113': ['PEP', 'Proteinhistidine', 'Pyr', 'ProteinNprosphosphohistidine'], 'R130': ['ATP', 'Pyr', 'ADP', 'PEP'], 'R131': ['Pyr', 'GTP', 'GDP', 'PEP'], 'R132': ['Pyr', 'CTP', 'PEP', 'CDP'], 'R133': ['Pyr', 'UTP', 'UDP', 'PEP'], 'R134': ['Pyr', 'ITP', 'PEP', 'IDP'], 'R135': ['Pyr', 'dATP', 'PEP', 'dADP'], 'R136': ['Pyr', 'dGTP', 'PEP', 'dGDP'], 'R137': ['Pyr', 'NTP', 'PEP', 'NDP'], 'R167': ['H2O', 'Tryptophan', 'NH3', 'Pyr', 'Indole'], 'R207': ['NADP', 'Mal', 'NADPH', 'CO2', 'Pyr', 'H'], 'R208': ['Oxa', 'CO2', 'Pyr'], 'R309': ['_2Dehydro3deoxy6phosphoDgluconate', 'Pyr', 'GA3P'], 'R310': ['_4R4Hydroxy2oxoglutarate', 'Pyr', 'Glyox'], 'R358': ['CO2', '_2Acetolactate', 'Pyr'], 'R359': ['CO2', 'S2Acetolactate', 'Pyr'], 'R360': ['Pyr', 'ThPP', 'CO2', '_2HEThPP'], 'R361': ['ThPP', '_2Acetolactate', 'Pyr', '_2HEThPP'], 'R362': ['ThPP', 'S2Acetolactate', 'Pyr', '_2HEThPP'], 'R364': ['Pyr', '_2Oxobutanoate', 'CO2', 'S2Aceto2hydroxybutanoate'], 'R376': ['Serine', 'NH3', 'Pyr'], 'R377': ['Serine', 'H2O', 'Dha'], 'R379': ['H2O', 'Dha', 'NH3', 'Pyr'], 'R401': ['NAD', 'Mal', 'NADH', 'CO2', 'Pyr', 'H'], 'R402': ['Oxa', 'CO2', 'Pyr'], 'R405': ['Serine', 'NH3', 'Pyr'], 'R415': ['NAcetylneuraminate', 'Pyr', 'NAcetylDmannosamine'], 'R578': ['Oxa', 'LArogenate', 'LAspartate', 'Prephenate'], 'R599': ['NAD', 'DLactate', 'NADH', 'Pyr', 'H'], 'R703': ['Citrate', 'CoA', 'AcCoA', 'H2O', 'Oxa'], 'R704': ['ATP', 'Pyr', 'Bicarbonate', 'ADP', 'PO4', 'Oxa'], 'R705': ['Formate', 'NAD', 'H', 'CO2', 'NADH'], 'R706': ['Serine', 'NH3', 'Pyr'], 'R707': ['Serine', 'H2O', 'Dha'], 'R708': ['aAAc', 'NH3', '_2OxoAc'], 'R709': ['H2O', 'Dha', 'NH3', 'Pyr'], 'R710': ['NAD', 'Mal', 'NADH', 'Oxa', 'H']}\n"
     ]
    }
   ],
   "source": [
    "specs_in_rxns = {}\n",
    "for label in M1_reaction_labels:\n",
    "    specs_in_rxns[label] = getSpecsinRxn(label)\n",
    "\n",
    "print(specs_in_rxns)"
   ]
  },
  {
   "cell_type": "markdown",
   "id": "be19dd27-7519-4d15-a256-f7f280f5e915",
   "metadata": {},
   "source": [
    "### 2c. Set the coordinates in SBMLNetwork.\n",
    "\n",
    "Save those coordinates in a list to fix autolayout locked_nodes parameter."
   ]
  },
  {
   "cell_type": "code",
   "execution_count": 21,
   "id": "91526cf7-f021-4d6d-935f-83a42afe2085",
   "metadata": {},
   "outputs": [],
   "source": [
    "#get the graphical_object_index for species w/ alias nodes\n",
    "def aliasIndexExtract(speciesID, reactionID, model):\n",
    "    for i in range(model.getNumSpeciesReferences(reactionID)):\n",
    "        specglyphID = model.getSpeciesReferenceSpeciesGlyphId(reactionID, species_reference_index=i)\n",
    "        for j in range(model.getNumSpeciesGlyphs(speciesID)):\n",
    "            objID = model.getNthSpeciesGlyphId(speciesID, j)\n",
    "            if objID == specglyphID:\n",
    "                return j\n",
    "    return -1"
   ]
  },
  {
   "cell_type": "markdown",
   "id": "15c6e495",
   "metadata": {},
   "source": [
    "### Apply a unique alias ID to every species"
   ]
  },
  {
   "cell_type": "code",
   "execution_count": 24,
   "id": "166d78dd",
   "metadata": {},
   "outputs": [
    {
     "data": {
      "text/plain": [
       "'ThPP'"
      ]
     },
     "execution_count": 24,
     "metadata": {},
     "output_type": "execute_result"
    }
   ],
   "source": [
    "spec"
   ]
  },
  {
   "cell_type": "code",
   "execution_count": 25,
   "id": "9447bfde",
   "metadata": {},
   "outputs": [
    {
     "data": {
      "text/plain": [
       "'ThPP_R22'"
      ]
     },
     "execution_count": 25,
     "metadata": {},
     "output_type": "execute_result"
    }
   ],
   "source": [
    "spec_react"
   ]
  },
  {
   "cell_type": "code",
   "execution_count": 26,
   "id": "9a57081d",
   "metadata": {},
   "outputs": [
    {
     "data": {
      "text/plain": [
       "{'Glycine_R00945_7890': (3160.0, 1713.0),\n",
       " '_510CH2THF_R00945_7890': (2280.0, 2169.0),\n",
       " 'THF_R00945_7890': (1936.0, 2049.0),\n",
       " 'Serine_R00945_7890': (2965.0, 1713.0),\n",
       " 'THF_R00945_5411': (4553.0, 791.0),\n",
       " '_510CH2THF_R00945_5411': (4788.0, 792.0),\n",
       " 'Serine_R09099_1212': (2965.0, 1713.0),\n",
       " '_510MTHMPT_R09099_1212': (2057.0, 2696.0),\n",
       " 'Pyr_R00209_1556': (2399.0, 1713.0),\n",
       " 'AcCoA_R00209_1556': (2399.0, 1834.0),\n",
       " 'Oxa_R00355_2421': (2234.0, 3105.0),\n",
       " 'LAspartate_R00355_2421': (2284.0, 3105.0),\n",
       " 'Oxa_R00355_4044': (2321.0, 1979.0),\n",
       " 'Glu_R00355_4044': (3271.0, 2333.0),\n",
       " 'LAspartate_R00355_4044': (2709.0, 2013.0),\n",
       " 'Pyr_R00220_4482': (2399.0, 1713.0),\n",
       " 'Serine_R00220_4482': (2965.0, 1713.0),\n",
       " 'PEP_R00200_3083': (2399.0, 1614.0),\n",
       " 'Pyr_R00200_3083': (2399.0, 1713.0),\n",
       " 'dATP_R01138_1128': (3598.0, 377.0),\n",
       " 'dADP_R01138_1128': (3684.0, 377.0),\n",
       " 'dGDP_R01858_1116': (4160.0, 378.0),\n",
       " 'dGTP_R01858_1116': (4257.0, 378.0),\n",
       " 'PEP_R02320_3083': (2399.0, 1614.0),\n",
       " 'Pyr_R02320_3083': (2399.0, 1713.0),\n",
       " 'Mal_R00342_4357': (2216.0, 2075.0),\n",
       " 'Oxa_R00342_4357': (2321.0, 1979.0),\n",
       " 'Mal_R00342_5622': (2171.0, 3134.0),\n",
       " 'Oxa_R00342_5622': (2234.0, 3105.0),\n",
       " 'GA3P_R05605_2005': (2399.0, 1220.0),\n",
       " '_2Dehydro3deoxy6phosphoDgluconate_R05605_2005': (2764.0, 943.0),\n",
       " 'Oxa_R00351_6235': (2321.0, 1979.0),\n",
       " 'AcCoA_R00351_6235': (2399.0, 1834.0),\n",
       " 'Citrate_R00351_6235': (2464.0, 1977.0),\n",
       " 'Glyox_R00471_2121': (2408.0, 2119.0),\n",
       " '_4R4Hydroxy2oxoglutarate_R00471_2121': (2790.0, 2304.0),\n",
       " 'Pyr_R00704_1304': (2399.0, 1713.0),\n",
       " 'DLactate_R00704_1304': (2286.0, 1594.0),\n",
       " 'Indole_R00673_1899': (3748.0, 1413.0),\n",
       " 'Tryptophan_R00673_1899': (3693.0, 1492.0),\n",
       " 'Prephenate_R01731_3042': (3307.0, 1268.0),\n",
       " 'LArogenate_R01731_3042': (3219.0, 1155.0),\n",
       " 'S2Acetolactate_R00226_2209': (3431.0, 1619.0),\n",
       " 'Pyr_R00226_2209': (2399.0, 1713.0),\n",
       " '_2Oxobutanoate_R08648_2205': (3292.0, 1799.0),\n",
       " 'Pyr_R08648_2205': (2399.0, 1713.0),\n",
       " 'S2Aceto2hydroxybutanoate_R08648_2205': (3398.0, 1826.0),\n",
       " 'Mal_R00214_2409': (2171.0, 3134.0),\n",
       " 'CO2_R00214_2409': (2234.0, 2959.0),\n",
       " 'Pyr_R00214_2409': (2109.0, 3105.0),\n",
       " 'Mal_R00216_2409': (2171.0, 3134.0),\n",
       " 'CO2_R00216_2409': (2234.0, 2959.0),\n",
       " 'Pyr_R00216_2409': (2109.0, 3105.0),\n",
       " 'PEP_R00345_2412': (2172.0, 3078.0),\n",
       " 'CO2_R00345_2412': (2234.0, 2959.0),\n",
       " 'Oxa_R00345_2412': (2234.0, 3105.0),\n",
       " 'Oxa_R00345_3007': (2321.0, 1979.0),\n",
       " 'PEP_R00345_3007': (2399.0, 1614.0),\n",
       " 'Formate_R00519_2418': (2132.0, 2959.0),\n",
       " 'CO2_R00519_2418': (2234.0, 2959.0),\n",
       " 'H_R00519_2418': (2162.0, 2884.0),\n",
       " 'PEP_R00341_2422': (2172.0, 3078.0),\n",
       " 'Oxa_R00341_2422': (2234.0, 3105.0),\n",
       " 'Oxa_R00341_3007': (2321.0, 1979.0),\n",
       " 'PEP_R00341_3007': (2399.0, 1614.0),\n",
       " 'Oxa_R00217_3008': (2321.0, 1979.0),\n",
       " 'Pyr_R00217_3008': (2399.0, 1713.0),\n",
       " 'Oxa_R00344_3008': (2321.0, 1979.0),\n",
       " 'Pyr_R00344_3008': (2399.0, 1713.0),\n",
       " 'PEP_R00199_3083': (2399.0, 1614.0),\n",
       " 'Pyr_R00199_3083': (2399.0, 1713.0),\n",
       " 'Fum_R01082_4366': (2198.0, 2209.0),\n",
       " 'Mal_R01082_4366': (2216.0, 2075.0),\n",
       " 'NAcetylneuraminate_R01811_5536': (2341.0, 1578.0),\n",
       " 'NAcetylDmannosamine_R01811_5536': (2341.0, 1383.0),\n",
       " 'Oxa_R00352_6235': (2321.0, 1979.0),\n",
       " 'AcCoA_R00352_6235': (2399.0, 1834.0),\n",
       " 'Citrate_R00352_6235': (2464.0, 1977.0)}"
      ]
     },
     "execution_count": 26,
     "metadata": {},
     "output_type": "execute_result"
    }
   ],
   "source": [
    "cpd_coordinates_map_tran"
   ]
  },
  {
   "cell_type": "code",
   "execution_count": 34,
   "id": "6e826e90",
   "metadata": {},
   "outputs": [
    {
     "data": {
      "text/plain": [
       "'R22'"
      ]
     },
     "execution_count": 34,
     "metadata": {},
     "output_type": "execute_result"
    }
   ],
   "source": [
    "rxn_label"
   ]
  },
  {
   "cell_type": "code",
   "execution_count": 22,
   "id": "56e5f2d1",
   "metadata": {},
   "outputs": [
    {
     "name": "stdout",
     "output_type": "stream",
     "text": [
      "Pyr_R21 in R21/R21 has graphical_object_index 0 and no available coordinates from KEGG\n",
      "0\n",
      "LAmE_R21 in R21/R21 has graphical_object_index 0 and no available coordinates from KEGG\n",
      "0\n",
      "CO2_R21 in R21/R21 has graphical_object_index 0 and no available coordinates from KEGG\n",
      "0\n",
      "SadhlamE_R21 in R21/R21 has graphical_object_index 0 and no available coordinates from KEGG\n",
      "0\n",
      "Pyr_R22 in R22/R22 has graphical_object_index 0 and no available coordinates from KEGG\n",
      "0\n"
     ]
    },
    {
     "ename": "KeyboardInterrupt",
     "evalue": "",
     "output_type": "error",
     "traceback": [
      "\u001b[0;31m---------------------------------------------------------------------------\u001b[0m",
      "\u001b[0;31mKeyboardInterrupt\u001b[0m                         Traceback (most recent call last)",
      "\u001b[0;32m/tmp/ipykernel_54185/587070786.py\u001b[0m in \u001b[0;36m?\u001b[0;34m()\u001b[0m\n\u001b[1;32m     16\u001b[0m                 \u001b[0mcoords\u001b[0m \u001b[0;34m=\u001b[0m \u001b[0mcpd_coordinates_map_tran\u001b[0m\u001b[0;34m[\u001b[0m\u001b[0mkey\u001b[0m\u001b[0;34m]\u001b[0m\u001b[0;34m\u001b[0m\u001b[0;34m\u001b[0m\u001b[0m\n\u001b[1;32m     17\u001b[0m                 \u001b[0mset_nodes\u001b[0m\u001b[0;34m.\u001b[0m\u001b[0mappend\u001b[0m\u001b[0;34m(\u001b[0m\u001b[0mspec\u001b[0m\u001b[0;34m)\u001b[0m\u001b[0;34m\u001b[0m\u001b[0;34m\u001b[0m\u001b[0m\n\u001b[1;32m     18\u001b[0m                 \u001b[0mM1\u001b[0m\u001b[0;34m.\u001b[0m\u001b[0msetX\u001b[0m\u001b[0;34m(\u001b[0m\u001b[0mspec\u001b[0m\u001b[0;34m,\u001b[0m \u001b[0mcoords\u001b[0m\u001b[0;34m[\u001b[0m\u001b[0;36m0\u001b[0m\u001b[0;34m]\u001b[0m\u001b[0;34m,\u001b[0m \u001b[0mgraphical_object_index\u001b[0m\u001b[0;34m=\u001b[0m\u001b[0mindex\u001b[0m\u001b[0;34m)\u001b[0m\u001b[0;34m\u001b[0m\u001b[0;34m\u001b[0m\u001b[0m\n\u001b[1;32m     19\u001b[0m                 \u001b[0mM1\u001b[0m\u001b[0;34m.\u001b[0m\u001b[0msetY\u001b[0m\u001b[0;34m(\u001b[0m\u001b[0mspec\u001b[0m\u001b[0;34m,\u001b[0m \u001b[0mcoords\u001b[0m\u001b[0;34m[\u001b[0m\u001b[0;36m1\u001b[0m\u001b[0;34m]\u001b[0m\u001b[0;34m,\u001b[0m \u001b[0mgraphical_object_index\u001b[0m\u001b[0;34m=\u001b[0m\u001b[0mindex\u001b[0m\u001b[0;34m)\u001b[0m\u001b[0;34m\u001b[0m\u001b[0;34m\u001b[0m\u001b[0m\n\u001b[0;32m---> 20\u001b[0;31m                 \u001b[0mprint\u001b[0m\u001b[0;34m(\u001b[0m\u001b[0;34mf'{spec_react} in {rxn_label}/{corresponding_ID} has graphical_object_index {index} and coordinates of {coords} from KEGG'\u001b[0m\u001b[0;34m)\u001b[0m\u001b[0;34m\u001b[0m\u001b[0;34m\u001b[0m\u001b[0m\n\u001b[0m\u001b[1;32m     21\u001b[0m         \u001b[0;32melse\u001b[0m\u001b[0;34m:\u001b[0m\u001b[0;34m\u001b[0m\u001b[0;34m\u001b[0m\u001b[0m\n\u001b[1;32m     22\u001b[0m             \u001b[0mM1\u001b[0m\u001b[0;34m.\u001b[0m\u001b[0mmakeSpeciesGlyphVisible\u001b[0m\u001b[0;34m(\u001b[0m\u001b[0mspec\u001b[0m\u001b[0;34m,\u001b[0m \u001b[0mrxn_label\u001b[0m\u001b[0;34m,\u001b[0m \u001b[0mvisible\u001b[0m\u001b[0;34m=\u001b[0m\u001b[0;32mTrue\u001b[0m\u001b[0;34m,\u001b[0m \u001b[0mreaction_glyph_index\u001b[0m\u001b[0;34m=\u001b[0m\u001b[0mindex\u001b[0m\u001b[0;34m,\u001b[0m \u001b[0mlayout_index\u001b[0m\u001b[0;34m=\u001b[0m\u001b[0;36m0\u001b[0m\u001b[0;34m)\u001b[0m\u001b[0;34m\u001b[0m\u001b[0;34m\u001b[0m\u001b[0m\n\u001b[1;32m     23\u001b[0m             \u001b[0mprint\u001b[0m\u001b[0;34m(\u001b[0m\u001b[0;34mf'{spec_react} in {rxn_label}/{corresponding_ID} has graphical_object_index {index} and no available coordinates from KEGG'\u001b[0m\u001b[0;34m)\u001b[0m\u001b[0;34m\u001b[0m\u001b[0;34m\u001b[0m\u001b[0m\n",
      "\u001b[0;32m/opt/conda/envs/myenv/lib/python3.9/site-packages/libsbmlnetwork/libsbmlnetwork.py\u001b[0m in \u001b[0;36m?\u001b[0;34m(self, species_id, reaction_id, visible, reaction_glyph_index, layout_index)\u001b[0m\n\u001b[1;32m    487\u001b[0m         \u001b[0;34m:\u001b[0m\u001b[0mReturns\u001b[0m\u001b[0;34m:\u001b[0m\u001b[0;34m\u001b[0m\u001b[0;34m\u001b[0m\u001b[0m\n\u001b[1;32m    488\u001b[0m \u001b[0;34m\u001b[0m\u001b[0m\n\u001b[1;32m    489\u001b[0m             \u001b[0mtrue\u001b[0m \u001b[0mon\u001b[0m \u001b[0msuccess\u001b[0m \u001b[0;32mand\u001b[0m \u001b[0mfalse\u001b[0m \u001b[0;32mif\u001b[0m \u001b[0mthe\u001b[0m \u001b[0mSpeciesGlyph\u001b[0m \u001b[0mcould\u001b[0m \u001b[0;32mnot\u001b[0m \u001b[0mbe\u001b[0m \u001b[0mhidden\u001b[0m\u001b[0;34m\u001b[0m\u001b[0;34m\u001b[0m\u001b[0m\n\u001b[1;32m    490\u001b[0m         \"\"\"\n\u001b[0;32m--> 491\u001b[0;31m         \u001b[0;32mreturn\u001b[0m \u001b[0mlib\u001b[0m\u001b[0;34m.\u001b[0m\u001b[0mc_api_makeSpeciesGlyphVisible\u001b[0m\u001b[0;34m(\u001b[0m\u001b[0mself\u001b[0m\u001b[0;34m.\u001b[0m\u001b[0msbml_object\u001b[0m\u001b[0;34m,\u001b[0m \u001b[0mstr\u001b[0m\u001b[0;34m(\u001b[0m\u001b[0mspecies_id\u001b[0m\u001b[0;34m)\u001b[0m\u001b[0;34m.\u001b[0m\u001b[0mencode\u001b[0m\u001b[0;34m(\u001b[0m\u001b[0;34m)\u001b[0m\u001b[0;34m,\u001b[0m \u001b[0mstr\u001b[0m\u001b[0;34m(\u001b[0m\u001b[0mreaction_id\u001b[0m\u001b[0;34m)\u001b[0m\u001b[0;34m.\u001b[0m\u001b[0mencode\u001b[0m\u001b[0;34m(\u001b[0m\u001b[0;34m)\u001b[0m\u001b[0;34m,\u001b[0m \u001b[0mvisible\u001b[0m\u001b[0;34m,\u001b[0m \u001b[0mreaction_glyph_index\u001b[0m\u001b[0;34m,\u001b[0m \u001b[0mlayout_index\u001b[0m\u001b[0;34m)\u001b[0m\u001b[0;34m\u001b[0m\u001b[0;34m\u001b[0m\u001b[0m\n\u001b[0m",
      "\u001b[0;31mKeyboardInterrupt\u001b[0m: "
     ]
    }
   ],
   "source": [
    "M1.autolayout(max_num_connected_edges=1)\n",
    "set_nodes = []\n",
    "for rxn_label, specs in specs_in_rxns.items():\n",
    "    corresponding_ID = label_to_ID_dict[rxn_label]\n",
    "    for spec in specs:\n",
    "        spec_react = spec + '_' + corresponding_ID\n",
    "        index = aliasIndexExtract(spec, rxn_label, M1)\n",
    "\n",
    "        matching_keys = [key for key in cpd_coordinates_map_tran if key.startswith(spec_react)]\n",
    "\n",
    "        if matching_keys:\n",
    "            # Add each set of coordinates to M1\n",
    "            for key in matching_keys:\n",
    "                coords = cpd_coordinates_map_tran[key]\n",
    "                set_nodes.append(spec)\n",
    "                M1.setX(spec, coords[0], graphical_object_index=index)\n",
    "                M1.setY(spec, coords[1], graphical_object_index=index)\n",
    "                print(f'{spec_react} in {rxn_label}/{corresponding_ID} has graphical_object_index {index} and coordinates of {coords} from KEGG')\n",
    "        else:\n",
    "            M1.makeSpeciesGlyphVisible(spec, rxn_label, visible=True, reaction_glyph_index=index, layout_index=0)\n",
    "            print(f'{spec_react} in {rxn_label}/{corresponding_ID} has graphical_object_index {index} and no available coordinates from KEGG')\n",
    "            print(M1.makeSpeciesGlyphVisible(spec, rxn_label, visible=False, reaction_glyph_index=index, layout_index=0))"
   ]
  },
  {
   "cell_type": "code",
   "execution_count": null,
   "metadata": {},
   "outputs": [],
   "source": [
    "M1.draw()"
   ]
  },
  {
   "cell_type": "markdown",
   "id": "46512d18",
   "metadata": {},
   "source": [
    "## Colorbar"
   ]
  },
  {
   "cell_type": "code",
   "execution_count": null,
   "id": "983f9753",
   "metadata": {},
   "outputs": [],
   "source": [
    "import matplotlib.pyplot as plt\n",
    "import matplotlib.colors as mcolors\n",
    "import numpy as np"
   ]
  },
  {
   "cell_type": "code",
   "execution_count": null,
   "id": "72f23ff9",
   "metadata": {},
   "outputs": [],
   "source": [
    "r = te.loads('/workspaces/ECFERS/src/frenda_brenda/Files/SBML models/241022_prelim_M1.sbml')"
   ]
  },
  {
   "cell_type": "code",
   "execution_count": null,
   "id": "e15f7a8c",
   "metadata": {},
   "outputs": [],
   "source": [
    "r.reset()\n",
    "r.simulate(0,1800)\n",
    "rates = r.getReactionRates()\n",
    "\n",
    "maxrate = rates.max()\n",
    "minrate = rates.min()"
   ]
  },
  {
   "cell_type": "code",
   "execution_count": null,
   "id": "247c8c1f",
   "metadata": {},
   "outputs": [],
   "source": [
    "def get_color_from_gradient(value, min_val, max_val):\n",
    "    # Normalize the value within the range\n",
    "    norm = (value - min_val) / (max_val - min_val)\n",
    "    # Use the color map 'coolwarm' from matplotlib\n",
    "    cmap = plt.get_cmap('coolwarm')\n",
    "    # Get the color in RGBA format\n",
    "    rgba_color = cmap(norm)\n",
    "    # Convert RGBA to HEX\n",
    "    hex_color = mcolors.to_hex(rgba_color)\n",
    "    return hex_color"
   ]
  },
  {
   "cell_type": "code",
   "execution_count": null,
   "id": "92ba5003",
   "metadata": {},
   "outputs": [],
   "source": [
    "reaction_flux_dict = {reaction_id: get_color_from_gradient(rate, minrate, maxrate) for reaction_id, rate in zip(np.array(r.getReactionIds()), rates)}"
   ]
  },
  {
   "cell_type": "code",
   "execution_count": null,
   "id": "915e9e16",
   "metadata": {},
   "outputs": [],
   "source": [
    "for rid in reaction_flux_dict.keys():\n",
    "    M1.setLineColor(rid, reaction_flux_dict[rid])"
   ]
  },
  {
   "cell_type": "code",
   "execution_count": null,
   "id": "56e3cb6d",
   "metadata": {},
   "outputs": [],
   "source": [
    "M1.draw()"
   ]
  },
  {
   "cell_type": "markdown",
   "id": "63ba0446",
   "metadata": {},
   "source": [
    "### Hiding reactions\n",
    "Now we have to figure out how to choose which reactions to hide"
   ]
  },
  {
   "cell_type": "code",
   "execution_count": null,
   "id": "f44f5e50",
   "metadata": {},
   "outputs": [],
   "source": [
    "help(M1.makeSpeciesGlyphVisible)"
   ]
  },
  {
   "cell_type": "code",
   "execution_count": null,
   "id": "e5dba353",
   "metadata": {},
   "outputs": [],
   "source": [
    "help(M1.makeSpeciesGlyphsVisible)"
   ]
  }
 ],
 "metadata": {
  "kernelspec": {
   "display_name": "myenv",
   "language": "python",
   "name": "python3"
  },
  "language_info": {
   "codemirror_mode": {
    "name": "ipython",
    "version": 3
   },
   "file_extension": ".py",
   "mimetype": "text/x-python",
   "name": "python",
   "nbconvert_exporter": "python",
   "pygments_lexer": "ipython3",
   "version": "3.9.18"
  }
 },
 "nbformat": 4,
 "nbformat_minor": 5
}
