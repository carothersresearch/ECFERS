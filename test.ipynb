{
 "cells": [
  {
   "cell_type": "code",
   "execution_count": 5,
   "metadata": {},
   "outputs": [],
   "source": [
    "from src.kinetic_estimator.estimators import Estimator, ENKIE\n"
   ]
  },
  {
   "cell_type": "code",
   "execution_count": 2,
   "metadata": {},
   "outputs": [
    {
     "data": {
      "text/plain": [
       "37.38470390794175"
      ]
     },
     "execution_count": 2,
     "metadata": {},
     "output_type": "execute_result"
    }
   ],
   "source": [
    "DLKcat = Estimator('DLKcat','kcat')\n",
    "\n",
    "species = \"L-Arginine\"\n",
    "enzyme_seq = \"MSLGIRYLALLPLFVITACQQPVNYNPPATQVAQVQPAIVNNSWIEISRSALDFNVKKVQSLLGKQSSLCAVLKGDAYGHDLSLVAPIMIENNVKCIGVTNNQELKEVRDLGFKGRLMRVRNATEQEMAQATNYNVEELIGDLDMAKRLDAIAKQQNKVIPIHLALNSGGMSRNGLEVDNKSGLEKAKQISQLANLKVVGIMSHYPEEDANKVREDLARFKQQSQQVLEVMGLERNNVTLHMANTFATITVPESWLDMVRVGGIFYGDTIASTDYKRVMTFKSNIASINYYPKGNTVGYDRTYTLKRDSVLANIPVGYADGYRRVFSNAGHALIAGQRVPVLGKTSMNTVIVDITSLNNIKPGDEVVFFGKQGNSEITAEEIEDISGALFTEMSILWGATNQRVLVD\"\n",
    "\n",
    "DLKcat.estimate([species, enzyme_seq])\n"
   ]
  },
  {
   "cell_type": "code",
   "execution_count": 6,
   "metadata": {},
   "outputs": [
    {
     "ename": "KeyError",
     "evalue": "'Estimator DLKcat cannot be used to estimate Km'",
     "output_type": "error",
     "traceback": [
      "\u001b[1;31m---------------------------------------------------------------------------\u001b[0m",
      "\u001b[1;31mKeyError\u001b[0m                                  Traceback (most recent call last)",
      "\u001b[1;32mc:\\Users\\Diego Alba\\Documents\\GitHub\\ECFERS\\test.ipynb Cell 3\u001b[0m line \u001b[0;36m1\n\u001b[1;32m----> <a href='vscode-notebook-cell:/c%3A/Users/Diego%20Alba/Documents/GitHub/ECFERS/test.ipynb#W2sZmlsZQ%3D%3D?line=0'>1</a>\u001b[0m DLKcat \u001b[39m=\u001b[39m Estimator(\u001b[39m'\u001b[39;49m\u001b[39mDLKcat\u001b[39;49m\u001b[39m'\u001b[39;49m,\u001b[39m'\u001b[39;49m\u001b[39mKm\u001b[39;49m\u001b[39m'\u001b[39;49m)\n\u001b[0;32m      <a href='vscode-notebook-cell:/c%3A/Users/Diego%20Alba/Documents/GitHub/ECFERS/test.ipynb#W2sZmlsZQ%3D%3D?line=1'>2</a>\u001b[0m DLKcat\u001b[39m.\u001b[39mestimator \u001b[39m=\u001b[39m ENKIE\n",
      "File \u001b[1;32mc:\\Users\\Diego Alba\\Documents\\GitHub\\ECFERS\\src\\kinetic_estimator\\estimators.py:61\u001b[0m, in \u001b[0;36mEstimator.__init__\u001b[1;34m(self, estimator, parameter)\u001b[0m\n\u001b[0;32m     59\u001b[0m         \u001b[39mself\u001b[39m\u001b[39m.\u001b[39mestimator \u001b[39m=\u001b[39m \u001b[39mself\u001b[39m\u001b[39m.\u001b[39mestimator_dict[estimator]()\n\u001b[0;32m     60\u001b[0m     \u001b[39melse\u001b[39;00m:\n\u001b[1;32m---> 61\u001b[0m         \u001b[39mraise\u001b[39;00m \u001b[39mKeyError\u001b[39;00m(\u001b[39m\"\u001b[39m\u001b[39mEstimator \u001b[39m\u001b[39m\"\u001b[39m \u001b[39m+\u001b[39m estimator \u001b[39m+\u001b[39m \u001b[39m\"\u001b[39m\u001b[39m cannot be used to estimate \u001b[39m\u001b[39m\"\u001b[39m \u001b[39m+\u001b[39m parameter)\n\u001b[0;32m     62\u001b[0m \u001b[39melse\u001b[39;00m:\n\u001b[0;32m     63\u001b[0m     \u001b[39mraise\u001b[39;00m \u001b[39mKeyError\u001b[39;00m(\u001b[39m\"\u001b[39m\u001b[39mNo estimator named \u001b[39m\u001b[39m\"\u001b[39m \u001b[39m+\u001b[39m estimator \u001b[39m+\u001b[39m \u001b[39m\"\u001b[39m\u001b[39m found. Available estimators are: \u001b[39m\u001b[39m\"\u001b[39m \u001b[39m+\u001b[39m [e\u001b[39m.\u001b[39mname \u001b[39mfor\u001b[39;00m e \u001b[39min\u001b[39;00m ESTIMATORS])\n",
      "\u001b[1;31mKeyError\u001b[0m: 'Estimator DLKcat cannot be used to estimate Km'"
     ]
    }
   ],
   "source": [
    "DLKcat = Estimator('DLKcat','Km')\n"
   ]
  },
  {
   "cell_type": "code",
   "execution_count": 11,
   "metadata": {},
   "outputs": [],
   "source": [
    "DLKcat.estimator = ENKIE()"
   ]
  },
  {
   "cell_type": "code",
   "execution_count": 14,
   "metadata": {},
   "outputs": [],
   "source": [
    "DLKcat.estimate([])"
   ]
  },
  {
   "cell_type": "code",
   "execution_count": null,
   "metadata": {},
   "outputs": [],
   "source": []
  }
 ],
 "metadata": {
  "kernelspec": {
   "display_name": "ODBM2",
   "language": "python",
   "name": "python3"
  },
  "language_info": {
   "codemirror_mode": {
    "name": "ipython",
    "version": 3
   },
   "file_extension": ".py",
   "mimetype": "text/x-python",
   "name": "python",
   "nbconvert_exporter": "python",
   "pygments_lexer": "ipython3",
   "version": "3.8.17"
  },
  "orig_nbformat": 4
 },
 "nbformat": 4,
 "nbformat_minor": 2
}
