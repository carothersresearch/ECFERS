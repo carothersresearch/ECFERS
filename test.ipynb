{
 "cells": [
  {
   "cell_type": "code",
   "execution_count": 1,
   "metadata": {},
   "outputs": [],
   "source": [
    "from src.fitting.pygmo_bfes import *"
   ]
  },
  {
   "cell_type": "code",
   "execution_count": 3,
   "metadata": {},
   "outputs": [],
   "source": [
    "import os\n",
    "from datetime import datetime  \n",
    "import tellurium as te\n",
    "import numpy as np\n",
    "import pygmo as pg\n",
    "import matplotlib.pyplot as plt\n",
    "import pandas as pd\n",
    "import pickle\n",
    "\n",
    "# load SBML model and get parameter labels\n",
    "modelfile = os.getcwd()+'/models/240226MC_FULL.sbml' # filled nan values with mean for now\n",
    "r = te.loadSBMLModel(modelfile)\n",
    "parameter_values = r.getGlobalParameterValues()\n",
    "\n",
    "# get data and metadata for experiment\n",
    "with open('data/230623_Kinetics_DA/simulation_ready.pkl', 'rb') as f:\n",
    "    simulation_ready = pickle.load(f)\n",
    "    init_concentrations = simulation_ready['init_concentrations']   \n",
    "    metadata = simulation_ready['metadata']\n",
    "    measurements = simulation_ready['measurements']\n",
    "\n",
    "metabolites = [s for s in r.getFloatingSpeciesIds() if 'EC' not in s]\n",
    "model_species = pd.read_csv(os.getcwd()+'/src/frenda_brenda/Files/SpeciesBaseMechanisms.csv')\n",
    "\n",
    "v_to_c_map = {model_species.loc[model_species['Label'] == s, 'Relative'].values[0]:s for s in metabolites}\n",
    "\n",
    "# get all the parameters that can vary during the fitting\n",
    "kinetics_labels = [p for p in r.getGlobalParameterIds() if np.any([k in p for k in ['Km','Kcat','Ki']])]\n",
    "Gi_labels = [p for p in r.getGlobalParameterIds() if 'Gi' in p ]\n",
    "metabolites_labels = [model_species.loc[model_species['Label'] == s, 'Relative'].values[0] for s in metabolites] #[s for s in r.getFloatingSpeciesIds() if 'EC' not in s]\n",
    "\n",
    "parameter_labels = kinetics_labels + Gi_labels + metabolites_labels # + list(metabolites_labels)\n",
    "parameter_labels.append('rel0') # what are good bounds for this?\n",
    "\n",
    "# make upper and lower bounds\n",
    "upper = np.array([r[i]*10 for i in kinetics_labels] + [1 for _ in Gi_labels] + [10 for _ in metabolites_labels] + [10])\n",
    "lower = np.array([r[i]/10 for i in kinetics_labels] + [1/100 for _ in Gi_labels] + [1/10 for _ in metabolites_labels] + [1/10])\n",
    "\n",
    "# define variables that don't change during fitting, but could be different across samples\n",
    "# (dilution factor, biosynthesis metabolites, which enzymes are present)\n",
    "variables = {}\n",
    "for s in metadata['sample_labels']:\n",
    "    variables[s] = {'dilution_factor':1/metadata['dilution_factor'][s]}\n",
    "    variables[s] = {**variables[s] , **{p:1 for p in r.getGlobalParameterIds() if 'p_EC' in p}}\n",
    "    variables[s] = {**variables[s] , **init_concentrations[s]}\n",
    "\n",
    "from src.fitting.pygmo_problems import SBMLGlobalFit_Multi_Fly\n",
    "myprob = SBMLGlobalFit_Multi_Fly(\n",
    "    model = modelfile, \n",
    "    data = measurements, \n",
    "    parameter_labels=parameter_labels, \n",
    "    lower_bounds=lower, upper_bounds=upper, \n",
    "    metadata=metadata,\n",
    "    variables=variables,\n",
    "    scale=True)\n",
    "\n",
    "prob = pg.problem(myprob)"
   ]
  },
  {
   "cell_type": "code",
   "execution_count": 4,
   "metadata": {},
   "outputs": [],
   "source": [
    "import ipyparallel as ipp\n",
    "client = ipp.Client(profile='cheme-ecfers')\n",
    "\n",
    "client[:].apply_sync(os.chdir,'/mmfs1/gscratch/cheme/dalba/repos/ECFERS');"
   ]
  },
  {
   "cell_type": "code",
   "execution_count": 5,
   "metadata": {},
   "outputs": [],
   "source": [
    "udbfe = pickleless_bfe(client_kwargs={'profile':'cheme-ecfers'}, view_kwargs = {}, prob = prob)"
   ]
  },
  {
   "cell_type": "code",
   "execution_count": 6,
   "metadata": {},
   "outputs": [],
   "source": [
    "udbfe.init_view(client_kwargs={'profile':'cheme-ecfers'})"
   ]
  },
  {
   "cell_type": "code",
   "execution_count": 7,
   "metadata": {},
   "outputs": [],
   "source": [
    "mybfe = pg.bfe(udbfe)"
   ]
  },
  {
   "cell_type": "code",
   "execution_count": 8,
   "metadata": {},
   "outputs": [],
   "source": [
    "# pick parameters based on this thesis\n",
    "# https://repository.up.ac.za/handle/2263/66233#:~:text=The%20thesis%20shows%20that%20the,empirical%20tests%20and%20theoretical%20reasoning.\n",
    "algos = []\n",
    "pops = []\n",
    "replicates = 1\n",
    "for i in range(replicates):\n",
    "    a = pg.pso_gen(gen=10,omega=0.95, eta1=0.25, eta2=0.25, max_vel=0.01, variant=5, neighb_type=2, neighb_param=4)\n",
    "    # a = pg.gaco(gen=10)\n",
    "    a.set_bfe(mybfe)\n",
    "    algo = pg.algorithm(a)\n",
    "    algo.set_verbosity(1)\n",
    "    algos.append(algo)\n",
    "    pops.append(pg.population(prob, size = 0))"
   ]
  },
  {
   "cell_type": "code",
   "execution_count": 9,
   "metadata": {},
   "outputs": [
    {
     "ename": "KeyboardInterrupt",
     "evalue": "",
     "output_type": "error",
     "traceback": [
      "\u001b[0;31m---------------------------------------------------------------------------\u001b[0m",
      "\u001b[0;31mKeyboardInterrupt\u001b[0m                         Traceback (most recent call last)",
      "Cell \u001b[0;32mIn[9], line 7\u001b[0m\n\u001b[1;32m      5\u001b[0m init_std \u001b[38;5;241m=\u001b[39m \u001b[38;5;241m0.17\u001b[39m\n\u001b[1;32m      6\u001b[0m xs \u001b[38;5;241m=\u001b[39m (np\u001b[38;5;241m.\u001b[39mexpand_dims(myprob\u001b[38;5;241m.\u001b[39m_scale(lower\u001b[38;5;241m*\u001b[39m\u001b[38;5;241m10\u001b[39m),\u001b[38;5;241m-\u001b[39m\u001b[38;5;241m1\u001b[39m)\u001b[38;5;129m@np\u001b[39m\u001b[38;5;241m.\u001b[39mones((\u001b[38;5;241m1\u001b[39m,total_nodes))\u001b[38;5;241m*\u001b[39m(\u001b[38;5;241m1\u001b[39m\u001b[38;5;241m+\u001b[39mnp\u001b[38;5;241m.\u001b[39mrandom\u001b[38;5;241m.\u001b[39mnormal(\u001b[38;5;241m0\u001b[39m, init_std,(\u001b[38;5;28mlen\u001b[39m(lower),total_nodes))))\u001b[38;5;241m.\u001b[39mT\n\u001b[0;32m----> 7\u001b[0m fvs \u001b[38;5;241m=\u001b[39m \u001b[43mudbfe\u001b[49m\u001b[43m(\u001b[49m\u001b[43mprob\u001b[49m\u001b[43m,\u001b[49m\u001b[43m \u001b[49m\u001b[43mxs\u001b[49m\u001b[38;5;241;43m.\u001b[39;49m\u001b[43mreshape\u001b[49m\u001b[43m(\u001b[49m\u001b[38;5;241;43m-\u001b[39;49m\u001b[38;5;241;43m1\u001b[39;49m\u001b[43m)\u001b[49m\u001b[43m)\u001b[49m\n",
      "File \u001b[0;32m/mmfs1/gscratch/cheme/dalba/repos/ECFERS/src/fitting/pygmo_bfes.py:64\u001b[0m, in \u001b[0;36mpickleless_bfe.__call__\u001b[0;34m(self, prob, dvs)\u001b[0m\n\u001b[1;32m     61\u001b[0m     ret \u001b[38;5;241m=\u001b[39m ipp\u001b[38;5;241m.\u001b[39mAsyncMapResult(pg\u001b[38;5;241m.\u001b[39mipyparallel_bfe\u001b[38;5;241m.\u001b[39m_view\u001b[38;5;241m.\u001b[39mclient, ar\u001b[38;5;241m.\u001b[39m_children, ipp\u001b[38;5;241m.\u001b[39mclient\u001b[38;5;241m.\u001b[39mmap\u001b[38;5;241m.\u001b[39mMap())\n\u001b[1;32m     63\u001b[0m \u001b[38;5;66;03m# Build the vector of fitness vectors as a 2D numpy array.\u001b[39;00m\n\u001b[0;32m---> 64\u001b[0m fvs \u001b[38;5;241m=\u001b[39m np\u001b[38;5;241m.\u001b[39marray(\u001b[38;5;28msum\u001b[39m([pickle\u001b[38;5;241m.\u001b[39mloads(fv) \u001b[38;5;28;01mfor\u001b[39;00m fv \u001b[38;5;129;01min\u001b[39;00m ret\u001b[38;5;241m.\u001b[39mget()],[]))\n\u001b[1;32m     65\u001b[0m \u001b[38;5;66;03m# Reshape it so that it is 1D.\u001b[39;00m\n\u001b[1;32m     66\u001b[0m fvs\u001b[38;5;241m.\u001b[39mshape \u001b[38;5;241m=\u001b[39m (ndvs\u001b[38;5;241m*\u001b[39mnf,)\n",
      "File \u001b[0;32m/opt/conda/envs/myenv/lib/python3.9/site-packages/ipyparallel/client/asyncresult.py:343\u001b[0m, in \u001b[0;36mAsyncResult.get\u001b[0;34m(self, timeout, return_exceptions, return_when)\u001b[0m\n\u001b[1;32m    340\u001b[0m     return_when \u001b[38;5;241m=\u001b[39m \u001b[38;5;28;01mNone\u001b[39;00m\n\u001b[1;32m    342\u001b[0m \u001b[38;5;28;01mif\u001b[39;00m \u001b[38;5;129;01mnot\u001b[39;00m \u001b[38;5;28mself\u001b[39m\u001b[38;5;241m.\u001b[39mready():\n\u001b[0;32m--> 343\u001b[0m     wait_result \u001b[38;5;241m=\u001b[39m \u001b[38;5;28;43mself\u001b[39;49m\u001b[38;5;241;43m.\u001b[39;49m\u001b[43mwait\u001b[49m\u001b[43m(\u001b[49m\u001b[43mtimeout\u001b[49m\u001b[43m,\u001b[49m\u001b[43m \u001b[49m\u001b[43mreturn_when\u001b[49m\u001b[38;5;241;43m=\u001b[39;49m\u001b[43mreturn_when\u001b[49m\u001b[43m)\u001b[49m\n\u001b[1;32m    345\u001b[0m \u001b[38;5;28;01mif\u001b[39;00m return_exceptions \u001b[38;5;129;01mis\u001b[39;00m \u001b[38;5;28;01mNone\u001b[39;00m:\n\u001b[1;32m    346\u001b[0m     \u001b[38;5;66;03m# default to attribute, if AsyncResult was created with return_exceptions=True\u001b[39;00m\n\u001b[1;32m    347\u001b[0m     return_exceptions \u001b[38;5;241m=\u001b[39m \u001b[38;5;28mself\u001b[39m\u001b[38;5;241m.\u001b[39m_return_exceptions\n",
      "File \u001b[0;32m/opt/conda/envs/myenv/lib/python3.9/site-packages/ipyparallel/client/asyncresult.py:490\u001b[0m, in \u001b[0;36mAsyncResult.wait\u001b[0;34m(self, timeout, return_when)\u001b[0m\n\u001b[1;32m    488\u001b[0m \u001b[38;5;28;01mif\u001b[39;00m \u001b[38;5;28mself\u001b[39m\u001b[38;5;241m.\u001b[39m_ready:\n\u001b[1;32m    489\u001b[0m     \u001b[38;5;28;01mreturn\u001b[39;00m \u001b[38;5;28;01mTrue\u001b[39;00m\n\u001b[0;32m--> 490\u001b[0m \u001b[38;5;28;43mself\u001b[39;49m\u001b[38;5;241;43m.\u001b[39;49m\u001b[43m_ready_event\u001b[49m\u001b[38;5;241;43m.\u001b[39;49m\u001b[43mwait\u001b[49m\u001b[43m(\u001b[49m\u001b[43mtimeout\u001b[49m\u001b[43m)\u001b[49m\n\u001b[1;32m    491\u001b[0m \u001b[38;5;28mself\u001b[39m\u001b[38;5;241m.\u001b[39mwait_for_output(\u001b[38;5;241m0\u001b[39m)\n\u001b[1;32m    492\u001b[0m \u001b[38;5;28;01mreturn\u001b[39;00m \u001b[38;5;28mself\u001b[39m\u001b[38;5;241m.\u001b[39m_ready\n",
      "File \u001b[0;32m/opt/conda/envs/myenv/lib/python3.9/threading.py:581\u001b[0m, in \u001b[0;36mEvent.wait\u001b[0;34m(self, timeout)\u001b[0m\n\u001b[1;32m    579\u001b[0m signaled \u001b[38;5;241m=\u001b[39m \u001b[38;5;28mself\u001b[39m\u001b[38;5;241m.\u001b[39m_flag\n\u001b[1;32m    580\u001b[0m \u001b[38;5;28;01mif\u001b[39;00m \u001b[38;5;129;01mnot\u001b[39;00m signaled:\n\u001b[0;32m--> 581\u001b[0m     signaled \u001b[38;5;241m=\u001b[39m \u001b[38;5;28;43mself\u001b[39;49m\u001b[38;5;241;43m.\u001b[39;49m\u001b[43m_cond\u001b[49m\u001b[38;5;241;43m.\u001b[39;49m\u001b[43mwait\u001b[49m\u001b[43m(\u001b[49m\u001b[43mtimeout\u001b[49m\u001b[43m)\u001b[49m\n\u001b[1;32m    582\u001b[0m \u001b[38;5;28;01mreturn\u001b[39;00m signaled\n",
      "File \u001b[0;32m/opt/conda/envs/myenv/lib/python3.9/threading.py:312\u001b[0m, in \u001b[0;36mCondition.wait\u001b[0;34m(self, timeout)\u001b[0m\n\u001b[1;32m    310\u001b[0m \u001b[38;5;28;01mtry\u001b[39;00m:    \u001b[38;5;66;03m# restore state no matter what (e.g., KeyboardInterrupt)\u001b[39;00m\n\u001b[1;32m    311\u001b[0m     \u001b[38;5;28;01mif\u001b[39;00m timeout \u001b[38;5;129;01mis\u001b[39;00m \u001b[38;5;28;01mNone\u001b[39;00m:\n\u001b[0;32m--> 312\u001b[0m         \u001b[43mwaiter\u001b[49m\u001b[38;5;241;43m.\u001b[39;49m\u001b[43macquire\u001b[49m\u001b[43m(\u001b[49m\u001b[43m)\u001b[49m\n\u001b[1;32m    313\u001b[0m         gotit \u001b[38;5;241m=\u001b[39m \u001b[38;5;28;01mTrue\u001b[39;00m\n\u001b[1;32m    314\u001b[0m     \u001b[38;5;28;01melse\u001b[39;00m:\n",
      "\u001b[0;31mKeyboardInterrupt\u001b[0m: "
     ]
    }
   ],
   "source": [
    "import faulthandler\n",
    "faulthandler.enable()\n",
    "\n",
    "total_nodes = 40*4\n",
    "init_std = 0.17\n",
    "xs = (np.expand_dims(myprob._scale(lower*10),-1)@np.ones((1,total_nodes))*(1+np.random.normal(0, init_std,(len(lower),total_nodes)))).T\n",
    "fvs = udbfe(prob, xs.reshape(-1))"
   ]
  },
  {
   "cell_type": "code",
   "execution_count": null,
   "metadata": {},
   "outputs": [
    {
     "ename": "ValueError",
     "evalue": "setting an array element with a sequence. The requested array has an inhomogeneous shape after 1 dimensions. The detected shape was (695,) + inhomogeneous part.",
     "output_type": "error",
     "traceback": [
      "\u001b[0;31m---------------------------------------------------------------------------\u001b[0m",
      "\u001b[0;31mValueError\u001b[0m                                Traceback (most recent call last)",
      "Cell \u001b[0;32mIn[77], line 1\u001b[0m\n\u001b[0;32m----> 1\u001b[0m \u001b[43malgos\u001b[49m\u001b[43m[\u001b[49m\u001b[38;5;241;43m0\u001b[39;49m\u001b[43m]\u001b[49m\u001b[38;5;241;43m.\u001b[39;49m\u001b[43mevolve\u001b[49m\u001b[43m(\u001b[49m\u001b[43mpops\u001b[49m\u001b[43m[\u001b[49m\u001b[38;5;241;43m0\u001b[39;49m\u001b[43m]\u001b[49m\u001b[43m)\u001b[49m\n",
      "\u001b[0;31mValueError\u001b[0m: setting an array element with a sequence. The requested array has an inhomogeneous shape after 1 dimensions. The detected shape was (695,) + inhomogeneous part."
     ]
    }
   ],
   "source": [
    "algos[0].evolve(pops[0])"
   ]
  },
  {
   "cell_type": "code",
   "execution_count": 19,
   "metadata": {},
   "outputs": [
    {
     "ename": "CompositeError",
     "evalue": "one or more exceptions raised in: <lambda>\n[0:apply]AttributeError: 'pygmo.core.problem' object has no attribute '_setup'\n[1:apply]AttributeError: 'pygmo.core.problem' object has no attribute '_setup'\n[2:apply]AttributeError: 'pygmo.core.problem' object has no attribute '_setup'\n[3:apply]AttributeError: 'pygmo.core.problem' object has no attribute '_setup'\n.... 691 more exceptions ...",
     "output_type": "error",
     "traceback": [
      "[0:apply]:",
      "\u001b[0;31m---------------------------------------------------------------------------\u001b[0m",
      "\u001b[0;31mAttributeError\u001b[0m                            Traceback (most recent call last)",
      "File \u001b[0;32m<string>:1\u001b[0m",
      "",
      "File \u001b[0;32m/tmp/ipykernel_219/2717902352.py:1\u001b[0m, in \u001b[0;36m<lambda>\u001b[0;34m(x)\u001b[0m",
      "",
      "\u001b[0;31mAttributeError\u001b[0m: 'pygmo.core.problem' object has no attribute '_setup'",
      "",
      "[1:apply]:",
      "\u001b[0;31m---------------------------------------------------------------------------\u001b[0m",
      "\u001b[0;31mAttributeError\u001b[0m                            Traceback (most recent call last)",
      "File \u001b[0;32m<string>:1\u001b[0m",
      "",
      "File \u001b[0;32m/tmp/ipykernel_219/2717902352.py:1\u001b[0m, in \u001b[0;36m<lambda>\u001b[0;34m(x)\u001b[0m",
      "",
      "\u001b[0;31mAttributeError\u001b[0m: 'pygmo.core.problem' object has no attribute '_setup'",
      "",
      "[2:apply]:",
      "\u001b[0;31m---------------------------------------------------------------------------\u001b[0m",
      "\u001b[0;31mAttributeError\u001b[0m                            Traceback (most recent call last)",
      "File \u001b[0;32m<string>:1\u001b[0m",
      "",
      "File \u001b[0;32m/tmp/ipykernel_219/2717902352.py:1\u001b[0m, in \u001b[0;36m<lambda>\u001b[0;34m(x)\u001b[0m",
      "",
      "\u001b[0;31mAttributeError\u001b[0m: 'pygmo.core.problem' object has no attribute '_setup'",
      "",
      "[3:apply]:",
      "\u001b[0;31m---------------------------------------------------------------------------\u001b[0m",
      "\u001b[0;31mAttributeError\u001b[0m                            Traceback (most recent call last)",
      "File \u001b[0;32m<string>:1\u001b[0m",
      "",
      "File \u001b[0;32m/tmp/ipykernel_219/2717902352.py:1\u001b[0m, in \u001b[0;36m<lambda>\u001b[0;34m(x)\u001b[0m",
      "",
      "\u001b[0;31mAttributeError\u001b[0m: 'pygmo.core.problem' object has no attribute '_setup'",
      "",
      "... 691 more exceptions ..."
     ]
    }
   ],
   "source": [
    "udbfe._view.apply_sync(lambda x: x._setup(), ipp.Reference(\"prob\"))"
   ]
  },
  {
   "cell_type": "code",
   "execution_count": 29,
   "metadata": {},
   "outputs": [
    {
     "ename": "NameError",
     "evalue": "name 'RoadRunner' is not defined",
     "output_type": "error",
     "traceback": [
      "\u001b[0;31m---------------------------------------------------------------------------\u001b[0m",
      "\u001b[0;31mNameError\u001b[0m                                 Traceback (most recent call last)",
      "Cell \u001b[0;32mIn[29], line 1\u001b[0m\n\u001b[0;32m----> 1\u001b[0m \u001b[43mprob\u001b[49m\u001b[38;5;241;43m.\u001b[39;49m\u001b[43mfitness\u001b[49m\u001b[43m(\u001b[49m\u001b[43mlower\u001b[49m\u001b[43m)\u001b[49m\n",
      "File \u001b[0;32m/mmfs1/gscratch/cheme/dalba/repos/ECFERS/src/fitting/pygmo_problems2.py:409\u001b[0m, in \u001b[0;36mSBMLGlobalFit_Multi_Fly.fitness\u001b[0;34m(self, x)\u001b[0m\n\u001b[1;32m    407\u001b[0m \u001b[38;5;28;01mdef\u001b[39;00m \u001b[38;5;21mfitness\u001b[39m(\u001b[38;5;28mself\u001b[39m, x):\n\u001b[1;32m    408\u001b[0m     \u001b[38;5;28;01mif\u001b[39;00m \u001b[38;5;28mself\u001b[39m\u001b[38;5;241m.\u001b[39mscale: x \u001b[38;5;241m=\u001b[39m \u001b[38;5;28mself\u001b[39m\u001b[38;5;241m.\u001b[39m_unscale(x)\n\u001b[0;32m--> 409\u001b[0m     res_dict \u001b[38;5;241m=\u001b[39m \u001b[38;5;28;43mself\u001b[39;49m\u001b[38;5;241;43m.\u001b[39;49m\u001b[43m_simulate\u001b[49m\u001b[43m(\u001b[49m\u001b[43mx\u001b[49m\u001b[43m)\u001b[49m\n\u001b[1;32m    410\u001b[0m     obj \u001b[38;5;241m=\u001b[39m np\u001b[38;5;241m.\u001b[39mnanmean([\u001b[38;5;28mself\u001b[39m\u001b[38;5;241m.\u001b[39m_residual(results, \u001b[38;5;28mself\u001b[39m\u001b[38;5;241m.\u001b[39mdata[sample], sample) \u001b[38;5;28;01mfor\u001b[39;00m sample, results \u001b[38;5;129;01min\u001b[39;00m res_dict\u001b[38;5;241m.\u001b[39mitems()])\n\u001b[1;32m    411\u001b[0m     \u001b[38;5;28;01mreturn\u001b[39;00m [obj]\n",
      "File \u001b[0;32m/mmfs1/gscratch/cheme/dalba/repos/ECFERS/src/fitting/pygmo_problems2.py:438\u001b[0m, in \u001b[0;36mSBMLGlobalFit_Multi_Fly._simulate\u001b[0;34m(self, x)\u001b[0m\n\u001b[1;32m    436\u001b[0m rb \u001b[38;5;241m=\u001b[39m r\u001b[38;5;241m.\u001b[39msaveStateS()\n\u001b[1;32m    437\u001b[0m \u001b[38;5;28;01mfor\u001b[39;00m sample \u001b[38;5;129;01min\u001b[39;00m \u001b[38;5;28mself\u001b[39m\u001b[38;5;241m.\u001b[39mmetadata[\u001b[38;5;124m'\u001b[39m\u001b[38;5;124msample_labels\u001b[39m\u001b[38;5;124m'\u001b[39m]:\n\u001b[0;32m--> 438\u001b[0m     r2 \u001b[38;5;241m=\u001b[39m \u001b[43mRoadRunner\u001b[49m()\n\u001b[1;32m    439\u001b[0m     r2\u001b[38;5;241m.\u001b[39mloadStateS(rb)\n\u001b[1;32m    440\u001b[0m     \u001b[38;5;66;03m# set any variable\u001b[39;00m\n",
      "\u001b[0;31mNameError\u001b[0m: name 'RoadRunner' is not defined"
     ]
    }
   ],
   "source": [
    "prob.fitness(lower)"
   ]
  },
  {
   "cell_type": "code",
   "execution_count": null,
   "metadata": {},
   "outputs": [],
   "source": []
  }
 ],
 "metadata": {
  "kernelspec": {
   "display_name": "myenv",
   "language": "python",
   "name": "myenv"
  },
  "language_info": {
   "codemirror_mode": {
    "name": "ipython",
    "version": 3
   },
   "file_extension": ".py",
   "mimetype": "text/x-python",
   "name": "python",
   "nbconvert_exporter": "python",
   "pygments_lexer": "ipython3",
   "version": "3.9.18"
  }
 },
 "nbformat": 4,
 "nbformat_minor": 2
}
