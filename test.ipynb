{
 "cells": [
  {
   "cell_type": "code",
   "execution_count": 1,
   "metadata": {},
   "outputs": [],
   "source": [
    "from src.fitting.pygmo_bfes import *"
   ]
  },
  {
   "cell_type": "code",
   "execution_count": 2,
   "metadata": {},
   "outputs": [],
   "source": [
    "import os\n",
    "from datetime import datetime  \n",
    "import tellurium as te\n",
    "import numpy as np\n",
    "import pygmo as pg\n",
    "import matplotlib.pyplot as plt\n",
    "import pandas as pd\n",
    "import pickle\n",
    "\n",
    "# load SBML model and get parameter labels\n",
    "modelfile = os.getcwd()+'/models/240226MC_FULL.sbml' # filled nan values with mean for now\n",
    "r = te.loadSBMLModel(modelfile)\n",
    "parameter_values = r.getGlobalParameterValues()\n",
    "\n",
    "# get data and metadata for experiment\n",
    "with open('data/230623_Kinetics_DA/simulation_ready.pkl', 'rb') as f:\n",
    "    simulation_ready = pickle.load(f)\n",
    "    init_concentrations = simulation_ready['init_concentrations']   \n",
    "    metadata = simulation_ready['metadata']\n",
    "    measurements = simulation_ready['measurements']\n",
    "\n",
    "metabolites = [s for s in r.getFloatingSpeciesIds() if 'EC' not in s]\n",
    "model_species = pd.read_csv(os.getcwd()+'/src/frenda_brenda/Files/SpeciesBaseMechanisms.csv')\n",
    "\n",
    "v_to_c_map = {model_species.loc[model_species['Label'] == s, 'Relative'].values[0]:s for s in metabolites}\n",
    "\n",
    "# get all the parameters that can vary during the fitting\n",
    "kinetics_labels = [p for p in r.getGlobalParameterIds() if np.any([k in p for k in ['Km','Kcat','Ki']])]\n",
    "Gi_labels = [p for p in r.getGlobalParameterIds() if 'Gi' in p ]\n",
    "metabolites_labels = [model_species.loc[model_species['Label'] == s, 'Relative'].values[0] for s in metabolites] #[s for s in r.getFloatingSpeciesIds() if 'EC' not in s]\n",
    "\n",
    "parameter_labels = kinetics_labels + Gi_labels + metabolites_labels # + list(metabolites_labels)\n",
    "parameter_labels.append('rel0') # what are good bounds for this?\n",
    "\n",
    "# make upper and lower bounds\n",
    "upper = np.array([r[i]*10 for i in kinetics_labels] + [1 for _ in Gi_labels] + [10 for _ in metabolites_labels] + [10])\n",
    "lower = np.array([r[i]/10 for i in kinetics_labels] + [1/100 for _ in Gi_labels] + [1/10 for _ in metabolites_labels] + [1/10])\n",
    "\n",
    "# define variables that don't change during fitting, but could be different across samples\n",
    "# (dilution factor, biosynthesis metabolites, which enzymes are present)\n",
    "variables = {}\n",
    "for s in metadata['sample_labels']:\n",
    "    variables[s] = {'dilution_factor':1/metadata['dilution_factor'][s]}\n",
    "    variables[s] = {**variables[s] , **{p:1 for p in r.getGlobalParameterIds() if 'p_EC' in p}}\n",
    "    variables[s] = {**variables[s] , **init_concentrations[s]}\n",
    "\n",
    "from src.fitting.pygmo_problems import SBMLGlobalFit_Multi\n",
    "myprob = SBMLGlobalFit_Multi(\n",
    "    model = modelfile, \n",
    "    data = measurements, \n",
    "    parameter_labels=parameter_labels, \n",
    "    lower_bounds=lower, upper_bounds=upper, \n",
    "    metadata=metadata,\n",
    "    variables=variables,\n",
    "    scale=True)\n",
    "\n",
    "prob = pg.problem(myprob)"
   ]
  },
  {
   "cell_type": "code",
   "execution_count": 3,
   "metadata": {},
   "outputs": [],
   "source": [
    "import ipyparallel as ipp\n",
    "client = ipp.Client(profile='cheme-ecfers')\n",
    "len(client[:])\n",
    "\n",
    "client[:].apply_sync(os.chdir,'/mmfs1/gscratch/cheme/dalba/repos/ECFERS');"
   ]
  },
  {
   "cell_type": "code",
   "execution_count": 3,
   "metadata": {},
   "outputs": [],
   "source": [
    "udbfe = pickleless_bfe(client_kwargs={'profile':'cheme-ecfers'}, view_kwargs = {}, temp_dv_path = os.getcwd()+'/models/binaries', prob = prob)"
   ]
  },
  {
   "cell_type": "code",
   "execution_count": 4,
   "metadata": {},
   "outputs": [],
   "source": [
    "udbfe.init_view(client_kwargs={'profile':'cheme-ecfers'})"
   ]
  },
  {
   "cell_type": "code",
   "execution_count": 5,
   "metadata": {},
   "outputs": [],
   "source": [
    "mybfe = pg.bfe(udbfe)"
   ]
  },
  {
   "cell_type": "code",
   "execution_count": 6,
   "metadata": {},
   "outputs": [],
   "source": [
    "# pick parameters based on this thesis\n",
    "# https://repository.up.ac.za/handle/2263/66233#:~:text=The%20thesis%20shows%20that%20the,empirical%20tests%20and%20theoretical%20reasoning.\n",
    "algos = []\n",
    "pops = []\n",
    "replicates = 1\n",
    "for i in range(replicates):\n",
    "    a = pg.pso_gen(gen=10,omega=0.95, eta1=0.25, eta2=0.25, max_vel=0.01, variant=5, neighb_type=2, neighb_param=4)\n",
    "    # a = pg.gaco(gen=10)\n",
    "    a.set_bfe(mybfe)\n",
    "    algo = pg.algorithm(a)\n",
    "    algo.set_verbosity(1)\n",
    "    algos.append(algo)\n",
    "    pops.append(pg.population(prob, size = 0))"
   ]
  },
  {
   "cell_type": "code",
   "execution_count": 7,
   "metadata": {},
   "outputs": [],
   "source": [
    "total_nodes = 40*18\n",
    "init_std = 0.17\n",
    "xs = (np.expand_dims(myprob._scale(lower*10),-1)@np.ones((1,total_nodes))*(1+np.random.normal(0, init_std,(len(lower),total_nodes)))).T\n",
    "fvs = udbfe(prob, xs.reshape(-1))"
   ]
  },
  {
   "cell_type": "code",
   "execution_count": 18,
   "metadata": {},
   "outputs": [
    {
     "data": {
      "text/plain": [
       "array(<itertools.chain object at 0x7f4621bbadc0>, dtype=object)"
      ]
     },
     "execution_count": 18,
     "metadata": {},
     "output_type": "execute_result"
    }
   ],
   "source": [
    "fvs"
   ]
  },
  {
   "cell_type": "code",
   "execution_count": null,
   "metadata": {},
   "outputs": [],
   "source": []
  }
 ],
 "metadata": {
  "kernelspec": {
   "display_name": "myenv",
   "language": "python",
   "name": "myenv"
  },
  "language_info": {
   "codemirror_mode": {
    "name": "ipython",
    "version": 3
   },
   "file_extension": ".py",
   "mimetype": "text/x-python",
   "name": "python",
   "nbconvert_exporter": "python",
   "pygments_lexer": "ipython3",
   "version": "3.9.18"
  }
 },
 "nbformat": 4,
 "nbformat_minor": 2
}
