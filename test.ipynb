{
 "cells": [
  {
   "cell_type": "code",
   "execution_count": 1,
   "metadata": {},
   "outputs": [],
   "source": [
    "from src.kinetic_estimator.estimators import Estimator, ENKIE\n"
   ]
  },
  {
   "cell_type": "code",
   "execution_count": 2,
   "metadata": {},
   "outputs": [
    {
     "data": {
      "text/plain": [
       "[37.38470390794175]"
      ]
     },
     "execution_count": 2,
     "metadata": {},
     "output_type": "execute_result"
    }
   ],
   "source": [
    "DLKcat = Estimator('DLKcat','kcat')\n",
    "\n",
    "species = \"L-Arginine\"\n",
    "enzyme_seq = \"MSLGIRYLALLPLFVITACQQPVNYNPPATQVAQVQPAIVNNSWIEISRSALDFNVKKVQSLLGKQSSLCAVLKGDAYGHDLSLVAPIMIENNVKCIGVTNNQELKEVRDLGFKGRLMRVRNATEQEMAQATNYNVEELIGDLDMAKRLDAIAKQQNKVIPIHLALNSGGMSRNGLEVDNKSGLEKAKQISQLANLKVVGIMSHYPEEDANKVREDLARFKQQSQQVLEVMGLERNNVTLHMANTFATITVPESWLDMVRVGGIFYGDTIASTDYKRVMTFKSNIASINYYPKGNTVGYDRTYTLKRDSVLANIPVGYADGYRRVFSNAGHALIAGQRVPVLGKTSMNTVIVDITSLNNIKPGDEVVFFGKQGNSEITAEEIEDISGALFTEMSILWGATNQRVLVD\"\n",
    "\n",
    "DLKcat.estimate([species], [enzyme_seq])\n"
   ]
  },
  {
   "cell_type": "code",
   "execution_count": 3,
   "metadata": {},
   "outputs": [
    {
     "ename": "KeyError",
     "evalue": "'Estimator DLKcat cannot be used to estimate Km'",
     "output_type": "error",
     "traceback": [
      "\u001b[1;31m---------------------------------------------------------------------------\u001b[0m",
      "\u001b[1;31mKeyError\u001b[0m                                  Traceback (most recent call last)",
      "\u001b[1;32mc:\\Users\\Diego Alba\\Documents\\GitHub\\ECFERS\\test.ipynb Cell 3\u001b[0m line \u001b[0;36m1\n\u001b[1;32m----> <a href='vscode-notebook-cell:/c%3A/Users/Diego%20Alba/Documents/GitHub/ECFERS/test.ipynb#W2sZmlsZQ%3D%3D?line=0'>1</a>\u001b[0m DLKcat \u001b[39m=\u001b[39m Estimator(\u001b[39m'\u001b[39;49m\u001b[39mDLKcat\u001b[39;49m\u001b[39m'\u001b[39;49m,\u001b[39m'\u001b[39;49m\u001b[39mKm\u001b[39;49m\u001b[39m'\u001b[39;49m)\n",
      "File \u001b[1;32mc:\\Users\\Diego Alba\\Documents\\GitHub\\ECFERS\\src\\kinetic_estimator\\estimators.py:81\u001b[0m, in \u001b[0;36mEstimator.__init__\u001b[1;34m(self, estimator, parameter)\u001b[0m\n\u001b[0;32m     79\u001b[0m         \u001b[39mself\u001b[39m\u001b[39m.\u001b[39mestimator \u001b[39m=\u001b[39m \u001b[39mself\u001b[39m\u001b[39m.\u001b[39mestimator_dict[estimator]()\n\u001b[0;32m     80\u001b[0m     \u001b[39melse\u001b[39;00m:\n\u001b[1;32m---> 81\u001b[0m         \u001b[39mraise\u001b[39;00m \u001b[39mKeyError\u001b[39;00m(\u001b[39m\"\u001b[39m\u001b[39mEstimator \u001b[39m\u001b[39m\"\u001b[39m \u001b[39m+\u001b[39m estimator \u001b[39m+\u001b[39m \u001b[39m\"\u001b[39m\u001b[39m cannot be used to estimate \u001b[39m\u001b[39m\"\u001b[39m \u001b[39m+\u001b[39m parameter)\n\u001b[0;32m     82\u001b[0m \u001b[39melse\u001b[39;00m:\n\u001b[0;32m     83\u001b[0m     \u001b[39mraise\u001b[39;00m \u001b[39mKeyError\u001b[39;00m(\u001b[39m\"\u001b[39m\u001b[39mNo estimator named \u001b[39m\u001b[39m\"\u001b[39m \u001b[39m+\u001b[39m estimator \u001b[39m+\u001b[39m \u001b[39m\"\u001b[39m\u001b[39m found. Available estimators are: \u001b[39m\u001b[39m\"\u001b[39m \u001b[39m+\u001b[39m [e\u001b[39m.\u001b[39mname \u001b[39mfor\u001b[39;00m e \u001b[39min\u001b[39;00m ESTIMATORS])\n",
      "\u001b[1;31mKeyError\u001b[0m: 'Estimator DLKcat cannot be used to estimate Km'"
     ]
    }
   ],
   "source": [
    "DLKcat = Estimator('DLKcat','Km')\n"
   ]
  },
  {
   "cell_type": "code",
   "execution_count": 3,
   "metadata": {},
   "outputs": [
    {
     "name": "stderr",
     "output_type": "stream",
     "text": [
      "[21:10:38] ERROR: \n",
      "\n"
     ]
    },
    {
     "name": "stdout",
     "output_type": "stream",
     "text": [
      ".....2(a) Loading ESM-1b model.\n",
      ".....2(b) Calculating enzyme representations.\n"
     ]
    },
    {
     "data": {
      "text/plain": [
       "array([0.4244131], dtype=float32)"
      ]
     },
     "execution_count": 3,
     "metadata": {},
     "output_type": "execute_result"
    }
   ],
   "source": [
    "KMest = Estimator('KM_prediction','Km')\n",
    "\n",
    "species = \"L-Arginine\"\n",
    "enzyme_seq = \"MSLGIRYLALLPLFVITACQQPVNYNPPATQVAQVQPAIVNNSWIEISRSALDFNVKKVQSLLGKQSSLCAVLKGDAYGHDLSLVAPIMIENNVKCIGVTNNQELKEVRDLGFKGRLMRVRNATEQEMAQATNYNVEELIGDLDMAKRLDAIAKQQNKVIPIHLALNSGGMSRNGLEVDNKSGLEKAKQISQLANLKVVGIMSHYPEEDANKVREDLARFKQQSQQVLEVMGLERNNVTLHMANTFATITVPESWLDMVRVGGIFYGDTIASTDYKRVMTFKSNIASINYYPKGNTVGYDRTYTLKRDSVLANIPVGYADGYRRVFSNAGHALIAGQRVPVLGKTSMNTVIVDITSLNNIKPGDEVVFFGKQGNSEITAEEIEDISGALFTEMSILWGATNQRVLVD\"\n",
    "\n",
    "KMest.estimate([species], [enzyme_seq])"
   ]
  },
  {
   "cell_type": "code",
   "execution_count": null,
   "metadata": {},
   "outputs": [],
   "source": []
  }
 ],
 "metadata": {
  "kernelspec": {
   "display_name": "ODBM2",
   "language": "python",
   "name": "python3"
  },
  "language_info": {
   "codemirror_mode": {
    "name": "ipython",
    "version": 3
   },
   "file_extension": ".py",
   "mimetype": "text/x-python",
   "name": "python",
   "nbconvert_exporter": "python",
   "pygments_lexer": "ipython3",
   "version": "3.8.17"
  },
  "orig_nbformat": 4
 },
 "nbformat": 4,
 "nbformat_minor": 2
}
