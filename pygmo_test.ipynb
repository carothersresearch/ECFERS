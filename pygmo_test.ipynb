{
 "cells": [
  {
   "cell_type": "code",
   "execution_count": 1,
   "metadata": {},
   "outputs": [],
   "source": [
    "import pygmo as pg\n",
    "a_cstrs_sa = pg.algorithm(pg.cmaes(gen = 10, sigma0=0.3))\n",
    "p_toy = pg.problem(pg.rosenbrock(dim = 5))\n",
    "archi = pg.archipelago(n=3,algo=a_cstrs_sa, prob=p_toy, pop_size=10)"
   ]
  },
  {
   "cell_type": "code",
   "execution_count": 2,
   "metadata": {},
   "outputs": [
    {
     "name": "stdout",
     "output_type": "stream",
     "text": [
      "Number of islands: 3\n",
      "Topology: Unconnected\n",
      "Migration type: point-to-point\n",
      "Migrant handling policy: preserve\n",
      "Status: idle\n",
      "\n",
      "Islands summaries:\n",
      "\n",
      "\t#  Type           Algo                                                        Prob                                  Size  Status  \n",
      "\t----------------------------------------------------------------------------------------------------------------------------------\n",
      "\t0  Thread island  CMA-ES: Covariance Matrix Adaptation Evolutionary Strategy  Multidimensional Rosenbrock Function  10    idle    \n",
      "\t1  Thread island  CMA-ES: Covariance Matrix Adaptation Evolutionary Strategy  Multidimensional Rosenbrock Function  10    idle    \n",
      "\t2  Thread island  CMA-ES: Covariance Matrix Adaptation Evolutionary Strategy  Multidimensional Rosenbrock Function  10    idle    \n",
      "\n"
     ]
    }
   ],
   "source": [
    "archi.evolve()\n",
    "archi.wait()\n",
    "print(archi)"
   ]
  },
  {
   "cell_type": "code",
   "execution_count": 3,
   "metadata": {},
   "outputs": [
    {
     "data": {
      "text/plain": [
       "[array([248.63446739]), array([945.64965429]), array([1982.91775215])]"
      ]
     },
     "execution_count": 3,
     "metadata": {},
     "output_type": "execute_result"
    }
   ],
   "source": [
    "archi.get_champions_f() "
   ]
  },
  {
   "cell_type": "code",
   "execution_count": 4,
   "metadata": {},
   "outputs": [
    {
     "data": {
      "text/plain": [
       "Topology name: Unconnected\n",
       "\tC++ class name: pagmo::unconnected"
      ]
     },
     "execution_count": 4,
     "metadata": {},
     "output_type": "execute_result"
    }
   ],
   "source": [
    "archi.get_topology()"
   ]
  },
  {
   "cell_type": "code",
   "execution_count": null,
   "metadata": {},
   "outputs": [],
   "source": []
  }
 ],
 "metadata": {
  "kernelspec": {
   "display_name": "myenv",
   "language": "python",
   "name": "myenv"
  },
  "language_info": {
   "codemirror_mode": {
    "name": "ipython",
    "version": 3
   },
   "file_extension": ".py",
   "mimetype": "text/x-python",
   "name": "python",
   "nbconvert_exporter": "python",
   "pygments_lexer": "ipython3",
   "version": "3.9.18"
  }
 },
 "nbformat": 4,
 "nbformat_minor": 2
}
