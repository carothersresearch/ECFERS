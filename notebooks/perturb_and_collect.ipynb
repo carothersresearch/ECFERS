{
 "cells": [
  {
   "cell_type": "code",
   "execution_count": 6,
   "metadata": {},
   "outputs": [],
   "source": [
    "import os\n",
    "import pickle\n",
    "\n",
    "import matplotlib.colors as colors\n",
    "import matplotlib.pyplot as plt\n",
    "import numpy as np\n",
    "import pandas as pd\n",
    "import pygmo as pg\n",
    "# import seaborn as sns\n",
    "import tellurium as te\n",
    "import itertools\n",
    "\n",
    "os.chdir('..')\n",
    "\n",
    "from mpl_toolkits.axes_grid1 import make_axes_locatable\n",
    "from src.odbm.odbm_main import ModelBuilder\n",
    "from src.fitting.pygmo_problems import SBML_Barebone_Multi_Fly"
   ]
  },
  {
   "cell_type": "markdown",
   "metadata": {},
   "source": [
    "Iterate through all factor labels for enzymes and metabolites. Condense into one variable called parameter_labels"
   ]
  },
  {
   "cell_type": "code",
   "execution_count": 11,
   "metadata": {},
   "outputs": [],
   "source": [
    "pvals = {p:r_simple[p] for p in r_simple.getGlobalParameterIds() if 'p_EC' in p}\n",
    "plabels = list(pvals.keys())\n",
    "\n",
    "metabolites = [s for s in r_simple.getFloatingSpeciesIds() if 'EC' not in s]\n",
    "rstr = r_simple.getSBML()\n",
    "vlabels = [v for v in [(rstr[rstr.find('<initialAssignment symbol=\"'+s+'\">')+150:rstr.find('<initialAssignment symbol=\"'+s+'\">')+150+len(s)]).split(' ')[0] for s in metabolites] if 'v' in v]\n",
    "\n",
    "parameter_labels = plabels + vlabels"
   ]
  },
  {
   "cell_type": "code",
   "execution_count": 12,
   "metadata": {},
   "outputs": [
    {
     "data": {
      "text/plain": [
       "['p_EC11137', 'v338', 'v581', 'v359', 'v593', 'v539']"
      ]
     },
     "execution_count": 12,
     "metadata": {},
     "output_type": "execute_result"
    }
   ],
   "source": [
    "parameter_labels"
   ]
  },
  {
   "cell_type": "markdown",
   "metadata": {},
   "source": [
    "Makes a dataframe of all possible perturbations of starting conditions of enzymes and metabolites in the system. These are the initial conditions we will want to break down into numpy arrays for \"x\"."
   ]
  },
  {
   "cell_type": "code",
   "execution_count": 13,
   "metadata": {},
   "outputs": [],
   "source": [
    "# Example list of IDs and perturbation factors\n",
    "IDs = parameter_labels\n",
    "perturbation_factors = [1/10, 10]\n",
    "\n",
    "# Initialize empty dataframe to store results\n",
    "concentration_df = pd.DataFrame(columns=['Perturbation ID'] + IDs)\n",
    "\n",
    "# Generate all combinations of perturbation factors for the IDs\n",
    "perturbation_combinations = list(itertools.product(perturbation_factors, repeat=len(IDs)))\n",
    "\n",
    "perturbation_id = 1\n",
    "for combination in perturbation_combinations:\n",
    "    # Track the concentration values for this perturbation\n",
    "    concentration_values = [perturbation_id]\n",
    "    for i, ID in enumerate(IDs):\n",
    "        initial_concentration = r_simple.getValue(ID)\n",
    "        perturbed_concentration = initial_concentration * combination[i]\n",
    "        concentration_values.append(perturbed_concentration)\n",
    "    concentration_df.loc[len(concentration_df)] = concentration_values\n",
    "    perturbation_id += 1"
   ]
  },
  {
   "cell_type": "code",
   "execution_count": 14,
   "metadata": {},
   "outputs": [
    {
     "data": {
      "text/html": [
       "<div>\n",
       "<style scoped>\n",
       "    .dataframe tbody tr th:only-of-type {\n",
       "        vertical-align: middle;\n",
       "    }\n",
       "\n",
       "    .dataframe tbody tr th {\n",
       "        vertical-align: top;\n",
       "    }\n",
       "\n",
       "    .dataframe thead th {\n",
       "        text-align: right;\n",
       "    }\n",
       "</style>\n",
       "<table border=\"1\" class=\"dataframe\">\n",
       "  <thead>\n",
       "    <tr style=\"text-align: right;\">\n",
       "      <th></th>\n",
       "      <th>Perturbation ID</th>\n",
       "      <th>p_EC11137</th>\n",
       "      <th>v338</th>\n",
       "      <th>v581</th>\n",
       "      <th>v359</th>\n",
       "      <th>v593</th>\n",
       "      <th>v539</th>\n",
       "    </tr>\n",
       "  </thead>\n",
       "  <tbody>\n",
       "    <tr>\n",
       "      <th>0</th>\n",
       "      <td>1.0</td>\n",
       "      <td>0.1</td>\n",
       "      <td>0.1</td>\n",
       "      <td>0.1</td>\n",
       "      <td>0.1</td>\n",
       "      <td>0.1</td>\n",
       "      <td>0.1</td>\n",
       "    </tr>\n",
       "    <tr>\n",
       "      <th>1</th>\n",
       "      <td>2.0</td>\n",
       "      <td>0.1</td>\n",
       "      <td>0.1</td>\n",
       "      <td>0.1</td>\n",
       "      <td>0.1</td>\n",
       "      <td>0.1</td>\n",
       "      <td>10.0</td>\n",
       "    </tr>\n",
       "    <tr>\n",
       "      <th>2</th>\n",
       "      <td>3.0</td>\n",
       "      <td>0.1</td>\n",
       "      <td>0.1</td>\n",
       "      <td>0.1</td>\n",
       "      <td>0.1</td>\n",
       "      <td>10.0</td>\n",
       "      <td>0.1</td>\n",
       "    </tr>\n",
       "    <tr>\n",
       "      <th>3</th>\n",
       "      <td>4.0</td>\n",
       "      <td>0.1</td>\n",
       "      <td>0.1</td>\n",
       "      <td>0.1</td>\n",
       "      <td>0.1</td>\n",
       "      <td>10.0</td>\n",
       "      <td>10.0</td>\n",
       "    </tr>\n",
       "    <tr>\n",
       "      <th>4</th>\n",
       "      <td>5.0</td>\n",
       "      <td>0.1</td>\n",
       "      <td>0.1</td>\n",
       "      <td>0.1</td>\n",
       "      <td>10.0</td>\n",
       "      <td>0.1</td>\n",
       "      <td>0.1</td>\n",
       "    </tr>\n",
       "    <tr>\n",
       "      <th>...</th>\n",
       "      <td>...</td>\n",
       "      <td>...</td>\n",
       "      <td>...</td>\n",
       "      <td>...</td>\n",
       "      <td>...</td>\n",
       "      <td>...</td>\n",
       "      <td>...</td>\n",
       "    </tr>\n",
       "    <tr>\n",
       "      <th>59</th>\n",
       "      <td>60.0</td>\n",
       "      <td>10.0</td>\n",
       "      <td>10.0</td>\n",
       "      <td>10.0</td>\n",
       "      <td>0.1</td>\n",
       "      <td>10.0</td>\n",
       "      <td>10.0</td>\n",
       "    </tr>\n",
       "    <tr>\n",
       "      <th>60</th>\n",
       "      <td>61.0</td>\n",
       "      <td>10.0</td>\n",
       "      <td>10.0</td>\n",
       "      <td>10.0</td>\n",
       "      <td>10.0</td>\n",
       "      <td>0.1</td>\n",
       "      <td>0.1</td>\n",
       "    </tr>\n",
       "    <tr>\n",
       "      <th>61</th>\n",
       "      <td>62.0</td>\n",
       "      <td>10.0</td>\n",
       "      <td>10.0</td>\n",
       "      <td>10.0</td>\n",
       "      <td>10.0</td>\n",
       "      <td>0.1</td>\n",
       "      <td>10.0</td>\n",
       "    </tr>\n",
       "    <tr>\n",
       "      <th>62</th>\n",
       "      <td>63.0</td>\n",
       "      <td>10.0</td>\n",
       "      <td>10.0</td>\n",
       "      <td>10.0</td>\n",
       "      <td>10.0</td>\n",
       "      <td>10.0</td>\n",
       "      <td>0.1</td>\n",
       "    </tr>\n",
       "    <tr>\n",
       "      <th>63</th>\n",
       "      <td>64.0</td>\n",
       "      <td>10.0</td>\n",
       "      <td>10.0</td>\n",
       "      <td>10.0</td>\n",
       "      <td>10.0</td>\n",
       "      <td>10.0</td>\n",
       "      <td>10.0</td>\n",
       "    </tr>\n",
       "  </tbody>\n",
       "</table>\n",
       "<p>64 rows × 7 columns</p>\n",
       "</div>"
      ],
      "text/plain": [
       "    Perturbation ID  p_EC11137  v338  v581  v359  v593  v539\n",
       "0               1.0        0.1   0.1   0.1   0.1   0.1   0.1\n",
       "1               2.0        0.1   0.1   0.1   0.1   0.1  10.0\n",
       "2               3.0        0.1   0.1   0.1   0.1  10.0   0.1\n",
       "3               4.0        0.1   0.1   0.1   0.1  10.0  10.0\n",
       "4               5.0        0.1   0.1   0.1  10.0   0.1   0.1\n",
       "..              ...        ...   ...   ...   ...   ...   ...\n",
       "59             60.0       10.0  10.0  10.0   0.1  10.0  10.0\n",
       "60             61.0       10.0  10.0  10.0  10.0   0.1   0.1\n",
       "61             62.0       10.0  10.0  10.0  10.0   0.1  10.0\n",
       "62             63.0       10.0  10.0  10.0  10.0  10.0   0.1\n",
       "63             64.0       10.0  10.0  10.0  10.0  10.0  10.0\n",
       "\n",
       "[64 rows x 7 columns]"
      ]
     },
     "execution_count": 14,
     "metadata": {},
     "output_type": "execute_result"
    }
   ],
   "source": [
    "concentration_df"
   ]
  },
  {
   "cell_type": "markdown",
   "metadata": {},
   "source": [
    "Calling SBML_Barebone_Multi_Fly. We'll want the input for calculate_metrics to be the numpy array we got from the above dataframe before running though."
   ]
  },
  {
   "cell_type": "code",
   "execution_count": 25,
   "metadata": {},
   "outputs": [],
   "source": [
    "mod = ['src/frenda_brenda/Files/SBML models/240610MC_simple.sbml']\n",
    "parameter_labels = parameter_labels\n",
    "tp = 60 # try one hour to start with\n",
    "# var = [concentration_df.iloc[0].drop(concentration_df.columns[0]).to_dict()]"
   ]
  },
  {
   "cell_type": "code",
   "execution_count": 32,
   "metadata": {},
   "outputs": [],
   "source": [
    "peter = SBML_Barebone_Multi_Fly(mod, parameter_labels, tp)\n",
    "peter._setup_rr()\n",
    "metrics = peter._calculate_metrics(np.array([1,1,1,1,1,1]))"
   ]
  },
  {
   "cell_type": "code",
   "execution_count": 36,
   "metadata": {},
   "outputs": [
    {
     "data": {
      "text/plain": [
       "[    Species  Final Concentration  Min Conc  Max Conc   Min Time   Max Time  \\\n",
       " 0  [C00003]             0.000316  0.000316  0.001000  36.096096   0.000000   \n",
       " 1  [C00004]             1.083684  1.083000  1.083684   0.000000  36.096096   \n",
       " 2  [C00036]             0.000684  0.000000  0.000684   0.000000  36.096096   \n",
       " 3  [C00080]             0.000784  0.000100  0.000784   0.000000  36.096096   \n",
       " 4  [C00149]             1.699316  1.699316  1.700000  36.096096   0.000000   \n",
       " \n",
       "    Total Production  Production to Max  Half Max Time  Half Max Conc  \n",
       " 0         -0.000684           0.000000       0.000000       0.001000  \n",
       " 1          0.000684           0.000684       1.201201       1.083339  \n",
       " 2          0.000684           0.000684       1.201201       0.000339  \n",
       " 3          0.000684           0.000684       1.201201       0.000439  \n",
       " 4         -0.000684           0.000000       0.000000       1.700000  ]"
      ]
     },
     "execution_count": 36,
     "metadata": {},
     "output_type": "execute_result"
    }
   ],
   "source": [
    "metrics"
   ]
  }
 ],
 "metadata": {
  "kernelspec": {
   "display_name": "Python 3 (ipykernel)",
   "language": "python",
   "name": "python3"
  },
  "language_info": {
   "codemirror_mode": {
    "name": "ipython",
    "version": 3
   },
   "file_extension": ".py",
   "mimetype": "text/x-python",
   "name": "python",
   "nbconvert_exporter": "python",
   "pygments_lexer": "ipython3",
   "version": "3.9.18"
  }
 },
 "nbformat": 4,
 "nbformat_minor": 2
}
