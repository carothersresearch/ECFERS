{
 "cells": [
  {
   "cell_type": "code",
   "execution_count": null,
   "metadata": {},
   "outputs": [],
   "source": [
    "import requests\n",
    "import xml.etree.ElementTree as ET\n",
    "import numpy as np\n",
    "from equilibrator_api import ComponentContribution\n",
    "\n",
    "cc = ComponentContribution()\n",
    "s = requests.Session() # create "
   ]
  },
  {
   "cell_type": "code",
   "execution_count": null,
   "metadata": {},
   "outputs": [],
   "source": [
    "# from Kegg id to inchi_key\n",
    "\n",
    "kegg_id = 'C00031'\n",
    "\n",
    "for i in cc.search_compound(kegg_id).identifiers:\n",
    "    if i.registry.namespace == 'inchi_key':\n",
    "        print(i.accession)"
   ]
  },
  {
   "cell_type": "code",
   "execution_count": null,
   "metadata": {},
   "outputs": [],
   "source": [
    "r = s.get('https://api.datanator.info/metabolites/concentration_only/?inchi_key='+inchi_key)\n",
    "np.mean(list(map(float,r.text[r.text.find('concentration\": [')+17:r.text.find('],\\n      \"concentration_units')].split('\"')[1::2])))"
   ]
  },
  {
   "cell_type": "code",
   "execution_count": null,
   "metadata": {},
   "outputs": [],
   "source": []
  }
 ],
 "metadata": {
  "kernelspec": {
   "display_name": "ODBM",
   "language": "python",
   "name": "python3"
  },
  "language_info": {
   "codemirror_mode": {
    "name": "ipython",
    "version": 3
   },
   "file_extension": ".py",
   "mimetype": "text/x-python",
   "name": "python",
   "nbconvert_exporter": "python",
   "pygments_lexer": "ipython3",
   "version": "3.6.13"
  }
 },
 "nbformat": 4,
 "nbformat_minor": 2
}
