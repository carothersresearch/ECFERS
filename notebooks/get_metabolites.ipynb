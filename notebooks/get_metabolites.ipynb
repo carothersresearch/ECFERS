{
 "cells": [
  {
   "cell_type": "code",
   "execution_count": 1,
   "metadata": {},
   "outputs": [],
   "source": [
    "import requests\n",
    "import xml.etree.ElementTree as ET\n",
    "import numpy as np\n",
    "from equilibrator_api import ComponentContribution\n",
    "import pandas as pd\n",
    "import pickle\n",
    "import os\n",
    "\n",
    "cc = ComponentContribution()\n",
    "s = requests.Session() # create "
   ]
  },
  {
   "cell_type": "code",
   "execution_count": 84,
   "metadata": {},
   "outputs": [
    {
     "data": {
      "text/plain": [
       "1707.3333333333333"
      ]
     },
     "execution_count": 84,
     "metadata": {},
     "output_type": "execute_result"
    }
   ],
   "source": [
    "# from Kegg id to inchi_key\n",
    "\n",
    "kegg_id = 'C00031'\n",
    "compound = cc.get_compound(\"kegg:\"+kegg_id)\n",
    "\n",
    "# look up the concentration of the compound in datanator\n",
    "try:\n",
    "    r = s.get('https://api.datanator.info/metabolites/concentration_only/?inchi_key='+compound.inchi_key)\n",
    "    concentration = np.mean(list(map(float, r.json()[1]['concentrations']['concentration']))) # are these all in uM?\n",
    "except:\n",
    "    concentration = 1 # default concentration value\n",
    "concentration"
   ]
  },
  {
   "cell_type": "code",
   "execution_count": 2,
   "metadata": {},
   "outputs": [],
   "source": [
    "def get_metabolite(kegg_id, recache=False):\n",
    "    try:\n",
    "        with open(os.getcwd()+'/src/kinetic_estimator/datanator_cache.pickle', 'rb') as handle:\n",
    "            datanator_cache = pickle.load(handle)\n",
    "    except:\n",
    "        datanator_cache = {}\n",
    "\n",
    "    if kegg_id in datanator_cache and not recache:\n",
    "        return datanator_cache[kegg_id]\n",
    "    \n",
    "    else:\n",
    "        compound = cc.get_compound(\"kegg:\"+kegg_id)\n",
    "        try:\n",
    "            r = s.get('https://api.datanator.info/metabolites/concentration_only/?inchi_key='+compound.inchi_key)\n",
    "            concentration = np.array(list(map(float,r.json()[1]['concentrations']['concentration']))) # are these all in uM?\n",
    "            units = np.array(list(map(lambda x: x.replace('&#181;','u'), r.json()[1]['concentrations']['concentration_units'])))\n",
    "            concentration = np.mean(concentration[units=='uM']) # take the mean of only the uM\n",
    "        except:\n",
    "            try:\n",
    "                r = s.get('https://api.datanator.info/metabolites/concentrations/similar_compounds/?inchikey='+compound.inchi_key+'&threshold=0.8&target_species=Escherichia%20coli')\n",
    "                concentration = np.array(list(map(float,sum([[y['concentration'] for y in x['concentrations']] for x in r.json()],[]))))\n",
    "                units = np.array(list(map(lambda x: x.replace('&#181;','u'), sum([[y['concentration_units'] if 'concentration_units' in y else y['unit'] for y in x['concentrations'] ] for x in r.json()],[]))))\n",
    "                if len(units)>0:\n",
    "                    concentration[[units=='M']] = concentration[[units=='M']]*10e6\n",
    "                    concentration = np.mean(concentration[units=='uM']) # take the mean of only the uM\n",
    "                else:\n",
    "                    concentration = np.nan\n",
    "            except Exception as e:\n",
    "                concentration = np.nan # default concentration value\n",
    "        \n",
    "        datanator_cache[kegg_id] = concentration\n",
    "        with open(os.getcwd()+'/src/kinetic_estimator/datanator_cache.pickle', 'wb') as handle:\n",
    "            pickle.dump(datanator_cache, handle, protocol=pickle.HIGHEST_PROTOCOL)\n",
    "        return concentration"
   ]
  },
  {
   "cell_type": "code",
   "execution_count": 13,
   "metadata": {},
   "outputs": [],
   "source": [
    "# get kegg ids to look up. this could be from the Species spreadsheet; using full_reports for now\n",
    "compounds = np.unique(sum([pd.read_csv('src/kinetic_estimator/'+file+'.csv')['substrates'].to_list() for file in ['full_report_kcats','full_report_kcats_missing','full_report_kis']],[]))"
   ]
  },
  {
   "cell_type": "code",
   "execution_count": 14,
   "metadata": {},
   "outputs": [
    {
     "name": "stderr",
     "output_type": "stream",
     "text": [
      "C:\\Users\\Diego Alba\\AppData\\Local\\Temp\\ipykernel_16868\\2451878743.py:24: FutureWarning: Using a non-tuple sequence for multidimensional indexing is deprecated; use `arr[tuple(seq)]` instead of `arr[seq]`. In the future this will be interpreted as an array index, `arr[np.array(seq)]`, which will result either in an error or a different result.\n",
      "  concentration[[units=='M']] = concentration[[units=='M']]*10e6\n",
      "c:\\Users\\Diego Alba\\.conda\\envs\\ODBM2\\lib\\site-packages\\numpy\\core\\fromnumeric.py:3419: RuntimeWarning: Mean of empty slice.\n",
      "  return _methods._mean(a, axis=axis, dtype=dtype,\n",
      "c:\\Users\\Diego Alba\\.conda\\envs\\ODBM2\\lib\\site-packages\\numpy\\core\\_methods.py:188: RuntimeWarning: invalid value encountered in double_scalars\n",
      "  ret = ret.dtype.type(ret / rcount)\n"
     ]
    }
   ],
   "source": [
    "all_concentrations = np.array(list(map(lambda c: get_metabolite(c, True), compounds)))"
   ]
  },
  {
   "cell_type": "code",
   "execution_count": 15,
   "metadata": {},
   "outputs": [
    {
     "data": {
      "text/plain": [
       "(array([ 2.,  2.,  2.,  6., 16., 23., 52., 17., 13.,  1.]),\n",
       " array([-1.7212464 , -0.99939969, -0.27755297,  0.44429374,  1.16614045,\n",
       "         1.88798717,  2.60983388,  3.33168059,  4.05352731,  4.77537402,\n",
       "         5.49722073]),\n",
       " <BarContainer object of 10 artists>)"
      ]
     },
     "execution_count": 15,
     "metadata": {},
     "output_type": "execute_result"
    },
    {
     "data": {
      "image/png": "[encoded data removed]",
      "text/plain": [
       "<Figure size 640x480 with 1 Axes>"
      ]
     },
     "metadata": {},
     "output_type": "display_data"
    }
   ],
   "source": [
    "import matplotlib.pyplot as plt\n",
    "plt.hist(np.log10(all_concentrations[~np.isnan(all_concentrations)]))"
   ]
  },
  {
   "cell_type": "code",
   "execution_count": null,
   "metadata": {},
   "outputs": [],
   "source": []
  }
 ],
 "metadata": {
  "kernelspec": {
   "display_name": "ODBM",
   "language": "python",
   "name": "python3"
  },
  "language_info": {
   "codemirror_mode": {
    "name": "ipython",
    "version": 3
   },
   "file_extension": ".py",
   "mimetype": "text/x-python",
   "name": "python",
   "nbconvert_exporter": "python",
   "pygments_lexer": "ipython3",
   "version": "3.8.17"
  }
 },
 "nbformat": 4,
 "nbformat_minor": 2
}
