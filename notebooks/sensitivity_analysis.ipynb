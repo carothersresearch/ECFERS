{
 "cells": [
  {
   "cell_type": "code",
   "execution_count": 2,
   "metadata": {},
   "outputs": [],
   "source": [
    "import os\n",
    "import numpy as np\n",
    "import pandas as pd\n",
    "import seaborn as sns\n",
    "import tellurium as te\n",
    "\n",
    "import matplotlib.pyplot as plt"
   ]
  },
  {
   "cell_type": "code",
   "execution_count": 3,
   "metadata": {},
   "outputs": [
    {
     "data": {
      "text/plain": [
       "'c:\\\\Users\\\\mkcoo\\\\Documents\\\\UW\\\\GitHub\\\\ECFERS'"
      ]
     },
     "execution_count": 3,
     "metadata": {},
     "output_type": "execute_result"
    }
   ],
   "source": [
    "os.chdir('..')\n",
    "os.getcwd()"
   ]
  },
  {
   "cell_type": "code",
   "execution_count": 4,
   "metadata": {},
   "outputs": [],
   "source": [
    "r_biosyn = te.loads('models/240621_VN_Metabolism_Gly_BIOSYN.sbml')"
   ]
  },
  {
   "cell_type": "code",
   "execution_count": 5,
   "metadata": {},
   "outputs": [
    {
     "data": {
      "text/plain": [
       "0.0"
      ]
     },
     "execution_count": 5,
     "metadata": {},
     "output_type": "execute_result"
    }
   ],
   "source": [
    "r_biosyn.C00158HCT"
   ]
  },
  {
   "cell_type": "markdown",
   "metadata": {},
   "source": [
    "Don't forget to set the base dilution factor initially"
   ]
  },
  {
   "cell_type": "code",
   "execution_count": 36,
   "metadata": {},
   "outputs": [],
   "source": [
    "def resetsbml(r):\n",
    "    r.reset()\n",
    "\n",
    "    r.setValue('init(dilution_factor)',1/200)\n",
    "    r.C00037 = 1\n",
    "    r.C00149 = 1\n",
    "    r.C00022 = 1\n",
    "    r.C00065 = 1\n",
    "    r.C00036 = 1\n",
    "    r.C00018 = 1\n",
    "    r.C00002 = 1\n",
    "    r.C00020 = 1\n",
    "    r.C00120 = 1\n",
    "    r.C00010 = 1\n",
    "    r.C00033 = 2\n",
    "    r.C00158HCT = 10\n",
    "    r.C00304 = 1\n",
    "    r.C01328 = 15\n",
    "    r.C00011 = 10\n",
    "    r.C00014 = 1\n",
    "    r.EC11719 = 0.0122\n",
    "    r.EC11137 = 0.061\n",
    "    r.EC6411 = 0.0488\n",
    "    r.EC43117 = 0.0366\n",
    "\n",
    "    return(r)"
   ]
  },
  {
   "cell_type": "code",
   "execution_count": 37,
   "metadata": {},
   "outputs": [],
   "source": [
    "def resetsbmldil(r):\n",
    "    r.reset()\n",
    "\n",
    "    r.setValue('init(dilution_factor)',0.00375)\n",
    "    r.C00037 = 1\n",
    "    r.C00149 = 1\n",
    "    r.C00022 = 1\n",
    "    r.C00065 = 1\n",
    "    r.C00036 = 1\n",
    "    r.C00018 = 1\n",
    "    r.C00002 = 1\n",
    "    r.C00020 = 1\n",
    "    r.C00120 = 1\n",
    "    r.C00010 = 1\n",
    "    r.C00033 = 2\n",
    "    r.C00158HCT = 10\n",
    "    r.C00304 = 1\n",
    "    r.C01328 = 15\n",
    "    r.C00011 = 10\n",
    "    r.C00014 = 1\n",
    "    r.EC11719 = 0.0122\n",
    "    r.EC11137 = 0.061\n",
    "    r.EC6411 = 0.0488\n",
    "    r.EC43117 = 0.0366\n",
    "\n",
    "    return(r)"
   ]
  },
  {
   "cell_type": "code",
   "execution_count": 38,
   "metadata": {},
   "outputs": [],
   "source": [
    "def resetsbmlconc(r):\n",
    "    r.reset()\n",
    "\n",
    "    r.setValue('init(dilution_factor)',0.00625)\n",
    "    r.C00037 = 1\n",
    "    r.C00149 = 1\n",
    "    r.C00022 = 1\n",
    "    r.C00065 = 1\n",
    "    r.C00036 = 1\n",
    "    r.C00018 = 1\n",
    "    r.C00002 = 1\n",
    "    r.C00020 = 1\n",
    "    r.C00120 = 1\n",
    "    r.C00010 = 1\n",
    "    r.C00033 = 2\n",
    "    r.C00158HCT = 10\n",
    "    r.C00304 = 1\n",
    "    r.C01328 = 15\n",
    "    r.C00011 = 10\n",
    "    r.C00014 = 1\n",
    "    r.EC11719 = 0.0122\n",
    "    r.EC11137 = 0.061\n",
    "    r.EC6411 = 0.0488\n",
    "    r.EC43117 = 0.0366\n",
    "\n",
    "    return(r)"
   ]
  },
  {
   "cell_type": "markdown",
   "metadata": {},
   "source": [
    "Simulate to obtain the base values for malate production and CO2 production/consumption"
   ]
  },
  {
   "cell_type": "code",
   "execution_count": 39,
   "metadata": {},
   "outputs": [],
   "source": [
    "r_biosyn = resetsbml(r_biosyn)\n",
    "base_results = r_biosyn.simulate(0, 8*60*60)\n",
    "base_mal = base_results['[C00149]'][-1] - base_results['[C00149]'][0]\n",
    "base_carbon = (base_results['[C00011]'][-1] + base_results['[C00288]'][-1]) - (base_results['[C00011]'][0] + base_results['[C00288]'][0])"
   ]
  },
  {
   "cell_type": "markdown",
   "metadata": {},
   "source": [
    "Decrease the dilution factor (more dilute)"
   ]
  },
  {
   "cell_type": "code",
   "execution_count": 40,
   "metadata": {},
   "outputs": [],
   "source": [
    "r_biosyn = resetsbmldil(r_biosyn)"
   ]
  },
  {
   "cell_type": "code",
   "execution_count": 41,
   "metadata": {},
   "outputs": [],
   "source": [
    "dilute_results = r_biosyn.simulate(0, 8*60*60)\n",
    "dilute_mal = dilute_results['[C00149]'][-1] - dilute_results['[C00149]'][0]\n",
    "dilute_carbon = (dilute_results['[C00011]'][-1] + dilute_results['[C00288]'][-1]) - (dilute_results['[C00011]'][0] + dilute_results['[C00288]'][0])"
   ]
  },
  {
   "cell_type": "markdown",
   "metadata": {},
   "source": [
    "Increase the dilution factor (less dilute)"
   ]
  },
  {
   "cell_type": "code",
   "execution_count": 42,
   "metadata": {},
   "outputs": [],
   "source": [
    "r_biosyn = resetsbmlconc(r_biosyn)"
   ]
  },
  {
   "cell_type": "code",
   "execution_count": 43,
   "metadata": {},
   "outputs": [],
   "source": [
    "conc_results = r_biosyn.simulate(0, 8*60*60)\n",
    "conc_mal = conc_results['[C00149]'][-1] - conc_results['[C00149]'][0]\n",
    "conc_carbon = (conc_results['[C00011]'][-1] + conc_results['[C00288]'][-1]) - (conc_results['[C00011]'][0] + conc_results['[C00288]'][0])"
   ]
  },
  {
   "cell_type": "markdown",
   "metadata": {},
   "source": [
    "Decrease the concentration of Fdh"
   ]
  },
  {
   "cell_type": "code",
   "execution_count": 44,
   "metadata": {},
   "outputs": [],
   "source": [
    "r_biosyn = resetsbml(r_biosyn)\n",
    "fdhinit = r_biosyn.EC11719\n",
    "r_biosyn.EC11719 = fdhinit*0.75"
   ]
  },
  {
   "cell_type": "code",
   "execution_count": 45,
   "metadata": {},
   "outputs": [],
   "source": [
    "lofdh_results = r_biosyn.simulate(0, 8*60*60)\n",
    "lofdh_mal = lofdh_results['[C00149]'][-1] - lofdh_results['[C00149]'][0]\n",
    "lofdh_carbon = (lofdh_results['[C00011]'][-1] + lofdh_results['[C00288]'][-1]) - (lofdh_results['[C00011]'][0] + lofdh_results['[C00288]'][0])"
   ]
  },
  {
   "cell_type": "markdown",
   "metadata": {},
   "source": [
    "Increase the concentration of Fdh"
   ]
  },
  {
   "cell_type": "code",
   "execution_count": 46,
   "metadata": {},
   "outputs": [],
   "source": [
    "r_biosyn = resetsbml(r_biosyn)\n",
    "r_biosyn.EC11719 = fdhinit*1.25"
   ]
  },
  {
   "cell_type": "code",
   "execution_count": 47,
   "metadata": {},
   "outputs": [],
   "source": [
    "hifdh_results = r_biosyn.simulate(0, 8*60*60)\n",
    "hifdh_mal = hifdh_results['[C00149]'][-1] - hifdh_results['[C00149]'][0]\n",
    "hifdh_carbon = (hifdh_results['[C00011]'][-1] + hifdh_results['[C00288]'][-1]) - (hifdh_results['[C00011]'][0] + hifdh_results['[C00288]'][0])"
   ]
  },
  {
   "cell_type": "markdown",
   "metadata": {},
   "source": [
    "Decrease the concentration of HCT"
   ]
  },
  {
   "cell_type": "code",
   "execution_count": 48,
   "metadata": {},
   "outputs": [],
   "source": [
    "r_biosyn = resetsbml(r_biosyn)\n",
    "hctinit = r_biosyn.C00158HCT\n",
    "r_biosyn.C00158HCT = hctinit*0.75"
   ]
  },
  {
   "cell_type": "code",
   "execution_count": 49,
   "metadata": {},
   "outputs": [],
   "source": [
    "lohct_results = r_biosyn.simulate(0, 8*60*60)\n",
    "lohct_mal = lohct_results['[C00149]'][-1] - lohct_results['[C00149]'][0]\n",
    "lohct_carbon = (lohct_results['[C00011]'][-1] + lohct_results['[C00288]'][-1]) - (lohct_results['[C00011]'][0] + lohct_results['[C00288]'][0])"
   ]
  },
  {
   "cell_type": "markdown",
   "metadata": {},
   "source": [
    "Increase the concentration of HCT"
   ]
  },
  {
   "cell_type": "code",
   "execution_count": 50,
   "metadata": {},
   "outputs": [],
   "source": [
    "r_biosyn = resetsbml(r_biosyn)\n",
    "r_biosyn.C00158HCT = hctinit*1.25"
   ]
  },
  {
   "cell_type": "code",
   "execution_count": 51,
   "metadata": {},
   "outputs": [],
   "source": [
    "hihct_results = r_biosyn.simulate(0, 8*60*60)\n",
    "hihct_mal = hihct_results['[C00149]'][-1] - hihct_results['[C00149]'][0]\n",
    "hihct_carbon = (hihct_results['[C00011]'][-1] + hihct_results['[C00288]'][-1]) - (hihct_results['[C00011]'][0] + hihct_results['[C00288]'][0])"
   ]
  },
  {
   "cell_type": "markdown",
   "metadata": {},
   "source": [
    "Decrease the concentration of all pathway enzymes"
   ]
  },
  {
   "cell_type": "code",
   "execution_count": 52,
   "metadata": {},
   "outputs": [],
   "source": [
    "r_biosyn = resetsbml(r_biosyn)\n",
    "sdainit = r_biosyn.EC1442\n",
    "pycinit = r_biosyn.EC6411\n",
    "mdhinit = r_biosyn.EC11137"
   ]
  },
  {
   "cell_type": "code",
   "execution_count": 53,
   "metadata": {},
   "outputs": [],
   "source": [
    "r_biosyn.EC1442 = sdainit*0.75\n",
    "r_biosyn.EC6411 = pycinit*0.75\n",
    "r_biosyn.EC11137 = mdhinit*0.75"
   ]
  },
  {
   "cell_type": "code",
   "execution_count": 54,
   "metadata": {},
   "outputs": [],
   "source": [
    "loenz_results = r_biosyn.simulate(0, 8*60*60)\n",
    "loenz_mal = loenz_results['[C00149]'][-1] - loenz_results['[C00149]'][0]\n",
    "loenz_carbon = (loenz_results['[C00011]'][-1] + loenz_results['[C00288]'][-1]) - (loenz_results['[C00011]'][0] + loenz_results['[C00288]'][0])"
   ]
  },
  {
   "cell_type": "markdown",
   "metadata": {},
   "source": [
    "Increase the concentration of all pathway enzymes"
   ]
  },
  {
   "cell_type": "code",
   "execution_count": 55,
   "metadata": {},
   "outputs": [],
   "source": [
    "r_biosyn = resetsbml(r_biosyn)\n",
    "r_biosyn.EC1442 = sdainit*1.25\n",
    "r_biosyn.EC6411 = pycinit*1.25\n",
    "r_biosyn.EC11137 = mdhinit*1.25"
   ]
  },
  {
   "cell_type": "code",
   "execution_count": 56,
   "metadata": {},
   "outputs": [],
   "source": [
    "hienz_results = r_biosyn.simulate(0, 8*60*60)\n",
    "hienz_mal = hienz_results['[C00149]'][-1] - hienz_results['[C00149]'][0]\n",
    "hienz_carbon = (hienz_results['[C00011]'][-1] + hienz_results['[C00288]'][-1]) - (hienz_results['[C00011]'][0] + hienz_results['[C00288]'][0])"
   ]
  },
  {
   "cell_type": "markdown",
   "metadata": {},
   "source": [
    "Decrease the concentration of Serine"
   ]
  },
  {
   "cell_type": "code",
   "execution_count": 57,
   "metadata": {},
   "outputs": [],
   "source": [
    "r_biosyn = resetsbml(r_biosyn)\n",
    "serinit = r_biosyn.C00065\n",
    "r_biosyn.C00065 = serinit*0.75"
   ]
  },
  {
   "cell_type": "code",
   "execution_count": 58,
   "metadata": {},
   "outputs": [],
   "source": [
    "loser_results = r_biosyn.simulate(0, 8*60*60)\n",
    "loser_mal = loser_results['[C00149]'][-1] - loser_results['[C00149]'][0]\n",
    "loser_carbon = (loser_results['[C00011]'][-1] + loser_results['[C00288]'][-1]) - (loser_results['[C00011]'][0] + loser_results['[C00288]'][0])"
   ]
  },
  {
   "cell_type": "markdown",
   "metadata": {},
   "source": [
    "Increase the concentration of Serine"
   ]
  },
  {
   "cell_type": "code",
   "execution_count": 59,
   "metadata": {},
   "outputs": [],
   "source": [
    "r_biosyn = resetsbml(r_biosyn)\n",
    "r_biosyn.C00065 = serinit*1.25"
   ]
  },
  {
   "cell_type": "code",
   "execution_count": 60,
   "metadata": {},
   "outputs": [],
   "source": [
    "hiser_results = r_biosyn.simulate(0, 8*60*60)\n",
    "hiser_mal = hiser_results['[C00149]'][-1] - hiser_results['[C00149]'][0]\n",
    "hiser_carbon = (hiser_results['[C00011]'][-1] + hiser_results['[C00288]'][-1]) - (hiser_results['[C00011]'][0] + hiser_results['[C00288]'][0])"
   ]
  },
  {
   "cell_type": "markdown",
   "metadata": {},
   "source": [
    "Construct a dataframe with values"
   ]
  },
  {
   "cell_type": "code",
   "execution_count": 88,
   "metadata": {},
   "outputs": [],
   "source": [
    "col0 = ['[Hyroxycitrate]', '[Pathway Enzymes]', '[Serine]', 'Cofactor Regeneration ([Fdh])', 'Dilution Factor']\n",
    "col1 = [lohct_mal, loenz_mal, loser_mal, lofdh_mal, dilute_mal]\n",
    "col2 = [hihct_mal, hienz_mal, hiser_mal, hifdh_mal, conc_mal]\n",
    "\n",
    "mal_df = pd.DataFrame({\n",
    "    'Input': col0,\n",
    "    '-25%': col1,\n",
    "    '+25%': col2\n",
    "})"
   ]
  },
  {
   "cell_type": "code",
   "execution_count": 89,
   "metadata": {},
   "outputs": [],
   "source": [
    "col0 = ['[Hyroxycitrate]', '[Pathway Enzymes]', 'Cofactor Regeneration ([Fdh])', '[Serine]', 'Dilution Factor']\n",
    "col1 = [lohct_carbon, loenz_carbon, lofdh_carbon, loser_carbon, dilute_carbon]\n",
    "col2 = [hihct_carbon, hienz_carbon, hifdh_carbon, hiser_carbon, conc_carbon]\n",
    "\n",
    "carbon_df = pd.DataFrame({\n",
    "    'Input': col0,\n",
    "    '-25%': col1,\n",
    "    '+25%': col2\n",
    "})"
   ]
  },
  {
   "cell_type": "code",
   "execution_count": 90,
   "metadata": {},
   "outputs": [],
   "source": [
    "mal_df['-25%'] -= base_mal\n",
    "mal_df['+25%'] -= base_mal"
   ]
  },
  {
   "cell_type": "code",
   "execution_count": 91,
   "metadata": {},
   "outputs": [],
   "source": [
    "carbon_df['-25%'] -= base_carbon\n",
    "carbon_df['+25%'] -= base_carbon"
   ]
  },
  {
   "cell_type": "markdown",
   "metadata": {},
   "source": [
    "Make a tornado plot for malate"
   ]
  },
  {
   "cell_type": "code",
   "execution_count": 99,
   "metadata": {},
   "outputs": [
    {
     "data": {
      "text/plain": [
       "Text(0.5, 1.0, 'Sensitivity of Malate Total Production')"
      ]
     },
     "execution_count": 99,
     "metadata": {},
     "output_type": "execute_result"
    },
    {
     "data": {
      "image/png": "[encoded data removed]",
      "text/plain": [
       "<Figure size 640x480 with 1 Axes>"
      ]
     },
     "metadata": {},
     "output_type": "display_data"
    }
   ],
   "source": [
    "mal_df2 = pd.melt(mal_df, id_vars ='Input', var_name='Change in Parameter', value_name='change in the output' )\n",
    "\n",
    "fig, ax = plt.subplots()\n",
    "for typ, df in zip(mal_df2['Change in Parameter'].unique(),mal_df2.groupby('Change in Parameter')):\n",
    "    ax.barh(df[1]['Input'], df[1]['change in the output'], height=0.5, label=typ)\n",
    "ax.legend(title = 'Change in Parameter')  \n",
    "\n",
    "plt.xlabel('Change in [Malate] from base condition (mM)')\n",
    "plt.title('Sensitivity of Malate Total Production')"
   ]
  },
  {
   "cell_type": "markdown",
   "metadata": {},
   "source": [
    "Make a tornado plot for carbon"
   ]
  },
  {
   "cell_type": "code",
   "execution_count": 100,
   "metadata": {},
   "outputs": [
    {
     "data": {
      "text/plain": [
       "Text(0.5, 1.0, 'Sensitivity of Carbon Total Production')"
      ]
     },
     "execution_count": 100,
     "metadata": {},
     "output_type": "execute_result"
    },
    {
     "data": {
      "image/png": "[encoded data removed]",
      "text/plain": [
       "<Figure size 640x480 with 1 Axes>"
      ]
     },
     "metadata": {},
     "output_type": "display_data"
    }
   ],
   "source": [
    "mal_df2 = pd.melt(carbon_df, id_vars ='Input', var_name='Change in Parameter', value_name='change in the output' )\n",
    "\n",
    "fig, ax = plt.subplots()\n",
    "for typ, df in zip(mal_df2['Change in Parameter'].unique(),mal_df2.groupby('Change in Parameter')):\n",
    "    ax.barh(df[1]['Input'], df[1]['change in the output'], height=0.5, label=typ)\n",
    "ax.legend(title = 'Change in Parameter')  \n",
    "plt.xlabel('Change in [Carbon] from base condition (mM)')\n",
    "plt.title('Sensitivity of Carbon Total Production')"
   ]
  },
  {
   "cell_type": "code",
   "execution_count": null,
   "metadata": {},
   "outputs": [],
   "source": []
  }
 ],
 "metadata": {
  "kernelspec": {
   "display_name": "arpae",
   "language": "python",
   "name": "python3"
  },
  "language_info": {
   "codemirror_mode": {
    "name": "ipython",
    "version": 3
   },
   "file_extension": ".py",
   "mimetype": "text/x-python",
   "name": "python",
   "nbconvert_exporter": "python",
   "pygments_lexer": "ipython3",
   "version": "3.12.7"
  }
 },
 "nbformat": 4,
 "nbformat_minor": 2
}
