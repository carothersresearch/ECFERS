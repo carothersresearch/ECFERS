{
 "cells": [
  {
   "cell_type": "code",
   "execution_count": 3,
   "metadata": {},
   "outputs": [],
   "source": [
    "import os\n",
    "os.chdir('..')\n",
    "from src.kinetic_estimator.estimators import Estimator"
   ]
  },
  {
   "cell_type": "code",
   "execution_count": 24,
   "metadata": {},
   "outputs": [],
   "source": [
    "import pandas as pd\n",
    "rxns = pd.read_csv('Reaction_BK.csv')\n",
    "species = ((rxns['Substrates']+'; '+rxns['Products'] + '; ' + rxns['Inhibitors'].apply(lambda x: '' if pd.isnull(x) else x)).apply(lambda x: x.replace(\" \", \"\").split(';'))).apply(lambda x: [y for y in x if y is not ''])\n",
    "all_species = [item for sublist in species for item in sublist]\n",
    "ECs = ((rxns['EC']+';')*species.apply(lambda x: len(x))).apply(lambda x: x.replace(\" \", \"\").split(';')).apply(lambda x: [y for y in x if y is not ''])\n",
    "all_enzymes = [item for sublist in ECs for item in sublist]\n",
    "all_organisms = ['Escherichia coli'] * len(all_species)"
   ]
  },
  {
   "cell_type": "code",
   "execution_count": 18,
   "metadata": {},
   "outputs": [],
   "source": [
    "import numpy as np\n",
    "_,index = np.unique([e+s for e, s in zip(all_enzymes, all_species)],return_index=True)"
   ]
  },
  {
   "cell_type": "code",
   "execution_count": 19,
   "metadata": {},
   "outputs": [
    {
     "data": {
      "text/plain": [
       "['2.3.3.16',\n",
       " '2.3.3.16',\n",
       " '2.3.3.16',\n",
       " '2.3.3.16',\n",
       " '2.3.3.16',\n",
       " '4.1.2.22',\n",
       " '4.1.2.22',\n",
       " '4.1.2.22',\n",
       " '4.1.2.22',\n",
       " '4.1.2.22',\n",
       " '4.1.2.22',\n",
       " '4.1.2.22',\n",
       " '4.1.3.24',\n",
       " '4.1.3.24',\n",
       " '4.1.3.24',\n",
       " '4.1.3.24',\n",
       " '4.1.3.24',\n",
       " '4.1.3.24',\n",
       " '4.1.3.24']"
      ]
     },
     "execution_count": 19,
     "metadata": {},
     "output_type": "execute_result"
    }
   ],
   "source": [
    "list(np.array(all_enzymes)[index])"
   ]
  },
  {
   "cell_type": "code",
   "execution_count": 3,
   "metadata": {},
   "outputs": [],
   "source": [
    "all_species = ['C00085']\n",
    "all_enzymes = ['5.3.1.9']\n",
    "all_organisms = ['Escherichia coli'] "
   ]
  },
  {
   "cell_type": "code",
   "execution_count": 25,
   "metadata": {},
   "outputs": [
    {
     "name": "stderr",
     "output_type": "stream",
     "text": [
      "[11:16:05] SMILES Parse Error: duplicated ring closure 0 bonds atom 0 to itself for input: 'C00158'\n",
      "[11:16:07] SMILES Parse Error: duplicated ring closure 0 bonds atom 0 to itself for input: 'C00311'\n",
      "[11:16:07] SMILES Parse Error: duplicated ring closure 0 bonds atom 0 to itself for input: 'C00001'\n",
      "[11:16:08] SMILES Parse Error: duplicated ring closure 0 bonds atom 0 to itself for input: 'C00311'\n",
      "[11:16:08] SMILES Parse Error: duplicated ring closure 0 bonds atom 0 to itself for input: 'C00417'\n",
      "[11:16:09] SMILES Parse Error: duplicated ring closure 0 bonds atom 0 to itself for input: 'C00158'\n",
      "[11:16:09] SMILES Parse Error: duplicated ring closure 0 bonds atom 0 to itself for input: 'C00158'\n",
      "[11:16:09] SMILES Parse Error: duplicated ring closure 0 bonds atom 0 to itself for input: 'C00001'\n",
      "[11:16:09] SMILES Parse Error: duplicated ring closure 0 bonds atom 0 to itself for input: 'C00417'\n",
      "[11:16:09] SMILES Parse Error: duplicated ring closure 0 bonds atom 0 to itself for input: 'C00001'\n",
      "[11:16:09] SMILES Parse Error: duplicated ring closure 0 bonds atom 0 to itself for input: 'C00311'\n",
      "[11:16:09] SMILES Parse Error: duplicated ring closure 0 bonds atom 0 to itself for input: 'C00417'\n",
      "[11:16:09] SMILES Parse Error: duplicated ring closure 0 bonds atom 0 to itself for input: 'C00158'\n",
      "[11:16:09] SMILES Parse Error: duplicated ring closure 0 bonds atom 0 to itself for input: 'C00311'\n",
      "[11:16:09] SMILES Parse Error: duplicated ring closure 0 bonds atom 0 to itself for input: 'C00001'\n",
      "[11:16:09] SMILES Parse Error: duplicated ring closure 0 bonds atom 0 to itself for input: 'C00417'\n",
      "[11:16:10] SMILES Parse Error: duplicated ring closure 0 bonds atom 0 to itself for input: 'C00001'\n",
      "[11:16:10] SMILES Parse Error: duplicated ring closure 0 bonds atom 0 to itself for input: 'C00311'\n",
      "[11:16:10] SMILES Parse Error: duplicated ring closure 0 bonds atom 0 to itself for input: 'C00417'\n",
      "[11:16:10] SMILES Parse Error: duplicated ring closure 0 bonds atom 0 to itself for input: 'C00158'\n",
      "[11:16:10] SMILES Parse Error: duplicated ring closure 0 bonds atom 0 to itself for input: 'C00201'\n"
     ]
    },
    {
     "name": "stdout",
     "output_type": "stream",
     "text": [
      "Failed to retrieve data. Status code: 404\n"
     ]
    },
    {
     "name": "stderr",
     "output_type": "stream",
     "text": [
      "[11:16:11] SMILES Parse Error: duplicated ring closure 0 bonds atom 0 to itself for input: 'C00013'\n",
      "[11:16:12] SMILES Parse Error: duplicated ring closure 0 bonds atom 0 to itself for input: 'C00046'\n"
     ]
    },
    {
     "name": "stdout",
     "output_type": "stream",
     "text": [
      "Failed to retrieve data. Status code: 404\n"
     ]
    },
    {
     "name": "stderr",
     "output_type": "stream",
     "text": [
      "[11:16:13] SMILES Parse Error: duplicated ring closure 0 bonds atom 0 to itself for input: 'C00002'\n",
      "[11:16:14] SMILES Parse Error: duplicated ring closure 0 bonds atom 0 to itself for input: 'C00013'\n",
      "[11:16:14] SMILES Parse Error: duplicated ring closure 0 bonds atom 0 to itself for input: 'C00046'\n",
      "[11:16:14] SMILES Parse Error: duplicated ring closure 0 bonds atom 0 to itself for input: 'C00044'\n",
      "[11:16:15] SMILES Parse Error: duplicated ring closure 0 bonds atom 0 to itself for input: 'C00013'\n",
      "[11:16:15] SMILES Parse Error: duplicated ring closure 0 bonds atom 0 to itself for input: 'C00046'\n",
      "[11:16:15] SMILES Parse Error: duplicated ring closure 0 bonds atom 0 to itself for input: 'C00063'\n",
      "[11:16:16] SMILES Parse Error: duplicated ring closure 0 bonds atom 0 to itself for input: 'C00013'\n",
      "[11:16:16] SMILES Parse Error: duplicated ring closure 0 bonds atom 0 to itself for input: 'C00046'\n",
      "[11:16:16] SMILES Parse Error: duplicated ring closure 0 bonds atom 0 to itself for input: 'C00075'\n",
      "[11:16:17] SMILES Parse Error: duplicated ring closure 0 bonds atom 0 to itself for input: 'C00013'\n",
      "[11:16:17] SMILES Parse Error: duplicated ring closure 0 bonds atom 0 to itself for input: 'C00046'\n",
      "[11:16:17] SMILES Parse Error: duplicated ring closure 0 bonds atom 0 to itself for input: 'C00026'\n",
      "[11:16:18] SMILES Parse Error: unclosed ring for input: 'C15972'\n",
      "[11:16:19] SMILES Parse Error: duplicated ring closure 0 bonds atom 0 to itself for input: 'C00011'\n",
      "[11:16:20] SMILES Parse Error: unclosed ring for input: 'C16254'\n",
      "[11:16:21] SMILES Parse Error: unclosed ring for input: 'C16254'\n",
      "[11:16:21] SMILES Parse Error: duplicated ring closure 0 bonds atom 0 to itself for input: 'C00036'\n",
      "[11:16:21] SMILES Parse Error: duplicated ring closure 0 bonds atom 0 to itself for input: 'C00527'\n",
      "[11:16:22] SMILES Parse Error: duplicated ring closure 0 bonds atom 0 to itself for input: 'C00080'\n",
      "[11:16:23] WARNING: not removing hydrogen atom without neighbors\n",
      "[11:16:23] SMILES Parse Error: duplicated ring closure 0 bonds atom 0 to itself for input: 'C00026'\n",
      "[11:16:23] SMILES Parse Error: duplicated ring closure 0 bonds atom 0 to itself for input: 'C00010'\n",
      "[11:16:23] SMILES Parse Error: duplicated ring closure 0 bonds atom 0 to itself for input: 'C00068'\n",
      "[11:16:24] SMILES Parse Error: duplicated ring closure 0 bonds atom 0 to itself for input: 'C00011'\n",
      "[11:16:24] SMILES Parse Error: duplicated ring closure 0 bonds atom 0 to itself for input: 'C00004'\n",
      "[11:16:25] SMILES Parse Error: unclosed ring for input: 'C05381'\n",
      "[11:16:26] SMILES Parse Error: unclosed ring for input: 'C06157'\n"
     ]
    },
    {
     "name": "stdout",
     "output_type": "stream",
     "text": [
      "Failed to retrieve data. Status code: 404\n"
     ]
    },
    {
     "name": "stderr",
     "output_type": "stream",
     "text": [
      "[11:16:27] SMILES Parse Error: duplicated ring closure 0 bonds atom 0 to itself for input: 'C00322'\n",
      "[11:16:28] SMILES Parse Error: duplicated ring closure 0 bonds atom 0 to itself for input: 'C00003'\n",
      "[11:16:29] SMILES Parse Error: duplicated ring closure 0 bonds atom 0 to itself for input: 'C00091'\n",
      "[11:16:30] SMILES Parse Error: unclosed ring for input: 'C15972'\n",
      "[11:16:31] SMILES Parse Error: duplicated ring closure 0 bonds atom 0 to itself for input: 'C00026'\n",
      "[11:16:31] SMILES Parse Error: duplicated ring closure 0 bonds atom 0 to itself for input: 'C00068'\n",
      "[11:16:31] SMILES Parse Error: duplicated ring closure 0 bonds atom 0 to itself for input: 'C00011'\n",
      "[11:16:31] SMILES Parse Error: unclosed ring for input: 'C05381'\n",
      "[11:16:31] SMILES Parse Error: unclosed ring for input: 'C16254'\n",
      "[11:16:31] SMILES Parse Error: duplicated ring closure 0 bonds atom 0 to itself for input: 'C00036'\n",
      "[11:16:31] SMILES Parse Error: duplicated ring closure 0 bonds atom 0 to itself for input: 'C00527'\n",
      "[11:16:31] SMILES Parse Error: duplicated ring closure 0 bonds atom 0 to itself for input: 'C00080'\n",
      "[11:16:31] WARNING: not removing hydrogen atom without neighbors\n",
      "[11:16:31] SMILES Parse Error: duplicated ring closure 0 bonds atom 0 to itself for input: 'C00026'\n",
      "[11:16:31] SMILES Parse Error: duplicated ring closure 0 bonds atom 0 to itself for input: 'C00010'\n",
      "[11:16:31] SMILES Parse Error: duplicated ring closure 0 bonds atom 0 to itself for input: 'C00068'\n",
      "[11:16:32] SMILES Parse Error: duplicated ring closure 0 bonds atom 0 to itself for input: 'C00011'\n",
      "[11:16:32] SMILES Parse Error: duplicated ring closure 0 bonds atom 0 to itself for input: 'C00004'\n",
      "[11:16:32] SMILES Parse Error: unclosed ring for input: 'C05381'\n",
      "[11:16:32] SMILES Parse Error: unclosed ring for input: 'C06157'\n",
      "[11:16:32] SMILES Parse Error: duplicated ring closure 0 bonds atom 0 to itself for input: 'C00322'\n",
      "[11:16:32] SMILES Parse Error: duplicated ring closure 0 bonds atom 0 to itself for input: 'C00003'\n",
      "[11:16:32] SMILES Parse Error: duplicated ring closure 0 bonds atom 0 to itself for input: 'C00091'\n",
      "[11:16:32] SMILES Parse Error: unclosed ring for input: 'C15972'\n",
      "[11:16:32] SMILES Parse Error: duplicated ring closure 0 bonds atom 0 to itself for input: 'C00003'\n",
      "[11:16:32] SMILES Parse Error: duplicated ring closure 0 bonds atom 0 to itself for input: 'C00010'\n",
      "[11:16:33] SMILES Parse Error: duplicated ring closure 0 bonds atom 0 to itself for input: 'C00322'\n",
      "[11:16:33] SMILES Parse Error: duplicated ring closure 0 bonds atom 0 to itself for input: 'C00004'\n",
      "[11:16:33] SMILES Parse Error: duplicated ring closure 0 bonds atom 0 to itself for input: 'C00011'\n",
      "[11:16:33] SMILES Parse Error: duplicated ring closure 0 bonds atom 0 to itself for input: 'C00080'\n",
      "[11:16:33] WARNING: not removing hydrogen atom without neighbors\n",
      "[11:16:33] SMILES Parse Error: duplicated ring closure 0 bonds atom 0 to itself for input: 'C00527'\n",
      "[11:16:33] SMILES Parse Error: unclosed ring for input: 'C16254'\n",
      "[11:16:33] SMILES Parse Error: duplicated ring closure 0 bonds atom 0 to itself for input: 'C00036'\n",
      "[11:16:33] SMILES Parse Error: duplicated ring closure 0 bonds atom 0 to itself for input: 'C00527'\n",
      "[11:16:33] SMILES Parse Error: duplicated ring closure 0 bonds atom 0 to itself for input: 'C00080'\n",
      "[11:16:33] WARNING: not removing hydrogen atom without neighbors\n",
      "[11:16:33] SMILES Parse Error: duplicated ring closure 0 bonds atom 0 to itself for input: 'C00026'\n",
      "[11:16:33] SMILES Parse Error: duplicated ring closure 0 bonds atom 0 to itself for input: 'C00010'\n",
      "[11:16:34] SMILES Parse Error: duplicated ring closure 0 bonds atom 0 to itself for input: 'C00068'\n",
      "[11:16:34] SMILES Parse Error: duplicated ring closure 0 bonds atom 0 to itself for input: 'C00011'\n",
      "[11:16:34] SMILES Parse Error: duplicated ring closure 0 bonds atom 0 to itself for input: 'C00004'\n",
      "[11:16:34] SMILES Parse Error: unclosed ring for input: 'C05381'\n",
      "[11:16:34] SMILES Parse Error: unclosed ring for input: 'C06157'\n",
      "[11:16:34] SMILES Parse Error: duplicated ring closure 0 bonds atom 0 to itself for input: 'C00322'\n",
      "[11:16:34] SMILES Parse Error: duplicated ring closure 0 bonds atom 0 to itself for input: 'C00003'\n",
      "[11:16:34] SMILES Parse Error: duplicated ring closure 0 bonds atom 0 to itself for input: 'C00091'\n",
      "[11:16:34] SMILES Parse Error: unclosed ring for input: 'C15972'\n",
      "[11:16:34] SMILES Parse Error: duplicated ring closure 0 bonds atom 0 to itself for input: 'C00322'\n",
      "[11:16:34] SMILES Parse Error: unclosed ring for input: 'C15972'\n",
      "[11:16:35] SMILES Parse Error: duplicated ring closure 0 bonds atom 0 to itself for input: 'C00011'\n",
      "[11:16:35] SMILES Parse Error: unclosed ring for input: 'C06157'\n",
      "[11:16:35] SMILES Parse Error: unclosed ring for input: 'C16254'\n",
      "[11:16:35] SMILES Parse Error: duplicated ring closure 0 bonds atom 0 to itself for input: 'C00036'\n",
      "[11:16:35] SMILES Parse Error: duplicated ring closure 0 bonds atom 0 to itself for input: 'C00527'\n",
      "[11:16:35] SMILES Parse Error: duplicated ring closure 0 bonds atom 0 to itself for input: 'C00080'\n",
      "[11:16:35] WARNING: not removing hydrogen atom without neighbors\n",
      "[11:16:35] SMILES Parse Error: duplicated ring closure 0 bonds atom 0 to itself for input: 'C00026'\n",
      "[11:16:35] SMILES Parse Error: duplicated ring closure 0 bonds atom 0 to itself for input: 'C00010'\n",
      "[11:16:36] SMILES Parse Error: duplicated ring closure 0 bonds atom 0 to itself for input: 'C00068'\n",
      "[11:16:36] SMILES Parse Error: duplicated ring closure 0 bonds atom 0 to itself for input: 'C00011'\n",
      "[11:16:36] SMILES Parse Error: duplicated ring closure 0 bonds atom 0 to itself for input: 'C00004'\n",
      "[11:16:36] SMILES Parse Error: unclosed ring for input: 'C05381'\n",
      "[11:16:36] SMILES Parse Error: unclosed ring for input: 'C06157'\n",
      "[11:16:36] SMILES Parse Error: duplicated ring closure 0 bonds atom 0 to itself for input: 'C00322'\n",
      "[11:16:36] SMILES Parse Error: duplicated ring closure 0 bonds atom 0 to itself for input: 'C00003'\n",
      "[11:16:36] SMILES Parse Error: duplicated ring closure 0 bonds atom 0 to itself for input: 'C00091'\n",
      "[11:16:36] SMILES Parse Error: unclosed ring for input: 'C15972'\n",
      "[11:16:36] SMILES Parse Error: unclosed ring for input: 'C05381'\n",
      "[11:16:36] SMILES Parse Error: unclosed ring for input: 'C15972'\n",
      "[11:16:37] SMILES Parse Error: duplicated ring closure 0 bonds atom 0 to itself for input: 'C00068'\n",
      "[11:16:37] SMILES Parse Error: unclosed ring for input: 'C16254'\n",
      "[11:16:37] SMILES Parse Error: unclosed ring for input: 'C16254'\n",
      "[11:16:37] SMILES Parse Error: duplicated ring closure 0 bonds atom 0 to itself for input: 'C00036'\n",
      "[11:16:37] SMILES Parse Error: duplicated ring closure 0 bonds atom 0 to itself for input: 'C00527'\n",
      "[11:16:37] SMILES Parse Error: duplicated ring closure 0 bonds atom 0 to itself for input: 'C00080'\n",
      "[11:16:37] WARNING: not removing hydrogen atom without neighbors\n",
      "[11:16:37] SMILES Parse Error: duplicated ring closure 0 bonds atom 0 to itself for input: 'C00026'\n",
      "[11:16:37] SMILES Parse Error: duplicated ring closure 0 bonds atom 0 to itself for input: 'C00010'\n",
      "[11:16:37] SMILES Parse Error: duplicated ring closure 0 bonds atom 0 to itself for input: 'C00068'\n",
      "[11:16:38] SMILES Parse Error: duplicated ring closure 0 bonds atom 0 to itself for input: 'C00011'\n",
      "[11:16:38] SMILES Parse Error: duplicated ring closure 0 bonds atom 0 to itself for input: 'C00004'\n",
      "[11:16:38] SMILES Parse Error: unclosed ring for input: 'C05381'\n",
      "[11:16:38] SMILES Parse Error: unclosed ring for input: 'C06157'\n",
      "[11:16:38] SMILES Parse Error: duplicated ring closure 0 bonds atom 0 to itself for input: 'C00322'\n",
      "[11:16:38] SMILES Parse Error: duplicated ring closure 0 bonds atom 0 to itself for input: 'C00003'\n",
      "[11:16:38] SMILES Parse Error: duplicated ring closure 0 bonds atom 0 to itself for input: 'C00091'\n",
      "[11:16:38] SMILES Parse Error: unclosed ring for input: 'C15972'\n",
      "[11:16:38] SMILES Parse Error: duplicated ring closure 0 bonds atom 0 to itself for input: 'C00003'\n",
      "[11:16:38] SMILES Parse Error: duplicated ring closure 0 bonds atom 0 to itself for input: 'C00010'\n",
      "[11:16:38] SMILES Parse Error: duplicated ring closure 0 bonds atom 0 to itself for input: 'C00026'\n",
      "[11:16:38] SMILES Parse Error: duplicated ring closure 0 bonds atom 0 to itself for input: 'C00004'\n",
      "[11:16:39] SMILES Parse Error: duplicated ring closure 0 bonds atom 0 to itself for input: 'C00011'\n",
      "[11:16:39] SMILES Parse Error: duplicated ring closure 0 bonds atom 0 to itself for input: 'C00080'\n",
      "[11:16:39] WARNING: not removing hydrogen atom without neighbors\n",
      "[11:16:39] SMILES Parse Error: duplicated ring closure 0 bonds atom 0 to itself for input: 'C00091'\n",
      "[11:16:39] SMILES Parse Error: unclosed ring for input: 'C16254'\n",
      "[11:16:39] SMILES Parse Error: duplicated ring closure 0 bonds atom 0 to itself for input: 'C00036'\n",
      "[11:16:39] SMILES Parse Error: duplicated ring closure 0 bonds atom 0 to itself for input: 'C00527'\n",
      "[11:16:39] SMILES Parse Error: duplicated ring closure 0 bonds atom 0 to itself for input: 'C00080'\n",
      "[11:16:39] WARNING: not removing hydrogen atom without neighbors\n",
      "[11:16:39] SMILES Parse Error: duplicated ring closure 0 bonds atom 0 to itself for input: 'C00026'\n",
      "[11:16:39] SMILES Parse Error: duplicated ring closure 0 bonds atom 0 to itself for input: 'C00010'\n",
      "[11:16:39] SMILES Parse Error: duplicated ring closure 0 bonds atom 0 to itself for input: 'C00068'\n",
      "[11:16:39] SMILES Parse Error: duplicated ring closure 0 bonds atom 0 to itself for input: 'C00011'\n",
      "[11:16:40] SMILES Parse Error: duplicated ring closure 0 bonds atom 0 to itself for input: 'C00004'\n",
      "[11:16:40] SMILES Parse Error: unclosed ring for input: 'C05381'\n",
      "[11:16:40] SMILES Parse Error: unclosed ring for input: 'C06157'\n",
      "[11:16:40] SMILES Parse Error: duplicated ring closure 0 bonds atom 0 to itself for input: 'C00322'\n",
      "[11:16:40] SMILES Parse Error: duplicated ring closure 0 bonds atom 0 to itself for input: 'C00003'\n",
      "[11:16:40] SMILES Parse Error: duplicated ring closure 0 bonds atom 0 to itself for input: 'C00091'\n",
      "[11:16:40] SMILES Parse Error: unclosed ring for input: 'C15972'\n",
      "[11:16:40] SMILES Parse Error: duplicated ring closure 0 bonds atom 0 to itself for input: 'C00003'\n",
      "[11:16:40] SMILES Parse Error: duplicated ring closure 0 bonds atom 0 to itself for input: 'C00009'\n",
      "[11:16:40] SMILES Parse Error: duplicated ring closure 0 bonds atom 0 to itself for input: 'C00118'\n",
      "[11:16:40] SMILES Parse Error: duplicated ring closure 0 bonds atom 0 to itself for input: 'C00004'\n",
      "[11:16:40] SMILES Parse Error: duplicated ring closure 0 bonds atom 0 to itself for input: 'C00080'\n",
      "[11:16:40] WARNING: not removing hydrogen atom without neighbors\n",
      "[11:16:40] SMILES Parse Error: duplicated ring closure 0 bonds atom 0 to itself for input: 'C00236'\n",
      "[11:16:41] SMILES Parse Error: duplicated ring closure 0 bonds atom 0 to itself for input: 'C00002'\n",
      "[11:16:41] SMILES Parse Error: duplicated ring closure 0 bonds atom 0 to itself for input: 'C00080'\n",
      "[11:16:41] WARNING: not removing hydrogen atom without neighbors\n",
      "[11:16:41] SMILES Parse Error: unclosed ring for input: 'C01159'\n",
      "[11:16:42] SMILES Parse Error: duplicated ring closure 0 bonds atom 0 to itself for input: 'C00020'\n",
      "[11:16:43] SMILES Parse Error: duplicated ring closure 0 bonds atom 0 to itself for input: 'C00236'\n",
      "[11:16:43] SMILES Parse Error: unclosed ring for input: 'C03444'\n",
      "[11:16:46] SMILES Parse Error: duplicated ring closure 0 bonds atom 0 to itself for input: 'C00118'\n",
      "[11:16:46] SMILES Parse Error: duplicated ring closure 1 bonds atom 0 to itself for input: 'C11215'\n"
     ]
    },
    {
     "name": "stdout",
     "output_type": "stream",
     "text": [
      "Failed to retrieve data. Status code: 404\n"
     ]
    },
    {
     "name": "stderr",
     "output_type": "stream",
     "text": [
      "[11:16:47] SMILES Parse Error: duplicated ring closure 0 bonds atom 0 to itself for input: 'C00004'\n",
      "[11:16:47] SMILES Parse Error: duplicated ring closure 0 bonds atom 0 to itself for input: 'C00575'\n",
      "[11:16:48] SMILES Parse Error: duplicated ring closure 0 bonds atom 0 to itself for input: 'C00008'\n",
      "[11:16:49] SMILES Parse Error: duplicated ring closure 0 bonds atom 0 to itself for input: 'C00074'\n",
      "[11:16:50] SMILES Parse Error: duplicated ring closure 0 bonds atom 0 to itself for input: 'C00009'\n",
      "[11:16:50] SMILES Parse Error: unclosed ring for input: 'C01478'\n",
      "[11:16:51] SMILES Parse Error: duplicated ring closure 0 bonds atom 0 to itself for input: 'C00003'\n",
      "[11:16:51] SMILES Parse Error: duplicated ring closure 0 bonds atom 0 to itself for input: 'C00661'\n",
      "[11:16:52] SMILES Parse Error: duplicated ring closure 0 bonds atom 0 to itself for input: 'C00022'\n",
      "[11:16:52] SMILES Parse Error: unclosed ring for input: 'C15972'\n",
      "[11:16:52] SMILES Parse Error: duplicated ring closure 0 bonds atom 0 to itself for input: 'C00011'\n",
      "[11:16:52] SMILES Parse Error: unclosed ring for input: 'C16255'\n",
      "[11:16:53] SMILES Parse Error: duplicated ring closure 0 bonds atom 0 to itself for input: 'C00022'\n",
      "[11:16:53] SMILES Parse Error: duplicated ring closure 0 bonds atom 0 to itself for input: 'C00068'\n",
      "[11:16:53] SMILES Parse Error: duplicated ring closure 0 bonds atom 0 to itself for input: 'C00011'\n",
      "[11:16:53] SMILES Parse Error: unclosed ring for input: 'C05125'\n",
      "[11:16:54] SMILES Parse Error: duplicated ring closure 0 bonds atom 0 to itself for input: 'C00003'\n",
      "[11:16:54] SMILES Parse Error: duplicated ring closure 0 bonds atom 0 to itself for input: 'C00010'\n",
      "[11:16:54] SMILES Parse Error: duplicated ring closure 0 bonds atom 0 to itself for input: 'C00022'\n",
      "[11:16:54] SMILES Parse Error: duplicated ring closure 0 bonds atom 0 to itself for input: 'C00004'\n",
      "[11:16:55] SMILES Parse Error: duplicated ring closure 0 bonds atom 0 to itself for input: 'C00011'\n",
      "[11:16:55] SMILES Parse Error: duplicated ring closure 0 bonds atom 0 to itself for input: 'C00024'\n",
      "[11:16:55] SMILES Parse Error: duplicated ring closure 0 bonds atom 0 to itself for input: 'C00080'\n",
      "[11:16:55] WARNING: not removing hydrogen atom without neighbors\n",
      "[11:16:55] SMILES Parse Error: unclosed ring for input: 'C05125'\n",
      "[11:16:55] SMILES Parse Error: unclosed ring for input: 'C15972'\n",
      "[11:16:55] SMILES Parse Error: duplicated ring closure 0 bonds atom 0 to itself for input: 'C00068'\n",
      "[11:16:55] SMILES Parse Error: unclosed ring for input: 'C16255'\n",
      "[11:16:55] SMILES Parse Error: unclosed ring for input: 'C03798'\n"
     ]
    },
    {
     "name": "stdout",
     "output_type": "stream",
     "text": [
      "Failed to retrieve data. Status code: 404\n"
     ]
    },
    {
     "name": "stderr",
     "output_type": "stream",
     "text": [
      "[11:16:56] SMILES Parse Error: unclosed ring for input: 'C03633'\n"
     ]
    },
    {
     "name": "stdout",
     "output_type": "stream",
     "text": [
      "Failed to retrieve data. Status code: 404\n"
     ]
    },
    {
     "name": "stderr",
     "output_type": "stream",
     "text": [
      "[11:16:57] SMILES Parse Error: duplicated ring closure 0 bonds atom 0 to itself for input: 'C00001'\n",
      "[11:16:57] SMILES Parse Error: duplicated ring closure 0 bonds atom 0 to itself for input: 'C00064'\n",
      "[11:16:59] SMILES Parse Error: duplicated ring closure 0 bonds atom 0 to itself for input: 'C00014'\n",
      "[11:17:00] SMILES Parse Error: duplicated ring closure 0 bonds atom 0 to itself for input: 'C00025'\n",
      "[11:17:01] SMILES Parse Error: duplicated ring closure 0 bonds atom 0 to itself for input: 'C00001'\n",
      "[11:17:01] SMILES Parse Error: duplicated ring closure 0 bonds atom 0 to itself for input: 'C00002'\n",
      "[11:17:01] SMILES Parse Error: duplicated ring closure 0 bonds atom 0 to itself for input: 'C00064'\n",
      "[11:17:01] SMILES Parse Error: duplicated ring closure 0 bonds atom 0 to itself for input: 'C00288'\n",
      "[11:17:02] SMILES Parse Error: duplicated ring closure 0 bonds atom 0 to itself for input: 'C00008'\n",
      "[11:17:02] SMILES Parse Error: duplicated ring closure 0 bonds atom 0 to itself for input: 'C00009'\n",
      "[11:17:02] SMILES Parse Error: duplicated ring closure 0 bonds atom 0 to itself for input: 'C00025'\n",
      "[11:17:02] SMILES Parse Error: duplicated ring closure 0 bonds atom 0 to itself for input: 'C00169'\n",
      "[11:17:03] SMILES Parse Error: duplicated ring closure 0 bonds atom 0 to itself for input: 'C00002'\n",
      "[11:17:03] SMILES Parse Error: duplicated ring closure 0 bonds atom 0 to itself for input: 'C00014'\n",
      "[11:17:04] SMILES Parse Error: duplicated ring closure 0 bonds atom 0 to itself for input: 'C00288'\n",
      "[11:17:04] SMILES Parse Error: duplicated ring closure 0 bonds atom 0 to itself for input: 'C00008'\n",
      "[11:17:04] SMILES Parse Error: duplicated ring closure 0 bonds atom 0 to itself for input: 'C00009'\n",
      "[11:17:04] SMILES Parse Error: duplicated ring closure 0 bonds atom 0 to itself for input: 'C00169'\n",
      "[11:17:04] SMILES Parse Error: duplicated ring closure 0 bonds atom 0 to itself for input: 'C00003'\n",
      "[11:17:04] SMILES Parse Error: unclosed ring for input: 'C16832'\n",
      "[11:17:05] SMILES Parse Error: duplicated ring closure 0 bonds atom 0 to itself for input: 'C00004'\n",
      "[11:17:05] SMILES Parse Error: duplicated ring closure 0 bonds atom 0 to itself for input: 'C00080'\n",
      "[11:17:05] WARNING: not removing hydrogen atom without neighbors\n",
      "[11:17:05] SMILES Parse Error: unclosed ring for input: 'C16237'\n",
      "[11:17:06] SMILES Parse Error: duplicated ring closure 0 bonds atom 0 to itself for input: 'C00003'\n",
      "[11:17:06] SMILES Parse Error: unclosed ring for input: 'C02972'\n"
     ]
    },
    {
     "name": "stdout",
     "output_type": "stream",
     "text": [
      "Failed to retrieve data. Status code: 404\n"
     ]
    },
    {
     "name": "stderr",
     "output_type": "stream",
     "text": [
      "[11:17:07] SMILES Parse Error: duplicated ring closure 0 bonds atom 0 to itself for input: 'C00004'\n",
      "[11:17:07] SMILES Parse Error: duplicated ring closure 0 bonds atom 0 to itself for input: 'C00080'\n",
      "[11:17:07] WARNING: not removing hydrogen atom without neighbors\n",
      "[11:17:07] SMILES Parse Error: duplicated ring closure 0 bonds atom 0 to itself for input: 'C02051'\n"
     ]
    },
    {
     "name": "stdout",
     "output_type": "stream",
     "text": [
      "Failed to retrieve data. Status code: 404\n"
     ]
    },
    {
     "name": "stderr",
     "output_type": "stream",
     "text": [
      "[11:17:08] SMILES Parse Error: duplicated ring closure 0 bonds atom 0 to itself for input: 'C00003'\n",
      "[11:17:08] SMILES Parse Error: unclosed ring for input: 'C15973'\n",
      "[11:17:09] SMILES Parse Error: duplicated ring closure 0 bonds atom 0 to itself for input: 'C00004'\n",
      "[11:17:09] SMILES Parse Error: duplicated ring closure 0 bonds atom 0 to itself for input: 'C00080'\n",
      "[11:17:09] WARNING: not removing hydrogen atom without neighbors\n",
      "[11:17:09] SMILES Parse Error: unclosed ring for input: 'C15972'\n",
      "[11:17:09] SMILES Parse Error: duplicated ring closure 0 bonds atom 0 to itself for input: 'C00003'\n",
      "[11:17:09] SMILES Parse Error: duplicated ring closure 0 bonds atom 0 to itself for input: 'C00010'\n",
      "[11:17:09] SMILES Parse Error: duplicated ring closure 0 bonds atom 0 to itself for input: 'C00022'\n",
      "[11:17:09] SMILES Parse Error: duplicated ring closure 0 bonds atom 0 to itself for input: 'C00004'\n",
      "[11:17:09] SMILES Parse Error: duplicated ring closure 0 bonds atom 0 to itself for input: 'C00011'\n",
      "[11:17:10] SMILES Parse Error: duplicated ring closure 0 bonds atom 0 to itself for input: 'C00024'\n",
      "[11:17:10] SMILES Parse Error: duplicated ring closure 0 bonds atom 0 to itself for input: 'C00080'\n",
      "[11:17:10] WARNING: not removing hydrogen atom without neighbors\n",
      "[11:17:10] SMILES Parse Error: duplicated ring closure 0 bonds atom 0 to itself for input: 'C00003'\n",
      "[11:17:10] SMILES Parse Error: duplicated ring closure 0 bonds atom 0 to itself for input: 'C00037'\n",
      "[11:17:11] SMILES Parse Error: duplicated ring closure 0 bonds atom 0 to itself for input: 'C00101'\n",
      "[11:17:12] SMILES Parse Error: duplicated ring closure 0 bonds atom 0 to itself for input: 'C00004'\n",
      "[11:17:12] SMILES Parse Error: duplicated ring closure 0 bonds atom 0 to itself for input: 'C00011'\n",
      "[11:17:12] SMILES Parse Error: duplicated ring closure 0 bonds atom 0 to itself for input: 'C00014'\n",
      "[11:17:12] SMILES Parse Error: duplicated ring closure 0 bonds atom 0 to itself for input: 'C00080'\n",
      "[11:17:12] WARNING: not removing hydrogen atom without neighbors\n",
      "[11:17:12] SMILES Parse Error: duplicated ring closure 0 bonds atom 0 to itself for input: 'C00143'\n",
      "[11:17:13] SMILES Parse Error: duplicated ring closure 0 bonds atom 0 to itself for input: 'C00003'\n",
      "[11:17:13] SMILES Parse Error: duplicated ring closure 0 bonds atom 0 to itself for input: 'C00579'\n",
      "[11:17:14] SMILES Parse Error: duplicated ring closure 0 bonds atom 0 to itself for input: 'C00004'\n",
      "[11:17:14] SMILES Parse Error: duplicated ring closure 0 bonds atom 0 to itself for input: 'C00080'\n",
      "[11:17:14] WARNING: not removing hydrogen atom without neighbors\n",
      "[11:17:14] SMILES Parse Error: duplicated ring closure 0 bonds atom 0 to itself for input: 'C00248'\n",
      "[11:17:15] SMILES Parse Error: duplicated ring closure 0 bonds atom 0 to itself for input: 'C00003'\n",
      "[11:17:15] SMILES Parse Error: duplicated ring closure 0 bonds atom 0 to itself for input: 'C00010'\n",
      "[11:17:15] SMILES Parse Error: duplicated ring closure 0 bonds atom 0 to itself for input: 'C00322'\n",
      "[11:17:15] SMILES Parse Error: duplicated ring closure 0 bonds atom 0 to itself for input: 'C00004'\n",
      "[11:17:15] SMILES Parse Error: duplicated ring closure 0 bonds atom 0 to itself for input: 'C00011'\n",
      "[11:17:15] SMILES Parse Error: duplicated ring closure 0 bonds atom 0 to itself for input: 'C00080'\n",
      "[11:17:15] WARNING: not removing hydrogen atom without neighbors\n",
      "[11:17:15] SMILES Parse Error: duplicated ring closure 0 bonds atom 0 to itself for input: 'C00527'\n",
      "[11:17:15] SMILES Parse Error: duplicated ring closure 0 bonds atom 0 to itself for input: 'C00003'\n",
      "[11:17:15] SMILES Parse Error: duplicated ring closure 0 bonds atom 0 to itself for input: 'C00010'\n",
      "[11:17:15] SMILES Parse Error: duplicated ring closure 0 bonds atom 0 to itself for input: 'C00026'\n",
      "[11:17:15] SMILES Parse Error: duplicated ring closure 0 bonds atom 0 to itself for input: 'C00004'\n",
      "[11:17:15] SMILES Parse Error: duplicated ring closure 0 bonds atom 0 to itself for input: 'C00011'\n",
      "[11:17:15] SMILES Parse Error: duplicated ring closure 0 bonds atom 0 to itself for input: 'C00080'\n",
      "[11:17:15] WARNING: not removing hydrogen atom without neighbors\n",
      "[11:17:15] SMILES Parse Error: duplicated ring closure 0 bonds atom 0 to itself for input: 'C00091'\n",
      "[11:17:15] SMILES Parse Error: duplicated ring closure 0 bonds atom 0 to itself for input: 'C00002'\n",
      "[11:17:16] SMILES Parse Error: duplicated ring closure 0 bonds atom 0 to itself for input: 'C00010'\n",
      "[11:17:16] SMILES Parse Error: duplicated ring closure 0 bonds atom 0 to itself for input: 'C00042'\n",
      "[11:17:16] SMILES Parse Error: duplicated ring closure 0 bonds atom 0 to itself for input: 'C00008'\n",
      "[11:17:17] SMILES Parse Error: duplicated ring closure 0 bonds atom 0 to itself for input: 'C00009'\n",
      "[11:17:17] SMILES Parse Error: duplicated ring closure 0 bonds atom 0 to itself for input: 'C00091'\n",
      "[11:17:17] SMILES Parse Error: duplicated ring closure 0 bonds atom 0 to itself for input: 'C00002'\n",
      "[11:17:17] SMILES Parse Error: duplicated ring closure 0 bonds atom 0 to itself for input: 'C00042'\n",
      "[11:17:17] SMILES Parse Error: duplicated ring closure 0 bonds atom 0 to itself for input: 'C00010'\n",
      "[11:17:17] SMILES Parse Error: duplicated ring closure 0 bonds atom 0 to itself for input: 'C00490'\n",
      "[11:17:18] SMILES Parse Error: duplicated ring closure 0 bonds atom 0 to itself for input: 'C00008'\n",
      "[11:17:18] SMILES Parse Error: duplicated ring closure 0 bonds atom 0 to itself for input: 'C00009'\n",
      "[11:17:18] SMILES Parse Error: duplicated ring closure 0 bonds atom 0 to itself for input: 'C00091'\n",
      "[11:17:18] SMILES Parse Error: duplicated ring closure 0 bonds atom 0 to itself for input: 'C00531'\n",
      "[11:17:19] SMILES Parse Error: duplicated ring closure 0 bonds atom 0 to itself for input: 'C00002'\n",
      "[11:17:19] SMILES Parse Error: duplicated ring closure 0 bonds atom 0 to itself for input: 'C00010'\n",
      "[11:17:19] SMILES Parse Error: duplicated ring closure 0 bonds atom 0 to itself for input: 'C00490'\n",
      "[11:17:19] SMILES Parse Error: duplicated ring closure 0 bonds atom 0 to itself for input: 'C00008'\n",
      "[11:17:19] SMILES Parse Error: duplicated ring closure 0 bonds atom 0 to itself for input: 'C00009'\n",
      "[11:17:19] SMILES Parse Error: duplicated ring closure 0 bonds atom 0 to itself for input: 'C00531'\n",
      "[11:17:19] SMILES Parse Error: duplicated ring closure 0 bonds atom 0 to itself for input: 'C00002'\n",
      "[11:17:19] SMILES Parse Error: duplicated ring closure 0 bonds atom 0 to itself for input: 'C00042'\n",
      "[11:17:19] SMILES Parse Error: duplicated ring closure 0 bonds atom 0 to itself for input: 'C00010'\n",
      "[11:17:19] SMILES Parse Error: duplicated ring closure 0 bonds atom 0 to itself for input: 'C00490'\n",
      "[11:17:19] SMILES Parse Error: duplicated ring closure 0 bonds atom 0 to itself for input: 'C00008'\n",
      "[11:17:20] SMILES Parse Error: duplicated ring closure 0 bonds atom 0 to itself for input: 'C00009'\n",
      "[11:17:20] SMILES Parse Error: duplicated ring closure 0 bonds atom 0 to itself for input: 'C00091'\n",
      "[11:17:20] SMILES Parse Error: duplicated ring closure 0 bonds atom 0 to itself for input: 'C00531'\n",
      "[11:17:20] SMILES Parse Error: duplicated ring closure 0 bonds atom 0 to itself for input: 'C00002'\n",
      "[11:17:20] SMILES Parse Error: duplicated ring closure 0 bonds atom 0 to itself for input: 'C00197'\n",
      "[11:17:21] SMILES Parse Error: duplicated ring closure 0 bonds atom 0 to itself for input: 'C00008'\n",
      "[11:17:21] SMILES Parse Error: duplicated ring closure 0 bonds atom 0 to itself for input: 'C00236'\n",
      "[11:17:21] SMILES Parse Error: duplicated ring closure 0 bonds atom 0 to itself for input: 'C00002'\n",
      "[11:17:21] SMILES Parse Error: duplicated ring closure 0 bonds atom 0 to itself for input: 'C00197'\n",
      "[11:17:21] SMILES Parse Error: duplicated ring closure 0 bonds atom 0 to itself for input: 'C00236'\n",
      "[11:17:21] SMILES Parse Error: duplicated ring closure 0 bonds atom 0 to itself for input: 'C00008'\n",
      "[11:17:21] SMILES Parse Error: duplicated ring closure 0 bonds atom 0 to itself for input: 'C00002'\n",
      "[11:17:21] SMILES Parse Error: duplicated ring closure 0 bonds atom 0 to itself for input: 'C00041'\n",
      "[11:17:22] SMILES Parse Error: unclosed ring for input: 'C01635'\n"
     ]
    },
    {
     "name": "stdout",
     "output_type": "stream",
     "text": [
      "Failed to retrieve data. Status code: 404\n"
     ]
    },
    {
     "name": "stderr",
     "output_type": "stream",
     "text": [
      "[11:17:23] SMILES Parse Error: duplicated ring closure 0 bonds atom 0 to itself for input: 'C00013'\n",
      "[11:17:23] SMILES Parse Error: duplicated ring closure 0 bonds atom 0 to itself for input: 'C00020'\n",
      "[11:17:23] SMILES Parse Error: duplicated ring closure 0 bonds atom 0 to itself for input: 'C00886'\n"
     ]
    },
    {
     "name": "stdout",
     "output_type": "stream",
     "text": [
      "Failed to retrieve data. Status code: 404\n"
     ]
    },
    {
     "name": "stderr",
     "output_type": "stream",
     "text": [
      "[11:17:24] SMILES Parse Error: duplicated ring closure 0 bonds atom 0 to itself for input: 'C00631'\n",
      "[11:17:25] SMILES Parse Error: duplicated ring closure 0 bonds atom 0 to itself for input: 'C00001'\n",
      "[11:17:25] SMILES Parse Error: duplicated ring closure 0 bonds atom 0 to itself for input: 'C00074'\n",
      "[11:17:25] SMILES Parse Error: unclosed ring for input: 'C03356'\n",
      "[11:17:26] SMILES Parse Error: duplicated ring closure 0 bonds atom 0 to itself for input: 'C00988'\n",
      "[11:17:27] SMILES Parse Error: unclosed ring for input: 'C16487'\n"
     ]
    },
    {
     "name": "stdout",
     "output_type": "stream",
     "text": [
      "Failed to retrieve data. Status code: 404\n"
     ]
    },
    {
     "name": "stderr",
     "output_type": "stream",
     "text": [
      "[11:17:28] SMILES Parse Error: duplicated ring closure 0 bonds atom 0 to itself for input: 'C00451'\n",
      "[11:17:29] SMILES Parse Error: duplicated ring closure 0 bonds atom 0 to itself for input: 'C00009'\n",
      "[11:17:29] SMILES Parse Error: duplicated ring closure 0 bonds atom 0 to itself for input: 'C04309'\n",
      "[11:17:30] SMILES Parse Error: duplicated ring closure 0 bonds atom 0 to itself for input: 'C00074'\n",
      "[11:17:30] SMILES Parse Error: duplicated ring closure 0 bonds atom 0 to itself for input: 'C00001'\n",
      "[11:17:30] SMILES Parse Error: duplicated ring closure 0 bonds atom 0 to itself for input: 'C00631'\n",
      "[11:17:30] SMILES Parse Error: duplicated ring closure 0 bonds atom 0 to itself for input: 'C00013'\n",
      "[11:17:30] SMILES Parse Error: duplicated ring closure 0 bonds atom 0 to itself for input: 'C00158'\n",
      "[11:17:30] SMILES Parse Error: duplicated ring closure 0 bonds atom 0 to itself for input: 'C00742'\n",
      "[11:17:31] SMILES Parse Error: unclosed ring for input: 'C03356'\n",
      "[11:17:31] SMILES Parse Error: duplicated ring closure 0 bonds atom 0 to itself for input: 'C00001'\n",
      "[11:17:31] SMILES Parse Error: duplicated ring closure 0 bonds atom 0 to itself for input: 'C04309'\n",
      "[11:17:31] SMILES Parse Error: unclosed ring for input: 'C03356'\n",
      "[11:17:31] SMILES Parse Error: duplicated ring closure 0 bonds atom 0 to itself for input: 'C00988'\n",
      "[11:17:32] SMILES Parse Error: unclosed ring for input: 'C16487'\n",
      "[11:17:32] SMILES Parse Error: duplicated ring closure 0 bonds atom 0 to itself for input: 'C00451'\n",
      "[11:17:32] SMILES Parse Error: duplicated ring closure 0 bonds atom 0 to itself for input: 'C00009'\n",
      "[11:17:32] SMILES Parse Error: duplicated ring closure 0 bonds atom 0 to itself for input: 'C04309'\n",
      "[11:17:32] SMILES Parse Error: duplicated ring closure 0 bonds atom 0 to itself for input: 'C00074'\n",
      "[11:17:32] SMILES Parse Error: duplicated ring closure 0 bonds atom 0 to itself for input: 'C00001'\n",
      "[11:17:32] SMILES Parse Error: duplicated ring closure 0 bonds atom 0 to itself for input: 'C00631'\n",
      "[11:17:32] SMILES Parse Error: duplicated ring closure 0 bonds atom 0 to itself for input: 'C00013'\n",
      "[11:17:32] SMILES Parse Error: duplicated ring closure 0 bonds atom 0 to itself for input: 'C00158'\n",
      "[11:17:32] SMILES Parse Error: duplicated ring closure 0 bonds atom 0 to itself for input: 'C00742'\n",
      "[11:17:32] SMILES Parse Error: duplicated ring closure 0 bonds atom 0 to itself for input: 'C00118'\n",
      "[11:17:32] SMILES Parse Error: unclosed ring for input: 'C05382'\n",
      "[11:17:33] SMILES Parse Error: duplicated ring closure 0 bonds atom 0 to itself for input: 'C00117'\n",
      "[11:17:34] SMILES Parse Error: duplicated ring closure 0 bonds atom 0 to itself for input: 'C00231'\n",
      "[11:17:34] SMILES Parse Error: duplicated ring closure 0 bonds atom 0 to itself for input: 'C00231'\n",
      "[11:17:34] SMILES Parse Error: duplicated ring closure 0 bonds atom 0 to itself for input: 'C00085'\n",
      "[11:17:34] SMILES Parse Error: unclosed ring for input: 'C05345'\n",
      "[11:17:35] SMILES Parse Error: unclosed ring for input: 'C05382'\n",
      "[11:17:35] SMILES Parse Error: duplicated ring closure 0 bonds atom 0 to itself for input: 'C00118'\n",
      "[11:17:35] SMILES Parse Error: duplicated ring closure 0 bonds atom 0 to itself for input: 'C00117'\n",
      "[11:17:37] SMILES Parse Error: duplicated ring closure 0 bonds atom 0 to itself for input: 'C00279'\n",
      "[11:17:37] SMILES Parse Error: duplicated ring closure 0 bonds atom 0 to itself for input: 'C00068'\n",
      "[11:17:37] SMILES Parse Error: duplicated ring closure 1 bonds atom 0 to itself for input: 'C12215'\n",
      "[11:17:38] SMILES Parse Error: unclosed ring for input: 'C13378'\n"
     ]
    },
    {
     "name": "stdout",
     "output_type": "stream",
     "text": [
      "Failed to retrieve data. Status code: 404\n"
     ]
    },
    {
     "name": "stderr",
     "output_type": "stream",
     "text": [
      "[11:17:39] SMILES Parse Error: duplicated ring closure 0 bonds atom 0 to itself for input: 'C00704'\n",
      "[11:17:40] SMILES Parse Error: duplicated ring closure 1 bonds atom 0 to itself for input: 'C12214'\n",
      "[11:17:41] SMILES Parse Error: duplicated ring closure 0 bonds atom 0 to itself for input: 'C00085'\n",
      "[11:17:41] SMILES Parse Error: duplicated ring closure 0 bonds atom 0 to itself for input: 'C00118'\n",
      "[11:17:41] SMILES Parse Error: duplicated ring closure 0 bonds atom 0 to itself for input: 'C00231'\n",
      "[11:17:41] SMILES Parse Error: duplicated ring closure 0 bonds atom 0 to itself for input: 'C00279'\n",
      "[11:17:41] SMILES Parse Error: duplicated ring closure 0 bonds atom 0 to itself for input: 'C00231'\n",
      "[11:17:41] SMILES Parse Error: duplicated ring closure 0 bonds atom 0 to itself for input: 'C00085'\n",
      "[11:17:41] SMILES Parse Error: unclosed ring for input: 'C05345'\n",
      "[11:17:41] SMILES Parse Error: unclosed ring for input: 'C05382'\n",
      "[11:17:41] SMILES Parse Error: duplicated ring closure 0 bonds atom 0 to itself for input: 'C00118'\n",
      "[11:17:41] SMILES Parse Error: duplicated ring closure 0 bonds atom 0 to itself for input: 'C00117'\n",
      "[11:17:42] SMILES Parse Error: duplicated ring closure 0 bonds atom 0 to itself for input: 'C00279'\n",
      "[11:17:42] SMILES Parse Error: duplicated ring closure 0 bonds atom 0 to itself for input: 'C00068'\n",
      "[11:17:42] SMILES Parse Error: duplicated ring closure 1 bonds atom 0 to itself for input: 'C12215'\n",
      "[11:17:42] SMILES Parse Error: unclosed ring for input: 'C13378'\n",
      "[11:17:42] SMILES Parse Error: duplicated ring closure 0 bonds atom 0 to itself for input: 'C00704'\n",
      "[11:17:42] SMILES Parse Error: duplicated ring closure 1 bonds atom 0 to itself for input: 'C12214'\n",
      "[11:17:42] SMILES Parse Error: duplicated ring closure 0 bonds atom 0 to itself for input: 'C00118'\n",
      "[11:17:42] SMILES Parse Error: unclosed ring for input: 'C05345'\n",
      "[11:17:42] SMILES Parse Error: duplicated ring closure 0 bonds atom 0 to itself for input: 'C00231'\n",
      "[11:17:42] SMILES Parse Error: duplicated ring closure 0 bonds atom 0 to itself for input: 'C00279'\n",
      "[11:17:42] SMILES Parse Error: duplicated ring closure 0 bonds atom 0 to itself for input: 'C00231'\n",
      "[11:17:42] SMILES Parse Error: duplicated ring closure 0 bonds atom 0 to itself for input: 'C00085'\n",
      "[11:17:42] SMILES Parse Error: unclosed ring for input: 'C05345'\n",
      "[11:17:42] SMILES Parse Error: unclosed ring for input: 'C05382'\n",
      "[11:17:42] SMILES Parse Error: duplicated ring closure 0 bonds atom 0 to itself for input: 'C00118'\n",
      "[11:17:42] SMILES Parse Error: duplicated ring closure 0 bonds atom 0 to itself for input: 'C00117'\n",
      "[11:17:43] SMILES Parse Error: duplicated ring closure 0 bonds atom 0 to itself for input: 'C00279'\n",
      "[11:17:43] SMILES Parse Error: duplicated ring closure 0 bonds atom 0 to itself for input: 'C00068'\n",
      "[11:17:43] SMILES Parse Error: duplicated ring closure 1 bonds atom 0 to itself for input: 'C12215'\n",
      "[11:17:43] SMILES Parse Error: unclosed ring for input: 'C13378'\n",
      "[11:17:43] SMILES Parse Error: duplicated ring closure 0 bonds atom 0 to itself for input: 'C00704'\n",
      "[11:17:43] SMILES Parse Error: duplicated ring closure 1 bonds atom 0 to itself for input: 'C12214'\n",
      "[11:17:43] SMILES Parse Error: duplicated ring closure 0 bonds atom 0 to itself for input: 'C00117'\n",
      "[11:17:43] SMILES Parse Error: duplicated ring closure 1 bonds atom 0 to itself for input: 'C12214'\n",
      "[11:17:43] SMILES Parse Error: unclosed ring for input: 'C05382'\n",
      "[11:17:43] SMILES Parse Error: duplicated ring closure 1 bonds atom 0 to itself for input: 'C12215'\n",
      "[11:17:43] SMILES Parse Error: duplicated ring closure 0 bonds atom 0 to itself for input: 'C00231'\n",
      "[11:17:43] SMILES Parse Error: duplicated ring closure 0 bonds atom 0 to itself for input: 'C00085'\n",
      "[11:17:43] SMILES Parse Error: unclosed ring for input: 'C05345'\n",
      "[11:17:43] SMILES Parse Error: unclosed ring for input: 'C05382'\n",
      "[11:17:43] SMILES Parse Error: duplicated ring closure 0 bonds atom 0 to itself for input: 'C00118'\n",
      "[11:17:43] SMILES Parse Error: duplicated ring closure 0 bonds atom 0 to itself for input: 'C00117'\n",
      "[11:17:44] SMILES Parse Error: duplicated ring closure 0 bonds atom 0 to itself for input: 'C00279'\n",
      "[11:17:44] SMILES Parse Error: duplicated ring closure 0 bonds atom 0 to itself for input: 'C00068'\n",
      "[11:17:44] SMILES Parse Error: duplicated ring closure 1 bonds atom 0 to itself for input: 'C12215'\n",
      "[11:17:44] SMILES Parse Error: unclosed ring for input: 'C13378'\n",
      "[11:17:44] SMILES Parse Error: duplicated ring closure 0 bonds atom 0 to itself for input: 'C00704'\n",
      "[11:17:44] SMILES Parse Error: duplicated ring closure 1 bonds atom 0 to itself for input: 'C12214'\n",
      "[11:17:44] SMILES Parse Error: duplicated ring closure 0 bonds atom 0 to itself for input: 'C00068'\n",
      "[11:17:44] SMILES Parse Error: duplicated ring closure 0 bonds atom 0 to itself for input: 'C00231'\n",
      "[11:17:44] SMILES Parse Error: duplicated ring closure 0 bonds atom 0 to itself for input: 'C00118'\n",
      "[11:17:44] SMILES Parse Error: unclosed ring for input: 'C13378'\n",
      "[11:17:44] SMILES Parse Error: duplicated ring closure 0 bonds atom 0 to itself for input: 'C00231'\n",
      "[11:17:44] SMILES Parse Error: duplicated ring closure 0 bonds atom 0 to itself for input: 'C00085'\n",
      "[11:17:44] SMILES Parse Error: unclosed ring for input: 'C05345'\n",
      "[11:17:44] SMILES Parse Error: unclosed ring for input: 'C05382'\n",
      "[11:17:44] SMILES Parse Error: duplicated ring closure 0 bonds atom 0 to itself for input: 'C00118'\n",
      "[11:17:45] SMILES Parse Error: duplicated ring closure 0 bonds atom 0 to itself for input: 'C00117'\n",
      "[11:17:45] SMILES Parse Error: duplicated ring closure 0 bonds atom 0 to itself for input: 'C00279'\n",
      "[11:17:45] SMILES Parse Error: duplicated ring closure 0 bonds atom 0 to itself for input: 'C00068'\n",
      "[11:17:45] SMILES Parse Error: duplicated ring closure 1 bonds atom 0 to itself for input: 'C12215'\n",
      "[11:17:45] SMILES Parse Error: unclosed ring for input: 'C13378'\n",
      "[11:17:45] SMILES Parse Error: duplicated ring closure 0 bonds atom 0 to itself for input: 'C00704'\n",
      "[11:17:45] SMILES Parse Error: duplicated ring closure 1 bonds atom 0 to itself for input: 'C12214'\n",
      "[11:17:45] SMILES Parse Error: duplicated ring closure 0 bonds atom 0 to itself for input: 'C00068'\n",
      "[11:17:45] SMILES Parse Error: unclosed ring for input: 'C05382'\n",
      "[11:17:45] SMILES Parse Error: duplicated ring closure 0 bonds atom 0 to itself for input: 'C00117'\n",
      "[11:17:45] SMILES Parse Error: unclosed ring for input: 'C13378'\n",
      "[11:17:45] SMILES Parse Error: duplicated ring closure 0 bonds atom 0 to itself for input: 'C00231'\n",
      "[11:17:45] SMILES Parse Error: duplicated ring closure 0 bonds atom 0 to itself for input: 'C00085'\n",
      "[11:17:45] SMILES Parse Error: unclosed ring for input: 'C05345'\n",
      "[11:17:45] SMILES Parse Error: unclosed ring for input: 'C05382'\n",
      "[11:17:45] SMILES Parse Error: duplicated ring closure 0 bonds atom 0 to itself for input: 'C00118'\n",
      "[11:17:45] SMILES Parse Error: duplicated ring closure 0 bonds atom 0 to itself for input: 'C00117'\n",
      "[11:17:45] SMILES Parse Error: duplicated ring closure 0 bonds atom 0 to itself for input: 'C00279'\n",
      "[11:17:46] SMILES Parse Error: duplicated ring closure 0 bonds atom 0 to itself for input: 'C00068'\n",
      "[11:17:46] SMILES Parse Error: duplicated ring closure 1 bonds atom 0 to itself for input: 'C12215'\n",
      "[11:17:46] SMILES Parse Error: unclosed ring for input: 'C13378'\n",
      "[11:17:46] SMILES Parse Error: duplicated ring closure 0 bonds atom 0 to itself for input: 'C00704'\n",
      "[11:17:46] SMILES Parse Error: duplicated ring closure 1 bonds atom 0 to itself for input: 'C12214'\n",
      "[11:17:46] SMILES Parse Error: duplicated ring closure 0 bonds atom 0 to itself for input: 'C00024'\n",
      "[11:17:46] SMILES Parse Error: unclosed ring for input: 'C15973'\n",
      "[11:17:46] SMILES Parse Error: duplicated ring closure 0 bonds atom 0 to itself for input: 'C00010'\n",
      "[11:17:46] SMILES Parse Error: unclosed ring for input: 'C16255'\n",
      "[11:17:46] SMILES Parse Error: duplicated ring closure 0 bonds atom 0 to itself for input: 'C00003'\n",
      "[11:17:46] SMILES Parse Error: duplicated ring closure 0 bonds atom 0 to itself for input: 'C00010'\n",
      "[11:17:46] SMILES Parse Error: duplicated ring closure 0 bonds atom 0 to itself for input: 'C00022'\n",
      "[11:17:46] SMILES Parse Error: duplicated ring closure 0 bonds atom 0 to itself for input: 'C00004'\n",
      "[11:17:46] SMILES Parse Error: duplicated ring closure 0 bonds atom 0 to itself for input: 'C00011'\n",
      "[11:17:46] SMILES Parse Error: duplicated ring closure 0 bonds atom 0 to itself for input: 'C00024'\n",
      "[11:17:47] SMILES Parse Error: duplicated ring closure 0 bonds atom 0 to itself for input: 'C00080'\n",
      "[11:17:47] WARNING: not removing hydrogen atom without neighbors\n",
      "[11:17:47] SMILES Parse Error: duplicated ring closure 0 bonds atom 0 to itself for input: 'C00006'\n",
      "[11:17:48] SMILES Parse Error: unclosed ring for input: 'C04272'\n",
      "[11:17:48] SMILES Parse Error: duplicated ring closure 0 bonds atom 0 to itself for input: 'C00005'\n",
      "[11:17:49] SMILES Parse Error: duplicated ring closure 0 bonds atom 0 to itself for input: 'C00080'\n",
      "[11:17:49] WARNING: not removing hydrogen atom without neighbors\n",
      "[11:17:49] SMILES Parse Error: duplicated ring closure 0 bonds atom 0 to itself for input: 'C06010'\n",
      "[11:17:50] SMILES Parse Error: duplicated ring closure 0 bonds atom 0 to itself for input: 'C00005'\n",
      "[11:17:50] SMILES Parse Error: duplicated ring closure 0 bonds atom 0 to itself for input: 'C00080'\n",
      "[11:17:50] WARNING: not removing hydrogen atom without neighbors\n",
      "[11:17:50] SMILES Parse Error: duplicated ring closure 0 bonds atom 0 to itself for input: 'C00900'\n",
      "[11:17:51] SMILES Parse Error: duplicated ring closure 0 bonds atom 0 to itself for input: 'C00006'\n",
      "[11:17:52] SMILES Parse Error: duplicated ring closure 0 bonds atom 0 to itself for input: 'C04039'\n",
      "[11:17:52] SMILES Parse Error: duplicated ring closure 0 bonds atom 0 to itself for input: 'C00006'\n",
      "[11:17:53] SMILES Parse Error: unclosed ring for input: 'C04272'\n",
      "[11:17:53] SMILES Parse Error: duplicated ring closure 0 bonds atom 0 to itself for input: 'C00005'\n",
      "[11:17:53] SMILES Parse Error: duplicated ring closure 0 bonds atom 0 to itself for input: 'C00080'\n",
      "[11:17:53] WARNING: not removing hydrogen atom without neighbors\n",
      "[11:17:53] SMILES Parse Error: unclosed ring for input: 'C04181'\n",
      "[11:17:54] SMILES Parse Error: duplicated ring closure 0 bonds atom 0 to itself for input: 'C00006'\n",
      "[11:17:54] SMILES Parse Error: duplicated ring closure 0 bonds atom 0 to itself for input: 'C06007'\n",
      "[11:17:55] SMILES Parse Error: duplicated ring closure 0 bonds atom 0 to itself for input: 'C00005'\n",
      "[11:17:55] SMILES Parse Error: duplicated ring closure 0 bonds atom 0 to itself for input: 'C00080'\n",
      "[11:17:55] WARNING: not removing hydrogen atom without neighbors\n",
      "[11:17:55] SMILES Parse Error: unclosed ring for input: 'C14463'\n"
     ]
    },
    {
     "name": "stdout",
     "output_type": "stream",
     "text": [
      "Failed to retrieve data. Status code: 404\n"
     ]
    },
    {
     "name": "stderr",
     "output_type": "stream",
     "text": [
      "[11:17:56] SMILES Parse Error: duplicated ring closure 0 bonds atom 0 to itself for input: 'C06006'\n",
      "[11:17:57] SMILES Parse Error: unclosed ring for input: 'C14463'\n",
      "[11:17:57] SMILES Parse Error: duplicated ring closure 0 bonds atom 0 to itself for input: 'C06010'\n",
      "[11:17:57] SMILES Parse Error: unclosed ring for input: 'C04181'\n",
      "[11:17:57] SMILES Parse Error: duplicated ring closure 0 bonds atom 0 to itself for input: 'C00283'\n",
      "[11:17:58] SMILES Parse Error: duplicated ring closure 0 bonds atom 0 to itself for input: 'C00979'\n",
      "[11:17:59] SMILES Parse Error: duplicated ring closure 0 bonds atom 0 to itself for input: 'C00033'\n",
      "[11:18:00] SMILES Parse Error: duplicated ring closure 0 bonds atom 0 to itself for input: 'C00097'\n",
      "[11:18:01] SMILES Parse Error: duplicated ring closure 0 bonds atom 0 to itself for input: 'C00320'\n",
      "[11:18:02] SMILES Parse Error: duplicated ring closure 0 bonds atom 0 to itself for input: 'C00979'\n",
      "[11:18:02] SMILES Parse Error: duplicated ring closure 0 bonds atom 0 to itself for input: 'C00033'\n",
      "[11:18:02] SMILES Parse Error: unclosed ring for input: 'C05824'\n",
      "[11:18:03] SMILES Parse Error: duplicated ring closure 0 bonds atom 0 to itself for input: 'C00979'\n",
      "[11:18:03] SMILES Parse Error: unclosed ring for input: 'C01528'\n",
      "[11:18:04] SMILES Parse Error: duplicated ring closure 0 bonds atom 0 to itself for input: 'C00033'\n",
      "[11:18:04] SMILES Parse Error: unclosed ring for input: 'C05688'\n",
      "[11:18:05] SMILES Parse Error: duplicated ring closure 0 bonds atom 0 to itself for input: 'C00080'\n",
      "[11:18:05] WARNING: not removing hydrogen atom without neighbors\n",
      "[11:18:05] SMILES Parse Error: duplicated ring closure 0 bonds atom 0 to itself for input: 'C00320'\n",
      "[11:18:05] SMILES Parse Error: duplicated ring closure 0 bonds atom 0 to itself for input: 'C00342'\n"
     ]
    },
    {
     "name": "stdout",
     "output_type": "stream",
     "text": [
      "Failed to retrieve data. Status code: 404\n"
     ]
    },
    {
     "name": "stderr",
     "output_type": "stream",
     "text": [
      "[11:18:06] SMILES Parse Error: duplicated ring closure 0 bonds atom 0 to itself for input: 'C00979'\n",
      "[11:18:06] SMILES Parse Error: duplicated ring closure 0 bonds atom 0 to itself for input: 'C00033'\n",
      "[11:18:06] SMILES Parse Error: duplicated ring closure 0 bonds atom 0 to itself for input: 'C00094'\n",
      "[11:18:07] SMILES Parse Error: duplicated ring closure 0 bonds atom 0 to itself for input: 'C00097'\n",
      "[11:18:07] SMILES Parse Error: duplicated ring closure 0 bonds atom 0 to itself for input: 'C00343'\n"
     ]
    },
    {
     "name": "stdout",
     "output_type": "stream",
     "text": [
      "Failed to retrieve data. Status code: 404\n"
     ]
    },
    {
     "name": "stderr",
     "output_type": "stream",
     "text": [
      "[11:18:07] SMILES Parse Error: duplicated ring closure 0 bonds atom 0 to itself for input: 'C00003'\n",
      "[11:18:08] SMILES Parse Error: duplicated ring closure 0 bonds atom 0 to itself for input: 'C00149'\n",
      "[11:18:08] SMILES Parse Error: duplicated ring closure 0 bonds atom 0 to itself for input: 'C00004'\n",
      "[11:18:09] SMILES Parse Error: duplicated ring closure 0 bonds atom 0 to itself for input: 'C00036'\n",
      "[11:18:09] SMILES Parse Error: duplicated ring closure 0 bonds atom 0 to itself for input: 'C00080'\n",
      "[11:18:09] WARNING: not removing hydrogen atom without neighbors\n",
      "[11:18:09] SMILES Parse Error: duplicated ring closure 0 bonds atom 0 to itself for input: 'C00036'\n",
      "[11:18:09] SMILES Parse Error: duplicated ring closure 0 bonds atom 0 to itself for input: 'C00002'\n",
      "[11:18:09] SMILES Parse Error: duplicated ring closure 0 bonds atom 0 to itself for input: 'C00080'\n",
      "[11:18:09] WARNING: not removing hydrogen atom without neighbors\n",
      "[11:18:09] SMILES Parse Error: duplicated ring closure 0 bonds atom 0 to itself for input: 'C00741'\n",
      "[11:18:10] SMILES Parse Error: duplicated ring closure 1 bonds atom 0 to itself for input: 'C11592'\n"
     ]
    },
    {
     "name": "stdout",
     "output_type": "stream",
     "text": [
      "Failed to retrieve data. Status code: 404\n"
     ]
    },
    {
     "name": "stderr",
     "output_type": "stream",
     "text": [
      "[11:18:11] SMILES Parse Error: duplicated ring closure 0 bonds atom 0 to itself for input: 'C00010'\n",
      "[11:18:11] SMILES Parse Error: duplicated ring closure 0 bonds atom 0 to itself for input: 'C00004'\n",
      "[11:18:11] SMILES Parse Error: unclosed ring for input: 'C02441'\n",
      "[11:18:12] SMILES Parse Error: duplicated ring closure 0 bonds atom 0 to itself for input: 'C00024'\n",
      "[11:18:12] SMILES Parse Error: duplicated ring closure 0 bonds atom 0 to itself for input: 'C00149'\n",
      "[11:18:12] SMILES Parse Error: duplicated ring closure 0 bonds atom 0 to itself for input: 'C00209'\n",
      "[11:18:13] SMILES Parse Error: duplicated ring closure 0 bonds atom 0 to itself for input: 'C00003'\n",
      "[11:18:13] SMILES Parse Error: duplicated ring closure 0 bonds atom 0 to itself for input: 'C00118'\n",
      "[11:18:13] SMILES Parse Error: unclosed ring for input: 'C05382'\n",
      "[11:18:13] SMILES Parse Error: duplicated ring closure 0 bonds atom 0 to itself for input: 'C00085'\n",
      "[11:18:13] SMILES Parse Error: duplicated ring closure 0 bonds atom 0 to itself for input: 'C00279'\n",
      "[11:18:13] SMILES Parse Error: duplicated ring closure 0 bonds atom 0 to itself for input: 'C00085'\n",
      "[11:18:13] SMILES Parse Error: unclosed ring for input: 'C05345'\n",
      "[11:18:13] SMILES Parse Error: unclosed ring for input: 'C05382'\n",
      "[11:18:13] SMILES Parse Error: duplicated ring closure 0 bonds atom 0 to itself for input: 'C00009'\n",
      "[11:18:13] SMILES Parse Error: unclosed ring for input: 'C02426'\n",
      "[11:18:14] SMILES Parse Error: unclosed ring for input: 'C01112'\n",
      "[11:18:15] SMILES Parse Error: duplicated ring closure 0 bonds atom 0 to itself for input: 'C00118'\n",
      "[11:18:15] SMILES Parse Error: duplicated ring closure 0 bonds atom 0 to itself for input: 'C00279'\n",
      "[11:18:15] SMILES Parse Error: unclosed ring for input: 'C07182'\n",
      "[11:18:16] SMILES Parse Error: duplicated ring closure 0 bonds atom 0 to itself for input: 'C00118'\n",
      "[11:18:16] SMILES Parse Error: unclosed ring for input: 'C05382'\n",
      "[11:18:16] SMILES Parse Error: duplicated ring closure 0 bonds atom 0 to itself for input: 'C00279'\n",
      "[11:18:16] SMILES Parse Error: unclosed ring for input: 'C05345'\n",
      "[11:18:16] SMILES Parse Error: duplicated ring closure 0 bonds atom 0 to itself for input: 'C00085'\n",
      "[11:18:16] SMILES Parse Error: unclosed ring for input: 'C05345'\n",
      "[11:18:16] SMILES Parse Error: unclosed ring for input: 'C05382'\n",
      "[11:18:17] SMILES Parse Error: duplicated ring closure 0 bonds atom 0 to itself for input: 'C00009'\n",
      "[11:18:17] SMILES Parse Error: unclosed ring for input: 'C02426'\n",
      "[11:18:17] SMILES Parse Error: unclosed ring for input: 'C01112'\n",
      "[11:18:17] SMILES Parse Error: duplicated ring closure 0 bonds atom 0 to itself for input: 'C00118'\n",
      "[11:18:17] SMILES Parse Error: duplicated ring closure 0 bonds atom 0 to itself for input: 'C00279'\n",
      "[11:18:17] SMILES Parse Error: unclosed ring for input: 'C07182'\n",
      "[11:18:17] SMILES Parse Error: duplicated ring closure 0 bonds atom 0 to itself for input: 'C00002'\n",
      "[11:18:17] SMILES Parse Error: duplicated ring closure 0 bonds atom 0 to itself for input: 'C00148'\n",
      "[11:18:18] SMILES Parse Error: unclosed ring for input: 'C01649'\n"
     ]
    },
    {
     "name": "stdout",
     "output_type": "stream",
     "text": [
      "Failed to retrieve data. Status code: 404\n"
     ]
    },
    {
     "name": "stderr",
     "output_type": "stream",
     "text": [
      "[11:18:19] SMILES Parse Error: duplicated ring closure 0 bonds atom 0 to itself for input: 'C00013'\n",
      "[11:18:19] SMILES Parse Error: duplicated ring closure 0 bonds atom 0 to itself for input: 'C00020'\n",
      "[11:18:19] SMILES Parse Error: duplicated ring closure 0 bonds atom 0 to itself for input: 'C02702'\n"
     ]
    },
    {
     "name": "stdout",
     "output_type": "stream",
     "text": [
      "Failed to retrieve data. Status code: 404\n"
     ]
    },
    {
     "name": "stderr",
     "output_type": "stream",
     "text": [
      "[11:18:20] SMILES Parse Error: duplicated ring closure 0 bonds atom 0 to itself for input: 'C00002'\n",
      "[11:18:20] SMILES Parse Error: duplicated ring closure 0 bonds atom 0 to itself for input: 'C00407'\n",
      "[11:18:21] SMILES Parse Error: unclosed ring for input: 'C01644'\n"
     ]
    },
    {
     "name": "stdout",
     "output_type": "stream",
     "text": [
      "Failed to retrieve data. Status code: 404\n"
     ]
    },
    {
     "name": "stderr",
     "output_type": "stream",
     "text": [
      "[11:18:22] SMILES Parse Error: duplicated ring closure 0 bonds atom 0 to itself for input: 'C00013'\n",
      "[11:18:22] SMILES Parse Error: duplicated ring closure 0 bonds atom 0 to itself for input: 'C00020'\n",
      "[11:18:22] SMILES Parse Error: unclosed ring for input: 'C03127'\n"
     ]
    },
    {
     "name": "stdout",
     "output_type": "stream",
     "text": [
      "Failed to retrieve data. Status code: 404\n"
     ]
    },
    {
     "name": "stderr",
     "output_type": "stream",
     "text": [
      "[11:18:23] SMILES Parse Error: duplicated ring closure 0 bonds atom 0 to itself for input: 'C00001'\n",
      "[11:18:23] SMILES Parse Error: duplicated ring closure 0 bonds atom 0 to itself for input: 'C00002'\n",
      "[11:18:23] SMILES Parse Error: duplicated ring closure 0 bonds atom 0 to itself for input: 'C00022'\n",
      "[11:18:23] SMILES Parse Error: duplicated ring closure 0 bonds atom 0 to itself for input: 'C00009'\n",
      "[11:18:23] SMILES Parse Error: duplicated ring closure 0 bonds atom 0 to itself for input: 'C00020'\n",
      "[11:18:23] SMILES Parse Error: duplicated ring closure 0 bonds atom 0 to itself for input: 'C00074'\n",
      "[11:18:23] SMILES Parse Error: duplicated ring closure 0 bonds atom 0 to itself for input: 'C00002'\n",
      "[11:18:23] SMILES Parse Error: unclosed ring for input: 'C16487'\n",
      "[11:18:23] SMILES Parse Error: duplicated ring closure 0 bonds atom 0 to itself for input: 'C00036'\n",
      "[11:18:23] SMILES Parse Error: duplicated ring closure 0 bonds atom 0 to itself for input: 'C00020'\n",
      "[11:18:23] SMILES Parse Error: duplicated ring closure 0 bonds atom 0 to itself for input: 'C00022'\n",
      "[11:18:23] SMILES Parse Error: duplicated ring closure 0 bonds atom 0 to itself for input: 'C00026'\n",
      "[11:18:24] SMILES Parse Error: duplicated ring closure 0 bonds atom 0 to itself for input: 'C00009'\n",
      "[11:18:24] SMILES Parse Error: duplicated ring closure 0 bonds atom 0 to itself for input: 'C00209'\n",
      "[11:18:24] SMILES Parse Error: duplicated ring closure 0 bonds atom 0 to itself for input: 'C00008'\n",
      "[11:18:24] SMILES Parse Error: duplicated ring closure 0 bonds atom 0 to itself for input: 'C00074'\n",
      "[11:18:24] SMILES Parse Error: duplicated ring closure 0 bonds atom 0 to itself for input: 'C00001'\n",
      "[11:18:24] SMILES Parse Error: duplicated ring closure 0 bonds atom 0 to itself for input: 'C00742'\n",
      "[11:18:24] SMILES Parse Error: duplicated ring closure 0 bonds atom 0 to itself for input: 'C00091'\n",
      "[11:18:24] SMILES Parse Error: unclosed ring for input: 'C15973'\n",
      "[11:18:24] SMILES Parse Error: duplicated ring closure 0 bonds atom 0 to itself for input: 'C00010'\n",
      "[11:18:24] SMILES Parse Error: unclosed ring for input: 'C16254'\n",
      "[11:18:24] SMILES Parse Error: duplicated ring closure 0 bonds atom 0 to itself for input: 'C00003'\n",
      "[11:18:24] SMILES Parse Error: duplicated ring closure 0 bonds atom 0 to itself for input: 'C00010'\n",
      "[11:18:24] SMILES Parse Error: duplicated ring closure 0 bonds atom 0 to itself for input: 'C00322'\n",
      "[11:18:24] SMILES Parse Error: duplicated ring closure 0 bonds atom 0 to itself for input: 'C00004'\n",
      "[11:18:24] SMILES Parse Error: duplicated ring closure 0 bonds atom 0 to itself for input: 'C00011'\n",
      "[11:18:24] SMILES Parse Error: duplicated ring closure 0 bonds atom 0 to itself for input: 'C00080'\n",
      "[11:18:24] WARNING: not removing hydrogen atom without neighbors\n",
      "[11:18:24] SMILES Parse Error: duplicated ring closure 0 bonds atom 0 to itself for input: 'C00527'\n",
      "[11:18:25] SMILES Parse Error: duplicated ring closure 0 bonds atom 0 to itself for input: 'C00527'\n",
      "[11:18:25] SMILES Parse Error: unclosed ring for input: 'C15973'\n",
      "[11:18:25] SMILES Parse Error: duplicated ring closure 0 bonds atom 0 to itself for input: 'C00010'\n",
      "[11:18:25] SMILES Parse Error: unclosed ring for input: 'C06157'\n",
      "[11:18:25] SMILES Parse Error: duplicated ring closure 0 bonds atom 0 to itself for input: 'C00003'\n",
      "[11:18:25] SMILES Parse Error: duplicated ring closure 0 bonds atom 0 to itself for input: 'C00010'\n",
      "[11:18:25] SMILES Parse Error: duplicated ring closure 0 bonds atom 0 to itself for input: 'C00026'\n",
      "[11:18:25] SMILES Parse Error: duplicated ring closure 0 bonds atom 0 to itself for input: 'C00004'\n",
      "[11:18:25] SMILES Parse Error: duplicated ring closure 0 bonds atom 0 to itself for input: 'C00011'\n",
      "[11:18:25] SMILES Parse Error: duplicated ring closure 0 bonds atom 0 to itself for input: 'C00080'\n",
      "[11:18:25] WARNING: not removing hydrogen atom without neighbors\n",
      "[11:18:25] SMILES Parse Error: duplicated ring closure 0 bonds atom 0 to itself for input: 'C00091'\n",
      "[11:18:25] SMILES Parse Error: duplicated ring closure 0 bonds atom 0 to itself for input: 'C00002'\n",
      "[11:18:25] SMILES Parse Error: duplicated ring closure 0 bonds atom 0 to itself for input: 'C00036'\n",
      "[11:18:25] SMILES Parse Error: duplicated ring closure 0 bonds atom 0 to itself for input: 'C00008'\n",
      "[11:18:25] SMILES Parse Error: duplicated ring closure 0 bonds atom 0 to itself for input: 'C00011'\n",
      "[11:18:25] SMILES Parse Error: duplicated ring closure 0 bonds atom 0 to itself for input: 'C00074'\n",
      "[11:18:25] SMILES Parse Error: duplicated ring closure 0 bonds atom 0 to itself for input: 'C00036'\n",
      "[11:18:25] SMILES Parse Error: duplicated ring closure 0 bonds atom 0 to itself for input: 'C00002'\n",
      "[11:18:25] SMILES Parse Error: duplicated ring closure 0 bonds atom 0 to itself for input: 'C00011'\n",
      "[11:18:26] SMILES Parse Error: duplicated ring closure 0 bonds atom 0 to itself for input: 'C00008'\n",
      "[11:18:26] SMILES Parse Error: duplicated ring closure 0 bonds atom 0 to itself for input: 'C00074'\n",
      "[11:18:26] SMILES Parse Error: duplicated ring closure 0 bonds atom 0 to itself for input: 'C00001'\n",
      "[11:18:26] SMILES Parse Error: duplicated ring closure 0 bonds atom 0 to itself for input: 'C00037'\n",
      "[11:18:26] SMILES Parse Error: duplicated ring closure 0 bonds atom 0 to itself for input: 'C00143'\n",
      "[11:18:26] SMILES Parse Error: duplicated ring closure 0 bonds atom 0 to itself for input: 'C00065'\n",
      "[11:18:27] SMILES Parse Error: duplicated ring closure 0 bonds atom 0 to itself for input: 'C00101'\n",
      "[11:18:27] SMILES Parse Error: duplicated ring closure 0 bonds atom 0 to itself for input: 'C00065'\n",
      "[11:18:27] SMILES Parse Error: unclosed ring for input: 'C01217'\n",
      "[11:18:28] SMILES Parse Error: duplicated ring closure 0 bonds atom 0 to itself for input: 'C00001'\n",
      "[11:18:28] SMILES Parse Error: duplicated ring closure 0 bonds atom 0 to itself for input: 'C00037'\n",
      "[11:18:28] SMILES Parse Error: unclosed ring for input: 'C04377'\n",
      "[11:18:29] SMILES Parse Error: duplicated ring closure 0 bonds atom 0 to itself for input: 'C00149'\n",
      "[11:18:29] SMILES Parse Error: duplicated ring closure 0 bonds atom 0 to itself for input: 'C00001'\n",
      "[11:18:29] SMILES Parse Error: duplicated ring closure 0 bonds atom 0 to itself for input: 'C00122'\n",
      "[11:18:30] SMILES Parse Error: duplicated ring closure 0 bonds atom 0 to itself for input: 'C00002'\n",
      "[11:18:30] SMILES Parse Error: duplicated ring closure 0 bonds atom 0 to itself for input: 'C00079'\n",
      "[11:18:31] SMILES Parse Error: unclosed ring for input: 'C01648'\n"
     ]
    },
    {
     "name": "stdout",
     "output_type": "stream",
     "text": [
      "Failed to retrieve data. Status code: 404\n"
     ]
    },
    {
     "name": "stderr",
     "output_type": "stream",
     "text": [
      "[11:18:32] SMILES Parse Error: duplicated ring closure 0 bonds atom 0 to itself for input: 'C00013'\n",
      "[11:18:32] SMILES Parse Error: duplicated ring closure 0 bonds atom 0 to itself for input: 'C00020'\n",
      "[11:18:32] SMILES Parse Error: unclosed ring for input: 'C03511'\n"
     ]
    },
    {
     "name": "stdout",
     "output_type": "stream",
     "text": [
      "Failed to retrieve data. Status code: 404\n"
     ]
    },
    {
     "name": "stderr",
     "output_type": "stream",
     "text": [
      "[11:18:33] SMILES Parse Error: duplicated ring closure 0 bonds atom 0 to itself for input: 'C00049'\n",
      "[11:18:34] SMILES Parse Error: duplicated ring closure 0 bonds atom 0 to itself for input: 'C00014'\n",
      "[11:18:34] SMILES Parse Error: duplicated ring closure 0 bonds atom 0 to itself for input: 'C00122'\n",
      "[11:18:34] SMILES Parse Error: duplicated ring closure 0 bonds atom 0 to itself for input: 'C00097'\n",
      "[11:18:34] SMILES Parse Error: duplicated ring closure 1 bonds atom 0 to itself for input: 'C15811'\n",
      "[11:18:35] SMILES Parse Error: duplicated ring closure 0 bonds atom 0 to itself for input: 'C00041'\n",
      "[11:18:35] SMILES Parse Error: duplicated ring closure 1 bonds atom 0 to itself for input: 'C15812'\n",
      "[11:18:36] SMILES Parse Error: duplicated ring closure 0 bonds atom 0 to itself for input: 'C00006'\n",
      "[11:18:36] SMILES Parse Error: duplicated ring closure 0 bonds atom 0 to itself for input: 'C00345'\n",
      "[11:18:37] SMILES Parse Error: duplicated ring closure 0 bonds atom 0 to itself for input: 'C00005'\n",
      "[11:18:37] SMILES Parse Error: duplicated ring closure 0 bonds atom 0 to itself for input: 'C00011'\n",
      "[11:18:37] SMILES Parse Error: duplicated ring closure 0 bonds atom 0 to itself for input: 'C00080'\n",
      "[11:18:37] WARNING: not removing hydrogen atom without neighbors\n",
      "[11:18:37] SMILES Parse Error: duplicated ring closure 0 bonds atom 0 to itself for input: 'C00199'\n",
      "[11:18:38] SMILES Parse Error: duplicated ring closure 0 bonds atom 0 to itself for input: 'C00006'\n",
      "[11:18:38] SMILES Parse Error: duplicated ring closure 0 bonds atom 0 to itself for input: 'C00002'\n",
      "[11:18:38] SMILES Parse Error: duplicated ring closure 0 bonds atom 0 to itself for input: 'C00199'\n",
      "[11:18:38] SMILES Parse Error: duplicated ring closure 0 bonds atom 0 to itself for input: 'C00005'\n",
      "[11:18:38] SMILES Parse Error: duplicated ring closure 0 bonds atom 0 to itself for input: 'C00080'\n",
      "[11:18:38] WARNING: not removing hydrogen atom without neighbors\n",
      "[11:18:38] SMILES Parse Error: duplicated ring closure 0 bonds atom 0 to itself for input: 'C00011'\n",
      "[11:18:38] SMILES Parse Error: duplicated ring closure 0 bonds atom 0 to itself for input: 'C00345'\n",
      "[11:18:38] SMILES Parse Error: duplicated ring closure 0 bonds atom 0 to itself for input: 'C00026'\n",
      "[11:18:39] SMILES Parse Error: duplicated ring closure 0 bonds atom 0 to itself for input: 'C00049'\n",
      "[11:18:39] SMILES Parse Error: duplicated ring closure 0 bonds atom 0 to itself for input: 'C00025'\n",
      "[11:18:39] SMILES Parse Error: duplicated ring closure 0 bonds atom 0 to itself for input: 'C00036'\n",
      "[11:18:39] SMILES Parse Error: duplicated ring closure 0 bonds atom 0 to itself for input: 'C00026'\n",
      "[11:18:39] SMILES Parse Error: duplicated ring closure 0 bonds atom 0 to itself for input: 'C00079'\n",
      "[11:18:39] SMILES Parse Error: duplicated ring closure 0 bonds atom 0 to itself for input: 'C00025'\n",
      "[11:18:39] SMILES Parse Error: duplicated ring closure 0 bonds atom 0 to itself for input: 'C00166'\n",
      "[11:18:40] SMILES Parse Error: duplicated ring closure 0 bonds atom 0 to itself for input: 'C00026'\n",
      "[11:18:40] SMILES Parse Error: duplicated ring closure 0 bonds atom 0 to itself for input: 'C00082'\n",
      "[11:18:41] SMILES Parse Error: duplicated ring closure 0 bonds atom 0 to itself for input: 'C00025'\n",
      "[11:18:41] SMILES Parse Error: unclosed ring for input: 'C01179'\n",
      "[11:18:42] SMILES Parse Error: duplicated ring closure 0 bonds atom 0 to itself for input: 'C00026'\n",
      "[11:18:42] SMILES Parse Error: duplicated ring closure 0 bonds atom 0 to itself for input: 'C00097'\n",
      "[11:18:42] SMILES Parse Error: duplicated ring closure 0 bonds atom 0 to itself for input: 'C00025'\n",
      "[11:18:42] SMILES Parse Error: duplicated ring closure 0 bonds atom 0 to itself for input: 'C00957'\n",
      "[11:18:43] SMILES Parse Error: duplicated ring closure 0 bonds atom 0 to itself for input: 'C00026'\n",
      "[11:18:43] SMILES Parse Error: duplicated ring closure 0 bonds atom 0 to itself for input: 'C00097'\n",
      "[11:18:43] SMILES Parse Error: duplicated ring closure 0 bonds atom 0 to itself for input: 'C00302'\n",
      "[11:18:44] SMILES Parse Error: duplicated ring closure 0 bonds atom 0 to itself for input: 'C00957'\n",
      "[11:18:44] SMILES Parse Error: duplicated ring closure 0 bonds atom 0 to itself for input: 'C00026'\n",
      "[11:18:44] SMILES Parse Error: duplicated ring closure 0 bonds atom 0 to itself for input: 'C00506'\n",
      "[11:18:45] SMILES Parse Error: duplicated ring closure 0 bonds atom 0 to itself for input: 'C00025'\n",
      "[11:18:45] SMILES Parse Error: unclosed ring for input: 'C05528'\n",
      "[11:18:46] SMILES Parse Error: duplicated ring closure 0 bonds atom 0 to itself for input: 'C00026'\n",
      "[11:18:46] SMILES Parse Error: duplicated ring closure 0 bonds atom 0 to itself for input: 'C00606'\n",
      "[11:18:47] SMILES Parse Error: duplicated ring closure 0 bonds atom 0 to itself for input: 'C00025'\n",
      "[11:18:47] SMILES Parse Error: unclosed ring for input: 'C05527'\n",
      "[11:18:48] SMILES Parse Error: duplicated ring closure 0 bonds atom 0 to itself for input: 'C00026'\n",
      "[11:18:48] SMILES Parse Error: unclosed ring for input: 'C05947'\n",
      "[11:18:49] SMILES Parse Error: duplicated ring closure 0 bonds atom 0 to itself for input: 'C00025'\n",
      "[11:18:49] SMILES Parse Error: unclosed ring for input: 'C05946'\n",
      "[11:18:50] SMILES Parse Error: duplicated ring closure 0 bonds atom 0 to itself for input: 'C00002'\n",
      "[11:18:50] SMILES Parse Error: duplicated ring closure 0 bonds atom 0 to itself for input: 'C00065'\n",
      "[11:18:50] SMILES Parse Error: duplicated ring closure 0 bonds atom 0 to itself for input: 'C01650'\n"
     ]
    },
    {
     "name": "stdout",
     "output_type": "stream",
     "text": [
      "Failed to retrieve data. Status code: 404\n"
     ]
    },
    {
     "name": "stderr",
     "output_type": "stream",
     "text": [
      "[11:18:51] SMILES Parse Error: duplicated ring closure 0 bonds atom 0 to itself for input: 'C00013'\n",
      "[11:18:51] SMILES Parse Error: duplicated ring closure 0 bonds atom 0 to itself for input: 'C00020'\n",
      "[11:18:51] SMILES Parse Error: unclosed ring for input: 'C02553'\n"
     ]
    },
    {
     "name": "stdout",
     "output_type": "stream",
     "text": [
      "Failed to retrieve data. Status code: 404\n"
     ]
    },
    {
     "name": "stderr",
     "output_type": "stream",
     "text": [
      "[11:18:52] SMILES Parse Error: duplicated ring closure 0 bonds atom 0 to itself for input: 'C00002'\n",
      "[11:18:52] SMILES Parse Error: duplicated ring closure 0 bonds atom 0 to itself for input: 'C00065'\n",
      "[11:18:52] SMILES Parse Error: unclosed ring for input: 'C16636'\n",
      "[11:18:53] SMILES Parse Error: duplicated ring closure 0 bonds atom 0 to itself for input: 'C00013'\n",
      "[11:18:53] SMILES Parse Error: duplicated ring closure 0 bonds atom 0 to itself for input: 'C00020'\n",
      "[11:18:53] SMILES Parse Error: unclosed ring for input: 'C06481'\n"
     ]
    },
    {
     "name": "stdout",
     "output_type": "stream",
     "text": [
      "Failed to retrieve data. Status code: 404\n"
     ]
    },
    {
     "name": "stderr",
     "output_type": "stream",
     "text": [
      "[11:18:54] SMILES Parse Error: duplicated ring closure 0 bonds atom 0 to itself for input: 'C00044'\n",
      "[11:18:54] SMILES Parse Error: duplicated ring closure 0 bonds atom 0 to itself for input: 'C00049'\n",
      "[11:18:54] SMILES Parse Error: duplicated ring closure 0 bonds atom 0 to itself for input: 'C00130'\n",
      "[11:18:55] SMILES Parse Error: duplicated ring closure 0 bonds atom 0 to itself for input: 'C00009'\n",
      "[11:18:55] SMILES Parse Error: duplicated ring closure 0 bonds atom 0 to itself for input: 'C00035'\n",
      "[11:18:56] SMILES Parse Error: unclosed ring for input: 'C03794'\n",
      "[11:18:57] SMILES Parse Error: duplicated ring closure 0 bonds atom 0 to itself for input: 'C00003'\n",
      "[11:18:57] SMILES Parse Error: duplicated ring closure 0 bonds atom 0 to itself for input: 'C00173'\n"
     ]
    },
    {
     "name": "stdout",
     "output_type": "stream",
     "text": [
      "Failed to retrieve data. Status code: 404\n"
     ]
    },
    {
     "name": "stderr",
     "output_type": "stream",
     "text": [
      "[11:18:58] SMILES Parse Error: duplicated ring closure 0 bonds atom 0 to itself for input: 'C00004'\n",
      "[11:18:58] SMILES Parse Error: duplicated ring closure 0 bonds atom 0 to itself for input: 'C00080'\n",
      "[11:18:58] WARNING: not removing hydrogen atom without neighbors\n",
      "[11:18:58] SMILES Parse Error: duplicated ring closure 0 bonds atom 0 to itself for input: 'C00693'\n"
     ]
    },
    {
     "name": "stdout",
     "output_type": "stream",
     "text": [
      "Failed to retrieve data. Status code: 404\n"
     ]
    },
    {
     "name": "stderr",
     "output_type": "stream",
     "text": [
      "[11:18:59] SMILES Parse Error: duplicated ring closure 0 bonds atom 0 to itself for input: 'C00003'\n",
      "[11:18:59] SMILES Parse Error: unclosed ring for input: 'C05223'\n"
     ]
    },
    {
     "name": "stdout",
     "output_type": "stream",
     "text": [
      "Failed to retrieve data. Status code: 404\n"
     ]
    },
    {
     "name": "stderr",
     "output_type": "stream",
     "text": [
      "[11:19:00] SMILES Parse Error: duplicated ring closure 0 bonds atom 0 to itself for input: 'C00004'\n",
      "[11:19:00] SMILES Parse Error: duplicated ring closure 0 bonds atom 0 to itself for input: 'C00080'\n",
      "[11:19:00] WARNING: not removing hydrogen atom without neighbors\n",
      "[11:19:00] SMILES Parse Error: unclosed ring for input: 'C05758'\n"
     ]
    },
    {
     "name": "stdout",
     "output_type": "stream",
     "text": [
      "Failed to retrieve data. Status code: 404\n"
     ]
    },
    {
     "name": "stderr",
     "output_type": "stream",
     "text": [
      "[11:19:01] SMILES Parse Error: duplicated ring closure 0 bonds atom 0 to itself for input: 'C00003'\n",
      "[11:19:01] SMILES Parse Error: unclosed ring for input: 'C05749'\n"
     ]
    },
    {
     "name": "stdout",
     "output_type": "stream",
     "text": [
      "Failed to retrieve data. Status code: 404\n"
     ]
    },
    {
     "name": "stderr",
     "output_type": "stream",
     "text": [
      "[11:19:02] SMILES Parse Error: duplicated ring closure 0 bonds atom 0 to itself for input: 'C00004'\n",
      "[11:19:02] SMILES Parse Error: duplicated ring closure 0 bonds atom 0 to itself for input: 'C00080'\n",
      "[11:19:02] WARNING: not removing hydrogen atom without neighbors\n",
      "[11:19:02] SMILES Parse Error: unclosed ring for input: 'C05748'\n"
     ]
    },
    {
     "name": "stdout",
     "output_type": "stream",
     "text": [
      "Failed to retrieve data. Status code: 404\n"
     ]
    },
    {
     "name": "stderr",
     "output_type": "stream",
     "text": [
      "[11:19:04] SMILES Parse Error: duplicated ring closure 0 bonds atom 0 to itself for input: 'C00003'\n",
      "[11:19:04] SMILES Parse Error: unclosed ring for input: 'C05752'\n"
     ]
    },
    {
     "name": "stdout",
     "output_type": "stream",
     "text": [
      "Failed to retrieve data. Status code: 404\n"
     ]
    },
    {
     "name": "stderr",
     "output_type": "stream",
     "text": [
      "[11:19:07] SMILES Parse Error: duplicated ring closure 0 bonds atom 0 to itself for input: 'C00004'\n",
      "[11:19:07] SMILES Parse Error: duplicated ring closure 0 bonds atom 0 to itself for input: 'C00080'\n",
      "[11:19:07] WARNING: not removing hydrogen atom without neighbors\n",
      "[11:19:07] SMILES Parse Error: unclosed ring for input: 'C05751'\n"
     ]
    },
    {
     "name": "stdout",
     "output_type": "stream",
     "text": [
      "Failed to retrieve data. Status code: 404\n"
     ]
    },
    {
     "name": "stderr",
     "output_type": "stream",
     "text": [
      "[11:19:08] SMILES Parse Error: duplicated ring closure 0 bonds atom 0 to itself for input: 'C00003'\n",
      "[11:19:08] SMILES Parse Error: unclosed ring for input: 'C05755'\n"
     ]
    },
    {
     "name": "stdout",
     "output_type": "stream",
     "text": [
      "Failed to retrieve data. Status code: 404\n"
     ]
    },
    {
     "name": "stderr",
     "output_type": "stream",
     "text": [
      "[11:19:09] SMILES Parse Error: duplicated ring closure 0 bonds atom 0 to itself for input: 'C00004'\n",
      "[11:19:09] SMILES Parse Error: duplicated ring closure 0 bonds atom 0 to itself for input: 'C00080'\n",
      "[11:19:09] WARNING: not removing hydrogen atom without neighbors\n",
      "[11:19:09] SMILES Parse Error: unclosed ring for input: 'C05754'\n"
     ]
    },
    {
     "name": "stdout",
     "output_type": "stream",
     "text": [
      "Failed to retrieve data. Status code: 404\n"
     ]
    },
    {
     "name": "stderr",
     "output_type": "stream",
     "text": [
      "[11:19:10] SMILES Parse Error: duplicated ring closure 0 bonds atom 0 to itself for input: 'C00003'\n",
      "[11:19:10] SMILES Parse Error: unclosed ring for input: 'C05761'\n"
     ]
    },
    {
     "name": "stdout",
     "output_type": "stream",
     "text": [
      "Failed to retrieve data. Status code: 404\n"
     ]
    },
    {
     "name": "stderr",
     "output_type": "stream",
     "text": [
      "[11:19:11] SMILES Parse Error: duplicated ring closure 0 bonds atom 0 to itself for input: 'C00004'\n",
      "[11:19:11] SMILES Parse Error: duplicated ring closure 0 bonds atom 0 to itself for input: 'C00080'\n",
      "[11:19:11] WARNING: not removing hydrogen atom without neighbors\n",
      "[11:19:11] SMILES Parse Error: duplicated ring closure 0 bonds atom 0 to itself for input: 'C05760'\n"
     ]
    },
    {
     "name": "stdout",
     "output_type": "stream",
     "text": [
      "Failed to retrieve data. Status code: 404\n"
     ]
    },
    {
     "name": "stderr",
     "output_type": "stream",
     "text": [
      "[11:19:12] SMILES Parse Error: duplicated ring closure 0 bonds atom 0 to itself for input: 'C00003'\n",
      "[11:19:12] SMILES Parse Error: unclosed ring for input: 'C05764'\n"
     ]
    },
    {
     "name": "stdout",
     "output_type": "stream",
     "text": [
      "Failed to retrieve data. Status code: 404\n"
     ]
    },
    {
     "name": "stderr",
     "output_type": "stream",
     "text": [
      "[11:19:13] SMILES Parse Error: duplicated ring closure 0 bonds atom 0 to itself for input: 'C00004'\n",
      "[11:19:13] SMILES Parse Error: duplicated ring closure 0 bonds atom 0 to itself for input: 'C00080'\n",
      "[11:19:13] WARNING: not removing hydrogen atom without neighbors\n",
      "[11:19:13] SMILES Parse Error: unclosed ring for input: 'C05763'\n"
     ]
    },
    {
     "name": "stdout",
     "output_type": "stream",
     "text": [
      "Failed to retrieve data. Status code: 404\n"
     ]
    },
    {
     "name": "stderr",
     "output_type": "stream",
     "text": [
      "[11:19:13] SMILES Parse Error: duplicated ring closure 0 bonds atom 0 to itself for input: 'C00003'\n",
      "[11:19:14] SMILES Parse Error: unclosed ring for input: 'C05745'\n"
     ]
    },
    {
     "name": "stdout",
     "output_type": "stream",
     "text": [
      "Failed to retrieve data. Status code: 404\n"
     ]
    },
    {
     "name": "stderr",
     "output_type": "stream",
     "text": [
      "[11:19:14] SMILES Parse Error: duplicated ring closure 0 bonds atom 0 to itself for input: 'C00004'\n",
      "[11:19:14] SMILES Parse Error: duplicated ring closure 0 bonds atom 0 to itself for input: 'C00080'\n",
      "[11:19:14] WARNING: not removing hydrogen atom without neighbors\n",
      "[11:19:14] SMILES Parse Error: unclosed ring for input: 'C04246'\n"
     ]
    },
    {
     "name": "stdout",
     "output_type": "stream",
     "text": [
      "Failed to retrieve data. Status code: 404\n"
     ]
    },
    {
     "name": "stderr",
     "output_type": "stream",
     "text": [
      "[11:19:15] SMILES Parse Error: duplicated ring closure 0 bonds atom 0 to itself for input: 'C00027'\n",
      "[11:19:16] SMILES Parse Error: duplicated ring closure 0 bonds atom 0 to itself for input: 'C00001'\n",
      "[11:19:17] SMILES Parse Error: duplicated ring closure 0 bonds atom 0 to itself for input: 'C00007'\n",
      "[11:19:18] SMILES Parse Error: duplicated ring closure 0 bonds atom 0 to itself for input: 'C00027'\n",
      "[11:19:18] SMILES Parse Error: duplicated ring closure 0 bonds atom 0 to itself for input: 'C00030'\n"
     ]
    },
    {
     "name": "stdout",
     "output_type": "stream",
     "text": [
      "Failed to retrieve data. Status code: 404\n"
     ]
    },
    {
     "name": "stderr",
     "output_type": "stream",
     "text": [
      "[11:19:18] SMILES Parse Error: duplicated ring closure 0 bonds atom 0 to itself for input: 'C00001'\n",
      "[11:19:19] SMILES Parse Error: duplicated ring closure 0 bonds atom 0 to itself for input: 'C00028'\n"
     ]
    },
    {
     "name": "stdout",
     "output_type": "stream",
     "text": [
      "Failed to retrieve data. Status code: 404\n"
     ]
    },
    {
     "name": "stderr",
     "output_type": "stream",
     "text": [
      "[11:19:19] SMILES Parse Error: duplicated ring closure 0 bonds atom 0 to itself for input: 'C00002'\n",
      "[11:19:20] SMILES Parse Error: duplicated ring closure 0 bonds atom 0 to itself for input: 'C00123'\n",
      "[11:19:21] SMILES Parse Error: unclosed ring for input: 'C01645'\n"
     ]
    },
    {
     "name": "stdout",
     "output_type": "stream",
     "text": [
      "Failed to retrieve data. Status code: 404\n"
     ]
    },
    {
     "name": "stderr",
     "output_type": "stream",
     "text": [
      "[11:19:21] SMILES Parse Error: duplicated ring closure 0 bonds atom 0 to itself for input: 'C00013'\n",
      "[11:19:21] SMILES Parse Error: duplicated ring closure 0 bonds atom 0 to itself for input: 'C00020'\n",
      "[11:19:22] SMILES Parse Error: duplicated ring closure 0 bonds atom 0 to itself for input: 'C02047'\n"
     ]
    },
    {
     "name": "stdout",
     "output_type": "stream",
     "text": [
      "Failed to retrieve data. Status code: 404\n"
     ]
    },
    {
     "name": "stderr",
     "output_type": "stream",
     "text": [
      "[11:19:22] SMILES Parse Error: duplicated ring closure 0 bonds atom 0 to itself for input: 'C00002'\n",
      "[11:19:22] SMILES Parse Error: duplicated ring closure 0 bonds atom 0 to itself for input: 'C00116'\n",
      "[11:19:23] SMILES Parse Error: duplicated ring closure 0 bonds atom 0 to itself for input: 'C00008'\n",
      "[11:19:24] SMILES Parse Error: duplicated ring closure 0 bonds atom 0 to itself for input: 'C00093'\n",
      "[11:19:24] SMILES Parse Error: duplicated ring closure 0 bonds atom 0 to itself for input: 'C00009'\n",
      "[11:19:25] SMILES Parse Error: duplicated ring closure 0 bonds atom 0 to itself for input: 'C00036'\n",
      "[11:19:25] SMILES Parse Error: duplicated ring closure 0 bonds atom 0 to itself for input: 'C00001'\n",
      "[11:19:25] SMILES Parse Error: duplicated ring closure 0 bonds atom 0 to itself for input: 'C00011'\n",
      "[11:19:25] SMILES Parse Error: duplicated ring closure 0 bonds atom 0 to itself for input: 'C00074'\n",
      "[11:19:25] SMILES Parse Error: duplicated ring closure 0 bonds atom 0 to itself for input: 'C00036'\n",
      "[11:19:25] SMILES Parse Error: duplicated ring closure 0 bonds atom 0 to itself for input: 'C00002'\n",
      "[11:19:25] SMILES Parse Error: duplicated ring closure 0 bonds atom 0 to itself for input: 'C00044'\n",
      "[11:19:25] SMILES Parse Error: duplicated ring closure 0 bonds atom 0 to itself for input: 'C00001'\n",
      "[11:19:25] SMILES Parse Error: duplicated ring closure 0 bonds atom 0 to itself for input: 'C00011'\n",
      "[11:19:25] SMILES Parse Error: duplicated ring closure 0 bonds atom 0 to itself for input: 'C00149'\n",
      "[11:19:25] SMILES Parse Error: unclosed ring for input: 'C16433'\n"
     ]
    },
    {
     "name": "stdout",
     "output_type": "stream",
     "text": [
      "Failed to retrieve data. Status code: 404\n"
     ]
    },
    {
     "name": "stderr",
     "output_type": "stream",
     "text": [
      "[11:19:26] SMILES Parse Error: duplicated ring closure 0 bonds atom 0 to itself for input: 'C00008'\n",
      "[11:19:26] SMILES Parse Error: duplicated ring closure 0 bonds atom 0 to itself for input: 'C00049'\n",
      "[11:19:26] SMILES Parse Error: duplicated ring closure 0 bonds atom 0 to itself for input: 'C00074'\n",
      "[11:19:27] SMILES Parse Error: duplicated ring closure 0 bonds atom 0 to itself for input: 'C00009'\n",
      "[11:19:27] SMILES Parse Error: duplicated ring closure 0 bonds atom 0 to itself for input: 'C00158'\n",
      "[11:19:27] SMILES Parse Error: unclosed ring for input: 'C13563'\n"
     ]
    },
    {
     "name": "stdout",
     "output_type": "stream",
     "text": [
      "Failed to retrieve data. Status code: 404\n"
     ]
    },
    {
     "name": "stderr",
     "output_type": "stream",
     "text": [
      "[11:19:28] SMILES Parse Error: duplicated ring closure 0 bonds atom 0 to itself for input: 'C00002'\n",
      "[11:19:28] SMILES Parse Error: duplicated ring closure 0 bonds atom 0 to itself for input: 'C00037'\n",
      "[11:19:28] SMILES Parse Error: unclosed ring for input: 'C01642'\n"
     ]
    },
    {
     "name": "stdout",
     "output_type": "stream",
     "text": [
      "Failed to retrieve data. Status code: 404\n"
     ]
    },
    {
     "name": "stderr",
     "output_type": "stream",
     "text": [
      "[11:19:29] SMILES Parse Error: duplicated ring closure 0 bonds atom 0 to itself for input: 'C00013'\n",
      "[11:19:29] SMILES Parse Error: duplicated ring closure 0 bonds atom 0 to itself for input: 'C00020'\n",
      "[11:19:29] SMILES Parse Error: unclosed ring for input: 'C02412'\n"
     ]
    },
    {
     "name": "stdout",
     "output_type": "stream",
     "text": [
      "Failed to retrieve data. Status code: 404\n"
     ]
    },
    {
     "name": "stderr",
     "output_type": "stream",
     "text": [
      "[11:19:30] SMILES Parse Error: duplicated ring closure 0 bonds atom 0 to itself for input: 'C00001'\n",
      "[11:19:30] SMILES Parse Error: duplicated ring closure 0 bonds atom 0 to itself for input: 'C00091'\n",
      "[11:19:30] SMILES Parse Error: unclosed ring for input: 'C03972'\n",
      "[11:19:31] SMILES Parse Error: duplicated ring closure 0 bonds atom 0 to itself for input: 'C00010'\n",
      "[11:19:31] SMILES Parse Error: unclosed ring for input: 'C04462'\n",
      "[11:19:32] SMILES Parse Error: duplicated ring closure 0 bonds atom 0 to itself for input: 'C00074'\n",
      "[11:19:32] SMILES Parse Error: duplicated ring closure 0 bonds atom 0 to itself for input: 'C00615'\n"
     ]
    },
    {
     "name": "stdout",
     "output_type": "stream",
     "text": [
      "Failed to retrieve data. Status code: 404\n"
     ]
    },
    {
     "name": "stderr",
     "output_type": "stream",
     "text": [
      "[11:19:33] SMILES Parse Error: duplicated ring closure 0 bonds atom 0 to itself for input: 'C00022'\n",
      "[11:19:33] SMILES Parse Error: unclosed ring for input: 'C04261'\n"
     ]
    },
    {
     "name": "stdout",
     "output_type": "stream",
     "text": [
      "Failed to retrieve data. Status code: 404\n"
     ]
    },
    {
     "name": "stderr",
     "output_type": "stream",
     "text": [
      "[11:19:34] SMILES Parse Error: duplicated ring closure 0 bonds atom 0 to itself for input: 'C00037'\n",
      "[11:19:34] SMILES Parse Error: duplicated ring closure 0 bonds atom 0 to itself for input: 'C02051'\n",
      "[11:19:34] SMILES Parse Error: duplicated ring closure 0 bonds atom 0 to itself for input: 'C00011'\n",
      "[11:19:34] SMILES Parse Error: unclosed ring for input: 'C01242'\n"
     ]
    },
    {
     "name": "stdout",
     "output_type": "stream",
     "text": [
      "Failed to retrieve data. Status code: 404\n"
     ]
    },
    {
     "name": "stderr",
     "output_type": "stream",
     "text": [
      "[11:19:35] SMILES Parse Error: duplicated ring closure 0 bonds atom 0 to itself for input: 'C00003'\n",
      "[11:19:35] SMILES Parse Error: duplicated ring closure 0 bonds atom 0 to itself for input: 'C00037'\n",
      "[11:19:35] SMILES Parse Error: duplicated ring closure 0 bonds atom 0 to itself for input: 'C00101'\n",
      "[11:19:35] SMILES Parse Error: duplicated ring closure 0 bonds atom 0 to itself for input: 'C00004'\n",
      "[11:19:35] SMILES Parse Error: duplicated ring closure 0 bonds atom 0 to itself for input: 'C00011'\n",
      "[11:19:35] SMILES Parse Error: duplicated ring closure 0 bonds atom 0 to itself for input: 'C00014'\n",
      "[11:19:35] SMILES Parse Error: duplicated ring closure 0 bonds atom 0 to itself for input: 'C00080'\n",
      "[11:19:35] WARNING: not removing hydrogen atom without neighbors\n",
      "[11:19:35] SMILES Parse Error: duplicated ring closure 0 bonds atom 0 to itself for input: 'C00143'\n",
      "[11:19:35] SMILES Parse Error: duplicated ring closure 0 bonds atom 0 to itself for input: 'C00354'\n",
      "[11:19:36] SMILES Parse Error: duplicated ring closure 0 bonds atom 0 to itself for input: 'C00111'\n",
      "[11:19:37] SMILES Parse Error: duplicated ring closure 0 bonds atom 0 to itself for input: 'C00118'\n",
      "[11:19:37] SMILES Parse Error: duplicated ring closure 0 bonds atom 0 to itself for input: 'C00354'\n",
      "[11:19:37] SMILES Parse Error: duplicated ring closure 0 bonds atom 0 to itself for input: 'C00111'\n",
      "[11:19:37] SMILES Parse Error: duplicated ring closure 0 bonds atom 0 to itself for input: 'C01094'\n",
      "[11:19:38] SMILES Parse Error: duplicated ring closure 0 bonds atom 0 to itself for input: 'C00284'\n",
      "[11:19:39] SMILES Parse Error: duplicated ring closure 0 bonds atom 0 to itself for input: 'C00118'\n",
      "[11:19:39] SMILES Parse Error: duplicated ring closure 0 bonds atom 0 to itself for input: 'C00074'\n",
      "[11:19:40] SMILES Parse Error: unclosed ring for input: 'C05378'\n",
      "[11:19:40] SMILES Parse Error: duplicated ring closure 0 bonds atom 0 to itself for input: 'C00345'\n",
      "[11:19:41] SMILES Parse Error: duplicated ring closure 0 bonds atom 0 to itself for input: 'C00279'\n",
      "[11:19:41] SMILES Parse Error: duplicated ring closure 0 bonds atom 0 to itself for input: 'C00577'\n",
      "[11:19:41] SMILES Parse Error: duplicated ring closure 0 bonds atom 0 to itself for input: 'C00447'\n",
      "[11:19:42] SMILES Parse Error: unclosed ring for input: 'C05378'\n",
      "[11:19:43] SMILES Parse Error: duplicated ring closure 0 bonds atom 0 to itself for input: 'C00111'\n",
      "[11:19:43] SMILES Parse Error: duplicated ring closure 0 bonds atom 0 to itself for input: 'C00118'\n",
      "[11:19:43] SMILES Parse Error: duplicated ring closure 0 bonds atom 0 to itself for input: 'C00354'\n",
      "[11:19:43] SMILES Parse Error: duplicated ring closure 0 bonds atom 0 to itself for input: 'C00111'\n",
      "[11:19:43] SMILES Parse Error: duplicated ring closure 0 bonds atom 0 to itself for input: 'C01094'\n",
      "[11:19:43] SMILES Parse Error: duplicated ring closure 0 bonds atom 0 to itself for input: 'C00284'\n",
      "[11:19:43] SMILES Parse Error: duplicated ring closure 0 bonds atom 0 to itself for input: 'C00118'\n",
      "[11:19:43] SMILES Parse Error: duplicated ring closure 0 bonds atom 0 to itself for input: 'C00074'\n",
      "[11:19:43] SMILES Parse Error: unclosed ring for input: 'C05378'\n",
      "[11:19:43] SMILES Parse Error: duplicated ring closure 0 bonds atom 0 to itself for input: 'C00345'\n",
      "[11:19:43] SMILES Parse Error: duplicated ring closure 0 bonds atom 0 to itself for input: 'C00279'\n",
      "[11:19:43] SMILES Parse Error: duplicated ring closure 0 bonds atom 0 to itself for input: 'C00577'\n",
      "[11:19:43] SMILES Parse Error: duplicated ring closure 0 bonds atom 0 to itself for input: 'C00447'\n",
      "[11:19:43] SMILES Parse Error: duplicated ring closure 0 bonds atom 0 to itself for input: 'C00447'\n",
      "[11:19:43] SMILES Parse Error: duplicated ring closure 0 bonds atom 0 to itself for input: 'C00111'\n",
      "[11:19:43] SMILES Parse Error: duplicated ring closure 0 bonds atom 0 to itself for input: 'C00279'\n",
      "[11:19:43] SMILES Parse Error: duplicated ring closure 0 bonds atom 0 to itself for input: 'C00354'\n",
      "[11:19:43] SMILES Parse Error: duplicated ring closure 0 bonds atom 0 to itself for input: 'C00111'\n",
      "[11:19:43] SMILES Parse Error: duplicated ring closure 0 bonds atom 0 to itself for input: 'C01094'\n",
      "[11:19:43] SMILES Parse Error: duplicated ring closure 0 bonds atom 0 to itself for input: 'C00284'\n",
      "[11:19:43] SMILES Parse Error: duplicated ring closure 0 bonds atom 0 to itself for input: 'C00118'\n",
      "[11:19:43] SMILES Parse Error: duplicated ring closure 0 bonds atom 0 to itself for input: 'C00074'\n",
      "[11:19:44] SMILES Parse Error: unclosed ring for input: 'C05378'\n",
      "[11:19:44] SMILES Parse Error: duplicated ring closure 0 bonds atom 0 to itself for input: 'C00345'\n",
      "[11:19:44] SMILES Parse Error: duplicated ring closure 0 bonds atom 0 to itself for input: 'C00279'\n",
      "[11:19:44] SMILES Parse Error: duplicated ring closure 0 bonds atom 0 to itself for input: 'C00577'\n",
      "[11:19:44] SMILES Parse Error: duplicated ring closure 0 bonds atom 0 to itself for input: 'C00447'\n",
      "[11:19:44] SMILES Parse Error: duplicated ring closure 0 bonds atom 0 to itself for input: 'C01094'\n",
      "[11:19:44] SMILES Parse Error: duplicated ring closure 0 bonds atom 0 to itself for input: 'C00111'\n",
      "[11:19:44] SMILES Parse Error: duplicated ring closure 0 bonds atom 0 to itself for input: 'C00577'\n",
      "[11:19:44] SMILES Parse Error: duplicated ring closure 0 bonds atom 0 to itself for input: 'C00354'\n",
      "[11:19:44] SMILES Parse Error: duplicated ring closure 0 bonds atom 0 to itself for input: 'C00111'\n",
      "[11:19:44] SMILES Parse Error: duplicated ring closure 0 bonds atom 0 to itself for input: 'C01094'\n",
      "[11:19:44] SMILES Parse Error: duplicated ring closure 0 bonds atom 0 to itself for input: 'C00284'\n",
      "[11:19:44] SMILES Parse Error: duplicated ring closure 0 bonds atom 0 to itself for input: 'C00118'\n",
      "[11:19:44] SMILES Parse Error: duplicated ring closure 0 bonds atom 0 to itself for input: 'C00074'\n",
      "[11:19:44] SMILES Parse Error: unclosed ring for input: 'C05378'\n",
      "[11:19:44] SMILES Parse Error: duplicated ring closure 0 bonds atom 0 to itself for input: 'C00345'\n",
      "[11:19:44] SMILES Parse Error: duplicated ring closure 0 bonds atom 0 to itself for input: 'C00279'\n",
      "[11:19:44] SMILES Parse Error: duplicated ring closure 0 bonds atom 0 to itself for input: 'C00577'\n",
      "[11:19:44] SMILES Parse Error: duplicated ring closure 0 bonds atom 0 to itself for input: 'C00447'\n",
      "[11:19:44] SMILES Parse Error: duplicated ring closure 0 bonds atom 0 to itself for input: 'C00002'\n",
      "[11:19:45] SMILES Parse Error: duplicated ring closure 0 bonds atom 0 to itself for input: 'C00020'\n",
      "[11:19:45] SMILES Parse Error: duplicated ring closure 0 bonds atom 0 to itself for input: 'C00008'\n",
      "[11:19:45] SMILES Parse Error: duplicated ring closure 0 bonds atom 0 to itself for input: 'C00002'\n",
      "[11:19:45] SMILES Parse Error: duplicated ring closure 0 bonds atom 0 to itself for input: 'C00206'\n",
      "[11:19:46] SMILES Parse Error: duplicated ring closure 0 bonds atom 0 to itself for input: 'C00020'\n",
      "[11:19:46] SMILES Parse Error: duplicated ring closure 0 bonds atom 0 to itself for input: 'C00008'\n",
      "[11:19:46] SMILES Parse Error: duplicated ring closure 0 bonds atom 0 to itself for input: 'C00360'\n",
      "[11:19:47] SMILES Parse Error: duplicated ring closure 0 bonds atom 0 to itself for input: 'C04058'\n",
      "[11:19:48] SMILES Parse Error: duplicated ring closure 0 bonds atom 0 to itself for input: 'C00002'\n",
      "[11:19:48] SMILES Parse Error: duplicated ring closure 0 bonds atom 0 to itself for input: 'C00360'\n",
      "[11:19:48] SMILES Parse Error: duplicated ring closure 0 bonds atom 0 to itself for input: 'C00008'\n",
      "[11:19:48] SMILES Parse Error: duplicated ring closure 0 bonds atom 0 to itself for input: 'C00206'\n",
      "[11:19:48] SMILES Parse Error: duplicated ring closure 0 bonds atom 0 to itself for input: 'C00002'\n",
      "[11:19:48] SMILES Parse Error: duplicated ring closure 0 bonds atom 0 to itself for input: 'C00206'\n",
      "[11:19:48] SMILES Parse Error: duplicated ring closure 0 bonds atom 0 to itself for input: 'C00020'\n",
      "[11:19:48] SMILES Parse Error: duplicated ring closure 0 bonds atom 0 to itself for input: 'C00008'\n",
      "[11:19:48] SMILES Parse Error: duplicated ring closure 0 bonds atom 0 to itself for input: 'C00360'\n",
      "[11:19:48] SMILES Parse Error: duplicated ring closure 0 bonds atom 0 to itself for input: 'C04058'\n",
      "[11:19:48] SMILES Parse Error: duplicated ring closure 0 bonds atom 0 to itself for input: 'C00002'\n",
      "[11:19:48] SMILES Parse Error: duplicated ring closure 0 bonds atom 0 to itself for input: 'C00014'\n",
      "[11:19:48] SMILES Parse Error: duplicated ring closure 0 bonds atom 0 to itself for input: 'C00075'\n",
      "[11:19:49] SMILES Parse Error: duplicated ring closure 0 bonds atom 0 to itself for input: 'C00008'\n",
      "[11:19:49] SMILES Parse Error: duplicated ring closure 0 bonds atom 0 to itself for input: 'C00009'\n",
      "[11:19:49] SMILES Parse Error: duplicated ring closure 0 bonds atom 0 to itself for input: 'C00063'\n",
      "[11:19:49] SMILES Parse Error: duplicated ring closure 0 bonds atom 0 to itself for input: 'C00001'\n",
      "[11:19:49] SMILES Parse Error: duplicated ring closure 0 bonds atom 0 to itself for input: 'C00002'\n",
      "[11:19:49] SMILES Parse Error: duplicated ring closure 0 bonds atom 0 to itself for input: 'C00064'\n",
      "[11:19:49] SMILES Parse Error: duplicated ring closure 0 bonds atom 0 to itself for input: 'C00075'\n",
      "[11:19:49] SMILES Parse Error: duplicated ring closure 0 bonds atom 0 to itself for input: 'C00008'\n",
      "[11:19:49] SMILES Parse Error: duplicated ring closure 0 bonds atom 0 to itself for input: 'C00009'\n",
      "[11:19:49] SMILES Parse Error: duplicated ring closure 0 bonds atom 0 to itself for input: 'C00025'\n",
      "[11:19:49] SMILES Parse Error: duplicated ring closure 0 bonds atom 0 to itself for input: 'C00063'\n",
      "[11:19:49] SMILES Parse Error: duplicated ring closure 0 bonds atom 0 to itself for input: 'C00064'\n",
      "[11:19:49] SMILES Parse Error: duplicated ring closure 0 bonds atom 0 to itself for input: 'C00085'\n",
      "[11:19:49] SMILES Parse Error: duplicated ring closure 0 bonds atom 0 to itself for input: 'C00025'\n",
      "[11:19:49] SMILES Parse Error: duplicated ring closure 0 bonds atom 0 to itself for input: 'C00352'\n",
      "[11:19:50] SMILES Parse Error: duplicated ring closure 0 bonds atom 0 to itself for input: 'C00009'\n",
      "[11:19:50] SMILES Parse Error: duplicated ring closure 0 bonds atom 0 to itself for input: 'C00013'\n",
      "[11:19:50] SMILES Parse Error: duplicated ring closure 0 bonds atom 0 to itself for input: 'C00019'\n",
      "[11:19:51] SMILES Parse Error: duplicated ring closure 0 bonds atom 0 to itself for input: 'C00001'\n",
      "[11:19:51] SMILES Parse Error: duplicated ring closure 0 bonds atom 0 to itself for input: 'C00002'\n",
      "[11:19:52] SMILES Parse Error: duplicated ring closure 0 bonds atom 0 to itself for input: 'C00073'\n",
      "[11:19:52] SMILES Parse Error: duplicated ring closure 0 bonds atom 0 to itself for input: 'C00001'\n",
      "[11:19:53] SMILES Parse Error: duplicated ring closure 0 bonds atom 0 to itself for input: 'C00002'\n",
      "[11:19:53] SMILES Parse Error: unclosed ring for input: 'C05335'\n",
      "[11:19:54] SMILES Parse Error: duplicated ring closure 0 bonds atom 0 to itself for input: 'C00009'\n",
      "[11:19:54] SMILES Parse Error: duplicated ring closure 0 bonds atom 0 to itself for input: 'C00013'\n",
      "[11:19:54] SMILES Parse Error: unclosed ring for input: 'C05691'\n",
      "[11:19:55] SMILES Parse Error: duplicated ring closure 0 bonds atom 0 to itself for input: 'C00002'\n",
      "[11:19:55] SMILES Parse Error: duplicated ring closure 0 bonds atom 0 to itself for input: 'C00025'\n",
      "[11:19:55] SMILES Parse Error: unclosed ring for input: 'C01641'\n"
     ]
    },
    {
     "name": "stdout",
     "output_type": "stream",
     "text": [
      "Failed to retrieve data. Status code: 404\n"
     ]
    },
    {
     "name": "stderr",
     "output_type": "stream",
     "text": [
      "[11:19:56] SMILES Parse Error: duplicated ring closure 0 bonds atom 0 to itself for input: 'C00013'\n",
      "[11:19:56] SMILES Parse Error: duplicated ring closure 0 bonds atom 0 to itself for input: 'C00020'\n",
      "[11:19:56] SMILES Parse Error: unclosed ring for input: 'C02987'\n"
     ]
    },
    {
     "name": "stdout",
     "output_type": "stream",
     "text": [
      "Failed to retrieve data. Status code: 404\n"
     ]
    },
    {
     "name": "stderr",
     "output_type": "stream",
     "text": [
      "[11:19:57] SMILES Parse Error: duplicated ring closure 0 bonds atom 0 to itself for input: 'C00001'\n",
      "[11:19:57] SMILES Parse Error: duplicated ring closure 0 bonds atom 0 to itself for input: 'C00386'\n",
      "[11:19:58] SMILES Parse Error: duplicated ring closure 0 bonds atom 0 to itself for input: 'C00099'\n",
      "[11:19:59] SMILES Parse Error: duplicated ring closure 0 bonds atom 0 to itself for input: 'C00135'\n",
      "[11:20:00] SMILES Parse Error: duplicated ring closure 0 bonds atom 0 to itself for input: 'C00001'\n",
      "[11:20:00] SMILES Parse Error: duplicated ring closure 0 bonds atom 0 to itself for input: 'C00884'\n",
      "[11:20:01] SMILES Parse Error: duplicated ring closure 0 bonds atom 0 to itself for input: 'C00135'\n",
      "[11:20:01] SMILES Parse Error: duplicated ring closure 0 bonds atom 0 to itself for input: 'C00334'\n",
      "[11:20:02] SMILES Parse Error: duplicated ring closure 0 bonds atom 0 to itself for input: 'C00002'\n",
      "[11:20:02] SMILES Parse Error: duplicated ring closure 0 bonds atom 0 to itself for input: 'C00022'\n",
      "[11:20:02] SMILES Parse Error: duplicated ring closure 0 bonds atom 0 to itself for input: 'C00008'\n",
      "[11:20:02] SMILES Parse Error: duplicated ring closure 0 bonds atom 0 to itself for input: 'C00074'\n",
      "[11:20:02] SMILES Parse Error: duplicated ring closure 0 bonds atom 0 to itself for input: 'C00454'\n"
     ]
    },
    {
     "name": "stdout",
     "output_type": "stream",
     "text": [
      "Failed to retrieve data. Status code: 404\n"
     ]
    },
    {
     "name": "stderr",
     "output_type": "stream",
     "text": [
      "[11:20:03] SMILES Parse Error: duplicated ring closure 0 bonds atom 0 to itself for input: 'C00206'\n",
      "[11:20:03] SMILES Parse Error: unclosed ring for input: 'C05625'\n",
      "[11:20:04] SMILES Parse Error: duplicated ring closure 0 bonds atom 0 to itself for input: 'C00025'\n",
      "[11:20:04] SMILES Parse Error: duplicated ring closure 0 bonds atom 0 to itself for input: 'C00074'\n",
      "[11:20:04] SMILES Parse Error: duplicated ring closure 0 bonds atom 0 to itself for input: 'C00075'\n",
      "[11:20:04] SMILES Parse Error: duplicated ring closure 0 bonds atom 0 to itself for input: 'C00389'\n",
      "[11:20:05] SMILES Parse Error: duplicated ring closure 0 bonds atom 0 to itself for input: 'C00022'\n",
      "[11:20:05] SMILES Parse Error: duplicated ring closure 0 bonds atom 0 to itself for input: 'C00015'\n",
      "[11:20:06] SMILES Parse Error: duplicated ring closure 0 bonds atom 0 to itself for input: 'C00008'\n",
      "[11:20:06] SMILES Parse Error: duplicated ring closure 0 bonds atom 0 to itself for input: 'C00041'\n",
      "[11:20:06] SMILES Parse Error: duplicated ring closure 0 bonds atom 0 to itself for input: 'C00158'\n",
      "[11:20:06] SMILES Parse Error: duplicated ring closure 0 bonds atom 0 to itself for input: 'C00091'\n",
      "[11:20:07] SMILES Parse Error: duplicated ring closure 0 bonds atom 0 to itself for input: 'C00063'\n",
      "[11:20:07] SMILES Parse Error: duplicated ring closure 0 bonds atom 0 to itself for input: 'C00035'\n",
      "[11:20:07] SMILES Parse Error: duplicated ring closure 0 bonds atom 0 to itself for input: 'C00081'\n",
      "[11:20:08] SMILES Parse Error: duplicated ring closure 0 bonds atom 0 to itself for input: 'C01401'\n",
      "[11:20:09] SMILES Parse Error: duplicated ring closure 0 bonds atom 0 to itself for input: 'C00104'\n",
      "[11:20:10] SMILES Parse Error: duplicated ring closure 0 bonds atom 0 to itself for input: 'C00122'\n",
      "[11:20:10] SMILES Parse Error: duplicated ring closure 0 bonds atom 0 to itself for input: 'C00009'\n",
      "[11:20:10] SMILES Parse Error: duplicated ring closure 0 bonds atom 0 to itself for input: 'C00361'\n",
      "[11:20:11] SMILES Parse Error: duplicated ring closure 0 bonds atom 0 to itself for input: 'C00002'\n",
      "[11:20:11] SMILES Parse Error: duplicated ring closure 0 bonds atom 0 to itself for input: 'C00302'\n",
      "[11:20:11] SMILES Parse Error: duplicated ring closure 0 bonds atom 0 to itself for input: 'C00026'\n",
      "[11:20:11] SMILES Parse Error: duplicated ring closure 0 bonds atom 0 to itself for input: 'C00044'\n",
      "[11:20:11] SMILES Parse Error: duplicated ring closure 0 bonds atom 0 to itself for input: 'C00286'\n",
      "[11:20:12] SMILES Parse Error: duplicated ring closure 0 bonds atom 0 to itself for input: 'C00131'\n",
      "[11:20:13] SMILES Parse Error: duplicated ring closure 0 bonds atom 0 to itself for input: 'C00201'\n",
      "[11:20:13] SMILES Parse Error: duplicated ring closure 0 bonds atom 0 to itself for input: 'C00209'\n",
      "[11:20:13] SMILES Parse Error: duplicated ring closure 0 bonds atom 0 to itself for input: 'C00112'\n",
      "[11:20:14] SMILES Parse Error: duplicated ring closure 0 bonds atom 0 to itself for input: 'C00022'\n",
      "[11:20:14] SMILES Parse Error: duplicated ring closure 0 bonds atom 0 to itself for input: 'C00044'\n",
      "[11:20:14] SMILES Parse Error: duplicated ring closure 0 bonds atom 0 to itself for input: 'C00035'\n",
      "[11:20:14] SMILES Parse Error: duplicated ring closure 0 bonds atom 0 to itself for input: 'C00074'\n",
      "[11:20:14] SMILES Parse Error: duplicated ring closure 0 bonds atom 0 to itself for input: 'C00454'\n",
      "[11:20:14] SMILES Parse Error: duplicated ring closure 0 bonds atom 0 to itself for input: 'C00206'\n",
      "[11:20:14] SMILES Parse Error: unclosed ring for input: 'C05625'\n",
      "[11:20:14] SMILES Parse Error: duplicated ring closure 0 bonds atom 0 to itself for input: 'C00025'\n",
      "[11:20:14] SMILES Parse Error: duplicated ring closure 0 bonds atom 0 to itself for input: 'C00074'\n",
      "[11:20:15] SMILES Parse Error: duplicated ring closure 0 bonds atom 0 to itself for input: 'C00075'\n",
      "[11:20:15] SMILES Parse Error: duplicated ring closure 0 bonds atom 0 to itself for input: 'C00389'\n",
      "[11:20:15] SMILES Parse Error: duplicated ring closure 0 bonds atom 0 to itself for input: 'C00022'\n",
      "[11:20:15] SMILES Parse Error: duplicated ring closure 0 bonds atom 0 to itself for input: 'C00015'\n",
      "[11:20:15] SMILES Parse Error: duplicated ring closure 0 bonds atom 0 to itself for input: 'C00008'\n",
      "[11:20:15] SMILES Parse Error: duplicated ring closure 0 bonds atom 0 to itself for input: 'C00041'\n",
      "[11:20:15] SMILES Parse Error: duplicated ring closure 0 bonds atom 0 to itself for input: 'C00158'\n",
      "[11:20:15] SMILES Parse Error: duplicated ring closure 0 bonds atom 0 to itself for input: 'C00091'\n",
      "[11:20:15] SMILES Parse Error: duplicated ring closure 0 bonds atom 0 to itself for input: 'C00063'\n",
      "[11:20:15] SMILES Parse Error: duplicated ring closure 0 bonds atom 0 to itself for input: 'C00035'\n",
      "[11:20:15] SMILES Parse Error: duplicated ring closure 0 bonds atom 0 to itself for input: 'C00081'\n",
      "[11:20:15] SMILES Parse Error: duplicated ring closure 0 bonds atom 0 to itself for input: 'C01401'\n",
      "[11:20:15] SMILES Parse Error: duplicated ring closure 0 bonds atom 0 to itself for input: 'C00104'\n",
      "[11:20:15] SMILES Parse Error: duplicated ring closure 0 bonds atom 0 to itself for input: 'C00122'\n",
      "[11:20:15] SMILES Parse Error: duplicated ring closure 0 bonds atom 0 to itself for input: 'C00009'\n",
      "[11:20:15] SMILES Parse Error: duplicated ring closure 0 bonds atom 0 to itself for input: 'C00361'\n",
      "[11:20:15] SMILES Parse Error: duplicated ring closure 0 bonds atom 0 to itself for input: 'C00002'\n",
      "[11:20:15] SMILES Parse Error: duplicated ring closure 0 bonds atom 0 to itself for input: 'C00302'\n",
      "[11:20:15] SMILES Parse Error: duplicated ring closure 0 bonds atom 0 to itself for input: 'C00026'\n",
      "[11:20:16] SMILES Parse Error: duplicated ring closure 0 bonds atom 0 to itself for input: 'C00044'\n",
      "[11:20:16] SMILES Parse Error: duplicated ring closure 0 bonds atom 0 to itself for input: 'C00286'\n",
      "[11:20:16] SMILES Parse Error: duplicated ring closure 0 bonds atom 0 to itself for input: 'C00131'\n",
      "[11:20:16] SMILES Parse Error: duplicated ring closure 0 bonds atom 0 to itself for input: 'C00201'\n",
      "[11:20:16] SMILES Parse Error: duplicated ring closure 0 bonds atom 0 to itself for input: 'C00209'\n",
      "[11:20:16] SMILES Parse Error: duplicated ring closure 0 bonds atom 0 to itself for input: 'C00112'\n",
      "[11:20:16] SMILES Parse Error: duplicated ring closure 0 bonds atom 0 to itself for input: 'C00022'\n",
      "[11:20:16] SMILES Parse Error: duplicated ring closure 0 bonds atom 0 to itself for input: 'C00063'\n",
      "[11:20:16] SMILES Parse Error: duplicated ring closure 0 bonds atom 0 to itself for input: 'C00074'\n",
      "[11:20:16] SMILES Parse Error: duplicated ring closure 0 bonds atom 0 to itself for input: 'C00112'\n",
      "[11:20:16] SMILES Parse Error: duplicated ring closure 0 bonds atom 0 to itself for input: 'C00454'\n",
      "[11:20:16] SMILES Parse Error: duplicated ring closure 0 bonds atom 0 to itself for input: 'C00206'\n",
      "[11:20:16] SMILES Parse Error: unclosed ring for input: 'C05625'\n",
      "[11:20:16] SMILES Parse Error: duplicated ring closure 0 bonds atom 0 to itself for input: 'C00025'\n",
      "[11:20:16] SMILES Parse Error: duplicated ring closure 0 bonds atom 0 to itself for input: 'C00074'\n",
      "[11:20:16] SMILES Parse Error: duplicated ring closure 0 bonds atom 0 to itself for input: 'C00075'\n",
      "[11:20:16] SMILES Parse Error: duplicated ring closure 0 bonds atom 0 to itself for input: 'C00389'\n",
      "[11:20:16] SMILES Parse Error: duplicated ring closure 0 bonds atom 0 to itself for input: 'C00022'\n",
      "[11:20:17] SMILES Parse Error: duplicated ring closure 0 bonds atom 0 to itself for input: 'C00015'\n",
      "[11:20:17] SMILES Parse Error: duplicated ring closure 0 bonds atom 0 to itself for input: 'C00008'\n",
      "[11:20:17] SMILES Parse Error: duplicated ring closure 0 bonds atom 0 to itself for input: 'C00041'\n",
      "[11:20:17] SMILES Parse Error: duplicated ring closure 0 bonds atom 0 to itself for input: 'C00158'\n",
      "[11:20:17] SMILES Parse Error: duplicated ring closure 0 bonds atom 0 to itself for input: 'C00091'\n",
      "[11:20:17] SMILES Parse Error: duplicated ring closure 0 bonds atom 0 to itself for input: 'C00063'\n",
      "[11:20:17] SMILES Parse Error: duplicated ring closure 0 bonds atom 0 to itself for input: 'C00035'\n",
      "[11:20:17] SMILES Parse Error: duplicated ring closure 0 bonds atom 0 to itself for input: 'C00081'\n",
      "[11:20:17] SMILES Parse Error: duplicated ring closure 0 bonds atom 0 to itself for input: 'C01401'\n",
      "[11:20:17] SMILES Parse Error: duplicated ring closure 0 bonds atom 0 to itself for input: 'C00104'\n",
      "[11:20:17] SMILES Parse Error: duplicated ring closure 0 bonds atom 0 to itself for input: 'C00122'\n",
      "[11:20:17] SMILES Parse Error: duplicated ring closure 0 bonds atom 0 to itself for input: 'C00009'\n",
      "[11:20:17] SMILES Parse Error: duplicated ring closure 0 bonds atom 0 to itself for input: 'C00361'\n",
      "[11:20:17] SMILES Parse Error: duplicated ring closure 0 bonds atom 0 to itself for input: 'C00002'\n",
      "[11:20:17] SMILES Parse Error: duplicated ring closure 0 bonds atom 0 to itself for input: 'C00302'\n",
      "[11:20:17] SMILES Parse Error: duplicated ring closure 0 bonds atom 0 to itself for input: 'C00026'\n",
      "[11:20:17] SMILES Parse Error: duplicated ring closure 0 bonds atom 0 to itself for input: 'C00044'\n",
      "[11:20:17] SMILES Parse Error: duplicated ring closure 0 bonds atom 0 to itself for input: 'C00286'\n",
      "[11:20:17] SMILES Parse Error: duplicated ring closure 0 bonds atom 0 to itself for input: 'C00131'\n",
      "[11:20:18] SMILES Parse Error: duplicated ring closure 0 bonds atom 0 to itself for input: 'C00201'\n",
      "[11:20:18] SMILES Parse Error: duplicated ring closure 0 bonds atom 0 to itself for input: 'C00209'\n",
      "[11:20:18] SMILES Parse Error: duplicated ring closure 0 bonds atom 0 to itself for input: 'C00112'\n",
      "[11:20:18] SMILES Parse Error: duplicated ring closure 0 bonds atom 0 to itself for input: 'C00022'\n",
      "[11:20:18] SMILES Parse Error: duplicated ring closure 0 bonds atom 0 to itself for input: 'C00075'\n",
      "[11:20:18] SMILES Parse Error: duplicated ring closure 0 bonds atom 0 to itself for input: 'C00015'\n",
      "[11:20:18] SMILES Parse Error: duplicated ring closure 0 bonds atom 0 to itself for input: 'C00074'\n",
      "[11:20:18] SMILES Parse Error: duplicated ring closure 0 bonds atom 0 to itself for input: 'C00454'\n",
      "[11:20:18] SMILES Parse Error: duplicated ring closure 0 bonds atom 0 to itself for input: 'C00206'\n",
      "[11:20:18] SMILES Parse Error: unclosed ring for input: 'C05625'\n",
      "[11:20:18] SMILES Parse Error: duplicated ring closure 0 bonds atom 0 to itself for input: 'C00025'\n",
      "[11:20:18] SMILES Parse Error: duplicated ring closure 0 bonds atom 0 to itself for input: 'C00074'\n",
      "[11:20:18] SMILES Parse Error: duplicated ring closure 0 bonds atom 0 to itself for input: 'C00075'\n",
      "[11:20:18] SMILES Parse Error: duplicated ring closure 0 bonds atom 0 to itself for input: 'C00389'\n",
      "[11:20:18] SMILES Parse Error: duplicated ring closure 0 bonds atom 0 to itself for input: 'C00022'\n",
      "[11:20:18] SMILES Parse Error: duplicated ring closure 0 bonds atom 0 to itself for input: 'C00015'\n",
      "[11:20:18] SMILES Parse Error: duplicated ring closure 0 bonds atom 0 to itself for input: 'C00008'\n",
      "[11:20:18] SMILES Parse Error: duplicated ring closure 0 bonds atom 0 to itself for input: 'C00041'\n",
      "[11:20:18] SMILES Parse Error: duplicated ring closure 0 bonds atom 0 to itself for input: 'C00158'\n",
      "[11:20:19] SMILES Parse Error: duplicated ring closure 0 bonds atom 0 to itself for input: 'C00091'\n",
      "[11:20:19] SMILES Parse Error: duplicated ring closure 0 bonds atom 0 to itself for input: 'C00063'\n",
      "[11:20:19] SMILES Parse Error: duplicated ring closure 0 bonds atom 0 to itself for input: 'C00035'\n",
      "[11:20:19] SMILES Parse Error: duplicated ring closure 0 bonds atom 0 to itself for input: 'C00081'\n",
      "[11:20:19] SMILES Parse Error: duplicated ring closure 0 bonds atom 0 to itself for input: 'C01401'\n",
      "[11:20:19] SMILES Parse Error: duplicated ring closure 0 bonds atom 0 to itself for input: 'C00104'\n",
      "[11:20:19] SMILES Parse Error: duplicated ring closure 0 bonds atom 0 to itself for input: 'C00122'\n",
      "[11:20:19] SMILES Parse Error: duplicated ring closure 0 bonds atom 0 to itself for input: 'C00009'\n",
      "[11:20:19] SMILES Parse Error: duplicated ring closure 0 bonds atom 0 to itself for input: 'C00361'\n",
      "[11:20:19] SMILES Parse Error: duplicated ring closure 0 bonds atom 0 to itself for input: 'C00002'\n",
      "[11:20:19] SMILES Parse Error: duplicated ring closure 0 bonds atom 0 to itself for input: 'C00302'\n",
      "[11:20:19] SMILES Parse Error: duplicated ring closure 0 bonds atom 0 to itself for input: 'C00026'\n",
      "[11:20:19] SMILES Parse Error: duplicated ring closure 0 bonds atom 0 to itself for input: 'C00044'\n",
      "[11:20:19] SMILES Parse Error: duplicated ring closure 0 bonds atom 0 to itself for input: 'C00286'\n",
      "[11:20:19] SMILES Parse Error: duplicated ring closure 0 bonds atom 0 to itself for input: 'C00131'\n",
      "[11:20:19] SMILES Parse Error: duplicated ring closure 0 bonds atom 0 to itself for input: 'C00201'\n",
      "[11:20:19] SMILES Parse Error: duplicated ring closure 0 bonds atom 0 to itself for input: 'C00209'\n",
      "[11:20:19] SMILES Parse Error: duplicated ring closure 0 bonds atom 0 to itself for input: 'C00112'\n",
      "[11:20:19] SMILES Parse Error: duplicated ring closure 0 bonds atom 0 to itself for input: 'C00022'\n",
      "[11:20:20] SMILES Parse Error: duplicated ring closure 0 bonds atom 0 to itself for input: 'C00081'\n",
      "[11:20:20] SMILES Parse Error: duplicated ring closure 0 bonds atom 0 to itself for input: 'C00074'\n",
      "[11:20:20] SMILES Parse Error: duplicated ring closure 0 bonds atom 0 to itself for input: 'C00104'\n",
      "[11:20:20] SMILES Parse Error: duplicated ring closure 0 bonds atom 0 to itself for input: 'C00454'\n",
      "[11:20:20] SMILES Parse Error: duplicated ring closure 0 bonds atom 0 to itself for input: 'C00206'\n",
      "[11:20:20] SMILES Parse Error: unclosed ring for input: 'C05625'\n",
      "[11:20:20] SMILES Parse Error: duplicated ring closure 0 bonds atom 0 to itself for input: 'C00025'\n",
      "[11:20:20] SMILES Parse Error: duplicated ring closure 0 bonds atom 0 to itself for input: 'C00074'\n",
      "[11:20:20] SMILES Parse Error: duplicated ring closure 0 bonds atom 0 to itself for input: 'C00075'\n",
      "[11:20:20] SMILES Parse Error: duplicated ring closure 0 bonds atom 0 to itself for input: 'C00389'\n",
      "[11:20:20] SMILES Parse Error: duplicated ring closure 0 bonds atom 0 to itself for input: 'C00022'\n",
      "[11:20:20] SMILES Parse Error: duplicated ring closure 0 bonds atom 0 to itself for input: 'C00015'\n",
      "[11:20:20] SMILES Parse Error: duplicated ring closure 0 bonds atom 0 to itself for input: 'C00008'\n",
      "[11:20:20] SMILES Parse Error: duplicated ring closure 0 bonds atom 0 to itself for input: 'C00041'\n",
      "[11:20:20] SMILES Parse Error: duplicated ring closure 0 bonds atom 0 to itself for input: 'C00158'\n",
      "[11:20:20] SMILES Parse Error: duplicated ring closure 0 bonds atom 0 to itself for input: 'C00091'\n",
      "[11:20:20] SMILES Parse Error: duplicated ring closure 0 bonds atom 0 to itself for input: 'C00063'\n",
      "[11:20:20] SMILES Parse Error: duplicated ring closure 0 bonds atom 0 to itself for input: 'C00035'\n",
      "[11:20:20] SMILES Parse Error: duplicated ring closure 0 bonds atom 0 to itself for input: 'C00081'\n",
      "[11:20:21] SMILES Parse Error: duplicated ring closure 0 bonds atom 0 to itself for input: 'C01401'\n",
      "[11:20:21] SMILES Parse Error: duplicated ring closure 0 bonds atom 0 to itself for input: 'C00104'\n",
      "[11:20:21] SMILES Parse Error: duplicated ring closure 0 bonds atom 0 to itself for input: 'C00122'\n",
      "[11:20:21] SMILES Parse Error: duplicated ring closure 0 bonds atom 0 to itself for input: 'C00009'\n",
      "[11:20:21] SMILES Parse Error: duplicated ring closure 0 bonds atom 0 to itself for input: 'C00361'\n",
      "[11:20:21] SMILES Parse Error: duplicated ring closure 0 bonds atom 0 to itself for input: 'C00002'\n",
      "[11:20:21] SMILES Parse Error: duplicated ring closure 0 bonds atom 0 to itself for input: 'C00302'\n",
      "[11:20:21] SMILES Parse Error: duplicated ring closure 0 bonds atom 0 to itself for input: 'C00026'\n",
      "[11:20:21] SMILES Parse Error: duplicated ring closure 0 bonds atom 0 to itself for input: 'C00044'\n",
      "[11:20:21] SMILES Parse Error: duplicated ring closure 0 bonds atom 0 to itself for input: 'C00286'\n",
      "[11:20:21] SMILES Parse Error: duplicated ring closure 0 bonds atom 0 to itself for input: 'C00131'\n",
      "[11:20:21] SMILES Parse Error: duplicated ring closure 0 bonds atom 0 to itself for input: 'C00201'\n",
      "[11:20:21] SMILES Parse Error: duplicated ring closure 0 bonds atom 0 to itself for input: 'C00209'\n",
      "[11:20:21] SMILES Parse Error: duplicated ring closure 0 bonds atom 0 to itself for input: 'C00112'\n",
      "[11:20:21] SMILES Parse Error: duplicated ring closure 0 bonds atom 0 to itself for input: 'C00022'\n",
      "[11:20:21] SMILES Parse Error: duplicated ring closure 0 bonds atom 0 to itself for input: 'C00131'\n",
      "[11:20:21] SMILES Parse Error: duplicated ring closure 0 bonds atom 0 to itself for input: 'C00074'\n",
      "[11:20:21] SMILES Parse Error: duplicated ring closure 0 bonds atom 0 to itself for input: 'C00206'\n",
      "[11:20:21] SMILES Parse Error: duplicated ring closure 0 bonds atom 0 to itself for input: 'C00454'\n",
      "[11:20:21] SMILES Parse Error: duplicated ring closure 0 bonds atom 0 to itself for input: 'C00206'\n",
      "[11:20:22] SMILES Parse Error: unclosed ring for input: 'C05625'\n",
      "[11:20:22] SMILES Parse Error: duplicated ring closure 0 bonds atom 0 to itself for input: 'C00025'\n",
      "[11:20:22] SMILES Parse Error: duplicated ring closure 0 bonds atom 0 to itself for input: 'C00074'\n",
      "[11:20:22] SMILES Parse Error: duplicated ring closure 0 bonds atom 0 to itself for input: 'C00075'\n",
      "[11:20:22] SMILES Parse Error: duplicated ring closure 0 bonds atom 0 to itself for input: 'C00389'\n",
      "[11:20:22] SMILES Parse Error: duplicated ring closure 0 bonds atom 0 to itself for input: 'C00022'\n",
      "[11:20:22] SMILES Parse Error: duplicated ring closure 0 bonds atom 0 to itself for input: 'C00015'\n",
      "[11:20:22] SMILES Parse Error: duplicated ring closure 0 bonds atom 0 to itself for input: 'C00008'\n",
      "[11:20:22] SMILES Parse Error: duplicated ring closure 0 bonds atom 0 to itself for input: 'C00041'\n",
      "[11:20:22] SMILES Parse Error: duplicated ring closure 0 bonds atom 0 to itself for input: 'C00158'\n",
      "[11:20:22] SMILES Parse Error: duplicated ring closure 0 bonds atom 0 to itself for input: 'C00091'\n",
      "[11:20:22] SMILES Parse Error: duplicated ring closure 0 bonds atom 0 to itself for input: 'C00063'\n",
      "[11:20:22] SMILES Parse Error: duplicated ring closure 0 bonds atom 0 to itself for input: 'C00035'\n",
      "[11:20:22] SMILES Parse Error: duplicated ring closure 0 bonds atom 0 to itself for input: 'C00081'\n",
      "[11:20:22] SMILES Parse Error: duplicated ring closure 0 bonds atom 0 to itself for input: 'C01401'\n",
      "[11:20:22] SMILES Parse Error: duplicated ring closure 0 bonds atom 0 to itself for input: 'C00104'\n",
      "[11:20:22] SMILES Parse Error: duplicated ring closure 0 bonds atom 0 to itself for input: 'C00122'\n",
      "[11:20:22] SMILES Parse Error: duplicated ring closure 0 bonds atom 0 to itself for input: 'C00009'\n",
      "[11:20:22] SMILES Parse Error: duplicated ring closure 0 bonds atom 0 to itself for input: 'C00361'\n",
      "[11:20:23] SMILES Parse Error: duplicated ring closure 0 bonds atom 0 to itself for input: 'C00002'\n",
      "[11:20:23] SMILES Parse Error: duplicated ring closure 0 bonds atom 0 to itself for input: 'C00302'\n",
      "[11:20:23] SMILES Parse Error: duplicated ring closure 0 bonds atom 0 to itself for input: 'C00026'\n",
      "[11:20:23] SMILES Parse Error: duplicated ring closure 0 bonds atom 0 to itself for input: 'C00044'\n",
      "[11:20:23] SMILES Parse Error: duplicated ring closure 0 bonds atom 0 to itself for input: 'C00286'\n",
      "[11:20:23] SMILES Parse Error: duplicated ring closure 0 bonds atom 0 to itself for input: 'C00131'\n",
      "[11:20:23] SMILES Parse Error: duplicated ring closure 0 bonds atom 0 to itself for input: 'C00201'\n",
      "[11:20:23] SMILES Parse Error: duplicated ring closure 0 bonds atom 0 to itself for input: 'C00209'\n",
      "[11:20:23] SMILES Parse Error: duplicated ring closure 0 bonds atom 0 to itself for input: 'C00112'\n",
      "[11:20:23] SMILES Parse Error: duplicated ring closure 0 bonds atom 0 to itself for input: 'C00022'\n",
      "[11:20:23] SMILES Parse Error: duplicated ring closure 0 bonds atom 0 to itself for input: 'C00286'\n",
      "[11:20:23] SMILES Parse Error: duplicated ring closure 0 bonds atom 0 to itself for input: 'C00074'\n",
      "[11:20:23] SMILES Parse Error: duplicated ring closure 0 bonds atom 0 to itself for input: 'C00361'\n",
      "[11:20:23] SMILES Parse Error: duplicated ring closure 0 bonds atom 0 to itself for input: 'C00454'\n",
      "[11:20:23] SMILES Parse Error: duplicated ring closure 0 bonds atom 0 to itself for input: 'C00206'\n",
      "[11:20:23] SMILES Parse Error: unclosed ring for input: 'C05625'\n",
      "[11:20:23] SMILES Parse Error: duplicated ring closure 0 bonds atom 0 to itself for input: 'C00025'\n",
      "[11:20:24] SMILES Parse Error: duplicated ring closure 0 bonds atom 0 to itself for input: 'C00074'\n",
      "[11:20:24] SMILES Parse Error: duplicated ring closure 0 bonds atom 0 to itself for input: 'C00075'\n",
      "[11:20:24] SMILES Parse Error: duplicated ring closure 0 bonds atom 0 to itself for input: 'C00389'\n",
      "[11:20:24] SMILES Parse Error: duplicated ring closure 0 bonds atom 0 to itself for input: 'C00022'\n",
      "[11:20:24] SMILES Parse Error: duplicated ring closure 0 bonds atom 0 to itself for input: 'C00015'\n",
      "[11:20:24] SMILES Parse Error: duplicated ring closure 0 bonds atom 0 to itself for input: 'C00008'\n",
      "[11:20:24] SMILES Parse Error: duplicated ring closure 0 bonds atom 0 to itself for input: 'C00041'\n",
      "[11:20:24] SMILES Parse Error: duplicated ring closure 0 bonds atom 0 to itself for input: 'C00158'\n",
      "[11:20:24] SMILES Parse Error: duplicated ring closure 0 bonds atom 0 to itself for input: 'C00091'\n",
      "[11:20:24] SMILES Parse Error: duplicated ring closure 0 bonds atom 0 to itself for input: 'C00063'\n",
      "[11:20:24] SMILES Parse Error: duplicated ring closure 0 bonds atom 0 to itself for input: 'C00035'\n",
      "[11:20:24] SMILES Parse Error: duplicated ring closure 0 bonds atom 0 to itself for input: 'C00081'\n",
      "[11:20:24] SMILES Parse Error: duplicated ring closure 0 bonds atom 0 to itself for input: 'C01401'\n",
      "[11:20:24] SMILES Parse Error: duplicated ring closure 0 bonds atom 0 to itself for input: 'C00104'\n",
      "[11:20:24] SMILES Parse Error: duplicated ring closure 0 bonds atom 0 to itself for input: 'C00122'\n",
      "[11:20:24] SMILES Parse Error: duplicated ring closure 0 bonds atom 0 to itself for input: 'C00009'\n",
      "[11:20:24] SMILES Parse Error: duplicated ring closure 0 bonds atom 0 to itself for input: 'C00361'\n",
      "[11:20:24] SMILES Parse Error: duplicated ring closure 0 bonds atom 0 to itself for input: 'C00002'\n",
      "[11:20:24] SMILES Parse Error: duplicated ring closure 0 bonds atom 0 to itself for input: 'C00302'\n",
      "[11:20:25] SMILES Parse Error: duplicated ring closure 0 bonds atom 0 to itself for input: 'C00026'\n",
      "[11:20:25] SMILES Parse Error: duplicated ring closure 0 bonds atom 0 to itself for input: 'C00044'\n",
      "[11:20:25] SMILES Parse Error: duplicated ring closure 0 bonds atom 0 to itself for input: 'C00286'\n",
      "[11:20:25] SMILES Parse Error: duplicated ring closure 0 bonds atom 0 to itself for input: 'C00131'\n",
      "[11:20:25] SMILES Parse Error: duplicated ring closure 0 bonds atom 0 to itself for input: 'C00201'\n",
      "[11:20:25] SMILES Parse Error: duplicated ring closure 0 bonds atom 0 to itself for input: 'C00209'\n",
      "[11:20:25] SMILES Parse Error: duplicated ring closure 0 bonds atom 0 to itself for input: 'C00112'\n",
      "[11:20:25] SMILES Parse Error: duplicated ring closure 0 bonds atom 0 to itself for input: 'C00022'\n",
      "[11:20:25] SMILES Parse Error: duplicated ring closure 0 bonds atom 0 to itself for input: 'C00201'\n",
      "[11:20:25] SMILES Parse Error: duplicated ring closure 0 bonds atom 0 to itself for input: 'C00074'\n",
      "[11:20:25] SMILES Parse Error: duplicated ring closure 0 bonds atom 0 to itself for input: 'C00454'\n",
      "[11:20:25] SMILES Parse Error: duplicated ring closure 0 bonds atom 0 to itself for input: 'C00454'\n",
      "[11:20:25] SMILES Parse Error: duplicated ring closure 0 bonds atom 0 to itself for input: 'C00206'\n",
      "[11:20:25] SMILES Parse Error: unclosed ring for input: 'C05625'\n",
      "[11:20:25] SMILES Parse Error: duplicated ring closure 0 bonds atom 0 to itself for input: 'C00025'\n",
      "[11:20:25] SMILES Parse Error: duplicated ring closure 0 bonds atom 0 to itself for input: 'C00074'\n",
      "[11:20:25] SMILES Parse Error: duplicated ring closure 0 bonds atom 0 to itself for input: 'C00075'\n",
      "[11:20:25] SMILES Parse Error: duplicated ring closure 0 bonds atom 0 to itself for input: 'C00389'\n",
      "[11:20:25] SMILES Parse Error: duplicated ring closure 0 bonds atom 0 to itself for input: 'C00022'\n",
      "[11:20:25] SMILES Parse Error: duplicated ring closure 0 bonds atom 0 to itself for input: 'C00015'\n",
      "[11:20:25] SMILES Parse Error: duplicated ring closure 0 bonds atom 0 to itself for input: 'C00008'\n",
      "[11:20:26] SMILES Parse Error: duplicated ring closure 0 bonds atom 0 to itself for input: 'C00041'\n",
      "[11:20:26] SMILES Parse Error: duplicated ring closure 0 bonds atom 0 to itself for input: 'C00158'\n",
      "[11:20:26] SMILES Parse Error: duplicated ring closure 0 bonds atom 0 to itself for input: 'C00091'\n",
      "[11:20:26] SMILES Parse Error: duplicated ring closure 0 bonds atom 0 to itself for input: 'C00063'\n",
      "[11:20:26] SMILES Parse Error: duplicated ring closure 0 bonds atom 0 to itself for input: 'C00035'\n",
      "[11:20:26] SMILES Parse Error: duplicated ring closure 0 bonds atom 0 to itself for input: 'C00081'\n",
      "[11:20:26] SMILES Parse Error: duplicated ring closure 0 bonds atom 0 to itself for input: 'C01401'\n",
      "[11:20:26] SMILES Parse Error: duplicated ring closure 0 bonds atom 0 to itself for input: 'C00104'\n",
      "[11:20:26] SMILES Parse Error: duplicated ring closure 0 bonds atom 0 to itself for input: 'C00122'\n",
      "[11:20:26] SMILES Parse Error: duplicated ring closure 0 bonds atom 0 to itself for input: 'C00009'\n",
      "[11:20:26] SMILES Parse Error: duplicated ring closure 0 bonds atom 0 to itself for input: 'C00361'\n",
      "[11:20:26] SMILES Parse Error: duplicated ring closure 0 bonds atom 0 to itself for input: 'C00002'\n",
      "[11:20:26] SMILES Parse Error: duplicated ring closure 0 bonds atom 0 to itself for input: 'C00302'\n",
      "[11:20:26] SMILES Parse Error: duplicated ring closure 0 bonds atom 0 to itself for input: 'C00026'\n",
      "[11:20:26] SMILES Parse Error: duplicated ring closure 0 bonds atom 0 to itself for input: 'C00044'\n",
      "[11:20:26] SMILES Parse Error: duplicated ring closure 0 bonds atom 0 to itself for input: 'C00286'\n",
      "[11:20:26] SMILES Parse Error: duplicated ring closure 0 bonds atom 0 to itself for input: 'C00131'\n",
      "[11:20:26] SMILES Parse Error: duplicated ring closure 0 bonds atom 0 to itself for input: 'C00201'\n",
      "[11:20:26] SMILES Parse Error: duplicated ring closure 0 bonds atom 0 to itself for input: 'C00209'\n",
      "[11:20:27] SMILES Parse Error: duplicated ring closure 0 bonds atom 0 to itself for input: 'C00112'\n",
      "[11:20:27] SMILES Parse Error: duplicated ring closure 0 bonds atom 0 to itself for input: 'C00009'\n",
      "[11:20:27] SMILES Parse Error: duplicated ring closure 0 bonds atom 0 to itself for input: 'C00024'\n",
      "[11:20:27] SMILES Parse Error: duplicated ring closure 0 bonds atom 0 to itself for input: 'C00010'\n",
      "[11:20:27] SMILES Parse Error: duplicated ring closure 0 bonds atom 0 to itself for input: 'C00227'\n",
      "[11:20:27] SMILES Parse Error: duplicated ring closure 0 bonds atom 0 to itself for input: 'C00002'\n",
      "[11:20:27] SMILES Parse Error: duplicated ring closure 0 bonds atom 0 to itself for input: 'C00005'\n",
      "[11:20:27] SMILES Parse Error: unclosed ring for input: 'C02876'\n",
      "[11:20:28] SMILES Parse Error: duplicated ring closure 0 bonds atom 0 to itself for input: 'C00022'\n",
      "[11:20:28] SMILES Parse Error: duplicated ring closure 0 bonds atom 0 to itself for input: 'C00227'\n",
      "[11:20:28] SMILES Parse Error: duplicated ring closure 0 bonds atom 0 to itself for input: 'C00100'\n",
      "[11:20:28] SMILES Parse Error: duplicated ring closure 1 bonds atom 0 to itself for input: 'C11215'\n",
      "[11:20:28] SMILES Parse Error: duplicated ring closure 0 bonds atom 0 to itself for input: 'C00010'\n",
      "[11:20:28] SMILES Parse Error: duplicated ring closure 0 bonds atom 0 to itself for input: 'C00004'\n",
      "[11:20:28] SMILES Parse Error: duplicated ring closure 0 bonds atom 0 to itself for input: 'C00024'\n",
      "[11:20:28] SMILES Parse Error: duplicated ring closure 0 bonds atom 0 to itself for input: 'C00008'\n",
      "[11:20:29] SMILES Parse Error: duplicated ring closure 0 bonds atom 0 to itself for input: 'C00074'\n",
      "[11:20:29] SMILES Parse Error: duplicated ring closure 0 bonds atom 0 to itself for input: 'C00009'\n",
      "[11:20:29] SMILES Parse Error: unclosed ring for input: 'C01478'\n",
      "[11:20:29] SMILES Parse Error: duplicated ring closure 0 bonds atom 0 to itself for input: 'C00059'\n",
      "[11:20:30] SMILES Parse Error: duplicated ring closure 0 bonds atom 0 to itself for input: 'C00009'\n",
      "[11:20:30] SMILES Parse Error: duplicated ring closure 0 bonds atom 0 to itself for input: 'C00100'\n",
      "[11:20:30] SMILES Parse Error: duplicated ring closure 0 bonds atom 0 to itself for input: 'C00010'\n",
      "[11:20:30] SMILES Parse Error: unclosed ring for input: 'C02876'\n",
      "[11:20:30] SMILES Parse Error: duplicated ring closure 0 bonds atom 0 to itself for input: 'C00002'\n",
      "[11:20:30] SMILES Parse Error: duplicated ring closure 0 bonds atom 0 to itself for input: 'C00005'\n",
      "[11:20:30] SMILES Parse Error: unclosed ring for input: 'C02876'\n",
      "[11:20:30] SMILES Parse Error: duplicated ring closure 0 bonds atom 0 to itself for input: 'C00022'\n",
      "[11:20:30] SMILES Parse Error: duplicated ring closure 0 bonds atom 0 to itself for input: 'C00227'\n",
      "[11:20:30] SMILES Parse Error: duplicated ring closure 0 bonds atom 0 to itself for input: 'C00100'\n",
      "[11:20:30] SMILES Parse Error: duplicated ring closure 1 bonds atom 0 to itself for input: 'C11215'\n",
      "[11:20:30] SMILES Parse Error: duplicated ring closure 0 bonds atom 0 to itself for input: 'C00010'\n",
      "[11:20:31] SMILES Parse Error: duplicated ring closure 0 bonds atom 0 to itself for input: 'C00004'\n",
      "[11:20:31] SMILES Parse Error: duplicated ring closure 0 bonds atom 0 to itself for input: 'C00024'\n",
      "[11:20:31] SMILES Parse Error: duplicated ring closure 0 bonds atom 0 to itself for input: 'C00008'\n",
      "[11:20:31] SMILES Parse Error: duplicated ring closure 0 bonds atom 0 to itself for input: 'C00074'\n",
      "[11:20:31] SMILES Parse Error: duplicated ring closure 0 bonds atom 0 to itself for input: 'C00009'\n",
      "[11:20:31] SMILES Parse Error: unclosed ring for input: 'C01478'\n",
      "[11:20:31] SMILES Parse Error: duplicated ring closure 0 bonds atom 0 to itself for input: 'C00059'\n",
      "[11:20:31] SMILES Parse Error: duplicated ring closure 0 bonds atom 0 to itself for input: 'C00001'\n",
      "[11:20:31] SMILES Parse Error: duplicated ring closure 0 bonds atom 0 to itself for input: 'C05402'\n",
      "[11:20:32] SMILES Parse Error: duplicated ring closure 0 bonds atom 0 to itself for input: 'C00031'\n",
      "[11:20:33] SMILES Parse Error: duplicated ring closure 0 bonds atom 0 to itself for input: 'C00124'\n",
      "[11:20:34] SMILES Parse Error: duplicated ring closure 0 bonds atom 0 to itself for input: 'C00001'\n",
      "[11:20:34] SMILES Parse Error: duplicated ring closure 0 bonds atom 0 to itself for input: 'C00492'\n",
      "[11:20:35] SMILES Parse Error: duplicated ring closure 0 bonds atom 0 to itself for input: 'C00089'\n",
      "[11:20:36] SMILES Parse Error: duplicated ring closure 0 bonds atom 0 to itself for input: 'C00124'\n",
      "[11:20:36] SMILES Parse Error: duplicated ring closure 0 bonds atom 0 to itself for input: 'C00001'\n",
      "[11:20:36] SMILES Parse Error: duplicated ring closure 0 bonds atom 0 to itself for input: 'C05401'\n",
      "[11:20:37] SMILES Parse Error: duplicated ring closure 0 bonds atom 0 to itself for input: 'C00116'\n",
      "[11:20:37] SMILES Parse Error: duplicated ring closure 0 bonds atom 0 to itself for input: 'C00124'\n",
      "[11:20:37] SMILES Parse Error: duplicated ring closure 0 bonds atom 0 to itself for input: 'C00001'\n",
      "[11:20:37] SMILES Parse Error: unclosed ring for input: 'C01235'\n",
      "[11:20:38] SMILES Parse Error: duplicated ring closure 0 bonds atom 0 to itself for input: 'C00124'\n",
      "[11:20:38] SMILES Parse Error: duplicated ring closure 0 bonds atom 0 to itself for input: 'C00137'\n",
      "[11:20:39] SMILES Parse Error: duplicated ring closure 0 bonds atom 0 to itself for input: 'C00001'\n",
      "[11:20:39] SMILES Parse Error: duplicated ring closure 0 bonds atom 0 to itself for input: 'C05400'\n",
      "[11:20:40] SMILES Parse Error: duplicated ring closure 0 bonds atom 0 to itself for input: 'C00124'\n",
      "[11:20:40] SMILES Parse Error: duplicated ring closure 0 bonds atom 0 to itself for input: 'C00159'\n",
      "[11:20:41] SMILES Parse Error: duplicated ring closure 0 bonds atom 0 to itself for input: 'C00001'\n",
      "[11:20:41] SMILES Parse Error: unclosed ring for input: 'C05399'\n",
      "[11:20:42] SMILES Parse Error: duplicated ring closure 0 bonds atom 0 to itself for input: 'C00124'\n",
      "[11:20:42] SMILES Parse Error: duplicated ring closure 0 bonds atom 0 to itself for input: 'C00794'\n",
      "[11:20:43] SMILES Parse Error: duplicated ring closure 0 bonds atom 0 to itself for input: 'C00001'\n",
      "[11:20:43] SMILES Parse Error: unclosed ring for input: 'C04737'\n"
     ]
    },
    {
     "name": "stdout",
     "output_type": "stream",
     "text": [
      "Failed to retrieve data. Status code: 404\n"
     ]
    },
    {
     "name": "stderr",
     "output_type": "stream",
     "text": [
      "[11:20:44] SMILES Parse Error: duplicated ring closure 0 bonds atom 0 to itself for input: 'C00124'\n",
      "[11:20:44] SMILES Parse Error: duplicated ring closure 0 bonds atom 0 to itself for input: 'C01290'\n"
     ]
    },
    {
     "name": "stdout",
     "output_type": "stream",
     "text": [
      "Failed to retrieve data. Status code: 404\n"
     ]
    },
    {
     "name": "stderr",
     "output_type": "stream",
     "text": [
      "[11:20:45] SMILES Parse Error: duplicated ring closure 0 bonds atom 0 to itself for input: 'C00001'\n",
      "[11:20:45] SMILES Parse Error: unclosed ring for input: 'C01613'\n",
      "[11:20:46] SMILES Parse Error: duplicated ring closure 0 bonds atom 0 to itself for input: 'C00124'\n",
      "[11:20:46] SMILES Parse Error: duplicated ring closure 0 bonds atom 0 to itself for input: 'C00492'\n",
      "[11:20:46] SMILES Parse Error: duplicated ring closure 0 bonds atom 0 to itself for input: 'C00001'\n",
      "[11:20:46] SMILES Parse Error: unclosed ring for input: 'C06126'\n"
     ]
    },
    {
     "name": "stdout",
     "output_type": "stream",
     "text": [
      "Failed to retrieve data. Status code: 404\n"
     ]
    },
    {
     "name": "stderr",
     "output_type": "stream",
     "text": [
      "[11:20:47] SMILES Parse Error: duplicated ring closure 0 bonds atom 0 to itself for input: 'C00124'\n",
      "[11:20:47] SMILES Parse Error: unclosed ring for input: 'C02686'\n"
     ]
    },
    {
     "name": "stdout",
     "output_type": "stream",
     "text": [
      "Failed to retrieve data. Status code: 404\n"
     ]
    },
    {
     "name": "stderr",
     "output_type": "stream",
     "text": [
      "[11:20:48] SMILES Parse Error: duplicated ring closure 0 bonds atom 0 to itself for input: 'C00001'\n",
      "[11:20:48] SMILES Parse Error: duplicated ring closure 0 bonds atom 0 to itself for input: 'C06037'\n"
     ]
    },
    {
     "name": "stdout",
     "output_type": "stream",
     "text": [
      "Failed to retrieve data. Status code: 404\n"
     ]
    },
    {
     "name": "stderr",
     "output_type": "stream",
     "text": [
      "[11:20:49] SMILES Parse Error: duplicated ring closure 0 bonds atom 0 to itself for input: 'C00124'\n",
      "[11:20:49] SMILES Parse Error: unclosed ring for input: 'C03692'\n"
     ]
    },
    {
     "name": "stdout",
     "output_type": "stream",
     "text": [
      "Failed to retrieve data. Status code: 404\n"
     ]
    },
    {
     "name": "stderr",
     "output_type": "stream",
     "text": [
      "[11:20:50] SMILES Parse Error: duplicated ring closure 0 bonds atom 0 to itself for input: 'C00001'\n",
      "[11:20:50] SMILES Parse Error: duplicated ring closure 0 bonds atom 0 to itself for input: 'C05404'\n",
      "[11:20:51] SMILES Parse Error: duplicated ring closure 0 bonds atom 0 to itself for input: 'C00124'\n",
      "[11:20:51] SMILES Parse Error: duplicated ring closure 0 bonds atom 0 to itself for input: 'C05402'\n",
      "[11:20:51] SMILES Parse Error: duplicated ring closure 0 bonds atom 0 to itself for input: 'C00002'\n",
      "[11:20:51] SMILES Parse Error: duplicated ring closure 0 bonds atom 0 to itself for input: 'C00183'\n",
      "[11:20:52] SMILES Parse Error: unclosed ring for input: 'C01653'\n"
     ]
    },
    {
     "name": "stdout",
     "output_type": "stream",
     "text": [
      "Failed to retrieve data. Status code: 404\n"
     ]
    },
    {
     "name": "stderr",
     "output_type": "stream",
     "text": [
      "[11:20:53] SMILES Parse Error: duplicated ring closure 0 bonds atom 0 to itself for input: 'C00013'\n",
      "[11:20:53] SMILES Parse Error: duplicated ring closure 0 bonds atom 0 to itself for input: 'C00020'\n",
      "[11:20:53] SMILES Parse Error: unclosed ring for input: 'C02554'\n"
     ]
    },
    {
     "name": "stdout",
     "output_type": "stream",
     "text": [
      "Failed to retrieve data. Status code: 404\n"
     ]
    },
    {
     "name": "stderr",
     "output_type": "stream",
     "text": [
      "[11:20:54] SMILES Parse Error: duplicated ring closure 0 bonds atom 0 to itself for input: 'C00001'\n",
      "[11:20:54] SMILES Parse Error: duplicated ring closure 0 bonds atom 0 to itself for input: 'C00003'\n",
      "[11:20:54] SMILES Parse Error: duplicated ring closure 0 bonds atom 0 to itself for input: 'C00130'\n",
      "[11:20:55] SMILES Parse Error: duplicated ring closure 0 bonds atom 0 to itself for input: 'C00004'\n",
      "[11:20:55] SMILES Parse Error: duplicated ring closure 0 bonds atom 0 to itself for input: 'C00080'\n",
      "[11:20:55] WARNING: not removing hydrogen atom without neighbors\n",
      "[11:20:55] SMILES Parse Error: duplicated ring closure 0 bonds atom 0 to itself for input: 'C00655'\n",
      "[11:20:56] SMILES Parse Error: duplicated ring closure 0 bonds atom 0 to itself for input: 'C00001'\n",
      "[11:20:56] SMILES Parse Error: duplicated ring closure 0 bonds atom 0 to itself for input: 'C00003'\n",
      "[11:20:56] SMILES Parse Error: unclosed ring for input: 'C04646'\n",
      "[11:20:57] SMILES Parse Error: duplicated ring closure 0 bonds atom 0 to itself for input: 'C00004'\n",
      "[11:20:57] SMILES Parse Error: duplicated ring closure 0 bonds atom 0 to itself for input: 'C00080'\n",
      "[11:20:57] WARNING: not removing hydrogen atom without neighbors\n",
      "[11:20:57] SMILES Parse Error: duplicated ring closure 1 bonds atom 0 to itself for input: 'C16618'\n"
     ]
    },
    {
     "name": "stdout",
     "output_type": "stream",
     "text": [
      "Failed to retrieve data. Status code: 404\n"
     ]
    },
    {
     "name": "stderr",
     "output_type": "stream",
     "text": [
      "[11:20:58] SMILES Parse Error: duplicated ring closure 0 bonds atom 0 to itself for input: 'C04039'\n",
      "[11:20:58] SMILES Parse Error: duplicated ring closure 0 bonds atom 0 to itself for input: 'C00001'\n",
      "[11:20:58] SMILES Parse Error: duplicated ring closure 0 bonds atom 0 to itself for input: 'C00141'\n",
      "[11:20:59] SMILES Parse Error: unclosed ring for input: 'C04272'\n",
      "[11:20:59] SMILES Parse Error: duplicated ring closure 0 bonds atom 0 to itself for input: 'C00001'\n",
      "[11:20:59] SMILES Parse Error: duplicated ring closure 0 bonds atom 0 to itself for input: 'C00141'\n",
      "[11:20:59] SMILES Parse Error: duplicated ring closure 0 bonds atom 0 to itself for input: 'C06007'\n",
      "[11:20:59] SMILES Parse Error: duplicated ring closure 0 bonds atom 0 to itself for input: 'C00001'\n",
      "[11:20:59] SMILES Parse Error: duplicated ring closure 0 bonds atom 0 to itself for input: 'C00671'\n",
      "[11:21:00] SMILES Parse Error: duplicated ring closure 0 bonds atom 0 to itself for input: 'C00002'\n",
      "[11:21:00] SMILES Parse Error: duplicated ring closure 0 bonds atom 0 to itself for input: 'C00188'\n",
      "[11:21:01] SMILES Parse Error: unclosed ring for input: 'C01651'\n"
     ]
    },
    {
     "name": "stdout",
     "output_type": "stream",
     "text": [
      "Failed to retrieve data. Status code: 404\n"
     ]
    },
    {
     "name": "stderr",
     "output_type": "stream",
     "text": [
      "[11:21:02] SMILES Parse Error: duplicated ring closure 0 bonds atom 0 to itself for input: 'C00013'\n",
      "[11:21:02] SMILES Parse Error: duplicated ring closure 0 bonds atom 0 to itself for input: 'C00020'\n",
      "[11:21:02] SMILES Parse Error: unclosed ring for input: 'C02992'\n"
     ]
    },
    {
     "name": "stdout",
     "output_type": "stream",
     "text": [
      "Failed to retrieve data. Status code: 404\n"
     ]
    },
    {
     "name": "stderr",
     "output_type": "stream",
     "text": [
      "[11:21:03] SMILES Parse Error: duplicated ring closure 0 bonds atom 0 to itself for input: 'C00001'\n",
      "[11:21:03] SMILES Parse Error: duplicated ring closure 0 bonds atom 0 to itself for input: 'C00078'\n",
      "[11:21:04] SMILES Parse Error: duplicated ring closure 0 bonds atom 0 to itself for input: 'C00014'\n",
      "[11:21:04] SMILES Parse Error: duplicated ring closure 0 bonds atom 0 to itself for input: 'C00022'\n",
      "[11:21:04] SMILES Parse Error: duplicated ring closure 0 bonds atom 0 to itself for input: 'C00463'\n",
      "[11:21:05] SMILES Parse Error: duplicated ring closure 0 bonds atom 0 to itself for input: 'C00002'\n",
      "[11:21:05] SMILES Parse Error: duplicated ring closure 0 bonds atom 0 to itself for input: 'C00152'\n",
      "[11:21:06] SMILES Parse Error: unclosed ring for input: 'C01637'\n"
     ]
    },
    {
     "name": "stdout",
     "output_type": "stream",
     "text": [
      "Failed to retrieve data. Status code: 404\n"
     ]
    },
    {
     "name": "stderr",
     "output_type": "stream",
     "text": [
      "[11:21:07] SMILES Parse Error: duplicated ring closure 0 bonds atom 0 to itself for input: 'C00013'\n",
      "[11:21:07] SMILES Parse Error: duplicated ring closure 0 bonds atom 0 to itself for input: 'C00020'\n",
      "[11:21:07] SMILES Parse Error: duplicated ring closure 0 bonds atom 0 to itself for input: 'C03402'\n"
     ]
    },
    {
     "name": "stdout",
     "output_type": "stream",
     "text": [
      "Failed to retrieve data. Status code: 404\n"
     ]
    },
    {
     "name": "stderr",
     "output_type": "stream",
     "text": [
      "[11:21:08] SMILES Parse Error: duplicated ring closure 0 bonds atom 0 to itself for input: 'C00002'\n",
      "[11:21:08] SMILES Parse Error: duplicated ring closure 0 bonds atom 0 to itself for input: 'C00135'\n",
      "[11:21:08] SMILES Parse Error: unclosed ring for input: 'C01643'\n"
     ]
    },
    {
     "name": "stdout",
     "output_type": "stream",
     "text": [
      "Failed to retrieve data. Status code: 404\n"
     ]
    },
    {
     "name": "stderr",
     "output_type": "stream",
     "text": [
      "[11:21:09] SMILES Parse Error: duplicated ring closure 0 bonds atom 0 to itself for input: 'C00013'\n",
      "[11:21:09] SMILES Parse Error: duplicated ring closure 0 bonds atom 0 to itself for input: 'C00020'\n",
      "[11:21:09] SMILES Parse Error: unclosed ring for input: 'C02988'\n"
     ]
    },
    {
     "name": "stdout",
     "output_type": "stream",
     "text": [
      "Failed to retrieve data. Status code: 404\n"
     ]
    },
    {
     "name": "stderr",
     "output_type": "stream",
     "text": [
      "[11:21:10] SMILES Parse Error: duplicated ring closure 0 bonds atom 0 to itself for input: 'C00002'\n",
      "[11:21:10] SMILES Parse Error: duplicated ring closure 0 bonds atom 0 to itself for input: 'C00073'\n",
      "[11:21:10] SMILES Parse Error: unclosed ring for input: 'C01647'\n"
     ]
    },
    {
     "name": "stdout",
     "output_type": "stream",
     "text": [
      "Failed to retrieve data. Status code: 404\n"
     ]
    },
    {
     "name": "stderr",
     "output_type": "stream",
     "text": [
      "[11:21:11] SMILES Parse Error: duplicated ring closure 0 bonds atom 0 to itself for input: 'C00013'\n",
      "[11:21:11] SMILES Parse Error: duplicated ring closure 0 bonds atom 0 to itself for input: 'C00020'\n",
      "[11:21:11] SMILES Parse Error: duplicated ring closure 0 bonds atom 0 to itself for input: 'C02430'\n"
     ]
    },
    {
     "name": "stdout",
     "output_type": "stream",
     "text": [
      "Failed to retrieve data. Status code: 404\n"
     ]
    },
    {
     "name": "stderr",
     "output_type": "stream",
     "text": [
      "[11:21:12] SMILES Parse Error: duplicated ring closure 0 bonds atom 0 to itself for input: 'C00002'\n",
      "[11:21:12] SMILES Parse Error: unclosed ring for input: 'C01647'\n",
      "[11:21:12] SMILES Parse Error: unclosed ring for input: 'C05335'\n",
      "[11:21:12] SMILES Parse Error: duplicated ring closure 0 bonds atom 0 to itself for input: 'C00013'\n",
      "[11:21:12] SMILES Parse Error: duplicated ring closure 0 bonds atom 0 to itself for input: 'C00020'\n",
      "[11:21:12] SMILES Parse Error: unclosed ring for input: 'C05336'\n"
     ]
    },
    {
     "name": "stdout",
     "output_type": "stream",
     "text": [
      "Failed to retrieve data. Status code: 404\n"
     ]
    },
    {
     "name": "stderr",
     "output_type": "stream",
     "text": [
      "[11:21:13] SMILES Parse Error: duplicated ring closure 0 bonds atom 0 to itself for input: 'C00002'\n",
      "[11:21:13] SMILES Parse Error: duplicated ring closure 0 bonds atom 0 to itself for input: 'C00288'\n",
      "[11:21:13] SMILES Parse Error: duplicated ring closure 0 bonds atom 0 to itself for input: 'C06250'\n"
     ]
    },
    {
     "name": "stdout",
     "output_type": "stream",
     "text": [
      "Failed to retrieve data. Status code: 404\n"
     ]
    },
    {
     "name": "stderr",
     "output_type": "stream",
     "text": [
      "[11:21:14] SMILES Parse Error: duplicated ring closure 0 bonds atom 0 to itself for input: 'C00008'\n",
      "[11:21:14] SMILES Parse Error: duplicated ring closure 0 bonds atom 0 to itself for input: 'C00009'\n",
      "[11:21:14] SMILES Parse Error: unclosed ring for input: 'C04419'\n"
     ]
    },
    {
     "name": "stdout",
     "output_type": "stream",
     "text": [
      "Failed to retrieve data. Status code: 404\n"
     ]
    },
    {
     "name": "stderr",
     "output_type": "stream",
     "text": [
      "[11:21:15] SMILES Parse Error: duplicated ring closure 0 bonds atom 0 to itself for input: 'C00002'\n",
      "[11:21:15] SMILES Parse Error: duplicated ring closure 0 bonds atom 0 to itself for input: 'C00082'\n",
      "[11:21:15] SMILES Parse Error: duplicated ring closure 0 bonds atom 0 to itself for input: 'C00787'\n"
     ]
    },
    {
     "name": "stdout",
     "output_type": "stream",
     "text": [
      "Failed to retrieve data. Status code: 404\n"
     ]
    },
    {
     "name": "stderr",
     "output_type": "stream",
     "text": [
      "[11:21:16] SMILES Parse Error: duplicated ring closure 0 bonds atom 0 to itself for input: 'C00013'\n",
      "[11:21:16] SMILES Parse Error: duplicated ring closure 0 bonds atom 0 to itself for input: 'C00020'\n",
      "[11:21:16] SMILES Parse Error: unclosed ring for input: 'C02839'\n"
     ]
    },
    {
     "name": "stdout",
     "output_type": "stream",
     "text": [
      "Failed to retrieve data. Status code: 404\n"
     ]
    },
    {
     "name": "stderr",
     "output_type": "stream",
     "text": [
      "[11:21:17] SMILES Parse Error: duplicated ring closure 0 bonds atom 0 to itself for input: 'C00003'\n",
      "[11:21:17] SMILES Parse Error: duplicated ring closure 0 bonds atom 0 to itself for input: 'C00005'\n",
      "[11:21:17] SMILES Parse Error: duplicated ring closure 0 bonds atom 0 to itself for input: 'C00004'\n",
      "[11:21:18] SMILES Parse Error: duplicated ring closure 0 bonds atom 0 to itself for input: 'C00006'\n",
      "[11:21:18] SMILES Parse Error: duplicated ring closure 0 bonds atom 0 to itself for input: 'C00006'\n",
      "[11:21:18] SMILES Parse Error: duplicated ring closure 0 bonds atom 0 to itself for input: 'C00005'\n",
      "[11:21:18] SMILES Parse Error: duplicated ring closure 0 bonds atom 0 to itself for input: 'C00946'\n",
      "[11:21:19] SMILES Parse Error: unclosed ring for input: 'C03444'\n",
      "[11:21:19] SMILES Parse Error: duplicated ring closure 0 bonds atom 0 to itself for input: 'C00004'\n",
      "[11:21:19] SMILES Parse Error: unclosed ring for input: 'C01829'\n",
      "[11:21:20] SMILES Parse Error: duplicated ring closure 0 bonds atom 0 to itself for input: 'C00003'\n",
      "[11:21:20] SMILES Parse Error: duplicated ring closure 0 bonds atom 0 to itself for input: 'C00173'\n",
      "[11:21:20] SMILES Parse Error: duplicated ring closure 0 bonds atom 0 to itself for input: 'C01209'\n"
     ]
    },
    {
     "name": "stdout",
     "output_type": "stream",
     "text": [
      "Failed to retrieve data. Status code: 404\n"
     ]
    },
    {
     "name": "stderr",
     "output_type": "stream",
     "text": [
      "[11:21:21] SMILES Parse Error: duplicated ring closure 0 bonds atom 0 to itself for input: 'C00011'\n",
      "[11:21:21] SMILES Parse Error: duplicated ring closure 0 bonds atom 0 to itself for input: 'C00229'\n"
     ]
    },
    {
     "name": "stdout",
     "output_type": "stream",
     "text": [
      "Failed to retrieve data. Status code: 404\n"
     ]
    },
    {
     "name": "stderr",
     "output_type": "stream",
     "text": [
      "[11:21:22] SMILES Parse Error: duplicated ring closure 0 bonds atom 0 to itself for input: 'C00685'\n"
     ]
    },
    {
     "name": "stdout",
     "output_type": "stream",
     "text": [
      "Failed to retrieve data. Status code: 404\n"
     ]
    },
    {
     "name": "stderr",
     "output_type": "stream",
     "text": [
      "[11:21:23] SMILES Parse Error: duplicated ring closure 0 bonds atom 0 to itself for input: 'C01209'\n",
      "[11:21:23] SMILES Parse Error: unclosed ring for input: 'C03939'\n"
     ]
    },
    {
     "name": "stdout",
     "output_type": "stream",
     "text": [
      "Failed to retrieve data. Status code: 404\n"
     ]
    },
    {
     "name": "stderr",
     "output_type": "stream",
     "text": [
      "[11:21:24] SMILES Parse Error: duplicated ring closure 0 bonds atom 0 to itself for input: 'C00011'\n",
      "[11:21:24] SMILES Parse Error: duplicated ring closure 0 bonds atom 0 to itself for input: 'C00229'\n",
      "[11:21:24] SMILES Parse Error: unclosed ring for input: 'C05744'\n"
     ]
    },
    {
     "name": "stdout",
     "output_type": "stream",
     "text": [
      "Failed to retrieve data. Status code: 404\n"
     ]
    },
    {
     "name": "stderr",
     "output_type": "stream",
     "text": [
      "[11:21:25] SMILES Parse Error: duplicated ring closure 0 bonds atom 0 to itself for input: 'C01209'\n",
      "[11:21:25] SMILES Parse Error: unclosed ring for input: 'C05223'\n",
      "[11:21:25] SMILES Parse Error: duplicated ring closure 0 bonds atom 0 to itself for input: 'C00011'\n",
      "[11:21:25] SMILES Parse Error: duplicated ring closure 0 bonds atom 0 to itself for input: 'C00229'\n",
      "[11:21:25] SMILES Parse Error: unclosed ring for input: 'C05759'\n"
     ]
    },
    {
     "name": "stdout",
     "output_type": "stream",
     "text": [
      "Failed to retrieve data. Status code: 404\n"
     ]
    },
    {
     "name": "stderr",
     "output_type": "stream",
     "text": [
      "[11:21:26] SMILES Parse Error: duplicated ring closure 0 bonds atom 0 to itself for input: 'C01209'\n",
      "[11:21:26] SMILES Parse Error: unclosed ring for input: 'C05745'\n",
      "[11:21:26] SMILES Parse Error: duplicated ring closure 0 bonds atom 0 to itself for input: 'C00011'\n",
      "[11:21:26] SMILES Parse Error: duplicated ring closure 0 bonds atom 0 to itself for input: 'C00229'\n",
      "[11:21:26] SMILES Parse Error: unclosed ring for input: 'C05746'\n"
     ]
    },
    {
     "name": "stdout",
     "output_type": "stream",
     "text": [
      "Failed to retrieve data. Status code: 404\n"
     ]
    },
    {
     "name": "stderr",
     "output_type": "stream",
     "text": [
      "[11:21:27] SMILES Parse Error: duplicated ring closure 0 bonds atom 0 to itself for input: 'C01209'\n",
      "[11:21:27] SMILES Parse Error: unclosed ring for input: 'C05749'\n",
      "[11:21:27] SMILES Parse Error: duplicated ring closure 0 bonds atom 0 to itself for input: 'C00011'\n",
      "[11:21:27] SMILES Parse Error: duplicated ring closure 0 bonds atom 0 to itself for input: 'C00229'\n",
      "[11:21:27] SMILES Parse Error: duplicated ring closure 0 bonds atom 0 to itself for input: 'C05750'\n"
     ]
    },
    {
     "name": "stdout",
     "output_type": "stream",
     "text": [
      "Failed to retrieve data. Status code: 404\n"
     ]
    },
    {
     "name": "stderr",
     "output_type": "stream",
     "text": [
      "[11:21:28] SMILES Parse Error: duplicated ring closure 0 bonds atom 0 to itself for input: 'C01209'\n",
      "[11:21:28] SMILES Parse Error: unclosed ring for input: 'C05752'\n",
      "[11:21:28] SMILES Parse Error: duplicated ring closure 0 bonds atom 0 to itself for input: 'C00011'\n",
      "[11:21:28] SMILES Parse Error: duplicated ring closure 0 bonds atom 0 to itself for input: 'C00229'\n",
      "[11:21:28] SMILES Parse Error: unclosed ring for input: 'C05753'\n"
     ]
    },
    {
     "name": "stdout",
     "output_type": "stream",
     "text": [
      "Failed to retrieve data. Status code: 404\n"
     ]
    },
    {
     "name": "stderr",
     "output_type": "stream",
     "text": [
      "[11:21:29] SMILES Parse Error: duplicated ring closure 0 bonds atom 0 to itself for input: 'C01209'\n",
      "[11:21:29] SMILES Parse Error: unclosed ring for input: 'C05755'\n",
      "[11:21:29] SMILES Parse Error: duplicated ring closure 0 bonds atom 0 to itself for input: 'C00011'\n",
      "[11:21:29] SMILES Parse Error: duplicated ring closure 0 bonds atom 0 to itself for input: 'C00229'\n",
      "[11:21:29] SMILES Parse Error: unclosed ring for input: 'C05756'\n"
     ]
    },
    {
     "name": "stdout",
     "output_type": "stream",
     "text": [
      "Failed to retrieve data. Status code: 404\n"
     ]
    },
    {
     "name": "stderr",
     "output_type": "stream",
     "text": [
      "[11:21:30] SMILES Parse Error: duplicated ring closure 0 bonds atom 0 to itself for input: 'C01209'\n",
      "[11:21:30] SMILES Parse Error: unclosed ring for input: 'C05761'\n",
      "[11:21:30] SMILES Parse Error: duplicated ring closure 0 bonds atom 0 to itself for input: 'C00011'\n",
      "[11:21:30] SMILES Parse Error: duplicated ring closure 0 bonds atom 0 to itself for input: 'C00229'\n",
      "[11:21:30] SMILES Parse Error: unclosed ring for input: 'C05762'\n"
     ]
    },
    {
     "name": "stdout",
     "output_type": "stream",
     "text": [
      "Failed to retrieve data. Status code: 404\n"
     ]
    },
    {
     "name": "stderr",
     "output_type": "stream",
     "text": [
      "[11:21:32] SMILES Parse Error: duplicated ring closure 0 bonds atom 0 to itself for input: 'C01209'\n",
      "[11:21:32] SMILES Parse Error: unclosed ring for input: 'C05764'\n",
      "[11:21:32] SMILES Parse Error: duplicated ring closure 0 bonds atom 0 to itself for input: 'C00011'\n",
      "[11:21:32] SMILES Parse Error: duplicated ring closure 0 bonds atom 0 to itself for input: 'C00229'\n",
      "[11:21:32] SMILES Parse Error: duplicated ring closure 1 bonds atom 0 to itself for input: 'C16219'\n",
      "[11:21:33] SMILES Parse Error: duplicated ring closure 0 bonds atom 0 to itself for input: 'C00002'\n",
      "[11:21:33] SMILES Parse Error: duplicated ring closure 0 bonds atom 0 to itself for input: 'C00014'\n",
      "[11:21:33] SMILES Parse Error: duplicated ring closure 0 bonds atom 0 to itself for input: 'C00025'\n",
      "[11:21:33] SMILES Parse Error: duplicated ring closure 0 bonds atom 0 to itself for input: 'C00008'\n",
      "[11:21:34] SMILES Parse Error: duplicated ring closure 0 bonds atom 0 to itself for input: 'C00009'\n",
      "[11:21:34] SMILES Parse Error: duplicated ring closure 0 bonds atom 0 to itself for input: 'C00064'\n",
      "[11:21:34] SMILES Parse Error: duplicated ring closure 0 bonds atom 0 to itself for input: 'C00806'\n",
      "[11:21:35] SMILES Parse Error: duplicated ring closure 0 bonds atom 0 to itself for input: 'C00014'\n",
      "[11:21:35] SMILES Parse Error: duplicated ring closure 0 bonds atom 0 to itself for input: 'C00065'\n",
      "[11:21:35] SMILES Parse Error: duplicated ring closure 0 bonds atom 0 to itself for input: 'C00352'\n",
      "[11:21:35] SMILES Parse Error: duplicated ring closure 0 bonds atom 0 to itself for input: 'C00025'\n",
      "[11:21:35] SMILES Parse Error: duplicated ring closure 0 bonds atom 0 to itself for input: 'C00768'\n",
      "[11:21:36] SMILES Parse Error: duplicated ring closure 0 bonds atom 0 to itself for input: 'C00078'\n",
      "[11:21:36] SMILES Parse Error: duplicated ring closure 0 bonds atom 0 to itself for input: 'C00135'\n",
      "[11:21:36] SMILES Parse Error: duplicated ring closure 0 bonds atom 0 to itself for input: 'C00008'\n",
      "[11:21:36] SMILES Parse Error: duplicated ring closure 0 bonds atom 0 to itself for input: 'C00064'\n",
      "[11:21:36] SMILES Parse Error: duplicated ring closure 0 bonds atom 0 to itself for input: 'C00041'\n",
      "[11:21:36] SMILES Parse Error: duplicated ring closure 0 bonds atom 0 to itself for input: 'C00716'\n",
      "[11:21:37] SMILES Parse Error: duplicated ring closure 0 bonds atom 0 to itself for input: 'C00063'\n",
      "[11:21:37] SMILES Parse Error: duplicated ring closure 0 bonds atom 0 to itself for input: 'C01401'\n",
      "[11:21:37] SMILES Parse Error: duplicated ring closure 0 bonds atom 0 to itself for input: 'C00009'\n",
      "[11:21:37] SMILES Parse Error: duplicated ring closure 0 bonds atom 0 to itself for input: 'C00037'\n",
      "[11:21:37] SMILES Parse Error: duplicated ring closure 0 bonds atom 0 to itself for input: 'C00169'\n",
      "[11:21:37] SMILES Parse Error: duplicated ring closure 0 bonds atom 0 to itself for input: 'C00002'\n",
      "[11:21:37] SMILES Parse Error: duplicated ring closure 0 bonds atom 0 to itself for input: 'C00020'\n",
      "[11:21:37] SMILES Parse Error: duplicated ring closure 0 bonds atom 0 to itself for input: 'C04650'\n",
      "[11:21:38] SMILES Parse Error: duplicated ring closure 0 bonds atom 0 to itself for input: 'C00001'\n",
      "[11:21:39] SMILES Parse Error: duplicated ring closure 0 bonds atom 0 to itself for input: 'C00002'\n",
      "[11:21:39] SMILES Parse Error: duplicated ring closure 0 bonds atom 0 to itself for input: 'C00064'\n",
      "[11:21:39] SMILES Parse Error: duplicated ring closure 0 bonds atom 0 to itself for input: 'C00655'\n",
      "[11:21:39] SMILES Parse Error: duplicated ring closure 0 bonds atom 0 to itself for input: 'C00013'\n",
      "[11:21:39] SMILES Parse Error: duplicated ring closure 0 bonds atom 0 to itself for input: 'C00020'\n",
      "[11:21:39] SMILES Parse Error: duplicated ring closure 0 bonds atom 0 to itself for input: 'C00025'\n",
      "[11:21:39] SMILES Parse Error: duplicated ring closure 0 bonds atom 0 to itself for input: 'C00144'\n",
      "[11:21:40] SMILES Parse Error: duplicated ring closure 0 bonds atom 0 to itself for input: 'C00002'\n",
      "[11:21:40] SMILES Parse Error: duplicated ring closure 0 bonds atom 0 to itself for input: 'C00014'\n",
      "[11:21:40] SMILES Parse Error: duplicated ring closure 0 bonds atom 0 to itself for input: 'C00655'\n",
      "[11:21:40] SMILES Parse Error: duplicated ring closure 0 bonds atom 0 to itself for input: 'C00013'\n",
      "[11:21:40] SMILES Parse Error: duplicated ring closure 0 bonds atom 0 to itself for input: 'C00020'\n",
      "[11:21:40] SMILES Parse Error: duplicated ring closure 0 bonds atom 0 to itself for input: 'C00144'\n",
      "[11:21:40] SMILES Parse Error: duplicated ring closure 0 bonds atom 0 to itself for input: 'C00001'\n",
      "[11:21:40] SMILES Parse Error: duplicated ring closure 0 bonds atom 0 to itself for input: 'C00002'\n",
      "[11:21:40] SMILES Parse Error: duplicated ring closure 0 bonds atom 0 to itself for input: 'C00064'\n",
      "[11:21:40] SMILES Parse Error: duplicated ring closure 1 bonds atom 0 to itself for input: 'C16618'\n",
      "[11:21:40] SMILES Parse Error: duplicated ring closure 0 bonds atom 0 to itself for input: 'C00013'\n",
      "[11:21:40] SMILES Parse Error: duplicated ring closure 0 bonds atom 0 to itself for input: 'C00020'\n",
      "[11:21:41] SMILES Parse Error: duplicated ring closure 0 bonds atom 0 to itself for input: 'C00025'\n",
      "[11:21:41] SMILES Parse Error: duplicated ring closure 1 bonds atom 0 to itself for input: 'C16619'\n"
     ]
    },
    {
     "name": "stdout",
     "output_type": "stream",
     "text": [
      "Failed to retrieve data. Status code: 404\n"
     ]
    },
    {
     "name": "stderr",
     "output_type": "stream",
     "text": [
      "[11:21:41] SMILES Parse Error: duplicated ring closure 0 bonds atom 0 to itself for input: 'C00001'\n",
      "[11:21:42] SMILES Parse Error: duplicated ring closure 0 bonds atom 0 to itself for input: 'C00689'\n",
      "[11:21:43] SMILES Parse Error: duplicated ring closure 0 bonds atom 0 to itself for input: 'C00031'\n",
      "[11:21:43] SMILES Parse Error: duplicated ring closure 0 bonds atom 0 to itself for input: 'C00092'\n",
      "[11:21:44] SMILES Parse Error: duplicated ring closure 0 bonds atom 0 to itself for input: 'C00002'\n",
      "[11:21:44] SMILES Parse Error: duplicated ring closure 0 bonds atom 0 to itself for input: 'C00047'\n",
      "[11:21:45] SMILES Parse Error: unclosed ring for input: 'C01646'\n"
     ]
    },
    {
     "name": "stdout",
     "output_type": "stream",
     "text": [
      "Failed to retrieve data. Status code: 404\n"
     ]
    },
    {
     "name": "stderr",
     "output_type": "stream",
     "text": [
      "[11:21:45] SMILES Parse Error: duplicated ring closure 0 bonds atom 0 to itself for input: 'C00013'\n",
      "[11:21:46] SMILES Parse Error: duplicated ring closure 0 bonds atom 0 to itself for input: 'C00020'\n",
      "[11:21:46] SMILES Parse Error: unclosed ring for input: 'C01931'\n"
     ]
    },
    {
     "name": "stdout",
     "output_type": "stream",
     "text": [
      "Failed to retrieve data. Status code: 404\n"
     ]
    },
    {
     "name": "stderr",
     "output_type": "stream",
     "text": [
      "[11:21:46] SMILES Parse Error: duplicated ring closure 0 bonds atom 0 to itself for input: 'C00002'\n",
      "[11:21:46] SMILES Parse Error: duplicated ring closure 0 bonds atom 0 to itself for input: 'C00454'\n",
      "[11:21:46] SMILES Parse Error: duplicated ring closure 0 bonds atom 0 to itself for input: 'C00008'\n",
      "[11:21:47] SMILES Parse Error: duplicated ring closure 0 bonds atom 0 to itself for input: 'C00201'\n",
      "[11:21:47] SMILES Parse Error: duplicated ring closure 0 bonds atom 0 to itself for input: 'C00002'\n",
      "[11:21:47] SMILES Parse Error: duplicated ring closure 0 bonds atom 0 to itself for input: 'C00008'\n",
      "[11:21:47] SMILES Parse Error: duplicated ring closure 0 bonds atom 0 to itself for input: 'C00002'\n",
      "[11:21:47] SMILES Parse Error: duplicated ring closure 0 bonds atom 0 to itself for input: 'C00008'\n",
      "[11:21:47] SMILES Parse Error: duplicated ring closure 0 bonds atom 0 to itself for input: 'C00002'\n",
      "[11:21:47] SMILES Parse Error: unclosed ring for input: 'C11038'\n"
     ]
    },
    {
     "name": "stdout",
     "output_type": "stream",
     "text": [
      "Failed to retrieve data. Status code: 404\n"
     ]
    },
    {
     "name": "stderr",
     "output_type": "stream",
     "text": [
      "[11:21:48] SMILES Parse Error: duplicated ring closure 0 bonds atom 0 to itself for input: 'C00008'\n",
      "[11:21:48] SMILES Parse Error: unclosed ring for input: 'C11039'\n"
     ]
    },
    {
     "name": "stdout",
     "output_type": "stream",
     "text": [
      "Failed to retrieve data. Status code: 404\n"
     ]
    },
    {
     "name": "stderr",
     "output_type": "stream",
     "text": [
      "[11:21:49] SMILES Parse Error: duplicated ring closure 0 bonds atom 0 to itself for input: 'C00002'\n",
      "[11:21:49] SMILES Parse Error: duplicated ring closure 0 bonds atom 0 to itself for input: 'C00015'\n",
      "[11:21:49] SMILES Parse Error: duplicated ring closure 0 bonds atom 0 to itself for input: 'C00008'\n",
      "[11:21:49] SMILES Parse Error: duplicated ring closure 0 bonds atom 0 to itself for input: 'C00075'\n",
      "[11:21:49] SMILES Parse Error: duplicated ring closure 0 bonds atom 0 to itself for input: 'C00002'\n",
      "[11:21:49] SMILES Parse Error: duplicated ring closure 0 bonds atom 0 to itself for input: 'C00035'\n",
      "[11:21:49] SMILES Parse Error: duplicated ring closure 0 bonds atom 0 to itself for input: 'C00008'\n",
      "[11:21:49] SMILES Parse Error: duplicated ring closure 0 bonds atom 0 to itself for input: 'C00044'\n",
      "[11:21:49] SMILES Parse Error: duplicated ring closure 0 bonds atom 0 to itself for input: 'C00002'\n",
      "[11:21:49] SMILES Parse Error: duplicated ring closure 0 bonds atom 0 to itself for input: 'C00112'\n",
      "[11:21:49] SMILES Parse Error: duplicated ring closure 0 bonds atom 0 to itself for input: 'C00008'\n",
      "[11:21:49] SMILES Parse Error: duplicated ring closure 0 bonds atom 0 to itself for input: 'C00063'\n",
      "[11:21:49] SMILES Parse Error: duplicated ring closure 0 bonds atom 0 to itself for input: 'C00002'\n",
      "[11:21:49] SMILES Parse Error: duplicated ring closure 0 bonds atom 0 to itself for input: 'C00104'\n",
      "[11:21:49] SMILES Parse Error: duplicated ring closure 0 bonds atom 0 to itself for input: 'C00008'\n",
      "[11:21:49] SMILES Parse Error: duplicated ring closure 0 bonds atom 0 to itself for input: 'C00081'\n",
      "[11:21:49] SMILES Parse Error: duplicated ring closure 0 bonds atom 0 to itself for input: 'C00002'\n",
      "[11:21:49] SMILES Parse Error: duplicated ring closure 0 bonds atom 0 to itself for input: 'C00206'\n",
      "[11:21:49] SMILES Parse Error: duplicated ring closure 0 bonds atom 0 to itself for input: 'C00008'\n",
      "[11:21:49] SMILES Parse Error: duplicated ring closure 0 bonds atom 0 to itself for input: 'C00131'\n",
      "[11:21:49] SMILES Parse Error: duplicated ring closure 0 bonds atom 0 to itself for input: 'C00002'\n",
      "[11:21:49] SMILES Parse Error: duplicated ring closure 0 bonds atom 0 to itself for input: 'C00361'\n",
      "[11:21:49] SMILES Parse Error: duplicated ring closure 0 bonds atom 0 to itself for input: 'C00008'\n",
      "[11:21:49] SMILES Parse Error: duplicated ring closure 0 bonds atom 0 to itself for input: 'C00286'\n",
      "[11:21:50] SMILES Parse Error: duplicated ring closure 0 bonds atom 0 to itself for input: 'C00002'\n",
      "[11:21:50] SMILES Parse Error: duplicated ring closure 0 bonds atom 0 to itself for input: 'C00363'\n",
      "[11:21:50] SMILES Parse Error: duplicated ring closure 0 bonds atom 0 to itself for input: 'C00008'\n",
      "[11:21:51] SMILES Parse Error: duplicated ring closure 0 bonds atom 0 to itself for input: 'C00459'\n",
      "[11:21:51] SMILES Parse Error: duplicated ring closure 0 bonds atom 0 to itself for input: 'C00002'\n",
      "[11:21:51] SMILES Parse Error: duplicated ring closure 0 bonds atom 0 to itself for input: 'C00705'\n",
      "[11:21:52] SMILES Parse Error: duplicated ring closure 0 bonds atom 0 to itself for input: 'C00008'\n",
      "[11:21:52] SMILES Parse Error: duplicated ring closure 0 bonds atom 0 to itself for input: 'C00458'\n",
      "[11:21:53] SMILES Parse Error: duplicated ring closure 0 bonds atom 0 to itself for input: 'C00002'\n",
      "[11:21:53] SMILES Parse Error: unclosed ring for input: 'C01346'\n",
      "[11:21:54] SMILES Parse Error: duplicated ring closure 0 bonds atom 0 to itself for input: 'C00008'\n",
      "[11:21:54] SMILES Parse Error: duplicated ring closure 0 bonds atom 0 to itself for input: 'C00460'\n",
      "[11:21:55] SMILES Parse Error: duplicated ring closure 0 bonds atom 0 to itself for input: 'C00002'\n",
      "[11:21:55] SMILES Parse Error: unclosed ring for input: 'C01344'\n",
      "[11:21:56] SMILES Parse Error: duplicated ring closure 0 bonds atom 0 to itself for input: 'C00008'\n",
      "[11:21:56] SMILES Parse Error: unclosed ring for input: 'C01345'\n",
      "[11:21:57] SMILES Parse Error: duplicated ring closure 0 bonds atom 0 to itself for input: 'C00080'\n",
      "[11:21:57] WARNING: not removing hydrogen atom without neighbors\n",
      "[11:21:57] SMILES Parse Error: duplicated ring closure 0 bonds atom 0 to itself for input: 'C00704'\n",
      "[11:21:57] SMILES Parse Error: duplicated ring closure 0 bonds atom 0 to itself for input: 'C00007'\n",
      "[11:21:57] SMILES Parse Error: duplicated ring closure 0 bonds atom 0 to itself for input: 'C00027'\n",
      "[11:21:57] SMILES Parse Error: duplicated ring closure 0 bonds atom 0 to itself for input: 'C00006'\n",
      "[11:21:57] SMILES Parse Error: duplicated ring closure 0 bonds atom 0 to itself for input: 'C00149'\n",
      "[11:21:58] SMILES Parse Error: duplicated ring closure 0 bonds atom 0 to itself for input: 'C00005'\n",
      "[11:21:58] SMILES Parse Error: duplicated ring closure 0 bonds atom 0 to itself for input: 'C00011'\n",
      "[11:21:58] SMILES Parse Error: duplicated ring closure 0 bonds atom 0 to itself for input: 'C00022'\n",
      "[11:21:58] SMILES Parse Error: duplicated ring closure 0 bonds atom 0 to itself for input: 'C00080'\n",
      "[11:21:58] WARNING: not removing hydrogen atom without neighbors\n",
      "[11:21:58] SMILES Parse Error: duplicated ring closure 0 bonds atom 0 to itself for input: 'C00006'\n",
      "[11:21:58] SMILES Parse Error: duplicated ring closure 0 bonds atom 0 to itself for input: 'C00036'\n",
      "[11:21:58] SMILES Parse Error: duplicated ring closure 0 bonds atom 0 to itself for input: 'C00005'\n",
      "[11:21:58] SMILES Parse Error: duplicated ring closure 0 bonds atom 0 to itself for input: 'C00080'\n",
      "[11:21:58] WARNING: not removing hydrogen atom without neighbors\n",
      "[11:21:58] SMILES Parse Error: duplicated ring closure 0 bonds atom 0 to itself for input: 'C00022'\n",
      "[11:21:58] SMILES Parse Error: duplicated ring closure 0 bonds atom 0 to itself for input: 'C00011'\n",
      "[11:21:58] SMILES Parse Error: duplicated ring closure 0 bonds atom 0 to itself for input: 'C00004'\n",
      "[11:21:58] SMILES Parse Error: duplicated ring closure 0 bonds atom 0 to itself for input: 'C00575'\n",
      "[11:21:58] SMILES Parse Error: duplicated ring closure 0 bonds atom 0 to itself for input: 'C00024'\n",
      "[11:21:58] SMILES Parse Error: duplicated ring closure 0 bonds atom 0 to itself for input: 'C00149'\n",
      "[11:21:58] SMILES Parse Error: duplicated ring closure 0 bonds atom 0 to itself for input: 'C00122'\n",
      "[11:21:58] SMILES Parse Error: duplicated ring closure 0 bonds atom 0 to itself for input: 'C00036'\n",
      "[11:21:59] SMILES Parse Error: duplicated ring closure 0 bonds atom 0 to itself for input: 'C00011'\n",
      "[11:21:59] SMILES Parse Error: duplicated ring closure 0 bonds atom 0 to itself for input: 'C00022'\n",
      "[11:21:59] SMILES Parse Error: duplicated ring closure 0 bonds atom 0 to itself for input: 'C00006'\n",
      "[11:21:59] SMILES Parse Error: duplicated ring closure 0 bonds atom 0 to itself for input: 'C00036'\n",
      "[11:21:59] SMILES Parse Error: duplicated ring closure 0 bonds atom 0 to itself for input: 'C00005'\n",
      "[11:21:59] SMILES Parse Error: duplicated ring closure 0 bonds atom 0 to itself for input: 'C00080'\n",
      "[11:21:59] WARNING: not removing hydrogen atom without neighbors\n",
      "[11:21:59] SMILES Parse Error: duplicated ring closure 0 bonds atom 0 to itself for input: 'C00022'\n",
      "[11:21:59] SMILES Parse Error: duplicated ring closure 0 bonds atom 0 to itself for input: 'C00011'\n",
      "[11:21:59] SMILES Parse Error: duplicated ring closure 0 bonds atom 0 to itself for input: 'C00004'\n",
      "[11:21:59] SMILES Parse Error: duplicated ring closure 0 bonds atom 0 to itself for input: 'C00575'\n",
      "[11:21:59] SMILES Parse Error: duplicated ring closure 0 bonds atom 0 to itself for input: 'C00024'\n",
      "[11:22:00] SMILES Parse Error: duplicated ring closure 0 bonds atom 0 to itself for input: 'C00149'\n",
      "[11:22:00] SMILES Parse Error: duplicated ring closure 0 bonds atom 0 to itself for input: 'C00122'\n",
      "[11:22:00] SMILES Parse Error: duplicated ring closure 0 bonds atom 0 to itself for input: 'C03406'\n",
      "[11:22:01] SMILES Parse Error: duplicated ring closure 0 bonds atom 0 to itself for input: 'C00062'\n",
      "[11:22:02] SMILES Parse Error: duplicated ring closure 0 bonds atom 0 to itself for input: 'C00122'\n",
      "[11:22:02] SMILES Parse Error: duplicated ring closure 0 bonds atom 0 to itself for input: 'C00002'\n",
      "[11:22:02] SMILES Parse Error: duplicated ring closure 0 bonds atom 0 to itself for input: 'C00010'\n",
      "[11:22:02] SMILES Parse Error: duplicated ring closure 0 bonds atom 0 to itself for input: 'C00033'\n",
      "[11:22:02] SMILES Parse Error: duplicated ring closure 0 bonds atom 0 to itself for input: 'C00013'\n",
      "[11:22:02] SMILES Parse Error: duplicated ring closure 0 bonds atom 0 to itself for input: 'C00020'\n",
      "[11:22:02] SMILES Parse Error: duplicated ring closure 0 bonds atom 0 to itself for input: 'C00024'\n",
      "[11:22:02] SMILES Parse Error: duplicated ring closure 0 bonds atom 0 to itself for input: 'C00002'\n",
      "[11:22:02] SMILES Parse Error: duplicated ring closure 0 bonds atom 0 to itself for input: 'C00020'\n",
      "[11:22:02] SMILES Parse Error: duplicated ring closure 0 bonds atom 0 to itself for input: 'C00033'\n",
      "[11:22:02] SMILES Parse Error: unclosed ring for input: 'C05993'\n",
      "[11:22:03] SMILES Parse Error: duplicated ring closure 0 bonds atom 0 to itself for input: 'C00010'\n",
      "[11:22:03] SMILES Parse Error: duplicated ring closure 0 bonds atom 0 to itself for input: 'C00100'\n",
      "[11:22:04] SMILES Parse Error: duplicated ring closure 0 bonds atom 0 to itself for input: 'C00024'\n",
      "[11:22:04] SMILES Parse Error: duplicated ring closure 0 bonds atom 0 to itself for input: 'C00013'\n",
      "[11:22:04] SMILES Parse Error: unclosed ring for input: 'C05983'\n",
      "[11:22:05] SMILES Parse Error: duplicated ring closure 0 bonds atom 0 to itself for input: 'C00163'\n",
      "[11:22:06] SMILES Parse Error: duplicated ring closure 0 bonds atom 0 to itself for input: 'C00010'\n",
      "[11:22:06] SMILES Parse Error: unclosed ring for input: 'C05993'\n",
      "[11:22:06] SMILES Parse Error: duplicated ring closure 0 bonds atom 0 to itself for input: 'C00020'\n",
      "[11:22:06] SMILES Parse Error: duplicated ring closure 0 bonds atom 0 to itself for input: 'C00024'\n",
      "[11:22:06] SMILES Parse Error: duplicated ring closure 0 bonds atom 0 to itself for input: 'C00002'\n",
      "[11:22:06] SMILES Parse Error: duplicated ring closure 0 bonds atom 0 to itself for input: 'C00020'\n",
      "[11:22:06] SMILES Parse Error: duplicated ring closure 0 bonds atom 0 to itself for input: 'C00033'\n",
      "[11:22:06] SMILES Parse Error: unclosed ring for input: 'C05993'\n",
      "[11:22:06] SMILES Parse Error: duplicated ring closure 0 bonds atom 0 to itself for input: 'C00010'\n",
      "[11:22:06] SMILES Parse Error: duplicated ring closure 0 bonds atom 0 to itself for input: 'C00100'\n",
      "[11:22:06] SMILES Parse Error: duplicated ring closure 0 bonds atom 0 to itself for input: 'C00024'\n",
      "[11:22:06] SMILES Parse Error: duplicated ring closure 0 bonds atom 0 to itself for input: 'C00013'\n",
      "[11:22:06] SMILES Parse Error: unclosed ring for input: 'C05983'\n",
      "[11:22:06] SMILES Parse Error: duplicated ring closure 0 bonds atom 0 to itself for input: 'C00163'\n",
      "[11:22:06] SMILES Parse Error: duplicated ring closure 0 bonds atom 0 to itself for input: 'C00002'\n",
      "[11:22:07] SMILES Parse Error: duplicated ring closure 0 bonds atom 0 to itself for input: 'C00033'\n",
      "[11:22:07] SMILES Parse Error: duplicated ring closure 0 bonds atom 0 to itself for input: 'C00013'\n",
      "[11:22:07] SMILES Parse Error: unclosed ring for input: 'C05993'\n",
      "[11:22:07] SMILES Parse Error: duplicated ring closure 0 bonds atom 0 to itself for input: 'C00002'\n",
      "[11:22:07] SMILES Parse Error: duplicated ring closure 0 bonds atom 0 to itself for input: 'C00020'\n",
      "[11:22:07] SMILES Parse Error: duplicated ring closure 0 bonds atom 0 to itself for input: 'C00033'\n",
      "[11:22:07] SMILES Parse Error: unclosed ring for input: 'C05993'\n",
      "[11:22:07] SMILES Parse Error: duplicated ring closure 0 bonds atom 0 to itself for input: 'C00010'\n",
      "[11:22:07] SMILES Parse Error: duplicated ring closure 0 bonds atom 0 to itself for input: 'C00100'\n",
      "[11:22:07] SMILES Parse Error: duplicated ring closure 0 bonds atom 0 to itself for input: 'C00024'\n",
      "[11:22:07] SMILES Parse Error: duplicated ring closure 0 bonds atom 0 to itself for input: 'C00013'\n",
      "[11:22:07] SMILES Parse Error: unclosed ring for input: 'C05983'\n",
      "[11:22:07] SMILES Parse Error: duplicated ring closure 0 bonds atom 0 to itself for input: 'C00163'\n",
      "[11:22:07] SMILES Parse Error: duplicated ring closure 0 bonds atom 0 to itself for input: 'C00002'\n",
      "[11:22:07] SMILES Parse Error: duplicated ring closure 0 bonds atom 0 to itself for input: 'C00010'\n",
      "[11:22:07] SMILES Parse Error: duplicated ring closure 0 bonds atom 0 to itself for input: 'C00163'\n",
      "[11:22:08] SMILES Parse Error: duplicated ring closure 0 bonds atom 0 to itself for input: 'C00013'\n",
      "[11:22:08] SMILES Parse Error: duplicated ring closure 0 bonds atom 0 to itself for input: 'C00020'\n",
      "[11:22:08] SMILES Parse Error: duplicated ring closure 0 bonds atom 0 to itself for input: 'C00100'\n",
      "[11:22:08] SMILES Parse Error: duplicated ring closure 0 bonds atom 0 to itself for input: 'C00002'\n",
      "[11:22:08] SMILES Parse Error: duplicated ring closure 0 bonds atom 0 to itself for input: 'C00020'\n",
      "[11:22:08] SMILES Parse Error: duplicated ring closure 0 bonds atom 0 to itself for input: 'C00033'\n",
      "[11:22:08] SMILES Parse Error: unclosed ring for input: 'C05993'\n",
      "[11:22:08] SMILES Parse Error: duplicated ring closure 0 bonds atom 0 to itself for input: 'C00010'\n",
      "[11:22:08] SMILES Parse Error: duplicated ring closure 0 bonds atom 0 to itself for input: 'C00100'\n",
      "[11:22:08] SMILES Parse Error: duplicated ring closure 0 bonds atom 0 to itself for input: 'C00024'\n",
      "[11:22:08] SMILES Parse Error: duplicated ring closure 0 bonds atom 0 to itself for input: 'C00013'\n",
      "[11:22:08] SMILES Parse Error: unclosed ring for input: 'C05983'\n",
      "[11:22:08] SMILES Parse Error: duplicated ring closure 0 bonds atom 0 to itself for input: 'C00163'\n",
      "[11:22:09] SMILES Parse Error: duplicated ring closure 0 bonds atom 0 to itself for input: 'C00010'\n",
      "[11:22:09] SMILES Parse Error: unclosed ring for input: 'C05983'\n",
      "[11:22:09] SMILES Parse Error: duplicated ring closure 0 bonds atom 0 to itself for input: 'C00020'\n",
      "[11:22:09] SMILES Parse Error: duplicated ring closure 0 bonds atom 0 to itself for input: 'C00100'\n",
      "[11:22:09] SMILES Parse Error: duplicated ring closure 0 bonds atom 0 to itself for input: 'C00002'\n",
      "[11:22:09] SMILES Parse Error: duplicated ring closure 0 bonds atom 0 to itself for input: 'C00020'\n",
      "[11:22:09] SMILES Parse Error: duplicated ring closure 0 bonds atom 0 to itself for input: 'C00033'\n",
      "[11:22:09] SMILES Parse Error: unclosed ring for input: 'C05993'\n",
      "[11:22:09] SMILES Parse Error: duplicated ring closure 0 bonds atom 0 to itself for input: 'C00010'\n",
      "[11:22:09] SMILES Parse Error: duplicated ring closure 0 bonds atom 0 to itself for input: 'C00100'\n",
      "[11:22:09] SMILES Parse Error: duplicated ring closure 0 bonds atom 0 to itself for input: 'C00024'\n",
      "[11:22:09] SMILES Parse Error: duplicated ring closure 0 bonds atom 0 to itself for input: 'C00013'\n",
      "[11:22:09] SMILES Parse Error: unclosed ring for input: 'C05983'\n",
      "[11:22:09] SMILES Parse Error: duplicated ring closure 0 bonds atom 0 to itself for input: 'C00163'\n",
      "[11:22:09] SMILES Parse Error: duplicated ring closure 0 bonds atom 0 to itself for input: 'C00002'\n",
      "[11:22:09] SMILES Parse Error: duplicated ring closure 0 bonds atom 0 to itself for input: 'C00163'\n",
      "[11:22:10] SMILES Parse Error: duplicated ring closure 0 bonds atom 0 to itself for input: 'C00013'\n",
      "[11:22:10] SMILES Parse Error: unclosed ring for input: 'C05983'\n",
      "[11:22:10] SMILES Parse Error: duplicated ring closure 0 bonds atom 0 to itself for input: 'C00002'\n",
      "[11:22:10] SMILES Parse Error: duplicated ring closure 0 bonds atom 0 to itself for input: 'C00020'\n",
      "[11:22:10] SMILES Parse Error: duplicated ring closure 0 bonds atom 0 to itself for input: 'C00033'\n",
      "[11:22:10] SMILES Parse Error: unclosed ring for input: 'C05993'\n",
      "[11:22:10] SMILES Parse Error: duplicated ring closure 0 bonds atom 0 to itself for input: 'C00010'\n",
      "[11:22:10] SMILES Parse Error: duplicated ring closure 0 bonds atom 0 to itself for input: 'C00100'\n",
      "[11:22:10] SMILES Parse Error: duplicated ring closure 0 bonds atom 0 to itself for input: 'C00024'\n",
      "[11:22:10] SMILES Parse Error: duplicated ring closure 0 bonds atom 0 to itself for input: 'C00013'\n",
      "[11:22:10] SMILES Parse Error: unclosed ring for input: 'C05983'\n",
      "[11:22:10] SMILES Parse Error: duplicated ring closure 0 bonds atom 0 to itself for input: 'C00163'\n",
      "[11:22:10] SMILES Parse Error: duplicated ring closure 0 bonds atom 0 to itself for input: 'C00002'\n",
      "[11:22:10] SMILES Parse Error: duplicated ring closure 0 bonds atom 0 to itself for input: 'C00117'\n",
      "[11:22:10] SMILES Parse Error: duplicated ring closure 0 bonds atom 0 to itself for input: 'C00020'\n",
      "[11:22:11] SMILES Parse Error: duplicated ring closure 0 bonds atom 0 to itself for input: 'C00119'\n",
      "[11:22:13] SMILES Parse Error: duplicated ring closure 0 bonds atom 0 to itself for input: 'C00118'\n",
      "[11:22:13] SMILES Parse Error: duplicated ring closure 0 bonds atom 0 to itself for input: 'C00111'\n",
      "[11:22:13] SMILES Parse Error: duplicated ring closure 0 bonds atom 0 to itself for input: 'C00111'\n",
      "[11:22:13] SMILES Parse Error: duplicated ring closure 0 bonds atom 0 to itself for input: 'C00988'\n",
      "[11:22:13] SMILES Parse Error: duplicated ring closure 0 bonds atom 0 to itself for input: 'C00197'\n",
      "[11:22:13] SMILES Parse Error: unclosed ring for input: 'C05345'\n",
      "[11:22:13] SMILES Parse Error: duplicated ring closure 0 bonds atom 0 to itself for input: 'C00002'\n",
      "[11:22:13] SMILES Parse Error: duplicated ring closure 0 bonds atom 0 to itself for input: 'C00042'\n",
      "[11:22:13] SMILES Parse Error: unclosed ring for input: 'C01159'\n",
      "[11:22:13] SMILES Parse Error: unclosed ring for input: 'C01478'\n",
      "[11:22:13] SMILES Parse Error: duplicated ring closure 1 bonds atom 0 to itself for input: 'C11215'\n",
      "[11:22:13] SMILES Parse Error: duplicated ring closure 1 bonds atom 0 to itself for input: 'C18713'\n",
      "[11:22:14] SMILES Parse Error: duplicated ring closure 0 bonds atom 0 to itself for input: 'C00118'\n",
      "[11:22:14] SMILES Parse Error: duplicated ring closure 0 bonds atom 0 to itself for input: 'C00074'\n",
      "[11:22:14] SMILES Parse Error: unclosed ring for input: 'C01172'\n",
      "[11:22:15] SMILES Parse Error: duplicated ring closure 0 bonds atom 0 to itself for input: 'C00127'\n",
      "[11:22:16] SMILES Parse Error: duplicated ring closure 0 bonds atom 0 to itself for input: 'C00631'\n",
      "[11:22:16] SMILES Parse Error: duplicated ring closure 0 bonds atom 0 to itself for input: 'C00158'\n",
      "[11:22:16] SMILES Parse Error: duplicated ring closure 0 bonds atom 0 to itself for input: 'C00009'\n",
      "[11:22:16] SMILES Parse Error: duplicated ring closure 0 bonds atom 0 to itself for input: 'C00046'\n",
      "[11:22:16] SMILES Parse Error: duplicated ring closure 0 bonds atom 0 to itself for input: 'C00454'\n",
      "[11:22:16] SMILES Parse Error: duplicated ring closure 0 bonds atom 0 to itself for input: 'C00009'\n",
      "[11:22:16] SMILES Parse Error: duplicated ring closure 0 bonds atom 0 to itself for input: 'C00008'\n",
      "[11:22:16] SMILES Parse Error: duplicated ring closure 0 bonds atom 0 to itself for input: 'C00046'\n",
      "[11:22:16] SMILES Parse Error: duplicated ring closure 0 bonds atom 0 to itself for input: 'C00009'\n",
      "[11:22:16] SMILES Parse Error: duplicated ring closure 0 bonds atom 0 to itself for input: 'C00015'\n",
      "[11:22:16] SMILES Parse Error: duplicated ring closure 0 bonds atom 0 to itself for input: 'C00046'\n",
      "[11:22:16] SMILES Parse Error: duplicated ring closure 0 bonds atom 0 to itself for input: 'C00009'\n",
      "[11:22:16] SMILES Parse Error: duplicated ring closure 0 bonds atom 0 to itself for input: 'C00035'\n",
      "[11:22:16] SMILES Parse Error: duplicated ring closure 0 bonds atom 0 to itself for input: 'C00046'\n",
      "[11:22:16] SMILES Parse Error: duplicated ring closure 0 bonds atom 0 to itself for input: 'C00009'\n",
      "[11:22:17] SMILES Parse Error: duplicated ring closure 0 bonds atom 0 to itself for input: 'C00046'\n",
      "[11:22:17] SMILES Parse Error: duplicated ring closure 0 bonds atom 0 to itself for input: 'C00112'\n",
      "[11:22:17] SMILES Parse Error: duplicated ring closure 0 bonds atom 0 to itself for input: 'C00001'\n",
      "[11:22:17] SMILES Parse Error: unclosed ring for input: 'C01419'\n",
      "[11:22:18] SMILES Parse Error: duplicated ring closure 0 bonds atom 0 to itself for input: 'C00037'\n",
      "[11:22:18] SMILES Parse Error: duplicated ring closure 0 bonds atom 0 to itself for input: 'C00097'\n",
      "[11:22:18] SMILES Parse Error: duplicated ring closure 0 bonds atom 0 to itself for input: 'C00001'\n",
      "[11:22:18] SMILES Parse Error: unclosed ring for input: 'C05729'\n"
     ]
    },
    {
     "name": "stdout",
     "output_type": "stream",
     "text": [
      "Failed to retrieve data. Status code: 404\n"
     ]
    },
    {
     "name": "stderr",
     "output_type": "stream",
     "text": [
      "[11:22:19] SMILES Parse Error: duplicated ring closure 0 bonds atom 0 to itself for input: 'C00037'\n",
      "[11:22:19] SMILES Parse Error: unclosed ring for input: 'C05726'\n"
     ]
    },
    {
     "name": "stdout",
     "output_type": "stream",
     "text": [
      "Failed to retrieve data. Status code: 404\n"
     ]
    },
    {
     "name": "stderr",
     "output_type": "stream",
     "text": [
      "[11:22:20] SMILES Parse Error: duplicated ring closure 0 bonds atom 0 to itself for input: 'C00006'\n",
      "[11:22:20] SMILES Parse Error: duplicated ring closure 0 bonds atom 0 to itself for input: 'C00342'\n",
      "[11:22:20] SMILES Parse Error: duplicated ring closure 0 bonds atom 0 to itself for input: 'C00005'\n",
      "[11:22:20] SMILES Parse Error: duplicated ring closure 0 bonds atom 0 to itself for input: 'C00080'\n",
      "[11:22:20] WARNING: not removing hydrogen atom without neighbors\n",
      "[11:22:20] SMILES Parse Error: duplicated ring closure 0 bonds atom 0 to itself for input: 'C00343'\n",
      "[11:22:20] SMILES Parse Error: duplicated ring closure 0 bonds atom 0 to itself for input: 'C00006'\n",
      "[11:22:20] SMILES Parse Error: duplicated ring closure 0 bonds atom 0 to itself for input: 'C00051'\n",
      "[11:22:21] SMILES Parse Error: duplicated ring closure 0 bonds atom 0 to itself for input: 'C00097'\n",
      "[11:22:21] SMILES Parse Error: duplicated ring closure 0 bonds atom 0 to itself for input: 'C00005'\n",
      "[11:22:21] SMILES Parse Error: unclosed ring for input: 'C05526'\n",
      "[11:22:22] SMILES Parse Error: duplicated ring closure 0 bonds atom 0 to itself for input: 'C00001'\n",
      "[11:22:22] SMILES Parse Error: duplicated ring closure 0 bonds atom 0 to itself for input: 'C00006'\n",
      "[11:22:22] SMILES Parse Error: unclosed ring for input: 'C01528'\n",
      "[11:22:22] SMILES Parse Error: duplicated ring closure 0 bonds atom 0 to itself for input: 'C00005'\n",
      "[11:22:22] SMILES Parse Error: duplicated ring closure 0 bonds atom 0 to itself for input: 'C00080'\n",
      "[11:22:22] WARNING: not removing hydrogen atom without neighbors\n",
      "[11:22:22] SMILES Parse Error: unclosed ring for input: 'C05684'\n",
      "[11:22:23] SMILES Parse Error: duplicated ring closure 0 bonds atom 0 to itself for input: 'C00005'\n",
      "[11:22:23] SMILES Parse Error: duplicated ring closure 0 bonds atom 0 to itself for input: 'C00080'\n",
      "[11:22:23] WARNING: not removing hydrogen atom without neighbors\n",
      "[11:22:23] SMILES Parse Error: unclosed ring for input: 'C18902'\n",
      "[11:22:24] SMILES Parse Error: duplicated ring closure 0 bonds atom 0 to itself for input: 'C00001'\n",
      "[11:22:24] SMILES Parse Error: duplicated ring closure 0 bonds atom 0 to itself for input: 'C00006'\n",
      "[11:22:24] SMILES Parse Error: duplicated ring closure 0 bonds atom 0 to itself for input: 'C05703'\n",
      "[11:22:25] SMILES Parse Error: duplicated ring closure 0 bonds atom 0 to itself for input: 'C00009'\n",
      "[11:22:25] SMILES Parse Error: unclosed ring for input: 'C04478'\n",
      "[11:22:26] SMILES Parse Error: duplicated ring closure 0 bonds atom 0 to itself for input: 'C00001'\n",
      "[11:22:26] SMILES Parse Error: duplicated ring closure 0 bonds atom 0 to itself for input: 'C00074'\n",
      "[11:22:26] SMILES Parse Error: unclosed ring for input: 'C01112'\n",
      "[11:22:26] SMILES Parse Error: duplicated ring closure 0 bonds atom 0 to itself for input: 'C00002'\n",
      "[11:22:26] SMILES Parse Error: duplicated ring closure 0 bonds atom 0 to itself for input: 'C00049'\n",
      "[11:22:26] SMILES Parse Error: duplicated ring closure 0 bonds atom 0 to itself for input: 'C00327'\n",
      "[11:22:27] SMILES Parse Error: duplicated ring closure 0 bonds atom 0 to itself for input: 'C00013'\n",
      "[11:22:27] SMILES Parse Error: duplicated ring closure 0 bonds atom 0 to itself for input: 'C00020'\n",
      "[11:22:27] SMILES Parse Error: duplicated ring closure 0 bonds atom 0 to itself for input: 'C03406'\n",
      "[11:22:27] SMILES Parse Error: duplicated ring closure 0 bonds atom 0 to itself for input: 'C00103'\n",
      "[11:22:28] SMILES Parse Error: duplicated ring closure 0 bonds atom 0 to itself for input: 'C00092'\n",
      "[11:22:28] SMILES Parse Error: duplicated ring closure 0 bonds atom 0 to itself for input: 'C00103'\n",
      "[11:22:28] SMILES Parse Error: duplicated ring closure 0 bonds atom 0 to itself for input: 'C00668'\n",
      "[11:22:29] SMILES Parse Error: duplicated ring closure 0 bonds atom 0 to itself for input: 'C00620'\n",
      "[11:22:30] SMILES Parse Error: duplicated ring closure 0 bonds atom 0 to itself for input: 'C00117'\n",
      "[11:22:30] SMILES Parse Error: unclosed ring for input: 'C01171'\n",
      "[11:22:31] SMILES Parse Error: unclosed ring for input: 'C03735'\n",
      "[11:22:32] SMILES Parse Error: duplicated ring closure 0 bonds atom 0 to itself for input: 'C00002'\n",
      "[11:22:32] SMILES Parse Error: duplicated ring closure 0 bonds atom 0 to itself for input: 'C00064'\n",
      "[11:22:33] SMILES Parse Error: duplicated ring closure 0 bonds atom 0 to itself for input: 'C01640'\n"
     ]
    },
    {
     "name": "stdout",
     "output_type": "stream",
     "text": [
      "Failed to retrieve data. Status code: 404\n"
     ]
    },
    {
     "name": "stderr",
     "output_type": "stream",
     "text": [
      "[11:22:33] SMILES Parse Error: duplicated ring closure 0 bonds atom 0 to itself for input: 'C00013'\n",
      "[11:22:33] SMILES Parse Error: duplicated ring closure 0 bonds atom 0 to itself for input: 'C00020'\n",
      "[11:22:34] SMILES Parse Error: unclosed ring for input: 'C02282'\n"
     ]
    },
    {
     "name": "stdout",
     "output_type": "stream",
     "text": [
      "Failed to retrieve data. Status code: 404\n"
     ]
    },
    {
     "name": "stderr",
     "output_type": "stream",
     "text": [
      "[11:22:34] SMILES Parse Error: duplicated ring closure 0 bonds atom 0 to itself for input: 'C00024'\n",
      "[11:22:34] SMILES Parse Error: duplicated ring closure 0 bonds atom 0 to itself for input: 'C00037'\n",
      "[11:22:34] SMILES Parse Error: duplicated ring closure 0 bonds atom 0 to itself for input: 'C00010'\n",
      "[11:22:35] SMILES Parse Error: duplicated ring closure 0 bonds atom 0 to itself for input: 'C03508'\n",
      "[11:22:36] SMILES Parse Error: duplicated ring closure 0 bonds atom 0 to itself for input: 'C00026'\n",
      "[11:22:36] SMILES Parse Error: duplicated ring closure 0 bonds atom 0 to itself for input: 'C01005'\n",
      "[11:22:37] SMILES Parse Error: duplicated ring closure 0 bonds atom 0 to itself for input: 'C00025'\n",
      "[11:22:37] SMILES Parse Error: unclosed ring for input: 'C03232'\n",
      "[11:22:38] SMILES Parse Error: duplicated ring closure 0 bonds atom 0 to itself for input: 'C00026'\n",
      "[11:22:38] SMILES Parse Error: duplicated ring closure 0 bonds atom 0 to itself for input: 'C06055'\n",
      "[11:22:39] SMILES Parse Error: duplicated ring closure 0 bonds atom 0 to itself for input: 'C00025'\n",
      "[11:22:39] SMILES Parse Error: duplicated ring closure 0 bonds atom 0 to itself for input: 'C06054'\n",
      "[11:22:40] SMILES Parse Error: duplicated ring closure 0 bonds atom 0 to itself for input: 'C00430'\n",
      "[11:22:41] SMILES Parse Error: unclosed ring for input: 'C03741'\n",
      "[11:22:42] SMILES Parse Error: duplicated ring closure 0 bonds atom 0 to itself for input: 'C00026'\n",
      "[11:22:42] SMILES Parse Error: duplicated ring closure 0 bonds atom 0 to itself for input: 'C00123'\n",
      "[11:22:42] SMILES Parse Error: duplicated ring closure 0 bonds atom 0 to itself for input: 'C00025'\n",
      "[11:22:42] SMILES Parse Error: duplicated ring closure 0 bonds atom 0 to itself for input: 'C00233'\n",
      "[11:22:43] SMILES Parse Error: duplicated ring closure 0 bonds atom 0 to itself for input: 'C00026'\n",
      "[11:22:43] SMILES Parse Error: duplicated ring closure 0 bonds atom 0 to itself for input: 'C00183'\n",
      "[11:22:43] SMILES Parse Error: duplicated ring closure 0 bonds atom 0 to itself for input: 'C00025'\n",
      "[11:22:43] SMILES Parse Error: duplicated ring closure 0 bonds atom 0 to itself for input: 'C00141'\n",
      "[11:22:43] SMILES Parse Error: duplicated ring closure 0 bonds atom 0 to itself for input: 'C00026'\n",
      "[11:22:43] SMILES Parse Error: duplicated ring closure 0 bonds atom 0 to itself for input: 'C00407'\n",
      "[11:22:43] SMILES Parse Error: duplicated ring closure 0 bonds atom 0 to itself for input: 'C00025'\n",
      "[11:22:43] SMILES Parse Error: duplicated ring closure 0 bonds atom 0 to itself for input: 'C00671'\n",
      "[11:22:43] SMILES Parse Error: duplicated ring closure 0 bonds atom 0 to itself for input: 'C00101'\n",
      "[11:22:43] SMILES Parse Error: unclosed ring for input: 'C01242'\n",
      "[11:22:43] SMILES Parse Error: duplicated ring closure 0 bonds atom 0 to itself for input: 'C00014'\n",
      "[11:22:43] SMILES Parse Error: duplicated ring closure 0 bonds atom 0 to itself for input: 'C00143'\n",
      "[11:22:43] SMILES Parse Error: unclosed ring for input: 'C02972'\n",
      "[11:22:43] SMILES Parse Error: duplicated ring closure 0 bonds atom 0 to itself for input: 'C00003'\n",
      "[11:22:43] SMILES Parse Error: duplicated ring closure 0 bonds atom 0 to itself for input: 'C00037'\n",
      "[11:22:43] SMILES Parse Error: duplicated ring closure 0 bonds atom 0 to itself for input: 'C00101'\n",
      "[11:22:43] SMILES Parse Error: duplicated ring closure 0 bonds atom 0 to itself for input: 'C00004'\n",
      "[11:22:43] SMILES Parse Error: duplicated ring closure 0 bonds atom 0 to itself for input: 'C00011'\n",
      "[11:22:43] SMILES Parse Error: duplicated ring closure 0 bonds atom 0 to itself for input: 'C00014'\n",
      "[11:22:44] SMILES Parse Error: duplicated ring closure 0 bonds atom 0 to itself for input: 'C00080'\n",
      "[11:22:44] WARNING: not removing hydrogen atom without neighbors\n",
      "[11:22:44] SMILES Parse Error: duplicated ring closure 0 bonds atom 0 to itself for input: 'C00143'\n",
      "[11:22:44] SMILES Parse Error: unclosed ring for input: 'C03479'\n",
      "[11:22:45] SMILES Parse Error: duplicated ring closure 0 bonds atom 0 to itself for input: 'C00001'\n",
      "[11:22:45] SMILES Parse Error: duplicated ring closure 0 bonds atom 0 to itself for input: 'C00445'\n",
      "[11:22:46] SMILES Parse Error: duplicated ring closure 0 bonds atom 0 to itself for input: 'C00002'\n",
      "[11:22:46] SMILES Parse Error: duplicated ring closure 0 bonds atom 0 to itself for input: 'C00033'\n",
      "[11:22:46] SMILES Parse Error: duplicated ring closure 0 bonds atom 0 to itself for input: 'C00008'\n",
      "[11:22:46] SMILES Parse Error: duplicated ring closure 0 bonds atom 0 to itself for input: 'C00227'\n",
      "[11:22:46] SMILES Parse Error: duplicated ring closure 0 bonds atom 0 to itself for input: 'C00002'\n",
      "[11:22:46] SMILES Parse Error: unclosed ring for input: 'C02876'\n",
      "[11:22:46] SMILES Parse Error: duplicated ring closure 0 bonds atom 0 to itself for input: 'C00227'\n",
      "[11:22:46] SMILES Parse Error: duplicated ring closure 1 bonds atom 0 to itself for input: 'C11592'\n",
      "[11:22:46] SMILES Parse Error: duplicated ring closure 0 bonds atom 0 to itself for input: 'C00033'\n",
      "[11:22:46] SMILES Parse Error: unclosed ring for input: 'C03444'\n",
      "[11:22:46] SMILES Parse Error: duplicated ring closure 0 bonds atom 0 to itself for input: 'C00008'\n",
      "[11:22:46] SMILES Parse Error: duplicated ring closure 0 bonds atom 0 to itself for input: 'C00163'\n",
      "[11:22:46] SMILES Parse Error: duplicated ring closure 0 bonds atom 0 to itself for input: 'C00002'\n",
      "[11:22:46] SMILES Parse Error: duplicated ring closure 0 bonds atom 0 to itself for input: 'C00163'\n",
      "[11:22:46] SMILES Parse Error: duplicated ring closure 0 bonds atom 0 to itself for input: 'C00008'\n",
      "[11:22:46] SMILES Parse Error: unclosed ring for input: 'C02876'\n",
      "[11:22:46] SMILES Parse Error: duplicated ring closure 0 bonds atom 0 to itself for input: 'C00002'\n",
      "[11:22:46] SMILES Parse Error: unclosed ring for input: 'C02876'\n",
      "[11:22:47] SMILES Parse Error: duplicated ring closure 0 bonds atom 0 to itself for input: 'C00227'\n",
      "[11:22:47] SMILES Parse Error: duplicated ring closure 1 bonds atom 0 to itself for input: 'C11592'\n",
      "[11:22:47] SMILES Parse Error: duplicated ring closure 0 bonds atom 0 to itself for input: 'C00033'\n",
      "[11:22:47] SMILES Parse Error: unclosed ring for input: 'C03444'\n",
      "[11:22:47] SMILES Parse Error: duplicated ring closure 0 bonds atom 0 to itself for input: 'C00008'\n",
      "[11:22:47] SMILES Parse Error: duplicated ring closure 0 bonds atom 0 to itself for input: 'C00163'\n",
      "[11:22:47] SMILES Parse Error: duplicated ring closure 0 bonds atom 0 to itself for input: 'C00002'\n",
      "[11:22:47] SMILES Parse Error: duplicated ring closure 0 bonds atom 0 to itself for input: 'C00024'\n",
      "[11:22:47] SMILES Parse Error: duplicated ring closure 0 bonds atom 0 to itself for input: 'C00288'\n",
      "[11:22:47] SMILES Parse Error: duplicated ring closure 0 bonds atom 0 to itself for input: 'C00008'\n",
      "[11:22:47] SMILES Parse Error: duplicated ring closure 0 bonds atom 0 to itself for input: 'C00009'\n",
      "[11:22:47] SMILES Parse Error: duplicated ring closure 0 bonds atom 0 to itself for input: 'C00083'\n",
      "[11:22:48] SMILES Parse Error: duplicated ring closure 0 bonds atom 0 to itself for input: 'C00024'\n",
      "[11:22:48] SMILES Parse Error: unclosed ring for input: 'C04419'\n",
      "[11:22:48] SMILES Parse Error: duplicated ring closure 0 bonds atom 0 to itself for input: 'C00083'\n",
      "[11:22:48] SMILES Parse Error: duplicated ring closure 0 bonds atom 0 to itself for input: 'C06250'\n",
      "[11:22:48] SMILES Parse Error: duplicated ring closure 0 bonds atom 0 to itself for input: 'C00009'\n",
      "[11:22:48] SMILES Parse Error: unclosed ring for input: 'C15586'\n"
     ]
    },
    {
     "name": "stdout",
     "output_type": "stream",
     "text": [
      "Failed to retrieve data. Status code: 404\n"
     ]
    },
    {
     "name": "stderr",
     "output_type": "stream",
     "text": [
      "[11:22:49] SMILES Parse Error: duplicated ring closure 0 bonds atom 0 to itself for input: 'C00620'\n",
      "[11:22:49] SMILES Parse Error: unclosed ring for input: 'C15587'\n"
     ]
    },
    {
     "name": "stdout",
     "output_type": "stream",
     "text": [
      "Failed to retrieve data. Status code: 404\n"
     ]
    },
    {
     "name": "stderr",
     "output_type": "stream",
     "text": [
      "[11:22:50] SMILES Parse Error: duplicated ring closure 0 bonds atom 0 to itself for input: 'C00009'\n",
      "[11:22:50] SMILES Parse Error: duplicated ring closure 0 bonds atom 0 to itself for input: 'C00212'\n",
      "[11:22:51] SMILES Parse Error: duplicated ring closure 0 bonds atom 0 to itself for input: 'C00147'\n",
      "[11:22:52] SMILES Parse Error: duplicated ring closure 0 bonds atom 0 to itself for input: 'C00620'\n",
      "[11:22:52] SMILES Parse Error: duplicated ring closure 0 bonds atom 0 to itself for input: 'C00009'\n",
      "[11:22:52] SMILES Parse Error: duplicated ring closure 0 bonds atom 0 to itself for input: 'C00294'\n",
      "[11:22:53] SMILES Parse Error: duplicated ring closure 0 bonds atom 0 to itself for input: 'C00262'\n",
      "[11:22:54] SMILES Parse Error: duplicated ring closure 0 bonds atom 0 to itself for input: 'C00620'\n",
      "[11:22:54] SMILES Parse Error: duplicated ring closure 0 bonds atom 0 to itself for input: 'C00009'\n",
      "[11:22:54] SMILES Parse Error: duplicated ring closure 0 bonds atom 0 to itself for input: 'C00387'\n",
      "[11:22:55] SMILES Parse Error: duplicated ring closure 0 bonds atom 0 to itself for input: 'C00242'\n",
      "[11:22:56] SMILES Parse Error: duplicated ring closure 0 bonds atom 0 to itself for input: 'C00620'\n",
      "[11:22:56] SMILES Parse Error: duplicated ring closure 0 bonds atom 0 to itself for input: 'C00009'\n",
      "[11:22:56] SMILES Parse Error: unclosed ring for input: 'C01762'\n",
      "[11:22:57] SMILES Parse Error: duplicated ring closure 0 bonds atom 0 to itself for input: 'C00385'\n",
      "[11:22:58] SMILES Parse Error: duplicated ring closure 0 bonds atom 0 to itself for input: 'C00620'\n",
      "[11:22:58] SMILES Parse Error: duplicated ring closure 0 bonds atom 0 to itself for input: 'C00009'\n",
      "[11:22:58] SMILES Parse Error: duplicated ring closure 0 bonds atom 0 to itself for input: 'C00330'\n",
      "[11:22:59] SMILES Parse Error: duplicated ring closure 0 bonds atom 0 to itself for input: 'C00242'\n",
      "[11:22:59] SMILES Parse Error: duplicated ring closure 0 bonds atom 0 to itself for input: 'C00672'\n",
      "[11:23:00] SMILES Parse Error: duplicated ring closure 0 bonds atom 0 to itself for input: 'C00009'\n",
      "[11:23:00] SMILES Parse Error: duplicated ring closure 0 bonds atom 0 to itself for input: 'C03150'\n",
      "[11:23:00] SMILES Parse Error: duplicated ring closure 0 bonds atom 0 to itself for input: 'C00153'\n",
      "[11:23:01] SMILES Parse Error: duplicated ring closure 0 bonds atom 0 to itself for input: 'C00620'\n",
      "[11:23:02] SMILES Parse Error: duplicated ring closure 0 bonds atom 0 to itself for input: 'C00009'\n",
      "[11:23:02] SMILES Parse Error: unclosed ring for input: 'C05841'\n",
      "[11:23:03] SMILES Parse Error: duplicated ring closure 0 bonds atom 0 to itself for input: 'C00080'\n",
      "[11:23:03] WARNING: not removing hydrogen atom without neighbors\n",
      "[11:23:03] SMILES Parse Error: duplicated ring closure 0 bonds atom 0 to itself for input: 'C00253'\n",
      "[11:23:04] SMILES Parse Error: duplicated ring closure 0 bonds atom 0 to itself for input: 'C00620'\n",
      "[11:23:04] SMILES Parse Error: duplicated ring closure 0 bonds atom 0 to itself for input: 'C00009'\n",
      "[11:23:04] SMILES Parse Error: duplicated ring closure 0 bonds atom 0 to itself for input: 'C00526'\n",
      "[11:23:05] SMILES Parse Error: duplicated ring closure 0 bonds atom 0 to itself for input: 'C00106'\n",
      "[11:23:05] SMILES Parse Error: duplicated ring closure 0 bonds atom 0 to itself for input: 'C00672'\n",
      "[11:23:06] SMILES Parse Error: duplicated ring closure 0 bonds atom 0 to itself for input: 'C00009'\n",
      "[11:23:06] SMILES Parse Error: duplicated ring closure 0 bonds atom 0 to itself for input: 'C00559'\n",
      "[11:23:06] SMILES Parse Error: duplicated ring closure 0 bonds atom 0 to itself for input: 'C00147'\n",
      "[11:23:07] SMILES Parse Error: duplicated ring closure 0 bonds atom 0 to itself for input: 'C00672'\n",
      "[11:23:07] SMILES Parse Error: duplicated ring closure 0 bonds atom 0 to itself for input: 'C00009'\n",
      "[11:23:07] SMILES Parse Error: unclosed ring for input: 'C05512'\n",
      "[11:23:08] SMILES Parse Error: duplicated ring closure 0 bonds atom 0 to itself for input: 'C00262'\n",
      "[11:23:08] SMILES Parse Error: duplicated ring closure 0 bonds atom 0 to itself for input: 'C00672'\n",
      "[11:23:08] SMILES Parse Error: unclosed ring for input: 'C04732'\n",
      "[11:23:09] SMILES Parse Error: unclosed ring for input: 'C15556'\n"
     ]
    },
    {
     "name": "stdout",
     "output_type": "stream",
     "text": [
      "Failed to retrieve data. Status code: 404\n"
     ]
    },
    {
     "name": "stderr",
     "output_type": "stream",
     "text": [
      "[11:23:10] SMILES Parse Error: duplicated ring closure 0 bonds atom 0 to itself for input: 'C00001'\n",
      "[11:23:10] SMILES Parse Error: duplicated ring closure 0 bonds atom 0 to itself for input: 'C00009'\n",
      "[11:23:10] SMILES Parse Error: unclosed ring for input: 'C04332'\n",
      "[11:23:11] SMILES Parse Error: unclosed ring for input: 'C06397'\n",
      "[11:23:12] SMILES Parse Error: unclosed ring for input: 'C06398'\n",
      "[11:23:13] SMILES Parse Error: duplicated ring closure 0 bonds atom 0 to itself for input: 'C00006'\n",
      "[11:23:13] SMILES Parse Error: duplicated ring closure 0 bonds atom 0 to itself for input: 'C00092'\n",
      "[11:23:13] SMILES Parse Error: duplicated ring closure 0 bonds atom 0 to itself for input: 'C00005'\n",
      "[11:23:13] SMILES Parse Error: duplicated ring closure 0 bonds atom 0 to itself for input: 'C00080'\n",
      "[11:23:13] WARNING: not removing hydrogen atom without neighbors\n",
      "[11:23:13] SMILES Parse Error: unclosed ring for input: 'C01236'\n",
      "[11:23:14] SMILES Parse Error: duplicated ring closure 0 bonds atom 0 to itself for input: 'C00006'\n",
      "[11:23:14] SMILES Parse Error: duplicated ring closure 0 bonds atom 0 to itself for input: 'C00005'\n",
      "[11:23:14] SMILES Parse Error: duplicated ring closure 0 bonds atom 0 to itself for input: 'C00080'\n",
      "[11:23:14] WARNING: not removing hydrogen atom without neighbors\n",
      "[11:23:14] SMILES Parse Error: duplicated ring closure 0 bonds atom 0 to itself for input: 'C00092'\n",
      "[11:23:14] SMILES Parse Error: unclosed ring for input: 'C01236'\n",
      "[11:23:14] SMILES Parse Error: unclosed ring for input: 'C01172'\n",
      "[11:23:14] SMILES Parse Error: duplicated ring closure 0 bonds atom 0 to itself for input: 'C00006'\n",
      "[11:23:14] SMILES Parse Error: unclosed ring for input: 'C01172'\n",
      "[11:23:14] SMILES Parse Error: duplicated ring closure 0 bonds atom 0 to itself for input: 'C00005'\n",
      "[11:23:14] SMILES Parse Error: duplicated ring closure 0 bonds atom 0 to itself for input: 'C00080'\n",
      "[11:23:14] WARNING: not removing hydrogen atom without neighbors\n",
      "[11:23:14] SMILES Parse Error: unclosed ring for input: 'C01236'\n",
      "[11:23:14] SMILES Parse Error: duplicated ring closure 0 bonds atom 0 to itself for input: 'C00006'\n",
      "[11:23:14] SMILES Parse Error: duplicated ring closure 0 bonds atom 0 to itself for input: 'C00005'\n",
      "[11:23:14] SMILES Parse Error: duplicated ring closure 0 bonds atom 0 to itself for input: 'C00080'\n",
      "[11:23:14] WARNING: not removing hydrogen atom without neighbors\n",
      "[11:23:14] SMILES Parse Error: duplicated ring closure 0 bonds atom 0 to itself for input: 'C00092'\n",
      "[11:23:15] SMILES Parse Error: unclosed ring for input: 'C01236'\n",
      "[11:23:15] SMILES Parse Error: unclosed ring for input: 'C01172'\n",
      "[11:23:15] SMILES Parse Error: duplicated ring closure 0 bonds atom 0 to itself for input: 'C00002'\n",
      "[11:23:15] SMILES Parse Error: duplicated ring closure 0 bonds atom 0 to itself for input: 'C00062'\n",
      "[11:23:15] SMILES Parse Error: unclosed ring for input: 'C01636'\n"
     ]
    },
    {
     "name": "stdout",
     "output_type": "stream",
     "text": [
      "Failed to retrieve data. Status code: 404\n"
     ]
    },
    {
     "name": "stderr",
     "output_type": "stream",
     "text": [
      "[11:23:16] SMILES Parse Error: duplicated ring closure 0 bonds atom 0 to itself for input: 'C00013'\n",
      "[11:23:16] SMILES Parse Error: duplicated ring closure 0 bonds atom 0 to itself for input: 'C00020'\n",
      "[11:23:16] SMILES Parse Error: unclosed ring for input: 'C02163'\n"
     ]
    },
    {
     "name": "stdout",
     "output_type": "stream",
     "text": [
      "Failed to retrieve data. Status code: 404\n"
     ]
    },
    {
     "name": "stderr",
     "output_type": "stream",
     "text": [
      "[11:23:17] SMILES Parse Error: duplicated ring closure 0 bonds atom 0 to itself for input: 'C00003'\n",
      "[11:23:17] SMILES Parse Error: duplicated ring closure 0 bonds atom 0 to itself for input: 'C05650'\n",
      "[11:23:18] SMILES Parse Error: duplicated ring closure 0 bonds atom 0 to itself for input: 'C00004'\n",
      "[11:23:18] SMILES Parse Error: duplicated ring closure 0 bonds atom 0 to itself for input: 'C00080'\n",
      "[11:23:18] WARNING: not removing hydrogen atom without neighbors\n",
      "[11:23:18] SMILES Parse Error: unclosed ring for input: 'C05649'\n",
      "[11:23:19] SMILES Parse Error: duplicated ring closure 0 bonds atom 0 to itself for input: 'C00004'\n",
      "[11:23:19] SMILES Parse Error: duplicated ring closure 0 bonds atom 0 to itself for input: 'C00080'\n",
      "[11:23:19] WARNING: not removing hydrogen atom without neighbors\n",
      "[11:23:19] SMILES Parse Error: duplicated ring closure 0 bonds atom 0 to itself for input: 'C00268'\n",
      "[11:23:20] SMILES Parse Error: duplicated ring closure 0 bonds atom 0 to itself for input: 'C00003'\n",
      "[11:23:20] SMILES Parse Error: duplicated ring closure 0 bonds atom 0 to itself for input: 'C00272'\n",
      "[11:23:21] SMILES Parse Error: duplicated ring closure 0 bonds atom 0 to itself for input: 'C00006'\n",
      "[11:23:21] SMILES Parse Error: duplicated ring closure 0 bonds atom 0 to itself for input: 'C05650'\n",
      "[11:23:21] SMILES Parse Error: duplicated ring closure 0 bonds atom 0 to itself for input: 'C00005'\n",
      "[11:23:21] SMILES Parse Error: duplicated ring closure 0 bonds atom 0 to itself for input: 'C00080'\n",
      "[11:23:21] WARNING: not removing hydrogen atom without neighbors\n",
      "[11:23:21] SMILES Parse Error: unclosed ring for input: 'C05649'\n",
      "[11:23:21] SMILES Parse Error: duplicated ring closure 0 bonds atom 0 to itself for input: 'C00005'\n",
      "[11:23:21] SMILES Parse Error: duplicated ring closure 0 bonds atom 0 to itself for input: 'C00080'\n",
      "[11:23:21] WARNING: not removing hydrogen atom without neighbors\n",
      "[11:23:21] SMILES Parse Error: duplicated ring closure 0 bonds atom 0 to itself for input: 'C00268'\n",
      "[11:23:21] SMILES Parse Error: duplicated ring closure 0 bonds atom 0 to itself for input: 'C00006'\n",
      "[11:23:21] SMILES Parse Error: duplicated ring closure 0 bonds atom 0 to itself for input: 'C00272'\n",
      "[11:23:21] SMILES Parse Error: unclosed ring for input: 'C05382'\n",
      "[11:23:21] SMILES Parse Error: unclosed ring for input: 'C07836'\n",
      "[11:23:22] SMILES Parse Error: duplicated ring closure 0 bonds atom 0 to itself for input: 'C00001'\n",
      "[11:23:22] SMILES Parse Error: duplicated ring closure 0 bonds atom 0 to itself for input: 'C00013'\n",
      "[11:23:22] SMILES Parse Error: duplicated ring closure 0 bonds atom 0 to itself for input: 'C00009'\n",
      "[11:23:22] SMILES Parse Error: duplicated ring closure 0 bonds atom 0 to itself for input: 'C00083'\n",
      "[11:23:22] SMILES Parse Error: duplicated ring closure 0 bonds atom 0 to itself for input: 'C00229'\n",
      "[11:23:22] SMILES Parse Error: duplicated ring closure 0 bonds atom 0 to itself for input: 'C00010'\n",
      "[11:23:22] SMILES Parse Error: duplicated ring closure 0 bonds atom 0 to itself for input: 'C01209'\n",
      "[11:23:22] SMILES Parse Error: duplicated ring closure 0 bonds atom 0 to itself for input: 'C00003'\n",
      "[11:23:22] SMILES Parse Error: duplicated ring closure 0 bonds atom 0 to itself for input: 'C00188'\n",
      "[11:23:22] SMILES Parse Error: duplicated ring closure 0 bonds atom 0 to itself for input: 'C00004'\n",
      "[11:23:22] SMILES Parse Error: duplicated ring closure 0 bonds atom 0 to itself for input: 'C00080'\n",
      "[11:23:22] WARNING: not removing hydrogen atom without neighbors\n",
      "[11:23:22] SMILES Parse Error: duplicated ring closure 0 bonds atom 0 to itself for input: 'C03508'\n",
      "[11:23:23] SMILES Parse Error: duplicated ring closure 0 bonds atom 0 to itself for input: 'C00003'\n",
      "[11:23:23] SMILES Parse Error: unclosed ring for input: 'C06311'\n",
      "[11:23:24] SMILES Parse Error: duplicated ring closure 0 bonds atom 0 to itself for input: 'C00004'\n",
      "[11:23:24] SMILES Parse Error: duplicated ring closure 0 bonds atom 0 to itself for input: 'C00080'\n",
      "[11:23:24] WARNING: not removing hydrogen atom without neighbors\n",
      "[11:23:24] SMILES Parse Error: unclosed ring for input: 'C06312'\n",
      "[11:23:25] SMILES Parse Error: duplicated ring closure 0 bonds atom 0 to itself for input: 'C00003'\n",
      "[11:23:25] SMILES Parse Error: unclosed ring for input: 'C06311'\n",
      "[11:23:25] SMILES Parse Error: duplicated ring closure 0 bonds atom 0 to itself for input: 'C00004'\n",
      "[11:23:25] SMILES Parse Error: duplicated ring closure 0 bonds atom 0 to itself for input: 'C00080'\n",
      "[11:23:25] WARNING: not removing hydrogen atom without neighbors\n",
      "[11:23:25] SMILES Parse Error: duplicated ring closure 0 bonds atom 0 to itself for input: 'C01097'\n",
      "[11:23:26] SMILES Parse Error: duplicated ring closure 0 bonds atom 0 to itself for input: 'C00009'\n",
      "[11:23:26] SMILES Parse Error: duplicated ring closure 0 bonds atom 0 to itself for input: 'C00299'\n",
      "[11:23:27] SMILES Parse Error: duplicated ring closure 0 bonds atom 0 to itself for input: 'C00106'\n",
      "[11:23:27] SMILES Parse Error: duplicated ring closure 0 bonds atom 0 to itself for input: 'C00620'\n",
      "[11:23:27] SMILES Parse Error: duplicated ring closure 0 bonds atom 0 to itself for input: 'C00620'\n",
      "[11:23:27] SMILES Parse Error: unclosed ring for input: 'C07649'\n",
      "[11:23:28] SMILES Parse Error: duplicated ring closure 0 bonds atom 0 to itself for input: 'C00009'\n",
      "[11:23:28] SMILES Parse Error: unclosed ring for input: 'C16633'\n"
     ]
    },
    {
     "name": "stdout",
     "output_type": "stream",
     "text": [
      "Failed to retrieve data. Status code: 404\n"
     ]
    },
    {
     "name": "stderr",
     "output_type": "stream",
     "text": [
      "[11:23:29] SMILES Parse Error: duplicated ring closure 0 bonds atom 0 to itself for input: 'C04620'\n"
     ]
    },
    {
     "name": "stdout",
     "output_type": "stream",
     "text": [
      "Failed to retrieve data. Status code: 404\n"
     ]
    },
    {
     "name": "stderr",
     "output_type": "stream",
     "text": [
      "[11:23:29] SMILES Parse Error: duplicated ring closure 0 bonds atom 0 to itself for input: 'C00001'\n",
      "[11:23:30] SMILES Parse Error: unclosed ring for input: 'C05751'\n",
      "[11:23:30] SMILES Parse Error: duplicated ring closure 0 bonds atom 0 to itself for input: 'C00001'\n",
      "[11:23:30] SMILES Parse Error: unclosed ring for input: 'C01419'\n",
      "[11:23:30] SMILES Parse Error: duplicated ring closure 0 bonds atom 0 to itself for input: 'C00037'\n",
      "[11:23:30] SMILES Parse Error: duplicated ring closure 0 bonds atom 0 to itself for input: 'C00097'\n",
      "[11:23:30] SMILES Parse Error: duplicated ring closure 0 bonds atom 0 to itself for input: 'C00001'\n",
      "[11:23:30] SMILES Parse Error: unclosed ring for input: 'C05729'\n",
      "[11:23:30] SMILES Parse Error: duplicated ring closure 0 bonds atom 0 to itself for input: 'C00037'\n",
      "[11:23:30] SMILES Parse Error: unclosed ring for input: 'C05726'\n",
      "[11:23:30] SMILES Parse Error: unclosed ring for input: 'C03539'\n",
      "[11:23:31] SMILES Parse Error: duplicated ring closure 0 bonds atom 0 to itself for input: 'C00155'\n",
      "[11:23:32] SMILES Parse Error: duplicated ring closure 1 bonds atom 0 to itself for input: 'C11838'\n"
     ]
    },
    {
     "name": "stdout",
     "output_type": "stream",
     "text": [
      "Failed to retrieve data. Status code: 404\n"
     ]
    },
    {
     "name": "stderr",
     "output_type": "stream",
     "text": [
      "[11:23:33] SMILES Parse Error: duplicated ring closure 0 bonds atom 0 to itself for input: 'C00024'\n",
      "[11:23:33] SMILES Parse Error: duplicated ring closure 0 bonds atom 0 to itself for input: 'C00229'\n",
      "[11:23:33] SMILES Parse Error: duplicated ring closure 0 bonds atom 0 to itself for input: 'C00010'\n",
      "[11:23:33] SMILES Parse Error: unclosed ring for input: 'C03939'\n",
      "[11:23:33] SMILES Parse Error: duplicated ring closure 0 bonds atom 0 to itself for input: 'C01209'\n",
      "[11:23:33] SMILES Parse Error: unclosed ring for input: 'C03939'\n",
      "[11:23:33] SMILES Parse Error: duplicated ring closure 0 bonds atom 0 to itself for input: 'C00011'\n",
      "[11:23:33] SMILES Parse Error: duplicated ring closure 0 bonds atom 0 to itself for input: 'C00229'\n",
      "[11:23:33] SMILES Parse Error: unclosed ring for input: 'C05744'\n",
      "[11:23:33] SMILES Parse Error: duplicated ring closure 0 bonds atom 0 to itself for input: 'C01209'\n",
      "[11:23:33] SMILES Parse Error: unclosed ring for input: 'C05223'\n",
      "[11:23:33] SMILES Parse Error: duplicated ring closure 0 bonds atom 0 to itself for input: 'C00011'\n",
      "[11:23:33] SMILES Parse Error: duplicated ring closure 0 bonds atom 0 to itself for input: 'C00229'\n",
      "[11:23:33] SMILES Parse Error: unclosed ring for input: 'C05759'\n",
      "[11:23:33] SMILES Parse Error: duplicated ring closure 0 bonds atom 0 to itself for input: 'C01209'\n",
      "[11:23:33] SMILES Parse Error: unclosed ring for input: 'C05745'\n",
      "[11:23:33] SMILES Parse Error: duplicated ring closure 0 bonds atom 0 to itself for input: 'C00011'\n",
      "[11:23:33] SMILES Parse Error: duplicated ring closure 0 bonds atom 0 to itself for input: 'C00229'\n",
      "[11:23:33] SMILES Parse Error: unclosed ring for input: 'C05746'\n",
      "[11:23:33] SMILES Parse Error: duplicated ring closure 0 bonds atom 0 to itself for input: 'C01209'\n",
      "[11:23:33] SMILES Parse Error: unclosed ring for input: 'C05749'\n",
      "[11:23:33] SMILES Parse Error: duplicated ring closure 0 bonds atom 0 to itself for input: 'C00011'\n",
      "[11:23:33] SMILES Parse Error: duplicated ring closure 0 bonds atom 0 to itself for input: 'C00229'\n",
      "[11:23:33] SMILES Parse Error: duplicated ring closure 0 bonds atom 0 to itself for input: 'C05750'\n",
      "[11:23:33] SMILES Parse Error: duplicated ring closure 0 bonds atom 0 to itself for input: 'C01209'\n",
      "[11:23:33] SMILES Parse Error: unclosed ring for input: 'C05752'\n",
      "[11:23:33] SMILES Parse Error: duplicated ring closure 0 bonds atom 0 to itself for input: 'C00011'\n",
      "[11:23:33] SMILES Parse Error: duplicated ring closure 0 bonds atom 0 to itself for input: 'C00229'\n",
      "[11:23:33] SMILES Parse Error: unclosed ring for input: 'C05753'\n",
      "[11:23:33] SMILES Parse Error: duplicated ring closure 0 bonds atom 0 to itself for input: 'C01209'\n",
      "[11:23:33] SMILES Parse Error: unclosed ring for input: 'C05755'\n",
      "[11:23:33] SMILES Parse Error: duplicated ring closure 0 bonds atom 0 to itself for input: 'C00011'\n",
      "[11:23:33] SMILES Parse Error: duplicated ring closure 0 bonds atom 0 to itself for input: 'C00229'\n",
      "[11:23:33] SMILES Parse Error: unclosed ring for input: 'C05756'\n",
      "[11:23:33] SMILES Parse Error: duplicated ring closure 0 bonds atom 0 to itself for input: 'C01209'\n",
      "[11:23:33] SMILES Parse Error: unclosed ring for input: 'C05761'\n",
      "[11:23:33] SMILES Parse Error: duplicated ring closure 0 bonds atom 0 to itself for input: 'C00011'\n",
      "[11:23:33] SMILES Parse Error: duplicated ring closure 0 bonds atom 0 to itself for input: 'C00229'\n",
      "[11:23:33] SMILES Parse Error: unclosed ring for input: 'C05762'\n",
      "[11:23:33] SMILES Parse Error: duplicated ring closure 0 bonds atom 0 to itself for input: 'C00002'\n",
      "[11:23:33] SMILES Parse Error: duplicated ring closure 0 bonds atom 0 to itself for input: 'C00078'\n",
      "[11:23:33] SMILES Parse Error: unclosed ring for input: 'C01652'\n"
     ]
    },
    {
     "name": "stdout",
     "output_type": "stream",
     "text": [
      "Failed to retrieve data. Status code: 404\n"
     ]
    },
    {
     "name": "stderr",
     "output_type": "stream",
     "text": [
      "[11:23:34] SMILES Parse Error: duplicated ring closure 0 bonds atom 0 to itself for input: 'C00013'\n",
      "[11:23:34] SMILES Parse Error: duplicated ring closure 0 bonds atom 0 to itself for input: 'C00020'\n",
      "[11:23:34] SMILES Parse Error: unclosed ring for input: 'C03512'\n"
     ]
    },
    {
     "name": "stdout",
     "output_type": "stream",
     "text": [
      "Failed to retrieve data. Status code: 404\n"
     ]
    },
    {
     "name": "stderr",
     "output_type": "stream",
     "text": [
      "[11:23:35] SMILES Parse Error: duplicated ring closure 0 bonds atom 0 to itself for input: 'C00002'\n",
      "[11:23:35] SMILES Parse Error: duplicated ring closure 0 bonds atom 0 to itself for input: 'C00014'\n",
      "[11:23:35] SMILES Parse Error: duplicated ring closure 0 bonds atom 0 to itself for input: 'C00857'\n",
      "[11:23:36] SMILES Parse Error: duplicated ring closure 0 bonds atom 0 to itself for input: 'C00003'\n",
      "[11:23:36] SMILES Parse Error: duplicated ring closure 0 bonds atom 0 to itself for input: 'C00013'\n",
      "[11:23:36] SMILES Parse Error: duplicated ring closure 0 bonds atom 0 to itself for input: 'C00020'\n",
      "[11:23:36] SMILES Parse Error: duplicated ring closure 0 bonds atom 0 to itself for input: 'C00002'\n",
      "[11:23:36] SMILES Parse Error: duplicated ring closure 0 bonds atom 0 to itself for input: 'C00133'\n",
      "[11:23:37] SMILES Parse Error: duplicated ring closure 0 bonds atom 0 to itself for input: 'C00008'\n",
      "[11:23:37] SMILES Parse Error: duplicated ring closure 0 bonds atom 0 to itself for input: 'C00009'\n",
      "[11:23:37] SMILES Parse Error: duplicated ring closure 0 bonds atom 0 to itself for input: 'C00993'\n",
      "[11:23:38] SMILES Parse Error: duplicated ring closure 0 bonds atom 0 to itself for input: 'C00006'\n",
      "[11:23:38] SMILES Parse Error: duplicated ring closure 0 bonds atom 0 to itself for input: 'C00009'\n",
      "[11:23:38] SMILES Parse Error: duplicated ring closure 0 bonds atom 0 to itself for input: 'C00441'\n",
      "[11:23:39] SMILES Parse Error: duplicated ring closure 0 bonds atom 0 to itself for input: 'C00005'\n",
      "[11:23:39] SMILES Parse Error: duplicated ring closure 0 bonds atom 0 to itself for input: 'C00080'\n",
      "[11:23:39] WARNING: not removing hydrogen atom without neighbors\n",
      "[11:23:39] SMILES Parse Error: duplicated ring closure 0 bonds atom 0 to itself for input: 'C03082'\n",
      "[11:23:40] SMILES Parse Error: duplicated ring closure 0 bonds atom 0 to itself for input: 'C00131'\n",
      "[11:23:40] SMILES Parse Error: duplicated ring closure 0 bonds atom 0 to itself for input: 'C00013'\n",
      "[11:23:40] SMILES Parse Error: duplicated ring closure 0 bonds atom 0 to itself for input: 'C00039'\n"
     ]
    },
    {
     "name": "stdout",
     "output_type": "stream",
     "text": [
      "Failed to retrieve data. Status code: 404\n"
     ]
    },
    {
     "name": "stderr",
     "output_type": "stream",
     "text": [
      "[11:23:41] SMILES Parse Error: duplicated ring closure 0 bonds atom 0 to itself for input: 'C00286'\n",
      "[11:23:41] SMILES Parse Error: duplicated ring closure 0 bonds atom 0 to itself for input: 'C00013'\n",
      "[11:23:41] SMILES Parse Error: duplicated ring closure 0 bonds atom 0 to itself for input: 'C00039'\n",
      "[11:23:41] SMILES Parse Error: duplicated ring closure 0 bonds atom 0 to itself for input: 'C00458'\n",
      "[11:23:41] SMILES Parse Error: duplicated ring closure 0 bonds atom 0 to itself for input: 'C00013'\n",
      "[11:23:41] SMILES Parse Error: duplicated ring closure 0 bonds atom 0 to itself for input: 'C00039'\n",
      "[11:23:41] SMILES Parse Error: duplicated ring closure 0 bonds atom 0 to itself for input: 'C00459'\n",
      "[11:23:41] SMILES Parse Error: duplicated ring closure 0 bonds atom 0 to itself for input: 'C00013'\n",
      "[11:23:42] SMILES Parse Error: duplicated ring closure 0 bonds atom 0 to itself for input: 'C00039'\n",
      "[11:23:42] SMILES Parse Error: duplicated ring closure 0 bonds atom 0 to itself for input: 'C00002'\n",
      "[11:23:42] SMILES Parse Error: duplicated ring closure 0 bonds atom 0 to itself for input: 'C00493'\n",
      "[11:23:42] SMILES Parse Error: duplicated ring closure 0 bonds atom 0 to itself for input: 'C00008'\n",
      "[11:23:42] SMILES Parse Error: unclosed ring for input: 'C03175'\n",
      "[11:23:43] SMILES Parse Error: unclosed ring for input: 'C06156'\n",
      "[11:23:44] SMILES Parse Error: duplicated ring closure 0 bonds atom 0 to itself for input: 'C00352'\n",
      "[11:23:44] SMILES Parse Error: duplicated ring closure 0 bonds atom 0 to itself for input: 'C00138'\n"
     ]
    },
    {
     "name": "stdout",
     "output_type": "stream",
     "text": [
      "Failed to retrieve data. Status code: 404\n"
     ]
    },
    {
     "name": "stderr",
     "output_type": "stream",
     "text": [
      "[11:23:45] SMILES Parse Error: duplicated ring closure 1 bonds atom 0 to itself for input: 'C11453'\n"
     ]
    },
    {
     "name": "stdout",
     "output_type": "stream",
     "text": [
      "Failed to retrieve data. Status code: 404\n"
     ]
    },
    {
     "name": "stderr",
     "output_type": "stream",
     "text": [
      "[11:23:46] SMILES Parse Error: duplicated ring closure 0 bonds atom 0 to itself for input: 'C00001'\n",
      "[11:23:46] SMILES Parse Error: duplicated ring closure 0 bonds atom 0 to itself for input: 'C00139'\n"
     ]
    },
    {
     "name": "stdout",
     "output_type": "stream",
     "text": [
      "Failed to retrieve data. Status code: 404\n"
     ]
    },
    {
     "name": "stderr",
     "output_type": "stream",
     "text": [
      "[11:23:47] SMILES Parse Error: duplicated ring closure 1 bonds atom 0 to itself for input: 'C11811'\n"
     ]
    },
    {
     "name": "stdout",
     "output_type": "stream",
     "text": [
      "Failed to retrieve data. Status code: 404\n"
     ]
    },
    {
     "name": "stderr",
     "output_type": "stream",
     "text": [
      "[11:23:48] SMILES Parse Error: duplicated ring closure 0 bonds atom 0 to itself for input: 'C00234'\n",
      "[11:23:49] SMILES Parse Error: unclosed ring for input: 'C04677'\n",
      "[11:23:50] SMILES Parse Error: duplicated ring closure 0 bonds atom 0 to itself for input: 'C00101'\n",
      "[11:23:50] SMILES Parse Error: unclosed ring for input: 'C04734'\n",
      "[11:23:51] SMILES Parse Error: duplicated ring closure 0 bonds atom 0 to itself for input: 'C00001'\n",
      "[11:23:51] SMILES Parse Error: duplicated ring closure 0 bonds atom 0 to itself for input: 'C00130'\n",
      "[11:23:51] SMILES Parse Error: unclosed ring for input: 'C04734'\n",
      "[11:23:51] SMILES Parse Error: duplicated ring closure 0 bonds atom 0 to itself for input: 'C00062'\n",
      "[11:23:51] SMILES Parse Error: duplicated ring closure 0 bonds atom 0 to itself for input: 'C00011'\n",
      "[11:23:51] SMILES Parse Error: duplicated ring closure 0 bonds atom 0 to itself for input: 'C00179'\n",
      "[11:23:52] SMILES Parse Error: unclosed ring for input: 'C04442'\n",
      "[11:23:53] SMILES Parse Error: duplicated ring closure 0 bonds atom 0 to itself for input: 'C00022'\n",
      "[11:23:53] SMILES Parse Error: duplicated ring closure 0 bonds atom 0 to itself for input: 'C00118'\n",
      "[11:23:53] SMILES Parse Error: duplicated ring closure 0 bonds atom 0 to itself for input: 'C00022'\n",
      "[11:23:53] SMILES Parse Error: unclosed ring for input: 'C05946'\n",
      "[11:23:53] SMILES Parse Error: duplicated ring closure 0 bonds atom 0 to itself for input: 'C00118'\n",
      "[11:23:53] SMILES Parse Error: unclosed ring for input: 'C04442'\n",
      "[11:23:53] SMILES Parse Error: duplicated ring closure 0 bonds atom 0 to itself for input: 'C00048'\n",
      "[11:23:53] SMILES Parse Error: duplicated ring closure 0 bonds atom 0 to itself for input: 'C00345'\n",
      "[11:23:53] SMILES Parse Error: duplicated ring closure 0 bonds atom 0 to itself for input: 'C00661'\n",
      "[11:23:53] SMILES Parse Error: unclosed ring for input: 'C05946'\n",
      "[11:23:53] SMILES Parse Error: duplicated ring closure 0 bonds atom 0 to itself for input: 'C00022'\n",
      "[11:23:54] SMILES Parse Error: duplicated ring closure 0 bonds atom 0 to itself for input: 'C00048'\n",
      "[11:23:54] SMILES Parse Error: duplicated ring closure 0 bonds atom 0 to itself for input: 'C00022'\n",
      "[11:23:54] SMILES Parse Error: unclosed ring for input: 'C05946'\n",
      "[11:23:54] SMILES Parse Error: duplicated ring closure 0 bonds atom 0 to itself for input: 'C00118'\n",
      "[11:23:54] SMILES Parse Error: unclosed ring for input: 'C04442'\n",
      "[11:23:54] SMILES Parse Error: duplicated ring closure 0 bonds atom 0 to itself for input: 'C00048'\n",
      "[11:23:54] SMILES Parse Error: duplicated ring closure 0 bonds atom 0 to itself for input: 'C00345'\n",
      "[11:23:54] SMILES Parse Error: duplicated ring closure 0 bonds atom 0 to itself for input: 'C00661'\n",
      "[11:23:54] SMILES Parse Error: duplicated ring closure 0 bonds atom 0 to itself for input: 'C00117'\n",
      "[11:23:54] SMILES Parse Error: duplicated ring closure 0 bonds atom 0 to itself for input: 'C00199'\n",
      "[11:23:54] SMILES Parse Error: duplicated ring closure 0 bonds atom 0 to itself for input: 'C00020'\n",
      "[11:23:54] SMILES Parse Error: duplicated ring closure 0 bonds atom 0 to itself for input: 'C00199'\n",
      "[11:23:54] SMILES Parse Error: unclosed ring for input: 'C01112'\n",
      "[11:23:54] SMILES Parse Error: duplicated ring closure 0 bonds atom 0 to itself for input: 'C00117'\n",
      "[11:23:54] SMILES Parse Error: duplicated ring closure 0 bonds atom 0 to itself for input: 'C00025'\n",
      "[11:23:54] SMILES Parse Error: duplicated ring closure 1 bonds atom 0 to itself for input: 'C16155'\n"
     ]
    },
    {
     "name": "stdout",
     "output_type": "stream",
     "text": [
      "Failed to retrieve data. Status code: 404\n"
     ]
    },
    {
     "name": "stderr",
     "output_type": "stream",
     "text": [
      "[11:23:55] SMILES Parse Error: duplicated ring closure 0 bonds atom 0 to itself for input: 'C00026'\n",
      "[11:23:55] SMILES Parse Error: duplicated ring closure 1 bonds atom 0 to itself for input: 'C16153'\n"
     ]
    },
    {
     "name": "stdout",
     "output_type": "stream",
     "text": [
      "Failed to retrieve data. Status code: 404\n"
     ]
    },
    {
     "name": "stderr",
     "output_type": "stream",
     "text": [
      "[11:23:57] SMILES Parse Error: duplicated ring closure 0 bonds atom 0 to itself for input: 'C01019'\n",
      "[11:23:58] SMILES Parse Error: unclosed ring for input: 'C01721'\n",
      "[11:23:59] SMILES Parse Error: duplicated ring closure 0 bonds atom 0 to itself for input: 'C00002'\n",
      "[11:23:59] SMILES Parse Error: duplicated ring closure 0 bonds atom 0 to itself for input: 'C00097'\n",
      "[11:23:59] SMILES Parse Error: unclosed ring for input: 'C01639'\n"
     ]
    },
    {
     "name": "stdout",
     "output_type": "stream",
     "text": [
      "Failed to retrieve data. Status code: 404\n"
     ]
    },
    {
     "name": "stderr",
     "output_type": "stream",
     "text": [
      "[11:24:00] SMILES Parse Error: duplicated ring closure 0 bonds atom 0 to itself for input: 'C00013'\n",
      "[11:24:00] SMILES Parse Error: duplicated ring closure 0 bonds atom 0 to itself for input: 'C00020'\n",
      "[11:24:00] SMILES Parse Error: unclosed ring for input: 'C03125'\n"
     ]
    },
    {
     "name": "stdout",
     "output_type": "stream",
     "text": [
      "Failed to retrieve data. Status code: 404\n"
     ]
    },
    {
     "name": "stderr",
     "output_type": "stream",
     "text": [
      "[11:24:01] SMILES Parse Error: duplicated ring closure 0 bonds atom 0 to itself for input: 'C00002'\n",
      "[11:24:01] SMILES Parse Error: duplicated ring closure 0 bonds atom 0 to itself for input: 'C00085'\n",
      "[11:24:01] SMILES Parse Error: duplicated ring closure 0 bonds atom 0 to itself for input: 'C00008'\n",
      "[11:24:01] SMILES Parse Error: duplicated ring closure 0 bonds atom 0 to itself for input: 'C00354'\n",
      "[11:24:01] SMILES Parse Error: duplicated ring closure 0 bonds atom 0 to itself for input: 'C00197'\n",
      "[11:24:01] SMILES Parse Error: duplicated ring closure 0 bonds atom 0 to itself for input: 'C00074'\n",
      "[11:24:02] SMILES Parse Error: duplicated ring closure 0 bonds atom 0 to itself for input: 'C00075'\n",
      "[11:24:02] SMILES Parse Error: duplicated ring closure 0 bonds atom 0 to itself for input: 'C00988'\n",
      "[11:24:02] SMILES Parse Error: unclosed ring for input: 'C05382'\n",
      "[11:24:02] SMILES Parse Error: duplicated ring closure 0 bonds atom 0 to itself for input: 'C00015'\n",
      "[11:24:02] SMILES Parse Error: unclosed ring for input: 'C05378'\n",
      "[11:24:02] SMILES Parse Error: duplicated ring closure 0 bonds atom 0 to itself for input: 'C00008'\n",
      "[11:24:02] SMILES Parse Error: duplicated ring closure 0 bonds atom 0 to itself for input: 'C00158'\n",
      "[11:24:02] SMILES Parse Error: duplicated ring closure 0 bonds atom 0 to itself for input: 'C00063'\n",
      "[11:24:02] SMILES Parse Error: duplicated ring closure 0 bonds atom 0 to itself for input: 'C00447'\n",
      "[11:24:02] SMILES Parse Error: duplicated ring closure 0 bonds atom 0 to itself for input: 'C00081'\n",
      "[11:24:02] SMILES Parse Error: duplicated ring closure 0 bonds atom 0 to itself for input: 'C00085'\n",
      "[11:24:02] SMILES Parse Error: duplicated ring closure 0 bonds atom 0 to itself for input: 'C00104'\n",
      "[11:24:02] SMILES Parse Error: duplicated ring closure 0 bonds atom 0 to itself for input: 'C00009'\n",
      "[11:24:02] SMILES Parse Error: duplicated ring closure 0 bonds atom 0 to itself for input: 'C00631'\n",
      "[11:24:02] SMILES Parse Error: duplicated ring closure 0 bonds atom 0 to itself for input: 'C01097'\n",
      "[11:24:02] SMILES Parse Error: duplicated ring closure 0 bonds atom 0 to itself for input: 'C00354'\n",
      "[11:24:02] SMILES Parse Error: duplicated ring closure 0 bonds atom 0 to itself for input: 'C00002'\n",
      "[11:24:02] SMILES Parse Error: unclosed ring for input: 'C05345'\n",
      "[11:24:02] SMILES Parse Error: duplicated ring closure 1 bonds atom 0 to itself for input: 'C13199'\n"
     ]
    },
    {
     "name": "stdout",
     "output_type": "stream",
     "text": [
      "Failed to retrieve data. Status code: 404\n"
     ]
    },
    {
     "name": "stderr",
     "output_type": "stream",
     "text": [
      "[11:24:03] SMILES Parse Error: duplicated ring closure 0 bonds atom 0 to itself for input: 'C00044'\n",
      "[11:24:03] SMILES Parse Error: unclosed ring for input: 'C03785'\n",
      "[11:24:04] SMILES Parse Error: duplicated ring closure 0 bonds atom 0 to itself for input: 'C00236'\n",
      "[11:24:04] SMILES Parse Error: duplicated ring closure 0 bonds atom 0 to itself for input: 'C00112'\n",
      "[11:24:04] SMILES Parse Error: duplicated ring closure 0 bonds atom 0 to itself for input: 'C00002'\n",
      "[11:24:04] SMILES Parse Error: unclosed ring for input: 'C05345'\n",
      "[11:24:05] SMILES Parse Error: duplicated ring closure 0 bonds atom 0 to itself for input: 'C00008'\n",
      "[11:24:05] SMILES Parse Error: unclosed ring for input: 'C05378'\n",
      "[11:24:05] SMILES Parse Error: duplicated ring closure 0 bonds atom 0 to itself for input: 'C00197'\n",
      "[11:24:05] SMILES Parse Error: duplicated ring closure 0 bonds atom 0 to itself for input: 'C00074'\n",
      "[11:24:05] SMILES Parse Error: duplicated ring closure 0 bonds atom 0 to itself for input: 'C00075'\n",
      "[11:24:05] SMILES Parse Error: duplicated ring closure 0 bonds atom 0 to itself for input: 'C00988'\n",
      "[11:24:05] SMILES Parse Error: unclosed ring for input: 'C05382'\n",
      "[11:24:05] SMILES Parse Error: duplicated ring closure 0 bonds atom 0 to itself for input: 'C00015'\n",
      "[11:24:05] SMILES Parse Error: unclosed ring for input: 'C05378'\n",
      "[11:24:05] SMILES Parse Error: duplicated ring closure 0 bonds atom 0 to itself for input: 'C00008'\n",
      "[11:24:05] SMILES Parse Error: duplicated ring closure 0 bonds atom 0 to itself for input: 'C00158'\n",
      "[11:24:05] SMILES Parse Error: duplicated ring closure 0 bonds atom 0 to itself for input: 'C00063'\n",
      "[11:24:05] SMILES Parse Error: duplicated ring closure 0 bonds atom 0 to itself for input: 'C00447'\n",
      "[11:24:05] SMILES Parse Error: duplicated ring closure 0 bonds atom 0 to itself for input: 'C00081'\n",
      "[11:24:05] SMILES Parse Error: duplicated ring closure 0 bonds atom 0 to itself for input: 'C00085'\n",
      "[11:24:05] SMILES Parse Error: duplicated ring closure 0 bonds atom 0 to itself for input: 'C00104'\n",
      "[11:24:05] SMILES Parse Error: duplicated ring closure 0 bonds atom 0 to itself for input: 'C00009'\n",
      "[11:24:05] SMILES Parse Error: duplicated ring closure 0 bonds atom 0 to itself for input: 'C00631'\n",
      "[11:24:05] SMILES Parse Error: duplicated ring closure 0 bonds atom 0 to itself for input: 'C01097'\n",
      "[11:24:05] SMILES Parse Error: duplicated ring closure 0 bonds atom 0 to itself for input: 'C00354'\n",
      "[11:24:06] SMILES Parse Error: duplicated ring closure 0 bonds atom 0 to itself for input: 'C00002'\n",
      "[11:24:06] SMILES Parse Error: unclosed ring for input: 'C05345'\n",
      "[11:24:06] SMILES Parse Error: duplicated ring closure 1 bonds atom 0 to itself for input: 'C13199'\n",
      "[11:24:06] SMILES Parse Error: duplicated ring closure 0 bonds atom 0 to itself for input: 'C00044'\n",
      "[11:24:06] SMILES Parse Error: unclosed ring for input: 'C03785'\n",
      "[11:24:06] SMILES Parse Error: duplicated ring closure 0 bonds atom 0 to itself for input: 'C00236'\n",
      "[11:24:06] SMILES Parse Error: duplicated ring closure 0 bonds atom 0 to itself for input: 'C00112'\n",
      "[11:24:06] SMILES Parse Error: duplicated ring closure 0 bonds atom 0 to itself for input: 'C00063'\n",
      "[11:24:06] SMILES Parse Error: duplicated ring closure 0 bonds atom 0 to itself for input: 'C00085'\n",
      "[11:24:06] SMILES Parse Error: duplicated ring closure 0 bonds atom 0 to itself for input: 'C00112'\n",
      "[11:24:06] SMILES Parse Error: duplicated ring closure 0 bonds atom 0 to itself for input: 'C00354'\n",
      "[11:24:06] SMILES Parse Error: duplicated ring closure 0 bonds atom 0 to itself for input: 'C00197'\n",
      "[11:24:06] SMILES Parse Error: duplicated ring closure 0 bonds atom 0 to itself for input: 'C00074'\n",
      "[11:24:06] SMILES Parse Error: duplicated ring closure 0 bonds atom 0 to itself for input: 'C00075'\n",
      "[11:24:06] SMILES Parse Error: duplicated ring closure 0 bonds atom 0 to itself for input: 'C00988'\n",
      "[11:24:06] SMILES Parse Error: unclosed ring for input: 'C05382'\n",
      "[11:24:06] SMILES Parse Error: duplicated ring closure 0 bonds atom 0 to itself for input: 'C00015'\n",
      "[11:24:06] SMILES Parse Error: unclosed ring for input: 'C05378'\n",
      "[11:24:06] SMILES Parse Error: duplicated ring closure 0 bonds atom 0 to itself for input: 'C00008'\n",
      "[11:24:07] SMILES Parse Error: duplicated ring closure 0 bonds atom 0 to itself for input: 'C00158'\n",
      "[11:24:07] SMILES Parse Error: duplicated ring closure 0 bonds atom 0 to itself for input: 'C00063'\n",
      "[11:24:07] SMILES Parse Error: duplicated ring closure 0 bonds atom 0 to itself for input: 'C00447'\n",
      "[11:24:07] SMILES Parse Error: duplicated ring closure 0 bonds atom 0 to itself for input: 'C00081'\n",
      "[11:24:07] SMILES Parse Error: duplicated ring closure 0 bonds atom 0 to itself for input: 'C00085'\n",
      "[11:24:07] SMILES Parse Error: duplicated ring closure 0 bonds atom 0 to itself for input: 'C00104'\n",
      "[11:24:07] SMILES Parse Error: duplicated ring closure 0 bonds atom 0 to itself for input: 'C00009'\n",
      "[11:24:07] SMILES Parse Error: duplicated ring closure 0 bonds atom 0 to itself for input: 'C00631'\n",
      "[11:24:07] SMILES Parse Error: duplicated ring closure 0 bonds atom 0 to itself for input: 'C01097'\n",
      "[11:24:07] SMILES Parse Error: duplicated ring closure 0 bonds atom 0 to itself for input: 'C00354'\n",
      "[11:24:07] SMILES Parse Error: duplicated ring closure 0 bonds atom 0 to itself for input: 'C00002'\n",
      "[11:24:07] SMILES Parse Error: unclosed ring for input: 'C05345'\n",
      "[11:24:07] SMILES Parse Error: duplicated ring closure 1 bonds atom 0 to itself for input: 'C13199'\n",
      "[11:24:07] SMILES Parse Error: duplicated ring closure 0 bonds atom 0 to itself for input: 'C00044'\n",
      "[11:24:07] SMILES Parse Error: unclosed ring for input: 'C03785'\n",
      "[11:24:07] SMILES Parse Error: duplicated ring closure 0 bonds atom 0 to itself for input: 'C00236'\n",
      "[11:24:07] SMILES Parse Error: duplicated ring closure 0 bonds atom 0 to itself for input: 'C00112'\n",
      "[11:24:07] SMILES Parse Error: duplicated ring closure 0 bonds atom 0 to itself for input: 'C00075'\n",
      "[11:24:07] SMILES Parse Error: duplicated ring closure 0 bonds atom 0 to itself for input: 'C00085'\n",
      "[11:24:07] SMILES Parse Error: duplicated ring closure 0 bonds atom 0 to itself for input: 'C00015'\n",
      "[11:24:07] SMILES Parse Error: duplicated ring closure 0 bonds atom 0 to itself for input: 'C00354'\n",
      "[11:24:07] SMILES Parse Error: duplicated ring closure 0 bonds atom 0 to itself for input: 'C00197'\n",
      "[11:24:07] SMILES Parse Error: duplicated ring closure 0 bonds atom 0 to itself for input: 'C00074'\n",
      "[11:24:07] SMILES Parse Error: duplicated ring closure 0 bonds atom 0 to itself for input: 'C00075'\n",
      "[11:24:08] SMILES Parse Error: duplicated ring closure 0 bonds atom 0 to itself for input: 'C00988'\n",
      "[11:24:08] SMILES Parse Error: unclosed ring for input: 'C05382'\n",
      "[11:24:08] SMILES Parse Error: duplicated ring closure 0 bonds atom 0 to itself for input: 'C00015'\n",
      "[11:24:08] SMILES Parse Error: unclosed ring for input: 'C05378'\n",
      "[11:24:08] SMILES Parse Error: duplicated ring closure 0 bonds atom 0 to itself for input: 'C00008'\n",
      "[11:24:08] SMILES Parse Error: duplicated ring closure 0 bonds atom 0 to itself for input: 'C00158'\n",
      "[11:24:08] SMILES Parse Error: duplicated ring closure 0 bonds atom 0 to itself for input: 'C00063'\n",
      "[11:24:08] SMILES Parse Error: duplicated ring closure 0 bonds atom 0 to itself for input: 'C00447'\n",
      "[11:24:08] SMILES Parse Error: duplicated ring closure 0 bonds atom 0 to itself for input: 'C00081'\n",
      "[11:24:08] SMILES Parse Error: duplicated ring closure 0 bonds atom 0 to itself for input: 'C00085'\n",
      "[11:24:08] SMILES Parse Error: duplicated ring closure 0 bonds atom 0 to itself for input: 'C00104'\n",
      "[11:24:08] SMILES Parse Error: duplicated ring closure 0 bonds atom 0 to itself for input: 'C00009'\n",
      "[11:24:08] SMILES Parse Error: duplicated ring closure 0 bonds atom 0 to itself for input: 'C00631'\n",
      "[11:24:08] SMILES Parse Error: duplicated ring closure 0 bonds atom 0 to itself for input: 'C01097'\n",
      "[11:24:08] SMILES Parse Error: duplicated ring closure 0 bonds atom 0 to itself for input: 'C00354'\n",
      "[11:24:08] SMILES Parse Error: duplicated ring closure 0 bonds atom 0 to itself for input: 'C00002'\n",
      "[11:24:08] SMILES Parse Error: unclosed ring for input: 'C05345'\n",
      "[11:24:08] SMILES Parse Error: duplicated ring closure 1 bonds atom 0 to itself for input: 'C13199'\n",
      "[11:24:08] SMILES Parse Error: duplicated ring closure 0 bonds atom 0 to itself for input: 'C00044'\n",
      "[11:24:08] SMILES Parse Error: unclosed ring for input: 'C03785'\n",
      "[11:24:08] SMILES Parse Error: duplicated ring closure 0 bonds atom 0 to itself for input: 'C00236'\n",
      "[11:24:08] SMILES Parse Error: duplicated ring closure 0 bonds atom 0 to itself for input: 'C00112'\n",
      "[11:24:08] SMILES Parse Error: duplicated ring closure 0 bonds atom 0 to itself for input: 'C00081'\n",
      "[11:24:08] SMILES Parse Error: duplicated ring closure 0 bonds atom 0 to itself for input: 'C00085'\n",
      "[11:24:09] SMILES Parse Error: duplicated ring closure 0 bonds atom 0 to itself for input: 'C00104'\n",
      "[11:24:09] SMILES Parse Error: duplicated ring closure 0 bonds atom 0 to itself for input: 'C00354'\n",
      "[11:24:09] SMILES Parse Error: duplicated ring closure 0 bonds atom 0 to itself for input: 'C00197'\n",
      "[11:24:09] SMILES Parse Error: duplicated ring closure 0 bonds atom 0 to itself for input: 'C00074'\n",
      "[11:24:09] SMILES Parse Error: duplicated ring closure 0 bonds atom 0 to itself for input: 'C00075'\n",
      "[11:24:09] SMILES Parse Error: duplicated ring closure 0 bonds atom 0 to itself for input: 'C00988'\n",
      "[11:24:09] SMILES Parse Error: unclosed ring for input: 'C05382'\n",
      "[11:24:09] SMILES Parse Error: duplicated ring closure 0 bonds atom 0 to itself for input: 'C00015'\n",
      "[11:24:09] SMILES Parse Error: unclosed ring for input: 'C05378'\n",
      "[11:24:09] SMILES Parse Error: duplicated ring closure 0 bonds atom 0 to itself for input: 'C00008'\n",
      "[11:24:09] SMILES Parse Error: duplicated ring closure 0 bonds atom 0 to itself for input: 'C00158'\n",
      "[11:24:09] SMILES Parse Error: duplicated ring closure 0 bonds atom 0 to itself for input: 'C00063'\n",
      "[11:24:09] SMILES Parse Error: duplicated ring closure 0 bonds atom 0 to itself for input: 'C00447'\n",
      "[11:24:09] SMILES Parse Error: duplicated ring closure 0 bonds atom 0 to itself for input: 'C00081'\n",
      "[11:24:09] SMILES Parse Error: duplicated ring closure 0 bonds atom 0 to itself for input: 'C00085'\n",
      "[11:24:09] SMILES Parse Error: duplicated ring closure 0 bonds atom 0 to itself for input: 'C00104'\n",
      "[11:24:09] SMILES Parse Error: duplicated ring closure 0 bonds atom 0 to itself for input: 'C00009'\n",
      "[11:24:09] SMILES Parse Error: duplicated ring closure 0 bonds atom 0 to itself for input: 'C00631'\n",
      "[11:24:09] SMILES Parse Error: duplicated ring closure 0 bonds atom 0 to itself for input: 'C01097'\n",
      "[11:24:09] SMILES Parse Error: duplicated ring closure 0 bonds atom 0 to itself for input: 'C00354'\n",
      "[11:24:09] SMILES Parse Error: duplicated ring closure 0 bonds atom 0 to itself for input: 'C00002'\n",
      "[11:24:09] SMILES Parse Error: unclosed ring for input: 'C05345'\n",
      "[11:24:09] SMILES Parse Error: duplicated ring closure 1 bonds atom 0 to itself for input: 'C13199'\n",
      "[11:24:09] SMILES Parse Error: duplicated ring closure 0 bonds atom 0 to itself for input: 'C00044'\n",
      "[11:24:09] SMILES Parse Error: unclosed ring for input: 'C03785'\n",
      "[11:24:10] SMILES Parse Error: duplicated ring closure 0 bonds atom 0 to itself for input: 'C00236'\n",
      "[11:24:10] SMILES Parse Error: duplicated ring closure 0 bonds atom 0 to itself for input: 'C00112'\n",
      "[11:24:10] SMILES Parse Error: duplicated ring closure 0 bonds atom 0 to itself for input: 'C00002'\n",
      "[11:24:10] SMILES Parse Error: unclosed ring for input: 'C05382'\n",
      "[11:24:10] SMILES Parse Error: duplicated ring closure 0 bonds atom 0 to itself for input: 'C00008'\n",
      "[11:24:10] SMILES Parse Error: duplicated ring closure 0 bonds atom 0 to itself for input: 'C00447'\n",
      "[11:24:10] SMILES Parse Error: duplicated ring closure 0 bonds atom 0 to itself for input: 'C00197'\n",
      "[11:24:10] SMILES Parse Error: duplicated ring closure 0 bonds atom 0 to itself for input: 'C00074'\n",
      "[11:24:10] SMILES Parse Error: duplicated ring closure 0 bonds atom 0 to itself for input: 'C00075'\n",
      "[11:24:10] SMILES Parse Error: duplicated ring closure 0 bonds atom 0 to itself for input: 'C00988'\n",
      "[11:24:10] SMILES Parse Error: unclosed ring for input: 'C05382'\n",
      "[11:24:10] SMILES Parse Error: duplicated ring closure 0 bonds atom 0 to itself for input: 'C00015'\n",
      "[11:24:10] SMILES Parse Error: unclosed ring for input: 'C05378'\n",
      "[11:24:10] SMILES Parse Error: duplicated ring closure 0 bonds atom 0 to itself for input: 'C00008'\n",
      "[11:24:10] SMILES Parse Error: duplicated ring closure 0 bonds atom 0 to itself for input: 'C00158'\n",
      "[11:24:10] SMILES Parse Error: duplicated ring closure 0 bonds atom 0 to itself for input: 'C00063'\n",
      "[11:24:10] SMILES Parse Error: duplicated ring closure 0 bonds atom 0 to itself for input: 'C00447'\n",
      "[11:24:10] SMILES Parse Error: duplicated ring closure 0 bonds atom 0 to itself for input: 'C00081'\n",
      "[11:24:10] SMILES Parse Error: duplicated ring closure 0 bonds atom 0 to itself for input: 'C00085'\n",
      "[11:24:10] SMILES Parse Error: duplicated ring closure 0 bonds atom 0 to itself for input: 'C00104'\n",
      "[11:24:10] SMILES Parse Error: duplicated ring closure 0 bonds atom 0 to itself for input: 'C00009'\n",
      "[11:24:11] SMILES Parse Error: duplicated ring closure 0 bonds atom 0 to itself for input: 'C00631'\n",
      "[11:24:11] SMILES Parse Error: duplicated ring closure 0 bonds atom 0 to itself for input: 'C01097'\n",
      "[11:24:11] SMILES Parse Error: duplicated ring closure 0 bonds atom 0 to itself for input: 'C00354'\n",
      "[11:24:11] SMILES Parse Error: duplicated ring closure 0 bonds atom 0 to itself for input: 'C00002'\n",
      "[11:24:11] SMILES Parse Error: unclosed ring for input: 'C05345'\n",
      "[11:24:11] SMILES Parse Error: duplicated ring closure 1 bonds atom 0 to itself for input: 'C13199'\n",
      "[11:24:11] SMILES Parse Error: duplicated ring closure 0 bonds atom 0 to itself for input: 'C00044'\n",
      "[11:24:11] SMILES Parse Error: unclosed ring for input: 'C03785'\n",
      "[11:24:11] SMILES Parse Error: duplicated ring closure 0 bonds atom 0 to itself for input: 'C00236'\n",
      "[11:24:11] SMILES Parse Error: duplicated ring closure 0 bonds atom 0 to itself for input: 'C00112'\n",
      "[11:24:11] SMILES Parse Error: duplicated ring closure 0 bonds atom 0 to itself for input: 'C00002'\n",
      "[11:24:11] SMILES Parse Error: duplicated ring closure 0 bonds atom 0 to itself for input: 'C01097'\n",
      "[11:24:11] SMILES Parse Error: duplicated ring closure 0 bonds atom 0 to itself for input: 'C00008'\n",
      "[11:24:11] SMILES Parse Error: unclosed ring for input: 'C03785'\n",
      "[11:24:11] SMILES Parse Error: duplicated ring closure 0 bonds atom 0 to itself for input: 'C00197'\n",
      "[11:24:11] SMILES Parse Error: duplicated ring closure 0 bonds atom 0 to itself for input: 'C00074'\n",
      "[11:24:11] SMILES Parse Error: duplicated ring closure 0 bonds atom 0 to itself for input: 'C00075'\n",
      "[11:24:11] SMILES Parse Error: duplicated ring closure 0 bonds atom 0 to itself for input: 'C00988'\n",
      "[11:24:11] SMILES Parse Error: unclosed ring for input: 'C05382'\n",
      "[11:24:11] SMILES Parse Error: duplicated ring closure 0 bonds atom 0 to itself for input: 'C00015'\n",
      "[11:24:11] SMILES Parse Error: unclosed ring for input: 'C05378'\n",
      "[11:24:11] SMILES Parse Error: duplicated ring closure 0 bonds atom 0 to itself for input: 'C00008'\n",
      "[11:24:11] SMILES Parse Error: duplicated ring closure 0 bonds atom 0 to itself for input: 'C00158'\n",
      "[11:24:11] SMILES Parse Error: duplicated ring closure 0 bonds atom 0 to itself for input: 'C00063'\n",
      "[11:24:11] SMILES Parse Error: duplicated ring closure 0 bonds atom 0 to itself for input: 'C00447'\n",
      "[11:24:11] SMILES Parse Error: duplicated ring closure 0 bonds atom 0 to itself for input: 'C00081'\n",
      "[11:24:12] SMILES Parse Error: duplicated ring closure 0 bonds atom 0 to itself for input: 'C00085'\n",
      "[11:24:12] SMILES Parse Error: duplicated ring closure 0 bonds atom 0 to itself for input: 'C00104'\n",
      "[11:24:12] SMILES Parse Error: duplicated ring closure 0 bonds atom 0 to itself for input: 'C00009'\n",
      "[11:24:12] SMILES Parse Error: duplicated ring closure 0 bonds atom 0 to itself for input: 'C00631'\n",
      "[11:24:12] SMILES Parse Error: duplicated ring closure 0 bonds atom 0 to itself for input: 'C01097'\n",
      "[11:24:12] SMILES Parse Error: duplicated ring closure 0 bonds atom 0 to itself for input: 'C00354'\n",
      "[11:24:12] SMILES Parse Error: duplicated ring closure 0 bonds atom 0 to itself for input: 'C00002'\n",
      "[11:24:12] SMILES Parse Error: unclosed ring for input: 'C05345'\n",
      "[11:24:12] SMILES Parse Error: duplicated ring closure 1 bonds atom 0 to itself for input: 'C13199'\n",
      "[11:24:12] SMILES Parse Error: duplicated ring closure 0 bonds atom 0 to itself for input: 'C00044'\n",
      "[11:24:12] SMILES Parse Error: unclosed ring for input: 'C03785'\n",
      "[11:24:12] SMILES Parse Error: duplicated ring closure 0 bonds atom 0 to itself for input: 'C00236'\n",
      "[11:24:12] SMILES Parse Error: duplicated ring closure 0 bonds atom 0 to itself for input: 'C00112'\n",
      "[11:24:12] SMILES Parse Error: duplicated ring closure 0 bonds atom 0 to itself for input: 'C00063'\n",
      "[11:24:12] SMILES Parse Error: duplicated ring closure 0 bonds atom 0 to itself for input: 'C01097'\n",
      "[11:24:12] SMILES Parse Error: duplicated ring closure 0 bonds atom 0 to itself for input: 'C00112'\n",
      "[11:24:12] SMILES Parse Error: unclosed ring for input: 'C03785'\n",
      "[11:24:12] SMILES Parse Error: duplicated ring closure 0 bonds atom 0 to itself for input: 'C00197'\n",
      "[11:24:12] SMILES Parse Error: duplicated ring closure 0 bonds atom 0 to itself for input: 'C00074'\n",
      "[11:24:12] SMILES Parse Error: duplicated ring closure 0 bonds atom 0 to itself for input: 'C00075'\n",
      "[11:24:12] SMILES Parse Error: duplicated ring closure 0 bonds atom 0 to itself for input: 'C00988'\n",
      "[11:24:12] SMILES Parse Error: unclosed ring for input: 'C05382'\n",
      "[11:24:12] SMILES Parse Error: duplicated ring closure 0 bonds atom 0 to itself for input: 'C00015'\n",
      "[11:24:13] SMILES Parse Error: unclosed ring for input: 'C05378'\n",
      "[11:24:13] SMILES Parse Error: duplicated ring closure 0 bonds atom 0 to itself for input: 'C00008'\n",
      "[11:24:13] SMILES Parse Error: duplicated ring closure 0 bonds atom 0 to itself for input: 'C00158'\n",
      "[11:24:13] SMILES Parse Error: duplicated ring closure 0 bonds atom 0 to itself for input: 'C00063'\n",
      "[11:24:13] SMILES Parse Error: duplicated ring closure 0 bonds atom 0 to itself for input: 'C00447'\n",
      "[11:24:13] SMILES Parse Error: duplicated ring closure 0 bonds atom 0 to itself for input: 'C00081'\n",
      "[11:24:13] SMILES Parse Error: duplicated ring closure 0 bonds atom 0 to itself for input: 'C00085'\n",
      "[11:24:13] SMILES Parse Error: duplicated ring closure 0 bonds atom 0 to itself for input: 'C00104'\n",
      "[11:24:13] SMILES Parse Error: duplicated ring closure 0 bonds atom 0 to itself for input: 'C00009'\n",
      "[11:24:13] SMILES Parse Error: duplicated ring closure 0 bonds atom 0 to itself for input: 'C00631'\n",
      "[11:24:13] SMILES Parse Error: duplicated ring closure 0 bonds atom 0 to itself for input: 'C01097'\n",
      "[11:24:13] SMILES Parse Error: duplicated ring closure 0 bonds atom 0 to itself for input: 'C00354'\n",
      "[11:24:13] SMILES Parse Error: duplicated ring closure 0 bonds atom 0 to itself for input: 'C00002'\n",
      "[11:24:13] SMILES Parse Error: unclosed ring for input: 'C05345'\n",
      "[11:24:13] SMILES Parse Error: duplicated ring closure 1 bonds atom 0 to itself for input: 'C13199'\n",
      "[11:24:13] SMILES Parse Error: duplicated ring closure 0 bonds atom 0 to itself for input: 'C00044'\n",
      "[11:24:13] SMILES Parse Error: unclosed ring for input: 'C03785'\n",
      "[11:24:13] SMILES Parse Error: duplicated ring closure 0 bonds atom 0 to itself for input: 'C00236'\n",
      "[11:24:13] SMILES Parse Error: duplicated ring closure 0 bonds atom 0 to itself for input: 'C00112'\n",
      "[11:24:13] SMILES Parse Error: duplicated ring closure 0 bonds atom 0 to itself for input: 'C00075'\n",
      "[11:24:13] SMILES Parse Error: duplicated ring closure 0 bonds atom 0 to itself for input: 'C01097'\n",
      "[11:24:13] SMILES Parse Error: duplicated ring closure 0 bonds atom 0 to itself for input: 'C00015'\n",
      "[11:24:13] SMILES Parse Error: unclosed ring for input: 'C03785'\n",
      "[11:24:13] SMILES Parse Error: duplicated ring closure 0 bonds atom 0 to itself for input: 'C00197'\n",
      "[11:24:14] SMILES Parse Error: duplicated ring closure 0 bonds atom 0 to itself for input: 'C00074'\n",
      "[11:24:14] SMILES Parse Error: duplicated ring closure 0 bonds atom 0 to itself for input: 'C00075'\n",
      "[11:24:14] SMILES Parse Error: duplicated ring closure 0 bonds atom 0 to itself for input: 'C00988'\n",
      "[11:24:14] SMILES Parse Error: unclosed ring for input: 'C05382'\n",
      "[11:24:14] SMILES Parse Error: duplicated ring closure 0 bonds atom 0 to itself for input: 'C00015'\n",
      "[11:24:14] SMILES Parse Error: unclosed ring for input: 'C05378'\n",
      "[11:24:14] SMILES Parse Error: duplicated ring closure 0 bonds atom 0 to itself for input: 'C00008'\n",
      "[11:24:14] SMILES Parse Error: duplicated ring closure 0 bonds atom 0 to itself for input: 'C00158'\n",
      "[11:24:14] SMILES Parse Error: duplicated ring closure 0 bonds atom 0 to itself for input: 'C00063'\n",
      "[11:24:14] SMILES Parse Error: duplicated ring closure 0 bonds atom 0 to itself for input: 'C00447'\n",
      "[11:24:14] SMILES Parse Error: duplicated ring closure 0 bonds atom 0 to itself for input: 'C00081'\n",
      "[11:24:14] SMILES Parse Error: duplicated ring closure 0 bonds atom 0 to itself for input: 'C00085'\n",
      "[11:24:14] SMILES Parse Error: duplicated ring closure 0 bonds atom 0 to itself for input: 'C00104'\n",
      "[11:24:14] SMILES Parse Error: duplicated ring closure 0 bonds atom 0 to itself for input: 'C00009'\n",
      "[11:24:14] SMILES Parse Error: duplicated ring closure 0 bonds atom 0 to itself for input: 'C00631'\n",
      "[11:24:14] SMILES Parse Error: duplicated ring closure 0 bonds atom 0 to itself for input: 'C01097'\n",
      "[11:24:14] SMILES Parse Error: duplicated ring closure 0 bonds atom 0 to itself for input: 'C00354'\n",
      "[11:24:14] SMILES Parse Error: duplicated ring closure 0 bonds atom 0 to itself for input: 'C00002'\n",
      "[11:24:14] SMILES Parse Error: unclosed ring for input: 'C05345'\n",
      "[11:24:14] SMILES Parse Error: duplicated ring closure 1 bonds atom 0 to itself for input: 'C13199'\n",
      "[11:24:14] SMILES Parse Error: duplicated ring closure 0 bonds atom 0 to itself for input: 'C00044'\n",
      "[11:24:14] SMILES Parse Error: unclosed ring for input: 'C03785'\n",
      "[11:24:15] SMILES Parse Error: duplicated ring closure 0 bonds atom 0 to itself for input: 'C00236'\n",
      "[11:24:15] SMILES Parse Error: duplicated ring closure 0 bonds atom 0 to itself for input: 'C00112'\n",
      "[11:24:15] SMILES Parse Error: duplicated ring closure 0 bonds atom 0 to itself for input: 'C00081'\n",
      "[11:24:15] SMILES Parse Error: duplicated ring closure 0 bonds atom 0 to itself for input: 'C01097'\n",
      "[11:24:15] SMILES Parse Error: duplicated ring closure 0 bonds atom 0 to itself for input: 'C00104'\n",
      "[11:24:15] SMILES Parse Error: unclosed ring for input: 'C03785'\n",
      "[11:24:15] SMILES Parse Error: duplicated ring closure 0 bonds atom 0 to itself for input: 'C00197'\n",
      "[11:24:15] SMILES Parse Error: duplicated ring closure 0 bonds atom 0 to itself for input: 'C00074'\n",
      "[11:24:15] SMILES Parse Error: duplicated ring closure 0 bonds atom 0 to itself for input: 'C00075'\n",
      "[11:24:15] SMILES Parse Error: duplicated ring closure 0 bonds atom 0 to itself for input: 'C00988'\n",
      "[11:24:15] SMILES Parse Error: unclosed ring for input: 'C05382'\n",
      "[11:24:15] SMILES Parse Error: duplicated ring closure 0 bonds atom 0 to itself for input: 'C00015'\n",
      "[11:24:15] SMILES Parse Error: unclosed ring for input: 'C05378'\n",
      "[11:24:15] SMILES Parse Error: duplicated ring closure 0 bonds atom 0 to itself for input: 'C00008'\n",
      "[11:24:15] SMILES Parse Error: duplicated ring closure 0 bonds atom 0 to itself for input: 'C00158'\n",
      "[11:24:15] SMILES Parse Error: duplicated ring closure 0 bonds atom 0 to itself for input: 'C00063'\n",
      "[11:24:15] SMILES Parse Error: duplicated ring closure 0 bonds atom 0 to itself for input: 'C00447'\n",
      "[11:24:15] SMILES Parse Error: duplicated ring closure 0 bonds atom 0 to itself for input: 'C00081'\n",
      "[11:24:15] SMILES Parse Error: duplicated ring closure 0 bonds atom 0 to itself for input: 'C00085'\n",
      "[11:24:15] SMILES Parse Error: duplicated ring closure 0 bonds atom 0 to itself for input: 'C00104'\n",
      "[11:24:15] SMILES Parse Error: duplicated ring closure 0 bonds atom 0 to itself for input: 'C00009'\n",
      "[11:24:15] SMILES Parse Error: duplicated ring closure 0 bonds atom 0 to itself for input: 'C00631'\n",
      "[11:24:15] SMILES Parse Error: duplicated ring closure 0 bonds atom 0 to itself for input: 'C01097'\n",
      "[11:24:15] SMILES Parse Error: duplicated ring closure 0 bonds atom 0 to itself for input: 'C00354'\n",
      "[11:24:16] SMILES Parse Error: duplicated ring closure 0 bonds atom 0 to itself for input: 'C00002'\n",
      "[11:24:16] SMILES Parse Error: unclosed ring for input: 'C05345'\n",
      "[11:24:16] SMILES Parse Error: duplicated ring closure 1 bonds atom 0 to itself for input: 'C13199'\n",
      "[11:24:16] SMILES Parse Error: duplicated ring closure 0 bonds atom 0 to itself for input: 'C00044'\n",
      "[11:24:16] SMILES Parse Error: unclosed ring for input: 'C03785'\n",
      "[11:24:16] SMILES Parse Error: duplicated ring closure 0 bonds atom 0 to itself for input: 'C00236'\n",
      "[11:24:16] SMILES Parse Error: duplicated ring closure 0 bonds atom 0 to itself for input: 'C00112'\n",
      "[11:24:16] SMILES Parse Error: unclosed ring for input: 'C03794'\n",
      "[11:24:16] SMILES Parse Error: duplicated ring closure 0 bonds atom 0 to itself for input: 'C00020'\n",
      "[11:24:16] SMILES Parse Error: duplicated ring closure 0 bonds atom 0 to itself for input: 'C00122'\n",
      "[11:24:16] SMILES Parse Error: unclosed ring for input: 'C04823'\n",
      "[11:24:17] SMILES Parse Error: duplicated ring closure 0 bonds atom 0 to itself for input: 'C00122'\n",
      "[11:24:17] SMILES Parse Error: unclosed ring for input: 'C04677'\n",
      "[11:24:17] SMILES Parse Error: duplicated ring closure 0 bonds atom 0 to itself for input: 'C00001'\n",
      "[11:24:17] SMILES Parse Error: duplicated ring closure 0 bonds atom 0 to itself for input: 'C00234'\n",
      "[11:24:17] SMILES Parse Error: duplicated ring closure 0 bonds atom 0 to itself for input: 'C00058'\n",
      "[11:24:18] SMILES Parse Error: duplicated ring closure 0 bonds atom 0 to itself for input: 'C00101'\n",
      "[11:24:18] SMILES Parse Error: duplicated ring closure 0 bonds atom 0 to itself for input: 'C00430'\n",
      "[11:24:18] SMILES Parse Error: duplicated ring closure 0 bonds atom 0 to itself for input: 'C00001'\n",
      "[11:24:18] SMILES Parse Error: duplicated ring closure 0 bonds atom 0 to itself for input: 'C00931'\n",
      "[11:24:19] SMILES Parse Error: duplicated ring closure 0 bonds atom 0 to itself for input: 'C00001'\n",
      "[11:24:19] SMILES Parse Error: unclosed ring for input: 'C15585'\n",
      "[11:24:20] SMILES Parse Error: duplicated ring closure 0 bonds atom 0 to itself for input: 'C00009'\n",
      "[11:24:20] SMILES Parse Error: duplicated ring closure 0 bonds atom 0 to itself for input: 'C00137'\n",
      "[11:24:20] SMILES Parse Error: duplicated ring closure 0 bonds atom 0 to itself for input: 'C00001'\n",
      "[11:24:20] SMILES Parse Error: unclosed ring for input: 'C01177'\n",
      "[11:24:21] SMILES Parse Error: duplicated ring closure 0 bonds atom 0 to itself for input: 'C00009'\n",
      "[11:24:21] SMILES Parse Error: duplicated ring closure 0 bonds atom 0 to itself for input: 'C00137'\n",
      "[11:24:21] SMILES Parse Error: duplicated ring closure 0 bonds atom 0 to itself for input: 'C00001'\n",
      "[11:24:21] SMILES Parse Error: unclosed ring for input: 'C03546'\n",
      "[11:24:22] SMILES Parse Error: duplicated ring closure 0 bonds atom 0 to itself for input: 'C00009'\n",
      "[11:24:22] SMILES Parse Error: duplicated ring closure 0 bonds atom 0 to itself for input: 'C00137'\n",
      "[11:24:22] SMILES Parse Error: duplicated ring closure 0 bonds atom 0 to itself for input: 'C00001'\n",
      "[11:24:22] SMILES Parse Error: duplicated ring closure 0 bonds atom 0 to itself for input: 'C04006'\n",
      "[11:24:23] SMILES Parse Error: duplicated ring closure 0 bonds atom 0 to itself for input: 'C00009'\n",
      "[11:24:23] SMILES Parse Error: duplicated ring closure 0 bonds atom 0 to itself for input: 'C00137'\n",
      "[11:24:23] SMILES Parse Error: duplicated ring closure 0 bonds atom 0 to itself for input: 'C00311'\n",
      "[11:24:23] SMILES Parse Error: duplicated ring closure 0 bonds atom 0 to itself for input: 'C00042'\n",
      "[11:24:23] SMILES Parse Error: duplicated ring closure 0 bonds atom 0 to itself for input: 'C00048'\n",
      "[11:24:24] SMILES Parse Error: duplicated ring closure 0 bonds atom 0 to itself for input: 'C00197'\n",
      "[11:24:24] SMILES Parse Error: unclosed ring for input: 'C05669'\n",
      "[11:24:25] SMILES Parse Error: duplicated ring closure 0 bonds atom 0 to itself for input: 'C07600'\n",
      "[11:24:26] SMILES Parse Error: duplicated ring closure 0 bonds atom 0 to itself for input: 'C00149'\n",
      "[11:24:26] SMILES Parse Error: duplicated ring closure 0 bonds atom 0 to itself for input: 'C00074'\n",
      "[11:24:26] SMILES Parse Error: duplicated ring closure 0 bonds atom 0 to itself for input: 'C00042'\n",
      "[11:24:26] SMILES Parse Error: duplicated ring closure 0 bonds atom 0 to itself for input: 'C00311'\n",
      "[11:24:26] SMILES Parse Error: duplicated ring closure 0 bonds atom 0 to itself for input: 'C00490'\n",
      "[11:24:26] SMILES Parse Error: duplicated ring closure 0 bonds atom 0 to itself for input: 'C00160'\n",
      "[11:24:27] SMILES Parse Error: duplicated ring closure 0 bonds atom 0 to itself for input: 'C00048'\n",
      "[11:24:27] SMILES Parse Error: duplicated ring closure 0 bonds atom 0 to itself for input: 'C03071'\n",
      "[11:24:28] SMILES Parse Error: duplicated ring closure 0 bonds atom 0 to itself for input: 'C00698'\n",
      "[11:24:29] SMILES Parse Error: duplicated ring closure 0 bonds atom 0 to itself for input: 'C00417'\n",
      "[11:24:29] SMILES Parse Error: duplicated ring closure 0 bonds atom 0 to itself for input: 'C02170'\n",
      "[11:24:30] SMILES Parse Error: duplicated ring closure 0 bonds atom 0 to itself for input: 'C00383'\n",
      "[11:24:31] SMILES Parse Error: unclosed ring for input: 'C02287'\n",
      "[11:24:32] SMILES Parse Error: duplicated ring closure 0 bonds atom 0 to itself for input: 'C00026'\n",
      "[11:24:32] SMILES Parse Error: unclosed ring for input: 'C01327'\n",
      "[11:24:33] SMILES Parse Error: duplicated ring closure 0 bonds atom 0 to itself for input: 'C00209'\n",
      "[11:24:33] SMILES Parse Error: duplicated ring closure 0 bonds atom 0 to itself for input: 'C00042'\n",
      "[11:24:33] SMILES Parse Error: duplicated ring closure 0 bonds atom 0 to itself for input: 'C00399'\n",
      "[11:24:34] SMILES Parse Error: duplicated ring closure 0 bonds atom 0 to itself for input: 'C00122'\n",
      "[11:24:34] SMILES Parse Error: duplicated ring closure 0 bonds atom 0 to itself for input: 'C00390'\n",
      "[11:24:35] SMILES Parse Error: duplicated ring closure 0 bonds atom 0 to itself for input: 'C00036'\n",
      "[11:24:35] SMILES Parse Error: duplicated ring closure 0 bonds atom 0 to itself for input: 'C00042'\n",
      "[11:24:35] SMILES Parse Error: unclosed ring for input: 'C02575'\n",
      "[11:24:36] SMILES Parse Error: duplicated ring closure 0 bonds atom 0 to itself for input: 'C00390'\n",
      "[11:24:36] SMILES Parse Error: unclosed ring for input: 'C04284'\n",
      "[11:24:36] SMILES Parse Error: duplicated ring closure 0 bonds atom 0 to itself for input: 'C00122'\n",
      "[11:24:36] SMILES Parse Error: duplicated ring closure 0 bonds atom 0 to itself for input: 'C00383'\n",
      "[11:24:37] SMILES Parse Error: duplicated ring closure 0 bonds atom 0 to itself for input: 'C00399'\n",
      "[11:24:37] SMILES Parse Error: duplicated ring closure 0 bonds atom 0 to itself for input: 'C00620'\n",
      "[11:24:37] SMILES Parse Error: duplicated ring closure 0 bonds atom 0 to itself for input: 'C00117'\n",
      "[11:24:37] SMILES Parse Error: duplicated ring closure 0 bonds atom 0 to itself for input: 'C00672'\n",
      "[11:24:37] SMILES Parse Error: duplicated ring closure 0 bonds atom 0 to itself for input: 'C00673'\n",
      "[11:24:38] SMILES Parse Error: duplicated ring closure 0 bonds atom 0 to itself for input: 'C00842'\n",
      "[11:24:39] SMILES Parse Error: duplicated ring closure 0 bonds atom 0 to itself for input: 'C00001'\n",
      "[11:24:39] SMILES Parse Error: unclosed ring for input: 'C11907'\n"
     ]
    },
    {
     "name": "stdout",
     "output_type": "stream",
     "text": [
      "Failed to retrieve data. Status code: 404\n"
     ]
    },
    {
     "name": "stderr",
     "output_type": "stream",
     "text": [
      "[11:24:40] SMILES Parse Error: duplicated ring closure 0 bonds atom 0 to itself for input: 'C00006'\n",
      "[11:24:40] SMILES Parse Error: unclosed ring for input: 'C01271'\n"
     ]
    },
    {
     "name": "stdout",
     "output_type": "stream",
     "text": [
      "Failed to retrieve data. Status code: 404\n"
     ]
    },
    {
     "name": "stderr",
     "output_type": "stream",
     "text": [
      "[11:24:40] SMILES Parse Error: duplicated ring closure 0 bonds atom 0 to itself for input: 'C00005'\n",
      "[11:24:41] SMILES Parse Error: duplicated ring closure 0 bonds atom 0 to itself for input: 'C00080'\n",
      "[11:24:41] WARNING: not removing hydrogen atom without neighbors\n",
      "[11:24:41] SMILES Parse Error: duplicated ring closure 0 bonds atom 0 to itself for input: 'C00685'\n",
      "[11:24:41] SMILES Parse Error: duplicated ring closure 0 bonds atom 0 to itself for input: 'C00006'\n",
      "[11:24:41] SMILES Parse Error: unclosed ring for input: 'C04618'\n"
     ]
    },
    {
     "name": "stdout",
     "output_type": "stream",
     "text": [
      "Failed to retrieve data. Status code: 404\n"
     ]
    },
    {
     "name": "stderr",
     "output_type": "stream",
     "text": [
      "[11:24:42] SMILES Parse Error: duplicated ring closure 0 bonds atom 0 to itself for input: 'C00005'\n",
      "[11:24:42] SMILES Parse Error: duplicated ring closure 0 bonds atom 0 to itself for input: 'C00080'\n",
      "[11:24:42] WARNING: not removing hydrogen atom without neighbors\n",
      "[11:24:42] SMILES Parse Error: unclosed ring for input: 'C05744'\n",
      "[11:24:42] SMILES Parse Error: duplicated ring closure 0 bonds atom 0 to itself for input: 'C00006'\n",
      "[11:24:42] SMILES Parse Error: unclosed ring for input: 'C04619'\n"
     ]
    },
    {
     "name": "stdout",
     "output_type": "stream",
     "text": [
      "Failed to retrieve data. Status code: 404\n"
     ]
    },
    {
     "name": "stderr",
     "output_type": "stream",
     "text": [
      "[11:24:43] SMILES Parse Error: duplicated ring closure 0 bonds atom 0 to itself for input: 'C00005'\n",
      "[11:24:43] SMILES Parse Error: unclosed ring for input: 'C05753'\n",
      "[11:24:43] SMILES Parse Error: duplicated ring closure 0 bonds atom 0 to itself for input: 'C00006'\n",
      "[11:24:43] SMILES Parse Error: duplicated ring closure 0 bonds atom 0 to itself for input: 'C04620'\n",
      "[11:24:43] SMILES Parse Error: duplicated ring closure 0 bonds atom 0 to itself for input: 'C00005'\n",
      "[11:24:43] SMILES Parse Error: duplicated ring closure 0 bonds atom 0 to itself for input: 'C00080'\n",
      "[11:24:43] WARNING: not removing hydrogen atom without neighbors\n",
      "[11:24:43] SMILES Parse Error: duplicated ring closure 0 bonds atom 0 to itself for input: 'C05750'\n",
      "[11:24:43] SMILES Parse Error: duplicated ring closure 0 bonds atom 0 to itself for input: 'C00006'\n",
      "[11:24:43] SMILES Parse Error: unclosed ring for input: 'C04633'\n"
     ]
    },
    {
     "name": "stdout",
     "output_type": "stream",
     "text": [
      "Failed to retrieve data. Status code: 404\n"
     ]
    },
    {
     "name": "stderr",
     "output_type": "stream",
     "text": [
      "[11:24:44] SMILES Parse Error: duplicated ring closure 0 bonds atom 0 to itself for input: 'C00005'\n",
      "[11:24:44] SMILES Parse Error: duplicated ring closure 0 bonds atom 0 to itself for input: 'C00080'\n",
      "[11:24:44] WARNING: not removing hydrogen atom without neighbors\n",
      "[11:24:44] SMILES Parse Error: unclosed ring for input: 'C05762'\n",
      "[11:24:44] SMILES Parse Error: duplicated ring closure 0 bonds atom 0 to itself for input: 'C00006'\n",
      "[11:24:44] SMILES Parse Error: unclosed ring for input: 'C04688'\n"
     ]
    },
    {
     "name": "stdout",
     "output_type": "stream",
     "text": [
      "Failed to retrieve data. Status code: 404\n"
     ]
    },
    {
     "name": "stderr",
     "output_type": "stream",
     "text": [
      "[11:24:45] SMILES Parse Error: duplicated ring closure 0 bonds atom 0 to itself for input: 'C00005'\n",
      "[11:24:45] SMILES Parse Error: duplicated ring closure 0 bonds atom 0 to itself for input: 'C00080'\n",
      "[11:24:45] WARNING: not removing hydrogen atom without neighbors\n",
      "[11:24:45] SMILES Parse Error: unclosed ring for input: 'C05759'\n",
      "[11:24:45] SMILES Parse Error: duplicated ring closure 0 bonds atom 0 to itself for input: 'C00006'\n",
      "[11:24:45] SMILES Parse Error: unclosed ring for input: 'C05747'\n"
     ]
    },
    {
     "name": "stdout",
     "output_type": "stream",
     "text": [
      "Failed to retrieve data. Status code: 404\n"
     ]
    },
    {
     "name": "stderr",
     "output_type": "stream",
     "text": [
      "[11:24:46] SMILES Parse Error: duplicated ring closure 0 bonds atom 0 to itself for input: 'C00005'\n",
      "[11:24:46] SMILES Parse Error: duplicated ring closure 0 bonds atom 0 to itself for input: 'C00080'\n",
      "[11:24:46] WARNING: not removing hydrogen atom without neighbors\n",
      "[11:24:46] SMILES Parse Error: unclosed ring for input: 'C05746'\n",
      "[11:24:46] SMILES Parse Error: duplicated ring closure 0 bonds atom 0 to itself for input: 'C00006'\n",
      "[11:24:46] SMILES Parse Error: unclosed ring for input: 'C05757'\n"
     ]
    },
    {
     "name": "stdout",
     "output_type": "stream",
     "text": [
      "Failed to retrieve data. Status code: 404\n"
     ]
    },
    {
     "name": "stderr",
     "output_type": "stream",
     "text": [
      "[11:24:47] SMILES Parse Error: duplicated ring closure 0 bonds atom 0 to itself for input: 'C00005'\n",
      "[11:24:47] SMILES Parse Error: duplicated ring closure 0 bonds atom 0 to itself for input: 'C00080'\n",
      "[11:24:47] WARNING: not removing hydrogen atom without neighbors\n",
      "[11:24:47] SMILES Parse Error: unclosed ring for input: 'C05756'\n",
      "[11:24:47] SMILES Parse Error: duplicated ring closure 0 bonds atom 0 to itself for input: 'C00005'\n",
      "[11:24:47] SMILES Parse Error: duplicated ring closure 0 bonds atom 0 to itself for input: 'C00080'\n",
      "[11:24:47] WARNING: not removing hydrogen atom without neighbors\n",
      "[11:24:47] SMILES Parse Error: duplicated ring closure 1 bonds atom 0 to itself for input: 'C16219'\n",
      "[11:24:47] SMILES Parse Error: duplicated ring closure 0 bonds atom 0 to itself for input: 'C00006'\n",
      "[11:24:47] SMILES Parse Error: unclosed ring for input: 'C16220'\n",
      "[11:24:48] SMILES Parse Error: duplicated ring closure 0 bonds atom 0 to itself for input: 'C00001'\n",
      "[11:24:48] SMILES Parse Error: duplicated ring closure 0 bonds atom 0 to itself for input: 'C00437'\n",
      "[11:24:49] SMILES Parse Error: duplicated ring closure 0 bonds atom 0 to itself for input: 'C00033'\n",
      "[11:24:49] SMILES Parse Error: duplicated ring closure 0 bonds atom 0 to itself for input: 'C00077'\n",
      "[11:24:50] SMILES Parse Error: duplicated ring closure 0 bonds atom 0 to itself for input: 'C00001'\n",
      "[11:24:50] SMILES Parse Error: unclosed ring for input: 'C15532'\n"
     ]
    },
    {
     "name": "stdout",
     "output_type": "stream",
     "text": [
      "Failed to retrieve data. Status code: 404\n"
     ]
    },
    {
     "name": "stderr",
     "output_type": "stream",
     "text": [
      "[11:24:51] SMILES Parse Error: duplicated ring closure 0 bonds atom 0 to itself for input: 'C00033'\n",
      "[11:24:51] SMILES Parse Error: duplicated ring closure 0 bonds atom 0 to itself for input: 'C00327'\n",
      "[11:24:51] SMILES Parse Error: duplicated ring closure 0 bonds atom 0 to itself for input: 'C00003'\n",
      "[11:24:51] SMILES Parse Error: duplicated ring closure 0 bonds atom 0 to itself for input: 'C00167'\n",
      "[11:24:52] SMILES Parse Error: duplicated ring closure 0 bonds atom 0 to itself for input: 'C00004'\n",
      "[11:24:52] SMILES Parse Error: duplicated ring closure 0 bonds atom 0 to itself for input: 'C00011'\n",
      "[11:24:52] SMILES Parse Error: duplicated ring closure 0 bonds atom 0 to itself for input: 'C00080'\n",
      "[11:24:52] WARNING: not removing hydrogen atom without neighbors\n",
      "[11:24:52] SMILES Parse Error: duplicated ring closure 1 bonds atom 0 to itself for input: 'C16155'\n",
      "[11:24:52] SMILES Parse Error: duplicated ring closure 0 bonds atom 0 to itself for input: 'C00001'\n",
      "[11:24:52] SMILES Parse Error: duplicated ring closure 0 bonds atom 0 to itself for input: 'C00170'\n",
      "[11:24:53] SMILES Parse Error: duplicated ring closure 0 bonds atom 0 to itself for input: 'C00147'\n",
      "[11:24:53] SMILES Parse Error: duplicated ring closure 0 bonds atom 0 to itself for input: 'C03089'\n",
      "[11:24:54] SMILES Parse Error: duplicated ring closure 0 bonds atom 0 to itself for input: 'C00011'\n",
      "[11:24:54] SMILES Parse Error: duplicated ring closure 0 bonds atom 0 to itself for input: 'C00900'\n",
      "[11:24:54] SMILES Parse Error: duplicated ring closure 0 bonds atom 0 to itself for input: 'C00022'\n",
      "[11:24:54] SMILES Parse Error: duplicated ring closure 0 bonds atom 0 to itself for input: 'C00011'\n",
      "[11:24:54] SMILES Parse Error: duplicated ring closure 0 bonds atom 0 to itself for input: 'C06010'\n",
      "[11:24:54] SMILES Parse Error: duplicated ring closure 0 bonds atom 0 to itself for input: 'C00022'\n",
      "[11:24:54] SMILES Parse Error: duplicated ring closure 0 bonds atom 0 to itself for input: 'C00022'\n",
      "[11:24:54] SMILES Parse Error: duplicated ring closure 0 bonds atom 0 to itself for input: 'C00068'\n",
      "[11:24:54] SMILES Parse Error: duplicated ring closure 0 bonds atom 0 to itself for input: 'C00011'\n",
      "[11:24:54] SMILES Parse Error: unclosed ring for input: 'C05125'\n",
      "[11:24:54] SMILES Parse Error: duplicated ring closure 0 bonds atom 0 to itself for input: 'C00068'\n",
      "[11:24:55] SMILES Parse Error: duplicated ring closure 0 bonds atom 0 to itself for input: 'C00900'\n",
      "[11:24:55] SMILES Parse Error: duplicated ring closure 0 bonds atom 0 to itself for input: 'C00022'\n",
      "[11:24:55] SMILES Parse Error: unclosed ring for input: 'C05125'\n",
      "[11:24:55] SMILES Parse Error: duplicated ring closure 0 bonds atom 0 to itself for input: 'C00068'\n",
      "[11:24:55] SMILES Parse Error: duplicated ring closure 0 bonds atom 0 to itself for input: 'C06010'\n",
      "[11:24:55] SMILES Parse Error: duplicated ring closure 0 bonds atom 0 to itself for input: 'C00022'\n",
      "[11:24:55] SMILES Parse Error: unclosed ring for input: 'C05125'\n",
      "[11:24:55] SMILES Parse Error: duplicated ring closure 0 bonds atom 0 to itself for input: 'C00109'\n",
      "[11:24:57] SMILES Parse Error: unclosed ring for input: 'C05125'\n",
      "[11:24:57] SMILES Parse Error: duplicated ring closure 0 bonds atom 0 to itself for input: 'C00068'\n",
      "[11:24:57] SMILES Parse Error: duplicated ring closure 0 bonds atom 0 to itself for input: 'C06006'\n",
      "[11:24:57] SMILES Parse Error: duplicated ring closure 0 bonds atom 0 to itself for input: 'C00022'\n",
      "[11:24:57] SMILES Parse Error: duplicated ring closure 0 bonds atom 0 to itself for input: 'C00109'\n",
      "[11:24:57] SMILES Parse Error: duplicated ring closure 0 bonds atom 0 to itself for input: 'C00011'\n",
      "[11:24:58] SMILES Parse Error: duplicated ring closure 0 bonds atom 0 to itself for input: 'C06006'\n",
      "[11:24:58] SMILES Parse Error: duplicated ring closure 0 bonds atom 0 to itself for input: 'C00001'\n",
      "[11:24:58] SMILES Parse Error: duplicated ring closure 0 bonds atom 0 to itself for input: 'C00074'\n",
      "[11:24:58] SMILES Parse Error: duplicated ring closure 0 bonds atom 0 to itself for input: 'C00279'\n",
      "[11:24:58] SMILES Parse Error: duplicated ring closure 0 bonds atom 0 to itself for input: 'C00009'\n",
      "[11:24:58] SMILES Parse Error: unclosed ring for input: 'C04691'\n",
      "[11:24:59] SMILES Parse Error: duplicated ring closure 0 bonds atom 0 to itself for input: 'C00002'\n",
      "[11:24:59] SMILES Parse Error: duplicated ring closure 0 bonds atom 0 to itself for input: 'C00037'\n",
      "[11:24:59] SMILES Parse Error: duplicated ring closure 0 bonds atom 0 to itself for input: 'C00669'\n",
      "[11:25:00] SMILES Parse Error: duplicated ring closure 0 bonds atom 0 to itself for input: 'C00008'\n",
      "[11:25:00] SMILES Parse Error: duplicated ring closure 0 bonds atom 0 to itself for input: 'C00009'\n",
      "[11:25:00] SMILES Parse Error: duplicated ring closure 0 bonds atom 0 to itself for input: 'C00051'\n",
      "[11:25:00] SMILES Parse Error: duplicated ring closure 0 bonds atom 0 to itself for input: 'C00006'\n",
      "[11:25:00] SMILES Parse Error: duplicated ring closure 0 bonds atom 0 to itself for input: 'C01013'\n",
      "[11:25:01] SMILES Parse Error: duplicated ring closure 0 bonds atom 0 to itself for input: 'C00005'\n",
      "[11:25:01] SMILES Parse Error: duplicated ring closure 0 bonds atom 0 to itself for input: 'C00080'\n",
      "[11:25:01] WARNING: not removing hydrogen atom without neighbors\n",
      "[11:25:01] SMILES Parse Error: duplicated ring closure 0 bonds atom 0 to itself for input: 'C00222'\n",
      "[11:25:02] SMILES Parse Error: duplicated ring closure 0 bonds atom 0 to itself for input: 'C00003'\n",
      "[11:25:02] SMILES Parse Error: duplicated ring closure 0 bonds atom 0 to itself for input: 'C00390'\n",
      "[11:25:02] SMILES Parse Error: duplicated ring closure 0 bonds atom 0 to itself for input: 'C00004'\n",
      "[11:25:02] SMILES Parse Error: duplicated ring closure 0 bonds atom 0 to itself for input: 'C00080'\n",
      "[11:25:02] WARNING: not removing hydrogen atom without neighbors\n",
      "[11:25:02] SMILES Parse Error: duplicated ring closure 0 bonds atom 0 to itself for input: 'C00399'\n",
      "[11:25:02] SMILES Parse Error: duplicated ring closure 0 bonds atom 0 to itself for input: 'C00001'\n",
      "[11:25:02] SMILES Parse Error: duplicated ring closure 0 bonds atom 0 to itself for input: 'C03120'\n"
     ]
    },
    {
     "name": "stdout",
     "output_type": "stream",
     "text": [
      "Failed to retrieve data. Status code: 404\n"
     ]
    },
    {
     "name": "stderr",
     "output_type": "stream",
     "text": [
      "[11:25:03] SMILES Parse Error: duplicated ring closure 0 bonds atom 0 to itself for input: 'C00069'\n"
     ]
    },
    {
     "name": "stdout",
     "output_type": "stream",
     "text": [
      "Failed to retrieve data. Status code: 404\n"
     ]
    },
    {
     "name": "stderr",
     "output_type": "stream",
     "text": [
      "[11:25:04] SMILES Parse Error: duplicated ring closure 0 bonds atom 0 to itself for input: 'C00093'\n",
      "[11:25:04] SMILES Parse Error: duplicated ring closure 0 bonds atom 0 to itself for input: 'C00001'\n",
      "[11:25:04] SMILES Parse Error: duplicated ring closure 0 bonds atom 0 to itself for input: 'C00670'\n",
      "[11:25:05] SMILES Parse Error: duplicated ring closure 0 bonds atom 0 to itself for input: 'C00093'\n",
      "[11:25:05] SMILES Parse Error: duplicated ring closure 0 bonds atom 0 to itself for input: 'C00114'\n",
      "[11:25:06] SMILES Parse Error: duplicated ring closure 0 bonds atom 0 to itself for input: 'C00001'\n",
      "[11:25:06] SMILES Parse Error: unclosed ring for input: 'C01233'\n",
      "[11:25:07] SMILES Parse Error: duplicated ring closure 0 bonds atom 0 to itself for input: 'C00093'\n",
      "[11:25:07] SMILES Parse Error: duplicated ring closure 0 bonds atom 0 to itself for input: 'C00189'\n",
      "[11:25:08] SMILES Parse Error: duplicated ring closure 0 bonds atom 0 to itself for input: 'C00013'\n",
      "[11:25:08] SMILES Parse Error: duplicated ring closure 0 bonds atom 0 to itself for input: 'C00105'\n",
      "[11:25:09] SMILES Parse Error: duplicated ring closure 0 bonds atom 0 to itself for input: 'C00106'\n",
      "[11:25:09] SMILES Parse Error: duplicated ring closure 0 bonds atom 0 to itself for input: 'C00119'\n",
      "[11:25:09] SMILES Parse Error: duplicated ring closure 0 bonds atom 0 to itself for input: 'C00065'\n",
      "[11:25:09] SMILES Parse Error: duplicated ring closure 0 bonds atom 0 to itself for input: 'C00014'\n",
      "[11:25:09] SMILES Parse Error: duplicated ring closure 0 bonds atom 0 to itself for input: 'C00022'\n",
      "[11:25:09] SMILES Parse Error: duplicated ring closure 0 bonds atom 0 to itself for input: 'C00065'\n",
      "[11:25:09] SMILES Parse Error: duplicated ring closure 0 bonds atom 0 to itself for input: 'C00001'\n",
      "[11:25:09] SMILES Parse Error: unclosed ring for input: 'C02218'\n",
      "[11:25:10] SMILES Parse Error: unclosed ring for input: 'C05167'\n"
     ]
    },
    {
     "name": "stdout",
     "output_type": "stream",
     "text": [
      "Failed to retrieve data. Status code: 404\n"
     ]
    },
    {
     "name": "stderr",
     "output_type": "stream",
     "text": [
      "[11:25:11] SMILES Parse Error: duplicated ring closure 0 bonds atom 0 to itself for input: 'C00014'\n",
      "[11:25:11] SMILES Parse Error: duplicated ring closure 0 bonds atom 0 to itself for input: 'C00161'\n"
     ]
    },
    {
     "name": "stdout",
     "output_type": "stream",
     "text": [
      "Failed to retrieve data. Status code: 404\n"
     ]
    },
    {
     "name": "stderr",
     "output_type": "stream",
     "text": [
      "[11:25:12] SMILES Parse Error: duplicated ring closure 0 bonds atom 0 to itself for input: 'C00001'\n",
      "[11:25:12] SMILES Parse Error: unclosed ring for input: 'C02218'\n",
      "[11:25:12] SMILES Parse Error: duplicated ring closure 0 bonds atom 0 to itself for input: 'C00014'\n",
      "[11:25:12] SMILES Parse Error: duplicated ring closure 0 bonds atom 0 to itself for input: 'C00022'\n",
      "[11:25:12] SMILES Parse Error: duplicated ring closure 0 bonds atom 0 to itself for input: 'C00002'\n",
      "[11:25:12] SMILES Parse Error: duplicated ring closure 0 bonds atom 0 to itself for input: 'C00099'\n",
      "[11:25:12] SMILES Parse Error: duplicated ring closure 0 bonds atom 0 to itself for input: 'C00522'\n",
      "[11:25:13] SMILES Parse Error: duplicated ring closure 0 bonds atom 0 to itself for input: 'C00013'\n",
      "[11:25:13] SMILES Parse Error: duplicated ring closure 0 bonds atom 0 to itself for input: 'C00020'\n",
      "[11:25:13] SMILES Parse Error: duplicated ring closure 0 bonds atom 0 to itself for input: 'C00864'\n",
      "[11:25:14] SMILES Parse Error: duplicated ring closure 0 bonds atom 0 to itself for input: 'C00009'\n",
      "[11:25:14] SMILES Parse Error: duplicated ring closure 0 bonds atom 0 to itself for input: 'C00103'\n",
      "[11:25:14] SMILES Parse Error: duplicated ring closure 0 bonds atom 0 to itself for input: 'C00718'\n"
     ]
    },
    {
     "name": "stdout",
     "output_type": "stream",
     "text": [
      "Failed to retrieve data. Status code: 404\n"
     ]
    },
    {
     "name": "stderr",
     "output_type": "stream",
     "text": [
      "[11:25:15] SMILES Parse Error: duplicated ring closure 0 bonds atom 0 to itself for input: 'C00009'\n",
      "[11:25:15] SMILES Parse Error: duplicated ring closure 0 bonds atom 0 to itself for input: 'C00369'\n"
     ]
    },
    {
     "name": "stdout",
     "output_type": "stream",
     "text": [
      "Failed to retrieve data. Status code: 404\n"
     ]
    },
    {
     "name": "stderr",
     "output_type": "stream",
     "text": [
      "[11:25:16] SMILES Parse Error: duplicated ring closure 0 bonds atom 0 to itself for input: 'C00103'\n",
      "[11:25:16] SMILES Parse Error: duplicated ring closure 0 bonds atom 0 to itself for input: 'C00718'\n",
      "[11:25:16] SMILES Parse Error: duplicated ring closure 0 bonds atom 0 to itself for input: 'C00013'\n",
      "[11:25:16] SMILES Parse Error: duplicated ring closure 0 bonds atom 0 to itself for input: 'C00130'\n",
      "[11:25:16] SMILES Parse Error: duplicated ring closure 0 bonds atom 0 to itself for input: 'C00119'\n",
      "[11:25:16] SMILES Parse Error: duplicated ring closure 0 bonds atom 0 to itself for input: 'C00262'\n",
      "[11:25:16] SMILES Parse Error: duplicated ring closure 0 bonds atom 0 to itself for input: 'C00013'\n",
      "[11:25:16] SMILES Parse Error: duplicated ring closure 0 bonds atom 0 to itself for input: 'C00020'\n",
      "[11:25:16] SMILES Parse Error: duplicated ring closure 0 bonds atom 0 to itself for input: 'C00119'\n",
      "[11:25:16] SMILES Parse Error: duplicated ring closure 0 bonds atom 0 to itself for input: 'C00147'\n",
      "[11:25:16] SMILES Parse Error: duplicated ring closure 0 bonds atom 0 to itself for input: 'C00013'\n",
      "[11:25:17] SMILES Parse Error: duplicated ring closure 0 bonds atom 0 to itself for input: 'C00144'\n",
      "[11:25:17] SMILES Parse Error: duplicated ring closure 0 bonds atom 0 to itself for input: 'C00119'\n",
      "[11:25:17] SMILES Parse Error: duplicated ring closure 0 bonds atom 0 to itself for input: 'C00242'\n",
      "[11:25:17] SMILES Parse Error: duplicated ring closure 0 bonds atom 0 to itself for input: 'C00013'\n",
      "[11:25:17] SMILES Parse Error: duplicated ring closure 0 bonds atom 0 to itself for input: 'C00655'\n",
      "[11:25:17] SMILES Parse Error: duplicated ring closure 0 bonds atom 0 to itself for input: 'C00119'\n",
      "[11:25:17] SMILES Parse Error: duplicated ring closure 0 bonds atom 0 to itself for input: 'C00385'\n",
      "[11:25:17] SMILES Parse Error: duplicated ring closure 0 bonds atom 0 to itself for input: 'C00119'\n",
      "[11:25:17] SMILES Parse Error: duplicated ring closure 0 bonds atom 0 to itself for input: 'C02380'\n",
      "[11:25:18] SMILES Parse Error: duplicated ring closure 0 bonds atom 0 to itself for input: 'C00013'\n",
      "[11:25:18] SMILES Parse Error: unclosed ring for input: 'C04646'\n",
      "[11:25:18] SMILES Parse Error: duplicated ring closure 0 bonds atom 0 to itself for input: 'C00119'\n",
      "[11:25:18] SMILES Parse Error: duplicated ring closure 1 bonds atom 0 to itself for input: 'C16614'\n"
     ]
    },
    {
     "name": "stdout",
     "output_type": "stream",
     "text": [
      "Failed to retrieve data. Status code: 404\n"
     ]
    },
    {
     "name": "stderr",
     "output_type": "stream",
     "text": [
      "[11:25:19] SMILES Parse Error: duplicated ring closure 0 bonds atom 0 to itself for input: 'C00013'\n",
      "[11:25:19] SMILES Parse Error: duplicated ring closure 1 bonds atom 0 to itself for input: 'C16615'\n"
     ]
    },
    {
     "name": "stdout",
     "output_type": "stream",
     "text": [
      "Failed to retrieve data. Status code: 404\n"
     ]
    },
    {
     "name": "stderr",
     "output_type": "stream",
     "text": [
      "[11:25:20] SMILES Parse Error: duplicated ring closure 0 bonds atom 0 to itself for input: 'C00119'\n",
      "[11:25:20] SMILES Parse Error: unclosed ring for input: 'C07648'\n",
      "[11:25:21] SMILES Parse Error: duplicated ring closure 0 bonds atom 0 to itself for input: 'C00013'\n",
      "[11:25:21] SMILES Parse Error: duplicated ring closure 1 bonds atom 0 to itself for input: 'C16619'\n",
      "[11:25:21] SMILES Parse Error: duplicated ring closure 0 bonds atom 0 to itself for input: 'C00001'\n",
      "[11:25:21] SMILES Parse Error: duplicated ring closure 0 bonds atom 0 to itself for input: 'C00243'\n",
      "[11:25:22] SMILES Parse Error: duplicated ring closure 0 bonds atom 0 to itself for input: 'C00031'\n",
      "[11:25:22] SMILES Parse Error: duplicated ring closure 0 bonds atom 0 to itself for input: 'C00124'\n",
      "[11:25:22] SMILES Parse Error: duplicated ring closure 0 bonds atom 0 to itself for input: 'C00001'\n",
      "[11:25:22] SMILES Parse Error: duplicated ring closure 0 bonds atom 0 to itself for input: 'C00124'\n",
      "[11:25:22] SMILES Parse Error: unclosed ring for input: 'C05796'\n"
     ]
    },
    {
     "name": "stdout",
     "output_type": "stream",
     "text": [
      "Failed to retrieve data. Status code: 404\n"
     ]
    },
    {
     "name": "stderr",
     "output_type": "stream",
     "text": [
      "[11:25:23] SMILES Parse Error: duplicated ring closure 0 bonds atom 0 to itself for input: 'C00001'\n",
      "[11:25:23] SMILES Parse Error: duplicated ring closure 0 bonds atom 0 to itself for input: 'C00243'\n",
      "[11:25:23] SMILES Parse Error: duplicated ring closure 0 bonds atom 0 to itself for input: 'C00124'\n",
      "[11:25:23] SMILES Parse Error: duplicated ring closure 0 bonds atom 0 to itself for input: 'C00267'\n",
      "[11:25:24] SMILES Parse Error: duplicated ring closure 0 bonds atom 0 to itself for input: 'C00001'\n",
      "[11:25:24] SMILES Parse Error: duplicated ring closure 0 bonds atom 0 to itself for input: 'C01290'\n",
      "[11:25:24] SMILES Parse Error: duplicated ring closure 0 bonds atom 0 to itself for input: 'C00124'\n",
      "[11:25:24] SMILES Parse Error: duplicated ring closure 0 bonds atom 0 to itself for input: 'C01190'\n"
     ]
    },
    {
     "name": "stdout",
     "output_type": "stream",
     "text": [
      "Failed to retrieve data. Status code: 404\n"
     ]
    },
    {
     "name": "stderr",
     "output_type": "stream",
     "text": [
      "[11:25:25] SMILES Parse Error: duplicated ring closure 0 bonds atom 0 to itself for input: 'C00001'\n",
      "[11:25:25] SMILES Parse Error: unclosed ring for input: 'C04911'\n"
     ]
    },
    {
     "name": "stdout",
     "output_type": "stream",
     "text": [
      "Failed to retrieve data. Status code: 404\n"
     ]
    },
    {
     "name": "stderr",
     "output_type": "stream",
     "text": [
      "[11:25:26] SMILES Parse Error: duplicated ring closure 0 bonds atom 0 to itself for input: 'C00124'\n",
      "[11:25:26] SMILES Parse Error: unclosed ring for input: 'C04884'\n"
     ]
    },
    {
     "name": "stdout",
     "output_type": "stream",
     "text": [
      "Failed to retrieve data. Status code: 404\n"
     ]
    },
    {
     "name": "stderr",
     "output_type": "stream",
     "text": [
      "[11:25:27] SMILES Parse Error: duplicated ring closure 0 bonds atom 0 to itself for input: 'C00001'\n",
      "[11:25:27] SMILES Parse Error: duplicated ring closure 0 bonds atom 0 to itself for input: 'C05403'\n",
      "[11:25:28] SMILES Parse Error: duplicated ring closure 0 bonds atom 0 to itself for input: 'C00221'\n",
      "[11:25:29] SMILES Parse Error: unclosed ring for input: 'C05394'\n",
      "[11:25:30] SMILES Parse Error: duplicated ring closure 0 bonds atom 0 to itself for input: 'C00001'\n",
      "[11:25:30] SMILES Parse Error: unclosed ring for input: 'C06136'\n"
     ]
    },
    {
     "name": "stdout",
     "output_type": "stream",
     "text": [
      "Failed to retrieve data. Status code: 404\n"
     ]
    },
    {
     "name": "stderr",
     "output_type": "stream",
     "text": [
      "[11:25:31] SMILES Parse Error: duplicated ring closure 0 bonds atom 0 to itself for input: 'C00124'\n",
      "[11:25:31] SMILES Parse Error: unclosed ring for input: 'C06135'\n"
     ]
    },
    {
     "name": "stdout",
     "output_type": "stream",
     "text": [
      "Failed to retrieve data. Status code: 404\n"
     ]
    },
    {
     "name": "stderr",
     "output_type": "stream",
     "text": [
      "[11:25:32] SMILES Parse Error: duplicated ring closure 0 bonds atom 0 to itself for input: 'C00003'\n",
      "[11:25:32] SMILES Parse Error: duplicated ring closure 0 bonds atom 0 to itself for input: 'C00258'\n",
      "[11:25:33] SMILES Parse Error: duplicated ring closure 0 bonds atom 0 to itself for input: 'C00004'\n",
      "[11:25:33] SMILES Parse Error: duplicated ring closure 0 bonds atom 0 to itself for input: 'C00080'\n",
      "[11:25:33] WARNING: not removing hydrogen atom without neighbors\n",
      "[11:25:33] SMILES Parse Error: unclosed ring for input: 'C01146'\n",
      "[11:25:34] SMILES Parse Error: duplicated ring closure 0 bonds atom 0 to itself for input: 'C00006'\n",
      "[11:25:34] SMILES Parse Error: duplicated ring closure 0 bonds atom 0 to itself for input: 'C00258'\n",
      "[11:25:34] SMILES Parse Error: duplicated ring closure 0 bonds atom 0 to itself for input: 'C00005'\n",
      "[11:25:34] SMILES Parse Error: duplicated ring closure 0 bonds atom 0 to itself for input: 'C00080'\n",
      "[11:25:34] WARNING: not removing hydrogen atom without neighbors\n",
      "[11:25:34] SMILES Parse Error: unclosed ring for input: 'C01146'\n",
      "[11:25:35] SMILES Parse Error: duplicated ring closure 0 bonds atom 0 to itself for input: 'C00003'\n",
      "[11:25:35] SMILES Parse Error: duplicated ring closure 0 bonds atom 0 to itself for input: 'C00149'\n",
      "[11:25:35] SMILES Parse Error: duplicated ring closure 0 bonds atom 0 to itself for input: 'C00004'\n",
      "[11:25:35] SMILES Parse Error: duplicated ring closure 0 bonds atom 0 to itself for input: 'C00011'\n",
      "[11:25:35] SMILES Parse Error: duplicated ring closure 0 bonds atom 0 to itself for input: 'C00022'\n",
      "[11:25:35] SMILES Parse Error: duplicated ring closure 0 bonds atom 0 to itself for input: 'C00080'\n",
      "[11:25:35] WARNING: not removing hydrogen atom without neighbors\n",
      "[11:25:35] SMILES Parse Error: duplicated ring closure 0 bonds atom 0 to itself for input: 'C00036'\n",
      "[11:25:35] SMILES Parse Error: duplicated ring closure 0 bonds atom 0 to itself for input: 'C00002'\n",
      "[11:25:35] SMILES Parse Error: duplicated ring closure 0 bonds atom 0 to itself for input: 'C00080'\n",
      "[11:25:35] WARNING: not removing hydrogen atom without neighbors\n",
      "[11:25:35] SMILES Parse Error: duplicated ring closure 0 bonds atom 0 to itself for input: 'C00741'\n",
      "[11:25:35] SMILES Parse Error: duplicated ring closure 0 bonds atom 0 to itself for input: 'C00022'\n",
      "[11:25:35] SMILES Parse Error: duplicated ring closure 1 bonds atom 0 to itself for input: 'C11592'\n",
      "[11:25:35] SMILES Parse Error: duplicated ring closure 0 bonds atom 0 to itself for input: 'C00010'\n",
      "[11:25:35] SMILES Parse Error: duplicated ring closure 0 bonds atom 0 to itself for input: 'C00011'\n",
      "[11:25:35] SMILES Parse Error: duplicated ring closure 0 bonds atom 0 to itself for input: 'C00004'\n",
      "[11:25:35] SMILES Parse Error: unclosed ring for input: 'C02441'\n",
      "[11:25:35] SMILES Parse Error: duplicated ring closure 0 bonds atom 0 to itself for input: 'C00024'\n",
      "[11:25:35] SMILES Parse Error: duplicated ring closure 0 bonds atom 0 to itself for input: 'C00149'\n",
      "[11:25:36] SMILES Parse Error: duplicated ring closure 0 bonds atom 0 to itself for input: 'C00209'\n",
      "[11:25:36] SMILES Parse Error: duplicated ring closure 0 bonds atom 0 to itself for input: 'C00003'\n",
      "[11:25:36] SMILES Parse Error: duplicated ring closure 0 bonds atom 0 to itself for input: 'C00036'\n",
      "[11:25:36] SMILES Parse Error: duplicated ring closure 0 bonds atom 0 to itself for input: 'C00011'\n",
      "[11:25:36] SMILES Parse Error: duplicated ring closure 0 bonds atom 0 to itself for input: 'C00022'\n",
      "[11:25:36] SMILES Parse Error: duplicated ring closure 0 bonds atom 0 to itself for input: 'C00036'\n",
      "[11:25:36] SMILES Parse Error: duplicated ring closure 0 bonds atom 0 to itself for input: 'C00002'\n",
      "[11:25:36] SMILES Parse Error: duplicated ring closure 0 bonds atom 0 to itself for input: 'C00080'\n",
      "[11:25:36] WARNING: not removing hydrogen atom without neighbors\n",
      "[11:25:36] SMILES Parse Error: duplicated ring closure 0 bonds atom 0 to itself for input: 'C00741'\n",
      "[11:25:36] SMILES Parse Error: duplicated ring closure 0 bonds atom 0 to itself for input: 'C00022'\n",
      "[11:25:36] SMILES Parse Error: duplicated ring closure 1 bonds atom 0 to itself for input: 'C11592'\n",
      "[11:25:36] SMILES Parse Error: duplicated ring closure 0 bonds atom 0 to itself for input: 'C00010'\n",
      "[11:25:36] SMILES Parse Error: duplicated ring closure 0 bonds atom 0 to itself for input: 'C00011'\n",
      "[11:25:36] SMILES Parse Error: duplicated ring closure 0 bonds atom 0 to itself for input: 'C00004'\n",
      "[11:25:36] SMILES Parse Error: unclosed ring for input: 'C02441'\n",
      "[11:25:36] SMILES Parse Error: duplicated ring closure 0 bonds atom 0 to itself for input: 'C00024'\n",
      "[11:25:36] SMILES Parse Error: duplicated ring closure 0 bonds atom 0 to itself for input: 'C00149'\n",
      "[11:25:36] SMILES Parse Error: duplicated ring closure 0 bonds atom 0 to itself for input: 'C00209'\n",
      "[11:25:37] SMILES Parse Error: duplicated ring closure 0 bonds atom 0 to itself for input: 'C00003'\n",
      "[11:25:37] SMILES Parse Error: duplicated ring closure 0 bonds atom 0 to itself for input: 'C00043'\n",
      "[11:25:38] SMILES Parse Error: duplicated ring closure 0 bonds atom 0 to itself for input: 'C00074'\n",
      "[11:25:38] SMILES Parse Error: duplicated ring closure 0 bonds atom 0 to itself for input: 'C00009'\n",
      "[11:25:38] SMILES Parse Error: unclosed ring for input: 'C04631'\n",
      "[11:25:39] SMILES Parse Error: duplicated ring closure 0 bonds atom 0 to itself for input: 'C00188'\n",
      "[11:25:39] SMILES Parse Error: duplicated ring closure 0 bonds atom 0 to itself for input: 'C00014'\n",
      "[11:25:39] SMILES Parse Error: duplicated ring closure 0 bonds atom 0 to itself for input: 'C00109'\n",
      "[11:25:39] SMILES Parse Error: duplicated ring closure 0 bonds atom 0 to itself for input: 'C00065'\n",
      "[11:25:39] SMILES Parse Error: duplicated ring closure 0 bonds atom 0 to itself for input: 'C00014'\n",
      "[11:25:39] SMILES Parse Error: duplicated ring closure 0 bonds atom 0 to itself for input: 'C00022'\n",
      "[11:25:39] SMILES Parse Error: unclosed ring for input: 'C05167'\n",
      "[11:25:39] SMILES Parse Error: duplicated ring closure 0 bonds atom 0 to itself for input: 'C00014'\n",
      "[11:25:39] SMILES Parse Error: duplicated ring closure 0 bonds atom 0 to itself for input: 'C00161'\n",
      "[11:25:39] SMILES Parse Error: duplicated ring closure 0 bonds atom 0 to itself for input: 'C00002'\n",
      "[11:25:39] SMILES Parse Error: duplicated ring closure 0 bonds atom 0 to itself for input: 'C00025'\n",
      "[11:25:39] SMILES Parse Error: duplicated ring closure 0 bonds atom 0 to itself for input: 'C00097'\n",
      "[11:25:39] SMILES Parse Error: duplicated ring closure 0 bonds atom 0 to itself for input: 'C00008'\n",
      "[11:25:39] SMILES Parse Error: duplicated ring closure 0 bonds atom 0 to itself for input: 'C00009'\n",
      "[11:25:39] SMILES Parse Error: duplicated ring closure 0 bonds atom 0 to itself for input: 'C00669'\n",
      "[11:25:39] SMILES Parse Error: duplicated ring closure 0 bonds atom 0 to itself for input: 'C00026'\n",
      "[11:25:39] SMILES Parse Error: duplicated ring closure 0 bonds atom 0 to itself for input: 'C00437'\n",
      "[11:25:39] SMILES Parse Error: duplicated ring closure 0 bonds atom 0 to itself for input: 'C00025'\n",
      "[11:25:40] SMILES Parse Error: duplicated ring closure 0 bonds atom 0 to itself for input: 'C01250'\n",
      "[11:25:40] SMILES Parse Error: duplicated ring closure 0 bonds atom 0 to itself for input: 'C00006'\n",
      "[11:25:41] SMILES Parse Error: duplicated ring closure 0 bonds atom 0 to itself for input: 'C00051'\n",
      "[11:25:41] SMILES Parse Error: duplicated ring closure 0 bonds atom 0 to itself for input: 'C00005'\n",
      "[11:25:41] SMILES Parse Error: duplicated ring closure 0 bonds atom 0 to itself for input: 'C00080'\n",
      "[11:25:41] WARNING: not removing hydrogen atom without neighbors\n",
      "[11:25:41] SMILES Parse Error: duplicated ring closure 0 bonds atom 0 to itself for input: 'C00127'\n",
      "[11:25:41] SMILES Parse Error: duplicated ring closure 0 bonds atom 0 to itself for input: 'C00003'\n",
      "[11:25:41] SMILES Parse Error: duplicated ring closure 0 bonds atom 0 to itself for input: 'C00051'\n",
      "[11:25:41] SMILES Parse Error: duplicated ring closure 0 bonds atom 0 to itself for input: 'C00004'\n",
      "[11:25:41] SMILES Parse Error: duplicated ring closure 0 bonds atom 0 to itself for input: 'C00080'\n",
      "[11:25:41] WARNING: not removing hydrogen atom without neighbors\n",
      "[11:25:41] SMILES Parse Error: duplicated ring closure 0 bonds atom 0 to itself for input: 'C00127'\n",
      "[11:25:41] SMILES Parse Error: duplicated ring closure 0 bonds atom 0 to itself for input: 'C00155'\n",
      "[11:25:41] SMILES Parse Error: unclosed ring for input: 'C04489'\n",
      "[11:25:42] SMILES Parse Error: duplicated ring closure 0 bonds atom 0 to itself for input: 'C00073'\n",
      "[11:25:42] SMILES Parse Error: unclosed ring for input: 'C04144'\n",
      "[11:25:43] SMILES Parse Error: unclosed ring for input: 'C04489'\n",
      "[11:25:43] SMILES Parse Error: unclosed ring for input: 'C05698'\n"
     ]
    },
    {
     "name": "stdout",
     "output_type": "stream",
     "text": [
      "Failed to retrieve data. Status code: 404\n"
     ]
    },
    {
     "name": "stderr",
     "output_type": "stream",
     "text": [
      "[11:25:44] SMILES Parse Error: unclosed ring for input: 'C04144'\n",
      "[11:25:44] SMILES Parse Error: unclosed ring for input: 'C05335'\n",
      "[11:25:44] SMILES Parse Error: duplicated ring closure 0 bonds atom 0 to itself for input: 'C01103'\n",
      "[11:25:45] SMILES Parse Error: duplicated ring closure 0 bonds atom 0 to itself for input: 'C00011'\n",
      "[11:25:45] SMILES Parse Error: duplicated ring closure 0 bonds atom 0 to itself for input: 'C00105'\n",
      "[11:25:45] SMILES Parse Error: unclosed ring for input: 'C04896'\n",
      "[11:25:46] SMILES Parse Error: unclosed ring for input: 'C04916'\n",
      "[11:25:47] SMILES Parse Error: duplicated ring closure 0 bonds atom 0 to itself for input: 'C00270'\n",
      "[11:25:48] SMILES Parse Error: duplicated ring closure 0 bonds atom 0 to itself for input: 'C00022'\n",
      "[11:25:48] SMILES Parse Error: duplicated ring closure 0 bonds atom 0 to itself for input: 'C00645'\n",
      "[11:25:49] SMILES Parse Error: duplicated ring closure 0 bonds atom 0 to itself for input: 'C00001'\n",
      "[11:25:49] SMILES Parse Error: duplicated ring closure 0 bonds atom 0 to itself for input: 'C00002'\n",
      "[11:25:49] SMILES Parse Error: duplicated ring closure 0 bonds atom 0 to itself for input: 'C00064'\n",
      "[11:25:49] SMILES Parse Error: unclosed ring for input: 'C04376'\n",
      "[11:25:50] SMILES Parse Error: duplicated ring closure 0 bonds atom 0 to itself for input: 'C00008'\n",
      "[11:25:51] SMILES Parse Error: duplicated ring closure 0 bonds atom 0 to itself for input: 'C00009'\n",
      "[11:25:51] SMILES Parse Error: duplicated ring closure 0 bonds atom 0 to itself for input: 'C00025'\n",
      "[11:25:51] SMILES Parse Error: duplicated ring closure 0 bonds atom 0 to itself for input: 'C04640'\n",
      "[11:25:52] SMILES Parse Error: duplicated ring closure 0 bonds atom 0 to itself for input: 'C00001'\n",
      "[11:25:52] SMILES Parse Error: duplicated ring closure 0 bonds atom 0 to itself for input: 'C00006'\n",
      "[11:25:52] SMILES Parse Error: duplicated ring closure 0 bonds atom 0 to itself for input: 'C00283'\n",
      "[11:25:52] SMILES Parse Error: duplicated ring closure 0 bonds atom 0 to itself for input: 'C00005'\n",
      "[11:25:52] SMILES Parse Error: duplicated ring closure 0 bonds atom 0 to itself for input: 'C00080'\n",
      "[11:25:52] WARNING: not removing hydrogen atom without neighbors\n",
      "[11:25:52] SMILES Parse Error: duplicated ring closure 0 bonds atom 0 to itself for input: 'C00094'\n",
      "[11:25:52] SMILES Parse Error: duplicated ring closure 0 bonds atom 0 to itself for input: 'C00002'\n",
      "[11:25:52] SMILES Parse Error: duplicated ring closure 0 bonds atom 0 to itself for input: 'C00049'\n",
      "[11:25:52] SMILES Parse Error: unclosed ring for input: 'C04751'\n",
      "[11:25:53] SMILES Parse Error: duplicated ring closure 0 bonds atom 0 to itself for input: 'C00008'\n",
      "[11:25:53] SMILES Parse Error: duplicated ring closure 0 bonds atom 0 to itself for input: 'C00009'\n",
      "[11:25:53] SMILES Parse Error: unclosed ring for input: 'C04823'\n",
      "[11:25:53] SMILES Parse Error: duplicated ring closure 0 bonds atom 0 to itself for input: 'C00001'\n",
      "[11:25:53] SMILES Parse Error: duplicated ring closure 0 bonds atom 0 to itself for input: 'C00185'\n",
      "[11:25:54] SMILES Parse Error: duplicated ring closure 0 bonds atom 0 to itself for input: 'C00221'\n",
      "[11:25:54] SMILES Parse Error: duplicated ring closure 0 bonds atom 0 to itself for input: 'C00001'\n",
      "[11:25:54] SMILES Parse Error: duplicated ring closure 0 bonds atom 0 to itself for input: 'C00185'\n",
      "[11:25:54] SMILES Parse Error: duplicated ring closure 0 bonds atom 0 to itself for input: 'C00031'\n",
      "[11:25:54] SMILES Parse Error: duplicated ring closure 0 bonds atom 0 to itself for input: 'C00001'\n",
      "[11:25:54] SMILES Parse Error: duplicated ring closure 0 bonds atom 0 to itself for input: 'C00221'\n",
      "[11:25:54] SMILES Parse Error: duplicated ring closure 0 bonds atom 0 to itself for input: 'C00760'\n"
     ]
    },
    {
     "name": "stdout",
     "output_type": "stream",
     "text": [
      "Failed to retrieve data. Status code: 404\n"
     ]
    },
    {
     "name": "stderr",
     "output_type": "stream",
     "text": [
      "[11:25:55] SMILES Parse Error: duplicated ring closure 0 bonds atom 0 to itself for input: 'C00001'\n",
      "[11:25:55] SMILES Parse Error: unclosed ring for input: 'C01798'\n"
     ]
    },
    {
     "name": "stdout",
     "output_type": "stream",
     "text": [
      "Failed to retrieve data. Status code: 404\n"
     ]
    },
    {
     "name": "stderr",
     "output_type": "stream",
     "text": [
      "[11:25:56] SMILES Parse Error: duplicated ring closure 0 bonds atom 0 to itself for input: 'C00267'\n",
      "[11:25:56] SMILES Parse Error: unclosed ring for input: 'C01335'\n"
     ]
    },
    {
     "name": "stdout",
     "output_type": "stream",
     "text": [
      "Failed to retrieve data. Status code: 404\n"
     ]
    },
    {
     "name": "stderr",
     "output_type": "stream",
     "text": [
      "[11:25:57] SMILES Parse Error: duplicated ring closure 0 bonds atom 0 to itself for input: 'C00001'\n",
      "[11:25:57] SMILES Parse Error: unclosed ring for input: 'C05713'\n"
     ]
    },
    {
     "name": "stdout",
     "output_type": "stream",
     "text": [
      "Failed to retrieve data. Status code: 404\n"
     ]
    },
    {
     "name": "stderr",
     "output_type": "stream",
     "text": [
      "[11:25:58] SMILES Parse Error: duplicated ring closure 0 bonds atom 0 to itself for input: 'C00031'\n",
      "[11:25:58] SMILES Parse Error: unclosed ring for input: 'C05712'\n"
     ]
    },
    {
     "name": "stdout",
     "output_type": "stream",
     "text": [
      "Failed to retrieve data. Status code: 404\n"
     ]
    },
    {
     "name": "stderr",
     "output_type": "stream",
     "text": [
      "[11:25:59] SMILES Parse Error: duplicated ring closure 0 bonds atom 0 to itself for input: 'C00001'\n",
      "[11:25:59] SMILES Parse Error: unclosed ring for input: 'C05839'\n",
      "[11:26:00] SMILES Parse Error: duplicated ring closure 0 bonds atom 0 to itself for input: 'C00031'\n",
      "[11:26:00] SMILES Parse Error: unclosed ring for input: 'C05838'\n",
      "[11:26:01] SMILES Parse Error: duplicated ring closure 0 bonds atom 0 to itself for input: 'C00001'\n",
      "[11:26:01] SMILES Parse Error: duplicated ring closure 0 bonds atom 0 to itself for input: 'C01100'\n",
      "[11:26:02] SMILES Parse Error: duplicated ring closure 0 bonds atom 0 to itself for input: 'C00009'\n",
      "[11:26:02] SMILES Parse Error: duplicated ring closure 0 bonds atom 0 to itself for input: 'C00860'\n",
      "[11:26:03] SMILES Parse Error: duplicated ring closure 0 bonds atom 0 to itself for input: 'C00001'\n",
      "[11:26:03] SMILES Parse Error: duplicated ring closure 1 bonds atom 0 to itself for input: 'C11439'\n",
      "[11:26:04] SMILES Parse Error: duplicated ring closure 0 bonds atom 0 to itself for input: 'C00058'\n",
      "[11:26:04] SMILES Parse Error: unclosed ring for input: 'C11440'\n",
      "[11:26:05] SMILES Parse Error: duplicated ring closure 0 bonds atom 0 to itself for input: 'C00092'\n",
      "[11:26:05] SMILES Parse Error: duplicated ring closure 0 bonds atom 0 to itself for input: 'C00085'\n",
      "[11:26:05] SMILES Parse Error: duplicated ring closure 0 bonds atom 0 to itself for input: 'C00668'\n",
      "[11:26:05] SMILES Parse Error: unclosed ring for input: 'C05345'\n",
      "[11:26:05] SMILES Parse Error: unclosed ring for input: 'C01172'\n",
      "[11:26:05] SMILES Parse Error: unclosed ring for input: 'C05345'\n",
      "[11:26:05] SMILES Parse Error: duplicated ring closure 0 bonds atom 0 to itself for input: 'C00668'\n",
      "[11:26:05] SMILES Parse Error: unclosed ring for input: 'C01172'\n",
      "[11:26:05] SMILES Parse Error: duplicated ring closure 0 bonds atom 0 to itself for input: 'C00001'\n",
      "[11:26:05] SMILES Parse Error: unclosed ring for input: 'C01419'\n",
      "[11:26:06] SMILES Parse Error: duplicated ring closure 0 bonds atom 0 to itself for input: 'C00037'\n",
      "[11:26:06] SMILES Parse Error: duplicated ring closure 0 bonds atom 0 to itself for input: 'C00097'\n",
      "[11:26:06] SMILES Parse Error: duplicated ring closure 0 bonds atom 0 to itself for input: 'C00001'\n",
      "[11:26:06] SMILES Parse Error: unclosed ring for input: 'C05729'\n",
      "[11:26:06] SMILES Parse Error: duplicated ring closure 0 bonds atom 0 to itself for input: 'C00037'\n",
      "[11:26:06] SMILES Parse Error: unclosed ring for input: 'C05726'\n",
      "[11:26:06] SMILES Parse Error: duplicated ring closure 0 bonds atom 0 to itself for input: 'C00001'\n",
      "[11:26:06] SMILES Parse Error: duplicated ring closure 0 bonds atom 0 to itself for input: 'C00354'\n",
      "[11:26:06] SMILES Parse Error: duplicated ring closure 0 bonds atom 0 to itself for input: 'C00009'\n",
      "[11:26:06] SMILES Parse Error: duplicated ring closure 0 bonds atom 0 to itself for input: 'C00085'\n",
      "[11:26:06] SMILES Parse Error: duplicated ring closure 0 bonds atom 0 to itself for input: 'C00074'\n",
      "[11:26:06] SMILES Parse Error: unclosed ring for input: 'C05382'\n",
      "[11:26:06] SMILES Parse Error: duplicated ring closure 1 bonds atom 0 to itself for input: 'C11215'\n",
      "[11:26:06] SMILES Parse Error: unclosed ring for input: 'C05378'\n",
      "[11:26:06] SMILES Parse Error: unclosed ring for input: 'C20679'\n",
      "[11:26:07] SMILES Parse Error: duplicated ring closure 0 bonds atom 0 to itself for input: 'C00008'\n",
      "[11:26:07] SMILES Parse Error: duplicated ring closure 0 bonds atom 0 to itself for input: 'C00447'\n",
      "[11:26:07] SMILES Parse Error: duplicated ring closure 0 bonds atom 0 to itself for input: 'C00085'\n",
      "[11:26:07] SMILES Parse Error: duplicated ring closure 0 bonds atom 0 to itself for input: 'C00736'\n",
      "[11:26:08] SMILES Parse Error: unclosed ring for input: 'C01172'\n",
      "[11:26:08] SMILES Parse Error: duplicated ring closure 0 bonds atom 0 to itself for input: 'C00009'\n",
      "[11:26:08] SMILES Parse Error: unclosed ring for input: 'C01478'\n",
      "[11:26:08] SMILES Parse Error: duplicated ring closure 0 bonds atom 0 to itself for input: 'C00665'\n",
      "[11:26:09] SMILES Parse Error: duplicated ring closure 0 bonds atom 0 to itself for input: 'C00097'\n",
      "[11:26:09] SMILES Parse Error: unclosed ring for input: 'C06232'\n",
      "[11:26:10] SMILES Parse Error: duplicated ring closure 0 bonds atom 0 to itself for input: 'C00354'\n",
      "[11:26:10] SMILES Parse Error: duplicated ring closure 0 bonds atom 0 to itself for input: 'C00002'\n",
      "[11:26:10] SMILES Parse Error: unclosed ring for input: 'C05345'\n",
      "[11:26:10] SMILES Parse Error: duplicated ring closure 0 bonds atom 0 to itself for input: 'C02086'\n",
      "[11:26:11] SMILES Parse Error: duplicated ring closure 0 bonds atom 0 to itself for input: 'C00020'\n",
      "[11:26:11] SMILES Parse Error: duplicated ring closure 0 bonds atom 0 to itself for input: 'C00001'\n",
      "[11:26:11] SMILES Parse Error: duplicated ring closure 0 bonds atom 0 to itself for input: 'C00001'\n",
      "[11:26:11] SMILES Parse Error: unclosed ring for input: 'C05378'\n",
      "[11:26:12] SMILES Parse Error: duplicated ring closure 0 bonds atom 0 to itself for input: 'C00009'\n",
      "[11:26:12] SMILES Parse Error: unclosed ring for input: 'C05345'\n",
      "[11:26:12] SMILES Parse Error: duplicated ring closure 0 bonds atom 0 to itself for input: 'C00074'\n",
      "[11:26:12] SMILES Parse Error: unclosed ring for input: 'C05382'\n",
      "[11:26:12] SMILES Parse Error: duplicated ring closure 1 bonds atom 0 to itself for input: 'C11215'\n",
      "[11:26:12] SMILES Parse Error: unclosed ring for input: 'C05378'\n",
      "[11:26:12] SMILES Parse Error: unclosed ring for input: 'C20679'\n",
      "[11:26:12] SMILES Parse Error: duplicated ring closure 0 bonds atom 0 to itself for input: 'C00008'\n",
      "[11:26:12] SMILES Parse Error: duplicated ring closure 0 bonds atom 0 to itself for input: 'C00447'\n",
      "[11:26:12] SMILES Parse Error: duplicated ring closure 0 bonds atom 0 to itself for input: 'C00085'\n",
      "[11:26:12] SMILES Parse Error: duplicated ring closure 0 bonds atom 0 to itself for input: 'C00736'\n",
      "[11:26:12] SMILES Parse Error: unclosed ring for input: 'C01172'\n",
      "[11:26:12] SMILES Parse Error: duplicated ring closure 0 bonds atom 0 to itself for input: 'C00009'\n",
      "[11:26:12] SMILES Parse Error: unclosed ring for input: 'C01478'\n",
      "[11:26:12] SMILES Parse Error: duplicated ring closure 0 bonds atom 0 to itself for input: 'C00665'\n",
      "[11:26:12] SMILES Parse Error: duplicated ring closure 0 bonds atom 0 to itself for input: 'C00097'\n",
      "[11:26:12] SMILES Parse Error: unclosed ring for input: 'C06232'\n",
      "[11:26:12] SMILES Parse Error: duplicated ring closure 0 bonds atom 0 to itself for input: 'C00354'\n",
      "[11:26:12] SMILES Parse Error: duplicated ring closure 0 bonds atom 0 to itself for input: 'C00002'\n",
      "[11:26:12] SMILES Parse Error: unclosed ring for input: 'C05345'\n",
      "[11:26:12] SMILES Parse Error: duplicated ring closure 0 bonds atom 0 to itself for input: 'C02086'\n",
      "[11:26:12] SMILES Parse Error: duplicated ring closure 0 bonds atom 0 to itself for input: 'C00020'\n",
      "[11:26:12] SMILES Parse Error: duplicated ring closure 0 bonds atom 0 to itself for input: 'C00001'\n",
      "[11:26:12] SMILES Parse Error: duplicated ring closure 0 bonds atom 0 to itself for input: 'C00001'\n",
      "[11:26:12] SMILES Parse Error: duplicated ring closure 0 bonds atom 0 to itself for input: 'C00447'\n",
      "[11:26:13] SMILES Parse Error: duplicated ring closure 0 bonds atom 0 to itself for input: 'C00009'\n",
      "[11:26:13] SMILES Parse Error: unclosed ring for input: 'C05382'\n",
      "[11:26:13] SMILES Parse Error: duplicated ring closure 0 bonds atom 0 to itself for input: 'C00074'\n",
      "[11:26:13] SMILES Parse Error: unclosed ring for input: 'C05382'\n",
      "[11:26:13] SMILES Parse Error: duplicated ring closure 1 bonds atom 0 to itself for input: 'C11215'\n",
      "[11:26:13] SMILES Parse Error: unclosed ring for input: 'C05378'\n",
      "[11:26:13] SMILES Parse Error: unclosed ring for input: 'C20679'\n",
      "[11:26:13] SMILES Parse Error: duplicated ring closure 0 bonds atom 0 to itself for input: 'C00008'\n",
      "[11:26:13] SMILES Parse Error: duplicated ring closure 0 bonds atom 0 to itself for input: 'C00447'\n",
      "[11:26:13] SMILES Parse Error: duplicated ring closure 0 bonds atom 0 to itself for input: 'C00085'\n",
      "[11:26:13] SMILES Parse Error: duplicated ring closure 0 bonds atom 0 to itself for input: 'C00736'\n",
      "[11:26:13] SMILES Parse Error: unclosed ring for input: 'C01172'\n",
      "[11:26:13] SMILES Parse Error: duplicated ring closure 0 bonds atom 0 to itself for input: 'C00009'\n",
      "[11:26:13] SMILES Parse Error: unclosed ring for input: 'C01478'\n",
      "[11:26:13] SMILES Parse Error: duplicated ring closure 0 bonds atom 0 to itself for input: 'C00665'\n",
      "[11:26:13] SMILES Parse Error: duplicated ring closure 0 bonds atom 0 to itself for input: 'C00097'\n",
      "[11:26:13] SMILES Parse Error: unclosed ring for input: 'C06232'\n",
      "[11:26:13] SMILES Parse Error: duplicated ring closure 0 bonds atom 0 to itself for input: 'C00354'\n",
      "[11:26:13] SMILES Parse Error: duplicated ring closure 0 bonds atom 0 to itself for input: 'C00002'\n",
      "[11:26:13] SMILES Parse Error: unclosed ring for input: 'C05345'\n",
      "[11:26:13] SMILES Parse Error: duplicated ring closure 0 bonds atom 0 to itself for input: 'C02086'\n",
      "[11:26:13] SMILES Parse Error: duplicated ring closure 0 bonds atom 0 to itself for input: 'C00020'\n",
      "[11:26:13] SMILES Parse Error: duplicated ring closure 0 bonds atom 0 to itself for input: 'C00001'\n",
      "[11:26:13] SMILES Parse Error: duplicated ring closure 0 bonds atom 0 to itself for input: 'C00199'\n",
      "[11:26:13] SMILES Parse Error: duplicated ring closure 0 bonds atom 0 to itself for input: 'C00231'\n",
      "[11:26:13] SMILES Parse Error: duplicated ring closure 0 bonds atom 0 to itself for input: 'C00231'\n",
      "[11:26:14] SMILES Parse Error: duplicated ring closure 0 bonds atom 0 to itself for input: 'C00199'\n",
      "[11:26:14] SMILES Parse Error: duplicated ring closure 0 bonds atom 0 to itself for input: 'C00013'\n",
      "[11:26:14] SMILES Parse Error: duplicated ring closure 0 bonds atom 0 to itself for input: 'C00020'\n",
      "[11:26:14] SMILES Parse Error: duplicated ring closure 0 bonds atom 0 to itself for input: 'C00119'\n",
      "[11:26:14] SMILES Parse Error: duplicated ring closure 0 bonds atom 0 to itself for input: 'C00147'\n",
      "[11:26:14] SMILES Parse Error: duplicated ring closure 0 bonds atom 0 to itself for input: 'C00013'\n",
      "[11:26:14] SMILES Parse Error: duplicated ring closure 0 bonds atom 0 to itself for input: 'C00144'\n",
      "[11:26:14] SMILES Parse Error: duplicated ring closure 0 bonds atom 0 to itself for input: 'C00119'\n",
      "[11:26:14] SMILES Parse Error: duplicated ring closure 0 bonds atom 0 to itself for input: 'C00242'\n",
      "[11:26:14] SMILES Parse Error: duplicated ring closure 0 bonds atom 0 to itself for input: 'C00013'\n",
      "[11:26:14] SMILES Parse Error: unclosed ring for input: 'C04677'\n",
      "[11:26:14] SMILES Parse Error: duplicated ring closure 0 bonds atom 0 to itself for input: 'C00119'\n",
      "[11:26:14] SMILES Parse Error: duplicated ring closure 0 bonds atom 0 to itself for input: 'C04051'\n",
      "[11:26:15] SMILES Parse Error: duplicated ring closure 0 bonds atom 0 to itself for input: 'C00001'\n",
      "[11:26:15] SMILES Parse Error: duplicated ring closure 0 bonds atom 0 to itself for input: 'C00003'\n",
      "[11:26:15] SMILES Parse Error: duplicated ring closure 0 bonds atom 0 to itself for input: 'C00576'\n",
      "[11:26:16] SMILES Parse Error: duplicated ring closure 0 bonds atom 0 to itself for input: 'C00004'\n",
      "[11:26:16] SMILES Parse Error: duplicated ring closure 0 bonds atom 0 to itself for input: 'C00080'\n",
      "[11:26:16] WARNING: not removing hydrogen atom without neighbors\n",
      "[11:26:16] SMILES Parse Error: duplicated ring closure 0 bonds atom 0 to itself for input: 'C00719'\n",
      "[11:26:17] SMILES Parse Error: duplicated ring closure 0 bonds atom 0 to itself for input: 'C00001'\n",
      "[11:26:17] SMILES Parse Error: duplicated ring closure 0 bonds atom 0 to itself for input: 'C00006'\n",
      "[11:26:17] SMILES Parse Error: duplicated ring closure 0 bonds atom 0 to itself for input: 'C00576'\n",
      "[11:26:17] SMILES Parse Error: duplicated ring closure 0 bonds atom 0 to itself for input: 'C00005'\n",
      "[11:26:17] SMILES Parse Error: duplicated ring closure 0 bonds atom 0 to itself for input: 'C00080'\n",
      "[11:26:17] WARNING: not removing hydrogen atom without neighbors\n",
      "[11:26:17] SMILES Parse Error: duplicated ring closure 0 bonds atom 0 to itself for input: 'C00719'\n",
      "[11:26:17] SMILES Parse Error: unclosed ring for input: 'C03785'\n",
      "[11:26:17] SMILES Parse Error: duplicated ring closure 0 bonds atom 0 to itself for input: 'C00111'\n",
      "[11:26:17] SMILES Parse Error: duplicated ring closure 0 bonds atom 0 to itself for input: 'C00118'\n",
      "[11:26:17] SMILES Parse Error: duplicated ring closure 0 bonds atom 0 to itself for input: 'C03160'\n",
      "[11:26:18] SMILES Parse Error: duplicated ring closure 0 bonds atom 0 to itself for input: 'C00010'\n",
      "[11:26:18] SMILES Parse Error: unclosed ring for input: 'C03657'\n",
      "[11:26:19] SMILES Parse Error: duplicated ring closure 0 bonds atom 0 to itself for input: 'C03160'\n",
      "[11:26:19] SMILES Parse Error: duplicated ring closure 0 bonds atom 0 to itself for input: 'C00001'\n",
      "[11:26:19] SMILES Parse Error: unclosed ring for input: 'C15547'\n"
     ]
    },
    {
     "name": "stdout",
     "output_type": "stream",
     "text": [
      "Failed to retrieve data. Status code: 404\n"
     ]
    },
    {
     "name": "stderr",
     "output_type": "stream",
     "text": [
      "[11:26:20] SMILES Parse Error: duplicated ring closure 0 bonds atom 0 to itself for input: 'C00001'\n",
      "[11:26:20] SMILES Parse Error: duplicated ring closure 0 bonds atom 0 to itself for input: 'C00343'\n",
      "[11:26:20] SMILES Parse Error: unclosed ring for input: 'C04232'\n"
     ]
    },
    {
     "name": "stdout",
     "output_type": "stream",
     "text": [
      "Failed to retrieve data. Status code: 404\n"
     ]
    },
    {
     "name": "stderr",
     "output_type": "stream",
     "text": [
      "[11:26:21] SMILES Parse Error: duplicated ring closure 0 bonds atom 0 to itself for input: 'C00342'\n",
      "[11:26:21] SMILES Parse Error: unclosed ring for input: 'C03723'\n"
     ]
    },
    {
     "name": "stdout",
     "output_type": "stream",
     "text": [
      "Failed to retrieve data. Status code: 404\n"
     ]
    },
    {
     "name": "stderr",
     "output_type": "stream",
     "text": [
      "[11:26:22] SMILES Parse Error: duplicated ring closure 0 bonds atom 0 to itself for input: 'C00001'\n",
      "[11:26:22] SMILES Parse Error: duplicated ring closure 0 bonds atom 0 to itself for input: 'C00206'\n",
      "[11:26:22] SMILES Parse Error: duplicated ring closure 0 bonds atom 0 to itself for input: 'C00343'\n",
      "[11:26:22] SMILES Parse Error: duplicated ring closure 0 bonds atom 0 to itself for input: 'C00008'\n",
      "[11:26:22] SMILES Parse Error: duplicated ring closure 0 bonds atom 0 to itself for input: 'C00342'\n",
      "[11:26:22] SMILES Parse Error: duplicated ring closure 0 bonds atom 0 to itself for input: 'C00001'\n",
      "[11:26:22] SMILES Parse Error: duplicated ring closure 0 bonds atom 0 to itself for input: 'C00343'\n",
      "[11:26:22] SMILES Parse Error: unclosed ring for input: 'C01346'\n",
      "[11:26:22] SMILES Parse Error: duplicated ring closure 0 bonds atom 0 to itself for input: 'C00015'\n",
      "[11:26:22] SMILES Parse Error: duplicated ring closure 0 bonds atom 0 to itself for input: 'C00342'\n",
      "[11:26:22] SMILES Parse Error: duplicated ring closure 0 bonds atom 0 to itself for input: 'C00001'\n",
      "[11:26:22] SMILES Parse Error: duplicated ring closure 0 bonds atom 0 to itself for input: 'C00343'\n",
      "[11:26:22] SMILES Parse Error: duplicated ring closure 0 bonds atom 0 to itself for input: 'C00361'\n",
      "[11:26:23] SMILES Parse Error: duplicated ring closure 0 bonds atom 0 to itself for input: 'C00035'\n",
      "[11:26:23] SMILES Parse Error: duplicated ring closure 0 bonds atom 0 to itself for input: 'C00342'\n",
      "[11:26:23] SMILES Parse Error: duplicated ring closure 0 bonds atom 0 to itself for input: 'C00001'\n",
      "[11:26:23] SMILES Parse Error: duplicated ring closure 0 bonds atom 0 to itself for input: 'C00343'\n",
      "[11:26:23] SMILES Parse Error: duplicated ring closure 0 bonds atom 0 to itself for input: 'C00705'\n",
      "[11:26:23] SMILES Parse Error: duplicated ring closure 0 bonds atom 0 to itself for input: 'C00112'\n",
      "[11:26:23] SMILES Parse Error: duplicated ring closure 0 bonds atom 0 to itself for input: 'C00342'\n",
      "[11:26:23] SMILES Parse Error: duplicated ring closure 0 bonds atom 0 to itself for input: 'C00001'\n",
      "[11:26:23] SMILES Parse Error: unclosed ring for input: 'C04232'\n",
      "[11:26:23] SMILES Parse Error: unclosed ring for input: 'C16664'\n",
      "[11:26:24] SMILES Parse Error: unclosed ring for input: 'C03723'\n",
      "[11:26:24] SMILES Parse Error: unclosed ring for input: 'C16663'\n",
      "[11:26:25] SMILES Parse Error: duplicated ring closure 0 bonds atom 0 to itself for input: 'C00001'\n",
      "[11:26:25] SMILES Parse Error: duplicated ring closure 0 bonds atom 0 to itself for input: 'C03170'\n",
      "[11:26:26] SMILES Parse Error: unclosed ring for input: 'C04232'\n",
      "[11:26:26] SMILES Parse Error: duplicated ring closure 0 bonds atom 0 to itself for input: 'C02090'\n",
      "[11:26:27] SMILES Parse Error: unclosed ring for input: 'C03723'\n",
      "[11:26:27] SMILES Parse Error: duplicated ring closure 0 bonds atom 0 to itself for input: 'C00006'\n",
      "[11:26:27] SMILES Parse Error: duplicated ring closure 0 bonds atom 0 to itself for input: 'C00014'\n",
      "[11:26:27] SMILES Parse Error: duplicated ring closure 0 bonds atom 0 to itself for input: 'C00130'\n",
      "[11:26:27] SMILES Parse Error: duplicated ring closure 0 bonds atom 0 to itself for input: 'C00005'\n",
      "[11:26:27] SMILES Parse Error: duplicated ring closure 0 bonds atom 0 to itself for input: 'C00080'\n",
      "[11:26:27] WARNING: not removing hydrogen atom without neighbors\n",
      "[11:26:27] SMILES Parse Error: duplicated ring closure 0 bonds atom 0 to itself for input: 'C00144'\n",
      "[11:26:27] SMILES Parse Error: duplicated ring closure 0 bonds atom 0 to itself for input: 'C00006'\n",
      "[11:26:27] SMILES Parse Error: duplicated ring closure 0 bonds atom 0 to itself for input: 'C00009'\n",
      "[11:26:27] SMILES Parse Error: unclosed ring for input: 'C01165'\n",
      "[11:26:28] SMILES Parse Error: duplicated ring closure 0 bonds atom 0 to itself for input: 'C00005'\n",
      "[11:26:28] SMILES Parse Error: duplicated ring closure 0 bonds atom 0 to itself for input: 'C00080'\n",
      "[11:26:28] WARNING: not removing hydrogen atom without neighbors\n",
      "[11:26:28] SMILES Parse Error: unclosed ring for input: 'C03287'\n",
      "[11:26:29] SMILES Parse Error: duplicated ring closure 0 bonds atom 0 to itself for input: 'C00013'\n",
      "[11:26:29] SMILES Parse Error: duplicated ring closure 0 bonds atom 0 to itself for input: 'C00655'\n",
      "[11:26:29] SMILES Parse Error: duplicated ring closure 0 bonds atom 0 to itself for input: 'C00119'\n",
      "[11:26:29] SMILES Parse Error: duplicated ring closure 0 bonds atom 0 to itself for input: 'C00385'\n",
      "[11:26:29] SMILES Parse Error: duplicated ring closure 0 bonds atom 0 to itself for input: 'C00013'\n",
      "[11:26:29] SMILES Parse Error: duplicated ring closure 0 bonds atom 0 to itself for input: 'C00144'\n",
      "[11:26:29] SMILES Parse Error: duplicated ring closure 0 bonds atom 0 to itself for input: 'C00119'\n",
      "[11:26:29] SMILES Parse Error: duplicated ring closure 0 bonds atom 0 to itself for input: 'C00242'\n",
      "[11:26:29] SMILES Parse Error: unclosed ring for input: 'C04332'\n",
      "[11:26:29] SMILES Parse Error: duplicated ring closure 0 bonds atom 0 to itself for input: 'C00255'\n",
      "[11:26:30] SMILES Parse Error: unclosed ring for input: 'C04732'\n",
      "[11:26:30] SMILES Parse Error: duplicated ring closure 0 bonds atom 0 to itself for input: 'C00006'\n",
      "[11:26:30] SMILES Parse Error: duplicated ring closure 0 bonds atom 0 to itself for input: 'C00069'\n",
      "[11:26:30] SMILES Parse Error: duplicated ring closure 0 bonds atom 0 to itself for input: 'C00005'\n",
      "[11:26:30] SMILES Parse Error: duplicated ring closure 0 bonds atom 0 to itself for input: 'C00071'\n"
     ]
    },
    {
     "name": "stdout",
     "output_type": "stream",
     "text": [
      "Failed to retrieve data. Status code: 404\n"
     ]
    },
    {
     "name": "stderr",
     "output_type": "stream",
     "text": [
      "[11:26:31] SMILES Parse Error: duplicated ring closure 0 bonds atom 0 to itself for input: 'C00080'\n",
      "[11:26:31] WARNING: not removing hydrogen atom without neighbors\n",
      "[11:26:31] SMILES Parse Error: duplicated ring closure 0 bonds atom 0 to itself for input: 'C00006'\n",
      "[11:26:31] SMILES Parse Error: duplicated ring closure 0 bonds atom 0 to itself for input: 'C00226'\n"
     ]
    },
    {
     "name": "stdout",
     "output_type": "stream",
     "text": [
      "Failed to retrieve data. Status code: 404\n"
     ]
    },
    {
     "name": "stderr",
     "output_type": "stream",
     "text": [
      "[11:26:32] SMILES Parse Error: duplicated ring closure 0 bonds atom 0 to itself for input: 'C00005'\n",
      "[11:26:32] SMILES Parse Error: duplicated ring closure 0 bonds atom 0 to itself for input: 'C00071'\n",
      "[11:26:32] SMILES Parse Error: duplicated ring closure 0 bonds atom 0 to itself for input: 'C00080'\n",
      "[11:26:32] WARNING: not removing hydrogen atom without neighbors\n",
      "[11:26:32] SMILES Parse Error: duplicated ring closure 0 bonds atom 0 to itself for input: 'C00006'\n",
      "[11:26:32] SMILES Parse Error: duplicated ring closure 0 bonds atom 0 to itself for input: 'C00469'\n",
      "[11:26:33] SMILES Parse Error: duplicated ring closure 0 bonds atom 0 to itself for input: 'C00005'\n",
      "[11:26:33] SMILES Parse Error: duplicated ring closure 0 bonds atom 0 to itself for input: 'C00080'\n",
      "[11:26:33] WARNING: not removing hydrogen atom without neighbors\n",
      "[11:26:33] SMILES Parse Error: duplicated ring closure 0 bonds atom 0 to itself for input: 'C00084'\n",
      "[11:26:34] SMILES Parse Error: duplicated ring closure 0 bonds atom 0 to itself for input: 'C00006'\n",
      "[11:26:34] SMILES Parse Error: duplicated ring closure 0 bonds atom 0 to itself for input: 'C00116'\n",
      "[11:26:34] SMILES Parse Error: duplicated ring closure 0 bonds atom 0 to itself for input: 'C00005'\n",
      "[11:26:34] SMILES Parse Error: duplicated ring closure 0 bonds atom 0 to itself for input: 'C00080'\n",
      "[11:26:34] WARNING: not removing hydrogen atom without neighbors\n",
      "[11:26:34] SMILES Parse Error: duplicated ring closure 0 bonds atom 0 to itself for input: 'C00577'\n",
      "[11:26:34] SMILES Parse Error: duplicated ring closure 0 bonds atom 0 to itself for input: 'C00006'\n",
      "[11:26:34] SMILES Parse Error: duplicated ring closure 0 bonds atom 0 to itself for input: 'C06103'\n",
      "[11:26:35] SMILES Parse Error: duplicated ring closure 0 bonds atom 0 to itself for input: 'C00005'\n",
      "[11:26:35] SMILES Parse Error: duplicated ring closure 0 bonds atom 0 to itself for input: 'C00080'\n",
      "[11:26:35] WARNING: not removing hydrogen atom without neighbors\n",
      "[11:26:35] SMILES Parse Error: duplicated ring closure 0 bonds atom 0 to itself for input: 'C06102'\n",
      "[11:26:36] SMILES Parse Error: duplicated ring closure 0 bonds atom 0 to itself for input: 'C00003'\n",
      "[11:26:36] SMILES Parse Error: duplicated ring closure 0 bonds atom 0 to itself for input: 'C00197'\n",
      "[11:26:36] SMILES Parse Error: duplicated ring closure 0 bonds atom 0 to itself for input: 'C00004'\n",
      "[11:26:37] SMILES Parse Error: duplicated ring closure 0 bonds atom 0 to itself for input: 'C00080'\n",
      "[11:26:37] WARNING: not removing hydrogen atom without neighbors\n",
      "[11:26:37] SMILES Parse Error: unclosed ring for input: 'C03232'\n",
      "[11:26:37] SMILES Parse Error: duplicated ring closure 0 bonds atom 0 to itself for input: 'C00003'\n",
      "[11:26:37] SMILES Parse Error: duplicated ring closure 0 bonds atom 0 to itself for input: 'C02630'\n",
      "[11:26:38] SMILES Parse Error: duplicated ring closure 0 bonds atom 0 to itself for input: 'C00004'\n",
      "[11:26:38] SMILES Parse Error: duplicated ring closure 0 bonds atom 0 to itself for input: 'C00026'\n",
      "[11:26:38] SMILES Parse Error: duplicated ring closure 0 bonds atom 0 to itself for input: 'C00080'\n",
      "[11:26:38] WARNING: not removing hydrogen atom without neighbors\n",
      "[11:26:38] SMILES Parse Error: duplicated ring closure 0 bonds atom 0 to itself for input: 'C00002'\n",
      "[11:26:38] SMILES Parse Error: duplicated ring closure 0 bonds atom 0 to itself for input: 'C00624'\n",
      "[11:26:39] SMILES Parse Error: duplicated ring closure 0 bonds atom 0 to itself for input: 'C00008'\n",
      "[11:26:39] SMILES Parse Error: unclosed ring for input: 'C04133'\n",
      "[11:26:40] SMILES Parse Error: duplicated ring closure 0 bonds atom 0 to itself for input: 'C00001'\n",
      "[11:26:40] SMILES Parse Error: unclosed ring for input: 'C03899'\n"
     ]
    },
    {
     "name": "stdout",
     "output_type": "stream",
     "text": [
      "Failed to retrieve data. Status code: 404\n"
     ]
    },
    {
     "name": "stderr",
     "output_type": "stream",
     "text": [
      "[11:26:41] SMILES Parse Error: duplicated ring closure 0 bonds atom 0 to itself for input: 'C00051'\n",
      "[11:26:41] SMILES Parse Error: unclosed ring for input: 'C02929'\n"
     ]
    },
    {
     "name": "stdout",
     "output_type": "stream",
     "text": [
      "Failed to retrieve data. Status code: 404\n"
     ]
    },
    {
     "name": "stderr",
     "output_type": "stream",
     "text": [
      "[11:26:42] SMILES Parse Error: duplicated ring closure 0 bonds atom 0 to itself for input: 'C00001'\n",
      "[11:26:42] SMILES Parse Error: unclosed ring for input: 'C03451'\n",
      "[11:26:43] SMILES Parse Error: duplicated ring closure 0 bonds atom 0 to itself for input: 'C00051'\n",
      "[11:26:43] SMILES Parse Error: duplicated ring closure 0 bonds atom 0 to itself for input: 'C00256'\n",
      "[11:26:44] SMILES Parse Error: duplicated ring closure 0 bonds atom 0 to itself for input: 'C00002'\n",
      "[11:26:44] SMILES Parse Error: duplicated ring closure 0 bonds atom 0 to itself for input: 'C00037'\n",
      "[11:26:44] SMILES Parse Error: duplicated ring closure 0 bonds atom 0 to itself for input: 'C03090'\n",
      "[11:26:45] SMILES Parse Error: duplicated ring closure 0 bonds atom 0 to itself for input: 'C00008'\n",
      "[11:26:45] SMILES Parse Error: duplicated ring closure 0 bonds atom 0 to itself for input: 'C00009'\n",
      "[11:26:45] SMILES Parse Error: unclosed ring for input: 'C03838'\n",
      "[11:26:46] SMILES Parse Error: duplicated ring closure 0 bonds atom 0 to itself for input: 'C00143'\n",
      "[11:26:46] SMILES Parse Error: duplicated ring closure 0 bonds atom 0 to itself for input: 'C00365'\n",
      "[11:26:47] SMILES Parse Error: duplicated ring closure 0 bonds atom 0 to itself for input: 'C00364'\n",
      "[11:26:48] SMILES Parse Error: duplicated ring closure 0 bonds atom 0 to itself for input: 'C00415'\n",
      "[11:26:49] SMILES Parse Error: duplicated ring closure 0 bonds atom 0 to itself for input: 'C00275'\n",
      "[11:26:50] SMILES Parse Error: duplicated ring closure 0 bonds atom 0 to itself for input: 'C00085'\n",
      "[11:26:50] SMILES Parse Error: duplicated ring closure 0 bonds atom 0 to itself for input: 'C00275'\n",
      "[11:26:50] SMILES Parse Error: unclosed ring for input: 'C05345'\n",
      "[11:26:50] SMILES Parse Error: duplicated ring closure 0 bonds atom 0 to itself for input: 'C00013'\n",
      "[11:26:50] SMILES Parse Error: unclosed ring for input: 'C02739'\n",
      "[11:26:51] SMILES Parse Error: duplicated ring closure 0 bonds atom 0 to itself for input: 'C00002'\n",
      "[11:26:51] SMILES Parse Error: duplicated ring closure 0 bonds atom 0 to itself for input: 'C00119'\n",
      "[11:26:51] SMILES Parse Error: duplicated ring closure 0 bonds atom 0 to itself for input: 'C00001'\n",
      "[11:26:51] SMILES Parse Error: duplicated ring closure 0 bonds atom 0 to itself for input: 'C00064'\n",
      "[11:26:51] SMILES Parse Error: duplicated ring closure 0 bonds atom 0 to itself for input: 'C00014'\n",
      "[11:26:51] SMILES Parse Error: duplicated ring closure 0 bonds atom 0 to itself for input: 'C00025'\n",
      "[11:26:51] SMILES Parse Error: duplicated ring closure 0 bonds atom 0 to itself for input: 'C00002'\n",
      "[11:26:52] SMILES Parse Error: duplicated ring closure 0 bonds atom 0 to itself for input: 'C00014'\n",
      "[11:26:52] SMILES Parse Error: duplicated ring closure 0 bonds atom 0 to itself for input: 'C00049'\n",
      "[11:26:52] SMILES Parse Error: duplicated ring closure 0 bonds atom 0 to itself for input: 'C00013'\n",
      "[11:26:52] SMILES Parse Error: duplicated ring closure 0 bonds atom 0 to itself for input: 'C00020'\n",
      "[11:26:52] SMILES Parse Error: duplicated ring closure 0 bonds atom 0 to itself for input: 'C00152'\n",
      "[11:26:52] SMILES Parse Error: duplicated ring closure 0 bonds atom 0 to itself for input: 'C00001'\n",
      "[11:26:52] SMILES Parse Error: duplicated ring closure 0 bonds atom 0 to itself for input: 'C00002'\n",
      "[11:26:52] SMILES Parse Error: duplicated ring closure 0 bonds atom 0 to itself for input: 'C00049'\n",
      "[11:26:52] SMILES Parse Error: duplicated ring closure 0 bonds atom 0 to itself for input: 'C00064'\n",
      "[11:26:52] SMILES Parse Error: duplicated ring closure 0 bonds atom 0 to itself for input: 'C00013'\n",
      "[11:26:52] SMILES Parse Error: duplicated ring closure 0 bonds atom 0 to itself for input: 'C00020'\n",
      "[11:26:52] SMILES Parse Error: duplicated ring closure 0 bonds atom 0 to itself for input: 'C00025'\n",
      "[11:26:52] SMILES Parse Error: duplicated ring closure 0 bonds atom 0 to itself for input: 'C00152'\n",
      "[11:26:53] SMILES Parse Error: duplicated ring closure 0 bonds atom 0 to itself for input: 'C00001'\n",
      "[11:26:53] SMILES Parse Error: duplicated ring closure 0 bonds atom 0 to itself for input: 'C00002'\n",
      "[11:26:53] SMILES Parse Error: duplicated ring closure 0 bonds atom 0 to itself for input: 'C00008'\n",
      "[11:26:53] SMILES Parse Error: duplicated ring closure 0 bonds atom 0 to itself for input: 'C00009'\n",
      "[11:26:53] SMILES Parse Error: duplicated ring closure 0 bonds atom 0 to itself for input: 'C00002'\n",
      "[11:26:53] SMILES Parse Error: duplicated ring closure 0 bonds atom 0 to itself for input: 'C00105'\n",
      "[11:26:53] SMILES Parse Error: duplicated ring closure 0 bonds atom 0 to itself for input: 'C00008'\n",
      "[11:26:53] SMILES Parse Error: duplicated ring closure 0 bonds atom 0 to itself for input: 'C00015'\n",
      "[11:26:53] SMILES Parse Error: duplicated ring closure 0 bonds atom 0 to itself for input: 'C00134'\n",
      "[11:26:54] SMILES Parse Error: unclosed ring for input: 'C01137'\n",
      "[11:26:55] SMILES Parse Error: duplicated ring closure 0 bonds atom 0 to itself for input: 'C00170'\n",
      "[11:26:55] SMILES Parse Error: duplicated ring closure 0 bonds atom 0 to itself for input: 'C00315'\n",
      "[11:26:56] SMILES Parse Error: duplicated ring closure 0 bonds atom 0 to itself for input: 'C00315'\n",
      "[11:26:56] SMILES Parse Error: unclosed ring for input: 'C01137'\n",
      "[11:26:56] SMILES Parse Error: duplicated ring closure 0 bonds atom 0 to itself for input: 'C00170'\n",
      "[11:26:56] SMILES Parse Error: duplicated ring closure 0 bonds atom 0 to itself for input: 'C00750'\n",
      "[11:26:57] SMILES Parse Error: unclosed ring for input: 'C01137'\n",
      "[11:26:57] SMILES Parse Error: unclosed ring for input: 'C01672'\n",
      "[11:26:58] SMILES Parse Error: duplicated ring closure 0 bonds atom 0 to itself for input: 'C00170'\n",
      "[11:26:58] SMILES Parse Error: unclosed ring for input: 'C16565'\n"
     ]
    },
    {
     "name": "stdout",
     "output_type": "stream",
     "text": [
      "Failed to retrieve data. Status code: 404\n"
     ]
    },
    {
     "name": "stderr",
     "output_type": "stream",
     "text": [
      "[11:26:59] SMILES Parse Error: duplicated ring closure 0 bonds atom 0 to itself for input: 'C00026'\n",
      "[11:26:59] SMILES Parse Error: unclosed ring for input: 'C04268'\n",
      "[11:27:01] SMILES Parse Error: duplicated ring closure 0 bonds atom 0 to itself for input: 'C00025'\n",
      "[11:27:01] SMILES Parse Error: unclosed ring for input: 'C11907'\n",
      "[11:27:01] SMILES Parse Error: duplicated ring closure 0 bonds atom 0 to itself for input: 'C00010'\n",
      "[11:27:01] SMILES Parse Error: duplicated ring closure 0 bonds atom 0 to itself for input: 'C00026'\n",
      "[11:27:01] SMILES Parse Error: duplicated ring closure 0 bonds atom 0 to itself for input: 'C06018'\n",
      "[11:27:02] SMILES Parse Error: duplicated ring closure 0 bonds atom 0 to itself for input: 'C00024'\n",
      "[11:27:02] SMILES Parse Error: duplicated ring closure 0 bonds atom 0 to itself for input: 'C00025'\n",
      "[11:27:02] SMILES Parse Error: unclosed ring for input: 'C11907'\n",
      "[11:27:02] SMILES Parse Error: duplicated ring closure 0 bonds atom 0 to itself for input: 'C00001'\n",
      "[11:27:02] SMILES Parse Error: duplicated ring closure 0 bonds atom 0 to itself for input: 'C00007'\n",
      "[11:27:02] SMILES Parse Error: unclosed ring for input: 'C03148'\n"
     ]
    },
    {
     "name": "stdout",
     "output_type": "stream",
     "text": [
      "Failed to retrieve data. Status code: 404\n"
     ]
    },
    {
     "name": "stderr",
     "output_type": "stream",
     "text": [
      "[11:27:03] SMILES Parse Error: duplicated ring closure 0 bonds atom 0 to itself for input: 'C00027'\n",
      "[11:27:03] SMILES Parse Error: duplicated ring closure 0 bonds atom 0 to itself for input: 'C00067'\n",
      "[11:27:04] SMILES Parse Error: duplicated ring closure 0 bonds atom 0 to itself for input: 'C00151'\n"
     ]
    },
    {
     "name": "stdout",
     "output_type": "stream",
     "text": [
      "Failed to retrieve data. Status code: 404\n"
     ]
    },
    {
     "name": "stderr",
     "output_type": "stream",
     "text": [
      "[11:27:05] SMILES Parse Error: duplicated ring closure 0 bonds atom 0 to itself for input: 'C00001'\n",
      "[11:27:05] SMILES Parse Error: duplicated ring closure 0 bonds atom 0 to itself for input: 'C00460'\n",
      "[11:27:05] SMILES Parse Error: duplicated ring closure 0 bonds atom 0 to itself for input: 'C00013'\n",
      "[11:27:05] SMILES Parse Error: duplicated ring closure 0 bonds atom 0 to itself for input: 'C00365'\n",
      "[11:27:05] SMILES Parse Error: unclosed ring for input: 'C07292'\n"
     ]
    },
    {
     "name": "stdout",
     "output_type": "stream",
     "text": [
      "Failed to retrieve data. Status code: 404\n"
     ]
    },
    {
     "name": "stderr",
     "output_type": "stream",
     "text": [
      "[11:27:06] SMILES Parse Error: duplicated ring closure 1 bonds atom 0 to itself for input: 'C11215'\n",
      "[11:27:06] SMILES Parse Error: unclosed ring for input: 'C06697'\n",
      "[11:27:07] SMILES Parse Error: unclosed ring for input: 'C07293'\n"
     ]
    },
    {
     "name": "stdout",
     "output_type": "stream",
     "text": [
      "Failed to retrieve data. Status code: 404\n"
     ]
    },
    {
     "name": "stderr",
     "output_type": "stream",
     "text": [
      "[11:27:08] SMILES Parse Error: duplicated ring closure 0 bonds atom 0 to itself for input: 'C00002'\n",
      "[11:27:08] SMILES Parse Error: duplicated ring closure 0 bonds atom 0 to itself for input: 'C00680'\n",
      "[11:27:09] SMILES Parse Error: duplicated ring closure 0 bonds atom 0 to itself for input: 'C00692'\n",
      "[11:27:10] SMILES Parse Error: duplicated ring closure 0 bonds atom 0 to itself for input: 'C00008'\n",
      "[11:27:10] SMILES Parse Error: duplicated ring closure 0 bonds atom 0 to itself for input: 'C00009'\n",
      "[11:27:10] SMILES Parse Error: unclosed ring for input: 'C04877'\n",
      "[11:27:11] SMILES Parse Error: duplicated ring closure 0 bonds atom 0 to itself for input: 'C00001'\n",
      "[11:27:11] SMILES Parse Error: duplicated ring closure 0 bonds atom 0 to itself for input: 'C00343'\n",
      "[11:27:11] SMILES Parse Error: duplicated ring closure 0 bonds atom 0 to itself for input: 'C03023'\n"
     ]
    },
    {
     "name": "stdout",
     "output_type": "stream",
     "text": [
      "Failed to retrieve data. Status code: 404\n"
     ]
    },
    {
     "name": "stderr",
     "output_type": "stream",
     "text": [
      "[11:27:12] SMILES Parse Error: duplicated ring closure 0 bonds atom 0 to itself for input: 'C00342'\n",
      "[11:27:12] SMILES Parse Error: unclosed ring for input: 'C15653'\n",
      "[11:27:13] SMILES Parse Error: duplicated ring closure 0 bonds atom 0 to itself for input: 'C00177'\n",
      "[11:27:14] SMILES Parse Error: duplicated ring closure 0 bonds atom 0 to itself for input: 'C00320'\n",
      "[11:27:14] SMILES Parse Error: duplicated ring closure 0 bonds atom 0 to itself for input: 'C00094'\n",
      "[11:27:14] SMILES Parse Error: unclosed ring for input: 'C01755'\n",
      "[11:27:15] SMILES Parse Error: duplicated ring closure 0 bonds atom 0 to itself for input: 'C00041'\n",
      "[11:27:15] SMILES Parse Error: duplicated ring closure 0 bonds atom 0 to itself for input: 'C00133'\n",
      "[11:27:15] SMILES Parse Error: duplicated ring closure 0 bonds atom 0 to itself for input: 'C00001'\n",
      "[11:27:15] SMILES Parse Error: duplicated ring closure 0 bonds atom 0 to itself for input: 'C00931'\n",
      "[11:27:15] SMILES Parse Error: duplicated ring closure 0 bonds atom 0 to itself for input: 'C00014'\n",
      "[11:27:15] SMILES Parse Error: duplicated ring closure 0 bonds atom 0 to itself for input: 'C01024'\n",
      "[11:27:16] SMILES Parse Error: duplicated ring closure 0 bonds atom 0 to itself for input: 'C00051'\n",
      "[11:27:16] SMILES Parse Error: unclosed ring for input: 'C01322'\n"
     ]
    },
    {
     "name": "stdout",
     "output_type": "stream",
     "text": [
      "Failed to retrieve data. Status code: 404\n"
     ]
    },
    {
     "name": "stderr",
     "output_type": "stream",
     "text": [
      "[11:27:17] SMILES Parse Error: duplicated ring closure 0 bonds atom 0 to itself for input: 'C00462'\n"
     ]
    },
    {
     "name": "stdout",
     "output_type": "stream",
     "text": [
      "Failed to retrieve data. Status code: 404\n"
     ]
    },
    {
     "name": "stderr",
     "output_type": "stream",
     "text": [
      "[11:27:18] SMILES Parse Error: duplicated ring closure 0 bonds atom 0 to itself for input: 'C02320'\n"
     ]
    },
    {
     "name": "stdout",
     "output_type": "stream",
     "text": [
      "Failed to retrieve data. Status code: 404\n"
     ]
    },
    {
     "name": "stderr",
     "output_type": "stream",
     "text": [
      "[11:27:19] SMILES Parse Error: duplicated ring closure 0 bonds atom 0 to itself for input: 'C00051'\n",
      "[11:27:19] SMILES Parse Error: unclosed ring for input: 'C14859'\n"
     ]
    },
    {
     "name": "stdout",
     "output_type": "stream",
     "text": [
      "Failed to retrieve data. Status code: 404\n"
     ]
    },
    {
     "name": "stderr",
     "output_type": "stream",
     "text": [
      "[11:27:20] SMILES Parse Error: unclosed ring for input: 'C01327'\n",
      "[11:27:20] SMILES Parse Error: unclosed ring for input: 'C14864'\n"
     ]
    },
    {
     "name": "stdout",
     "output_type": "stream",
     "text": [
      "Failed to retrieve data. Status code: 404\n"
     ]
    },
    {
     "name": "stderr",
     "output_type": "stream",
     "text": [
      "[11:27:21] SMILES Parse Error: duplicated ring closure 0 bonds atom 0 to itself for input: 'C00051'\n",
      "[11:27:21] SMILES Parse Error: unclosed ring for input: 'C14865'\n"
     ]
    },
    {
     "name": "stdout",
     "output_type": "stream",
     "text": [
      "Failed to retrieve data. Status code: 404\n"
     ]
    },
    {
     "name": "stderr",
     "output_type": "stream",
     "text": [
      "[11:27:23] SMILES Parse Error: unclosed ring for input: 'C01327'\n",
      "[11:27:23] SMILES Parse Error: unclosed ring for input: 'C14863'\n"
     ]
    },
    {
     "name": "stdout",
     "output_type": "stream",
     "text": [
      "Failed to retrieve data. Status code: 404\n"
     ]
    },
    {
     "name": "stderr",
     "output_type": "stream",
     "text": [
      "[11:27:23] SMILES Parse Error: duplicated ring closure 0 bonds atom 0 to itself for input: 'C00051'\n",
      "[11:27:23] SMILES Parse Error: duplicated ring closure 0 bonds atom 0 to itself for input: 'C06790'\n",
      "[11:27:24] SMILES Parse Error: unclosed ring for input: 'C01327'\n",
      "[11:27:24] SMILES Parse Error: unclosed ring for input: 'C14868'\n"
     ]
    },
    {
     "name": "stdout",
     "output_type": "stream",
     "text": [
      "Failed to retrieve data. Status code: 404\n"
     ]
    },
    {
     "name": "stderr",
     "output_type": "stream",
     "text": [
      "[11:27:26] SMILES Parse Error: duplicated ring closure 0 bonds atom 0 to itself for input: 'C00051'\n",
      "[11:27:26] SMILES Parse Error: duplicated ring closure 0 bonds atom 0 to itself for input: 'C00080'\n",
      "[11:27:26] WARNING: not removing hydrogen atom without neighbors\n",
      "[11:27:26] SMILES Parse Error: unclosed ring for input: 'C11088'\n"
     ]
    },
    {
     "name": "stdout",
     "output_type": "stream",
     "text": [
      "Failed to retrieve data. Status code: 404\n"
     ]
    },
    {
     "name": "stderr",
     "output_type": "stream",
     "text": [
      "[11:27:26] SMILES Parse Error: unclosed ring for input: 'C13645'\n"
     ]
    },
    {
     "name": "stdout",
     "output_type": "stream",
     "text": [
      "Failed to retrieve data. Status code: 404\n"
     ]
    },
    {
     "name": "stderr",
     "output_type": "stream",
     "text": [
      "[11:27:27] SMILES Parse Error: unclosed ring for input: 'C14874'\n"
     ]
    },
    {
     "name": "stdout",
     "output_type": "stream",
     "text": [
      "Failed to retrieve data. Status code: 404\n"
     ]
    },
    {
     "name": "stderr",
     "output_type": "stream",
     "text": [
      "[11:27:28] SMILES Parse Error: duplicated ring closure 0 bonds atom 0 to itself for input: 'C00051'\n",
      "[11:27:28] SMILES Parse Error: unclosed ring for input: 'C14870'\n"
     ]
    },
    {
     "name": "stdout",
     "output_type": "stream",
     "text": [
      "Failed to retrieve data. Status code: 404\n"
     ]
    },
    {
     "name": "stderr",
     "output_type": "stream",
     "text": [
      "[11:27:30] SMILES Parse Error: unclosed ring for input: 'C13645'\n",
      "[11:27:30] SMILES Parse Error: duplicated ring closure 1 bonds atom 0 to itself for input: 'C14871'\n"
     ]
    },
    {
     "name": "stdout",
     "output_type": "stream",
     "text": [
      "Failed to retrieve data. Status code: 404\n"
     ]
    },
    {
     "name": "stderr",
     "output_type": "stream",
     "text": [
      "[11:27:30] SMILES Parse Error: duplicated ring closure 0 bonds atom 0 to itself for input: 'C00051'\n",
      "[11:27:30] SMILES Parse Error: duplicated ring closure 0 bonds atom 0 to itself for input: 'C00726'\n"
     ]
    },
    {
     "name": "stdout",
     "output_type": "stream",
     "text": [
      "Failed to retrieve data. Status code: 404\n"
     ]
    },
    {
     "name": "stderr",
     "output_type": "stream",
     "text": [
      "[11:27:31] SMILES Parse Error: unclosed ring for input: 'C01326'\n",
      "[11:27:32] SMILES Parse Error: duplicated ring closure 0 bonds atom 0 to itself for input: 'C02320'\n",
      "[11:27:32] SMILES Parse Error: duplicated ring closure 0 bonds atom 0 to itself for input: 'C00051'\n",
      "[11:27:32] SMILES Parse Error: unclosed ring for input: 'C16738'\n",
      "[11:27:33] SMILES Parse Error: duplicated ring closure 0 bonds atom 0 to itself for input: 'C00059'\n",
      "[11:27:33] SMILES Parse Error: duplicated ring closure 0 bonds atom 0 to itself for input: 'C02320'\n",
      "[11:27:33] SMILES Parse Error: duplicated ring closure 0 bonds atom 0 to itself for input: 'C00051'\n",
      "[11:27:33] SMILES Parse Error: unclosed ring for input: 'C14786'\n"
     ]
    },
    {
     "name": "stdout",
     "output_type": "stream",
     "text": [
      "Failed to retrieve data. Status code: 404\n"
     ]
    },
    {
     "name": "stderr",
     "output_type": "stream",
     "text": [
      "[11:27:34] SMILES Parse Error: duplicated ring closure 1 bonds atom 0 to itself for input: 'C14791'\n"
     ]
    },
    {
     "name": "stdout",
     "output_type": "stream",
     "text": [
      "Failed to retrieve data. Status code: 404\n"
     ]
    },
    {
     "name": "stderr",
     "output_type": "stream",
     "text": [
      "[11:27:35] SMILES Parse Error: duplicated ring closure 0 bonds atom 0 to itself for input: 'C00051'\n",
      "[11:27:35] SMILES Parse Error: unclosed ring for input: 'C14787'\n"
     ]
    },
    {
     "name": "stdout",
     "output_type": "stream",
     "text": [
      "Failed to retrieve data. Status code: 404\n"
     ]
    },
    {
     "name": "stderr",
     "output_type": "stream",
     "text": [
      "[11:27:36] SMILES Parse Error: unclosed ring for input: 'C14793'\n"
     ]
    },
    {
     "name": "stdout",
     "output_type": "stream",
     "text": [
      "Failed to retrieve data. Status code: 404\n"
     ]
    },
    {
     "name": "stderr",
     "output_type": "stream",
     "text": [
      "[11:27:37] SMILES Parse Error: duplicated ring closure 0 bonds atom 0 to itself for input: 'C00051'\n",
      "[11:27:37] SMILES Parse Error: unclosed ring for input: 'C14787'\n",
      "[11:27:37] SMILES Parse Error: unclosed ring for input: 'C14792'\n"
     ]
    },
    {
     "name": "stdout",
     "output_type": "stream",
     "text": [
      "Failed to retrieve data. Status code: 404\n"
     ]
    },
    {
     "name": "stderr",
     "output_type": "stream",
     "text": [
      "[11:27:38] SMILES Parse Error: duplicated ring closure 0 bonds atom 0 to itself for input: 'C00051'\n",
      "[11:27:38] SMILES Parse Error: unclosed ring for input: 'C14802'\n"
     ]
    },
    {
     "name": "stdout",
     "output_type": "stream",
     "text": [
      "Failed to retrieve data. Status code: 404\n"
     ]
    },
    {
     "name": "stderr",
     "output_type": "stream",
     "text": [
      "[11:27:39] SMILES Parse Error: unclosed ring for input: 'C14803'\n"
     ]
    },
    {
     "name": "stdout",
     "output_type": "stream",
     "text": [
      "Failed to retrieve data. Status code: 404\n"
     ]
    },
    {
     "name": "stderr",
     "output_type": "stream",
     "text": [
      "[11:27:40] SMILES Parse Error: duplicated ring closure 0 bonds atom 0 to itself for input: 'C00051'\n",
      "[11:27:40] SMILES Parse Error: unclosed ring for input: 'C14802'\n",
      "[11:27:40] SMILES Parse Error: unclosed ring for input: 'C14804'\n"
     ]
    },
    {
     "name": "stdout",
     "output_type": "stream",
     "text": [
      "Failed to retrieve data. Status code: 404\n"
     ]
    },
    {
     "name": "stderr",
     "output_type": "stream",
     "text": [
      "[11:27:41] SMILES Parse Error: duplicated ring closure 0 bonds atom 0 to itself for input: 'C00051'\n",
      "[11:27:41] SMILES Parse Error: duplicated ring closure 0 bonds atom 0 to itself for input: 'C14800'\n"
     ]
    },
    {
     "name": "stdout",
     "output_type": "stream",
     "text": [
      "Failed to retrieve data. Status code: 404\n"
     ]
    },
    {
     "name": "stderr",
     "output_type": "stream",
     "text": [
      "[11:27:42] SMILES Parse Error: unclosed ring for input: 'C14805'\n"
     ]
    },
    {
     "name": "stdout",
     "output_type": "stream",
     "text": [
      "Failed to retrieve data. Status code: 404\n"
     ]
    },
    {
     "name": "stderr",
     "output_type": "stream",
     "text": [
      "[11:27:42] SMILES Parse Error: duplicated ring closure 0 bonds atom 0 to itself for input: 'C00051'\n",
      "[11:27:43] SMILES Parse Error: duplicated ring closure 0 bonds atom 0 to itself for input: 'C14800'\n",
      "[11:27:43] SMILES Parse Error: unclosed ring for input: 'C14806'\n"
     ]
    },
    {
     "name": "stdout",
     "output_type": "stream",
     "text": [
      "Failed to retrieve data. Status code: 404\n"
     ]
    },
    {
     "name": "stderr",
     "output_type": "stream",
     "text": [
      "[11:27:43] SMILES Parse Error: duplicated ring closure 0 bonds atom 0 to itself for input: 'C00051'\n",
      "[11:27:43] SMILES Parse Error: unclosed ring for input: 'C14839'\n"
     ]
    },
    {
     "name": "stdout",
     "output_type": "stream",
     "text": [
      "Failed to retrieve data. Status code: 404\n"
     ]
    },
    {
     "name": "stderr",
     "output_type": "stream",
     "text": [
      "[11:27:44] SMILES Parse Error: unclosed ring for input: 'C14847'\n"
     ]
    },
    {
     "name": "stdout",
     "output_type": "stream",
     "text": [
      "Failed to retrieve data. Status code: 404\n"
     ]
    },
    {
     "name": "stderr",
     "output_type": "stream",
     "text": [
      "[11:27:45] SMILES Parse Error: duplicated ring closure 0 bonds atom 0 to itself for input: 'C00051'\n",
      "[11:27:45] SMILES Parse Error: unclosed ring for input: 'C14840'\n"
     ]
    },
    {
     "name": "stdout",
     "output_type": "stream",
     "text": [
      "Failed to retrieve data. Status code: 404\n"
     ]
    },
    {
     "name": "stderr",
     "output_type": "stream",
     "text": [
      "[11:27:46] SMILES Parse Error: unclosed ring for input: 'C14848'\n"
     ]
    },
    {
     "name": "stdout",
     "output_type": "stream",
     "text": [
      "Failed to retrieve data. Status code: 404\n"
     ]
    },
    {
     "name": "stderr",
     "output_type": "stream",
     "text": [
      "[11:27:47] SMILES Parse Error: duplicated ring closure 0 bonds atom 0 to itself for input: 'C00051'\n",
      "[11:27:47] SMILES Parse Error: duplicated ring closure 1 bonds atom 0 to itself for input: 'C14851'\n"
     ]
    },
    {
     "name": "stdout",
     "output_type": "stream",
     "text": [
      "Failed to retrieve data. Status code: 404\n"
     ]
    },
    {
     "name": "stderr",
     "output_type": "stream",
     "text": [
      "[11:27:48] SMILES Parse Error: unclosed ring for input: 'C14855'\n"
     ]
    },
    {
     "name": "stdout",
     "output_type": "stream",
     "text": [
      "Failed to retrieve data. Status code: 404\n"
     ]
    },
    {
     "name": "stderr",
     "output_type": "stream",
     "text": [
      "[11:27:49] SMILES Parse Error: duplicated ring closure 0 bonds atom 0 to itself for input: 'C00051'\n",
      "[11:27:49] SMILES Parse Error: unclosed ring for input: 'C14852'\n"
     ]
    },
    {
     "name": "stdout",
     "output_type": "stream",
     "text": [
      "Failed to retrieve data. Status code: 404\n"
     ]
    },
    {
     "name": "stderr",
     "output_type": "stream",
     "text": [
      "[11:27:50] SMILES Parse Error: duplicated ring closure 0 bonds atom 0 to itself for input: 'C00001'\n",
      "[11:27:50] SMILES Parse Error: unclosed ring for input: 'C14856'\n"
     ]
    },
    {
     "name": "stdout",
     "output_type": "stream",
     "text": [
      "Failed to retrieve data. Status code: 404\n"
     ]
    },
    {
     "name": "stderr",
     "output_type": "stream",
     "text": [
      "[11:27:51] SMILES Parse Error: duplicated ring closure 0 bonds atom 0 to itself for input: 'C00051'\n",
      "[11:27:51] SMILES Parse Error: unclosed ring for input: 'C14858'\n"
     ]
    },
    {
     "name": "stdout",
     "output_type": "stream",
     "text": [
      "Failed to retrieve data. Status code: 404\n"
     ]
    },
    {
     "name": "stderr",
     "output_type": "stream",
     "text": [
      "[11:27:52] SMILES Parse Error: duplicated ring closure 1 bonds atom 0 to itself for input: 'C14861'\n"
     ]
    },
    {
     "name": "stdout",
     "output_type": "stream",
     "text": [
      "Failed to retrieve data. Status code: 404\n"
     ]
    },
    {
     "name": "stderr",
     "output_type": "stream",
     "text": [
      "[11:27:52] SMILES Parse Error: duplicated ring closure 0 bonds atom 0 to itself for input: 'C00051'\n",
      "[11:27:52] SMILES Parse Error: unclosed ring for input: 'C14857'\n"
     ]
    },
    {
     "name": "stdout",
     "output_type": "stream",
     "text": [
      "Failed to retrieve data. Status code: 404\n"
     ]
    },
    {
     "name": "stderr",
     "output_type": "stream",
     "text": [
      "[11:27:53] SMILES Parse Error: unclosed ring for input: 'C01327'\n",
      "[11:27:53] SMILES Parse Error: unclosed ring for input: 'C14865'\n",
      "[11:27:53] SMILES Parse Error: duplicated ring closure 0 bonds atom 0 to itself for input: 'C00051'\n",
      "[11:27:53] SMILES Parse Error: unclosed ring for input: 'C07645'\n",
      "[11:27:54] SMILES Parse Error: duplicated ring closure 0 bonds atom 0 to itself for input: 'C00001'\n",
      "[11:27:54] SMILES Parse Error: duplicated ring closure 1 bonds atom 0 to itself for input: 'C11583'\n",
      "[11:27:55] SMILES Parse Error: duplicated ring closure 0 bonds atom 0 to itself for input: 'C00051'\n",
      "[11:27:56] SMILES Parse Error: unclosed ring for input: 'C19586'\n",
      "[11:27:57] SMILES Parse Error: duplicated ring closure 1 bonds atom 0 to itself for input: 'C11278'\n"
     ]
    },
    {
     "name": "stdout",
     "output_type": "stream",
     "text": [
      "Failed to retrieve data. Status code: 404\n"
     ]
    },
    {
     "name": "stderr",
     "output_type": "stream",
     "text": [
      "[11:27:57] SMILES Parse Error: duplicated ring closure 0 bonds atom 0 to itself for input: 'C00003'\n",
      "[11:27:58] SMILES Parse Error: duplicated ring closure 0 bonds atom 0 to itself for input: 'C00069'\n",
      "[11:27:58] SMILES Parse Error: duplicated ring closure 0 bonds atom 0 to itself for input: 'C00004'\n",
      "[11:27:58] SMILES Parse Error: duplicated ring closure 0 bonds atom 0 to itself for input: 'C00071'\n",
      "[11:27:58] SMILES Parse Error: duplicated ring closure 0 bonds atom 0 to itself for input: 'C00080'\n",
      "[11:27:58] WARNING: not removing hydrogen atom without neighbors\n",
      "[11:27:58] SMILES Parse Error: duplicated ring closure 0 bonds atom 0 to itself for input: 'C14090'\n"
     ]
    },
    {
     "name": "stdout",
     "output_type": "stream",
     "text": [
      "Failed to retrieve data. Status code: 404\n"
     ]
    },
    {
     "name": "stderr",
     "output_type": "stream",
     "text": [
      "[11:27:58] SMILES Parse Error: duplicated ring closure 0 bonds atom 0 to itself for input: 'C00473'\n",
      "[11:28:00] SMILES Parse Error: unclosed ring for input: 'C05444'\n",
      "[11:28:01] SMILES Parse Error: unclosed ring for input: 'C14099'\n"
     ]
    },
    {
     "name": "stdout",
     "output_type": "stream",
     "text": [
      "Failed to retrieve data. Status code: 404\n"
     ]
    },
    {
     "name": "stderr",
     "output_type": "stream",
     "text": [
      "[11:28:02] SMILES Parse Error: unclosed ring for input: 'C16587'\n"
     ]
    },
    {
     "name": "stdout",
     "output_type": "stream",
     "text": [
      "Failed to retrieve data. Status code: 404\n"
     ]
    },
    {
     "name": "stderr",
     "output_type": "stream",
     "text": [
      "[11:28:02] SMILES Parse Error: duplicated ring closure 0 bonds atom 0 to itself for input: 'C00006'\n",
      "[11:28:03] SMILES Parse Error: duplicated ring closure 0 bonds atom 0 to itself for input: 'C01450'\n"
     ]
    },
    {
     "name": "stdout",
     "output_type": "stream",
     "text": [
      "Failed to retrieve data. Status code: 404\n"
     ]
    },
    {
     "name": "stderr",
     "output_type": "stream",
     "text": [
      "[11:28:03] SMILES Parse Error: duplicated ring closure 0 bonds atom 0 to itself for input: 'C00004'\n",
      "[11:28:03] SMILES Parse Error: unclosed ring for input: 'C05445'\n",
      "[11:28:04] SMILES Parse Error: duplicated ring closure 0 bonds atom 0 to itself for input: 'C00003'\n",
      "[11:28:05] SMILES Parse Error: unclosed ring for input: 'C16586'\n"
     ]
    },
    {
     "name": "stdout",
     "output_type": "stream",
     "text": [
      "Failed to retrieve data. Status code: 404\n"
     ]
    },
    {
     "name": "stderr",
     "output_type": "stream",
     "text": [
      "[11:28:05] SMILES Parse Error: unclosed ring for input: 'C16596'\n"
     ]
    },
    {
     "name": "stdout",
     "output_type": "stream",
     "text": [
      "Failed to retrieve data. Status code: 404\n"
     ]
    },
    {
     "name": "stderr",
     "output_type": "stream",
     "text": [
      "[11:28:06] SMILES Parse Error: unclosed ring for input: 'C06611'\n",
      "[11:28:07] SMILES Parse Error: duplicated ring closure 0 bonds atom 0 to itself for input: 'C00071'\n",
      "[11:28:07] SMILES Parse Error: duplicated ring closure 0 bonds atom 0 to itself for input: 'C00005'\n",
      "[11:28:07] SMILES Parse Error: unclosed ring for input: 'C14089'\n"
     ]
    },
    {
     "name": "stdout",
     "output_type": "stream",
     "text": [
      "Failed to retrieve data. Status code: 404\n"
     ]
    },
    {
     "name": "stderr",
     "output_type": "stream",
     "text": [
      "[11:28:08] SMILES Parse Error: unclosed ring for input: 'C06612'\n",
      "[11:28:09] SMILES Parse Error: duplicated ring closure 0 bonds atom 0 to itself for input: 'C00469'\n",
      "[11:28:09] SMILES Parse Error: unclosed ring for input: 'C06899'\n",
      "[11:28:10] SMILES Parse Error: unclosed ring for input: 'C16348'\n"
     ]
    },
    {
     "name": "stdout",
     "output_type": "stream",
     "text": [
      "Failed to retrieve data. Status code: 404\n"
     ]
    },
    {
     "name": "stderr",
     "output_type": "stream",
     "text": [
      "[11:28:11] SMILES Parse Error: duplicated ring closure 0 bonds atom 0 to itself for input: 'C00069'\n",
      "[11:28:11] SMILES Parse Error: unclosed ring for input: 'C01612'\n"
     ]
    },
    {
     "name": "stdout",
     "output_type": "stream",
     "text": [
      "Failed to retrieve data. Status code: 404\n"
     ]
    },
    {
     "name": "stderr",
     "output_type": "stream",
     "text": [
      "[11:28:12] SMILES Parse Error: duplicated ring closure 0 bonds atom 0 to itself for input: 'C00376'\n",
      "[11:28:13] SMILES Parse Error: unclosed ring for input: 'C07645'\n",
      "[11:28:13] SMILES Parse Error: duplicated ring closure 0 bonds atom 0 to itself for input: 'C00114'\n",
      "[11:28:13] SMILES Parse Error: duplicated ring closure 0 bonds atom 0 to itself for input: 'C00226'\n",
      "[11:28:13] SMILES Parse Error: duplicated ring closure 0 bonds atom 0 to itself for input: 'C00576'\n",
      "[11:28:13] SMILES Parse Error: unclosed ring for input: 'C05577'\n",
      "[11:28:14] SMILES Parse Error: duplicated ring closure 0 bonds atom 0 to itself for input: 'C00080'\n",
      "[11:28:14] WARNING: not removing hydrogen atom without neighbors\n",
      "[11:28:14] SMILES Parse Error: unclosed ring for input: 'C06613'\n",
      "[11:28:15] SMILES Parse Error: unclosed ring for input: 'C16595'\n"
     ]
    },
    {
     "name": "stdout",
     "output_type": "stream",
     "text": [
      "Failed to retrieve data. Status code: 404\n"
     ]
    },
    {
     "name": "stderr",
     "output_type": "stream",
     "text": [
      "[11:28:16] SMILES Parse Error: duplicated ring closure 0 bonds atom 0 to itself for input: 'C02909'\n",
      "[11:28:17] SMILES Parse Error: unclosed ring for input: 'C05576'\n",
      "[11:28:18] SMILES Parse Error: duplicated ring closure 1 bonds atom 0 to itself for input: 'C16551'\n"
     ]
    },
    {
     "name": "stdout",
     "output_type": "stream",
     "text": [
      "Failed to retrieve data. Status code: 404\n"
     ]
    },
    {
     "name": "stderr",
     "output_type": "stream",
     "text": [
      "[11:28:19] SMILES Parse Error: duplicated ring closure 0 bonds atom 0 to itself for input: 'C00084'\n",
      "[11:28:19] SMILES Parse Error: duplicated ring closure 0 bonds atom 0 to itself for input: 'C07490'\n",
      "[11:28:20] SMILES Parse Error: duplicated ring closure 0 bonds atom 0 to itself for input: 'C00001'\n",
      "[11:28:20] SMILES Parse Error: duplicated ring closure 0 bonds atom 0 to itself for input: 'C00003'\n",
      "[11:28:21] SMILES Parse Error: duplicated ring closure 0 bonds atom 0 to itself for input: 'C00226'\n",
      "[11:28:21] SMILES Parse Error: duplicated ring closure 0 bonds atom 0 to itself for input: 'C00004'\n",
      "[11:28:21] SMILES Parse Error: duplicated ring closure 0 bonds atom 0 to itself for input: 'C00071'\n",
      "[11:28:21] SMILES Parse Error: duplicated ring closure 0 bonds atom 0 to itself for input: 'C00080'\n",
      "[11:28:21] WARNING: not removing hydrogen atom without neighbors\n",
      "[11:28:21] SMILES Parse Error: duplicated ring closure 0 bonds atom 0 to itself for input: 'C14090'\n",
      "[11:28:21] SMILES Parse Error: duplicated ring closure 0 bonds atom 0 to itself for input: 'C00473'\n",
      "[11:28:21] SMILES Parse Error: unclosed ring for input: 'C05444'\n",
      "[11:28:21] SMILES Parse Error: unclosed ring for input: 'C14099'\n",
      "[11:28:21] SMILES Parse Error: unclosed ring for input: 'C16587'\n",
      "[11:28:21] SMILES Parse Error: duplicated ring closure 0 bonds atom 0 to itself for input: 'C00006'\n",
      "[11:28:21] SMILES Parse Error: duplicated ring closure 0 bonds atom 0 to itself for input: 'C01450'\n",
      "[11:28:21] SMILES Parse Error: duplicated ring closure 0 bonds atom 0 to itself for input: 'C00004'\n",
      "[11:28:21] SMILES Parse Error: unclosed ring for input: 'C05445'\n",
      "[11:28:21] SMILES Parse Error: duplicated ring closure 0 bonds atom 0 to itself for input: 'C00003'\n",
      "[11:28:21] SMILES Parse Error: unclosed ring for input: 'C16586'\n",
      "[11:28:21] SMILES Parse Error: unclosed ring for input: 'C16596'\n",
      "[11:28:21] SMILES Parse Error: unclosed ring for input: 'C06611'\n",
      "[11:28:21] SMILES Parse Error: duplicated ring closure 0 bonds atom 0 to itself for input: 'C00071'\n",
      "[11:28:21] SMILES Parse Error: duplicated ring closure 0 bonds atom 0 to itself for input: 'C00005'\n",
      "[11:28:21] SMILES Parse Error: unclosed ring for input: 'C14089'\n",
      "[11:28:21] SMILES Parse Error: unclosed ring for input: 'C06612'\n",
      "[11:28:21] SMILES Parse Error: duplicated ring closure 0 bonds atom 0 to itself for input: 'C00469'\n",
      "[11:28:22] SMILES Parse Error: unclosed ring for input: 'C06899'\n",
      "[11:28:22] SMILES Parse Error: unclosed ring for input: 'C16348'\n",
      "[11:28:22] SMILES Parse Error: duplicated ring closure 0 bonds atom 0 to itself for input: 'C00069'\n",
      "[11:28:22] SMILES Parse Error: unclosed ring for input: 'C01612'\n",
      "[11:28:22] SMILES Parse Error: duplicated ring closure 0 bonds atom 0 to itself for input: 'C00376'\n",
      "[11:28:22] SMILES Parse Error: unclosed ring for input: 'C07645'\n",
      "[11:28:22] SMILES Parse Error: duplicated ring closure 0 bonds atom 0 to itself for input: 'C00114'\n",
      "[11:28:22] SMILES Parse Error: duplicated ring closure 0 bonds atom 0 to itself for input: 'C00226'\n",
      "[11:28:22] SMILES Parse Error: duplicated ring closure 0 bonds atom 0 to itself for input: 'C00576'\n",
      "[11:28:22] SMILES Parse Error: unclosed ring for input: 'C05577'\n",
      "[11:28:22] SMILES Parse Error: duplicated ring closure 0 bonds atom 0 to itself for input: 'C00080'\n",
      "[11:28:22] WARNING: not removing hydrogen atom without neighbors\n",
      "[11:28:22] SMILES Parse Error: unclosed ring for input: 'C06613'\n",
      "[11:28:22] SMILES Parse Error: unclosed ring for input: 'C16595'\n",
      "[11:28:22] SMILES Parse Error: duplicated ring closure 0 bonds atom 0 to itself for input: 'C02909'\n",
      "[11:28:22] SMILES Parse Error: unclosed ring for input: 'C05576'\n",
      "[11:28:22] SMILES Parse Error: duplicated ring closure 1 bonds atom 0 to itself for input: 'C16551'\n",
      "[11:28:22] SMILES Parse Error: duplicated ring closure 0 bonds atom 0 to itself for input: 'C00084'\n",
      "[11:28:22] SMILES Parse Error: duplicated ring closure 0 bonds atom 0 to itself for input: 'C07490'\n",
      "[11:28:22] SMILES Parse Error: duplicated ring closure 0 bonds atom 0 to itself for input: 'C00001'\n",
      "[11:28:23] SMILES Parse Error: duplicated ring closure 0 bonds atom 0 to itself for input: 'C00003'\n",
      "[11:28:23] SMILES Parse Error: duplicated ring closure 0 bonds atom 0 to itself for input: 'C00469'\n",
      "[11:28:23] SMILES Parse Error: duplicated ring closure 0 bonds atom 0 to itself for input: 'C00004'\n",
      "[11:28:23] SMILES Parse Error: duplicated ring closure 0 bonds atom 0 to itself for input: 'C00080'\n",
      "[11:28:23] WARNING: not removing hydrogen atom without neighbors\n",
      "[11:28:23] SMILES Parse Error: duplicated ring closure 0 bonds atom 0 to itself for input: 'C00084'\n",
      "[11:28:23] SMILES Parse Error: duplicated ring closure 0 bonds atom 0 to itself for input: 'C14090'\n",
      "[11:28:23] SMILES Parse Error: duplicated ring closure 0 bonds atom 0 to itself for input: 'C00473'\n",
      "[11:28:23] SMILES Parse Error: unclosed ring for input: 'C05444'\n",
      "[11:28:23] SMILES Parse Error: unclosed ring for input: 'C14099'\n",
      "[11:28:23] SMILES Parse Error: unclosed ring for input: 'C16587'\n",
      "[11:28:23] SMILES Parse Error: duplicated ring closure 0 bonds atom 0 to itself for input: 'C00006'\n",
      "[11:28:23] SMILES Parse Error: duplicated ring closure 0 bonds atom 0 to itself for input: 'C01450'\n",
      "[11:28:23] SMILES Parse Error: duplicated ring closure 0 bonds atom 0 to itself for input: 'C00004'\n",
      "[11:28:23] SMILES Parse Error: unclosed ring for input: 'C05445'\n",
      "[11:28:23] SMILES Parse Error: duplicated ring closure 0 bonds atom 0 to itself for input: 'C00003'\n",
      "[11:28:24] SMILES Parse Error: unclosed ring for input: 'C16586'\n",
      "[11:28:24] SMILES Parse Error: unclosed ring for input: 'C16596'\n",
      "[11:28:24] SMILES Parse Error: unclosed ring for input: 'C06611'\n",
      "[11:28:24] SMILES Parse Error: duplicated ring closure 0 bonds atom 0 to itself for input: 'C00071'\n",
      "[11:28:24] SMILES Parse Error: duplicated ring closure 0 bonds atom 0 to itself for input: 'C00005'\n",
      "[11:28:24] SMILES Parse Error: unclosed ring for input: 'C14089'\n",
      "[11:28:24] SMILES Parse Error: unclosed ring for input: 'C06612'\n",
      "[11:28:24] SMILES Parse Error: duplicated ring closure 0 bonds atom 0 to itself for input: 'C00469'\n",
      "[11:28:24] SMILES Parse Error: unclosed ring for input: 'C06899'\n",
      "[11:28:24] SMILES Parse Error: unclosed ring for input: 'C16348'\n",
      "[11:28:24] SMILES Parse Error: duplicated ring closure 0 bonds atom 0 to itself for input: 'C00069'\n",
      "[11:28:24] SMILES Parse Error: unclosed ring for input: 'C01612'\n",
      "[11:28:24] SMILES Parse Error: duplicated ring closure 0 bonds atom 0 to itself for input: 'C00376'\n",
      "[11:28:24] SMILES Parse Error: unclosed ring for input: 'C07645'\n",
      "[11:28:24] SMILES Parse Error: duplicated ring closure 0 bonds atom 0 to itself for input: 'C00114'\n",
      "[11:28:24] SMILES Parse Error: duplicated ring closure 0 bonds atom 0 to itself for input: 'C00226'\n",
      "[11:28:24] SMILES Parse Error: duplicated ring closure 0 bonds atom 0 to itself for input: 'C00576'\n",
      "[11:28:24] SMILES Parse Error: unclosed ring for input: 'C05577'\n",
      "[11:28:24] SMILES Parse Error: duplicated ring closure 0 bonds atom 0 to itself for input: 'C00080'\n",
      "[11:28:24] WARNING: not removing hydrogen atom without neighbors\n",
      "[11:28:24] SMILES Parse Error: unclosed ring for input: 'C06613'\n",
      "[11:28:24] SMILES Parse Error: unclosed ring for input: 'C16595'\n",
      "[11:28:24] SMILES Parse Error: duplicated ring closure 0 bonds atom 0 to itself for input: 'C02909'\n",
      "[11:28:24] SMILES Parse Error: unclosed ring for input: 'C05576'\n",
      "[11:28:25] SMILES Parse Error: duplicated ring closure 1 bonds atom 0 to itself for input: 'C16551'\n",
      "[11:28:25] SMILES Parse Error: duplicated ring closure 0 bonds atom 0 to itself for input: 'C00084'\n",
      "[11:28:25] SMILES Parse Error: duplicated ring closure 0 bonds atom 0 to itself for input: 'C07490'\n",
      "[11:28:25] SMILES Parse Error: duplicated ring closure 0 bonds atom 0 to itself for input: 'C00001'\n",
      "[11:28:25] SMILES Parse Error: duplicated ring closure 0 bonds atom 0 to itself for input: 'C00003'\n",
      "[11:28:25] SMILES Parse Error: duplicated ring closure 0 bonds atom 0 to itself for input: 'C00473'\n",
      "[11:28:25] SMILES Parse Error: duplicated ring closure 0 bonds atom 0 to itself for input: 'C00004'\n",
      "[11:28:25] SMILES Parse Error: duplicated ring closure 0 bonds atom 0 to itself for input: 'C00080'\n",
      "[11:28:25] WARNING: not removing hydrogen atom without neighbors\n",
      "[11:28:25] SMILES Parse Error: duplicated ring closure 0 bonds atom 0 to itself for input: 'C00376'\n",
      "[11:28:25] SMILES Parse Error: duplicated ring closure 0 bonds atom 0 to itself for input: 'C14090'\n",
      "[11:28:25] SMILES Parse Error: duplicated ring closure 0 bonds atom 0 to itself for input: 'C00473'\n",
      "[11:28:25] SMILES Parse Error: unclosed ring for input: 'C05444'\n",
      "[11:28:26] SMILES Parse Error: unclosed ring for input: 'C14099'\n",
      "[11:28:26] SMILES Parse Error: unclosed ring for input: 'C16587'\n",
      "[11:28:26] SMILES Parse Error: duplicated ring closure 0 bonds atom 0 to itself for input: 'C00006'\n",
      "[11:28:26] SMILES Parse Error: duplicated ring closure 0 bonds atom 0 to itself for input: 'C01450'\n",
      "[11:28:26] SMILES Parse Error: duplicated ring closure 0 bonds atom 0 to itself for input: 'C00004'\n",
      "[11:28:26] SMILES Parse Error: unclosed ring for input: 'C05445'\n",
      "[11:28:26] SMILES Parse Error: duplicated ring closure 0 bonds atom 0 to itself for input: 'C00003'\n",
      "[11:28:26] SMILES Parse Error: unclosed ring for input: 'C16586'\n",
      "[11:28:26] SMILES Parse Error: unclosed ring for input: 'C16596'\n",
      "[11:28:26] SMILES Parse Error: unclosed ring for input: 'C06611'\n",
      "[11:28:26] SMILES Parse Error: duplicated ring closure 0 bonds atom 0 to itself for input: 'C00071'\n",
      "[11:28:26] SMILES Parse Error: duplicated ring closure 0 bonds atom 0 to itself for input: 'C00005'\n",
      "[11:28:26] SMILES Parse Error: unclosed ring for input: 'C14089'\n",
      "[11:28:26] SMILES Parse Error: unclosed ring for input: 'C06612'\n",
      "[11:28:26] SMILES Parse Error: duplicated ring closure 0 bonds atom 0 to itself for input: 'C00469'\n",
      "[11:28:26] SMILES Parse Error: unclosed ring for input: 'C06899'\n",
      "[11:28:26] SMILES Parse Error: unclosed ring for input: 'C16348'\n",
      "[11:28:26] SMILES Parse Error: duplicated ring closure 0 bonds atom 0 to itself for input: 'C00069'\n",
      "[11:28:26] SMILES Parse Error: unclosed ring for input: 'C01612'\n",
      "[11:28:26] SMILES Parse Error: duplicated ring closure 0 bonds atom 0 to itself for input: 'C00376'\n",
      "[11:28:27] SMILES Parse Error: unclosed ring for input: 'C07645'\n",
      "[11:28:27] SMILES Parse Error: duplicated ring closure 0 bonds atom 0 to itself for input: 'C00114'\n",
      "[11:28:27] SMILES Parse Error: duplicated ring closure 0 bonds atom 0 to itself for input: 'C00226'\n",
      "[11:28:27] SMILES Parse Error: duplicated ring closure 0 bonds atom 0 to itself for input: 'C00576'\n",
      "[11:28:27] SMILES Parse Error: unclosed ring for input: 'C05577'\n",
      "[11:28:27] SMILES Parse Error: duplicated ring closure 0 bonds atom 0 to itself for input: 'C00080'\n",
      "[11:28:27] WARNING: not removing hydrogen atom without neighbors\n",
      "[11:28:27] SMILES Parse Error: unclosed ring for input: 'C06613'\n",
      "[11:28:27] SMILES Parse Error: unclosed ring for input: 'C16595'\n",
      "[11:28:27] SMILES Parse Error: duplicated ring closure 0 bonds atom 0 to itself for input: 'C02909'\n",
      "[11:28:27] SMILES Parse Error: unclosed ring for input: 'C05576'\n",
      "[11:28:27] SMILES Parse Error: duplicated ring closure 1 bonds atom 0 to itself for input: 'C16551'\n",
      "[11:28:27] SMILES Parse Error: duplicated ring closure 0 bonds atom 0 to itself for input: 'C00084'\n",
      "[11:28:27] SMILES Parse Error: duplicated ring closure 0 bonds atom 0 to itself for input: 'C07490'\n",
      "[11:28:27] SMILES Parse Error: duplicated ring closure 0 bonds atom 0 to itself for input: 'C00001'\n",
      "[11:28:27] SMILES Parse Error: duplicated ring closure 0 bonds atom 0 to itself for input: 'C00003'\n",
      "[11:28:27] SMILES Parse Error: unclosed ring for input: 'C05444'\n",
      "[11:28:28] SMILES Parse Error: duplicated ring closure 0 bonds atom 0 to itself for input: 'C00004'\n",
      "[11:28:28] SMILES Parse Error: duplicated ring closure 0 bonds atom 0 to itself for input: 'C00080'\n",
      "[11:28:28] WARNING: not removing hydrogen atom without neighbors\n",
      "[11:28:28] SMILES Parse Error: unclosed ring for input: 'C05445'\n",
      "[11:28:28] SMILES Parse Error: duplicated ring closure 0 bonds atom 0 to itself for input: 'C14090'\n",
      "[11:28:28] SMILES Parse Error: duplicated ring closure 0 bonds atom 0 to itself for input: 'C00473'\n",
      "[11:28:28] SMILES Parse Error: unclosed ring for input: 'C05444'\n",
      "[11:28:28] SMILES Parse Error: unclosed ring for input: 'C14099'\n",
      "[11:28:28] SMILES Parse Error: unclosed ring for input: 'C16587'\n",
      "[11:28:28] SMILES Parse Error: duplicated ring closure 0 bonds atom 0 to itself for input: 'C00006'\n",
      "[11:28:28] SMILES Parse Error: duplicated ring closure 0 bonds atom 0 to itself for input: 'C01450'\n",
      "[11:28:28] SMILES Parse Error: duplicated ring closure 0 bonds atom 0 to itself for input: 'C00004'\n",
      "[11:28:28] SMILES Parse Error: unclosed ring for input: 'C05445'\n",
      "[11:28:28] SMILES Parse Error: duplicated ring closure 0 bonds atom 0 to itself for input: 'C00003'\n",
      "[11:28:28] SMILES Parse Error: unclosed ring for input: 'C16586'\n",
      "[11:28:28] SMILES Parse Error: unclosed ring for input: 'C16596'\n",
      "[11:28:28] SMILES Parse Error: unclosed ring for input: 'C06611'\n",
      "[11:28:28] SMILES Parse Error: duplicated ring closure 0 bonds atom 0 to itself for input: 'C00071'\n",
      "[11:28:28] SMILES Parse Error: duplicated ring closure 0 bonds atom 0 to itself for input: 'C00005'\n",
      "[11:28:28] SMILES Parse Error: unclosed ring for input: 'C14089'\n",
      "[11:28:28] SMILES Parse Error: unclosed ring for input: 'C06612'\n",
      "[11:28:29] SMILES Parse Error: duplicated ring closure 0 bonds atom 0 to itself for input: 'C00469'\n",
      "[11:28:29] SMILES Parse Error: unclosed ring for input: 'C06899'\n",
      "[11:28:29] SMILES Parse Error: unclosed ring for input: 'C16348'\n",
      "[11:28:29] SMILES Parse Error: duplicated ring closure 0 bonds atom 0 to itself for input: 'C00069'\n",
      "[11:28:29] SMILES Parse Error: unclosed ring for input: 'C01612'\n",
      "[11:28:29] SMILES Parse Error: duplicated ring closure 0 bonds atom 0 to itself for input: 'C00376'\n",
      "[11:28:29] SMILES Parse Error: unclosed ring for input: 'C07645'\n",
      "[11:28:29] SMILES Parse Error: duplicated ring closure 0 bonds atom 0 to itself for input: 'C00114'\n",
      "[11:28:29] SMILES Parse Error: duplicated ring closure 0 bonds atom 0 to itself for input: 'C00226'\n",
      "[11:28:29] SMILES Parse Error: duplicated ring closure 0 bonds atom 0 to itself for input: 'C00576'\n",
      "[11:28:29] SMILES Parse Error: unclosed ring for input: 'C05577'\n",
      "[11:28:29] SMILES Parse Error: duplicated ring closure 0 bonds atom 0 to itself for input: 'C00080'\n",
      "[11:28:29] WARNING: not removing hydrogen atom without neighbors\n",
      "[11:28:29] SMILES Parse Error: unclosed ring for input: 'C06613'\n",
      "[11:28:29] SMILES Parse Error: unclosed ring for input: 'C16595'\n",
      "[11:28:29] SMILES Parse Error: duplicated ring closure 0 bonds atom 0 to itself for input: 'C02909'\n",
      "[11:28:29] SMILES Parse Error: unclosed ring for input: 'C05576'\n",
      "[11:28:29] SMILES Parse Error: duplicated ring closure 1 bonds atom 0 to itself for input: 'C16551'\n",
      "[11:28:29] SMILES Parse Error: duplicated ring closure 0 bonds atom 0 to itself for input: 'C00084'\n",
      "[11:28:29] SMILES Parse Error: duplicated ring closure 0 bonds atom 0 to itself for input: 'C07490'\n",
      "[11:28:29] SMILES Parse Error: duplicated ring closure 0 bonds atom 0 to itself for input: 'C00001'\n",
      "[11:28:30] SMILES Parse Error: duplicated ring closure 0 bonds atom 0 to itself for input: 'C00003'\n",
      "[11:28:30] SMILES Parse Error: unclosed ring for input: 'C05576'\n",
      "[11:28:30] SMILES Parse Error: duplicated ring closure 0 bonds atom 0 to itself for input: 'C00004'\n",
      "[11:28:30] SMILES Parse Error: duplicated ring closure 0 bonds atom 0 to itself for input: 'C00080'\n",
      "[11:28:30] WARNING: not removing hydrogen atom without neighbors\n",
      "[11:28:30] SMILES Parse Error: unclosed ring for input: 'C05577'\n",
      "[11:28:30] SMILES Parse Error: duplicated ring closure 0 bonds atom 0 to itself for input: 'C14090'\n",
      "[11:28:30] SMILES Parse Error: duplicated ring closure 0 bonds atom 0 to itself for input: 'C00473'\n",
      "[11:28:30] SMILES Parse Error: unclosed ring for input: 'C05444'\n",
      "[11:28:30] SMILES Parse Error: unclosed ring for input: 'C14099'\n",
      "[11:28:30] SMILES Parse Error: unclosed ring for input: 'C16587'\n",
      "[11:28:30] SMILES Parse Error: duplicated ring closure 0 bonds atom 0 to itself for input: 'C00006'\n",
      "[11:28:30] SMILES Parse Error: duplicated ring closure 0 bonds atom 0 to itself for input: 'C01450'\n",
      "[11:28:30] SMILES Parse Error: duplicated ring closure 0 bonds atom 0 to itself for input: 'C00004'\n",
      "[11:28:30] SMILES Parse Error: unclosed ring for input: 'C05445'\n",
      "[11:28:31] SMILES Parse Error: duplicated ring closure 0 bonds atom 0 to itself for input: 'C00003'\n",
      "[11:28:31] SMILES Parse Error: unclosed ring for input: 'C16586'\n",
      "[11:28:31] SMILES Parse Error: unclosed ring for input: 'C16596'\n",
      "[11:28:31] SMILES Parse Error: unclosed ring for input: 'C06611'\n",
      "[11:28:31] SMILES Parse Error: duplicated ring closure 0 bonds atom 0 to itself for input: 'C00071'\n",
      "[11:28:31] SMILES Parse Error: duplicated ring closure 0 bonds atom 0 to itself for input: 'C00005'\n",
      "[11:28:31] SMILES Parse Error: unclosed ring for input: 'C14089'\n",
      "[11:28:31] SMILES Parse Error: unclosed ring for input: 'C06612'\n",
      "[11:28:31] SMILES Parse Error: duplicated ring closure 0 bonds atom 0 to itself for input: 'C00469'\n",
      "[11:28:31] SMILES Parse Error: unclosed ring for input: 'C06899'\n",
      "[11:28:31] SMILES Parse Error: unclosed ring for input: 'C16348'\n",
      "[11:28:31] SMILES Parse Error: duplicated ring closure 0 bonds atom 0 to itself for input: 'C00069'\n",
      "[11:28:31] SMILES Parse Error: unclosed ring for input: 'C01612'\n",
      "[11:28:31] SMILES Parse Error: duplicated ring closure 0 bonds atom 0 to itself for input: 'C00376'\n",
      "[11:28:31] SMILES Parse Error: unclosed ring for input: 'C07645'\n",
      "[11:28:32] SMILES Parse Error: duplicated ring closure 0 bonds atom 0 to itself for input: 'C00114'\n",
      "[11:28:32] SMILES Parse Error: duplicated ring closure 0 bonds atom 0 to itself for input: 'C00226'\n",
      "[11:28:32] SMILES Parse Error: duplicated ring closure 0 bonds atom 0 to itself for input: 'C00576'\n",
      "[11:28:32] SMILES Parse Error: unclosed ring for input: 'C05577'\n",
      "[11:28:32] SMILES Parse Error: duplicated ring closure 0 bonds atom 0 to itself for input: 'C00080'\n",
      "[11:28:32] WARNING: not removing hydrogen atom without neighbors\n",
      "[11:28:32] SMILES Parse Error: unclosed ring for input: 'C06613'\n",
      "[11:28:32] SMILES Parse Error: unclosed ring for input: 'C16595'\n",
      "[11:28:32] SMILES Parse Error: duplicated ring closure 0 bonds atom 0 to itself for input: 'C02909'\n",
      "[11:28:32] SMILES Parse Error: unclosed ring for input: 'C05576'\n",
      "[11:28:32] SMILES Parse Error: duplicated ring closure 1 bonds atom 0 to itself for input: 'C16551'\n",
      "[11:28:32] SMILES Parse Error: duplicated ring closure 0 bonds atom 0 to itself for input: 'C00084'\n",
      "[11:28:32] SMILES Parse Error: duplicated ring closure 0 bonds atom 0 to itself for input: 'C07490'\n",
      "[11:28:32] SMILES Parse Error: duplicated ring closure 0 bonds atom 0 to itself for input: 'C00001'\n",
      "[11:28:33] SMILES Parse Error: duplicated ring closure 0 bonds atom 0 to itself for input: 'C00003'\n",
      "[11:28:33] SMILES Parse Error: unclosed ring for input: 'C06611'\n",
      "[11:28:33] SMILES Parse Error: duplicated ring closure 0 bonds atom 0 to itself for input: 'C00004'\n",
      "[11:28:33] SMILES Parse Error: duplicated ring closure 0 bonds atom 0 to itself for input: 'C00080'\n",
      "[11:28:33] WARNING: not removing hydrogen atom without neighbors\n",
      "[11:28:33] SMILES Parse Error: unclosed ring for input: 'C06613'\n",
      "[11:28:33] SMILES Parse Error: duplicated ring closure 0 bonds atom 0 to itself for input: 'C14090'\n",
      "[11:28:33] SMILES Parse Error: duplicated ring closure 0 bonds atom 0 to itself for input: 'C00473'\n",
      "[11:28:33] SMILES Parse Error: unclosed ring for input: 'C05444'\n",
      "[11:28:33] SMILES Parse Error: unclosed ring for input: 'C14099'\n",
      "[11:28:33] SMILES Parse Error: unclosed ring for input: 'C16587'\n",
      "[11:28:33] SMILES Parse Error: duplicated ring closure 0 bonds atom 0 to itself for input: 'C00006'\n",
      "[11:28:33] SMILES Parse Error: duplicated ring closure 0 bonds atom 0 to itself for input: 'C01450'\n",
      "[11:28:33] SMILES Parse Error: duplicated ring closure 0 bonds atom 0 to itself for input: 'C00004'\n",
      "[11:28:33] SMILES Parse Error: unclosed ring for input: 'C05445'\n",
      "[11:28:33] SMILES Parse Error: duplicated ring closure 0 bonds atom 0 to itself for input: 'C00003'\n",
      "[11:28:33] SMILES Parse Error: unclosed ring for input: 'C16586'\n",
      "[11:28:33] SMILES Parse Error: unclosed ring for input: 'C16596'\n",
      "[11:28:33] SMILES Parse Error: unclosed ring for input: 'C06611'\n",
      "[11:28:33] SMILES Parse Error: duplicated ring closure 0 bonds atom 0 to itself for input: 'C00071'\n",
      "[11:28:33] SMILES Parse Error: duplicated ring closure 0 bonds atom 0 to itself for input: 'C00005'\n",
      "[11:28:33] SMILES Parse Error: unclosed ring for input: 'C14089'\n",
      "[11:28:33] SMILES Parse Error: unclosed ring for input: 'C06612'\n",
      "[11:28:34] SMILES Parse Error: duplicated ring closure 0 bonds atom 0 to itself for input: 'C00469'\n",
      "[11:28:34] SMILES Parse Error: unclosed ring for input: 'C06899'\n",
      "[11:28:34] SMILES Parse Error: unclosed ring for input: 'C16348'\n",
      "[11:28:34] SMILES Parse Error: duplicated ring closure 0 bonds atom 0 to itself for input: 'C00069'\n",
      "[11:28:34] SMILES Parse Error: unclosed ring for input: 'C01612'\n",
      "[11:28:34] SMILES Parse Error: duplicated ring closure 0 bonds atom 0 to itself for input: 'C00376'\n",
      "[11:28:34] SMILES Parse Error: unclosed ring for input: 'C07645'\n",
      "[11:28:34] SMILES Parse Error: duplicated ring closure 0 bonds atom 0 to itself for input: 'C00114'\n",
      "[11:28:34] SMILES Parse Error: duplicated ring closure 0 bonds atom 0 to itself for input: 'C00226'\n",
      "[11:28:34] SMILES Parse Error: duplicated ring closure 0 bonds atom 0 to itself for input: 'C00576'\n",
      "[11:28:34] SMILES Parse Error: unclosed ring for input: 'C05577'\n",
      "[11:28:34] SMILES Parse Error: duplicated ring closure 0 bonds atom 0 to itself for input: 'C00080'\n",
      "[11:28:34] WARNING: not removing hydrogen atom without neighbors\n",
      "[11:28:34] SMILES Parse Error: unclosed ring for input: 'C06613'\n",
      "[11:28:34] SMILES Parse Error: unclosed ring for input: 'C16595'\n",
      "[11:28:34] SMILES Parse Error: duplicated ring closure 0 bonds atom 0 to itself for input: 'C02909'\n",
      "[11:28:34] SMILES Parse Error: unclosed ring for input: 'C05576'\n",
      "[11:28:34] SMILES Parse Error: duplicated ring closure 1 bonds atom 0 to itself for input: 'C16551'\n",
      "[11:28:34] SMILES Parse Error: duplicated ring closure 0 bonds atom 0 to itself for input: 'C00084'\n",
      "[11:28:34] SMILES Parse Error: duplicated ring closure 0 bonds atom 0 to itself for input: 'C07490'\n",
      "[11:28:34] SMILES Parse Error: duplicated ring closure 0 bonds atom 0 to itself for input: 'C00001'\n",
      "[11:28:35] SMILES Parse Error: duplicated ring closure 0 bonds atom 0 to itself for input: 'C00003'\n",
      "[11:28:35] SMILES Parse Error: unclosed ring for input: 'C06612'\n",
      "[11:28:35] SMILES Parse Error: duplicated ring closure 0 bonds atom 0 to itself for input: 'C00004'\n",
      "[11:28:35] SMILES Parse Error: duplicated ring closure 0 bonds atom 0 to itself for input: 'C00080'\n",
      "[11:28:35] WARNING: not removing hydrogen atom without neighbors\n",
      "[11:28:35] SMILES Parse Error: unclosed ring for input: 'C16348'\n",
      "[11:28:35] SMILES Parse Error: duplicated ring closure 0 bonds atom 0 to itself for input: 'C14090'\n",
      "[11:28:35] SMILES Parse Error: duplicated ring closure 0 bonds atom 0 to itself for input: 'C00473'\n",
      "[11:28:35] SMILES Parse Error: unclosed ring for input: 'C05444'\n",
      "[11:28:35] SMILES Parse Error: unclosed ring for input: 'C14099'\n",
      "[11:28:35] SMILES Parse Error: unclosed ring for input: 'C16587'\n",
      "[11:28:35] SMILES Parse Error: duplicated ring closure 0 bonds atom 0 to itself for input: 'C00006'\n",
      "[11:28:35] SMILES Parse Error: duplicated ring closure 0 bonds atom 0 to itself for input: 'C01450'\n",
      "[11:28:35] SMILES Parse Error: duplicated ring closure 0 bonds atom 0 to itself for input: 'C00004'\n",
      "[11:28:35] SMILES Parse Error: unclosed ring for input: 'C05445'\n",
      "[11:28:35] SMILES Parse Error: duplicated ring closure 0 bonds atom 0 to itself for input: 'C00003'\n",
      "[11:28:35] SMILES Parse Error: unclosed ring for input: 'C16586'\n",
      "[11:28:35] SMILES Parse Error: unclosed ring for input: 'C16596'\n",
      "[11:28:35] SMILES Parse Error: unclosed ring for input: 'C06611'\n",
      "[11:28:35] SMILES Parse Error: duplicated ring closure 0 bonds atom 0 to itself for input: 'C00071'\n",
      "[11:28:35] SMILES Parse Error: duplicated ring closure 0 bonds atom 0 to itself for input: 'C00005'\n",
      "[11:28:36] SMILES Parse Error: unclosed ring for input: 'C14089'\n",
      "[11:28:36] SMILES Parse Error: unclosed ring for input: 'C06612'\n",
      "[11:28:36] SMILES Parse Error: duplicated ring closure 0 bonds atom 0 to itself for input: 'C00469'\n",
      "[11:28:36] SMILES Parse Error: unclosed ring for input: 'C06899'\n",
      "[11:28:36] SMILES Parse Error: unclosed ring for input: 'C16348'\n",
      "[11:28:36] SMILES Parse Error: duplicated ring closure 0 bonds atom 0 to itself for input: 'C00069'\n",
      "[11:28:36] SMILES Parse Error: unclosed ring for input: 'C01612'\n",
      "[11:28:36] SMILES Parse Error: duplicated ring closure 0 bonds atom 0 to itself for input: 'C00376'\n",
      "[11:28:36] SMILES Parse Error: unclosed ring for input: 'C07645'\n",
      "[11:28:36] SMILES Parse Error: duplicated ring closure 0 bonds atom 0 to itself for input: 'C00114'\n",
      "[11:28:36] SMILES Parse Error: duplicated ring closure 0 bonds atom 0 to itself for input: 'C00226'\n",
      "[11:28:36] SMILES Parse Error: duplicated ring closure 0 bonds atom 0 to itself for input: 'C00576'\n",
      "[11:28:36] SMILES Parse Error: unclosed ring for input: 'C05577'\n",
      "[11:28:36] SMILES Parse Error: duplicated ring closure 0 bonds atom 0 to itself for input: 'C00080'\n",
      "[11:28:36] WARNING: not removing hydrogen atom without neighbors\n",
      "[11:28:36] SMILES Parse Error: unclosed ring for input: 'C06613'\n",
      "[11:28:36] SMILES Parse Error: unclosed ring for input: 'C16595'\n",
      "[11:28:36] SMILES Parse Error: duplicated ring closure 0 bonds atom 0 to itself for input: 'C02909'\n",
      "[11:28:36] SMILES Parse Error: unclosed ring for input: 'C05576'\n",
      "[11:28:36] SMILES Parse Error: duplicated ring closure 1 bonds atom 0 to itself for input: 'C16551'\n",
      "[11:28:36] SMILES Parse Error: duplicated ring closure 0 bonds atom 0 to itself for input: 'C00084'\n",
      "[11:28:37] SMILES Parse Error: duplicated ring closure 0 bonds atom 0 to itself for input: 'C07490'\n",
      "[11:28:37] SMILES Parse Error: duplicated ring closure 0 bonds atom 0 to itself for input: 'C00001'\n",
      "[11:28:37] SMILES Parse Error: duplicated ring closure 0 bonds atom 0 to itself for input: 'C00003'\n",
      "[11:28:37] SMILES Parse Error: unclosed ring for input: 'C14089'\n",
      "[11:28:37] SMILES Parse Error: duplicated ring closure 0 bonds atom 0 to itself for input: 'C00004'\n",
      "[11:28:37] SMILES Parse Error: duplicated ring closure 0 bonds atom 0 to itself for input: 'C00080'\n",
      "[11:28:37] WARNING: not removing hydrogen atom without neighbors\n",
      "[11:28:37] SMILES Parse Error: duplicated ring closure 0 bonds atom 0 to itself for input: 'C14090'\n",
      "[11:28:37] SMILES Parse Error: duplicated ring closure 0 bonds atom 0 to itself for input: 'C14090'\n",
      "[11:28:37] SMILES Parse Error: duplicated ring closure 0 bonds atom 0 to itself for input: 'C00473'\n",
      "[11:28:37] SMILES Parse Error: unclosed ring for input: 'C05444'\n",
      "[11:28:37] SMILES Parse Error: unclosed ring for input: 'C14099'\n",
      "[11:28:37] SMILES Parse Error: unclosed ring for input: 'C16587'\n",
      "[11:28:37] SMILES Parse Error: duplicated ring closure 0 bonds atom 0 to itself for input: 'C00006'\n",
      "[11:28:37] SMILES Parse Error: duplicated ring closure 0 bonds atom 0 to itself for input: 'C01450'\n",
      "[11:28:37] SMILES Parse Error: duplicated ring closure 0 bonds atom 0 to itself for input: 'C00004'\n",
      "[11:28:37] SMILES Parse Error: unclosed ring for input: 'C05445'\n",
      "[11:28:37] SMILES Parse Error: duplicated ring closure 0 bonds atom 0 to itself for input: 'C00003'\n",
      "[11:28:37] SMILES Parse Error: unclosed ring for input: 'C16586'\n",
      "[11:28:37] SMILES Parse Error: unclosed ring for input: 'C16596'\n",
      "[11:28:37] SMILES Parse Error: unclosed ring for input: 'C06611'\n",
      "[11:28:38] SMILES Parse Error: duplicated ring closure 0 bonds atom 0 to itself for input: 'C00071'\n",
      "[11:28:38] SMILES Parse Error: duplicated ring closure 0 bonds atom 0 to itself for input: 'C00005'\n",
      "[11:28:38] SMILES Parse Error: unclosed ring for input: 'C14089'\n",
      "[11:28:38] SMILES Parse Error: unclosed ring for input: 'C06612'\n",
      "[11:28:38] SMILES Parse Error: duplicated ring closure 0 bonds atom 0 to itself for input: 'C00469'\n",
      "[11:28:38] SMILES Parse Error: unclosed ring for input: 'C06899'\n",
      "[11:28:38] SMILES Parse Error: unclosed ring for input: 'C16348'\n",
      "[11:28:38] SMILES Parse Error: duplicated ring closure 0 bonds atom 0 to itself for input: 'C00069'\n",
      "[11:28:38] SMILES Parse Error: unclosed ring for input: 'C01612'\n",
      "[11:28:38] SMILES Parse Error: duplicated ring closure 0 bonds atom 0 to itself for input: 'C00376'\n",
      "[11:28:38] SMILES Parse Error: unclosed ring for input: 'C07645'\n",
      "[11:28:38] SMILES Parse Error: duplicated ring closure 0 bonds atom 0 to itself for input: 'C00114'\n",
      "[11:28:38] SMILES Parse Error: duplicated ring closure 0 bonds atom 0 to itself for input: 'C00226'\n",
      "[11:28:38] SMILES Parse Error: duplicated ring closure 0 bonds atom 0 to itself for input: 'C00576'\n",
      "[11:28:38] SMILES Parse Error: unclosed ring for input: 'C05577'\n",
      "[11:28:38] SMILES Parse Error: duplicated ring closure 0 bonds atom 0 to itself for input: 'C00080'\n",
      "[11:28:38] WARNING: not removing hydrogen atom without neighbors\n",
      "[11:28:38] SMILES Parse Error: unclosed ring for input: 'C06613'\n",
      "[11:28:38] SMILES Parse Error: unclosed ring for input: 'C16595'\n",
      "[11:28:38] SMILES Parse Error: duplicated ring closure 0 bonds atom 0 to itself for input: 'C02909'\n",
      "[11:28:39] SMILES Parse Error: unclosed ring for input: 'C05576'\n",
      "[11:28:39] SMILES Parse Error: duplicated ring closure 1 bonds atom 0 to itself for input: 'C16551'\n",
      "[11:28:39] SMILES Parse Error: duplicated ring closure 0 bonds atom 0 to itself for input: 'C00084'\n",
      "[11:28:39] SMILES Parse Error: duplicated ring closure 0 bonds atom 0 to itself for input: 'C07490'\n",
      "[11:28:39] SMILES Parse Error: duplicated ring closure 0 bonds atom 0 to itself for input: 'C00001'\n",
      "[11:28:39] SMILES Parse Error: duplicated ring closure 0 bonds atom 0 to itself for input: 'C00003'\n",
      "[11:28:39] SMILES Parse Error: duplicated ring closure 0 bonds atom 0 to itself for input: 'C02909'\n",
      "[11:28:39] SMILES Parse Error: duplicated ring closure 0 bonds atom 0 to itself for input: 'C00004'\n",
      "[11:28:39] SMILES Parse Error: duplicated ring closure 0 bonds atom 0 to itself for input: 'C00080'\n",
      "[11:28:39] WARNING: not removing hydrogen atom without neighbors\n",
      "[11:28:39] SMILES Parse Error: unclosed ring for input: 'C14099'\n",
      "[11:28:39] SMILES Parse Error: duplicated ring closure 0 bonds atom 0 to itself for input: 'C14090'\n",
      "[11:28:39] SMILES Parse Error: duplicated ring closure 0 bonds atom 0 to itself for input: 'C00473'\n",
      "[11:28:39] SMILES Parse Error: unclosed ring for input: 'C05444'\n",
      "[11:28:39] SMILES Parse Error: unclosed ring for input: 'C14099'\n",
      "[11:28:39] SMILES Parse Error: unclosed ring for input: 'C16587'\n",
      "[11:28:39] SMILES Parse Error: duplicated ring closure 0 bonds atom 0 to itself for input: 'C00006'\n",
      "[11:28:39] SMILES Parse Error: duplicated ring closure 0 bonds atom 0 to itself for input: 'C01450'\n",
      "[11:28:39] SMILES Parse Error: duplicated ring closure 0 bonds atom 0 to itself for input: 'C00004'\n",
      "[11:28:39] SMILES Parse Error: unclosed ring for input: 'C05445'\n",
      "[11:28:40] SMILES Parse Error: duplicated ring closure 0 bonds atom 0 to itself for input: 'C00003'\n",
      "[11:28:40] SMILES Parse Error: unclosed ring for input: 'C16586'\n",
      "[11:28:40] SMILES Parse Error: unclosed ring for input: 'C16596'\n",
      "[11:28:40] SMILES Parse Error: unclosed ring for input: 'C06611'\n",
      "[11:28:40] SMILES Parse Error: duplicated ring closure 0 bonds atom 0 to itself for input: 'C00071'\n",
      "[11:28:40] SMILES Parse Error: duplicated ring closure 0 bonds atom 0 to itself for input: 'C00005'\n",
      "[11:28:40] SMILES Parse Error: unclosed ring for input: 'C14089'\n",
      "[11:28:40] SMILES Parse Error: unclosed ring for input: 'C06612'\n",
      "[11:28:40] SMILES Parse Error: duplicated ring closure 0 bonds atom 0 to itself for input: 'C00469'\n",
      "[11:28:40] SMILES Parse Error: unclosed ring for input: 'C06899'\n",
      "[11:28:40] SMILES Parse Error: unclosed ring for input: 'C16348'\n",
      "[11:28:40] SMILES Parse Error: duplicated ring closure 0 bonds atom 0 to itself for input: 'C00069'\n",
      "[11:28:40] SMILES Parse Error: unclosed ring for input: 'C01612'\n",
      "[11:28:40] SMILES Parse Error: duplicated ring closure 0 bonds atom 0 to itself for input: 'C00376'\n",
      "[11:28:40] SMILES Parse Error: unclosed ring for input: 'C07645'\n",
      "[11:28:40] SMILES Parse Error: duplicated ring closure 0 bonds atom 0 to itself for input: 'C00114'\n",
      "[11:28:40] SMILES Parse Error: duplicated ring closure 0 bonds atom 0 to itself for input: 'C00226'\n",
      "[11:28:40] SMILES Parse Error: duplicated ring closure 0 bonds atom 0 to itself for input: 'C00576'\n",
      "[11:28:40] SMILES Parse Error: unclosed ring for input: 'C05577'\n",
      "[11:28:40] SMILES Parse Error: duplicated ring closure 0 bonds atom 0 to itself for input: 'C00080'\n",
      "[11:28:40] WARNING: not removing hydrogen atom without neighbors\n",
      "[11:28:40] SMILES Parse Error: unclosed ring for input: 'C06613'\n",
      "[11:28:41] SMILES Parse Error: unclosed ring for input: 'C16595'\n",
      "[11:28:41] SMILES Parse Error: duplicated ring closure 0 bonds atom 0 to itself for input: 'C02909'\n",
      "[11:28:41] SMILES Parse Error: unclosed ring for input: 'C05576'\n",
      "[11:28:41] SMILES Parse Error: duplicated ring closure 1 bonds atom 0 to itself for input: 'C16551'\n",
      "[11:28:41] SMILES Parse Error: duplicated ring closure 0 bonds atom 0 to itself for input: 'C00084'\n",
      "[11:28:41] SMILES Parse Error: duplicated ring closure 0 bonds atom 0 to itself for input: 'C07490'\n",
      "[11:28:41] SMILES Parse Error: duplicated ring closure 0 bonds atom 0 to itself for input: 'C00001'\n",
      "[11:28:41] SMILES Parse Error: duplicated ring closure 0 bonds atom 0 to itself for input: 'C00004'\n",
      "[11:28:41] SMILES Parse Error: duplicated ring closure 0 bonds atom 0 to itself for input: 'C00080'\n",
      "[11:28:41] WARNING: not removing hydrogen atom without neighbors\n",
      "[11:28:41] SMILES Parse Error: unclosed ring for input: 'C07645'\n",
      "[11:28:41] SMILES Parse Error: duplicated ring closure 0 bonds atom 0 to itself for input: 'C00003'\n",
      "[11:28:41] SMILES Parse Error: duplicated ring closure 1 bonds atom 0 to itself for input: 'C16551'\n",
      "[11:28:41] SMILES Parse Error: duplicated ring closure 0 bonds atom 0 to itself for input: 'C14090'\n",
      "[11:28:41] SMILES Parse Error: duplicated ring closure 0 bonds atom 0 to itself for input: 'C00473'\n",
      "[11:28:41] SMILES Parse Error: unclosed ring for input: 'C05444'\n",
      "[11:28:41] SMILES Parse Error: unclosed ring for input: 'C14099'\n",
      "[11:28:41] SMILES Parse Error: unclosed ring for input: 'C16587'\n",
      "[11:28:41] SMILES Parse Error: duplicated ring closure 0 bonds atom 0 to itself for input: 'C00006'\n",
      "[11:28:41] SMILES Parse Error: duplicated ring closure 0 bonds atom 0 to itself for input: 'C01450'\n",
      "[11:28:41] SMILES Parse Error: duplicated ring closure 0 bonds atom 0 to itself for input: 'C00004'\n",
      "[11:28:41] SMILES Parse Error: unclosed ring for input: 'C05445'\n",
      "[11:28:42] SMILES Parse Error: duplicated ring closure 0 bonds atom 0 to itself for input: 'C00003'\n",
      "[11:28:42] SMILES Parse Error: unclosed ring for input: 'C16586'\n",
      "[11:28:42] SMILES Parse Error: unclosed ring for input: 'C16596'\n",
      "[11:28:42] SMILES Parse Error: unclosed ring for input: 'C06611'\n",
      "[11:28:42] SMILES Parse Error: duplicated ring closure 0 bonds atom 0 to itself for input: 'C00071'\n",
      "[11:28:42] SMILES Parse Error: duplicated ring closure 0 bonds atom 0 to itself for input: 'C00005'\n",
      "[11:28:42] SMILES Parse Error: unclosed ring for input: 'C14089'\n",
      "[11:28:42] SMILES Parse Error: unclosed ring for input: 'C06612'\n",
      "[11:28:42] SMILES Parse Error: duplicated ring closure 0 bonds atom 0 to itself for input: 'C00469'\n",
      "[11:28:42] SMILES Parse Error: unclosed ring for input: 'C06899'\n",
      "[11:28:42] SMILES Parse Error: unclosed ring for input: 'C16348'\n",
      "[11:28:42] SMILES Parse Error: duplicated ring closure 0 bonds atom 0 to itself for input: 'C00069'\n",
      "[11:28:42] SMILES Parse Error: unclosed ring for input: 'C01612'\n",
      "[11:28:42] SMILES Parse Error: duplicated ring closure 0 bonds atom 0 to itself for input: 'C00376'\n",
      "[11:28:42] SMILES Parse Error: unclosed ring for input: 'C07645'\n",
      "[11:28:42] SMILES Parse Error: duplicated ring closure 0 bonds atom 0 to itself for input: 'C00114'\n",
      "[11:28:42] SMILES Parse Error: duplicated ring closure 0 bonds atom 0 to itself for input: 'C00226'\n",
      "[11:28:42] SMILES Parse Error: duplicated ring closure 0 bonds atom 0 to itself for input: 'C00576'\n",
      "[11:28:42] SMILES Parse Error: unclosed ring for input: 'C05577'\n",
      "[11:28:43] SMILES Parse Error: duplicated ring closure 0 bonds atom 0 to itself for input: 'C00080'\n",
      "[11:28:43] WARNING: not removing hydrogen atom without neighbors\n",
      "[11:28:43] SMILES Parse Error: unclosed ring for input: 'C06613'\n",
      "[11:28:43] SMILES Parse Error: unclosed ring for input: 'C16595'\n",
      "[11:28:43] SMILES Parse Error: duplicated ring closure 0 bonds atom 0 to itself for input: 'C02909'\n",
      "[11:28:43] SMILES Parse Error: unclosed ring for input: 'C05576'\n",
      "[11:28:43] SMILES Parse Error: duplicated ring closure 1 bonds atom 0 to itself for input: 'C16551'\n",
      "[11:28:43] SMILES Parse Error: duplicated ring closure 0 bonds atom 0 to itself for input: 'C00084'\n",
      "[11:28:43] SMILES Parse Error: duplicated ring closure 0 bonds atom 0 to itself for input: 'C07490'\n",
      "[11:28:43] SMILES Parse Error: duplicated ring closure 0 bonds atom 0 to itself for input: 'C00001'\n",
      "[11:28:43] SMILES Parse Error: duplicated ring closure 0 bonds atom 0 to itself for input: 'C00003'\n",
      "[11:28:43] SMILES Parse Error: unclosed ring for input: 'C16586'\n",
      "[11:28:43] SMILES Parse Error: duplicated ring closure 0 bonds atom 0 to itself for input: 'C00004'\n",
      "[11:28:43] SMILES Parse Error: duplicated ring closure 0 bonds atom 0 to itself for input: 'C00080'\n",
      "[11:28:43] WARNING: not removing hydrogen atom without neighbors\n",
      "[11:28:43] SMILES Parse Error: unclosed ring for input: 'C16587'\n",
      "[11:28:43] SMILES Parse Error: duplicated ring closure 0 bonds atom 0 to itself for input: 'C14090'\n",
      "[11:28:43] SMILES Parse Error: duplicated ring closure 0 bonds atom 0 to itself for input: 'C00473'\n",
      "[11:28:43] SMILES Parse Error: unclosed ring for input: 'C05444'\n",
      "[11:28:43] SMILES Parse Error: unclosed ring for input: 'C14099'\n",
      "[11:28:43] SMILES Parse Error: unclosed ring for input: 'C16587'\n",
      "[11:28:43] SMILES Parse Error: duplicated ring closure 0 bonds atom 0 to itself for input: 'C00006'\n",
      "[11:28:43] SMILES Parse Error: duplicated ring closure 0 bonds atom 0 to itself for input: 'C01450'\n",
      "[11:28:43] SMILES Parse Error: duplicated ring closure 0 bonds atom 0 to itself for input: 'C00004'\n",
      "[11:28:43] SMILES Parse Error: unclosed ring for input: 'C05445'\n",
      "[11:28:44] SMILES Parse Error: duplicated ring closure 0 bonds atom 0 to itself for input: 'C00003'\n",
      "[11:28:44] SMILES Parse Error: unclosed ring for input: 'C16586'\n",
      "[11:28:44] SMILES Parse Error: unclosed ring for input: 'C16596'\n",
      "[11:28:44] SMILES Parse Error: unclosed ring for input: 'C06611'\n",
      "[11:28:44] SMILES Parse Error: duplicated ring closure 0 bonds atom 0 to itself for input: 'C00071'\n",
      "[11:28:44] SMILES Parse Error: duplicated ring closure 0 bonds atom 0 to itself for input: 'C00005'\n",
      "[11:28:44] SMILES Parse Error: unclosed ring for input: 'C14089'\n",
      "[11:28:44] SMILES Parse Error: unclosed ring for input: 'C06612'\n",
      "[11:28:44] SMILES Parse Error: duplicated ring closure 0 bonds atom 0 to itself for input: 'C00469'\n",
      "[11:28:44] SMILES Parse Error: unclosed ring for input: 'C06899'\n",
      "[11:28:44] SMILES Parse Error: unclosed ring for input: 'C16348'\n",
      "[11:28:44] SMILES Parse Error: duplicated ring closure 0 bonds atom 0 to itself for input: 'C00069'\n",
      "[11:28:44] SMILES Parse Error: unclosed ring for input: 'C01612'\n",
      "[11:28:44] SMILES Parse Error: duplicated ring closure 0 bonds atom 0 to itself for input: 'C00376'\n",
      "[11:28:44] SMILES Parse Error: unclosed ring for input: 'C07645'\n",
      "[11:28:44] SMILES Parse Error: duplicated ring closure 0 bonds atom 0 to itself for input: 'C00114'\n",
      "[11:28:44] SMILES Parse Error: duplicated ring closure 0 bonds atom 0 to itself for input: 'C00226'\n",
      "[11:28:44] SMILES Parse Error: duplicated ring closure 0 bonds atom 0 to itself for input: 'C00576'\n",
      "[11:28:44] SMILES Parse Error: unclosed ring for input: 'C05577'\n",
      "[11:28:45] SMILES Parse Error: duplicated ring closure 0 bonds atom 0 to itself for input: 'C00080'\n",
      "[11:28:45] WARNING: not removing hydrogen atom without neighbors\n",
      "[11:28:45] SMILES Parse Error: unclosed ring for input: 'C06613'\n",
      "[11:28:45] SMILES Parse Error: unclosed ring for input: 'C16595'\n",
      "[11:28:45] SMILES Parse Error: duplicated ring closure 0 bonds atom 0 to itself for input: 'C02909'\n",
      "[11:28:45] SMILES Parse Error: unclosed ring for input: 'C05576'\n",
      "[11:28:45] SMILES Parse Error: duplicated ring closure 1 bonds atom 0 to itself for input: 'C16551'\n",
      "[11:28:45] SMILES Parse Error: duplicated ring closure 0 bonds atom 0 to itself for input: 'C00084'\n",
      "[11:28:45] SMILES Parse Error: duplicated ring closure 0 bonds atom 0 to itself for input: 'C07490'\n",
      "[11:28:45] SMILES Parse Error: duplicated ring closure 0 bonds atom 0 to itself for input: 'C00001'\n",
      "[11:28:45] SMILES Parse Error: duplicated ring closure 0 bonds atom 0 to itself for input: 'C00003'\n",
      "[11:28:45] SMILES Parse Error: duplicated ring closure 0 bonds atom 0 to itself for input: 'C00114'\n",
      "[11:28:45] SMILES Parse Error: duplicated ring closure 0 bonds atom 0 to itself for input: 'C00004'\n",
      "[11:28:45] SMILES Parse Error: duplicated ring closure 0 bonds atom 0 to itself for input: 'C00080'\n",
      "[11:28:45] WARNING: not removing hydrogen atom without neighbors\n",
      "[11:28:45] SMILES Parse Error: duplicated ring closure 0 bonds atom 0 to itself for input: 'C00576'\n",
      "[11:28:45] SMILES Parse Error: duplicated ring closure 0 bonds atom 0 to itself for input: 'C14090'\n",
      "[11:28:45] SMILES Parse Error: duplicated ring closure 0 bonds atom 0 to itself for input: 'C00473'\n",
      "[11:28:45] SMILES Parse Error: unclosed ring for input: 'C05444'\n",
      "[11:28:45] SMILES Parse Error: unclosed ring for input: 'C14099'\n",
      "[11:28:45] SMILES Parse Error: unclosed ring for input: 'C16587'\n",
      "[11:28:45] SMILES Parse Error: duplicated ring closure 0 bonds atom 0 to itself for input: 'C00006'\n",
      "[11:28:46] SMILES Parse Error: duplicated ring closure 0 bonds atom 0 to itself for input: 'C01450'\n",
      "[11:28:46] SMILES Parse Error: duplicated ring closure 0 bonds atom 0 to itself for input: 'C00004'\n",
      "[11:28:46] SMILES Parse Error: unclosed ring for input: 'C05445'\n",
      "[11:28:46] SMILES Parse Error: duplicated ring closure 0 bonds atom 0 to itself for input: 'C00003'\n",
      "[11:28:46] SMILES Parse Error: unclosed ring for input: 'C16586'\n",
      "[11:28:46] SMILES Parse Error: unclosed ring for input: 'C16596'\n",
      "[11:28:46] SMILES Parse Error: unclosed ring for input: 'C06611'\n",
      "[11:28:46] SMILES Parse Error: duplicated ring closure 0 bonds atom 0 to itself for input: 'C00071'\n",
      "[11:28:46] SMILES Parse Error: duplicated ring closure 0 bonds atom 0 to itself for input: 'C00005'\n",
      "[11:28:46] SMILES Parse Error: unclosed ring for input: 'C14089'\n",
      "[11:28:46] SMILES Parse Error: unclosed ring for input: 'C06612'\n",
      "[11:28:46] SMILES Parse Error: duplicated ring closure 0 bonds atom 0 to itself for input: 'C00469'\n",
      "[11:28:46] SMILES Parse Error: unclosed ring for input: 'C06899'\n",
      "[11:28:46] SMILES Parse Error: unclosed ring for input: 'C16348'\n",
      "[11:28:46] SMILES Parse Error: duplicated ring closure 0 bonds atom 0 to itself for input: 'C00069'\n",
      "[11:28:46] SMILES Parse Error: unclosed ring for input: 'C01612'\n",
      "[11:28:46] SMILES Parse Error: duplicated ring closure 0 bonds atom 0 to itself for input: 'C00376'\n",
      "[11:28:46] SMILES Parse Error: unclosed ring for input: 'C07645'\n",
      "[11:28:46] SMILES Parse Error: duplicated ring closure 0 bonds atom 0 to itself for input: 'C00114'\n",
      "[11:28:46] SMILES Parse Error: duplicated ring closure 0 bonds atom 0 to itself for input: 'C00226'\n",
      "[11:28:46] SMILES Parse Error: duplicated ring closure 0 bonds atom 0 to itself for input: 'C00576'\n",
      "[11:28:46] SMILES Parse Error: unclosed ring for input: 'C05577'\n",
      "[11:28:47] SMILES Parse Error: duplicated ring closure 0 bonds atom 0 to itself for input: 'C00080'\n",
      "[11:28:47] WARNING: not removing hydrogen atom without neighbors\n",
      "[11:28:47] SMILES Parse Error: unclosed ring for input: 'C06613'\n",
      "[11:28:47] SMILES Parse Error: unclosed ring for input: 'C16595'\n",
      "[11:28:47] SMILES Parse Error: duplicated ring closure 0 bonds atom 0 to itself for input: 'C02909'\n",
      "[11:28:47] SMILES Parse Error: unclosed ring for input: 'C05576'\n",
      "[11:28:47] SMILES Parse Error: duplicated ring closure 1 bonds atom 0 to itself for input: 'C16551'\n",
      "[11:28:47] SMILES Parse Error: duplicated ring closure 0 bonds atom 0 to itself for input: 'C00084'\n",
      "[11:28:47] SMILES Parse Error: duplicated ring closure 0 bonds atom 0 to itself for input: 'C07490'\n",
      "[11:28:47] SMILES Parse Error: duplicated ring closure 0 bonds atom 0 to itself for input: 'C00001'\n",
      "[11:28:47] SMILES Parse Error: duplicated ring closure 0 bonds atom 0 to itself for input: 'C00006'\n",
      "[11:28:47] SMILES Parse Error: duplicated ring closure 0 bonds atom 0 to itself for input: 'C00114'\n",
      "[11:28:47] SMILES Parse Error: duplicated ring closure 0 bonds atom 0 to itself for input: 'C00005'\n",
      "[11:28:47] SMILES Parse Error: duplicated ring closure 0 bonds atom 0 to itself for input: 'C00080'\n",
      "[11:28:47] WARNING: not removing hydrogen atom without neighbors\n",
      "[11:28:47] SMILES Parse Error: duplicated ring closure 0 bonds atom 0 to itself for input: 'C00576'\n",
      "[11:28:47] SMILES Parse Error: duplicated ring closure 0 bonds atom 0 to itself for input: 'C14090'\n",
      "[11:28:47] SMILES Parse Error: duplicated ring closure 0 bonds atom 0 to itself for input: 'C00473'\n",
      "[11:28:48] SMILES Parse Error: unclosed ring for input: 'C05444'\n",
      "[11:28:48] SMILES Parse Error: unclosed ring for input: 'C14099'\n",
      "[11:28:48] SMILES Parse Error: unclosed ring for input: 'C16587'\n",
      "[11:28:48] SMILES Parse Error: duplicated ring closure 0 bonds atom 0 to itself for input: 'C00006'\n",
      "[11:28:48] SMILES Parse Error: duplicated ring closure 0 bonds atom 0 to itself for input: 'C01450'\n",
      "[11:28:48] SMILES Parse Error: duplicated ring closure 0 bonds atom 0 to itself for input: 'C00004'\n",
      "[11:28:48] SMILES Parse Error: unclosed ring for input: 'C05445'\n",
      "[11:28:48] SMILES Parse Error: duplicated ring closure 0 bonds atom 0 to itself for input: 'C00003'\n",
      "[11:28:48] SMILES Parse Error: unclosed ring for input: 'C16586'\n",
      "[11:28:48] SMILES Parse Error: unclosed ring for input: 'C16596'\n",
      "[11:28:48] SMILES Parse Error: unclosed ring for input: 'C06611'\n",
      "[11:28:48] SMILES Parse Error: duplicated ring closure 0 bonds atom 0 to itself for input: 'C00071'\n",
      "[11:28:48] SMILES Parse Error: duplicated ring closure 0 bonds atom 0 to itself for input: 'C00005'\n",
      "[11:28:48] SMILES Parse Error: unclosed ring for input: 'C14089'\n",
      "[11:28:48] SMILES Parse Error: unclosed ring for input: 'C06612'\n",
      "[11:28:48] SMILES Parse Error: duplicated ring closure 0 bonds atom 0 to itself for input: 'C00469'\n",
      "[11:28:48] SMILES Parse Error: unclosed ring for input: 'C06899'\n",
      "[11:28:48] SMILES Parse Error: unclosed ring for input: 'C16348'\n",
      "[11:28:48] SMILES Parse Error: duplicated ring closure 0 bonds atom 0 to itself for input: 'C00069'\n",
      "[11:28:48] SMILES Parse Error: unclosed ring for input: 'C01612'\n",
      "[11:28:48] SMILES Parse Error: duplicated ring closure 0 bonds atom 0 to itself for input: 'C00376'\n",
      "[11:28:48] SMILES Parse Error: unclosed ring for input: 'C07645'\n",
      "[11:28:48] SMILES Parse Error: duplicated ring closure 0 bonds atom 0 to itself for input: 'C00114'\n",
      "[11:28:49] SMILES Parse Error: duplicated ring closure 0 bonds atom 0 to itself for input: 'C00226'\n",
      "[11:28:49] SMILES Parse Error: duplicated ring closure 0 bonds atom 0 to itself for input: 'C00576'\n",
      "[11:28:49] SMILES Parse Error: unclosed ring for input: 'C05577'\n",
      "[11:28:49] SMILES Parse Error: duplicated ring closure 0 bonds atom 0 to itself for input: 'C00080'\n",
      "[11:28:49] WARNING: not removing hydrogen atom without neighbors\n",
      "[11:28:49] SMILES Parse Error: unclosed ring for input: 'C06613'\n",
      "[11:28:49] SMILES Parse Error: unclosed ring for input: 'C16595'\n",
      "[11:28:49] SMILES Parse Error: duplicated ring closure 0 bonds atom 0 to itself for input: 'C02909'\n",
      "[11:28:49] SMILES Parse Error: unclosed ring for input: 'C05576'\n",
      "[11:28:49] SMILES Parse Error: duplicated ring closure 1 bonds atom 0 to itself for input: 'C16551'\n",
      "[11:28:49] SMILES Parse Error: duplicated ring closure 0 bonds atom 0 to itself for input: 'C00084'\n",
      "[11:28:49] SMILES Parse Error: duplicated ring closure 0 bonds atom 0 to itself for input: 'C07490'\n",
      "[11:28:49] SMILES Parse Error: duplicated ring closure 0 bonds atom 0 to itself for input: 'C00001'\n",
      "[11:28:49] SMILES Parse Error: duplicated ring closure 0 bonds atom 0 to itself for input: 'C00003'\n",
      "[11:28:49] SMILES Parse Error: duplicated ring closure 0 bonds atom 0 to itself for input: 'C00069'\n",
      "[11:28:49] SMILES Parse Error: duplicated ring closure 0 bonds atom 0 to itself for input: 'C00004'\n",
      "[11:28:49] SMILES Parse Error: duplicated ring closure 0 bonds atom 0 to itself for input: 'C00080'\n",
      "[11:28:49] WARNING: not removing hydrogen atom without neighbors\n",
      "[11:28:49] SMILES Parse Error: duplicated ring closure 0 bonds atom 0 to itself for input: 'C01450'\n",
      "[11:28:49] SMILES Parse Error: duplicated ring closure 0 bonds atom 0 to itself for input: 'C14090'\n",
      "[11:28:49] SMILES Parse Error: duplicated ring closure 0 bonds atom 0 to itself for input: 'C00473'\n",
      "[11:28:50] SMILES Parse Error: unclosed ring for input: 'C05444'\n",
      "[11:28:50] SMILES Parse Error: unclosed ring for input: 'C14099'\n",
      "[11:28:50] SMILES Parse Error: unclosed ring for input: 'C16587'\n",
      "[11:28:50] SMILES Parse Error: duplicated ring closure 0 bonds atom 0 to itself for input: 'C00006'\n",
      "[11:28:50] SMILES Parse Error: duplicated ring closure 0 bonds atom 0 to itself for input: 'C01450'\n",
      "[11:28:50] SMILES Parse Error: duplicated ring closure 0 bonds atom 0 to itself for input: 'C00004'\n",
      "[11:28:50] SMILES Parse Error: unclosed ring for input: 'C05445'\n",
      "[11:28:50] SMILES Parse Error: duplicated ring closure 0 bonds atom 0 to itself for input: 'C00003'\n",
      "[11:28:50] SMILES Parse Error: unclosed ring for input: 'C16586'\n",
      "[11:28:50] SMILES Parse Error: unclosed ring for input: 'C16596'\n",
      "[11:28:50] SMILES Parse Error: unclosed ring for input: 'C06611'\n",
      "[11:28:50] SMILES Parse Error: duplicated ring closure 0 bonds atom 0 to itself for input: 'C00071'\n",
      "[11:28:50] SMILES Parse Error: duplicated ring closure 0 bonds atom 0 to itself for input: 'C00005'\n",
      "[11:28:50] SMILES Parse Error: unclosed ring for input: 'C14089'\n",
      "[11:28:50] SMILES Parse Error: unclosed ring for input: 'C06612'\n",
      "[11:28:50] SMILES Parse Error: duplicated ring closure 0 bonds atom 0 to itself for input: 'C00469'\n",
      "[11:28:50] SMILES Parse Error: unclosed ring for input: 'C06899'\n",
      "[11:28:50] SMILES Parse Error: unclosed ring for input: 'C16348'\n",
      "[11:28:50] SMILES Parse Error: duplicated ring closure 0 bonds atom 0 to itself for input: 'C00069'\n",
      "[11:28:50] SMILES Parse Error: unclosed ring for input: 'C01612'\n",
      "[11:28:50] SMILES Parse Error: duplicated ring closure 0 bonds atom 0 to itself for input: 'C00376'\n",
      "[11:28:50] SMILES Parse Error: unclosed ring for input: 'C07645'\n",
      "[11:28:51] SMILES Parse Error: duplicated ring closure 0 bonds atom 0 to itself for input: 'C00114'\n",
      "[11:28:51] SMILES Parse Error: duplicated ring closure 0 bonds atom 0 to itself for input: 'C00226'\n",
      "[11:28:51] SMILES Parse Error: duplicated ring closure 0 bonds atom 0 to itself for input: 'C00576'\n",
      "[11:28:51] SMILES Parse Error: unclosed ring for input: 'C05577'\n",
      "[11:28:51] SMILES Parse Error: duplicated ring closure 0 bonds atom 0 to itself for input: 'C00080'\n",
      "[11:28:51] WARNING: not removing hydrogen atom without neighbors\n",
      "[11:28:51] SMILES Parse Error: unclosed ring for input: 'C06613'\n",
      "[11:28:51] SMILES Parse Error: unclosed ring for input: 'C16595'\n",
      "[11:28:51] SMILES Parse Error: duplicated ring closure 0 bonds atom 0 to itself for input: 'C02909'\n",
      "[11:28:51] SMILES Parse Error: unclosed ring for input: 'C05576'\n",
      "[11:28:51] SMILES Parse Error: duplicated ring closure 1 bonds atom 0 to itself for input: 'C16551'\n",
      "[11:28:51] SMILES Parse Error: duplicated ring closure 0 bonds atom 0 to itself for input: 'C00084'\n",
      "[11:28:51] SMILES Parse Error: duplicated ring closure 0 bonds atom 0 to itself for input: 'C07490'\n",
      "[11:28:51] SMILES Parse Error: duplicated ring closure 0 bonds atom 0 to itself for input: 'C00001'\n",
      "[11:28:51] SMILES Parse Error: duplicated ring closure 0 bonds atom 0 to itself for input: 'C00003'\n",
      "[11:28:51] SMILES Parse Error: unclosed ring for input: 'C01612'\n",
      "[11:28:51] SMILES Parse Error: duplicated ring closure 0 bonds atom 0 to itself for input: 'C00004'\n",
      "[11:28:51] SMILES Parse Error: duplicated ring closure 0 bonds atom 0 to itself for input: 'C00080'\n",
      "[11:28:51] WARNING: not removing hydrogen atom without neighbors\n",
      "[11:28:52] SMILES Parse Error: duplicated ring closure 0 bonds atom 0 to itself for input: 'C01450'\n",
      "[11:28:52] SMILES Parse Error: duplicated ring closure 0 bonds atom 0 to itself for input: 'C14090'\n",
      "[11:28:52] SMILES Parse Error: duplicated ring closure 0 bonds atom 0 to itself for input: 'C00473'\n",
      "[11:28:52] SMILES Parse Error: unclosed ring for input: 'C05444'\n",
      "[11:28:52] SMILES Parse Error: unclosed ring for input: 'C14099'\n",
      "[11:28:52] SMILES Parse Error: unclosed ring for input: 'C16587'\n",
      "[11:28:52] SMILES Parse Error: duplicated ring closure 0 bonds atom 0 to itself for input: 'C00006'\n",
      "[11:28:52] SMILES Parse Error: duplicated ring closure 0 bonds atom 0 to itself for input: 'C01450'\n",
      "[11:28:52] SMILES Parse Error: duplicated ring closure 0 bonds atom 0 to itself for input: 'C00004'\n",
      "[11:28:52] SMILES Parse Error: unclosed ring for input: 'C05445'\n",
      "[11:28:52] SMILES Parse Error: duplicated ring closure 0 bonds atom 0 to itself for input: 'C00003'\n",
      "[11:28:52] SMILES Parse Error: unclosed ring for input: 'C16586'\n",
      "[11:28:52] SMILES Parse Error: unclosed ring for input: 'C16596'\n",
      "[11:28:52] SMILES Parse Error: unclosed ring for input: 'C06611'\n",
      "[11:28:52] SMILES Parse Error: duplicated ring closure 0 bonds atom 0 to itself for input: 'C00071'\n",
      "[11:28:52] SMILES Parse Error: duplicated ring closure 0 bonds atom 0 to itself for input: 'C00005'\n",
      "[11:28:52] SMILES Parse Error: unclosed ring for input: 'C14089'\n",
      "[11:28:52] SMILES Parse Error: unclosed ring for input: 'C06612'\n",
      "[11:28:52] SMILES Parse Error: duplicated ring closure 0 bonds atom 0 to itself for input: 'C00469'\n",
      "[11:28:52] SMILES Parse Error: unclosed ring for input: 'C06899'\n",
      "[11:28:52] SMILES Parse Error: unclosed ring for input: 'C16348'\n",
      "[11:28:52] SMILES Parse Error: duplicated ring closure 0 bonds atom 0 to itself for input: 'C00069'\n",
      "[11:28:52] SMILES Parse Error: unclosed ring for input: 'C01612'\n",
      "[11:28:52] SMILES Parse Error: duplicated ring closure 0 bonds atom 0 to itself for input: 'C00376'\n",
      "[11:28:52] SMILES Parse Error: unclosed ring for input: 'C07645'\n",
      "[11:28:53] SMILES Parse Error: duplicated ring closure 0 bonds atom 0 to itself for input: 'C00114'\n",
      "[11:28:53] SMILES Parse Error: duplicated ring closure 0 bonds atom 0 to itself for input: 'C00226'\n",
      "[11:28:53] SMILES Parse Error: duplicated ring closure 0 bonds atom 0 to itself for input: 'C00576'\n",
      "[11:28:53] SMILES Parse Error: unclosed ring for input: 'C05577'\n",
      "[11:28:53] SMILES Parse Error: duplicated ring closure 0 bonds atom 0 to itself for input: 'C00080'\n",
      "[11:28:53] WARNING: not removing hydrogen atom without neighbors\n",
      "[11:28:53] SMILES Parse Error: unclosed ring for input: 'C06613'\n",
      "[11:28:53] SMILES Parse Error: unclosed ring for input: 'C16595'\n",
      "[11:28:53] SMILES Parse Error: duplicated ring closure 0 bonds atom 0 to itself for input: 'C02909'\n",
      "[11:28:53] SMILES Parse Error: unclosed ring for input: 'C05576'\n",
      "[11:28:53] SMILES Parse Error: duplicated ring closure 1 bonds atom 0 to itself for input: 'C16551'\n",
      "[11:28:53] SMILES Parse Error: duplicated ring closure 0 bonds atom 0 to itself for input: 'C00084'\n",
      "[11:28:53] SMILES Parse Error: duplicated ring closure 0 bonds atom 0 to itself for input: 'C07490'\n",
      "[11:28:53] SMILES Parse Error: duplicated ring closure 0 bonds atom 0 to itself for input: 'C00001'\n",
      "[11:28:53] SMILES Parse Error: duplicated ring closure 0 bonds atom 0 to itself for input: 'C00003'\n",
      "[11:28:53] SMILES Parse Error: unclosed ring for input: 'C16595'\n",
      "[11:28:53] SMILES Parse Error: duplicated ring closure 0 bonds atom 0 to itself for input: 'C00004'\n",
      "[11:28:53] SMILES Parse Error: duplicated ring closure 0 bonds atom 0 to itself for input: 'C00080'\n",
      "[11:28:53] WARNING: not removing hydrogen atom without neighbors\n",
      "[11:28:53] SMILES Parse Error: unclosed ring for input: 'C16596'\n",
      "[11:28:53] SMILES Parse Error: duplicated ring closure 0 bonds atom 0 to itself for input: 'C14090'\n",
      "[11:28:53] SMILES Parse Error: duplicated ring closure 0 bonds atom 0 to itself for input: 'C00473'\n",
      "[11:28:54] SMILES Parse Error: unclosed ring for input: 'C05444'\n",
      "[11:28:54] SMILES Parse Error: unclosed ring for input: 'C14099'\n",
      "[11:28:54] SMILES Parse Error: unclosed ring for input: 'C16587'\n",
      "[11:28:54] SMILES Parse Error: duplicated ring closure 0 bonds atom 0 to itself for input: 'C00006'\n",
      "[11:28:54] SMILES Parse Error: duplicated ring closure 0 bonds atom 0 to itself for input: 'C01450'\n",
      "[11:28:54] SMILES Parse Error: duplicated ring closure 0 bonds atom 0 to itself for input: 'C00004'\n",
      "[11:28:54] SMILES Parse Error: unclosed ring for input: 'C05445'\n",
      "[11:28:54] SMILES Parse Error: duplicated ring closure 0 bonds atom 0 to itself for input: 'C00003'\n",
      "[11:28:54] SMILES Parse Error: unclosed ring for input: 'C16586'\n",
      "[11:28:54] SMILES Parse Error: unclosed ring for input: 'C16596'\n",
      "[11:28:54] SMILES Parse Error: unclosed ring for input: 'C06611'\n",
      "[11:28:54] SMILES Parse Error: duplicated ring closure 0 bonds atom 0 to itself for input: 'C00071'\n",
      "[11:28:54] SMILES Parse Error: duplicated ring closure 0 bonds atom 0 to itself for input: 'C00005'\n",
      "[11:28:54] SMILES Parse Error: unclosed ring for input: 'C14089'\n",
      "[11:28:54] SMILES Parse Error: unclosed ring for input: 'C06612'\n",
      "[11:28:54] SMILES Parse Error: duplicated ring closure 0 bonds atom 0 to itself for input: 'C00469'\n",
      "[11:28:54] SMILES Parse Error: unclosed ring for input: 'C06899'\n",
      "[11:28:54] SMILES Parse Error: unclosed ring for input: 'C16348'\n",
      "[11:28:54] SMILES Parse Error: duplicated ring closure 0 bonds atom 0 to itself for input: 'C00069'\n",
      "[11:28:54] SMILES Parse Error: unclosed ring for input: 'C01612'\n",
      "[11:28:54] SMILES Parse Error: duplicated ring closure 0 bonds atom 0 to itself for input: 'C00376'\n",
      "[11:28:54] SMILES Parse Error: unclosed ring for input: 'C07645'\n",
      "[11:28:55] SMILES Parse Error: duplicated ring closure 0 bonds atom 0 to itself for input: 'C00114'\n",
      "[11:28:55] SMILES Parse Error: duplicated ring closure 0 bonds atom 0 to itself for input: 'C00226'\n",
      "[11:28:55] SMILES Parse Error: duplicated ring closure 0 bonds atom 0 to itself for input: 'C00576'\n",
      "[11:28:55] SMILES Parse Error: unclosed ring for input: 'C05577'\n",
      "[11:28:55] SMILES Parse Error: duplicated ring closure 0 bonds atom 0 to itself for input: 'C00080'\n",
      "[11:28:55] WARNING: not removing hydrogen atom without neighbors\n",
      "[11:28:55] SMILES Parse Error: unclosed ring for input: 'C06613'\n",
      "[11:28:55] SMILES Parse Error: unclosed ring for input: 'C16595'\n",
      "[11:28:55] SMILES Parse Error: duplicated ring closure 0 bonds atom 0 to itself for input: 'C02909'\n",
      "[11:28:55] SMILES Parse Error: unclosed ring for input: 'C05576'\n",
      "[11:28:55] SMILES Parse Error: duplicated ring closure 1 bonds atom 0 to itself for input: 'C16551'\n",
      "[11:28:55] SMILES Parse Error: duplicated ring closure 0 bonds atom 0 to itself for input: 'C00084'\n",
      "[11:28:55] SMILES Parse Error: duplicated ring closure 0 bonds atom 0 to itself for input: 'C07490'\n",
      "[11:28:55] SMILES Parse Error: duplicated ring closure 0 bonds atom 0 to itself for input: 'C00001'\n",
      "[11:28:55] SMILES Parse Error: duplicated ring closure 0 bonds atom 0 to itself for input: 'C00004'\n",
      "[11:28:55] SMILES Parse Error: duplicated ring closure 0 bonds atom 0 to itself for input: 'C00080'\n",
      "[11:28:55] WARNING: not removing hydrogen atom without neighbors\n",
      "[11:28:55] SMILES Parse Error: unclosed ring for input: 'C06899'\n",
      "[11:28:55] SMILES Parse Error: duplicated ring closure 0 bonds atom 0 to itself for input: 'C00001'\n",
      "[11:28:55] SMILES Parse Error: duplicated ring closure 0 bonds atom 0 to itself for input: 'C00003'\n",
      "[11:28:56] SMILES Parse Error: duplicated ring closure 0 bonds atom 0 to itself for input: 'C07490'\n",
      "[11:28:56] SMILES Parse Error: duplicated ring closure 0 bonds atom 0 to itself for input: 'C14090'\n",
      "[11:28:56] SMILES Parse Error: duplicated ring closure 0 bonds atom 0 to itself for input: 'C00473'\n",
      "[11:28:56] SMILES Parse Error: unclosed ring for input: 'C05444'\n",
      "[11:28:56] SMILES Parse Error: unclosed ring for input: 'C14099'\n",
      "[11:28:56] SMILES Parse Error: unclosed ring for input: 'C16587'\n",
      "[11:28:56] SMILES Parse Error: duplicated ring closure 0 bonds atom 0 to itself for input: 'C00006'\n",
      "[11:28:56] SMILES Parse Error: duplicated ring closure 0 bonds atom 0 to itself for input: 'C01450'\n",
      "[11:28:56] SMILES Parse Error: duplicated ring closure 0 bonds atom 0 to itself for input: 'C00004'\n",
      "[11:28:56] SMILES Parse Error: unclosed ring for input: 'C05445'\n",
      "[11:28:56] SMILES Parse Error: duplicated ring closure 0 bonds atom 0 to itself for input: 'C00003'\n",
      "[11:28:56] SMILES Parse Error: unclosed ring for input: 'C16586'\n",
      "[11:28:56] SMILES Parse Error: unclosed ring for input: 'C16596'\n",
      "[11:28:56] SMILES Parse Error: unclosed ring for input: 'C06611'\n",
      "[11:28:56] SMILES Parse Error: duplicated ring closure 0 bonds atom 0 to itself for input: 'C00071'\n",
      "[11:28:56] SMILES Parse Error: duplicated ring closure 0 bonds atom 0 to itself for input: 'C00005'\n",
      "[11:28:56] SMILES Parse Error: unclosed ring for input: 'C14089'\n",
      "[11:28:56] SMILES Parse Error: unclosed ring for input: 'C06612'\n",
      "[11:28:56] SMILES Parse Error: duplicated ring closure 0 bonds atom 0 to itself for input: 'C00469'\n",
      "[11:28:57] SMILES Parse Error: unclosed ring for input: 'C06899'\n",
      "[11:28:57] SMILES Parse Error: unclosed ring for input: 'C16348'\n",
      "[11:28:57] SMILES Parse Error: duplicated ring closure 0 bonds atom 0 to itself for input: 'C00069'\n",
      "[11:28:57] SMILES Parse Error: unclosed ring for input: 'C01612'\n",
      "[11:28:57] SMILES Parse Error: duplicated ring closure 0 bonds atom 0 to itself for input: 'C00376'\n",
      "[11:28:57] SMILES Parse Error: unclosed ring for input: 'C07645'\n",
      "[11:28:57] SMILES Parse Error: duplicated ring closure 0 bonds atom 0 to itself for input: 'C00114'\n",
      "[11:28:57] SMILES Parse Error: duplicated ring closure 0 bonds atom 0 to itself for input: 'C00226'\n",
      "[11:28:57] SMILES Parse Error: duplicated ring closure 0 bonds atom 0 to itself for input: 'C00576'\n",
      "[11:28:57] SMILES Parse Error: unclosed ring for input: 'C05577'\n",
      "[11:28:57] SMILES Parse Error: duplicated ring closure 0 bonds atom 0 to itself for input: 'C00080'\n",
      "[11:28:57] WARNING: not removing hydrogen atom without neighbors\n",
      "[11:28:57] SMILES Parse Error: unclosed ring for input: 'C06613'\n",
      "[11:28:57] SMILES Parse Error: unclosed ring for input: 'C16595'\n",
      "[11:28:57] SMILES Parse Error: duplicated ring closure 0 bonds atom 0 to itself for input: 'C02909'\n",
      "[11:28:57] SMILES Parse Error: unclosed ring for input: 'C05576'\n",
      "[11:28:57] SMILES Parse Error: duplicated ring closure 1 bonds atom 0 to itself for input: 'C16551'\n",
      "[11:28:57] SMILES Parse Error: duplicated ring closure 0 bonds atom 0 to itself for input: 'C00084'\n",
      "[11:28:57] SMILES Parse Error: duplicated ring closure 0 bonds atom 0 to itself for input: 'C07490'\n",
      "[11:28:57] SMILES Parse Error: duplicated ring closure 0 bonds atom 0 to itself for input: 'C00001'\n",
      "[11:28:57] SMILES Parse Error: duplicated ring closure 0 bonds atom 0 to itself for input: 'C01051'\n",
      "[11:28:58] SMILES Parse Error: duplicated ring closure 0 bonds atom 0 to itself for input: 'C00011'\n",
      "[11:28:58] SMILES Parse Error: unclosed ring for input: 'C03263'\n",
      "[11:28:59] SMILES Parse Error: unclosed ring for input: 'C05766'\n",
      "[11:29:00] SMILES Parse Error: duplicated ring closure 0 bonds atom 0 to itself for input: 'C00011'\n",
      "[11:29:00] SMILES Parse Error: unclosed ring for input: 'C05768'\n",
      "[11:29:01] SMILES Parse Error: duplicated ring closure 1 bonds atom 0 to itself for input: 'C11437'\n"
     ]
    },
    {
     "name": "stdout",
     "output_type": "stream",
     "text": [
      "Failed to retrieve data. Status code: 404\n"
     ]
    },
    {
     "name": "stderr",
     "output_type": "stream",
     "text": [
      "[11:29:02] SMILES Parse Error: duplicated ring closure 1 bonds atom 0 to itself for input: 'C11638'\n"
     ]
    },
    {
     "name": "stdout",
     "output_type": "stream",
     "text": [
      "Failed to retrieve data. Status code: 404\n"
     ]
    },
    {
     "name": "stderr",
     "output_type": "stream",
     "text": [
      "[11:29:03] SMILES Parse Error: duplicated ring closure 0 bonds atom 0 to itself for input: 'C00001'\n",
      "[11:29:03] SMILES Parse Error: duplicated ring closure 0 bonds atom 0 to itself for input: 'C00009'\n",
      "[11:29:03] SMILES Parse Error: duplicated ring closure 0 bonds atom 0 to itself for input: 'C00627'\n",
      "[11:29:04] SMILES Parse Error: duplicated ring closure 0 bonds atom 0 to itself for input: 'C00001'\n",
      "[11:29:04] SMILES Parse Error: duplicated ring closure 0 bonds atom 0 to itself for input: 'C01102'\n",
      "[11:29:05] SMILES Parse Error: duplicated ring closure 0 bonds atom 0 to itself for input: 'C00009'\n",
      "[11:29:06] SMILES Parse Error: duplicated ring closure 0 bonds atom 0 to itself for input: 'C00188'\n",
      "[11:29:06] SMILES Parse Error: duplicated ring closure 0 bonds atom 0 to itself for input: 'C00001'\n",
      "[11:29:06] SMILES Parse Error: duplicated ring closure 0 bonds atom 0 to itself for input: 'C06055'\n",
      "[11:29:06] SMILES Parse Error: duplicated ring closure 0 bonds atom 0 to itself for input: 'C00009'\n",
      "[11:29:06] SMILES Parse Error: duplicated ring closure 0 bonds atom 0 to itself for input: 'C06056'\n",
      "[11:29:07] SMILES Parse Error: duplicated ring closure 0 bonds atom 0 to itself for input: 'C00013'\n",
      "[11:29:07] SMILES Parse Error: duplicated ring closure 0 bonds atom 0 to itself for input: 'C01103'\n",
      "[11:29:07] SMILES Parse Error: duplicated ring closure 0 bonds atom 0 to itself for input: 'C00119'\n",
      "[11:29:07] SMILES Parse Error: duplicated ring closure 0 bonds atom 0 to itself for input: 'C00295'\n",
      "[11:29:08] SMILES Parse Error: duplicated ring closure 0 bonds atom 0 to itself for input: 'C00119'\n",
      "[11:29:08] SMILES Parse Error: unclosed ring for input: 'C07649'\n",
      "[11:29:08] SMILES Parse Error: duplicated ring closure 0 bonds atom 0 to itself for input: 'C00013'\n",
      "[11:29:08] SMILES Parse Error: unclosed ring for input: 'C16634'\n"
     ]
    },
    {
     "name": "stdout",
     "output_type": "stream",
     "text": [
      "Failed to retrieve data. Status code: 404\n"
     ]
    },
    {
     "name": "stderr",
     "output_type": "stream",
     "text": [
      "[11:29:09] SMILES Parse Error: duplicated ring closure 0 bonds atom 0 to itself for input: 'C00103'\n",
      "[11:29:09] SMILES Parse Error: duplicated ring closure 0 bonds atom 0 to itself for input: 'C00459'\n",
      "[11:29:09] SMILES Parse Error: duplicated ring closure 0 bonds atom 0 to itself for input: 'C00013'\n",
      "[11:29:09] SMILES Parse Error: duplicated ring closure 0 bonds atom 0 to itself for input: 'C00842'\n",
      "[11:29:09] SMILES Parse Error: duplicated ring closure 0 bonds atom 0 to itself for input: 'C00001'\n",
      "[11:29:09] SMILES Parse Error: unclosed ring for input: 'C04534'\n",
      "[11:29:10] SMILES Parse Error: duplicated ring closure 0 bonds atom 0 to itself for input: 'C00031'\n",
      "[11:29:10] SMILES Parse Error: duplicated ring closure 0 bonds atom 0 to itself for input: 'C00092'\n",
      "[11:29:10] SMILES Parse Error: duplicated ring closure 0 bonds atom 0 to itself for input: 'C00001'\n",
      "[11:29:10] SMILES Parse Error: unclosed ring for input: 'C06187'\n",
      "[11:29:11] SMILES Parse Error: duplicated ring closure 0 bonds atom 0 to itself for input: 'C00530'\n",
      "[11:29:12] SMILES Parse Error: unclosed ring for input: 'C01172'\n",
      "[11:29:12] SMILES Parse Error: duplicated ring closure 0 bonds atom 0 to itself for input: 'C00001'\n",
      "[11:29:12] SMILES Parse Error: unclosed ring for input: 'C06188'\n",
      "[11:29:13] SMILES Parse Error: unclosed ring for input: 'C01172'\n",
      "[11:29:13] SMILES Parse Error: unclosed ring for input: 'C02323'\n",
      "[11:29:14] SMILES Parse Error: duplicated ring closure 0 bonds atom 0 to itself for input: 'C00001'\n",
      "[11:29:14] SMILES Parse Error: duplicated ring closure 0 bonds atom 0 to itself for input: 'C00003'\n",
      "[11:29:14] SMILES Parse Error: duplicated ring closure 0 bonds atom 0 to itself for input: 'C00860'\n",
      "[11:29:15] SMILES Parse Error: duplicated ring closure 0 bonds atom 0 to itself for input: 'C00004'\n",
      "[11:29:15] SMILES Parse Error: duplicated ring closure 0 bonds atom 0 to itself for input: 'C00080'\n",
      "[11:29:15] WARNING: not removing hydrogen atom without neighbors\n",
      "[11:29:15] SMILES Parse Error: duplicated ring closure 0 bonds atom 0 to itself for input: 'C00135'\n",
      "[11:29:15] SMILES Parse Error: duplicated ring closure 0 bonds atom 0 to itself for input: 'C00001'\n",
      "[11:29:15] SMILES Parse Error: duplicated ring closure 0 bonds atom 0 to itself for input: 'C00003'\n",
      "[11:29:15] SMILES Parse Error: unclosed ring for input: 'C01929'\n",
      "[11:29:16] SMILES Parse Error: duplicated ring closure 0 bonds atom 0 to itself for input: 'C00004'\n",
      "[11:29:16] SMILES Parse Error: duplicated ring closure 0 bonds atom 0 to itself for input: 'C00080'\n",
      "[11:29:16] WARNING: not removing hydrogen atom without neighbors\n",
      "[11:29:16] SMILES Parse Error: duplicated ring closure 0 bonds atom 0 to itself for input: 'C00135'\n",
      "[11:29:16] SMILES Parse Error: duplicated ring closure 0 bonds atom 0 to itself for input: 'C00003'\n",
      "[11:29:16] SMILES Parse Error: duplicated ring closure 0 bonds atom 0 to itself for input: 'C00860'\n",
      "[11:29:16] SMILES Parse Error: duplicated ring closure 0 bonds atom 0 to itself for input: 'C00004'\n",
      "[11:29:16] SMILES Parse Error: duplicated ring closure 0 bonds atom 0 to itself for input: 'C00080'\n",
      "[11:29:16] WARNING: not removing hydrogen atom without neighbors\n",
      "[11:29:16] SMILES Parse Error: unclosed ring for input: 'C01929'\n",
      "[11:29:16] SMILES Parse Error: duplicated ring closure 0 bonds atom 0 to itself for input: 'C00002'\n",
      "[11:29:16] SMILES Parse Error: duplicated ring closure 0 bonds atom 0 to itself for input: 'C00217'\n",
      "[11:29:17] SMILES Parse Error: unclosed ring for input: 'C01212'\n",
      "[11:29:18] SMILES Parse Error: duplicated ring closure 0 bonds atom 0 to itself for input: 'C00008'\n",
      "[11:29:18] SMILES Parse Error: duplicated ring closure 0 bonds atom 0 to itself for input: 'C00009'\n",
      "[11:29:18] SMILES Parse Error: duplicated ring closure 0 bonds atom 0 to itself for input: 'C00692'\n",
      "[11:29:18] SMILES Parse Error: duplicated ring closure 0 bonds atom 0 to itself for input: 'C00002'\n",
      "[11:29:18] SMILES Parse Error: duplicated ring closure 0 bonds atom 0 to itself for input: 'C00025'\n",
      "[11:29:18] SMILES Parse Error: duplicated ring closure 0 bonds atom 0 to itself for input: 'C00921'\n",
      "[11:29:19] SMILES Parse Error: duplicated ring closure 0 bonds atom 0 to itself for input: 'C00008'\n",
      "[11:29:19] SMILES Parse Error: duplicated ring closure 0 bonds atom 0 to itself for input: 'C00009'\n",
      "[11:29:19] SMILES Parse Error: duplicated ring closure 0 bonds atom 0 to itself for input: 'C00415'\n",
      "[11:29:19] SMILES Parse Error: duplicated ring closure 0 bonds atom 0 to itself for input: 'C00002'\n",
      "[11:29:19] SMILES Parse Error: duplicated ring closure 0 bonds atom 0 to itself for input: 'C00025'\n",
      "[11:29:19] SMILES Parse Error: duplicated ring closure 0 bonds atom 0 to itself for input: 'C00234'\n",
      "[11:29:19] SMILES Parse Error: duplicated ring closure 0 bonds atom 0 to itself for input: 'C00008'\n",
      "[11:29:20] SMILES Parse Error: duplicated ring closure 0 bonds atom 0 to itself for input: 'C00009'\n",
      "[11:29:20] SMILES Parse Error: unclosed ring for input: 'C05928'\n",
      "[11:29:21] SMILES Parse Error: duplicated ring closure 0 bonds atom 0 to itself for input: 'C00003'\n",
      "[11:29:21] SMILES Parse Error: duplicated ring closure 0 bonds atom 0 to itself for input: 'C00148'\n",
      "[11:29:21] SMILES Parse Error: duplicated ring closure 0 bonds atom 0 to itself for input: 'C00004'\n",
      "[11:29:21] SMILES Parse Error: duplicated ring closure 0 bonds atom 0 to itself for input: 'C00080'\n",
      "[11:29:21] WARNING: not removing hydrogen atom without neighbors\n",
      "[11:29:21] SMILES Parse Error: unclosed ring for input: 'C03912'\n",
      "[11:29:22] SMILES Parse Error: duplicated ring closure 0 bonds atom 0 to itself for input: 'C00006'\n",
      "[11:29:22] SMILES Parse Error: duplicated ring closure 0 bonds atom 0 to itself for input: 'C00148'\n",
      "[11:29:22] SMILES Parse Error: duplicated ring closure 0 bonds atom 0 to itself for input: 'C00005'\n",
      "[11:29:22] SMILES Parse Error: duplicated ring closure 0 bonds atom 0 to itself for input: 'C00080'\n",
      "[11:29:22] WARNING: not removing hydrogen atom without neighbors\n",
      "[11:29:22] SMILES Parse Error: unclosed ring for input: 'C03912'\n",
      "[11:29:22] SMILES Parse Error: duplicated ring closure 0 bonds atom 0 to itself for input: 'C00003'\n",
      "[11:29:22] SMILES Parse Error: unclosed ring for input: 'C01157'\n",
      "[11:29:23] SMILES Parse Error: duplicated ring closure 0 bonds atom 0 to itself for input: 'C00004'\n",
      "[11:29:23] SMILES Parse Error: duplicated ring closure 0 bonds atom 0 to itself for input: 'C00080'\n",
      "[11:29:23] WARNING: not removing hydrogen atom without neighbors\n",
      "[11:29:23] SMILES Parse Error: unclosed ring for input: 'C04281'\n",
      "[11:29:24] SMILES Parse Error: duplicated ring closure 0 bonds atom 0 to itself for input: 'C00006'\n",
      "[11:29:24] SMILES Parse Error: unclosed ring for input: 'C01157'\n",
      "[11:29:24] SMILES Parse Error: duplicated ring closure 0 bonds atom 0 to itself for input: 'C00005'\n",
      "[11:29:24] SMILES Parse Error: duplicated ring closure 0 bonds atom 0 to itself for input: 'C00080'\n",
      "[11:29:24] WARNING: not removing hydrogen atom without neighbors\n",
      "[11:29:24] SMILES Parse Error: unclosed ring for input: 'C04281'\n",
      "[11:29:24] SMILES Parse Error: unclosed ring for input: 'C11907'\n",
      "[11:29:24] SMILES Parse Error: duplicated ring closure 0 bonds atom 0 to itself for input: 'C00688'\n",
      "[11:29:25] SMILES Parse Error: duplicated ring closure 0 bonds atom 0 to itself for input: 'C00673'\n",
      "[11:29:25] SMILES Parse Error: duplicated ring closure 0 bonds atom 0 to itself for input: 'C00084'\n",
      "[11:29:25] SMILES Parse Error: duplicated ring closure 0 bonds atom 0 to itself for input: 'C00118'\n",
      "[11:29:25] SMILES Parse Error: duplicated ring closure 0 bonds atom 0 to itself for input: 'C00001'\n",
      "[11:29:25] SMILES Parse Error: duplicated ring closure 0 bonds atom 0 to itself for input: 'C00073'\n",
      "[11:29:25] SMILES Parse Error: duplicated ring closure 0 bonds atom 0 to itself for input: 'C00343'\n",
      "[11:29:25] SMILES Parse Error: duplicated ring closure 0 bonds atom 0 to itself for input: 'C00342'\n",
      "[11:29:25] SMILES Parse Error: unclosed ring for input: 'C15998'\n"
     ]
    },
    {
     "name": "stdout",
     "output_type": "stream",
     "text": [
      "Failed to retrieve data. Status code: 404\n"
     ]
    },
    {
     "name": "stderr",
     "output_type": "stream",
     "text": [
      "[11:29:26] SMILES Parse Error: duplicated ring closure 0 bonds atom 0 to itself for input: 'C00001'\n",
      "[11:29:26] SMILES Parse Error: duplicated ring closure 0 bonds atom 0 to itself for input: 'C00073'\n",
      "[11:29:26] SMILES Parse Error: duplicated ring closure 0 bonds atom 0 to itself for input: 'C00343'\n",
      "[11:29:26] SMILES Parse Error: duplicated ring closure 0 bonds atom 0 to itself for input: 'C00342'\n",
      "[11:29:26] SMILES Parse Error: unclosed ring for input: 'C02989'\n",
      "[11:29:27] SMILES Parse Error: duplicated ring closure 0 bonds atom 0 to itself for input: 'C00006'\n",
      "[11:29:27] SMILES Parse Error: duplicated ring closure 0 bonds atom 0 to itself for input: 'C00009'\n",
      "[11:29:27] SMILES Parse Error: duplicated ring closure 0 bonds atom 0 to itself for input: 'C01250'\n",
      "[11:29:27] SMILES Parse Error: duplicated ring closure 0 bonds atom 0 to itself for input: 'C00005'\n",
      "[11:29:27] SMILES Parse Error: duplicated ring closure 0 bonds atom 0 to itself for input: 'C00080'\n",
      "[11:29:27] WARNING: not removing hydrogen atom without neighbors\n",
      "[11:29:27] SMILES Parse Error: unclosed ring for input: 'C04133'\n",
      "[11:29:27] SMILES Parse Error: duplicated ring closure 0 bonds atom 0 to itself for input: 'C00002'\n",
      "[11:29:27] SMILES Parse Error: duplicated ring closure 0 bonds atom 0 to itself for input: 'C00993'\n",
      "[11:29:27] SMILES Parse Error: unclosed ring for input: 'C05892'\n",
      "[11:29:28] SMILES Parse Error: duplicated ring closure 0 bonds atom 0 to itself for input: 'C00008'\n",
      "[11:29:28] SMILES Parse Error: duplicated ring closure 0 bonds atom 0 to itself for input: 'C00009'\n",
      "[11:29:28] SMILES Parse Error: duplicated ring closure 0 bonds atom 0 to itself for input: 'C04702'\n",
      "[11:29:29] SMILES Parse Error: duplicated ring closure 0 bonds atom 0 to itself for input: 'C00002'\n",
      "[11:29:30] SMILES Parse Error: duplicated ring closure 0 bonds atom 0 to itself for input: 'C00993'\n",
      "[11:29:30] SMILES Parse Error: unclosed ring for input: 'C04877'\n",
      "[11:29:30] SMILES Parse Error: duplicated ring closure 0 bonds atom 0 to itself for input: 'C00008'\n",
      "[11:29:30] SMILES Parse Error: duplicated ring closure 0 bonds atom 0 to itself for input: 'C00009'\n",
      "[11:29:30] SMILES Parse Error: unclosed ring for input: 'C04882'\n",
      "[11:29:31] SMILES Parse Error: duplicated ring closure 0 bonds atom 0 to itself for input: 'C00026'\n",
      "[11:29:31] SMILES Parse Error: duplicated ring closure 0 bonds atom 0 to itself for input: 'C01021'\n"
     ]
    },
    {
     "name": "stdout",
     "output_type": "stream",
     "text": [
      "Failed to retrieve data. Status code: 404\n"
     ]
    },
    {
     "name": "stderr",
     "output_type": "stream",
     "text": [
      "[11:29:32] SMILES Parse Error: duplicated ring closure 0 bonds atom 0 to itself for input: 'C00025'\n",
      "[11:29:32] SMILES Parse Error: duplicated ring closure 0 bonds atom 0 to itself for input: 'C00972'\n"
     ]
    },
    {
     "name": "stdout",
     "output_type": "stream",
     "text": [
      "Failed to retrieve data. Status code: 404\n"
     ]
    },
    {
     "name": "stderr",
     "output_type": "stream",
     "text": [
      "[11:29:33] SMILES Parse Error: duplicated ring closure 0 bonds atom 0 to itself for input: 'C00026'\n",
      "[11:29:33] SMILES Parse Error: duplicated ring closure 0 bonds atom 0 to itself for input: 'C00079'\n",
      "[11:29:33] SMILES Parse Error: duplicated ring closure 0 bonds atom 0 to itself for input: 'C00025'\n",
      "[11:29:33] SMILES Parse Error: duplicated ring closure 0 bonds atom 0 to itself for input: 'C00166'\n",
      "[11:29:33] SMILES Parse Error: duplicated ring closure 0 bonds atom 0 to itself for input: 'C00026'\n",
      "[11:29:33] SMILES Parse Error: duplicated ring closure 0 bonds atom 0 to itself for input: 'C00082'\n",
      "[11:29:33] SMILES Parse Error: duplicated ring closure 0 bonds atom 0 to itself for input: 'C00025'\n",
      "[11:29:33] SMILES Parse Error: unclosed ring for input: 'C01179'\n",
      "[11:29:33] SMILES Parse Error: duplicated ring closure 0 bonds atom 0 to itself for input: 'C00036'\n",
      "[11:29:33] SMILES Parse Error: duplicated ring closure 0 bonds atom 0 to itself for input: 'C00826'\n",
      "[11:29:34] SMILES Parse Error: duplicated ring closure 0 bonds atom 0 to itself for input: 'C00049'\n",
      "[11:29:34] SMILES Parse Error: duplicated ring closure 0 bonds atom 0 to itself for input: 'C00254'\n",
      "[11:29:35] SMILES Parse Error: duplicated ring closure 0 bonds atom 0 to itself for input: 'C00025'\n",
      "[11:29:35] SMILES Parse Error: duplicated ring closure 0 bonds atom 0 to itself for input: 'C01180'\n",
      "[11:29:37] SMILES Parse Error: duplicated ring closure 0 bonds atom 0 to itself for input: 'C00026'\n",
      "[11:29:37] SMILES Parse Error: duplicated ring closure 0 bonds atom 0 to itself for input: 'C00073'\n",
      "[11:29:37] SMILES Parse Error: duplicated ring closure 0 bonds atom 0 to itself for input: 'C00019'\n",
      "[11:29:37] SMILES Parse Error: unclosed ring for input: 'C16236'\n",
      "[11:29:38] SMILES Parse Error: unclosed ring for input: 'C17023'\n"
     ]
    },
    {
     "name": "stdout",
     "output_type": "stream",
     "text": [
      "Failed to retrieve data. Status code: 404\n"
     ]
    },
    {
     "name": "stderr",
     "output_type": "stream",
     "text": [
      "[11:29:39] SMILES Parse Error: duplicated ring closure 0 bonds atom 0 to itself for input: 'C00073'\n",
      "[11:29:39] SMILES Parse Error: unclosed ring for input: 'C05198'\n",
      "[11:29:40] SMILES Parse Error: unclosed ring for input: 'C16237'\n",
      "[11:29:40] SMILES Parse Error: duplicated ring closure 0 bonds atom 0 to itself for input: 'C00019'\n",
      "[11:29:40] SMILES Parse Error: unclosed ring for input: 'C05752'\n",
      "[11:29:40] SMILES Parse Error: unclosed ring for input: 'C17023'\n",
      "[11:29:40] SMILES Parse Error: duplicated ring closure 0 bonds atom 0 to itself for input: 'C00073'\n",
      "[11:29:40] SMILES Parse Error: unclosed ring for input: 'C05198'\n",
      "[11:29:40] SMILES Parse Error: unclosed ring for input: 'C16239'\n",
      "[11:29:41] SMILES Parse Error: duplicated ring closure 0 bonds atom 0 to itself for input: 'C00001'\n",
      "[11:29:41] SMILES Parse Error: unclosed ring for input: 'C16698'\n",
      "[11:29:42] SMILES Parse Error: duplicated ring closure 0 bonds atom 0 to itself for input: 'C00256'\n",
      "[11:29:42] SMILES Parse Error: duplicated ring closure 0 bonds atom 0 to itself for input: 'C00357'\n"
     ]
    },
    {
     "name": "stdout",
     "output_type": "stream",
     "text": [
      "Failed to retrieve data. Status code: 404\n"
     ]
    },
    {
     "name": "stderr",
     "output_type": "stream",
     "text": [
      "[11:29:43] SMILES Parse Error: duplicated ring closure 0 bonds atom 0 to itself for input: 'C00002'\n",
      "[11:29:43] SMILES Parse Error: duplicated ring closure 0 bonds atom 0 to itself for input: 'C00364'\n",
      "[11:29:43] SMILES Parse Error: duplicated ring closure 0 bonds atom 0 to itself for input: 'C00008'\n",
      "[11:29:43] SMILES Parse Error: duplicated ring closure 0 bonds atom 0 to itself for input: 'C00363'\n",
      "[11:29:43] SMILES Parse Error: duplicated ring closure 0 bonds atom 0 to itself for input: 'C00002'\n",
      "[11:29:43] SMILES Parse Error: duplicated ring closure 0 bonds atom 0 to itself for input: 'C00365'\n",
      "[11:29:43] SMILES Parse Error: duplicated ring closure 0 bonds atom 0 to itself for input: 'C00008'\n",
      "[11:29:43] SMILES Parse Error: unclosed ring for input: 'C01346'\n",
      "[11:29:43] SMILES Parse Error: duplicated ring closure 0 bonds atom 0 to itself for input: 'C00049'\n",
      "[11:29:43] SMILES Parse Error: duplicated ring closure 0 bonds atom 0 to itself for input: 'C00169'\n",
      "[11:29:43] SMILES Parse Error: duplicated ring closure 0 bonds atom 0 to itself for input: 'C00009'\n",
      "[11:29:43] SMILES Parse Error: duplicated ring closure 0 bonds atom 0 to itself for input: 'C00438'\n",
      "[11:29:44] SMILES Parse Error: duplicated ring closure 0 bonds atom 0 to itself for input: 'C00001'\n",
      "[11:29:44] SMILES Parse Error: duplicated ring closure 0 bonds atom 0 to itself for input: 'C00934'\n"
     ]
    },
    {
     "name": "stdout",
     "output_type": "stream",
     "text": [
      "Failed to retrieve data. Status code: 404\n"
     ]
    },
    {
     "name": "stderr",
     "output_type": "stream",
     "text": [
      "[11:29:45] SMILES Parse Error: duplicated ring closure 0 bonds atom 0 to itself for input: 'C00009'\n",
      "[11:29:45] SMILES Parse Error: duplicated ring closure 1 bonds atom 0 to itself for input: 'C11477'\n",
      "[11:29:46] SMILES Parse Error: duplicated ring closure 0 bonds atom 0 to itself for input: 'C00001'\n",
      "[11:29:46] SMILES Parse Error: duplicated ring closure 0 bonds atom 0 to itself for input: 'C00299'\n",
      "[11:29:46] SMILES Parse Error: duplicated ring closure 0 bonds atom 0 to itself for input: 'C00106'\n",
      "[11:29:46] SMILES Parse Error: duplicated ring closure 0 bonds atom 0 to itself for input: 'C00121'\n",
      "[11:29:47] SMILES Parse Error: duplicated ring closure 0 bonds atom 0 to itself for input: 'C00199'\n",
      "[11:29:47] SMILES Parse Error: duplicated ring closure 0 bonds atom 0 to itself for input: 'C00058'\n",
      "[11:29:47] SMILES Parse Error: unclosed ring for input: 'C15556'\n",
      "[11:29:47] SMILES Parse Error: duplicated ring closure 0 bonds atom 0 to itself for input: 'C00001'\n",
      "[11:29:47] SMILES Parse Error: duplicated ring closure 0 bonds atom 0 to itself for input: 'C00044'\n",
      "[11:29:47] SMILES Parse Error: duplicated ring closure 0 bonds atom 0 to itself for input: 'C00058'\n",
      "[11:29:47] SMILES Parse Error: unclosed ring for input: 'C04895'\n",
      "[11:29:48] SMILES Parse Error: duplicated ring closure 0 bonds atom 0 to itself for input: 'C00001'\n",
      "[11:29:48] SMILES Parse Error: duplicated ring closure 0 bonds atom 0 to itself for input: 'C00044'\n",
      "[11:29:48] SMILES Parse Error: unclosed ring for input: 'C05922'\n",
      "[11:29:49] SMILES Parse Error: duplicated ring closure 0 bonds atom 0 to itself for input: 'C00001'\n",
      "[11:29:49] SMILES Parse Error: unclosed ring for input: 'C04895'\n",
      "[11:29:49] SMILES Parse Error: unclosed ring for input: 'C06148'\n",
      "[11:29:50] SMILES Parse Error: duplicated ring closure 0 bonds atom 0 to itself for input: 'C00001'\n",
      "[11:29:50] SMILES Parse Error: unclosed ring for input: 'C05922'\n",
      "[11:29:50] SMILES Parse Error: duplicated ring closure 0 bonds atom 0 to itself for input: 'C00058'\n",
      "[11:29:51] SMILES Parse Error: unclosed ring for input: 'C05923'\n",
      "[11:29:51] SMILES Parse Error: unclosed ring for input: 'C05923'\n",
      "[11:29:51] SMILES Parse Error: unclosed ring for input: 'C06148'\n",
      "[11:29:51] SMILES Parse Error: duplicated ring closure 0 bonds atom 0 to itself for input: 'C00003'\n",
      "[11:29:52] SMILES Parse Error: unclosed ring for input: 'C14180'\n"
     ]
    },
    {
     "name": "stdout",
     "output_type": "stream",
     "text": [
      "Failed to retrieve data. Status code: 404\n"
     ]
    },
    {
     "name": "stderr",
     "output_type": "stream",
     "text": [
      "[11:29:52] SMILES Parse Error: duplicated ring closure 0 bonds atom 0 to itself for input: 'C00004'\n",
      "[11:29:52] SMILES Parse Error: duplicated ring closure 0 bonds atom 0 to itself for input: 'C00080'\n",
      "[11:29:52] WARNING: not removing hydrogen atom without neighbors\n",
      "[11:29:53] SMILES Parse Error: duplicated ring closure 0 bonds atom 0 to itself for input: 'C01031'\n",
      "[11:29:54] SMILES Parse Error: duplicated ring closure 0 bonds atom 0 to itself for input: 'C00006'\n",
      "[11:29:54] SMILES Parse Error: unclosed ring for input: 'C14180'\n",
      "[11:29:54] SMILES Parse Error: duplicated ring closure 0 bonds atom 0 to itself for input: 'C00005'\n",
      "[11:29:54] SMILES Parse Error: duplicated ring closure 0 bonds atom 0 to itself for input: 'C00080'\n",
      "[11:29:54] WARNING: not removing hydrogen atom without neighbors\n",
      "[11:29:54] SMILES Parse Error: duplicated ring closure 0 bonds atom 0 to itself for input: 'C01031'\n",
      "[11:29:54] SMILES Parse Error: duplicated ring closure 0 bonds atom 0 to itself for input: 'C00049'\n",
      "[11:29:54] SMILES Parse Error: duplicated ring closure 0 bonds atom 0 to itself for input: 'C00011'\n",
      "[11:29:54] SMILES Parse Error: duplicated ring closure 0 bonds atom 0 to itself for input: 'C00099'\n",
      "[11:29:54] SMILES Parse Error: duplicated ring closure 0 bonds atom 0 to itself for input: 'C00003'\n",
      "[11:29:54] SMILES Parse Error: duplicated ring closure 0 bonds atom 0 to itself for input: 'C00256'\n",
      "[11:29:54] SMILES Parse Error: duplicated ring closure 0 bonds atom 0 to itself for input: 'C00004'\n",
      "[11:29:54] SMILES Parse Error: duplicated ring closure 0 bonds atom 0 to itself for input: 'C00022'\n",
      "[11:29:54] SMILES Parse Error: duplicated ring closure 0 bonds atom 0 to itself for input: 'C00080'\n",
      "[11:29:54] WARNING: not removing hydrogen atom without neighbors\n",
      "[11:29:54] SMILES Parse Error: duplicated ring closure 0 bonds atom 0 to itself for input: 'C00002'\n",
      "[11:29:54] SMILES Parse Error: duplicated ring closure 0 bonds atom 0 to itself for input: 'C00192'\n",
      "[11:29:55] SMILES Parse Error: duplicated ring closure 0 bonds atom 0 to itself for input: 'C00080'\n",
      "[11:29:55] WARNING: not removing hydrogen atom without neighbors\n",
      "[11:29:55] SMILES Parse Error: duplicated ring closure 0 bonds atom 0 to itself for input: 'C00256'\n",
      "[11:29:55] SMILES Parse Error: duplicated ring closure 0 bonds atom 0 to itself for input: 'C00022'\n",
      "[11:29:55] SMILES Parse Error: unclosed ring for input: 'C19935'\n",
      "[11:29:56] SMILES Parse Error: unclosed ring for input: 'C02496'\n",
      "[11:29:57] SMILES Parse Error: duplicated ring closure 1 bonds atom 0 to itself for input: 'C11215'\n",
      "[11:29:57] SMILES Parse Error: unclosed ring for input: 'C01444'\n",
      "[11:29:58] SMILES Parse Error: duplicated ring closure 0 bonds atom 0 to itself for input: 'C00284'\n",
      "[11:29:58] SMILES Parse Error: duplicated ring closure 0 bonds atom 0 to itself for input: 'C00004'\n",
      "[11:29:58] SMILES Parse Error: unclosed ring for input: 'C01478'\n",
      "[11:29:58] SMILES Parse Error: duplicated ring closure 0 bonds atom 0 to itself for input: 'C00003'\n",
      "[11:29:58] SMILES Parse Error: duplicated ring closure 0 bonds atom 0 to itself for input: 'C00009'\n",
      "[11:29:58] SMILES Parse Error: duplicated ring closure 0 bonds atom 0 to itself for input: 'C00066'\n"
     ]
    },
    {
     "name": "stdout",
     "output_type": "stream",
     "text": [
      "Failed to retrieve data. Status code: 404\n"
     ]
    },
    {
     "name": "stderr",
     "output_type": "stream",
     "text": [
      "[11:29:59] SMILES Parse Error: duplicated ring closure 0 bonds atom 0 to itself for input: 'C00454'\n",
      "[11:29:59] SMILES Parse Error: duplicated ring closure 0 bonds atom 0 to itself for input: 'C00001'\n",
      "[11:29:59] SMILES Parse Error: duplicated ring closure 0 bonds atom 0 to itself for input: 'C00179'\n",
      "[11:29:59] SMILES Parse Error: duplicated ring closure 0 bonds atom 0 to itself for input: 'C00086'\n",
      "[11:30:00] SMILES Parse Error: duplicated ring closure 0 bonds atom 0 to itself for input: 'C00134'\n",
      "[11:30:00] SMILES Parse Error: duplicated ring closure 0 bonds atom 0 to itself for input: 'C00001'\n",
      "[11:30:00] SMILES Parse Error: duplicated ring closure 0 bonds atom 0 to itself for input: 'C00458'\n",
      "[11:30:00] SMILES Parse Error: duplicated ring closure 0 bonds atom 0 to itself for input: 'C00014'\n",
      "[11:30:00] SMILES Parse Error: duplicated ring closure 0 bonds atom 0 to itself for input: 'C00460'\n",
      "[11:30:00] SMILES Parse Error: duplicated ring closure 0 bonds atom 0 to itself for input: 'C00001'\n",
      "[11:30:01] SMILES Parse Error: duplicated ring closure 0 bonds atom 0 to itself for input: 'C00063'\n",
      "[11:30:01] SMILES Parse Error: duplicated ring closure 0 bonds atom 0 to itself for input: 'C00014'\n",
      "[11:30:01] SMILES Parse Error: duplicated ring closure 0 bonds atom 0 to itself for input: 'C00075'\n",
      "[11:30:01] SMILES Parse Error: duplicated ring closure 0 bonds atom 0 to itself for input: 'C00001'\n",
      "[11:30:01] SMILES Parse Error: duplicated ring closure 0 bonds atom 0 to itself for input: 'C06059'\n"
     ]
    },
    {
     "name": "stdout",
     "output_type": "stream",
     "text": [
      "Failed to retrieve data. Status code: 404\n"
     ]
    },
    {
     "name": "stderr",
     "output_type": "stream",
     "text": [
      "[11:30:02] SMILES Parse Error: duplicated ring closure 0 bonds atom 0 to itself for input: 'C00014'\n",
      "[11:30:02] SMILES Parse Error: duplicated ring closure 1 bonds atom 0 to itself for input: 'C11824'\n",
      "[11:30:02] SMILES Parse Error: duplicated ring closure 0 bonds atom 0 to itself for input: 'C00075'\n",
      "[11:30:03] SMILES Parse Error: duplicated ring closure 0 bonds atom 0 to itself for input: 'C00103'\n",
      "[11:30:03] SMILES Parse Error: duplicated ring closure 0 bonds atom 0 to itself for input: 'C00013'\n",
      "[11:30:03] SMILES Parse Error: duplicated ring closure 0 bonds atom 0 to itself for input: 'C00029'\n",
      "[11:30:04] SMILES Parse Error: duplicated ring closure 0 bonds atom 0 to itself for input: 'C00001'\n",
      "[11:30:04] SMILES Parse Error: duplicated ring closure 0 bonds atom 0 to itself for input: 'C00343'\n",
      "[11:30:04] SMILES Parse Error: unclosed ring for input: 'C04283'\n"
     ]
    },
    {
     "name": "stdout",
     "output_type": "stream",
     "text": [
      "Failed to retrieve data. Status code: 404\n"
     ]
    },
    {
     "name": "stderr",
     "output_type": "stream",
     "text": [
      "[11:30:04] SMILES Parse Error: duplicated ring closure 0 bonds atom 0 to itself for input: 'C00342'\n",
      "[11:30:04] SMILES Parse Error: duplicated ring closure 0 bonds atom 0 to itself for input: 'C03802'\n"
     ]
    },
    {
     "name": "stdout",
     "output_type": "stream",
     "text": [
      "Failed to retrieve data. Status code: 404\n"
     ]
    },
    {
     "name": "stderr",
     "output_type": "stream",
     "text": [
      "[11:30:05] SMILES Parse Error: duplicated ring closure 0 bonds atom 0 to itself for input: 'C00001'\n",
      "[11:30:05] SMILES Parse Error: duplicated ring closure 0 bonds atom 0 to itself for input: 'C00131'\n",
      "[11:30:05] SMILES Parse Error: duplicated ring closure 0 bonds atom 0 to itself for input: 'C00343'\n",
      "[11:30:05] SMILES Parse Error: duplicated ring closure 0 bonds atom 0 to itself for input: 'C00002'\n",
      "[11:30:06] SMILES Parse Error: duplicated ring closure 0 bonds atom 0 to itself for input: 'C00342'\n",
      "[11:30:06] SMILES Parse Error: duplicated ring closure 0 bonds atom 0 to itself for input: 'C00001'\n",
      "[11:30:06] SMILES Parse Error: duplicated ring closure 0 bonds atom 0 to itself for input: 'C00286'\n",
      "[11:30:06] SMILES Parse Error: duplicated ring closure 0 bonds atom 0 to itself for input: 'C00343'\n",
      "[11:30:06] SMILES Parse Error: duplicated ring closure 0 bonds atom 0 to itself for input: 'C00044'\n",
      "[11:30:06] SMILES Parse Error: duplicated ring closure 0 bonds atom 0 to itself for input: 'C00342'\n",
      "[11:30:06] SMILES Parse Error: duplicated ring closure 0 bonds atom 0 to itself for input: 'C00001'\n",
      "[11:30:06] SMILES Parse Error: duplicated ring closure 0 bonds atom 0 to itself for input: 'C00343'\n",
      "[11:30:06] SMILES Parse Error: duplicated ring closure 0 bonds atom 0 to itself for input: 'C00458'\n",
      "[11:30:06] SMILES Parse Error: duplicated ring closure 0 bonds atom 0 to itself for input: 'C00063'\n",
      "[11:30:06] SMILES Parse Error: duplicated ring closure 0 bonds atom 0 to itself for input: 'C00342'\n",
      "[11:30:06] SMILES Parse Error: duplicated ring closure 0 bonds atom 0 to itself for input: 'C00001'\n",
      "[11:30:06] SMILES Parse Error: duplicated ring closure 0 bonds atom 0 to itself for input: 'C00343'\n",
      "[11:30:06] SMILES Parse Error: duplicated ring closure 0 bonds atom 0 to itself for input: 'C00460'\n",
      "[11:30:06] SMILES Parse Error: duplicated ring closure 0 bonds atom 0 to itself for input: 'C00075'\n",
      "[11:30:06] SMILES Parse Error: duplicated ring closure 0 bonds atom 0 to itself for input: 'C00342'\n",
      "[11:30:06] SMILES Parse Error: duplicated ring closure 0 bonds atom 0 to itself for input: 'C00002'\n",
      "[11:30:06] SMILES Parse Error: duplicated ring closure 0 bonds atom 0 to itself for input: 'C00059'\n",
      "[11:30:06] SMILES Parse Error: duplicated ring closure 0 bonds atom 0 to itself for input: 'C00013'\n",
      "[11:30:06] SMILES Parse Error: duplicated ring closure 0 bonds atom 0 to itself for input: 'C00224'\n",
      "[11:30:07] SMILES Parse Error: duplicated ring closure 0 bonds atom 0 to itself for input: 'C00002'\n",
      "[11:30:07] SMILES Parse Error: unclosed ring for input: 'C05697'\n",
      "[11:30:08] SMILES Parse Error: duplicated ring closure 0 bonds atom 0 to itself for input: 'C00013'\n",
      "[11:30:08] SMILES Parse Error: unclosed ring for input: 'C05686'\n",
      "[11:30:09] SMILES Parse Error: duplicated ring closure 0 bonds atom 0 to itself for input: 'C00001'\n",
      "[11:30:09] SMILES Parse Error: duplicated ring closure 0 bonds atom 0 to itself for input: 'C00054'\n",
      "[11:30:10] SMILES Parse Error: duplicated ring closure 0 bonds atom 0 to itself for input: 'C00009'\n",
      "[11:30:10] SMILES Parse Error: duplicated ring closure 0 bonds atom 0 to itself for input: 'C00020'\n",
      "[11:30:10] SMILES Parse Error: duplicated ring closure 0 bonds atom 0 to itself for input: 'C00001'\n",
      "[11:30:10] SMILES Parse Error: duplicated ring closure 0 bonds atom 0 to itself for input: 'C00053'\n",
      "[11:30:11] SMILES Parse Error: duplicated ring closure 0 bonds atom 0 to itself for input: 'C00009'\n",
      "[11:30:11] SMILES Parse Error: duplicated ring closure 0 bonds atom 0 to itself for input: 'C00224'\n",
      "[11:30:12] SMILES Parse Error: duplicated ring closure 0 bonds atom 0 to itself for input: 'C00019'\n",
      "[11:30:12] SMILES Parse Error: unclosed ring for input: 'C01977'\n"
     ]
    },
    {
     "name": "stdout",
     "output_type": "stream",
     "text": [
      "Failed to retrieve data. Status code: 404\n"
     ]
    },
    {
     "name": "stderr",
     "output_type": "stream",
     "text": [
      "[11:30:12] SMILES Parse Error: duplicated ring closure 0 bonds atom 0 to itself for input: 'C00021'\n",
      "[11:30:13] SMILES Parse Error: duplicated ring closure 0 bonds atom 0 to itself for input: 'C04160'\n"
     ]
    },
    {
     "name": "stdout",
     "output_type": "stream",
     "text": [
      "Failed to retrieve data. Status code: 404\n"
     ]
    },
    {
     "name": "stderr",
     "output_type": "stream",
     "text": [
      "[11:30:14] SMILES Parse Error: duplicated ring closure 0 bonds atom 0 to itself for input: 'C00063'\n",
      "[11:30:14] SMILES Parse Error: unclosed ring for input: 'C01187'\n",
      "[11:30:15] SMILES Parse Error: duplicated ring closure 0 bonds atom 0 to itself for input: 'C00013'\n",
      "[11:30:15] SMILES Parse Error: unclosed ring for input: 'C04121'\n",
      "[11:30:16] SMILES Parse Error: duplicated ring closure 0 bonds atom 0 to itself for input: 'C00002'\n",
      "[11:30:16] SMILES Parse Error: duplicated ring closure 0 bonds atom 0 to itself for input: 'C00041'\n",
      "[11:30:16] SMILES Parse Error: duplicated ring closure 0 bonds atom 0 to itself for input: 'C01050'\n",
      "[11:30:17] SMILES Parse Error: duplicated ring closure 0 bonds atom 0 to itself for input: 'C00008'\n",
      "[11:30:17] SMILES Parse Error: duplicated ring closure 0 bonds atom 0 to itself for input: 'C00009'\n",
      "[11:30:17] SMILES Parse Error: unclosed ring for input: 'C01212'\n",
      "[11:30:17] SMILES Parse Error: duplicated ring closure 0 bonds atom 0 to itself for input: 'C00001'\n",
      "[11:30:17] SMILES Parse Error: duplicated ring closure 0 bonds atom 0 to itself for input: 'C00103'\n",
      "[11:30:17] SMILES Parse Error: duplicated ring closure 0 bonds atom 0 to itself for input: 'C00009'\n",
      "[11:30:17] SMILES Parse Error: duplicated ring closure 0 bonds atom 0 to itself for input: 'C00031'\n",
      "[11:30:17] SMILES Parse Error: duplicated ring closure 0 bonds atom 0 to itself for input: 'C00001'\n",
      "[11:30:17] SMILES Parse Error: duplicated ring closure 0 bonds atom 0 to itself for input: 'C00103'\n",
      "[11:30:18] SMILES Parse Error: duplicated ring closure 0 bonds atom 0 to itself for input: 'C00009'\n",
      "[11:30:18] SMILES Parse Error: duplicated ring closure 0 bonds atom 0 to itself for input: 'C00267'\n",
      "[11:30:18] SMILES Parse Error: duplicated ring closure 0 bonds atom 0 to itself for input: 'C00001'\n",
      "[11:30:18] SMILES Parse Error: duplicated ring closure 0 bonds atom 0 to itself for input: 'C03880'\n"
     ]
    },
    {
     "name": "stdout",
     "output_type": "stream",
     "text": [
      "Failed to retrieve data. Status code: 404\n"
     ]
    },
    {
     "name": "stderr",
     "output_type": "stream",
     "text": [
      "[11:30:18] SMILES Parse Error: duplicated ring closure 0 bonds atom 0 to itself for input: 'C00066'\n",
      "[11:30:18] SMILES Parse Error: unclosed ring for input: 'C03523'\n"
     ]
    },
    {
     "name": "stdout",
     "output_type": "stream",
     "text": [
      "Failed to retrieve data. Status code: 404\n"
     ]
    },
    {
     "name": "stderr",
     "output_type": "stream",
     "text": [
      "[11:30:19] SMILES Parse Error: unclosed ring for input: 'C01269'\n",
      "[11:30:20] SMILES Parse Error: duplicated ring closure 0 bonds atom 0 to itself for input: 'C00009'\n",
      "[11:30:20] SMILES Parse Error: duplicated ring closure 0 bonds atom 0 to itself for input: 'C00251'\n",
      "[11:30:21] SMILES Parse Error: duplicated ring closure 0 bonds atom 0 to itself for input: 'C00026'\n",
      "[11:30:21] SMILES Parse Error: duplicated ring closure 0 bonds atom 0 to itself for input: 'C01100'\n",
      "[11:30:21] SMILES Parse Error: duplicated ring closure 0 bonds atom 0 to itself for input: 'C00025'\n",
      "[11:30:21] SMILES Parse Error: unclosed ring for input: 'C01267'\n",
      "[11:30:22] SMILES Parse Error: duplicated ring closure 0 bonds atom 0 to itself for input: 'C00026'\n",
      "[11:30:22] SMILES Parse Error: duplicated ring closure 0 bonds atom 0 to itself for input: 'C00079'\n",
      "[11:30:22] SMILES Parse Error: duplicated ring closure 0 bonds atom 0 to itself for input: 'C00025'\n",
      "[11:30:22] SMILES Parse Error: duplicated ring closure 0 bonds atom 0 to itself for input: 'C00166'\n",
      "[11:30:23] SMILES Parse Error: duplicated ring closure 0 bonds atom 0 to itself for input: 'C00026'\n",
      "[11:30:23] SMILES Parse Error: duplicated ring closure 0 bonds atom 0 to itself for input: 'C00082'\n",
      "[11:30:23] SMILES Parse Error: duplicated ring closure 0 bonds atom 0 to itself for input: 'C00025'\n",
      "[11:30:23] SMILES Parse Error: unclosed ring for input: 'C01179'\n",
      "[11:30:23] SMILES Parse Error: duplicated ring closure 0 bonds atom 0 to itself for input: 'C00001'\n",
      "[11:30:23] SMILES Parse Error: duplicated ring closure 0 bonds atom 0 to itself for input: 'C00337'\n",
      "[11:30:24] SMILES Parse Error: duplicated ring closure 0 bonds atom 0 to itself for input: 'C00438'\n",
      "[11:30:24] SMILES Parse Error: duplicated ring closure 0 bonds atom 0 to itself for input: 'C00002'\n",
      "[11:30:24] SMILES Parse Error: duplicated ring closure 0 bonds atom 0 to itself for input: 'C00250'\n",
      "[11:30:25] SMILES Parse Error: duplicated ring closure 0 bonds atom 0 to itself for input: 'C00008'\n",
      "[11:30:25] SMILES Parse Error: duplicated ring closure 0 bonds atom 0 to itself for input: 'C00018'\n",
      "[11:30:26] SMILES Parse Error: duplicated ring closure 0 bonds atom 0 to itself for input: 'C00002'\n",
      "[11:30:26] SMILES Parse Error: duplicated ring closure 0 bonds atom 0 to itself for input: 'C00314'\n",
      "[11:30:27] SMILES Parse Error: duplicated ring closure 0 bonds atom 0 to itself for input: 'C00008'\n",
      "[11:30:27] SMILES Parse Error: duplicated ring closure 0 bonds atom 0 to itself for input: 'C00627'\n",
      "[11:30:27] SMILES Parse Error: duplicated ring closure 0 bonds atom 0 to itself for input: 'C00002'\n",
      "[11:30:27] SMILES Parse Error: duplicated ring closure 0 bonds atom 0 to itself for input: 'C00534'\n",
      "[11:30:28] SMILES Parse Error: duplicated ring closure 0 bonds atom 0 to itself for input: 'C00008'\n",
      "[11:30:28] SMILES Parse Error: duplicated ring closure 0 bonds atom 0 to itself for input: 'C00647'\n",
      "[11:30:29] SMILES Parse Error: duplicated ring closure 0 bonds atom 0 to itself for input: 'C00001'\n",
      "[11:30:29] SMILES Parse Error: unclosed ring for input: 'C04478'\n",
      "[11:30:29] SMILES Parse Error: duplicated ring closure 0 bonds atom 0 to itself for input: 'C00009'\n",
      "[11:30:29] SMILES Parse Error: unclosed ring for input: 'C01187'\n",
      "[11:30:29] SMILES Parse Error: duplicated ring closure 0 bonds atom 0 to itself for input: 'C00111'\n",
      "[11:30:29] SMILES Parse Error: duplicated ring closure 0 bonds atom 0 to itself for input: 'C00009'\n",
      "[11:30:29] SMILES Parse Error: duplicated ring closure 0 bonds atom 0 to itself for input: 'C00546'\n",
      "[11:30:30] SMILES Parse Error: duplicated ring closure 0 bonds atom 0 to itself for input: 'C00001'\n",
      "[11:30:30] SMILES Parse Error: duplicated ring closure 0 bonds atom 0 to itself for input: 'C02520'\n"
     ]
    },
    {
     "name": "stdout",
     "output_type": "stream",
     "text": [
      "Failed to retrieve data. Status code: 404\n"
     ]
    },
    {
     "name": "stderr",
     "output_type": "stream",
     "text": [
      "[11:30:31] SMILES Parse Error: duplicated ring closure 0 bonds atom 0 to itself for input: 'C00009'\n",
      "[11:30:31] SMILES Parse Error: duplicated ring closure 0 bonds atom 0 to itself for input: 'C00911'\n"
     ]
    },
    {
     "name": "stdout",
     "output_type": "stream",
     "text": [
      "Failed to retrieve data. Status code: 404\n"
     ]
    },
    {
     "name": "stderr",
     "output_type": "stream",
     "text": [
      "[11:30:33] SMILES Parse Error: duplicated ring closure 0 bonds atom 0 to itself for input: 'C00001'\n",
      "[11:30:33] SMILES Parse Error: duplicated ring closure 0 bonds atom 0 to itself for input: 'C00020'\n",
      "[11:30:33] SMILES Parse Error: duplicated ring closure 0 bonds atom 0 to itself for input: 'C00009'\n",
      "[11:30:33] SMILES Parse Error: duplicated ring closure 0 bonds atom 0 to itself for input: 'C00212'\n",
      "[11:30:33] SMILES Parse Error: duplicated ring closure 0 bonds atom 0 to itself for input: 'C00001'\n",
      "[11:30:33] SMILES Parse Error: duplicated ring closure 0 bonds atom 0 to itself for input: 'C00055'\n",
      "[11:30:34] SMILES Parse Error: duplicated ring closure 0 bonds atom 0 to itself for input: 'C00009'\n",
      "[11:30:34] SMILES Parse Error: duplicated ring closure 0 bonds atom 0 to itself for input: 'C00475'\n",
      "[11:30:35] SMILES Parse Error: duplicated ring closure 0 bonds atom 0 to itself for input: 'C00001'\n",
      "[11:30:35] SMILES Parse Error: duplicated ring closure 0 bonds atom 0 to itself for input: 'C00105'\n",
      "[11:30:35] SMILES Parse Error: duplicated ring closure 0 bonds atom 0 to itself for input: 'C00009'\n",
      "[11:30:35] SMILES Parse Error: duplicated ring closure 0 bonds atom 0 to itself for input: 'C00299'\n",
      "[11:30:35] SMILES Parse Error: duplicated ring closure 0 bonds atom 0 to itself for input: 'C00001'\n",
      "[11:30:35] SMILES Parse Error: duplicated ring closure 0 bonds atom 0 to itself for input: 'C00130'\n",
      "[11:30:35] SMILES Parse Error: duplicated ring closure 0 bonds atom 0 to itself for input: 'C00009'\n",
      "[11:30:35] SMILES Parse Error: duplicated ring closure 0 bonds atom 0 to itself for input: 'C00294'\n",
      "[11:30:35] SMILES Parse Error: duplicated ring closure 0 bonds atom 0 to itself for input: 'C00001'\n",
      "[11:30:35] SMILES Parse Error: duplicated ring closure 0 bonds atom 0 to itself for input: 'C00144'\n",
      "[11:30:35] SMILES Parse Error: duplicated ring closure 0 bonds atom 0 to itself for input: 'C00009'\n",
      "[11:30:35] SMILES Parse Error: duplicated ring closure 0 bonds atom 0 to itself for input: 'C00387'\n",
      "[11:30:35] SMILES Parse Error: duplicated ring closure 0 bonds atom 0 to itself for input: 'C00001'\n",
      "[11:30:35] SMILES Parse Error: duplicated ring closure 0 bonds atom 0 to itself for input: 'C00455'\n",
      "[11:30:36] SMILES Parse Error: duplicated ring closure 0 bonds atom 0 to itself for input: 'C00009'\n",
      "[11:30:36] SMILES Parse Error: duplicated ring closure 0 bonds atom 0 to itself for input: 'C03150'\n",
      "[11:30:36] SMILES Parse Error: duplicated ring closure 0 bonds atom 0 to itself for input: 'C00001'\n",
      "[11:30:36] SMILES Parse Error: duplicated ring closure 0 bonds atom 0 to itself for input: 'C00655'\n",
      "[11:30:36] SMILES Parse Error: duplicated ring closure 0 bonds atom 0 to itself for input: 'C00009'\n",
      "[11:30:36] SMILES Parse Error: unclosed ring for input: 'C01762'\n",
      "[11:30:36] SMILES Parse Error: duplicated ring closure 0 bonds atom 0 to itself for input: 'C00001'\n",
      "[11:30:36] SMILES Parse Error: unclosed ring for input: 'C01185'\n",
      "[11:30:37] SMILES Parse Error: duplicated ring closure 0 bonds atom 0 to itself for input: 'C00009'\n",
      "[11:30:37] SMILES Parse Error: unclosed ring for input: 'C05841'\n",
      "[11:30:37] SMILES Parse Error: duplicated ring closure 0 bonds atom 0 to itself for input: 'C00001'\n",
      "[11:30:37] SMILES Parse Error: duplicated ring closure 0 bonds atom 0 to itself for input: 'C00364'\n",
      "[11:30:37] SMILES Parse Error: duplicated ring closure 0 bonds atom 0 to itself for input: 'C00009'\n",
      "[11:30:37] SMILES Parse Error: duplicated ring closure 0 bonds atom 0 to itself for input: 'C00214'\n",
      "[11:30:39] SMILES Parse Error: duplicated ring closure 0 bonds atom 0 to itself for input: 'C00001'\n",
      "[11:30:39] SMILES Parse Error: duplicated ring closure 0 bonds atom 0 to itself for input: 'C00239'\n",
      "[11:30:40] SMILES Parse Error: duplicated ring closure 0 bonds atom 0 to itself for input: 'C00009'\n",
      "[11:30:40] SMILES Parse Error: duplicated ring closure 0 bonds atom 0 to itself for input: 'C00881'\n",
      "[11:30:41] SMILES Parse Error: duplicated ring closure 0 bonds atom 0 to itself for input: 'C00001'\n",
      "[11:30:41] SMILES Parse Error: duplicated ring closure 0 bonds atom 0 to itself for input: 'C00362'\n",
      "[11:30:42] SMILES Parse Error: duplicated ring closure 0 bonds atom 0 to itself for input: 'C00009'\n",
      "[11:30:42] SMILES Parse Error: duplicated ring closure 0 bonds atom 0 to itself for input: 'C00330'\n",
      "[11:30:42] SMILES Parse Error: duplicated ring closure 0 bonds atom 0 to itself for input: 'C00001'\n",
      "[11:30:42] SMILES Parse Error: duplicated ring closure 0 bonds atom 0 to itself for input: 'C00360'\n",
      "[11:30:42] SMILES Parse Error: duplicated ring closure 0 bonds atom 0 to itself for input: 'C00009'\n",
      "[11:30:42] SMILES Parse Error: duplicated ring closure 0 bonds atom 0 to itself for input: 'C00559'\n",
      "[11:30:43] SMILES Parse Error: duplicated ring closure 0 bonds atom 0 to itself for input: 'C00001'\n",
      "[11:30:43] SMILES Parse Error: duplicated ring closure 0 bonds atom 0 to itself for input: 'C00365'\n",
      "[11:30:43] SMILES Parse Error: duplicated ring closure 0 bonds atom 0 to itself for input: 'C00009'\n",
      "[11:30:43] SMILES Parse Error: duplicated ring closure 0 bonds atom 0 to itself for input: 'C00526'\n",
      "[11:30:43] SMILES Parse Error: duplicated ring closure 0 bonds atom 0 to itself for input: 'C00002'\n",
      "[11:30:43] SMILES Parse Error: duplicated ring closure 0 bonds atom 0 to itself for input: 'C00257'\n",
      "[11:30:44] SMILES Parse Error: duplicated ring closure 0 bonds atom 0 to itself for input: 'C00008'\n",
      "[11:30:44] SMILES Parse Error: duplicated ring closure 0 bonds atom 0 to itself for input: 'C00345'\n",
      "[11:30:44] SMILES Parse Error: duplicated ring closure 0 bonds atom 0 to itself for input: 'C00074'\n",
      "[11:30:44] SMILES Parse Error: unclosed ring for input: 'C03175'\n",
      "[11:30:44] SMILES Parse Error: duplicated ring closure 0 bonds atom 0 to itself for input: 'C00009'\n",
      "[11:30:44] SMILES Parse Error: unclosed ring for input: 'C01269'\n",
      "[11:30:44] SMILES Parse Error: duplicated ring closure 0 bonds atom 0 to itself for input: 'C00007'\n",
      "[11:30:44] SMILES Parse Error: duplicated ring closure 0 bonds atom 0 to itself for input: 'C00080'\n",
      "[11:30:44] WARNING: not removing hydrogen atom without neighbors\n",
      "[11:30:44] SMILES Parse Error: duplicated ring closure 1 bonds atom 0 to itself for input: 'C14818'\n"
     ]
    },
    {
     "name": "stdout",
     "output_type": "stream",
     "text": [
      "Failed to retrieve data. Status code: 404\n"
     ]
    },
    {
     "name": "stderr",
     "output_type": "stream",
     "text": [
      "[11:30:45] SMILES Parse Error: duplicated ring closure 0 bonds atom 0 to itself for input: 'C00001'\n",
      "[11:30:45] SMILES Parse Error: duplicated ring closure 1 bonds atom 0 to itself for input: 'C14819'\n"
     ]
    },
    {
     "name": "stdout",
     "output_type": "stream",
     "text": [
      "Failed to retrieve data. Status code: 404\n"
     ]
    },
    {
     "name": "stderr",
     "output_type": "stream",
     "text": [
      "[11:30:46] SMILES Parse Error: duplicated ring closure 0 bonds atom 0 to itself for input: 'C00053'\n",
      "[11:30:46] SMILES Parse Error: duplicated ring closure 0 bonds atom 0 to itself for input: 'C00342'\n",
      "[11:30:46] SMILES Parse Error: duplicated ring closure 0 bonds atom 0 to itself for input: 'C00054'\n",
      "[11:30:46] SMILES Parse Error: duplicated ring closure 0 bonds atom 0 to itself for input: 'C00094'\n",
      "[11:30:46] SMILES Parse Error: duplicated ring closure 0 bonds atom 0 to itself for input: 'C00343'\n",
      "[11:30:46] SMILES Parse Error: duplicated ring closure 0 bonds atom 0 to itself for input: 'C00001'\n",
      "[11:30:46] SMILES Parse Error: duplicated ring closure 0 bonds atom 0 to itself for input: 'C00141'\n",
      "[11:30:46] SMILES Parse Error: duplicated ring closure 0 bonds atom 0 to itself for input: 'C00143'\n",
      "[11:30:46] SMILES Parse Error: duplicated ring closure 0 bonds atom 0 to itself for input: 'C00101'\n",
      "[11:30:46] SMILES Parse Error: duplicated ring closure 0 bonds atom 0 to itself for input: 'C00966'\n",
      "[11:30:47] SMILES Parse Error: duplicated ring closure 0 bonds atom 0 to itself for input: 'C00966'\n",
      "[11:30:47] SMILES Parse Error: duplicated ring closure 0 bonds atom 0 to itself for input: 'C00067'\n",
      "[11:30:47] SMILES Parse Error: duplicated ring closure 0 bonds atom 0 to itself for input: 'C00141'\n",
      "[11:30:47] SMILES Parse Error: duplicated ring closure 0 bonds atom 0 to itself for input: 'C00002'\n",
      "[11:30:47] SMILES Parse Error: duplicated ring closure 0 bonds atom 0 to itself for input: 'C00025'\n",
      "[11:30:47] SMILES Parse Error: duplicated ring closure 0 bonds atom 0 to itself for input: 'C00008'\n",
      "[11:30:47] SMILES Parse Error: unclosed ring for input: 'C03287'\n",
      "[11:30:47] SMILES Parse Error: duplicated ring closure 0 bonds atom 0 to itself for input: 'C00011'\n",
      "[11:30:47] SMILES Parse Error: duplicated ring closure 0 bonds atom 0 to itself for input: 'C00013'\n",
      "[11:30:47] SMILES Parse Error: unclosed ring for input: 'C01185'\n",
      "[11:30:47] SMILES Parse Error: duplicated ring closure 0 bonds atom 0 to itself for input: 'C00119'\n",
      "[11:30:47] SMILES Parse Error: unclosed ring for input: 'C03722'\n",
      "[11:30:48] SMILES Parse Error: duplicated ring closure 0 bonds atom 0 to itself for input: 'C00019'\n",
      "[11:30:48] SMILES Parse Error: duplicated ring closure 0 bonds atom 0 to itself for input: 'C00240'\n"
     ]
    },
    {
     "name": "stdout",
     "output_type": "stream",
     "text": [
      "Failed to retrieve data. Status code: 404\n"
     ]
    },
    {
     "name": "stderr",
     "output_type": "stream",
     "text": [
      "[11:30:49] SMILES Parse Error: duplicated ring closure 0 bonds atom 0 to itself for input: 'C00021'\n",
      "[11:30:49] SMILES Parse Error: unclosed ring for input: 'C04153'\n"
     ]
    },
    {
     "name": "stdout",
     "output_type": "stream",
     "text": [
      "Failed to retrieve data. Status code: 404\n"
     ]
    },
    {
     "name": "stderr",
     "output_type": "stream",
     "text": [
      "[11:30:50] SMILES Parse Error: duplicated ring closure 0 bonds atom 0 to itself for input: 'C00019'\n",
      "[11:30:50] SMILES Parse Error: unclosed ring for input: 'C05813'\n",
      "[11:30:51] SMILES Parse Error: duplicated ring closure 0 bonds atom 0 to itself for input: 'C00021'\n",
      "[11:30:51] SMILES Parse Error: unclosed ring for input: 'C05814'\n",
      "[11:30:52] SMILES Parse Error: duplicated ring closure 0 bonds atom 0 to itself for input: 'C00019'\n",
      "[11:30:52] SMILES Parse Error: unclosed ring for input: 'C05818'\n",
      "[11:30:53] SMILES Parse Error: duplicated ring closure 0 bonds atom 0 to itself for input: 'C00021'\n",
      "[11:30:53] SMILES Parse Error: duplicated ring closure 0 bonds atom 0 to itself for input: 'C00828'\n",
      "[11:30:54] SMILES Parse Error: duplicated ring closure 0 bonds atom 0 to itself for input: 'C00129'\n",
      "[11:30:55] SMILES Parse Error: duplicated ring closure 0 bonds atom 0 to itself for input: 'C00448'\n",
      "[11:30:56] SMILES Parse Error: duplicated ring closure 0 bonds atom 0 to itself for input: 'C00013'\n",
      "[11:30:56] SMILES Parse Error: unclosed ring for input: 'C04146'\n",
      "[11:30:57] SMILES Parse Error: duplicated ring closure 0 bonds atom 0 to itself for input: 'C00019'\n",
      "[11:30:57] SMILES Parse Error: duplicated ring closure 0 bonds atom 0 to itself for input: 'C00080'\n",
      "[11:30:57] WARNING: not removing hydrogen atom without neighbors\n",
      "[11:30:57] SMILES Parse Error: duplicated ring closure 0 bonds atom 0 to itself for input: 'C01909'\n",
      "[11:30:58] SMILES Parse Error: unclosed ring for input: 'C05359'\n"
     ]
    },
    {
     "name": "stdout",
     "output_type": "stream",
     "text": [
      "Failed to retrieve data. Status code: 404\n"
     ]
    },
    {
     "name": "stderr",
     "output_type": "stream",
     "text": [
      "[11:30:59] SMILES Parse Error: unclosed ring for input: 'C17023'\n",
      "[11:30:59] SMILES Parse Error: duplicated ring closure 0 bonds atom 0 to itself for input: 'C00073'\n",
      "[11:30:59] SMILES Parse Error: duplicated ring closure 0 bonds atom 0 to itself for input: 'C00120'\n",
      "[11:31:00] SMILES Parse Error: unclosed ring for input: 'C05198'\n",
      "[11:31:00] SMILES Parse Error: duplicated ring closure 0 bonds atom 0 to itself for input: 'C00006'\n",
      "[11:31:00] SMILES Parse Error: unclosed ring for input: 'C03319'\n",
      "[11:31:01] SMILES Parse Error: duplicated ring closure 0 bonds atom 0 to itself for input: 'C00005'\n",
      "[11:31:01] SMILES Parse Error: duplicated ring closure 0 bonds atom 0 to itself for input: 'C00080'\n",
      "[11:31:01] WARNING: not removing hydrogen atom without neighbors\n",
      "[11:31:01] SMILES Parse Error: duplicated ring closure 0 bonds atom 0 to itself for input: 'C00688'\n",
      "[11:31:01] SMILES Parse Error: duplicated ring closure 0 bonds atom 0 to itself for input: 'C00001'\n",
      "[11:31:01] SMILES Parse Error: duplicated ring closure 0 bonds atom 0 to itself for input: 'C01240'\n"
     ]
    },
    {
     "name": "stdout",
     "output_type": "stream",
     "text": [
      "Failed to retrieve data. Status code: 404\n"
     ]
    },
    {
     "name": "stderr",
     "output_type": "stream",
     "text": [
      "[11:31:02] SMILES Parse Error: unclosed ring for input: 'C03419'\n"
     ]
    },
    {
     "name": "stdout",
     "output_type": "stream",
     "text": [
      "Failed to retrieve data. Status code: 404\n"
     ]
    },
    {
     "name": "stderr",
     "output_type": "stream",
     "text": [
      "[11:31:02] SMILES Parse Error: duplicated ring closure 0 bonds atom 0 to itself for input: 'C00001'\n",
      "[11:31:03] SMILES Parse Error: unclosed ring for input: 'C02353'\n",
      "[11:31:04] SMILES Parse Error: unclosed ring for input: 'C01367'\n",
      "[11:31:04] SMILES Parse Error: duplicated ring closure 0 bonds atom 0 to itself for input: 'C00001'\n",
      "[11:31:05] SMILES Parse Error: unclosed ring for input: 'C02355'\n",
      "[11:31:05] SMILES Parse Error: unclosed ring for input: 'C01368'\n",
      "[11:31:06] SMILES Parse Error: duplicated ring closure 0 bonds atom 0 to itself for input: 'C00001'\n",
      "[11:31:06] SMILES Parse Error: unclosed ring for input: 'C02354'\n",
      "[11:31:07] SMILES Parse Error: unclosed ring for input: 'C05822'\n",
      "[11:31:08] SMILES Parse Error: duplicated ring closure 0 bonds atom 0 to itself for input: 'C00001'\n",
      "[11:31:08] SMILES Parse Error: unclosed ring for input: 'C06194'\n",
      "[11:31:09] SMILES Parse Error: unclosed ring for input: 'C06193'\n",
      "[11:31:10] SMILES Parse Error: duplicated ring closure 0 bonds atom 0 to itself for input: 'C00003'\n",
      "[11:31:10] SMILES Parse Error: duplicated ring closure 0 bonds atom 0 to itself for input: 'C00263'\n",
      "[11:31:11] SMILES Parse Error: duplicated ring closure 0 bonds atom 0 to itself for input: 'C00004'\n",
      "[11:31:11] SMILES Parse Error: duplicated ring closure 0 bonds atom 0 to itself for input: 'C00080'\n",
      "[11:31:11] WARNING: not removing hydrogen atom without neighbors\n",
      "[11:31:11] SMILES Parse Error: duplicated ring closure 0 bonds atom 0 to itself for input: 'C00441'\n",
      "[11:31:12] SMILES Parse Error: duplicated ring closure 0 bonds atom 0 to itself for input: 'C00006'\n",
      "[11:31:12] SMILES Parse Error: duplicated ring closure 0 bonds atom 0 to itself for input: 'C00263'\n",
      "[11:31:12] SMILES Parse Error: duplicated ring closure 0 bonds atom 0 to itself for input: 'C00005'\n",
      "[11:31:12] SMILES Parse Error: duplicated ring closure 0 bonds atom 0 to itself for input: 'C00080'\n",
      "[11:31:12] WARNING: not removing hydrogen atom without neighbors\n",
      "[11:31:12] SMILES Parse Error: duplicated ring closure 0 bonds atom 0 to itself for input: 'C00441'\n",
      "[11:31:12] SMILES Parse Error: duplicated ring closure 0 bonds atom 0 to itself for input: 'C00002'\n",
      "[11:31:12] SMILES Parse Error: duplicated ring closure 0 bonds atom 0 to itself for input: 'C04640'\n",
      "[11:31:12] SMILES Parse Error: duplicated ring closure 0 bonds atom 0 to itself for input: 'C00008'\n",
      "[11:31:12] SMILES Parse Error: duplicated ring closure 0 bonds atom 0 to itself for input: 'C00009'\n",
      "[11:31:12] SMILES Parse Error: unclosed ring for input: 'C03373'\n",
      "[11:31:13] SMILES Parse Error: duplicated ring closure 0 bonds atom 0 to itself for input: 'C00001'\n",
      "[11:31:13] SMILES Parse Error: duplicated ring closure 0 bonds atom 0 to itself for input: 'C00020'\n",
      "[11:31:13] SMILES Parse Error: duplicated ring closure 0 bonds atom 0 to itself for input: 'C00117'\n",
      "[11:31:13] SMILES Parse Error: duplicated ring closure 0 bonds atom 0 to itself for input: 'C00147'\n"
     ]
    }
   ],
   "source": [
    "DLKcat = Estimator('DLKcat','kcat')\n",
    "kcats = DLKcat.estimate(all_species, all_enzymes, all_organisms, True)"
   ]
  },
  {
   "cell_type": "code",
   "execution_count": 21,
   "metadata": {},
   "outputs": [
    {
     "name": "stderr",
     "output_type": "stream",
     "text": [
      "[09:49:53] SMILES Parse Error: duplicated ring closure 0 bonds atom 0 to itself for input: 'C00009'\n",
      "[09:49:57] SMILES Parse Error: duplicated ring closure 0 bonds atom 0 to itself for input: 'C00085'\n",
      "[09:49:57] SMILES Parse Error: duplicated ring closure 0 bonds atom 0 to itself for input: 'C00001'\n",
      "[09:49:57] SMILES Parse Error: duplicated ring closure 0 bonds atom 0 to itself for input: 'C00227'\n",
      "[09:49:57] SMILES Parse Error: duplicated ring closure 0 bonds atom 0 to itself for input: 'C00279'\n",
      "[09:49:57] SMILES Parse Error: duplicated ring closure 0 bonds atom 0 to itself for input: 'C00009'\n",
      "[09:49:57] SMILES Parse Error: duplicated ring closure 0 bonds atom 0 to itself for input: 'C00231'\n",
      "[09:49:57] SMILES Parse Error: duplicated ring closure 0 bonds atom 0 to itself for input: 'C00001'\n",
      "[09:49:57] SMILES Parse Error: duplicated ring closure 0 bonds atom 0 to itself for input: 'C00118'\n",
      "[09:49:57] SMILES Parse Error: duplicated ring closure 0 bonds atom 0 to itself for input: 'C00227'\n",
      "[09:49:57] SMILES Parse Error: unclosed ring for input: 'C04348'\n",
      "[09:49:57] SMILES Parse Error: duplicated ring closure 0 bonds atom 0 to itself for input: 'C00024'\n",
      "[09:49:57] SMILES Parse Error: duplicated ring closure 0 bonds atom 0 to itself for input: 'C00048'\n",
      "[09:49:57] SMILES Parse Error: duplicated ring closure 0 bonds atom 0 to itself for input: 'C01011'\n",
      "[09:49:57] SMILES Parse Error: duplicated ring closure 0 bonds atom 0 to itself for input: 'C00022'\n",
      "[09:49:57] SMILES Parse Error: duplicated ring closure 0 bonds atom 0 to itself for input: 'C00024'\n",
      "[09:49:57] SMILES Parse Error: duplicated ring closure 0 bonds atom 0 to itself for input: 'C00048'\n",
      "[09:49:57] SMILES Parse Error: duplicated ring closure 0 bonds atom 0 to itself for input: 'C00100'\n",
      "[09:49:57] SMILES Parse Error: duplicated ring closure 0 bonds atom 0 to itself for input: 'C06027'\n",
      "[09:49:57] SMILES Parse Error: duplicated ring closure 0 bonds atom 0 to itself for input: 'C00185'\n",
      "[09:49:57] SMILES Parse Error: duplicated ring closure 0 bonds atom 0 to itself for input: 'C00010'\n",
      "[09:49:57] SMILES Parse Error: duplicated ring closure 0 bonds atom 0 to itself for input: 'C00024'\n",
      "[09:49:57] SMILES Parse Error: duplicated ring closure 0 bonds atom 0 to itself for input: 'C00001'\n",
      "[09:49:57] SMILES Parse Error: duplicated ring closure 0 bonds atom 0 to itself for input: 'C00036'\n",
      "[09:50:15] ERROR: \n",
      "\n",
      "[09:50:16] ERROR: \n",
      "\n",
      "[09:50:16] ERROR: \n",
      "\n",
      "[09:50:16] ERROR: \n",
      "\n",
      "[09:50:16] ERROR: \n",
      "\n",
      "[09:50:16] ERROR: \n",
      "\n",
      "[09:50:16] ERROR: \n",
      "\n",
      "[09:50:16] ERROR: \n",
      "\n",
      "[09:50:16] ERROR: \n",
      "\n",
      "[09:50:16] ERROR: \n",
      "\n",
      "[09:50:16] ERROR: \n",
      "\n",
      "[09:50:16] ERROR: \n",
      "\n",
      "[09:50:16] ERROR: \n",
      "\n",
      "[09:50:16] ERROR: \n",
      "\n",
      "[09:50:16] ERROR: \n",
      "\n",
      "[09:50:16] ERROR: \n",
      "\n",
      "[09:50:16] ERROR: \n",
      "\n",
      "[09:50:16] ERROR: \n",
      "\n",
      "[09:50:16] ERROR: \n",
      "\n",
      "[09:50:16] ERROR: \n",
      "\n",
      "[09:50:16] ERROR: \n",
      "\n",
      "[09:50:16] ERROR: \n",
      "\n",
      "[09:50:16] ERROR: \n",
      "\n",
      "[09:50:16] ERROR: \n",
      "\n"
     ]
    },
    {
     "name": "stdout",
     "output_type": "stream",
     "text": [
      "24\n",
      "24\n",
      "24\n",
      "24\n"
     ]
    }
   ],
   "source": [
    "KMest = Estimator('KM_prediction','Km')\n",
    "kms = KMest.estimate(all_species, all_enzymes, all_organisms, True)"
   ]
  },
  {
   "cell_type": "code",
   "execution_count": 85,
   "metadata": {},
   "outputs": [
    {
     "data": {
      "text/plain": [
       "dict_keys(['substrates', 'SMILES', 'enzyme', 'seqs', 'kcats'])"
      ]
     },
     "execution_count": 85,
     "metadata": {},
     "output_type": "execute_result"
    }
   ],
   "source": [
    "kcats.keys()"
   ]
  },
  {
   "cell_type": "code",
   "execution_count": 26,
   "metadata": {},
   "outputs": [],
   "source": [
    "pd.DataFrame(kcats).to_csv('kcats_BK.csv', header=True, index=True)\n"
   ]
  },
  {
   "cell_type": "code",
   "execution_count": null,
   "metadata": {},
   "outputs": [],
   "source": []
  }
 ],
 "metadata": {
  "kernelspec": {
   "display_name": "Python 3",
   "language": "python",
   "name": "python3"
  },
  "language_info": {
   "codemirror_mode": {
    "name": "ipython",
    "version": 3
   },
   "file_extension": ".py",
   "mimetype": "text/x-python",
   "name": "python",
   "nbconvert_exporter": "python",
   "pygments_lexer": "ipython3",
   "version": "3.8.17"
  }
 },
 "nbformat": 4,
 "nbformat_minor": 2
}
