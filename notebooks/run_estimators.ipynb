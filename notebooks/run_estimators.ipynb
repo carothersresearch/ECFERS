{
 "cells": [
  {
   "cell_type": "code",
   "execution_count": 1,
   "metadata": {},
   "outputs": [],
   "source": [
    "import os\n",
    "os.chdir('..')\n",
    "from src.kinetic_estimator.estimators import Estimator"
   ]
  },
  {
   "cell_type": "code",
   "execution_count": 11,
   "metadata": {},
   "outputs": [],
   "source": [
    "import pandas as pd\n",
    "rxns = pd.read_csv('tinykahuna.csv')\n",
    "species = ((rxns['Substrates']+'; '+rxns['Products'] + '; ' + rxns['Inhibitors'].apply(lambda x: '' if pd.isnull(x) else x)).apply(lambda x: x.replace(\" \", \"\").split(';'))).apply(lambda x: [y for y in x if y is not ''])\n",
    "all_species = [item for sublist in species for item in sublist]\n",
    "ECs = ((rxns['EC']+';')*species.apply(lambda x: len(x))).apply(lambda x: x.replace(\" \", \"\").split(';')).apply(lambda x: [y for y in x if y is not ''])\n",
    "all_enzymes = [item for sublist in ECs for item in sublist]\n",
    "# all_organisms = ['Escherichia coli'] * len(all_species)\n",
    "all_organisms = sum([[s for sublist in ec] for ec,s in zip(ECs, rxns['Species'])],[])"
   ]
  },
  {
   "cell_type": "code",
   "execution_count": 18,
   "metadata": {},
   "outputs": [],
   "source": [
    "import numpy as np\n",
    "_,index = np.unique([e+s for e, s in zip(all_enzymes, all_species)],return_index=True)"
   ]
  },
  {
   "cell_type": "code",
   "execution_count": 19,
   "metadata": {},
   "outputs": [
    {
     "data": {
      "text/plain": [
       "['2.3.3.16',\n",
       " '2.3.3.16',\n",
       " '2.3.3.16',\n",
       " '2.3.3.16',\n",
       " '2.3.3.16',\n",
       " '4.1.2.22',\n",
       " '4.1.2.22',\n",
       " '4.1.2.22',\n",
       " '4.1.2.22',\n",
       " '4.1.2.22',\n",
       " '4.1.2.22',\n",
       " '4.1.2.22',\n",
       " '4.1.3.24',\n",
       " '4.1.3.24',\n",
       " '4.1.3.24',\n",
       " '4.1.3.24',\n",
       " '4.1.3.24',\n",
       " '4.1.3.24',\n",
       " '4.1.3.24']"
      ]
     },
     "execution_count": 19,
     "metadata": {},
     "output_type": "execute_result"
    }
   ],
   "source": [
    "list(np.array(all_enzymes)[index])"
   ]
  },
  {
   "cell_type": "code",
   "execution_count": 3,
   "metadata": {},
   "outputs": [],
   "source": [
    "all_species = ['C00085']\n",
    "all_enzymes = ['5.3.1.9']\n",
    "all_organisms = ['Escherichia coli'] "
   ]
  },
  {
   "cell_type": "code",
   "execution_count": 12,
   "metadata": {},
   "outputs": [
    {
     "name": "stderr",
     "output_type": "stream",
     "text": [
      "[15:34:21] SMILES Parse Error: duplicated ring closure 0 bonds atom 0 to itself for input: 'C00058'\n",
      "[15:34:24] SMILES Parse Error: duplicated ring closure 0 bonds atom 0 to itself for input: 'C00003'\n",
      "[15:34:25] SMILES Parse Error: duplicated ring closure 0 bonds atom 0 to itself for input: 'C00080'\n",
      "[15:34:26] WARNING: not removing hydrogen atom without neighbors\n",
      "[15:34:26] SMILES Parse Error: duplicated ring closure 0 bonds atom 0 to itself for input: 'C00011'\n",
      "[15:34:27] SMILES Parse Error: duplicated ring closure 0 bonds atom 0 to itself for input: 'C00004'\n",
      "[15:34:28] SMILES Parse Error: duplicated ring closure 0 bonds atom 0 to itself for input: 'C00002'\n",
      "[15:34:31] SMILES Parse Error: duplicated ring closure 0 bonds atom 0 to itself for input: 'C00022'\n",
      "[15:34:32] SMILES Parse Error: duplicated ring closure 0 bonds atom 0 to itself for input: 'C00288'\n",
      "[15:34:33] SMILES Parse Error: duplicated ring closure 0 bonds atom 0 to itself for input: 'C00008'\n",
      "[15:34:34] SMILES Parse Error: duplicated ring closure 0 bonds atom 0 to itself for input: 'C00009'\n",
      "[15:34:35] SMILES Parse Error: duplicated ring closure 0 bonds atom 0 to itself for input: 'C00036'\n"
     ]
    }
   ],
   "source": [
    "DLKcat = Estimator('DLKcat','kcat')\n",
    "kcats = DLKcat.estimate(all_species, all_enzymes, all_organisms, True)"
   ]
  },
  {
   "cell_type": "code",
   "execution_count": 13,
   "metadata": {},
   "outputs": [
    {
     "name": "stderr",
     "output_type": "stream",
     "text": [
      "[15:43:31] SMILES Parse Error: duplicated ring closure 0 bonds atom 0 to itself for input: 'C00058'\n",
      "[15:43:38] SMILES Parse Error: duplicated ring closure 0 bonds atom 0 to itself for input: 'C00003'\n",
      "[15:43:38] SMILES Parse Error: duplicated ring closure 0 bonds atom 0 to itself for input: 'C00080'\n",
      "[15:43:38] SMILES Parse Error: duplicated ring closure 0 bonds atom 0 to itself for input: 'C00011'\n",
      "[15:43:38] SMILES Parse Error: duplicated ring closure 0 bonds atom 0 to itself for input: 'C00004'\n",
      "[15:43:38] SMILES Parse Error: duplicated ring closure 0 bonds atom 0 to itself for input: 'C00002'\n",
      "[15:43:38] SMILES Parse Error: duplicated ring closure 0 bonds atom 0 to itself for input: 'C00022'\n",
      "[15:43:38] SMILES Parse Error: duplicated ring closure 0 bonds atom 0 to itself for input: 'C00288'\n",
      "[15:43:38] SMILES Parse Error: duplicated ring closure 0 bonds atom 0 to itself for input: 'C00008'\n",
      "[15:43:38] SMILES Parse Error: duplicated ring closure 0 bonds atom 0 to itself for input: 'C00009'\n",
      "[15:43:38] SMILES Parse Error: duplicated ring closure 0 bonds atom 0 to itself for input: 'C00036'\n",
      "[15:44:13] ERROR: \n",
      "\n",
      "[15:44:16] ERROR: \n",
      "\n",
      "[15:44:16] ERROR: \n",
      "\n",
      "[15:44:16] ERROR: \n",
      "\n",
      "[15:44:16] ERROR: \n",
      "\n",
      "[15:44:16] ERROR: \n",
      "\n",
      "[15:44:16] ERROR: \n",
      "\n",
      "[15:44:16] ERROR: \n",
      "\n",
      "[15:44:16] ERROR: \n",
      "\n",
      "[15:44:16] ERROR: \n",
      "\n",
      "[15:44:16] ERROR: \n",
      "\n",
      "[15:44:25] WARNING: not removing hydrogen atom without neighbors\n"
     ]
    },
    {
     "name": "stdout",
     "output_type": "stream",
     "text": [
      "11\n",
      "11\n",
      "11\n",
      "11\n"
     ]
    }
   ],
   "source": [
    "KMest = Estimator('KM_prediction','Km')\n",
    "kms = KMest.estimate(all_species, all_enzymes, all_organisms, True)"
   ]
  },
  {
   "cell_type": "code",
   "execution_count": 85,
   "metadata": {},
   "outputs": [
    {
     "data": {
      "text/plain": [
       "dict_keys(['substrates', 'SMILES', 'enzyme', 'seqs', 'kcats'])"
      ]
     },
     "execution_count": 85,
     "metadata": {},
     "output_type": "execute_result"
    }
   ],
   "source": [
    "kcats.keys()"
   ]
  },
  {
   "cell_type": "code",
   "execution_count": 15,
   "metadata": {},
   "outputs": [],
   "source": [
    "pd.DataFrame(kms).to_csv('kms_tK.csv', header=True, index=True)\n"
   ]
  },
  {
   "cell_type": "code",
   "execution_count": null,
   "metadata": {},
   "outputs": [],
   "source": []
  }
 ],
 "metadata": {
  "kernelspec": {
   "display_name": "Python 3",
   "language": "python",
   "name": "python3"
  },
  "language_info": {
   "codemirror_mode": {
    "name": "ipython",
    "version": 3
   },
   "file_extension": ".py",
   "mimetype": "text/x-python",
   "name": "python",
   "nbconvert_exporter": "python",
   "pygments_lexer": "ipython3",
   "version": "3.8.17"
  }
 },
 "nbformat": 4,
 "nbformat_minor": 2
}
