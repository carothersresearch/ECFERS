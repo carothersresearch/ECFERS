{
 "cells": [
  {
   "cell_type": "code",
   "execution_count": null,
   "metadata": {},
   "outputs": [],
   "source": [
    "from src.kinetic_estimator.estimators import Estimator"
   ]
  },
  {
   "cell_type": "code",
   "execution_count": null,
   "metadata": {},
   "outputs": [],
   "source": [
    "all_species = ['C00085']\n",
    "all_enzymes = ['5.3.1.9']\n",
    "all_organisms = ['Escherichia coli'] "
   ]
  },
  {
   "cell_type": "code",
   "execution_count": null,
   "metadata": {},
   "outputs": [],
   "source": [
    "DLKcat = Estimator('DLKcat','kcat')\n",
    "DLKcat.estimate(all_species, all_enzymes, all_organisms, True)"
   ]
  },
  {
   "cell_type": "code",
   "execution_count": null,
   "metadata": {},
   "outputs": [],
   "source": [
    "KMest = Estimator('KM_prediction','Km')\n",
    "KMest.estimate(all_species, all_enzymes, all_organisms, True)"
   ]
  }
 ],
 "metadata": {
  "kernelspec": {
   "display_name": "myenv",
   "language": "python",
   "name": "myenv"
  }
 },
 "nbformat": 4,
 "nbformat_minor": 2
}
