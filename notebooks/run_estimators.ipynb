{
 "cells": [
  {
   "cell_type": "code",
   "execution_count": 1,
   "metadata": {},
   "outputs": [],
   "source": [
    "import os\n",
    "os.chdir('..')\n",
    "from src.kinetic_estimator.estimators import Estimator"
   ]
  },
  {
   "cell_type": "code",
   "execution_count": 6,
   "metadata": {},
   "outputs": [],
   "source": [
    "import pandas as pd\n",
    "rxns = pd.read_csv('thing.csv')\n",
    "species = ((rxns['Substrates']+'; '+rxns['Products'] + '; ' + rxns['Inhibitors'].apply(lambda x: '' if pd.isnull(x) else x)).apply(lambda x: x.replace(\" \", \"\").split(';'))).apply(lambda x: [y for y in x if y is not ''])\n",
    "all_species = [item for sublist in species for item in sublist]\n",
    "ECs = ((rxns['EC']+';')*species.apply(lambda x: len(x))).apply(lambda x: x.replace(\" \", \"\").split(';')).apply(lambda x: [y for y in x if y is not ''])\n",
    "all_enzymes = [item for sublist in ECs for item in sublist]\n",
    "# all_organisms = ['Escherichia coli'] * len(all_species)\n",
    "all_organisms = sum([[s for sublist in ec] for ec,s in zip(ECs, rxns['Species'])],[])"
   ]
  },
  {
   "cell_type": "code",
   "execution_count": 18,
   "metadata": {},
   "outputs": [],
   "source": [
    "import numpy as np\n",
    "_,index = np.unique([e+s for e, s in zip(all_enzymes, all_species)],return_index=True)"
   ]
  },
  {
   "cell_type": "code",
   "execution_count": 3,
   "metadata": {},
   "outputs": [
    {
     "ename": "NameError",
     "evalue": "name 'np' is not defined",
     "output_type": "error",
     "traceback": [
      "\u001b[1;31m---------------------------------------------------------------------------\u001b[0m",
      "\u001b[1;31mNameError\u001b[0m                                 Traceback (most recent call last)",
      "Cell \u001b[1;32mIn[3], line 1\u001b[0m\n\u001b[1;32m----> 1\u001b[0m \u001b[38;5;28mlist\u001b[39m(\u001b[43mnp\u001b[49m\u001b[38;5;241m.\u001b[39marray(all_enzymes)[index])\n",
      "\u001b[1;31mNameError\u001b[0m: name 'np' is not defined"
     ]
    }
   ],
   "source": [
    "list(np.array(all_enzymes)[index])"
   ]
  },
  {
   "cell_type": "code",
   "execution_count": 3,
   "metadata": {},
   "outputs": [],
   "source": [
    "all_species = ['C00085']\n",
    "all_enzymes = ['5.3.1.9']\n",
    "all_organisms = ['Escherichia coli'] "
   ]
  },
  {
   "cell_type": "code",
   "execution_count": 28,
   "metadata": {},
   "outputs": [
    {
     "name": "stderr",
     "output_type": "stream",
     "text": [
      "[14:51:36] SMILES Parse Error: duplicated ring closure 0 bonds atom 0 to itself for input: 'C00002'\n",
      "[14:51:38] SMILES Parse Error: duplicated ring closure 0 bonds atom 0 to itself for input: 'C00010'\n",
      "[14:51:38] SMILES Parse Error: duplicated ring closure 0 bonds atom 0 to itself for input: 'C00158'\n",
      "[14:51:38] SMILES Parse Error: duplicated ring closure 0 bonds atom 0 to itself for input: 'C00008'\n",
      "[14:51:38] SMILES Parse Error: duplicated ring closure 0 bonds atom 0 to itself for input: 'C00009'\n",
      "[14:51:38] SMILES Parse Error: duplicated ring closure 0 bonds atom 0 to itself for input: 'C00024'\n",
      "[14:51:38] SMILES Parse Error: duplicated ring closure 0 bonds atom 0 to itself for input: 'C00036'\n",
      "[14:51:38] SMILES Parse Error: duplicated ring closure 0 bonds atom 0 to itself for input: 'C00002'\n",
      "[14:51:38] SMILES Parse Error: duplicated ring closure 0 bonds atom 0 to itself for input: 'C00010'\n",
      "[14:51:38] SMILES Parse Error: duplicated ring closure 0 bonds atom 0 to itself for input: 'C00158'\n",
      "[14:51:38] SMILES Parse Error: duplicated ring closure 0 bonds atom 0 to itself for input: 'C00008'\n",
      "[14:51:39] SMILES Parse Error: duplicated ring closure 0 bonds atom 0 to itself for input: 'C00009'\n",
      "[14:51:39] SMILES Parse Error: duplicated ring closure 0 bonds atom 0 to itself for input: 'C00024'\n",
      "[14:51:39] SMILES Parse Error: duplicated ring closure 0 bonds atom 0 to itself for input: 'C00036'\n"
     ]
    }
   ],
   "source": [
    "DLKcat = Estimator('DLKcat','kcat')\n",
    "kcats = DLKcat.estimate(all_species, all_enzymes, all_organisms, True)"
   ]
  },
  {
   "cell_type": "code",
   "execution_count": 30,
   "metadata": {},
   "outputs": [
    {
     "name": "stderr",
     "output_type": "stream",
     "text": [
      "[15:00:25] SMILES Parse Error: duplicated ring closure 0 bonds atom 0 to itself for input: 'C00002'\n",
      "[15:00:32] SMILES Parse Error: duplicated ring closure 0 bonds atom 0 to itself for input: 'C00010'\n",
      "[15:00:32] SMILES Parse Error: duplicated ring closure 0 bonds atom 0 to itself for input: 'C00158'\n",
      "[15:00:32] SMILES Parse Error: duplicated ring closure 0 bonds atom 0 to itself for input: 'C00008'\n",
      "[15:00:32] SMILES Parse Error: duplicated ring closure 0 bonds atom 0 to itself for input: 'C00009'\n",
      "[15:00:32] SMILES Parse Error: duplicated ring closure 0 bonds atom 0 to itself for input: 'C00024'\n",
      "[15:00:32] SMILES Parse Error: duplicated ring closure 0 bonds atom 0 to itself for input: 'C00036'\n",
      "[15:00:32] SMILES Parse Error: duplicated ring closure 0 bonds atom 0 to itself for input: 'C00002'\n",
      "[15:00:32] SMILES Parse Error: duplicated ring closure 0 bonds atom 0 to itself for input: 'C00010'\n",
      "[15:00:32] SMILES Parse Error: duplicated ring closure 0 bonds atom 0 to itself for input: 'C00158'\n",
      "[15:00:32] SMILES Parse Error: duplicated ring closure 0 bonds atom 0 to itself for input: 'C00008'\n",
      "[15:00:32] SMILES Parse Error: duplicated ring closure 0 bonds atom 0 to itself for input: 'C00009'\n",
      "[15:00:32] SMILES Parse Error: duplicated ring closure 0 bonds atom 0 to itself for input: 'C00024'\n",
      "[15:00:32] SMILES Parse Error: duplicated ring closure 0 bonds atom 0 to itself for input: 'C00036'\n",
      "[15:01:11] ERROR: \n",
      "\n",
      "[15:01:14] ERROR: \n",
      "\n",
      "[15:01:15] ERROR: \n",
      "\n",
      "[15:01:15] ERROR: \n",
      "\n",
      "[15:01:15] ERROR: \n",
      "\n",
      "[15:01:15] ERROR: \n",
      "\n",
      "[15:01:15] ERROR: \n",
      "\n",
      "[15:01:15] ERROR: \n",
      "\n",
      "[15:01:15] ERROR: \n",
      "\n",
      "[15:01:15] ERROR: \n",
      "\n",
      "[15:01:15] ERROR: \n",
      "\n",
      "[15:01:15] ERROR: \n",
      "\n",
      "[15:01:15] ERROR: \n",
      "\n",
      "[15:01:15] ERROR: \n",
      "\n"
     ]
    },
    {
     "name": "stdout",
     "output_type": "stream",
     "text": [
      "14\n",
      "14\n",
      "14\n",
      "14\n"
     ]
    }
   ],
   "source": [
    "KMest = Estimator('KM_prediction','Km')\n",
    "kms = KMest.estimate(all_species, all_enzymes, all_organisms, True)"
   ]
  },
  {
   "cell_type": "code",
   "execution_count": 32,
   "metadata": {},
   "outputs": [],
   "source": [
    "pd.DataFrame(kcats).to_csv('kcats_things.csv', header=True, index=True)\n"
   ]
  },
  {
   "cell_type": "code",
   "execution_count": 21,
   "metadata": {},
   "outputs": [],
   "source": [
    "import pickle\n",
    "\n",
    "with open('src/kinetic_estimator/uniprot_cache.pickle', 'rb') as f:\n",
    "    uniprot_data = pickle.load(f)\n"
   ]
  },
  {
   "cell_type": "code",
   "execution_count": 27,
   "metadata": {},
   "outputs": [],
   "source": [
    "import pickle\n",
    "with open('src/kinetic_estimator/uniprot_cache.pickle', 'wb') as f:\n",
    "    pickle.dump(uniprot_data, f)\n"
   ]
  },
  {
   "cell_type": "code",
   "execution_count": 29,
   "metadata": {},
   "outputs": [
    {
     "data": {
      "text/plain": [
       "{'substrates': ['C00002',\n",
       "  'C00010',\n",
       "  'C00158',\n",
       "  'C00008',\n",
       "  'C00009',\n",
       "  'C00024',\n",
       "  'C00036',\n",
       "  'C00002',\n",
       "  'C00010',\n",
       "  'C00158',\n",
       "  'C00008',\n",
       "  'C00009',\n",
       "  'C00024',\n",
       "  'C00036'],\n",
       " 'SMILES': ['C1=NC(=C2C(=N1)N(C=N2)C3C(C(C(O3)COP(=O)(O)OP(=O)(O)OP(=O)(O)O)O)O)N',\n",
       "  'CC(C)(COP(=O)(O)OP(=O)(O)OCC1C(C(C(O1)N2C=NC3=C(N=CN=C32)N)O)OP(=O)(O)O)C(C(=O)NCCC(=O)NCCS)O',\n",
       "  'C(C(=O)O)C(CC(=O)O)(C(=O)O)O',\n",
       "  'C1=NC(=C2C(=N1)N(C=N2)C3C(C(C(O3)COP(=O)(O)OP(=O)(O)O)O)O)N',\n",
       "  'OP(=O)(O)O',\n",
       "  'CC(=O)SCCNC(=O)CCNC(=O)C(C(C)(C)COP(=O)(O)OP(=O)(O)OCC1C(C(C(O1)N2C=NC3=C(N=CN=C32)N)O)OP(=O)(O)O)O',\n",
       "  'C(C(=O)C(=O)O)C(=O)O',\n",
       "  'C1=NC(=C2C(=N1)N(C=N2)C3C(C(C(O3)COP(=O)(O)OP(=O)(O)OP(=O)(O)O)O)O)N',\n",
       "  'CC(C)(COP(=O)(O)OP(=O)(O)OCC1C(C(C(O1)N2C=NC3=C(N=CN=C32)N)O)OP(=O)(O)O)C(C(=O)NCCC(=O)NCCS)O',\n",
       "  'C(C(=O)O)C(CC(=O)O)(C(=O)O)O',\n",
       "  'C1=NC(=C2C(=N1)N(C=N2)C3C(C(C(O3)COP(=O)(O)OP(=O)(O)O)O)O)N',\n",
       "  'OP(=O)(O)O',\n",
       "  'CC(=O)SCCNC(=O)CCNC(=O)C(C(C)(C)COP(=O)(O)OP(=O)(O)OCC1C(C(C(O1)N2C=NC3=C(N=CN=C32)N)O)OP(=O)(O)O)O',\n",
       "  'C(C(=O)C(=O)O)C(=O)O'],\n",
       " 'enzyme': ['2.3.3.8_a',\n",
       "  '2.3.3.8_a',\n",
       "  '2.3.3.8_a',\n",
       "  '2.3.3.8_a',\n",
       "  '2.3.3.8_a',\n",
       "  '2.3.3.8_a',\n",
       "  '2.3.3.8_a',\n",
       "  '2.3.3.8_b',\n",
       "  '2.3.3.8_b',\n",
       "  '2.3.3.8_b',\n",
       "  '2.3.3.8_b',\n",
       "  '2.3.3.8_b',\n",
       "  '2.3.3.8_b',\n",
       "  '2.3.3.8_b'],\n",
       " 'seqs': ['MAKILEGPAMKLFNKWGIPVPNYVVIMDPKRLAQLGEANKWLRESKLVVKAHEAIGGRFKLGLVKIGLNLDEAIQASREMLGAKVGTAEVRQVIVAEMLDHDAEFYVSIIGNRDGAELLISKYGGVDIEDNWDSVRRIQIPLDEHPTIEQLTALAKEAGFEGEIAERVGKICSRLVLCFDNEDAQSIEINPLVIRKSDMRFAALDAVMNVDWDARFRHADWDFKPVSEIGRPFTEAEQQIMDIDSRIKGSVKFVEVPGGEIALLTAGGGASVFYADAVVARGGTIANYAEYSGDPPDWAVEALTETICRLPNIKHIIVGGAIANFTDVKATFSGIINGLRESKSKGYLEGVKIWVRRGGPNEAQGLAAIRKLQEEGFDIHVYDRSMPMTDIVDLALKS',\n",
       "  'MAKILEGPAMKLFNKWGIPVPNYVVIMDPKRLAQLGEANKWLRESKLVVKAHEAIGGRFKLGLVKIGLNLDEAIQASREMLGAKVGTAEVRQVIVAEMLDHDAEFYVSIIGNRDGAELLISKYGGVDIEDNWDSVRRIQIPLDEHPTIEQLTALAKEAGFEGEIAERVGKICSRLVLCFDNEDAQSIEINPLVIRKSDMRFAALDAVMNVDWDARFRHADWDFKPVSEIGRPFTEAEQQIMDIDSRIKGSVKFVEVPGGEIALLTAGGGASVFYADAVVARGGTIANYAEYSGDPPDWAVEALTETICRLPNIKHIIVGGAIANFTDVKATFSGIINGLRESKSKGYLEGVKIWVRRGGPNEAQGLAAIRKLQEEGFDIHVYDRSMPMTDIVDLALKS',\n",
       "  'MAKILEGPAMKLFNKWGIPVPNYVVIMDPKRLAQLGEANKWLRESKLVVKAHEAIGGRFKLGLVKIGLNLDEAIQASREMLGAKVGTAEVRQVIVAEMLDHDAEFYVSIIGNRDGAELLISKYGGVDIEDNWDSVRRIQIPLDEHPTIEQLTALAKEAGFEGEIAERVGKICSRLVLCFDNEDAQSIEINPLVIRKSDMRFAALDAVMNVDWDARFRHADWDFKPVSEIGRPFTEAEQQIMDIDSRIKGSVKFVEVPGGEIALLTAGGGASVFYADAVVARGGTIANYAEYSGDPPDWAVEALTETICRLPNIKHIIVGGAIANFTDVKATFSGIINGLRESKSKGYLEGVKIWVRRGGPNEAQGLAAIRKLQEEGFDIHVYDRSMPMTDIVDLALKS',\n",
       "  'MAKILEGPAMKLFNKWGIPVPNYVVIMDPKRLAQLGEANKWLRESKLVVKAHEAIGGRFKLGLVKIGLNLDEAIQASREMLGAKVGTAEVRQVIVAEMLDHDAEFYVSIIGNRDGAELLISKYGGVDIEDNWDSVRRIQIPLDEHPTIEQLTALAKEAGFEGEIAERVGKICSRLVLCFDNEDAQSIEINPLVIRKSDMRFAALDAVMNVDWDARFRHADWDFKPVSEIGRPFTEAEQQIMDIDSRIKGSVKFVEVPGGEIALLTAGGGASVFYADAVVARGGTIANYAEYSGDPPDWAVEALTETICRLPNIKHIIVGGAIANFTDVKATFSGIINGLRESKSKGYLEGVKIWVRRGGPNEAQGLAAIRKLQEEGFDIHVYDRSMPMTDIVDLALKS',\n",
       "  'MAKILEGPAMKLFNKWGIPVPNYVVIMDPKRLAQLGEANKWLRESKLVVKAHEAIGGRFKLGLVKIGLNLDEAIQASREMLGAKVGTAEVRQVIVAEMLDHDAEFYVSIIGNRDGAELLISKYGGVDIEDNWDSVRRIQIPLDEHPTIEQLTALAKEAGFEGEIAERVGKICSRLVLCFDNEDAQSIEINPLVIRKSDMRFAALDAVMNVDWDARFRHADWDFKPVSEIGRPFTEAEQQIMDIDSRIKGSVKFVEVPGGEIALLTAGGGASVFYADAVVARGGTIANYAEYSGDPPDWAVEALTETICRLPNIKHIIVGGAIANFTDVKATFSGIINGLRESKSKGYLEGVKIWVRRGGPNEAQGLAAIRKLQEEGFDIHVYDRSMPMTDIVDLALKS',\n",
       "  'MAKILEGPAMKLFNKWGIPVPNYVVIMDPKRLAQLGEANKWLRESKLVVKAHEAIGGRFKLGLVKIGLNLDEAIQASREMLGAKVGTAEVRQVIVAEMLDHDAEFYVSIIGNRDGAELLISKYGGVDIEDNWDSVRRIQIPLDEHPTIEQLTALAKEAGFEGEIAERVGKICSRLVLCFDNEDAQSIEINPLVIRKSDMRFAALDAVMNVDWDARFRHADWDFKPVSEIGRPFTEAEQQIMDIDSRIKGSVKFVEVPGGEIALLTAGGGASVFYADAVVARGGTIANYAEYSGDPPDWAVEALTETICRLPNIKHIIVGGAIANFTDVKATFSGIINGLRESKSKGYLEGVKIWVRRGGPNEAQGLAAIRKLQEEGFDIHVYDRSMPMTDIVDLALKS',\n",
       "  'MAKILEGPAMKLFNKWGIPVPNYVVIMDPKRLAQLGEANKWLRESKLVVKAHEAIGGRFKLGLVKIGLNLDEAIQASREMLGAKVGTAEVRQVIVAEMLDHDAEFYVSIIGNRDGAELLISKYGGVDIEDNWDSVRRIQIPLDEHPTIEQLTALAKEAGFEGEIAERVGKICSRLVLCFDNEDAQSIEINPLVIRKSDMRFAALDAVMNVDWDARFRHADWDFKPVSEIGRPFTEAEQQIMDIDSRIKGSVKFVEVPGGEIALLTAGGGASVFYADAVVARGGTIANYAEYSGDPPDWAVEALTETICRLPNIKHIIVGGAIANFTDVKATFSGIINGLRESKSKGYLEGVKIWVRRGGPNEAQGLAAIRKLQEEGFDIHVYDRSMPMTDIVDLALKS',\n",
       "  'MSILANKDTRAVIIGGVAGVNAAKRMAQFDYLINRPLTVQAFVYPPEAGQQKEIFRGGELKNVTVYPSLAPALNEHPDINTALIYLGASRATEAAMEALESPNIQLVSMITEGVPEKDAKRLKKLAQKLGKMLNGPSSIGIMSAGECRLGVIGGEYRNLKLCNLYRQGSFGVLTKSGGLSNEAMWLCAQNGDGITSAVAIGGDAYPGTDFVTYLEMFEKDPATKAVVMIGEVGGNLEEEAAEWLAAEPRRIKLIAAIGGTCQEVLPQGMKFGHAGAKEGKKGAGSARSKMNALREAGALVPDTFGGLSKAIKQVYEELLASGAIKPKPEIDEALLPELPPSVQEVMKQGEVVVEPLIRTTISDDRGEEPRYAGYAASELCSKGYGIEDVIGLLWSKKLPSREESEIIKRIIMISADHGPAVSGAFGTILAACAGIDMPQAVSAGMTMIGPRFGGAVTNAGKYFKMGVKEYPNDIPGFLAWMKKNVGPVPGIGHRVKSLRNPDQRVKYLVSYVKNETSLHTPILNYALEVEKITTAKKENLILNVDGTIGCILMDLGFPEHSLNGFFVLARTIGMIGHWIDQNNQNSRLIRLYDYLINYAVKPERPVPDKK',\n",
       "  'MSILANKDTRAVIIGGVAGVNAAKRMAQFDYLINRPLTVQAFVYPPEAGQQKEIFRGGELKNVTVYPSLAPALNEHPDINTALIYLGASRATEAAMEALESPNIQLVSMITEGVPEKDAKRLKKLAQKLGKMLNGPSSIGIMSAGECRLGVIGGEYRNLKLCNLYRQGSFGVLTKSGGLSNEAMWLCAQNGDGITSAVAIGGDAYPGTDFVTYLEMFEKDPATKAVVMIGEVGGNLEEEAAEWLAAEPRRIKLIAAIGGTCQEVLPQGMKFGHAGAKEGKKGAGSARSKMNALREAGALVPDTFGGLSKAIKQVYEELLASGAIKPKPEIDEALLPELPPSVQEVMKQGEVVVEPLIRTTISDDRGEEPRYAGYAASELCSKGYGIEDVIGLLWSKKLPSREESEIIKRIIMISADHGPAVSGAFGTILAACAGIDMPQAVSAGMTMIGPRFGGAVTNAGKYFKMGVKEYPNDIPGFLAWMKKNVGPVPGIGHRVKSLRNPDQRVKYLVSYVKNETSLHTPILNYALEVEKITTAKKENLILNVDGTIGCILMDLGFPEHSLNGFFVLARTIGMIGHWIDQNNQNSRLIRLYDYLINYAVKPERPVPDKK',\n",
       "  'MSILANKDTRAVIIGGVAGVNAAKRMAQFDYLINRPLTVQAFVYPPEAGQQKEIFRGGELKNVTVYPSLAPALNEHPDINTALIYLGASRATEAAMEALESPNIQLVSMITEGVPEKDAKRLKKLAQKLGKMLNGPSSIGIMSAGECRLGVIGGEYRNLKLCNLYRQGSFGVLTKSGGLSNEAMWLCAQNGDGITSAVAIGGDAYPGTDFVTYLEMFEKDPATKAVVMIGEVGGNLEEEAAEWLAAEPRRIKLIAAIGGTCQEVLPQGMKFGHAGAKEGKKGAGSARSKMNALREAGALVPDTFGGLSKAIKQVYEELLASGAIKPKPEIDEALLPELPPSVQEVMKQGEVVVEPLIRTTISDDRGEEPRYAGYAASELCSKGYGIEDVIGLLWSKKLPSREESEIIKRIIMISADHGPAVSGAFGTILAACAGIDMPQAVSAGMTMIGPRFGGAVTNAGKYFKMGVKEYPNDIPGFLAWMKKNVGPVPGIGHRVKSLRNPDQRVKYLVSYVKNETSLHTPILNYALEVEKITTAKKENLILNVDGTIGCILMDLGFPEHSLNGFFVLARTIGMIGHWIDQNNQNSRLIRLYDYLINYAVKPERPVPDKK',\n",
       "  'MSILANKDTRAVIIGGVAGVNAAKRMAQFDYLINRPLTVQAFVYPPEAGQQKEIFRGGELKNVTVYPSLAPALNEHPDINTALIYLGASRATEAAMEALESPNIQLVSMITEGVPEKDAKRLKKLAQKLGKMLNGPSSIGIMSAGECRLGVIGGEYRNLKLCNLYRQGSFGVLTKSGGLSNEAMWLCAQNGDGITSAVAIGGDAYPGTDFVTYLEMFEKDPATKAVVMIGEVGGNLEEEAAEWLAAEPRRIKLIAAIGGTCQEVLPQGMKFGHAGAKEGKKGAGSARSKMNALREAGALVPDTFGGLSKAIKQVYEELLASGAIKPKPEIDEALLPELPPSVQEVMKQGEVVVEPLIRTTISDDRGEEPRYAGYAASELCSKGYGIEDVIGLLWSKKLPSREESEIIKRIIMISADHGPAVSGAFGTILAACAGIDMPQAVSAGMTMIGPRFGGAVTNAGKYFKMGVKEYPNDIPGFLAWMKKNVGPVPGIGHRVKSLRNPDQRVKYLVSYVKNETSLHTPILNYALEVEKITTAKKENLILNVDGTIGCILMDLGFPEHSLNGFFVLARTIGMIGHWIDQNNQNSRLIRLYDYLINYAVKPERPVPDKK',\n",
       "  'MSILANKDTRAVIIGGVAGVNAAKRMAQFDYLINRPLTVQAFVYPPEAGQQKEIFRGGELKNVTVYPSLAPALNEHPDINTALIYLGASRATEAAMEALESPNIQLVSMITEGVPEKDAKRLKKLAQKLGKMLNGPSSIGIMSAGECRLGVIGGEYRNLKLCNLYRQGSFGVLTKSGGLSNEAMWLCAQNGDGITSAVAIGGDAYPGTDFVTYLEMFEKDPATKAVVMIGEVGGNLEEEAAEWLAAEPRRIKLIAAIGGTCQEVLPQGMKFGHAGAKEGKKGAGSARSKMNALREAGALVPDTFGGLSKAIKQVYEELLASGAIKPKPEIDEALLPELPPSVQEVMKQGEVVVEPLIRTTISDDRGEEPRYAGYAASELCSKGYGIEDVIGLLWSKKLPSREESEIIKRIIMISADHGPAVSGAFGTILAACAGIDMPQAVSAGMTMIGPRFGGAVTNAGKYFKMGVKEYPNDIPGFLAWMKKNVGPVPGIGHRVKSLRNPDQRVKYLVSYVKNETSLHTPILNYALEVEKITTAKKENLILNVDGTIGCILMDLGFPEHSLNGFFVLARTIGMIGHWIDQNNQNSRLIRLYDYLINYAVKPERPVPDKK',\n",
       "  'MSILANKDTRAVIIGGVAGVNAAKRMAQFDYLINRPLTVQAFVYPPEAGQQKEIFRGGELKNVTVYPSLAPALNEHPDINTALIYLGASRATEAAMEALESPNIQLVSMITEGVPEKDAKRLKKLAQKLGKMLNGPSSIGIMSAGECRLGVIGGEYRNLKLCNLYRQGSFGVLTKSGGLSNEAMWLCAQNGDGITSAVAIGGDAYPGTDFVTYLEMFEKDPATKAVVMIGEVGGNLEEEAAEWLAAEPRRIKLIAAIGGTCQEVLPQGMKFGHAGAKEGKKGAGSARSKMNALREAGALVPDTFGGLSKAIKQVYEELLASGAIKPKPEIDEALLPELPPSVQEVMKQGEVVVEPLIRTTISDDRGEEPRYAGYAASELCSKGYGIEDVIGLLWSKKLPSREESEIIKRIIMISADHGPAVSGAFGTILAACAGIDMPQAVSAGMTMIGPRFGGAVTNAGKYFKMGVKEYPNDIPGFLAWMKKNVGPVPGIGHRVKSLRNPDQRVKYLVSYVKNETSLHTPILNYALEVEKITTAKKENLILNVDGTIGCILMDLGFPEHSLNGFFVLARTIGMIGHWIDQNNQNSRLIRLYDYLINYAVKPERPVPDKK',\n",
       "  'MSILANKDTRAVIIGGVAGVNAAKRMAQFDYLINRPLTVQAFVYPPEAGQQKEIFRGGELKNVTVYPSLAPALNEHPDINTALIYLGASRATEAAMEALESPNIQLVSMITEGVPEKDAKRLKKLAQKLGKMLNGPSSIGIMSAGECRLGVIGGEYRNLKLCNLYRQGSFGVLTKSGGLSNEAMWLCAQNGDGITSAVAIGGDAYPGTDFVTYLEMFEKDPATKAVVMIGEVGGNLEEEAAEWLAAEPRRIKLIAAIGGTCQEVLPQGMKFGHAGAKEGKKGAGSARSKMNALREAGALVPDTFGGLSKAIKQVYEELLASGAIKPKPEIDEALLPELPPSVQEVMKQGEVVVEPLIRTTISDDRGEEPRYAGYAASELCSKGYGIEDVIGLLWSKKLPSREESEIIKRIIMISADHGPAVSGAFGTILAACAGIDMPQAVSAGMTMIGPRFGGAVTNAGKYFKMGVKEYPNDIPGFLAWMKKNVGPVPGIGHRVKSLRNPDQRVKYLVSYVKNETSLHTPILNYALEVEKITTAKKENLILNVDGTIGCILMDLGFPEHSLNGFFVLARTIGMIGHWIDQNNQNSRLIRLYDYLINYAVKPERPVPDKK'],\n",
       " 'kcats': [0.34139389008139553,\n",
       "  0.27647181280529687,\n",
       "  0.5953750344464839,\n",
       "  0.3976012000135643,\n",
       "  0.05034785451762989,\n",
       "  0.4862024066315436,\n",
       "  0.11720522436474035,\n",
       "  5.215209610032255,\n",
       "  5.625444907236264,\n",
       "  6.676320665308979,\n",
       "  5.432675171086613,\n",
       "  0.2653101055751896,\n",
       "  5.352667529308486,\n",
       "  11.214895442408453]}"
      ]
     },
     "execution_count": 29,
     "metadata": {},
     "output_type": "execute_result"
    }
   ],
   "source": [
    "kcats"
   ]
  },
  {
   "cell_type": "code",
   "execution_count": null,
   "metadata": {},
   "outputs": [],
   "source": []
  }
 ],
 "metadata": {
  "kernelspec": {
   "display_name": "Python 3",
   "language": "python",
   "name": "python3"
  },
  "language_info": {
   "codemirror_mode": {
    "name": "ipython",
    "version": 3
   },
   "file_extension": ".py",
   "mimetype": "text/x-python",
   "name": "python",
   "nbconvert_exporter": "python",
   "pygments_lexer": "ipython3",
   "version": "3.9.18"
  }
 },
 "nbformat": 4,
 "nbformat_minor": 2
}
