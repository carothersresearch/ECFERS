{
 "cells": [
  {
   "cell_type": "code",
   "execution_count": 30,
   "metadata": {},
   "outputs": [],
   "source": [
    "import pandas as pd\n",
    "import tellurium as te\n",
    "import re"
   ]
  },
  {
   "cell_type": "code",
   "execution_count": 33,
   "metadata": {},
   "outputs": [],
   "source": [
    "data = pd.read_csv('/workspaces/ECFERS/kegg_labels.csv',dtype='str',encoding='us-ascii',encoding_errors='ignore')\n",
    "data = data.where(data.notnull(), None)"
   ]
  },
  {
   "cell_type": "code",
   "execution_count": 34,
   "metadata": {},
   "outputs": [],
   "source": [
    "def clean_string(s):\n",
    "    # Remove unwanted characters\n",
    "    cleaned = re.sub(r\"[-,+,\\'\\[\\]\\(\\)\\s]\", \"\", s)\n",
    "    # If the string starts with a digit, add an underscore at the beginning\n",
    "    if cleaned[0].isdigit():\n",
    "        cleaned = f\"_{cleaned}\"\n",
    "    return cleaned\n",
    "\n",
    "# Apply the function to the second column and create a new column with the result\n",
    "data['ID'] = data.iloc[:, 1].apply(clean_string)"
   ]
  },
  {
   "cell_type": "code",
   "execution_count": 35,
   "metadata": {},
   "outputs": [],
   "source": [
    "pd.set_option('display.max_rows', None)"
   ]
  },
  {
   "cell_type": "code",
   "execution_count": 37,
   "metadata": {},
   "outputs": [],
   "source": [
    "data.to_csv('/workspaces/ECFERS/kegg_labels_add.csv')"
   ]
  },
  {
   "cell_type": "code",
   "execution_count": 29,
   "metadata": {},
   "outputs": [],
   "source": [
    "# Load the text file\n",
    "with open('/workspaces/ECFERS/src/frenda_brenda/Files/KEGG_Filtered/M1.txt', 'r') as file:\n",
    "    text = file.read()\n",
    "\n",
    "# Replace each \"KEGG ID\" in the text with the corresponding \"ID\"\n",
    "for _, row in data.iterrows():\n",
    "    kegg_id = row['KEGG ID']\n",
    "    id_value = row['ID']\n",
    "    text = text.replace(str(kegg_id), str(id_value))\n",
    "\n",
    "# Save the modified text to a new file\n",
    "with open('/workspaces/ECFERS/src/frenda_brenda/Files/KEGG_Filtered/M1_renamed.txt', 'w') as file:\n",
    "    file.write(text)"
   ]
  },
  {
   "cell_type": "code",
   "execution_count": 31,
   "metadata": {},
   "outputs": [],
   "source": [
    "with open('/workspaces/ECFERS/src/frenda_brenda/Files/KEGG_Filtered/M1_renamed.txt', 'r') as f:\n",
    "    antimony = f.read()\n",
    "    \n",
    "r  = te.loada(antimony)\n",
    "r.exportToSBML('/workspaces/ECFERS/src/frenda_brenda/Files/KEGG_Filtered/M1_renamed.sbml', current=False)"
   ]
  }
 ],
 "metadata": {
  "kernelspec": {
   "display_name": "myenv",
   "language": "python",
   "name": "python3"
  },
  "language_info": {
   "codemirror_mode": {
    "name": "ipython",
    "version": 3
   },
   "file_extension": ".py",
   "mimetype": "text/x-python",
   "name": "python",
   "nbconvert_exporter": "python",
   "pygments_lexer": "ipython3",
   "version": "3.9.18"
  }
 },
 "nbformat": 4,
 "nbformat_minor": 2
}
