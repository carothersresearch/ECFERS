{
 "cells": [
  {
   "cell_type": "code",
   "execution_count": 1,
   "metadata": {},
   "outputs": [],
   "source": [
    "import os\n",
    "import numpy as np\n",
    "import pandas as pd\n",
    "import seaborn as sns\n",
    "import tellurium as te\n",
    "\n",
    "import matplotlib.pyplot as plt"
   ]
  },
  {
   "cell_type": "code",
   "execution_count": 2,
   "metadata": {},
   "outputs": [
    {
     "data": {
      "text/plain": [
       "'c:\\\\Users\\\\mkcoo\\\\Documents\\\\UW\\\\GitHub\\\\ECFERS'"
      ]
     },
     "execution_count": 2,
     "metadata": {},
     "output_type": "execute_result"
    }
   ],
   "source": [
    "os.chdir('..')\n",
    "os.getcwd()"
   ]
  },
  {
   "cell_type": "code",
   "execution_count": 3,
   "metadata": {},
   "outputs": [],
   "source": [
    "data = pd.read_csv('kegg_labels.csv',dtype='str',encoding='us-ascii',encoding_errors='ignore')\n",
    "data = data.where(data.notnull(), None)\n",
    "translator_dict = pd.Series(data['Label'].values, index=data['KEGG ID']).to_dict()"
   ]
  },
  {
   "cell_type": "code",
   "execution_count": 4,
   "metadata": {},
   "outputs": [],
   "source": [
    "metrics = pd.read_csv('results/coefficients/cleaned_metrics_7pert_240808.csv')\n",
    "perts = pd.read_csv('concentration_df_7pert.csv')\n",
    "sbm = pd.read_csv('src/frenda_brenda/Files/Reduced Complexity/SpeciesBaseMechanisms_VN_Metabolism_Gly_BIOSYN.csv')"
   ]
  },
  {
   "cell_type": "code",
   "execution_count": 5,
   "metadata": {},
   "outputs": [],
   "source": [
    "malmet = metrics[metrics['Compound']=='C00149']"
   ]
  },
  {
   "cell_type": "code",
   "execution_count": 6,
   "metadata": {},
   "outputs": [],
   "source": [
    "maltop = malmet.sort_values(by=['Total Production'], ascending=False).head(10)"
   ]
  },
  {
   "cell_type": "code",
   "execution_count": 12,
   "metadata": {},
   "outputs": [
    {
     "data": {
      "text/html": [
       "<div>\n",
       "<style scoped>\n",
       "    .dataframe tbody tr th:only-of-type {\n",
       "        vertical-align: middle;\n",
       "    }\n",
       "\n",
       "    .dataframe tbody tr th {\n",
       "        vertical-align: top;\n",
       "    }\n",
       "\n",
       "    .dataframe thead th {\n",
       "        text-align: right;\n",
       "    }\n",
       "</style>\n",
       "<table border=\"1\" class=\"dataframe\">\n",
       "  <thead>\n",
       "    <tr style=\"text-align: right;\">\n",
       "      <th></th>\n",
       "      <th>Perturbation ID</th>\n",
       "      <th>Compound</th>\n",
       "      <th>Final Concentration</th>\n",
       "      <th>Min Conc</th>\n",
       "      <th>Max Conc</th>\n",
       "      <th>Min Time</th>\n",
       "      <th>Max Time</th>\n",
       "      <th>Total Production</th>\n",
       "      <th>Production to Max</th>\n",
       "      <th>Half Max Time</th>\n",
       "      <th>Half Max Conc</th>\n",
       "    </tr>\n",
       "  </thead>\n",
       "  <tbody>\n",
       "    <tr>\n",
       "      <th>224772</th>\n",
       "      <td>889</td>\n",
       "      <td>C00149</td>\n",
       "      <td>0.016170</td>\n",
       "      <td>0.000132</td>\n",
       "      <td>0.016170</td>\n",
       "      <td>57.657658</td>\n",
       "      <td>28800.000000</td>\n",
       "      <td>0.015818</td>\n",
       "      <td>0.015818</td>\n",
       "      <td>12021.621622</td>\n",
       "      <td>0.008255</td>\n",
       "    </tr>\n",
       "    <tr>\n",
       "      <th>104850</th>\n",
       "      <td>415</td>\n",
       "      <td>C00149</td>\n",
       "      <td>0.015545</td>\n",
       "      <td>0.000029</td>\n",
       "      <td>0.015545</td>\n",
       "      <td>115.315315</td>\n",
       "      <td>28800.000000</td>\n",
       "      <td>0.015193</td>\n",
       "      <td>0.015193</td>\n",
       "      <td>9282.882883</td>\n",
       "      <td>0.009601</td>\n",
       "    </tr>\n",
       "    <tr>\n",
       "      <th>35022</th>\n",
       "      <td>139</td>\n",
       "      <td>C00149</td>\n",
       "      <td>0.011193</td>\n",
       "      <td>0.000199</td>\n",
       "      <td>0.011193</td>\n",
       "      <td>28.828829</td>\n",
       "      <td>28800.000000</td>\n",
       "      <td>0.010842</td>\n",
       "      <td>0.010842</td>\n",
       "      <td>12684.684685</td>\n",
       "      <td>0.005769</td>\n",
       "    </tr>\n",
       "    <tr>\n",
       "      <th>224519</th>\n",
       "      <td>888</td>\n",
       "      <td>C00149</td>\n",
       "      <td>0.010588</td>\n",
       "      <td>0.000082</td>\n",
       "      <td>0.010588</td>\n",
       "      <td>86.486486</td>\n",
       "      <td>28800.000000</td>\n",
       "      <td>0.010237</td>\n",
       "      <td>0.010237</td>\n",
       "      <td>11906.306306</td>\n",
       "      <td>0.005469</td>\n",
       "    </tr>\n",
       "    <tr>\n",
       "      <th>82333</th>\n",
       "      <td>326</td>\n",
       "      <td>C00149</td>\n",
       "      <td>0.008752</td>\n",
       "      <td>0.000029</td>\n",
       "      <td>0.008752</td>\n",
       "      <td>115.315315</td>\n",
       "      <td>28800.000000</td>\n",
       "      <td>0.008401</td>\n",
       "      <td>0.008401</td>\n",
       "      <td>14385.585586</td>\n",
       "      <td>0.004554</td>\n",
       "    </tr>\n",
       "    <tr>\n",
       "      <th>303708</th>\n",
       "      <td>1201</td>\n",
       "      <td>C00149</td>\n",
       "      <td>0.007398</td>\n",
       "      <td>0.000029</td>\n",
       "      <td>0.007398</td>\n",
       "      <td>115.315315</td>\n",
       "      <td>28800.000000</td>\n",
       "      <td>0.007046</td>\n",
       "      <td>0.007046</td>\n",
       "      <td>20093.693694</td>\n",
       "      <td>0.003870</td>\n",
       "    </tr>\n",
       "    <tr>\n",
       "      <th>34769</th>\n",
       "      <td>138</td>\n",
       "      <td>C00149</td>\n",
       "      <td>0.007018</td>\n",
       "      <td>0.000129</td>\n",
       "      <td>0.007018</td>\n",
       "      <td>57.657658</td>\n",
       "      <td>28800.000000</td>\n",
       "      <td>0.006667</td>\n",
       "      <td>0.006667</td>\n",
       "      <td>11963.963964</td>\n",
       "      <td>0.003684</td>\n",
       "    </tr>\n",
       "    <tr>\n",
       "      <th>303455</th>\n",
       "      <td>1200</td>\n",
       "      <td>C00149</td>\n",
       "      <td>0.006304</td>\n",
       "      <td>0.000029</td>\n",
       "      <td>0.006304</td>\n",
       "      <td>115.315315</td>\n",
       "      <td>28800.000000</td>\n",
       "      <td>0.005952</td>\n",
       "      <td>0.005952</td>\n",
       "      <td>19920.720721</td>\n",
       "      <td>0.003331</td>\n",
       "    </tr>\n",
       "    <tr>\n",
       "      <th>112440</th>\n",
       "      <td>445</td>\n",
       "      <td>C00149</td>\n",
       "      <td>0.005605</td>\n",
       "      <td>0.000029</td>\n",
       "      <td>0.005605</td>\n",
       "      <td>115.315315</td>\n",
       "      <td>28800.000000</td>\n",
       "      <td>0.005253</td>\n",
       "      <td>0.005253</td>\n",
       "      <td>5909.909910</td>\n",
       "      <td>0.002981</td>\n",
       "    </tr>\n",
       "    <tr>\n",
       "      <th>238434</th>\n",
       "      <td>943</td>\n",
       "      <td>C00149</td>\n",
       "      <td>0.004734</td>\n",
       "      <td>0.000029</td>\n",
       "      <td>0.006557</td>\n",
       "      <td>115.315315</td>\n",
       "      <td>7726.126126</td>\n",
       "      <td>0.004382</td>\n",
       "      <td>0.006206</td>\n",
       "      <td>3113.513514</td>\n",
       "      <td>0.003462</td>\n",
       "    </tr>\n",
       "  </tbody>\n",
       "</table>\n",
       "</div>"
      ],
      "text/plain": [
       "        Perturbation ID Compound  Final Concentration  Min Conc  Max Conc  \\\n",
       "224772              889   C00149             0.016170  0.000132  0.016170   \n",
       "104850              415   C00149             0.015545  0.000029  0.015545   \n",
       "35022               139   C00149             0.011193  0.000199  0.011193   \n",
       "224519              888   C00149             0.010588  0.000082  0.010588   \n",
       "82333               326   C00149             0.008752  0.000029  0.008752   \n",
       "303708             1201   C00149             0.007398  0.000029  0.007398   \n",
       "34769               138   C00149             0.007018  0.000129  0.007018   \n",
       "303455             1200   C00149             0.006304  0.000029  0.006304   \n",
       "112440              445   C00149             0.005605  0.000029  0.005605   \n",
       "238434              943   C00149             0.004734  0.000029  0.006557   \n",
       "\n",
       "          Min Time      Max Time  Total Production  Production to Max  \\\n",
       "224772   57.657658  28800.000000          0.015818           0.015818   \n",
       "104850  115.315315  28800.000000          0.015193           0.015193   \n",
       "35022    28.828829  28800.000000          0.010842           0.010842   \n",
       "224519   86.486486  28800.000000          0.010237           0.010237   \n",
       "82333   115.315315  28800.000000          0.008401           0.008401   \n",
       "303708  115.315315  28800.000000          0.007046           0.007046   \n",
       "34769    57.657658  28800.000000          0.006667           0.006667   \n",
       "303455  115.315315  28800.000000          0.005952           0.005952   \n",
       "112440  115.315315  28800.000000          0.005253           0.005253   \n",
       "238434  115.315315   7726.126126          0.004382           0.006206   \n",
       "\n",
       "        Half Max Time  Half Max Conc  \n",
       "224772   12021.621622       0.008255  \n",
       "104850    9282.882883       0.009601  \n",
       "35022    12684.684685       0.005769  \n",
       "224519   11906.306306       0.005469  \n",
       "82333    14385.585586       0.004554  \n",
       "303708   20093.693694       0.003870  \n",
       "34769    11963.963964       0.003684  \n",
       "303455   19920.720721       0.003331  \n",
       "112440    5909.909910       0.002981  \n",
       "238434    3113.513514       0.003462  "
      ]
     },
     "execution_count": 12,
     "metadata": {},
     "output_type": "execute_result"
    }
   ],
   "source": [
    "maltop"
   ]
  },
  {
   "cell_type": "code",
   "execution_count": 7,
   "metadata": {},
   "outputs": [],
   "source": [
    "base = perts.iloc[0]"
   ]
  },
  {
   "cell_type": "code",
   "execution_count": 8,
   "metadata": {},
   "outputs": [],
   "source": [
    "pertsfilt = perts[perts['Perturbation ID'].isin(maltop['Perturbation ID'])]"
   ]
  },
  {
   "cell_type": "code",
   "execution_count": 9,
   "metadata": {},
   "outputs": [],
   "source": [
    "def findDiff(base, pert):\n",
    "    diff = pert != base\n",
    "    different_columns = diff[diff].index.tolist()\n",
    "\n",
    "    return different_columns[1]"
   ]
  },
  {
   "cell_type": "code",
   "execution_count": 10,
   "metadata": {},
   "outputs": [
    {
     "name": "stdout",
     "output_type": "stream",
     "text": [
      "p_EC1319\n",
      "p_EC1319\n",
      "p_EC1319\n",
      "p_EC1319\n",
      "v4\n",
      "NADPH\n",
      "v18\n",
      "3-Carboxy-1-hydroxypropyl-ThPP\n",
      "v23\n",
      "ATP\n",
      "v97\n",
      "Tetradecanoyl-ACP\n",
      "v97\n",
      "Tetradecanoyl-ACP\n",
      "v106\n",
      "Succinyl-CoA\n",
      "v149\n",
      "Acetyl-CoA\n",
      "v149\n",
      "Acetyl-CoA\n"
     ]
    }
   ],
   "source": [
    "for index, row in pertsfilt.iterrows():\n",
    "    changedvar = findDiff(base, row)\n",
    "    print(changedvar)\n",
    "    if changedvar.startswith('v'):\n",
    "        print(translator_dict[sbm[sbm['Relative']==changedvar]['Label'].values[0]])\n",
    "    else:\n",
    "        print(changedvar)"
   ]
  },
  {
   "cell_type": "code",
   "execution_count": 13,
   "metadata": {},
   "outputs": [],
   "source": [
    "heatmap = pd.read_csv('results/coefficients/240807_heatmap1.csv')"
   ]
  },
  {
   "cell_type": "code",
   "execution_count": 15,
   "metadata": {},
   "outputs": [
    {
     "data": {
      "text/html": [
       "<div>\n",
       "<style scoped>\n",
       "    .dataframe tbody tr th:only-of-type {\n",
       "        vertical-align: middle;\n",
       "    }\n",
       "\n",
       "    .dataframe tbody tr th {\n",
       "        vertical-align: top;\n",
       "    }\n",
       "\n",
       "    .dataframe thead th {\n",
       "        text-align: right;\n",
       "    }\n",
       "</style>\n",
       "<table border=\"1\" class=\"dataframe\">\n",
       "  <thead>\n",
       "    <tr style=\"text-align: right;\">\n",
       "      <th></th>\n",
       "      <th>Unnamed: 0</th>\n",
       "      <th>p_EC5319</th>\n",
       "      <th>p_EC27111</th>\n",
       "      <th>p_EC31311</th>\n",
       "      <th>p_EC41213</th>\n",
       "      <th>p_EC5311</th>\n",
       "      <th>p_EC2723</th>\n",
       "      <th>p_EC42111</th>\n",
       "      <th>p_EC2792</th>\n",
       "      <th>p_EC27140</th>\n",
       "      <th>...</th>\n",
       "      <th>v243</th>\n",
       "      <th>v244</th>\n",
       "      <th>v245</th>\n",
       "      <th>v246</th>\n",
       "      <th>v247</th>\n",
       "      <th>v248</th>\n",
       "      <th>v249</th>\n",
       "      <th>v250</th>\n",
       "      <th>v252</th>\n",
       "      <th>v253</th>\n",
       "    </tr>\n",
       "  </thead>\n",
       "  <tbody>\n",
       "    <tr>\n",
       "      <th>108</th>\n",
       "      <td>C00149</td>\n",
       "      <td>-0.000628</td>\n",
       "      <td>-0.396972</td>\n",
       "      <td>-0.226781</td>\n",
       "      <td>0.001484</td>\n",
       "      <td>-0.000045</td>\n",
       "      <td>-0.000148</td>\n",
       "      <td>-0.00005</td>\n",
       "      <td>3.520364e-07</td>\n",
       "      <td>-0.000004</td>\n",
       "      <td>...</td>\n",
       "      <td>0.000034</td>\n",
       "      <td>-7.525917e-08</td>\n",
       "      <td>0.000752</td>\n",
       "      <td>-0.0</td>\n",
       "      <td>-2.060125e-08</td>\n",
       "      <td>-0.0</td>\n",
       "      <td>-0.0</td>\n",
       "      <td>-0.0</td>\n",
       "      <td>2.337114e-08</td>\n",
       "      <td>-0.0</td>\n",
       "    </tr>\n",
       "  </tbody>\n",
       "</table>\n",
       "<p>1 rows × 304 columns</p>\n",
       "</div>"
      ],
      "text/plain": [
       "    Unnamed: 0  p_EC5319  p_EC27111  p_EC31311  p_EC41213  p_EC5311  p_EC2723  \\\n",
       "108     C00149 -0.000628  -0.396972  -0.226781   0.001484 -0.000045 -0.000148   \n",
       "\n",
       "     p_EC42111      p_EC2792  p_EC27140  ...      v243          v244  \\\n",
       "108   -0.00005  3.520364e-07  -0.000004  ...  0.000034 -7.525917e-08   \n",
       "\n",
       "         v245  v246          v247  v248  v249  v250          v252  v253  \n",
       "108  0.000752  -0.0 -2.060125e-08  -0.0  -0.0  -0.0  2.337114e-08  -0.0  \n",
       "\n",
       "[1 rows x 304 columns]"
      ]
     },
     "execution_count": 15,
     "metadata": {},
     "output_type": "execute_result"
    }
   ],
   "source": [
    "heatmap[heatmap['Unnamed: 0']=='C00149']"
   ]
  },
  {
   "cell_type": "code",
   "execution_count": 21,
   "metadata": {},
   "outputs": [
    {
     "data": {
      "text/plain": [
       "True"
      ]
     },
     "execution_count": 21,
     "metadata": {},
     "output_type": "execute_result"
    }
   ],
   "source": [
    "heatmap.loc[108]"
   ]
  },
  {
   "cell_type": "code",
   "execution_count": 26,
   "metadata": {},
   "outputs": [
    {
     "name": "stderr",
     "output_type": "stream",
     "text": [
      "C:\\Users\\mkcoo\\AppData\\Local\\Temp\\ipykernel_33780\\435003441.py:1: FutureWarning:\n",
      "\n",
      "Series.__getitem__ treating keys as positions is deprecated. In a future version, integer keys will always be treated as labels (consistent with DataFrame behavior). To access a value by position, use `ser.iloc[pos]`\n",
      "\n"
     ]
    },
    {
     "data": {
      "text/plain": [
       "numpy.float64"
      ]
     },
     "execution_count": 26,
     "metadata": {},
     "output_type": "execute_result"
    }
   ],
   "source": [
    "type(heatmap.loc[108][1])"
   ]
  },
  {
   "cell_type": "code",
   "execution_count": 28,
   "metadata": {},
   "outputs": [],
   "source": [
    "top10 = heatmap.drop(columns=heatmap.columns[0]).loc[108].dropna().abs().nlargest(10)"
   ]
  },
  {
   "cell_type": "code",
   "execution_count": 39,
   "metadata": {},
   "outputs": [],
   "source": [
    "largest_10_with_sign = heatmap.drop(columns=heatmap.columns[0]).loc[108][top10.index]\n",
    "\n",
    "result_df = pd.DataFrame({\n",
    "    'ID': largest_10_with_sign.index,\n",
    "    'coeff': largest_10_with_sign.values\n",
    "})"
   ]
  },
  {
   "cell_type": "code",
   "execution_count": 40,
   "metadata": {},
   "outputs": [
    {
     "data": {
      "text/html": [
       "<div>\n",
       "<style scoped>\n",
       "    .dataframe tbody tr th:only-of-type {\n",
       "        vertical-align: middle;\n",
       "    }\n",
       "\n",
       "    .dataframe tbody tr th {\n",
       "        vertical-align: top;\n",
       "    }\n",
       "\n",
       "    .dataframe thead th {\n",
       "        text-align: right;\n",
       "    }\n",
       "</style>\n",
       "<table border=\"1\" class=\"dataframe\">\n",
       "  <thead>\n",
       "    <tr style=\"text-align: right;\">\n",
       "      <th></th>\n",
       "      <th>ID</th>\n",
       "      <th>coeff</th>\n",
       "    </tr>\n",
       "  </thead>\n",
       "  <tbody>\n",
       "    <tr>\n",
       "      <th>0</th>\n",
       "      <td>v4</td>\n",
       "      <td>-3.120563</td>\n",
       "    </tr>\n",
       "    <tr>\n",
       "      <th>1</th>\n",
       "      <td>v97</td>\n",
       "      <td>1.110305</td>\n",
       "    </tr>\n",
       "    <tr>\n",
       "      <th>2</th>\n",
       "      <td>p_EC1319</td>\n",
       "      <td>0.968021</td>\n",
       "    </tr>\n",
       "    <tr>\n",
       "      <th>3</th>\n",
       "      <td>v110</td>\n",
       "      <td>0.808935</td>\n",
       "    </tr>\n",
       "    <tr>\n",
       "      <th>4</th>\n",
       "      <td>p_EC23316</td>\n",
       "      <td>0.784060</td>\n",
       "    </tr>\n",
       "    <tr>\n",
       "      <th>5</th>\n",
       "      <td>p_EC23139</td>\n",
       "      <td>-0.642972</td>\n",
       "    </tr>\n",
       "    <tr>\n",
       "      <th>6</th>\n",
       "      <td>v52</td>\n",
       "      <td>-0.601759</td>\n",
       "    </tr>\n",
       "    <tr>\n",
       "      <th>7</th>\n",
       "      <td>v85</td>\n",
       "      <td>-0.550278</td>\n",
       "    </tr>\n",
       "    <tr>\n",
       "      <th>8</th>\n",
       "      <td>v118</td>\n",
       "      <td>-0.514860</td>\n",
       "    </tr>\n",
       "    <tr>\n",
       "      <th>9</th>\n",
       "      <td>v64</td>\n",
       "      <td>-0.407849</td>\n",
       "    </tr>\n",
       "  </tbody>\n",
       "</table>\n",
       "</div>"
      ],
      "text/plain": [
       "          ID     coeff\n",
       "0         v4 -3.120563\n",
       "1        v97  1.110305\n",
       "2   p_EC1319  0.968021\n",
       "3       v110  0.808935\n",
       "4  p_EC23316  0.784060\n",
       "5  p_EC23139 -0.642972\n",
       "6        v52 -0.601759\n",
       "7        v85 -0.550278\n",
       "8       v118 -0.514860\n",
       "9        v64 -0.407849"
      ]
     },
     "execution_count": 40,
     "metadata": {},
     "output_type": "execute_result"
    }
   ],
   "source": [
    "result_df"
   ]
  },
  {
   "cell_type": "code",
   "execution_count": 42,
   "metadata": {},
   "outputs": [
    {
     "name": "stdout",
     "output_type": "stream",
     "text": [
      "NADPH\n",
      "Tetradecanoyl-ACP\n",
      "p_EC1319\n",
      "Isocitrate\n",
      "p_EC23316\n",
      "p_EC23139\n",
      "S-Glutaryldihydrolipoamide-E\n",
      "trans-Dodec-2-enoyl-ACP\n",
      "Malonyl-[acyl-carrier protein]\n",
      "Octanoyl-ACP\n"
     ]
    }
   ],
   "source": [
    "for id in result_df['ID']:\n",
    "    if id.startswith('v'):\n",
    "        print(translator_dict[sbm[sbm['Relative']==id]['Label'].values[0]])\n",
    "    else:\n",
    "        print(id)"
   ]
  },
  {
   "cell_type": "code",
   "execution_count": 44,
   "metadata": {},
   "outputs": [
    {
     "name": "stdout",
     "output_type": "stream",
     "text": [
      "-3.120562746013792\n",
      "1.1103046951005655\n",
      "0.9680214581990724\n",
      "0.8089354013287913\n",
      "0.7840595674556814\n",
      "-0.6429720582530956\n",
      "-0.6017587943061812\n",
      "-0.5502777856247003\n",
      "-0.5148602065236277\n",
      "-0.4078487606834687\n"
     ]
    }
   ],
   "source": [
    "for c in result_df['coeff']:\n",
    "    print(c)"
   ]
  },
  {
   "cell_type": "code",
   "execution_count": null,
   "metadata": {},
   "outputs": [],
   "source": [
    "for index, row in pertsfilt.iterrows():\n",
    "    changedvar = findDiff(base, row)\n",
    "    print(changedvar)\n",
    "    if changedvar.startswith('v'):\n",
    "        print(translator_dict[sbm[sbm['Relative']==changedvar]['Label'].values[0]])\n",
    "    else:\n",
    "        print(changedvar)"
   ]
  }
 ],
 "metadata": {
  "kernelspec": {
   "display_name": "arpae",
   "language": "python",
   "name": "python3"
  },
  "language_info": {
   "codemirror_mode": {
    "name": "ipython",
    "version": 3
   },
   "file_extension": ".py",
   "mimetype": "text/x-python",
   "name": "python",
   "nbconvert_exporter": "python",
   "pygments_lexer": "ipython3",
   "version": "3.12.5"
  }
 },
 "nbformat": 4,
 "nbformat_minor": 2
}
