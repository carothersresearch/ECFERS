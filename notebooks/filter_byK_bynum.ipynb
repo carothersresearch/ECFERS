{
 "cells": [
  {
   "cell_type": "code",
   "execution_count": 1,
   "metadata": {},
   "outputs": [],
   "source": [
    "import os \n",
    "os.chdir('..')\n",
    "\n",
    "import numpy as np\n",
    "import pandas as pd\n",
    "import seaborn as sns\n",
    "import tellurium as te\n",
    "\n",
    "import matplotlib.pyplot as plt\n",
    "from src.odbm.odbm_main import ModelBuilder\n",
    "from mpl_toolkits.axes_grid1 import make_axes_locatable\n",
    "from Bio.KEGG.KGML import KGML_parser"
   ]
  },
  {
   "cell_type": "code",
   "execution_count": 105,
   "metadata": {},
   "outputs": [
    {
     "data": {
      "text/plain": [
       "'/workspaces/ECFERS'"
      ]
     },
     "execution_count": 105,
     "metadata": {},
     "output_type": "execute_result"
    }
   ],
   "source": [
    "os.getcwd()"
   ]
  },
  {
   "cell_type": "markdown",
   "metadata": {},
   "source": [
    "Filter by Kcat/KM"
   ]
  },
  {
   "cell_type": "code",
   "execution_count": 3,
   "metadata": {},
   "outputs": [],
   "source": [
    "rxn = pd.read_csv('src/frenda_brenda/Files/KEGG_Filtered/Reactions_M1.csv')\n",
    "spc = pd.read_csv('src/frenda_brenda/Files/KEGG_Filtered/SpeciesBaseMechanism_biosyn.csv')"
   ]
  },
  {
   "cell_type": "code",
   "execution_count": 4,
   "metadata": {},
   "outputs": [],
   "source": [
    "xml_file = 'ko01100.xml'\n",
    "pathway = KGML_parser.read(open(xml_file, 'r'))"
   ]
  },
  {
   "cell_type": "code",
   "execution_count": null,
   "metadata": {},
   "outputs": [],
   "source": [
    "# issue? some reactions have more than one \"primary\" substrate or product. we'll have to account for this\n",
    "# pull the primary substrate from XMl. decide if it is on the product or substrate side of our CSV file\n",
    "# depending on that, pull the KCatF or the KCatR\n",
    "# pull the respective KM\n",
    "\n",
    "# will have to group by EC ID at some point. some reaction IDs from KEGG are not in the visualization XML file"
   ]
  },
  {
   "cell_type": "code",
   "execution_count": 21,
   "metadata": {},
   "outputs": [],
   "source": [
    "reaction_dict = {}\n",
    "\n",
    "for r in list(pathway.reactions):\n",
    "    reaction_dict[r.id] = r.name.replace(\"rn:\", \"\").split(' ')"
   ]
  },
  {
   "cell_type": "code",
   "execution_count": 25,
   "metadata": {},
   "outputs": [],
   "source": [
    "def find_keys_by_value_substring(reaction_dict, substring):\n",
    "    matching_keys = [key for key, value in reaction_dict.items() if substring in value]\n",
    "    return matching_keys"
   ]
  },
  {
   "cell_type": "code",
   "execution_count": 53,
   "metadata": {},
   "outputs": [],
   "source": [
    "sub_dict = {}\n",
    "prod_dict = {}\n",
    "\n",
    "for r in list(pathway.reactions):\n",
    "    sub_dict[r.id] = [s for s in r._substrates]\n",
    "    prod_dict[r.id] = [p for p in r._products]"
   ]
  },
  {
   "cell_type": "code",
   "execution_count": 63,
   "metadata": {},
   "outputs": [
    {
     "name": "stdout",
     "output_type": "stream",
     "text": [
      "{'R00209': ['C00022'], 'R00342': ['C00149', 'C00149'], 'R00199': ['C00074'], 'R00341': ['C00036', 'C00074'], 'R00945': ['C00101', 'C00037', 'C00143'], 'R09099': ['C00065'], 'R01082': ['C00122'], 'R00355': ['C00036', 'C00036', 'C00025'], 'R00345': ['C00036', 'C00074', 'C00011'], 'R00200': ['C00074'], 'R01138': ['C00131'], 'R01858': ['C00361'], 'R02320': ['C00074'], 'R00673': ['C00463'], 'R00216': ['C00149'], 'R00217': ['C00036'], 'R05605': ['C00118'], 'R00471': ['C00048'], 'R00226': ['C06010'], 'R08648': ['C00109', 'C00022'], 'R00220': ['C00022'], 'R00590': ['C00065'], 'R00214': ['C00149'], 'R01811': ['C00270'], 'R01731': ['C00254'], 'R00704': ['C00022'], 'R00351': ['C00036', 'C00024'], 'R00344': ['C00036'], 'R00519': ['C00058']}\n",
      "{'R00209': ['C00024'], 'R00342': ['C00036', 'C00036'], 'R00199': ['C00022'], 'R00341': ['C00074', 'C00036'], 'R00945': ['C00143', 'C00101', 'C00065'], 'R09099': ['C04377'], 'R01082': ['C00149'], 'R00355': ['C00049', 'C00049'], 'R00345': ['C00074', 'C00036'], 'R00200': ['C00022'], 'R01138': ['C00206'], 'R01858': ['C00286'], 'R02320': ['C00022'], 'R00673': ['C00078'], 'R00216': ['C00011', 'C00022'], 'R00217': ['C00022'], 'R05605': ['C04442'], 'R00471': ['C05946'], 'R00226': ['C00022'], 'R08648': ['C06006'], 'R00220': ['C00065'], 'R00590': ['C02218'], 'R00214': ['C00011', 'C00022'], 'R01811': ['C00645'], 'R01731': ['C00826'], 'R00704': ['C00256'], 'R00351': ['C00158'], 'R00344': ['C00022'], 'R00519': ['C00011', 'C00080']}\n"
     ]
    }
   ],
   "source": [
    "rid_to_subnames = {}\n",
    "rid_to_prodnames = {}\n",
    "for RID in rxn['Reaction ID']:\n",
    "    matching_keys = find_keys_by_value_substring(reaction_dict, RID)\n",
    "    if matching_keys:\n",
    "        subnames_list = []\n",
    "        prodnames_list = []\n",
    "        for key in matching_keys:\n",
    "            subid = sub_dict[key]\n",
    "            prodid = prod_dict[key]\n",
    "            for sub in subid:\n",
    "                subname = pathway.entries[sub].name.replace('cpd:', '')\n",
    "                subnames_list.append(subname)\n",
    "            for prod in prodid:\n",
    "                prodname = pathway.entries[prod].name.replace('cpd:', '')\n",
    "                prodnames_list.append(prodname)\n",
    "        rid_to_subnames[RID] = subnames_list\n",
    "        rid_to_prodnames[RID] = prodnames_list\n",
    "    #else:\n",
    "        # what do we do if they are not in the XML file?\n",
    "print(rid_to_subnames)\n",
    "print(rid_to_prodnames)"
   ]
  },
  {
   "cell_type": "code",
   "execution_count": 67,
   "metadata": {},
   "outputs": [
    {
     "data": {
      "text/plain": [
       "['C00022']"
      ]
     },
     "execution_count": 67,
     "metadata": {},
     "output_type": "execute_result"
    }
   ],
   "source": [
    "rid_to_subnames['R00209']"
   ]
  },
  {
   "cell_type": "code",
   "execution_count": 78,
   "metadata": {},
   "outputs": [
    {
     "data": {
      "text/plain": [
       "True"
      ]
     },
     "execution_count": 78,
     "metadata": {},
     "output_type": "execute_result"
    }
   ],
   "source": [
    "rid_to_subnames['R00209'][0] in rxn[rxn['Label']=='R23']['Substrates'].values[0]"
   ]
  },
  {
   "cell_type": "code",
   "execution_count": null,
   "metadata": {},
   "outputs": [],
   "source": [
    "row"
   ]
  },
  {
   "cell_type": "code",
   "execution_count": 92,
   "metadata": {},
   "outputs": [
    {
     "data": {
      "text/plain": [
       "'C00022'"
      ]
     },
     "execution_count": 92,
     "metadata": {},
     "output_type": "execute_result"
    }
   ],
   "source": [
    "rid_to_subnames[row['Reaction ID']][0]"
   ]
  },
  {
   "cell_type": "code",
   "execution_count": 98,
   "metadata": {},
   "outputs": [
    {
     "data": {
      "text/plain": [
       "'C00003; C00010; C00022'"
      ]
     },
     "execution_count": 98,
     "metadata": {},
     "output_type": "execute_result"
    }
   ],
   "source": []
  },
  {
   "cell_type": "code",
   "execution_count": 104,
   "metadata": {},
   "outputs": [
    {
     "data": {
      "text/plain": [
       "'C00149'"
      ]
     },
     "execution_count": 104,
     "metadata": {},
     "output_type": "execute_result"
    }
   ],
   "source": [
    "rid_to_subnames[row['Reaction ID']][0]"
   ]
  },
  {
   "cell_type": "code",
   "execution_count": 103,
   "metadata": {},
   "outputs": [
    {
     "name": "stdout",
     "output_type": "stream",
     "text": [
      "this is a substrate\n",
      "this is NOT a product\n",
      "this is a substrate\n",
      "this is NOT a product\n",
      "this is a substrate\n",
      "this is NOT a product\n",
      "this is a substrate\n",
      "this is NOT a product\n",
      "this is NOT a substrate\n",
      "this is a product\n",
      "this is a substrate\n",
      "this is NOT a product\n",
      "this is NOT a substrate\n",
      "this is a product\n",
      "this is a substrate\n",
      "this is NOT a product\n",
      "this is NOT a substrate\n",
      "this is a product\n",
      "this is NOT a substrate\n",
      "this is a product\n",
      "this is a substrate\n",
      "this is NOT a product\n",
      "this is NOT a substrate\n",
      "this is a product\n",
      "this is a substrate\n",
      "this is NOT a product\n",
      "this is NOT a substrate\n",
      "this is a product\n",
      "this is NOT a substrate\n",
      "this is a product\n",
      "this is NOT a substrate\n",
      "this is a product\n",
      "this is a substrate\n",
      "this is NOT a product\n",
      "this is a substrate\n",
      "this is NOT a product\n",
      "this is NOT a substrate\n",
      "this is a product\n",
      "this is NOT a substrate\n",
      "this is a product\n",
      "this is a substrate\n",
      "this is NOT a product\n",
      "this is a substrate\n",
      "this is NOT a product\n",
      "this is NOT a substrate\n",
      "this is a product\n",
      "this is a substrate\n",
      "this is NOT a product\n",
      "this is a substrate\n",
      "this is NOT a product\n",
      "this is a substrate\n",
      "this is NOT a product\n",
      "this is NOT a substrate\n",
      "this is a product\n",
      "this is a substrate\n",
      "this is NOT a product\n",
      "this is NOT a substrate\n",
      "this is a product\n",
      "this is NOT a substrate\n",
      "this is a product\n",
      "this is NOT a substrate\n",
      "this is a product\n",
      "this is NOT a substrate\n",
      "this is a product\n",
      "this is a substrate\n",
      "this is NOT a product\n",
      "this is NOT a substrate\n",
      "this is a product\n",
      "this is a substrate\n",
      "this is NOT a product\n",
      "this is a substrate\n",
      "this is NOT a product\n"
     ]
    }
   ],
   "source": [
    "for index, row in rxn.iterrows():\n",
    "    try:\n",
    "        primarysub = rid_to_subnames[row['Reaction ID']]\n",
    "        primaryprod = rid_to_prodnames[row['Reaction ID']]\n",
    "    except KeyError:\n",
    "        continue\n",
    "\n",
    "    if rid_to_subnames[row['Reaction ID']][0] in row['Substrates']: # this is not dealing with multiple substrates yet\n",
    "        print(f'this is a substrate')\n",
    "        # kcat = forward kcat\n",
    "    else:\n",
    "        print(f'this is NOT a substrate')\n",
    "        # check if it is a product. if yes, kcat = reverse kcat. if no, then that is a problem?\n",
    "\n",
    "    # grab the km associated with this primary substrate\n",
    "    # calculate kcat/km\n",
    "    # redo this same logic with the primary product\n",
    "    # do we sum these kcat/km metrics? do we prioritize only having one be high?\n",
    "    \n",
    "    if rid_to_subnames[row['Reaction ID']][0] in row['Products']: # this is not dealing with multiple substrates yet\n",
    "        print(f'this is a product')\n",
    "    else:\n",
    "        print(f'this is NOT a product')"
   ]
  },
  {
   "cell_type": "markdown",
   "metadata": {},
   "source": [
    "Filter by KEGG Number"
   ]
  },
  {
   "cell_type": "code",
   "execution_count": 76,
   "metadata": {},
   "outputs": [],
   "source": [
    "rnum = pd.read_csv('src/frenda_brenda/Files/Reaction_numfilt.csv')\n",
    "sbmnum = pd.read_csv('src/frenda_brenda/Files/SpeciesBaseMechanism_numfilt.csv')"
   ]
  },
  {
   "cell_type": "code",
   "execution_count": 77,
   "metadata": {},
   "outputs": [],
   "source": [
    "# Extract the number after 'R' in the 'Reaction ID' column and convert it to integer\n",
    "rnum['Reaction Number'] = rnum['Reaction ID'].str.extract(r'R(\\d+)').astype(int)\n",
    "\n",
    "# For rows with the same value in 'EC', keep the one with the lowest 'Reaction Number'\n",
    "df_result = rnum.loc[rnum.groupby('EC')['Reaction Number'].idxmin()]\n",
    "\n",
    "# Drop the 'Reaction Number' column as it's not needed in the final output\n",
    "df_result = df_result.drop(columns=['Reaction Number'])\n",
    "df_result['Label Number'] = df_result['Label'].str.extract(r'R(\\d+)').astype(int)\n",
    "\n",
    "# Sort the DataFrame by the 'Label Number'\n",
    "rnum_sorted = df_result.sort_values(by='Label Number')\n",
    "\n",
    "# Drop the 'Label Number' column after sorting\n",
    "rnum_sorted = rnum_sorted.drop(columns=['Label Number'])"
   ]
  },
  {
   "cell_type": "code",
   "execution_count": 78,
   "metadata": {},
   "outputs": [],
   "source": [
    "# Condition 1: If 'Label' starts with 'C', check if it exists in rnum['Label']\n",
    "mask_label = sbmnum['Label'].str.startswith('C') & (\n",
    "    sbmnum['Label'].isin(rnum_sorted['Substrates']) | sbmnum['Label'].isin(rnum_sorted['Products'])\n",
    ")\n",
    "\n",
    "# Condition 2: If 'EC' is not NaN, check if it exists in rnum['EC']\n",
    "mask_ec = sbmnum['EC'].notna() & sbmnum['EC'].isin(rnum_sorted['EC'])\n",
    "\n",
    "# Combine both conditions, keep rows where either condition is true\n",
    "mask_combined = mask_label | mask_ec\n",
    "\n",
    "# Apply the mask to filter sbmnum\n",
    "sbmnum_filtered = sbmnum[mask_combined]"
   ]
  },
  {
   "cell_type": "code",
   "execution_count": 79,
   "metadata": {},
   "outputs": [],
   "source": [
    "# Split the values in 'Substrates' and 'Products' columns by semicolons and expand them into lists\n",
    "substrates_expanded = rnum_sorted['Substrates'].str.split(';').explode().str.strip()\n",
    "products_expanded = rnum_sorted['Products'].str.split(';').explode().str.strip()\n",
    "\n",
    "# Combine the expanded 'Substrates' and 'Products' into a single Series\n",
    "all_expanded_ids = pd.concat([substrates_expanded, products_expanded])\n",
    "\n",
    "# Condition 1: If 'Label' starts with 'C', check if it exists in the expanded IDs\n",
    "mask_label = sbmnum['Label'].str.startswith('C') & sbmnum['Label'].isin(all_expanded_ids)\n",
    "\n",
    "# Condition 2: If 'EC' is not NaN, check if it exists in rnum['EC']\n",
    "mask_ec = sbmnum['EC'].notna() & sbmnum['EC'].isin(rnum_sorted['EC'])\n",
    "\n",
    "# Combine both conditions, keep rows where either condition is true\n",
    "mask_combined = mask_label | mask_ec\n",
    "\n",
    "# Apply the mask to filter sbmnum\n",
    "sbmnum_filtered = sbmnum[mask_combined]\n",
    "\n",
    "# Apply the mask to filter sbmk (you can combine it with other conditions if needed)\n",
    "sbmnum_filtered = sbmnum[mask_combined]"
   ]
  },
  {
   "cell_type": "code",
   "execution_count": 80,
   "metadata": {},
   "outputs": [],
   "source": [
    "rnum_sorted.to_csv('src/frenda_brenda/Files/Reaction_numfilt.csv')\n",
    "sbmnum_filtered.to_csv('src/frenda_brenda/Files/SpeciesBaseMechanism_numfilt.csv')"
   ]
  },
  {
   "cell_type": "markdown",
   "metadata": {},
   "source": [
    "Filtering by Kcat"
   ]
  },
  {
   "cell_type": "code",
   "execution_count": 81,
   "metadata": {},
   "outputs": [],
   "source": [
    "rk = pd.read_csv('src/frenda_brenda/Files/Reaction_kfilt.csv')\n",
    "sbmk = pd.read_csv('src/frenda_brenda/Files/SpeciesBaseMechanism_kfilt.csv')"
   ]
  },
  {
   "cell_type": "code",
   "execution_count": 82,
   "metadata": {},
   "outputs": [],
   "source": [
    "rk['Kcat_F'] = rk['Kcat'].str.extract(r'Kcat_F:\\s*([\\d\\.]+)').astype(float)\n",
    "rk['Kcat_R'] = rk['Kcat'].str.extract(r'Kcat_R:\\s*([\\d\\.]+)').astype(float)\n",
    "\n",
    "# Get the maximum value between Kcat_F and Kcat_R for each row\n",
    "rk['Max_Kcat'] = rk[['Kcat_F', 'Kcat_R']].max(axis=1)\n",
    "\n",
    "# For rows with the same value in 'EC', keep the one with the largest 'Max_Kcat'\n",
    "df_result = rk.loc[rk.groupby('EC')['Max_Kcat'].idxmax()]\n",
    "\n",
    "# Drop the extra columns\n",
    "df_result = df_result.drop(columns=['Kcat_F', 'Kcat_R', 'Max_Kcat'])\n",
    "\n",
    "df_result['Label Number'] = df_result['Label'].str.extract(r'R(\\d+)').astype(int)\n",
    "\n",
    "# Sort the DataFrame by the 'Label Number'\n",
    "rk_sorted = df_result.sort_values(by='Label Number')\n",
    "\n",
    "# Drop the 'Label Number' column after sorting\n",
    "rk_sorted = rk_sorted.drop(columns=['Label Number'])"
   ]
  },
  {
   "cell_type": "code",
   "execution_count": 83,
   "metadata": {},
   "outputs": [],
   "source": [
    "# Split the values in 'Substrates' and 'Products' columns by semicolons and expand them into lists\n",
    "substrates_expanded = rk_sorted['Substrates'].str.split(';').explode().str.strip()\n",
    "products_expanded = rk_sorted['Products'].str.split(';').explode().str.strip()\n",
    "\n",
    "# Combine the expanded 'Substrates' and 'Products' into a single Series\n",
    "all_expanded_ids = pd.concat([substrates_expanded, products_expanded])\n",
    "\n",
    "# Condition 1: If 'Label' starts with 'C', check if it exists in the expanded IDs\n",
    "mask_label = sbmk['Label'].str.startswith('C') & sbmk['Label'].isin(all_expanded_ids)\n",
    "\n",
    "# Condition 2: If 'EC' is not NaN, check if it exists in rnum['EC']\n",
    "mask_ec = sbmk['EC'].notna() & sbmk['EC'].isin(rk_sorted['EC'])\n",
    "\n",
    "# Combine both conditions, keep rows where either condition is true\n",
    "mask_combined = mask_label | mask_ec\n",
    "\n",
    "# Apply the mask to filter sbmnum\n",
    "sbmk_filtered = sbmk[mask_combined]\n",
    "\n",
    "# Apply the mask to filter sbmk (you can combine it with other conditions if needed)\n",
    "sbmk_filtered = sbmk[mask_combined]"
   ]
  },
  {
   "cell_type": "code",
   "execution_count": 84,
   "metadata": {},
   "outputs": [],
   "source": [
    "rk_sorted.to_csv('src/frenda_brenda/Files/Reaction_kfilt.csv')\n",
    "sbmk_filtered.to_csv('src/frenda_brenda/Files/SpeciesBaseMechanism_kfilt.csv')"
   ]
  },
  {
   "cell_type": "markdown",
   "metadata": {},
   "source": [
    "Filter by inclusion in KEGG map"
   ]
  },
  {
   "cell_type": "code",
   "execution_count": 122,
   "metadata": {},
   "outputs": [],
   "source": [
    "from Bio.KEGG.KGML import KGML_parser"
   ]
  },
  {
   "cell_type": "code",
   "execution_count": 106,
   "metadata": {},
   "outputs": [],
   "source": [
    "rxn = pd.read_csv('src/frenda_brenda/Files/Model Reduction Approaches/Reaction_mostcomplete.csv')\n",
    "sbm = pd.read_csv('src/frenda_brenda/Files/Model Reduction Approaches/SpeciesBaseMechanisms_mostcomplete.csv')"
   ]
  },
  {
   "cell_type": "code",
   "execution_count": 159,
   "metadata": {},
   "outputs": [],
   "source": [
    "filtered_rxn = pd.read_csv('src/frenda_brenda/Files/Model Reduction Approaches/Reaction_filtByMap.csv')"
   ]
  },
  {
   "cell_type": "code",
   "execution_count": 109,
   "metadata": {},
   "outputs": [],
   "source": [
    "xml_file = 'ko01100.xml'\n",
    "pathway = KGML_parser.read(open(xml_file, 'r'))"
   ]
  },
  {
   "cell_type": "code",
   "execution_count": 118,
   "metadata": {},
   "outputs": [],
   "source": [
    "mapped_rxns = []\n",
    "for reaction in pathway.reactions:\n",
    "    for r in reaction.name.replace(\"rn:\",\"\").split(' '):\n",
    "        mapped_rxns.append(r)"
   ]
  },
  {
   "cell_type": "code",
   "execution_count": 126,
   "metadata": {},
   "outputs": [],
   "source": [
    "# Create a new DataFrame that only includes rows where 'Reaction ID' is in mapped_rxns\n",
    "filtered_rxn = rxn[rxn['Reaction ID'].isin(mapped_rxns)].copy()"
   ]
  },
  {
   "cell_type": "code",
   "execution_count": 160,
   "metadata": {},
   "outputs": [],
   "source": [
    "# Split the values in 'Substrates' and 'Products' columns by semicolons and expand them into lists\n",
    "substrates_expanded = filtered_rxn['Substrates'].str.split(';').explode().str.strip()\n",
    "products_expanded = filtered_rxn['Products'].str.split(';').explode().str.strip()\n",
    "inhibitors_expanded = filtered_rxn['Inhibitors'].str.split(';').explode().str.strip().dropna()"
   ]
  },
  {
   "cell_type": "code",
   "execution_count": 161,
   "metadata": {},
   "outputs": [],
   "source": [
    "# Combine the expanded 'Substrates' and 'Products' into a single Series\n",
    "all_expanded_ids = pd.concat([substrates_expanded, products_expanded, inhibitors_expanded])"
   ]
  },
  {
   "cell_type": "code",
   "execution_count": 162,
   "metadata": {},
   "outputs": [],
   "source": [
    "# Condition 1: If 'Label' starts with 'C', check if it exists in the expanded IDs\n",
    "mask_label = sbm['Label'].str.startswith('C') & sbm['Label'].isin(all_expanded_ids)\n",
    "\n",
    "# Condition 2: If 'EC' is not NaN, check if it exists in rnum['EC']\n",
    "mask_ec = sbm['EC'].notna() & sbm['EC'].isin(filtered_rxn['EC'])"
   ]
  },
  {
   "cell_type": "code",
   "execution_count": 163,
   "metadata": {},
   "outputs": [],
   "source": [
    "# Combine both conditions, keep rows where either condition is true\n",
    "mask_combined = mask_label | mask_ec"
   ]
  },
  {
   "cell_type": "code",
   "execution_count": 164,
   "metadata": {},
   "outputs": [],
   "source": [
    "# Apply the mask to filter sbmnum\n",
    "sbm_filtered = sbm[mask_combined]"
   ]
  },
  {
   "cell_type": "code",
   "execution_count": 152,
   "metadata": {},
   "outputs": [],
   "source": [
    "# filtered_rxn.to_csv('src/frenda_brenda/Files/Model Reduction Approaches/Reaction_filtByMap.csv')"
   ]
  },
  {
   "cell_type": "code",
   "execution_count": 165,
   "metadata": {},
   "outputs": [],
   "source": [
    "sbm_filtered.to_csv('src/frenda_brenda/Files/Model Reduction Approaches/SpeciesBaseMechanism_filtByMap.csv')"
   ]
  },
  {
   "cell_type": "markdown",
   "metadata": {},
   "source": [
    "Examine the excluded reactions"
   ]
  },
  {
   "cell_type": "code",
   "execution_count": 156,
   "metadata": {},
   "outputs": [],
   "source": [
    "diff = rxn.merge(filtered_rxn, how='left', indicator=True)\n",
    "\n",
    "# Filtering rows that are only in rxn (i.e., not in filtered_rxn)\n",
    "diff_in_rxn_only = diff[diff['_merge'] == 'left_only']\n",
    "\n",
    "# Drop the merge indicator column if it's no longer needed\n",
    "diff_in_rxn_only = diff_in_rxn_only.drop(columns=['_merge'])"
   ]
  },
  {
   "cell_type": "code",
   "execution_count": 158,
   "metadata": {},
   "outputs": [],
   "source": [
    "diff_in_rxn_only.to_csv('src/frenda_brenda/Files/Model Reduction Approaches/Exclused_Reactions.csv')"
   ]
  },
  {
   "cell_type": "markdown",
   "metadata": {},
   "source": [
    "Remove reactions and species for enzymes which have zero concentration"
   ]
  },
  {
   "cell_type": "code",
   "execution_count": 166,
   "metadata": {},
   "outputs": [],
   "source": [
    "rxn = pd.read_csv('src/frenda_brenda/Files/Model Reduction Approaches/Reaction_filtByMap_withStoich.csv')\n",
    "sbm = pd.read_csv('src/frenda_brenda/Files/Model Reduction Approaches/SpeciesBaseMechanism_filtByMap.csv')"
   ]
  },
  {
   "cell_type": "code",
   "execution_count": 175,
   "metadata": {},
   "outputs": [],
   "source": [
    "sbm_filtered = sbm[sbm['StartingConc'] != 0]"
   ]
  },
  {
   "cell_type": "code",
   "execution_count": 176,
   "metadata": {},
   "outputs": [],
   "source": [
    "ec_to_remove = sbm[sbm['StartingConc'] == 0]['EC'].unique()\n",
    "\n",
    "rxn_filtered = rxn[~rxn['EC'].isin(ec_to_remove)]"
   ]
  },
  {
   "cell_type": "code",
   "execution_count": 179,
   "metadata": {},
   "outputs": [],
   "source": [
    "sbm_filtered.to_csv('src/frenda_brenda/Files/Model Reduction Approaches/241021_SpeciesBaseMechanism.csv')"
   ]
  },
  {
   "cell_type": "code",
   "execution_count": 180,
   "metadata": {},
   "outputs": [],
   "source": [
    "rxn_filtered.to_csv('src/frenda_brenda/Files/Model Reduction Approaches/241021_Reaction.csv')"
   ]
  }
 ],
 "metadata": {
  "kernelspec": {
   "display_name": "myenv",
   "language": "python",
   "name": "python3"
  },
  "language_info": {
   "codemirror_mode": {
    "name": "ipython",
    "version": 3
   },
   "file_extension": ".py",
   "mimetype": "text/x-python",
   "name": "python",
   "nbconvert_exporter": "python",
   "pygments_lexer": "ipython3",
   "version": "3.9.18"
  }
 },
 "nbformat": 4,
 "nbformat_minor": 2
}
