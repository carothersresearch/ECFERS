{
 "cells": [
  {
   "cell_type": "code",
   "execution_count": 48,
   "metadata": {},
   "outputs": [],
   "source": [
    "import pandas as pd\n",
    "import numpy as np\n",
    "import re\n",
    "import pickle"
   ]
  },
  {
   "cell_type": "code",
   "execution_count": 2,
   "metadata": {},
   "outputs": [],
   "source": [
    "import os\n",
    "os.chdir('..')"
   ]
  },
  {
   "cell_type": "code",
   "execution_count": 16,
   "metadata": {},
   "outputs": [],
   "source": [
    "data_folder = 'data/230623_Kinetics_DA/'\n",
    "\n",
    "# get all relevant files: source plates, mixing tables, data\n",
    "buffer_sp = pd.read_excel(data_folder + 'buffers-sp.xlsx', engine='openpyxl').dropna(0,how='all').dropna(1,how='all')\n",
    "genex_mt = pd.read_csv(data_folder + 'genex-mt.csv').dropna(0,how='all').dropna(1,how='all')\n",
    "buffers_mt = pd.read_csv(data_folder + 'buffers-mt.csv').dropna(0,how='all').dropna(1,how='all')\n",
    "data = pd.read_excel(data_folder + 'output.xlsx', engine='openpyxl').dropna(0,how='all').dropna(1,how='all')\n",
    "# how do we handle values with no standard curve\n",
    "\n",
    "# get species and reaction columns\n",
    "species_index_b = [addition in buffer_sp.iloc[:,0].values for addition in list(buffers_mt.iloc[0,1:].keys())]\n",
    "reactions_index_b = [addition not in buffer_sp.iloc[:,0].values for addition in list(buffers_mt.iloc[0,1:].keys())]\n",
    "species_index_g = [addition in buffer_sp.iloc[:,0].values for addition in list(genex_mt.iloc[0,1:].keys())]\n",
    "plasmids_index_g = [addition not in buffer_sp.iloc[:,0].values for addition in list(genex_mt.iloc[0,1:].keys())]"
   ]
  },
  {
   "cell_type": "code",
   "execution_count": null,
   "metadata": {},
   "outputs": [],
   "source": [
    "data_folder = 'data/231212_pyc_HANDMIX/'\n",
    "\n",
    "# get all relevant files: source plates, mixing tables, data\n",
    "buffer_sp = pd.read_excel(data_folder + 'biosyn_sp_231121.xlsx', engine='openpyxl').dropna(0,how='all').dropna(1,how='all')\n",
    "genex_mt = pd.read_excel(data_folder + 'genex_mt_231121.xlsx', engine='openpyxl').dropna(0,how='all').dropna(1,how='all')\n",
    "buffers_mt = pd.read_excel(data_folder + 'biosyn_mt_231121.xlsx', engine='openpyxl').dropna(0,how='all').dropna(1,how='all')\n",
    "data = pd.read_excel(data_folder + 'output.xlsx', engine='openpyxl').dropna(0,how='all').dropna(1,how='all')\n",
    "# how do we handle values with no standard curve\n",
    "\n",
    "# get species and reaction columns\n",
    "species_index_b = [addition in buffer_sp.iloc[:,0].values for addition in list(buffers_mt.iloc[0,1:].keys())]\n",
    "reactions_index_b = [addition not in buffer_sp.iloc[:,0].values for addition in list(buffers_mt.iloc[0,1:].keys())]\n",
    "species_index_g = [addition in buffer_sp.iloc[:,0].values for addition in list(genex_mt.iloc[0,1:].keys())]\n",
    "plasmids_index_g = [addition not in buffer_sp.iloc[:,0].values for addition in list(genex_mt.iloc[0,1:].keys())]"
   ]
  },
  {
   "cell_type": "code",
   "execution_count": 69,
   "metadata": {},
   "outputs": [],
   "source": [
    "data_folder = 'data/220907_Pyc/'\n",
    "\n",
    "# get all relevant files: source plates, mixing tables, data\n",
    "buffer_sp = pd.read_excel(data_folder + 'buffers-sp.xlsx', engine='openpyxl').dropna(0,how='all').dropna(1,how='all')\n",
    "genex_mt = pd.read_excel(data_folder + 'genex_mt.xlsx', engine='openpyxl').dropna(0,how='all').dropna(1,how='all')\n",
    "buffers_mt = pd.read_excel(data_folder + 'buffers_mt.xlsx', engine='openpyxl').dropna(0,how='all').dropna(1,how='all')\n",
    "data = pd.read_excel(data_folder + 'output.xlsx', engine='openpyxl').dropna(0,how='all').dropna(1,how='all')\n",
    "# how do we handle values with no standard curve\n",
    "\n",
    "# get species and reaction columns\n",
    "species_index_b = [addition in buffer_sp.iloc[:,0].values for addition in list(buffers_mt.iloc[0,1:].keys())]\n",
    "reactions_index_b = [addition not in buffer_sp.iloc[:,0].values for addition in list(buffers_mt.iloc[0,1:].keys())]\n",
    "species_index_g = [addition in buffer_sp.iloc[:,0].values for addition in list(genex_mt.iloc[0,1:].keys())]\n",
    "plasmids_index_g = [addition not in buffer_sp.iloc[:,0].values for addition in list(genex_mt.iloc[0,1:].keys())]"
   ]
  },
  {
   "cell_type": "code",
   "execution_count": 50,
   "metadata": {},
   "outputs": [],
   "source": [
    "# get standards and parse equations\n",
    "standards = pd.read_excel('data/LCMS_Standards.xlsx', engine='openpyxl').dropna(0,how='all').dropna(1,how='all')\n",
    "\n",
    "# get mesurement columns\n",
    "measurement_index = [np.any([slabel in dlabel for slabel in standards.iloc[:,0].values]) for dlabel in list(data.iloc[0,1:].keys())] # will only recognize label if in standards \n",
    "\n",
    "peak_to_concentration = {}\n",
    "for row in standards.iterrows():\n",
    "    equation = row[1]['Equation']\n",
    "    # Use regular expressions to extract the slope and y-intercept\n",
    "    match_pos = re.search(r'Y = (\\d+)X \\+ (\\d+)', equation.replace('*',''))\n",
    "    match_neg = re.search(r'Y = (\\d+)X \\- (\\d+)', equation.replace('*',''))\n",
    "\n",
    "    if match_pos:\n",
    "        slope = int(match_pos.group(1))\n",
    "        y_intercept = int(match_pos.group(2))\n",
    "\n",
    "    if match_neg:\n",
    "        slope = int(match_neg.group(1))\n",
    "        y_intercept = -int(match_neg.group(2))\n",
    "    peak_to_concentration[row[1]['Metabolite']] = lambda peak_area, y=y_intercept, s=slope: (peak_area-y)/s # what are the units?"
   ]
  },
  {
   "cell_type": "code",
   "execution_count": 79,
   "metadata": {},
   "outputs": [],
   "source": [
    "# get information for simulation for each sample\n",
    "# assuming the format for kinetic data is the same\n",
    "def not_negative(x):\n",
    "    if x < 0:\n",
    "        x = x*0\n",
    "    return x\n",
    "    \n",
    "# average measurements across replicates and convert to concentrations\n",
    "data_entries = []\n",
    "for i in range(len(data)): # for every data point\n",
    "    d = data.iloc[:,1:].iloc[i,measurement_index].groupby(lambda x: x.split('_')[0]).mean().to_dict()\n",
    "    d = {k:not_negative(peak_to_concentration[k](v)) for k,v in d.items()}  \n",
    "    d['sample'] = data['Unnamed: 0'][i]\n",
    "    d['time'] = data['Time'][i]*60*60\n",
    "    data_entries.append(d)\n",
    "data_to_fit = pd.DataFrame(data_entries).set_index('sample')\n",
    "\n",
    "metadata = {}\n",
    "metadata['dilution_factor'] = data.groupby('Unnamed: 0')['Dilution'].apply(lambda x: np.unique(x)[0]).to_dict()\n",
    "metadata['timepoints'] = data_to_fit.groupby('sample')['time'].apply(lambda x: np.sort(x)).to_dict()\n",
    "metadata['measurement_labels'] = list(data_to_fit.columns)[:-1]\n",
    "metadata['sample_labels'] = list(data_to_fit.index.unique())\n",
    "\n",
    "measurements = {}\n",
    "enzyme_concentrations = {}\n",
    "species_concentrations = {}\n",
    "\n",
    "for sample in data.iloc[:,0].unique(): # for every sample name\n",
    "    species = buffers_mt[buffers_mt['Unnamed: 0'] == sample].iloc[:,1:].iloc[0,species_index_b] # get which species were added\n",
    "    reactions = buffers_mt[buffers_mt['Unnamed: 0'] == sample].iloc[:,1:].iloc[0, reactions_index_b] # get which txtl reactions were added\n",
    "    for reaction in reactions.iteritems(): # for every reaction, get which plasmids and cofactors were added\n",
    "        if reaction[1] > 0:\n",
    "            plasmids = genex_mt[genex_mt['Unnamed: 0'] == reaction[0]].iloc[:,1:].iloc[0, plasmids_index_g]\n",
    "            enzyme_concentrations[sample] =  plasmids # /plasmids.sum()*reaction[1]/200 # still need to convert to molar based on txtl capacity, and make sure the dilution math is right\n",
    "            # also need to get the cofactors added during genex, dilute them, and add them to the biosyn concentrations. eh, maybe not\n",
    "            # need to fix the labeling across mixing tables (biotin vs Biotin)\n",
    "    species_concentrations[sample] = species # need to make sure they all have the same units, and add any cofactors added during genex (nah)\n",
    "    try:\n",
    "        measurements[sample] = data_to_fit.loc[sample].sort_values(by='time').drop(columns='time').to_numpy() # if there is kinetic data\n",
    "    except:\n",
    "        measurements[sample] = data_to_fit.loc[sample][:-1].to_numpy() # if there is just one timepoint\n"
   ]
  },
  {
   "cell_type": "code",
   "execution_count": 78,
   "metadata": {},
   "outputs": [],
   "source": [
    "# need to convert all labels into kegg ids and EC numbers for the model\n",
    "\n",
    "# converting species labels to kegg ids can be done with equilibrator_api\n",
    "from equilibrator_api import ComponentContribution\n",
    "cc = ComponentContribution()\n",
    "\n",
    "try:\n",
    "    with open('src/fitting/speciess_kegg.pkl', 'rb') as f:\n",
    "        speciess_kegg = pickle.load(f)\n",
    "except:\n",
    "    speciess_kegg = {}\n",
    "\n",
    "for species in buffer_sp.iloc[:,0].values:\n",
    "    if species not in speciess_kegg.keys():\n",
    "        try: # the inhibitor string may be too off, or has no kegg id\n",
    "            for i in cc.search_compound(species).identifiers:\n",
    "                if i.registry.namespace == 'kegg':\n",
    "                    speciess_kegg[species] = i.accession\n",
    "                    break # if there are multiple kegg ids, just take the first one which is usually C#### instead of D/G####\n",
    "        except:\n",
    "            speciess_kegg[species] = '' # some of these will fail, maybe this is something we run a priori, curate, and then just read a file\n",
    "\n",
    "with open('src/fitting/speciess_kegg.pkl', 'wb') as f:\n",
    "    pickle.dump(speciess_kegg, f, pickle.HIGHEST_PROTOCOL)"
   ]
  },
  {
   "cell_type": "code",
   "execution_count": 80,
   "metadata": {},
   "outputs": [],
   "source": [
    "speciess_kegg['HCT'] = 'C00158_hct'\n",
    "speciess_kegg['Mg-Act'] = 'C00033'\n",
    "speciess_kegg['Succinate'] = 'C00042'"
   ]
  },
  {
   "cell_type": "code",
   "execution_count": 81,
   "metadata": {},
   "outputs": [],
   "source": [
    "# enzyme namre to kegg converter -> enzymes_kegg\n",
    "# info to convert enzyme labels to EC should be in the file Maggie inputs to FRENDA-BRENDA (?) \n",
    "# for k,v in enzyme_concentrations.items():\n",
    "#     enzyme_concentrations[k] = v.rename({k:enzymes_kegg[k] for k in v.index})\n",
    "\n",
    "for k,v in species_concentrations.items():\n",
    "    species_concentrations[k] = v.rename({k:speciess_kegg[k] for k in v.index})\n",
    "\n",
    "init_concentrations = {sample:(species_concentrations[sample]*1000).append(enzyme_concentrations[sample]) for sample in metadata['sample_labels']}\n",
    "\n",
    "metadata['measurement_labels'] = [speciess_kegg[l] for l in metadata['measurement_labels']]\n",
    "\n",
    "simulation_ready = {'init_concentrations':init_concentrations, \n",
    "                    'metadata':metadata,\n",
    "                    'measurements':measurements}\n",
    "\n",
    "with open(data_folder + 'simulation_ready.pkl', 'wb') as f:\n",
    "    pickle.dump(simulation_ready, f, pickle.HIGHEST_PROTOCOL)"
   ]
  },
  {
   "cell_type": "code",
   "execution_count": 82,
   "metadata": {},
   "outputs": [
    {
     "data": {
      "text/plain": [
       "<matplotlib.legend.Legend at 0x27599315790>"
      ]
     },
     "execution_count": 82,
     "metadata": {},
     "output_type": "execute_result"
    },
    {
     "data": {
      "image/png": "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",
      "text/plain": [
       "<Figure size 600x200 with 2 Axes>"
      ]
     },
     "metadata": {},
     "output_type": "display_data"
    }
   ],
   "source": [
    "import matplotlib.pyplot as plt\n",
    "init_concentrations = simulation_ready['init_concentrations']   \n",
    "metadata = simulation_ready['metadata']\n",
    "measurements = simulation_ready['measurements']\n",
    "fudge_factors = {k:v for k,v in zip(metadata['measurement_labels'],[1000,1000])} # to uM in figure\n",
    "fudge_factors_sample = {k:{'C00149':v,'C00022':1} for k,v in zip(metadata['sample_labels'],[4,4,3,3,1,1])} # to uM in figure\n",
    "\n",
    "plt.figure(figsize=(len(metadata['measurement_labels'])*3,2))\n",
    "for s in metadata['sample_labels']:\n",
    "    metadata['timepoints'][s] = metadata['timepoints'][s] + 30*60\n",
    "    for i,m in enumerate(metadata['measurement_labels']):\n",
    "        measurements[s][:,i] = measurements[s][:,i]*fudge_factors[m]*fudge_factors_sample[s][m]\n",
    "        plt.subplot(1,len(metadata['measurement_labels']),i+1)\n",
    "        plt.plot(metadata['timepoints'][s]/60, measurements[s][:,i],'-o')\n",
    "        plt.title(m)\n",
    "plt.legend(metadata['sample_labels'],bbox_to_anchor=(-len(metadata['measurement_labels'])-0.75, 1), loc='upper left', title='Sample')"
   ]
  },
  {
   "cell_type": "code",
   "execution_count": 84,
   "metadata": {},
   "outputs": [],
   "source": [
    "simulation_ready = {'init_concentrations':init_concentrations, \n",
    "                    'metadata':metadata,\n",
    "                    'measurements':measurements}\n",
    "\n",
    "with open(data_folder + 'simulation_ready.pkl', 'wb') as f:\n",
    "    pickle.dump(simulation_ready, f, pickle.HIGHEST_PROTOCOL)"
   ]
  },
  {
   "cell_type": "code",
<<<<<<< Updated upstream
=======
   "execution_count": 88,
   "metadata": {},
   "outputs": [
    {
     "data": {
      "text/plain": [
       "C16454         1000.000\n",
       "C00022         1000.000\n",
       "C00120         1000.000\n",
       "C00002         1000.000\n",
       "C00033         2000.000\n",
       "C00288         5000.000\n",
       "C00004         1000.000\n",
       "              15000.000\n",
       "C00024         1000.000\n",
       "C00158_hct     2500.000\n",
       "C12568        30000.000\n",
       "Pyc               0.035\n",
       "Mdh               0.005\n",
       "Fdh               0.010\n",
       "dtype: float64"
      ]
     },
     "execution_count": 88,
     "metadata": {},
     "output_type": "execute_result"
    }
   ],
   "source": [
    "init_concentrations['PI']"
   ]
  },
  {
   "cell_type": "code",
>>>>>>> Stashed changes
   "execution_count": null,
   "metadata": {},
   "outputs": [],
   "source": []
  }
 ],
 "metadata": {
  "kernelspec": {
   "display_name": "myenv",
   "language": "python",
   "name": "myenv"
  }
 },
 "nbformat": 4,
 "nbformat_minor": 2
}
