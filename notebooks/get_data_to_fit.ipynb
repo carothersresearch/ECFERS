{
 "cells": [
  {
   "cell_type": "code",
   "execution_count": 1,
   "metadata": {},
   "outputs": [
    {
     "name": "stderr",
     "output_type": "stream",
     "text": [
      "c:\\Users\\dex36\\miniconda2\\envs\\ODBM\\lib\\site-packages\\numpy\\_distributor_init.py:32: UserWarning: loaded more than 1 DLL from .libs:\n",
      "c:\\Users\\dex36\\miniconda2\\envs\\ODBM\\lib\\site-packages\\numpy\\.libs\\libopenblas.QVLO2T66WEPI7JZ63PS3HMOHFEY472BC.gfortran-win_amd64.dll\n",
      "c:\\Users\\dex36\\miniconda2\\envs\\ODBM\\lib\\site-packages\\numpy\\.libs\\libopenblas.WCDJNK7YVMPZQ2ME2ZZHJJRJ3JIKNDB7.gfortran-win_amd64.dll\n",
      "  stacklevel=1)\n"
     ]
    }
   ],
   "source": [
    "import pandas as pd\n",
    "import numpy as np\n",
    "import re"
   ]
  },
  {
   "cell_type": "code",
   "execution_count": 20,
   "metadata": {},
   "outputs": [],
   "source": [
    "data_folder = 'data/221220_serine_titrate/'\n",
    "\n",
    "# get all relevant files: source plates, mixing tables, data\n",
    "buffer_sp = pd.read_excel(data_folder + 'buffers-sp.xlsx', engine='openpyxl').dropna(0,how='all').dropna(1,how='all')\n",
    "plasmid_sp = pd.read_excel(data_folder + 'plasmids_sp.xlsx', engine='openpyxl').dropna(0,how='all').dropna(1,how='all')\n",
    "genex_mt = pd.read_csv(data_folder + 'genex-mt.csv').dropna(0,how='all').dropna(1,how='all')\n",
    "buffers_mt = pd.read_csv(data_folder + 'buffers-mt.csv').dropna(0,how='all').dropna(1,how='all')\n",
    "data = pd.read_excel(data_folder + 'output.xlsx', engine='openpyxl').dropna(0,how='all').dropna(1,how='all')\n",
    "\n",
    "# get species and reaction columns\n",
    "species_index_b = [addition in buffer_sp.iloc[:,0].values for addition in list(buffers_mt.iloc[0,1:].keys())]\n",
    "reactions_index_b = [addition not in buffer_sp.iloc[:,0].values for addition in list(buffers_mt.iloc[0,1:].keys())]\n",
    "species_index_g = [addition in buffer_sp.iloc[:,0].values for addition in list(genex_mt.iloc[0,1:].keys())]\n",
    "plasmids_index_g = [addition not in buffer_sp.iloc[:,0].values for addition in list(genex_mt.iloc[0,1:].keys())]\n"
   ]
  },
  {
   "cell_type": "code",
   "execution_count": 3,
   "metadata": {},
   "outputs": [],
   "source": [
    "# get standards and parse equations\n",
    "standards = pd.read_excel('data/LCMS_Standards.xlsx', engine='openpyxl').dropna(0,how='all').dropna(1,how='all')\n",
    "\n",
    "# get mesurement columns\n",
    "measurement_index = [np.any([slabel in dlabel for slabel in standards.iloc[:,0].values])for dlabel in list(data.iloc[0,1:].keys())] # will only recognize label if in standards \n",
    "\n",
    "peak_to_concentration = {}\n",
    "for row in standards.iterrows():\n",
    "    equation = row[1]['Equation']\n",
    "    # Use regular expressions to extract the slope and y-intercept\n",
    "    match_pos = re.search(r'Y = (\\d+)X \\+ (\\d+)', equation.replace('*',''))\n",
    "    match_neg = re.search(r'Y = (\\d+)X \\- (\\d+)', equation.replace('*',''))\n",
    "\n",
    "    if match_pos:\n",
    "        slope = int(match_pos.group(1))\n",
    "        y_intercept = int(match_pos.group(2))\n",
    "\n",
    "    if match_neg:\n",
    "        slope = int(match_neg.group(1))\n",
    "        y_intercept = -int(match_neg.group(2))\n",
    "\n",
    "    peak_to_concentration[row[1]['Metabolite']] = lambda peak_area: (peak_area-y_intercept)/slope # what are the units?"
   ]
  },
  {
   "cell_type": "code",
   "execution_count": 63,
   "metadata": {},
   "outputs": [],
   "source": [
    "# get information for simulation for each sample\n",
    "# assuming the format for kinetic data is the same\n",
    "\n",
    "# average measurements across replicates and convert to concentrations\n",
    "data_entries = []\n",
    "for i in range(len(data)): # for every data point\n",
    "    d = data.iloc[:,1:].iloc[i,measurement_index].groupby(lambda x: x.split('_')[0]).mean().to_dict()\n",
    "    d = {k:peak_to_concentration[k](v) for k,v in d.items()}  \n",
    "    d['sample'] = data['Unnamed: 0'][i]\n",
    "    d['time'] = data['Time'][i]\n",
    "    data_entries.append(d)\n",
    "data_to_fit = pd.DataFrame(data_entries).set_index('sample')\n",
    "\n",
    "\n",
    "timepoints = data.groupby('Unnamed: 0')['Time'].apply(lambda x: np.sort(x)).to_dict()\n",
    "measurements = {}\n",
    "enzyme_concentrations = {}\n",
    "species_concentrations = {}\n",
    "\n",
    "for sample in data.iloc[:,0].unique(): # for every sample name\n",
    "    species = buffers_mt[buffers_mt['Unnamed: 0'] == sample].iloc[:,1:].iloc[0,species_index_b] # get which species were added\n",
    "    reactions = buffers_mt[buffers_mt['Unnamed: 0'] == sample].iloc[:,1:].iloc[0, reactions_index_b] # get which txtl reactions were added\n",
    "    for reaction in reactions.iteritems(): # for every reaction, get which plasmids and cofactors were added\n",
    "        if reaction[1] > 0:\n",
    "            plasmids = genex_mt[genex_mt['Unnamed: 0'] == reaction[0]].iloc[:,1:].iloc[0, plasmids_index_g]\n",
    "            enzyme_concentrations[sample] =  plasmids/plasmids.sum()*reaction[1]/100 # still need to convert to molar based on txtl capacity, and make sure the dilution math is right\n",
    "            # also need to get the cofactors added during genex, dilute them, and add them to the biosyn concentrations\n",
    "            # need to fix the labeling across mixing tables (biotin vs Biotin)\n",
    "    species_concentrations[sample] = species # need to make sure they all have the same units, and add any cofactors added during genex\n",
    "    try:\n",
    "        measurements[sample] = data_to_fit.loc[sample].sort_values(by='time').drop(columns='time').to_numpy() # if there is kinetic data\n",
    "    except:\n",
    "        measurements[sample] = data_to_fit.loc[sample][:-1].to_numpy() # if there is just one timepoint"
   ]
  },
  {
   "cell_type": "code",
   "execution_count": 5,
   "metadata": {},
   "outputs": [
    {
     "ename": "ModuleNotFoundError",
     "evalue": "No module named 'equilibrator_api'",
     "output_type": "error",
     "traceback": [
      "\u001b[1;31m---------------------------------------------------------------------------\u001b[0m",
      "\u001b[1;31mModuleNotFoundError\u001b[0m                       Traceback (most recent call last)",
      "\u001b[1;32m<ipython-input-5-74d48e40ac40>\u001b[0m in \u001b[0;36m<module>\u001b[1;34m\u001b[0m\n\u001b[0;32m      2\u001b[0m \u001b[1;33m\u001b[0m\u001b[0m\n\u001b[0;32m      3\u001b[0m \u001b[1;31m# converting species labels to kegg ids can be done with equilibrator_api\u001b[0m\u001b[1;33m\u001b[0m\u001b[1;33m\u001b[0m\u001b[1;33m\u001b[0m\u001b[0m\n\u001b[1;32m----> 4\u001b[1;33m \u001b[1;32mfrom\u001b[0m \u001b[0mequilibrator_api\u001b[0m \u001b[1;32mimport\u001b[0m \u001b[0mComponentContribution\u001b[0m\u001b[1;33m\u001b[0m\u001b[1;33m\u001b[0m\u001b[0m\n\u001b[0m\u001b[0;32m      5\u001b[0m \u001b[0mcc\u001b[0m \u001b[1;33m=\u001b[0m \u001b[0mComponentContribution\u001b[0m\u001b[1;33m(\u001b[0m\u001b[1;33m)\u001b[0m\u001b[1;33m\u001b[0m\u001b[1;33m\u001b[0m\u001b[0m\n\u001b[0;32m      6\u001b[0m \u001b[1;33m\u001b[0m\u001b[0m\n",
      "\u001b[1;31mModuleNotFoundError\u001b[0m: No module named 'equilibrator_api'"
     ]
    }
   ],
   "source": [
    "# need to convert all labels into kegg ids and EC numbers for the model\n",
    "\n",
    "# converting species labels to kegg ids can be done with equilibrator_api\n",
    "from equilibrator_api import ComponentContribution\n",
    "cc = ComponentContribution()\n",
    "\n",
    "speciess_kegg = {}\n",
    "for species in buffer_sp.iloc[:,0].values:\n",
    "    try: # the inhibitor string may be too off, or has no kegg id\n",
    "        for i in cc.search_compound(species).identifiers:\n",
    "            if i.registry.namespace == 'kegg':\n",
    "                speciess_kegg[species] = i.accession\n",
    "    except:\n",
    "        speciess_kegg[species] = '' # some of these will fail, maybe this is something we run a priori, curate, and then just read a file\n",
    "\n",
    "speciess_kegg\n",
    "\n",
    "# info to convert enzyme labels to EC should be in the file Maggie inputs to FRENDA-BRENDA (?) "
   ]
  },
  {
   "cell_type": "code",
   "execution_count": 6,
   "metadata": {},
   "outputs": [],
   "source": [
    "# given a model, need to update initial concentrations of species and enzymes"
   ]
  }
 ],
 "metadata": {
  "kernelspec": {
   "display_name": "ODBM",
   "language": "python",
   "name": "python3"
  },
  "language_info": {
   "codemirror_mode": {
    "name": "ipython",
    "version": 3
   },
   "file_extension": ".py",
   "mimetype": "text/x-python",
   "name": "python",
   "nbconvert_exporter": "python",
   "pygments_lexer": "ipython3",
   "version": "3.6.13"
  }
 },
 "nbformat": 4,
 "nbformat_minor": 2
}
