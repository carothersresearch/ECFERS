{
 "cells": [
  {
   "cell_type": "code",
   "execution_count": 2,
   "metadata": {},
   "outputs": [],
   "source": [
    "import os \n",
    "os.chdir('..')\n",
    "\n",
    "import numpy as np\n",
    "import pandas as pd\n",
    "import seaborn as sns\n",
    "import tellurium as te\n",
    "\n",
    "import matplotlib.pyplot as plt\n",
    "from src.odbm.odbm_main import ModelBuilder\n",
    "from mpl_toolkits.axes_grid1 import make_axes_locatable"
   ]
  },
  {
   "cell_type": "code",
   "execution_count": 3,
   "metadata": {},
   "outputs": [
    {
     "data": {
      "text/plain": [
       "'c:\\\\Users\\\\mkcoo\\\\Documents\\\\UW\\\\GitHub\\\\ECFERS'"
      ]
     },
     "execution_count": 3,
     "metadata": {},
     "output_type": "execute_result"
    }
   ],
   "source": [
    "os.getcwd()"
   ]
  },
  {
   "cell_type": "code",
   "execution_count": 4,
   "metadata": {},
   "outputs": [],
   "source": [
    "rxnpre = pd.read_csv('src/frenda_brenda/Files/Reaction_preparse.csv')\n",
    "rxnpost = pd.read_csv('src/frenda_brenda/Files/KEGG_Filtered/Reactions_M7.csv')"
   ]
  },
  {
   "cell_type": "code",
   "execution_count": 7,
   "metadata": {},
   "outputs": [
    {
     "name": "stdout",
     "output_type": "stream",
     "text": [
      "Values in rxnpre but not in rxnpost: ['2.7.7.6', '2.7.7.6', '5.2.1.8', '6.3.5.5', '6.1.1.7', '2.7.7.6', '6.1.1.15', '1.11.1.26', '6.1.1.5', '5.2.1.8', '6.1.1.20', '4.3.1.1', '2.8.1.7', '6.1.1.11', '6.3.4.4', '6.1.1.-', '6.1.1.4', '2.7.1.30', '6.1.1.14', '2.3.1.117', '2.7.3.9', '7.1.2.2', '2.7.4.3', '3.4.25.2', '6.3.4.2', '2.6.1.16', '7.1.2.2', '6.1.1.17', '3.4.13.18', '5.4.2.11', '3.2.1.22', '6.1.1.9', '1.1.1.205', '6.1.1.3', '7.4.2.1', '6.1.1.20', '7.5.2.1', '6.1.1.22', '6.1.1.21', '6.1.1.10', '6.3.4.14', '7.4.2.-', '6.1.1.1', '1.11.1.-', '6.3.5.5', '1.6.1.1', '6.3.5.2', '3.2.1.93', '3.4.24.70', '6.1.1.6', '2.7.4.6', '1.15.1.1', '4.3.2.1', '2.7.1.199', '2.7.7.8', '3.4.11.2', '1.8.1.9', '2.5.1.55', '6.3.4.5', '6.1.1.18', '5.2.1.8', '7.4.2.1', '5.4.3.8', '7.1.1.-', '2.4.2.1', '2.5.1.78', '5.1.3.20', '3.4.13.9', '1.15.1.1', '6.1.1.19', '1.5.1.34', '1.16.3.2', '5.3.1.28', '3.6.1.1', '6.1.1.6', '5.6.2.2', '1.1.1.251', '2.4.2.3', '3.4.21.92', '4.3.3.7', '5.2.1.8', '3.4.11.23', '3.4.21.92', '6.1.1.2', '6.3.1.5', '3.4.21.107', '6.3.2.4', '3.4.11.18', '3.1.13.1', '2.7.7.7', '5.4.2.10', '1.17.7.1', '5.2.1.8', '4.1.1.19', '6.1.1.14', '2.6.1.87', '4.2.1.-', '5.3.1.25', '6.1.1.16', '4.3.2.2', '4.2.1.24', '1.2.1.-', '2.7.7.6', '3.1.3.25', '5.2.1.8', '5.1.3.-', '2.8.4.3', '4.2.1.46', '3.5.1.16', '1.1.1.305', '7.6.2.-', '3.9.1.-', '3.4.25.2', '1.5.1.38', '1.6.5.9', '3.1.4.46', '2.4.2.9', '2.4.1.1', '2.4.2.8', '3.6.5.n1', '1.11.1.24', '3.2.1.23', '2.5.1.7', '5.6.2.2', '3.6.4.-', '3.4.15.5', '5.6.2.1', '2.6.1.11', '1.8.1.7', '4.1.1.23', '5.3.1.16', '5.1.3.29', '2.3.1.-', '4.1.3.3', '1.6.5.9', '7.1.2.2', '6.3.5.3', '1.8.1.2', '6.3.2.6', '3.2.1.21', '3.1.3.15', '3.5.1.88', '2.7.1.167', '3.4.11.1', '2.4.2.7', '4.98.1.1', '5.4.2.12', '4.1.2.40', '4.1.3.36', '1.17.4.1', '1.7.1.7', '1.2.1.41', '1.5.1.41', '2.4.2.22', '2.5.1.9', '3.4.11.9', '2.7.2.8', '3.4.24.-', '6.3.4.13', '5.3.1.8', '2.4.2.17', '3.1.11.2', '6.3.5.4', '3.6.4.13', '2.7.4.22', '7.1.2.2', '3.1.21.3', '2.6.1.33', '1.5.3.2', '3.6.1.23', '1.20.4.1', '3.4.24.-', '6.3.2.13', '1.8.4.12', '2.8.1.1', '6.3.1.-', '5.2.1.8', '5.1.1.1', '2.5.1.61', '2.5.1.18', '2.4.2.1', '4.1.1.37', '2.10.1.1', '2.6.99.2', '2.4.2.10', '2.7.7.24', '7.1.1.-', '1.1.1.23', '6.3.2.9', '6.3.2.12', '1.17.7.4', '6.3.2.45', '1.5.1.2', '3.1.3.-', '5.1.3.13', '1.6.5.10', '1.2.1.38', '6.3.2.10', '3.4.24.-', '7.1.2.2', '3.6.1.-', '2.7.3.9', '5.3.4.1', '4.2.1.126', '2.7.4.9', '2.1.3.2', '3.4.19.5', '3.1.3.23', '3.2.2.3', '3.6.1.66', '3.1.26.12', '4.1.99.12', '3.4.24.-', '2.1.1.200', '3.5.4.16', '3.1.21.3', '2.1.3.2', '2.7.7.56', '1.6.5.9', '3.5.3.11', '3.1.3.-', '3.5.4.13', '2.1.1.-', '2.7.7.9', '1.17.4.2', '2.7.7.4', '3.1.11.6', '2.1.1.198', '3.1.3.7', '2.1.1.33', '2.7.7.38', '2.8.4.4', '2.1.1.186', '5.4.99.25', '6.3.2.8', '2.3.1.191', '6.3.2.4', '1.3.1.98', '3.1.-.-', '3.1.1.29', '1.4.99.-', '5.1.99.7', '3.5.2.3', '5.2.1.8', '2.7.1.35', '3.1.3.45', '4.2.3.3', '3.1.3.5', '1.17.1.8', '1.16.3.1', '2.1.1.298', '4.3.2.10', '1.8.4.8', '2.7.2.11', '2.1.1.185', '2.1.1.191', '2.4.2.19', '2.1.1.172', '2.7.7.38', '5.4.2.11', '3.6.5.-', '2.4.1.25', '2.1.1.163', '1.-.-.-', '2.5.1.90', '2.8.1.6', '1.1.1.-', '1.1.1.133', '3.5.1.-', '2.1.1.170', '3.1.4.16', '3.4.16.4', '2.1.2.-', '6.3.3.1', '1.8.1.2', '2.7.7.7', '1.8.4.-', '2.8.1.-', '3.2.2.4', '3.1.3.104', '2.3.3.8']\n",
      "Values in rxnpost but not in rxnpre: ['6.4.1.1', '1.17.1.9']\n"
     ]
    }
   ],
   "source": [
    "import pandas as pd\n",
    "\n",
    "# Assuming rxnpre and rxnpost are your DataFrames\n",
    "# List of values in 'EC' of rxnpre but not in rxnpost\n",
    "in_rxnpre_not_rxnpost = rxnpre[~rxnpre['EC'].isin(rxnpost['EC'])]['EC'].tolist()\n",
    "\n",
    "# List of values in 'EC' of rxnpost but not in rxnpre\n",
    "in_rxnpost_not_rxnpre = rxnpost[~rxnpost['EC'].isin(rxnpre['EC'])]['EC'].tolist()\n",
    "\n",
    "# Output the lists\n",
    "print(\"Values in rxnpre but not in rxnpost:\", in_rxnpre_not_rxnpost)\n",
    "print(\"Values in rxnpost but not in rxnpre:\", in_rxnpost_not_rxnpre)"
   ]
  },
  {
   "cell_type": "code",
   "execution_count": 10,
   "metadata": {},
   "outputs": [],
   "source": [
    "# Create a DataFrame from the list in_rxnpre_not_rxnpost\n",
    "df_in_rxnpre_not_rxnpost = pd.DataFrame(in_rxnpre_not_rxnpost, columns=['EC'])\n",
    "\n",
    "# Save to CSV\n",
    "df_in_rxnpre_not_rxnpost.to_csv('in_rxnpre_not_rxnpost.csv', index=False)"
   ]
  },
  {
   "cell_type": "code",
   "execution_count": 13,
   "metadata": {},
   "outputs": [
    {
     "name": "stderr",
     "output_type": "stream",
     "text": [
      "C:\\Users\\mkcoo\\AppData\\Local\\Temp\\ipykernel_32416\\2454197541.py:16: DeprecationWarning:\n",
      "\n",
      "The 'text' argument to find()-type methods is deprecated. Use 'string' instead.\n",
      "\n"
     ]
    },
    {
     "name": "stdout",
     "output_type": "stream",
     "text": [
      "'Name' text not found for EC: 6.1.1.-\n",
      "'Name' text not found for EC: 7.4.2.-\n",
      "'Name' text not found for EC: 1.11.1.-\n",
      "'Name' text not found for EC: 7.1.1.-\n",
      "'Name' text not found for EC: 4.2.1.-\n",
      "'Name' text not found for EC: 1.2.1.-\n",
      "'Name' text not found for EC: 5.1.3.-\n",
      "'Name' text not found for EC: 7.6.2.-\n",
      "'Name' text not found for EC: 3.9.1.-\n",
      "'Name' text not found for EC: 3.6.5.n1\n",
      "'Name' text not found for EC: 3.6.4.-\n",
      "'Name' text not found for EC: 2.3.1.-\n",
      "'Name' text not found for EC: 3.4.24.-\n",
      "'Name' text not found for EC: 6.3.1.-\n",
      "'Name' text not found for EC: 3.1.3.-\n",
      "'Name' text not found for EC: 3.6.1.-\n",
      "'Name' text not found for EC: 2.1.1.-\n",
      "'Name' text not found for EC: 3.1.-.-\n",
      "'Name' text not found for EC: 1.4.99.-\n",
      "'Name' text not found for EC: 3.6.5.-\n",
      "'Name' text not found for EC: 1.-.-.-\n",
      "'Name' text not found for EC: 1.1.1.-\n",
      "'Name' text not found for EC: 3.5.1.-\n",
      "'Name' text not found for EC: 2.1.2.-\n",
      "'Name' text not found for EC: 1.8.4.-\n",
      "'Name' text not found for EC: 2.8.1.-\n",
      "Process completed. The names have been added to the CSV.\n"
     ]
    }
   ],
   "source": [
    "import pandas as pd\n",
    "import requests\n",
    "from bs4 import BeautifulSoup\n",
    "\n",
    "# Load the CSV file containing the EC IDs\n",
    "df = pd.read_csv('in_rxnpre_not_rxnpost.csv')\n",
    "\n",
    "# Function to extract the first name before the semicolon from the page\n",
    "def get_enzyme_name(ec_id):\n",
    "    url = f\"https://www.genome.jp/dbget-bin/www_bget?ec:{ec_id}\"\n",
    "    response = requests.get(url)\n",
    "    \n",
    "    if response.status_code == 200:\n",
    "        soup = BeautifulSoup(response.content, 'html.parser')\n",
    "        # Try to find the block containing the \"Name\" field\n",
    "        name_block = soup.find(text=\"Name\")\n",
    "        if name_block:\n",
    "            # Find the next 'td' element containing the name and split by semicolon\n",
    "            name_block = name_block.find_next('td')\n",
    "            if name_block:\n",
    "                name = name_block.get_text().split(';')[0]\n",
    "                return name.strip()\n",
    "            else:\n",
    "                print(f\"Name field not found for EC: {ec_id}\")\n",
    "        else:\n",
    "            print(f\"'Name' text not found for EC: {ec_id}\")\n",
    "    else:\n",
    "        print(f\"Failed to retrieve page for EC: {ec_id} (status code: {response.status_code})\")\n",
    "    \n",
    "    return None\n",
    "\n",
    "# Iterate over each EC ID in the DataFrame and fetch the name\n",
    "df['Name'] = df['EC'].apply(get_enzyme_name)\n",
    "\n",
    "# Save the updated DataFrame to a new CSV\n",
    "df.to_csv('updated_ec_names.csv', index=False)\n",
    "\n",
    "print(\"Process completed. The names have been added to the CSV.\")\n"
   ]
  },
  {
   "cell_type": "code",
   "execution_count": null,
   "metadata": {},
   "outputs": [],
   "source": []
  },
  {
   "cell_type": "code",
   "execution_count": 5,
   "metadata": {},
   "outputs": [],
   "source": [
    "r_biosyn = te.loads('results/240707_VNMetGly_Keq_PSOs/240621_VN_Metabolism_Gly_Keq_fitted.sbml')"
   ]
  },
  {
   "cell_type": "code",
   "execution_count": 9,
   "metadata": {},
   "outputs": [],
   "source": [
    "r = te.loads('results/240707_VNMetGly_Keq_PSOs/240621_VN_Metabolism_Gly_Keq_fitted.sbml')"
   ]
  },
  {
   "cell_type": "markdown",
   "metadata": {},
   "source": [
    "Messing around with HCT"
   ]
  },
  {
   "cell_type": "code",
   "execution_count": null,
   "metadata": {},
   "outputs": [],
   "source": [
    "r_biosyn.C00158HCT"
   ]
  },
  {
   "cell_type": "code",
   "execution_count": null,
   "metadata": {},
   "outputs": [],
   "source": [
    "# Choose a substrate and iterate from start to end value (must be doubles) in increment values\n",
    "for C00158HCT in np.arange(0.0, 200.0, 20.0):\n",
    "    r_biosyn.reset() # reset the SBML values each loop iteration\n",
    "    r_biosyn.C00158HCT = C00158HCT \n",
    "    m = r_biosyn.simulate (0, 8*60*60, ['time', 'C00036']) # simulate model, this version specifies which values to take note of\n",
    "    te.plotArray (m, show=False, labels=['HCT='+str(C00158HCT)], resetColorCycle=False, xlabel=\"Time (s)\", ylabel=\"[Oxaloacetate] (mM)\", title=\"Concentration of Oxaloacetate over Time\") # add that simulation to plot"
   ]
  },
  {
   "cell_type": "code",
   "execution_count": null,
   "metadata": {},
   "outputs": [],
   "source": [
    "# Choose a substrate and iterate from start to end value (must be doubles) in increment values\n",
    "for C00158HCT in np.arange(0.0, 200.0, 20.0):\n",
    "    r_biosyn.reset() # reset the SBML values each loop iteration\n",
    "    r_biosyn.C00158HCT = C00158HCT \n",
    "    m = r_biosyn.simulate (0, 8*60*60, ['time', 'C00158']) # simulate model, this version specifies which values to take note of\n",
    "    te.plotArray (m, show=False, labels=['HCT='+str(C00158HCT)], resetColorCycle=False, xlabel=\"Time (s)\", ylabel=\"[Citrate] (mM)\", title=\"Concentration of Citrate over Time\") # add that simulation to plot"
   ]
  },
  {
   "cell_type": "code",
   "execution_count": 32,
   "metadata": {},
   "outputs": [],
   "source": [
    "kegg_labels = pd.read_csv('kegg_labels.csv',dtype='str',encoding='us-ascii',encoding_errors='ignore')\n",
    "kegg_labels = kegg_labels.where(kegg_labels.notnull(), None)\n",
    "translator_dict = pd.Series(kegg_labels['Label'].values, index=kegg_labels['KEGG ID']).to_dict()"
   ]
  },
  {
   "cell_type": "code",
   "execution_count": 33,
   "metadata": {},
   "outputs": [],
   "source": [
    "# simulate an SBML model at 30, 60, 120, 240, and 480 minutes\n",
    "r_biosyn.reset()\n",
    "r.C00149 = 1\n",
    "r01 = r_biosyn.simulate(0,60)\n",
    "rates01 = r_biosyn.getReactionRates()\n",
    "\n",
    "r_biosyn.reset()\n",
    "r.C00149 = 1\n",
    "r30 = r_biosyn.simulate(0,1800)\n",
    "rates30 = r_biosyn.getReactionRates()\n",
    "\n",
    "r_biosyn.reset()\n",
    "r.C00149 = 1\n",
    "r60 = r_biosyn.simulate(0,3600)\n",
    "rates60 = r_biosyn.getReactionRates()\n",
    "\n",
    "r_biosyn.reset()\n",
    "r.C00149 = 1\n",
    "r120 = r_biosyn.simulate(0,7200)\n",
    "rates120 = r_biosyn.getReactionRates()\n",
    "\n",
    "r_biosyn.reset()\n",
    "r.C00149 = 1\n",
    "r240 = r_biosyn.simulate(0,14400)\n",
    "rates240 = r_biosyn.getReactionRates()\n",
    "\n",
    "r_biosyn.reset()\n",
    "r.C00149 = 1\n",
    "r480 = r_biosyn.simulate(0,28800)\n",
    "rates480 = r_biosyn.getReactionRates()"
   ]
  },
  {
   "cell_type": "code",
   "execution_count": 34,
   "metadata": {},
   "outputs": [],
   "source": [
    "# find the indices for all reactions involving Malate (C00149)\n",
    "r_met = np.where(np.abs(r_biosyn.getFullStoichiometryMatrix()['C00122']))[0]"
   ]
  },
  {
   "cell_type": "code",
   "execution_count": 35,
   "metadata": {},
   "outputs": [],
   "source": [
    "# index the rates at certain time points to get the rates of reactions involving malate\n",
    "spec_rates01 = rates01[r_met]\n",
    "spec_rates30 = rates30[r_met]\n",
    "spec_rates60 = rates60[r_met]\n",
    "spec_rates120 = rates120[r_met]\n",
    "spec_rates240 = rates240[r_met]\n",
    "spec_rates480 = rates480[r_met]"
   ]
  },
  {
   "cell_type": "code",
   "execution_count": 36,
   "metadata": {},
   "outputs": [],
   "source": [
    "model_rxns = pd.read_csv('src/frenda_brenda/Files/Reduced Complexity/Reaction_VN_Metabolism_Gly_BIOSYN.csv')"
   ]
  },
  {
   "cell_type": "code",
   "execution_count": 37,
   "metadata": {},
   "outputs": [],
   "source": [
    "from matplotlib import colors\n",
    "divnorm=colors.TwoSlopeNorm(vmin=-1e-9, vcenter=0., vmax=1e-7)"
   ]
  },
  {
   "cell_type": "code",
   "execution_count": null,
   "metadata": {},
   "outputs": [],
   "source": [
    "def translate_kegg(X):\n",
    "    translated = []\n",
    "    for x in X:\n",
    "        try:\n",
    "            translated.append(translator_dict[x])\n",
    "        except KeyError:\n",
    "            print(f\"KeyError: {x} not found in kegg_labels\")\n",
    "            translated.append(\"Unknown\")\n",
    "    return translated\n",
    "\n",
    "# Combine the arrays into a 2D array\n",
    "reaction_rates = np.array([spec_rates01, spec_rates30, spec_rates60, spec_rates120, spec_rates240, spec_rates480])\n",
    "\n",
    "# Define time points in minutes\n",
    "time_points = [1, 30, 60, 120, 240, 480]\n",
    "\n",
    "# Set up the figure size and subplot adjustments\n",
    "size = np.ceil(len(r_met) / 3) + 1\n",
    "fig, ax = plt.subplots(figsize=(8, size))\n",
    "fig.subplots_adjust(wspace=0.5)\n",
    "\n",
    "# Create the heatmap\n",
    "im = ax.imshow(reaction_rates.T, aspect='auto', cmap='PuOr', norm=colors.SymLogNorm(1e-10))\n",
    "\n",
    "# Set axis labels\n",
    "ax.set_ylabel('Reactants')\n",
    "ax.set_xlabel('Time (mins)')\n",
    "\n",
    "# Set x-axis ticks and labels\n",
    "ax.set_xticks(np.arange(len(time_points)))\n",
    "ax.set_xticklabels(time_points)\n",
    "\n",
    "# Optionally, add a secondary y-axis for additional labels (if needed)\n",
    "ax.set_yticks(np.arange(0,len(r_met),1), labels = ['EC '+model_rxns.loc[model_rxns['Label'] == r]['EC'].values[0] +': '+' + '.join((translate_kegg(model_rxns.loc[model_rxns['Label'] == r]['Substrates'].values[0].replace(\" \",'').split(';')))) for r in np.array(r_biosyn.getReactionIds())[r_met]])\n",
    "ax2 = ax.twinx()\n",
    "ax2.set_ylim(ax.get_ylim())\n",
    "ax2.set_yticks(np.arange(0,len(r_met),1), labels = [' + '.join((translate_kegg(model_rxns.loc[model_rxns['Label'] == r]['Products'].values[0].replace(\" \",'').split(';')))) for r in np.array(r_biosyn.getReactionIds())[r_met]])\n",
    "ax2.set_ylabel('Products')\n",
    "\n",
    "# # Add a colorbar on top with adjusted position\n",
    "divider = make_axes_locatable(ax2)\n",
    "cax2 = divider.append_axes('top', size='10%', pad='50%')  # Adjust pad to increase space between colorbar and heatmap\n",
    "\n",
    "cbar = fig.colorbar(im, cax=cax2, orientation='horizontal', label='Rate')\n",
    "cax2.xaxis.set_ticks_position(\"top\")\n",
    "cbar.ax.xaxis.set_label_position('top')  # Move colorbar label to the top\n",
    "\n",
    "# Show the plot\n",
    "plt.show()\n",
    "\n",
    "#Required to remove some white border"
   ]
  },
  {
   "cell_type": "markdown",
   "metadata": {},
   "source": [
    "Fdh stuff"
   ]
  },
  {
   "cell_type": "code",
   "execution_count": null,
   "metadata": {},
   "outputs": [],
   "source": [
    "# Choose a substrate and iterate from start to end value (must be doubles) in increment values\n",
    "for EC11719 in np.arange(0.0, 1.2, 0.2):\n",
    "    r_biosyn.reset() # reset the SBML values each loop iteration\n",
    "    r_biosyn.EC11719 = EC11719 \n",
    "    m = r_biosyn.simulate (0, 8*60*60, ['time', 'C00011']) # simulate model, this version specifies which values to take note of\n",
    "    te.plotArray (m, show=False, labels=['Fdh='+str(EC11719)], resetColorCycle=False, xlabel=\"Time (s)\", ylabel=\"[NADH] (mM)\", title=\"Concentration of NADH over Time\") # add that simulation to plot"
   ]
  },
  {
   "cell_type": "markdown",
   "metadata": {},
   "source": [
    "Endogenous metabolomics analysis"
   ]
  },
  {
   "cell_type": "code",
   "execution_count": 10,
   "metadata": {},
   "outputs": [],
   "source": [
    "r.reset()\n",
    "r.setValue('init(dilution_factor)',1/200)\n",
    "r.C00149 = 1\n",
    "spiked_results = r.simulate(0, 8*60*60)"
   ]
  },
  {
   "cell_type": "code",
   "execution_count": 11,
   "metadata": {},
   "outputs": [],
   "source": [
    "r.reset()\n",
    "r.setValue('init(dilution_factor)',1/200)\n",
    "r.C00149 = 0\n",
    "base_results = r.simulate(0, 8*60*60)"
   ]
  },
  {
   "cell_type": "code",
   "execution_count": null,
   "metadata": {},
   "outputs": [],
   "source": [
    "import matplotlib.pyplot as plt\n",
    "\n",
    "# Assuming 'base_results' and 'spiked_results' are already defined\n",
    "\n",
    "# Create a figure and three subplots in one row\n",
    "fig, axs = plt.subplots(1, 3, figsize=(15, 5))\n",
    "\n",
    "# First plot: Fumarate\n",
    "time_biosyn = base_results['time']\n",
    "fumarate_base = base_results['[C00122]']\n",
    "fumarate_spiked = spiked_results['[C00122]']\n",
    "\n",
    "axs[0].plot(time_biosyn, fumarate_base, 'gray', label=\"Empty\")\n",
    "axs[0].plot(time_biosyn, fumarate_spiked, 'red', label=\"+ Malate\")\n",
    "axs[0].legend()\n",
    "axs[0].set_title(\"Fumarate\")\n",
    "axs[0].set_xlabel(\"Time (s)\")\n",
    "axs[0].set_ylabel(\"[Fumarate] (mM)\")\n",
    "\n",
    "# Second plot: Succinate\n",
    "succinate_base = base_results['[C00042]']\n",
    "succinate_spiked = spiked_results['[C00042]']\n",
    "\n",
    "axs[1].plot(time_biosyn, succinate_base, 'gray', label=\"Empty\")\n",
    "axs[1].plot(time_biosyn, succinate_spiked, 'red', label=\"+ Malate\")\n",
    "axs[1].legend()\n",
    "axs[1].set_title(\"Succinate\")\n",
    "axs[1].set_xlabel(\"Time (s)\")\n",
    "axs[1].set_ylabel(\"[Succinate] (mM)\")\n",
    "\n",
    "# Third plot: Glyoxylate\n",
    "glyoxylate_base = base_results['[C00048]']\n",
    "glyoxylate_spiked = spiked_results['[C00048]']\n",
    "\n",
    "axs[2].plot(time_biosyn, glyoxylate_base, 'gray', label=\"Empty\")\n",
    "axs[2].plot(time_biosyn, glyoxylate_spiked, 'red', label=\"+ Malate\")\n",
    "axs[2].legend()\n",
    "axs[2].set_title(\"Glyoxylate\")\n",
    "axs[2].set_xlabel(\"Time (s)\")\n",
    "axs[2].set_ylabel(\"[Glyoxylate] (mM)\")\n",
    "\n",
    "# Adjust layout to avoid overlap\n",
    "plt.tight_layout()\n",
    "\n",
    "# Show the plot\n",
    "plt.show()"
   ]
  },
  {
   "cell_type": "code",
   "execution_count": null,
   "metadata": {},
   "outputs": [],
   "source": [
    "# Create a figure and three subplots in one row\n",
    "fig, axs = plt.subplots(1, 2, figsize=(10, 5))\n",
    "\n",
    "# First plot: Pyruvate\n",
    "time_biosyn = base_results['time']\n",
    "pyruvate_base = base_results['[C00022]']\n",
    "pyruvate_spiked = spiked_results['[C00022]']\n",
    "\n",
    "axs[0].plot(time_biosyn, pyruvate_base, 'gray', label=\"Empty\")\n",
    "axs[0].plot(time_biosyn, pyruvate_spiked, 'red', label=\"+ Malate\")\n",
    "axs[0].legend()\n",
    "axs[0].set_title(\"Pyruvate\")\n",
    "axs[0].set_xlabel(\"Time (s)\")\n",
    "axs[0].set_ylabel(\"[Pyruvate] (mM)\")\n",
    "\n",
    "# Second plot: Malate\n",
    "malate_base = base_results['[C00149]']\n",
    "malate_spiked = spiked_results['[C00149]']\n",
    "\n",
    "axs[1].plot(time_biosyn, malate_base, 'gray', label=\"Empty\")\n",
    "axs[1].plot(time_biosyn, malate_spiked, 'red', label=\"+ Malate\")\n",
    "axs[1].legend()\n",
    "axs[1].set_title(\"Malate\")\n",
    "axs[1].set_xlabel(\"Time (s)\")\n",
    "axs[1].set_ylabel(\"[Malate] (mM)\")\n",
    "\n",
    "# Adjust layout to avoid overlap\n",
    "plt.tight_layout()\n",
    "\n",
    "# Show the plot\n",
    "plt.show()"
   ]
  },
  {
   "cell_type": "code",
   "execution_count": 17,
   "metadata": {},
   "outputs": [],
   "source": [
    "r.reset()\n",
    "r.setValue('init(dilution_factor)',1/200)\n",
    "r.C00022 = 1\n",
    "spiked_results = r.simulate(0, 8*60*60)"
   ]
  },
  {
   "cell_type": "code",
   "execution_count": 18,
   "metadata": {},
   "outputs": [],
   "source": [
    "r.reset()\n",
    "r.setValue('init(dilution_factor)',1/200)\n",
    "r.C00022 = 0\n",
    "base_results = r.simulate(0, 8*60*60)"
   ]
  },
  {
   "cell_type": "code",
   "execution_count": null,
   "metadata": {},
   "outputs": [],
   "source": [
    "# Create a figure and three subplots in one row\n",
    "fig, axs = plt.subplots(1, 2, figsize=(10, 5))\n",
    "\n",
    "# First plot: Pyruvate\n",
    "time_biosyn = base_results['time']\n",
    "pyruvate_base = base_results['[C00022]']\n",
    "pyruvate_spiked = spiked_results['[C00022]']\n",
    "\n",
    "axs[0].plot(time_biosyn, pyruvate_base, 'gray', label=\"Empty\")\n",
    "axs[0].plot(time_biosyn, pyruvate_spiked, 'red', label=\"+ Pyruvate\")\n",
    "axs[0].legend()\n",
    "axs[0].set_title(\"Pyruvate\")\n",
    "axs[0].set_xlabel(\"Time (s)\")\n",
    "axs[0].set_ylabel(\"[Pyruvate] (mM)\")\n",
    "\n",
    "# Second plot: Malate\n",
    "malate_base = base_results['[C00149]']\n",
    "malate_spiked = spiked_results['[C00149]']\n",
    "\n",
    "axs[1].plot(time_biosyn, malate_base, 'gray', label=\"Empty\")\n",
    "axs[1].plot(time_biosyn, malate_spiked, 'red', label=\"+ Pyruvate\")\n",
    "axs[1].legend()\n",
    "axs[1].set_title(\"Malate\")\n",
    "axs[1].set_xlabel(\"Time (s)\")\n",
    "axs[1].set_ylabel(\"[Malate] (mM)\")\n",
    "\n",
    "# Adjust layout to avoid overlap\n",
    "plt.tight_layout()\n",
    "\n",
    "# Show the plot\n",
    "plt.show()"
   ]
  },
  {
   "cell_type": "code",
   "execution_count": 14,
   "metadata": {},
   "outputs": [],
   "source": [
    "r.reset()\n",
    "r.setValue('init(dilution_factor)',1/200)\n",
    "r.C00065 = 1\n",
    "serine_spiked = r.simulate(0, 8*60*60)"
   ]
  },
  {
   "cell_type": "code",
   "execution_count": 15,
   "metadata": {},
   "outputs": [],
   "source": [
    "r.reset()\n",
    "r.setValue('init(dilution_factor)',1/200)\n",
    "r.C00037 = 1\n",
    "glycine_spiked = r.simulate(0, 8*60*60)"
   ]
  },
  {
   "cell_type": "code",
   "execution_count": null,
   "metadata": {},
   "outputs": [],
   "source": [
    "# Create a figure and three subplots in one row\n",
    "fig, axs = plt.subplots(1, 2, figsize=(10, 5))\n",
    "\n",
    "# First plot: Glycine Spiked, Measuring Serine\n",
    "time_biosyn = base_results['time']\n",
    "serb = base_results['[C00065]']\n",
    "sers = glycine_spiked['[C00065]']\n",
    "\n",
    "axs[0].plot(time_biosyn, serb, 'gray', label=\"Empty\")\n",
    "axs[0].plot(time_biosyn, sers, 'red', label=\"+ Glycine\")\n",
    "axs[0].legend()\n",
    "axs[0].set_title(\"Serine\")\n",
    "axs[0].set_xlabel(\"Time (s)\")\n",
    "axs[0].set_ylabel(\"[Serine] (mM)\")\n",
    "\n",
    "# Second plot: Serine Spiked, Measuring Glycine\n",
    "time_biosyn = base_results['time']\n",
    "glyb = base_results['[C00037]']\n",
    "glys = serine_spiked['[C00037]']\n",
    "\n",
    "axs[1].plot(time_biosyn, glyb, 'gray', label=\"Empty\")\n",
    "axs[1].plot(time_biosyn, glys, 'red', label=\"+ Serine\")\n",
    "axs[1].legend()\n",
    "axs[1].set_title(\"Glycine\")\n",
    "axs[1].set_xlabel(\"Time (s)\")\n",
    "axs[1].set_ylabel(\"[Glycine] (mM)\")\n",
    "\n",
    "# Adjust layout to avoid overlap\n",
    "plt.tight_layout()\n",
    "\n",
    "# Show the plot\n",
    "plt.show()"
   ]
  },
  {
   "cell_type": "markdown",
   "metadata": {},
   "source": [
    "Mdh analysis"
   ]
  },
  {
   "cell_type": "code",
   "execution_count": 39,
   "metadata": {},
   "outputs": [],
   "source": [
    "r_biosyn.reset()\n",
    "r_biosyn.setValue('init(dilution_factor)',1/200)\n",
    "r_biosyn.C00036 = 1\n",
    "r_biosyn.C00004 = 1\n",
    "r_biosyn.EC11719 = 0\n",
    "r_biosyn.EC11137 = 0.061\n",
    "r_biosyn.EC6411 = 0\n",
    "r_biosyn.EC43117 = 0\n",
    "\n",
    "mdh = r_biosyn.simulate(0, 8*60*60)"
   ]
  },
  {
   "cell_type": "code",
   "execution_count": 40,
   "metadata": {},
   "outputs": [],
   "source": [
    "r_biosyn.reset()\n",
    "r_biosyn.setValue('init(dilution_factor)',1/200)\n",
    "r_biosyn.C00036 = 1\n",
    "r_biosyn.C00004 = 1\n",
    "r_biosyn.EC11719 = 0\n",
    "r_biosyn.EC11137 = 0\n",
    "r_biosyn.EC6411 = 0\n",
    "r_biosyn.EC43117 = 0\n",
    "\n",
    "neg = r_biosyn.simulate(0, 8*60*60)"
   ]
  },
  {
   "cell_type": "code",
   "execution_count": null,
   "metadata": {},
   "outputs": [],
   "source": [
    "time_biosyn = neg['time']\n",
    "malate_base = neg['[C00149]']\n",
    "malate_mdh = mdh['[C00149]']\n",
    "\n",
    "plt.plot(time_biosyn, malate_base, 'gray', label = \"- Mdh\")\n",
    "plt.plot(time_biosyn, malate_mdh, 'red', label = \"+ Mdh\")\n",
    "\n",
    "plt.legend()\n",
    "plt.title(\"Malate\")\n",
    "plt.xlabel(\"Time (s)\")\n",
    "plt.ylabel(\"[Malate] (mM)\")\n",
    "time_biosyn = base_results['time']\n",
    "succinate_base = base_results['[C00149]']\n",
    "succinate_spiked = spiked_results['[C00149]']"
   ]
  },
  {
   "cell_type": "code",
   "execution_count": 176,
   "metadata": {},
   "outputs": [],
   "source": [
    "r_biosyn.reset()\n",
    "r_biosyn.setValue('init(dilution_factor)',1/200)\n",
    "r_biosyn.C00036 = 1\n",
    "r_biosyn.C00003 = 1\n",
    "r_biosyn.C00058 = 1\n",
    "r_biosyn.EC11719 = 0.0122\n",
    "r_biosyn.EC11137 = 0.061\n",
    "r_biosyn.EC6411 = 0\n",
    "r_biosyn.EC43117 = 0\n",
    "\n",
    "fdh = r_biosyn.simulate(0, 24*60*60)"
   ]
  },
  {
   "cell_type": "code",
   "execution_count": 177,
   "metadata": {},
   "outputs": [],
   "source": [
    "r_biosyn.reset()\n",
    "r_biosyn.setValue('init(dilution_factor)',1/200)\n",
    "r_biosyn.C00036 = 1\n",
    "r_biosyn.C00003 = 1\n",
    "r_biosyn.C00058 = 1\n",
    "r_biosyn.EC11719 = 0\n",
    "r_biosyn.EC11137 = 0.061\n",
    "r_biosyn.EC6411 = 0\n",
    "r_biosyn.EC43117 = 0\n",
    "\n",
    "neg = r_biosyn.simulate(0, 24*60*60)"
   ]
  },
  {
   "cell_type": "code",
   "execution_count": 178,
   "metadata": {},
   "outputs": [],
   "source": [
    "nadh_neg = neg['[C00004]'][-1]\n",
    "nadh_fdh = fdh['[C00004]'][-1]\n",
    "\n",
    "mal_neg = neg['[C00149]'][-1]\n",
    "mal_fdh = fdh['[C00149]'][-1]"
   ]
  },
  {
   "cell_type": "code",
   "execution_count": null,
   "metadata": {},
   "outputs": [],
   "source": [
    "fig, axs = plt.subplots(1, 2, figsize=(5, 5))\n",
    "\n",
    "conditions = ['+ Fdh', '- Fdh']\n",
    "values = [nadh_fdh, nadh_neg]\n",
    "\n",
    "axs[0].bar(conditions, values, color ='maroon', width = 0.4)\n",
    "axs[0].set_ylabel('[NADH] (mM)')\n",
    "\n",
    "conditions = ['+ Fdh', '- Fdh']\n",
    "values = [mal_fdh, mal_neg]\n",
    "\n",
    "axs[1].bar(conditions, values, color ='maroon', width = 0.4)\n",
    "axs[1].set_ylabel('[Malate] (mM)')\n",
    "\n",
    "# Adjust layout to avoid overlap\n",
    "plt.tight_layout()\n",
    "\n",
    "# Show the plot\n",
    "plt.show()"
   ]
  },
  {
   "cell_type": "markdown",
   "metadata": {},
   "source": [
    "Dilution conditions"
   ]
  },
  {
   "cell_type": "code",
   "execution_count": 180,
   "metadata": {},
   "outputs": [],
   "source": [
    "r_biosyn.reset()\n",
    "r_biosyn.setValue('init(dilution_factor)',1/10)\n",
    "r_biosyn.C00036 = 1\n",
    "r_biosyn.C00004 = 1\n",
    "r_biosyn.C00058 = 10\n",
    "r_biosyn.EC11719 = 0.0122\n",
    "r_biosyn.EC11137 = 0.061\n",
    "r_biosyn.EC6411 = 0\n",
    "r_biosyn.EC43117 = 0\n",
    "\n",
    "fdh10 = r_biosyn.simulate(0, 4*60*60)"
   ]
  },
  {
   "cell_type": "code",
   "execution_count": 181,
   "metadata": {},
   "outputs": [],
   "source": [
    "r_biosyn.reset()\n",
    "r_biosyn.setValue('init(dilution_factor)',1/10)\n",
    "r_biosyn.C00036 = 1\n",
    "r_biosyn.C00004 = 1\n",
    "r_biosyn.C00058 = 10\n",
    "r_biosyn.EC11719 = 0.0122\n",
    "r_biosyn.EC11137 = 0\n",
    "r_biosyn.EC6411 = 0\n",
    "r_biosyn.EC43117 = 0\n",
    "\n",
    "neg10 = r_biosyn.simulate(0, 4*60*60)"
   ]
  },
  {
   "cell_type": "code",
   "execution_count": 182,
   "metadata": {},
   "outputs": [],
   "source": [
    "r_biosyn.reset()\n",
    "r_biosyn.setValue('init(dilution_factor)',1/50)\n",
    "r_biosyn.C00036 = 1\n",
    "r_biosyn.C00004 = 1\n",
    "r_biosyn.C00058 = 10\n",
    "r_biosyn.EC11719 = 0.0122\n",
    "r_biosyn.EC11137 = 0.061\n",
    "r_biosyn.EC6411 = 0\n",
    "r_biosyn.EC43117 = 0\n",
    "\n",
    "fdh50 = r_biosyn.simulate(0, 4*60*60)"
   ]
  },
  {
   "cell_type": "code",
   "execution_count": 183,
   "metadata": {},
   "outputs": [],
   "source": [
    "r_biosyn.reset()\n",
    "r_biosyn.setValue('init(dilution_factor)',1/50)\n",
    "r_biosyn.C00036 = 1\n",
    "r_biosyn.C00004 = 1\n",
    "r_biosyn.C00058 = 10\n",
    "r_biosyn.EC11719 = 0.0122\n",
    "r_biosyn.EC11137 = 0\n",
    "r_biosyn.EC6411 = 0\n",
    "r_biosyn.EC43117 = 0\n",
    "\n",
    "neg50 = r_biosyn.simulate(0, 4*60*60)"
   ]
  },
  {
   "cell_type": "code",
   "execution_count": 184,
   "metadata": {},
   "outputs": [],
   "source": [
    "r_biosyn.reset()\n",
    "r_biosyn.setValue('init(dilution_factor)',1/200)\n",
    "r_biosyn.C00036 = 1\n",
    "r_biosyn.C00004 = 1\n",
    "r_biosyn.C00058 = 10\n",
    "r_biosyn.EC11719 = 0.0122\n",
    "r_biosyn.EC11137 = 0.061\n",
    "r_biosyn.EC6411 = 0\n",
    "r_biosyn.EC43117 = 0\n",
    "\n",
    "fdh200 = r_biosyn.simulate(0, 4*60*60)"
   ]
  },
  {
   "cell_type": "code",
   "execution_count": 185,
   "metadata": {},
   "outputs": [],
   "source": [
    "r_biosyn.reset()\n",
    "r_biosyn.setValue('init(dilution_factor)',1/200)\n",
    "r_biosyn.C00036 = 1\n",
    "r_biosyn.C00004 = 1\n",
    "r_biosyn.C00058 = 10\n",
    "r_biosyn.EC11719 = 0.0122\n",
    "r_biosyn.EC11137 = 0\n",
    "r_biosyn.EC6411 = 0\n",
    "r_biosyn.EC43117 = 0\n",
    "\n",
    "neg200 = r_biosyn.simulate(0, 4*60*60)"
   ]
  },
  {
   "cell_type": "code",
   "execution_count": 186,
   "metadata": {},
   "outputs": [],
   "source": [
    "mal_neg10 = neg10['[C00149]'][-1]\n",
    "mal_fdh10 = fdh10['[C00149]'][-1]\n",
    "\n",
    "mal_neg50 = neg50['[C00149]'][-1]\n",
    "mal_fdh50 = fdh50['[C00149]'][-1]\n",
    "\n",
    "mal_neg200 = neg200['[C00149]'][-1]\n",
    "mal_fdh200 = fdh200['[C00149]'][-1]"
   ]
  },
  {
   "cell_type": "code",
   "execution_count": null,
   "metadata": {},
   "outputs": [],
   "source": [
    "# Grouped data\n",
    "neg_values = [mal_neg10, mal_neg50, mal_neg200]\n",
    "fdh_values = [mal_fdh10, mal_fdh50, mal_fdh200]\n",
    "x_labels = [10, 50, 200]  # X-axis labels\n",
    "\n",
    "# Set up the bar width and x-axis locations\n",
    "bar_width = 0.15  # Width of bars\n",
    "x = np.arange(len(x_labels))  # X locations for the groups\n",
    "\n",
    "# Create the plot\n",
    "fig, ax = plt.subplots(figsize=(4, 5))\n",
    "\n",
    "# Plot bars for 'neg' and 'fdh'\n",
    "bars1 = ax.bar(x - bar_width/2, fdh_values, bar_width, label='+ mdh', color='red')\n",
    "bars2 = ax.bar(x + bar_width/2, neg_values, bar_width, label='- mdh', color='gray')\n",
    "\n",
    "# Add labels, title, and custom x-axis tick labels\n",
    "ax.set_xlabel('Dilution Factor')\n",
    "ax.set_ylabel('[Malate] (mM)')\n",
    "ax.set_xticks(x)\n",
    "ax.set_xticklabels(x_labels)\n",
    "\n",
    "# Add a legend\n",
    "ax.legend()\n",
    "\n",
    "# Display the plot\n",
    "plt.tight_layout()\n",
    "plt.show()"
   ]
  },
  {
   "cell_type": "markdown",
   "metadata": {},
   "source": [
    "Inhibitor and Pyc"
   ]
  },
  {
   "cell_type": "code",
   "execution_count": 188,
   "metadata": {},
   "outputs": [],
   "source": [
    "r_biosyn.reset()\n",
    "r_biosyn.setValue('init(dilution_factor)',1/200)\n",
    "r_biosyn.C00022 = 1\n",
    "r_biosyn.C00288 = 5\n",
    "r_biosyn.C00002 = 1\n",
    "r_biosyn.C00033 = 2\n",
    "r_biosyn.C00024 = 1\n",
    "r_biosyn.C00004 = 1\n",
    "r_biosyn.C00058 = 15\n",
    "r.C00158HCT = 10\n",
    "r_biosyn.EC11719 = 0.0122\n",
    "r_biosyn.EC11137 = 0.061\n",
    "r_biosyn.EC6411 = 0.0488\n",
    "r_biosyn.EC43117 = 0\n",
    "\n",
    "pyc_in = r_biosyn.simulate(0, 4*60*60)"
   ]
  },
  {
   "cell_type": "code",
   "execution_count": 189,
   "metadata": {},
   "outputs": [],
   "source": [
    "r_biosyn.reset()\n",
    "r_biosyn.setValue('init(dilution_factor)',1/200)\n",
    "r_biosyn.C00022 = 1\n",
    "r_biosyn.C00288 = 5\n",
    "r_biosyn.C00002 = 1\n",
    "r_biosyn.C00033 = 2\n",
    "r_biosyn.C00024 = 1\n",
    "r_biosyn.C00004 = 1\n",
    "r_biosyn.C00058 = 15\n",
    "r.C00158HCT = 10\n",
    "r_biosyn.EC11719 = 0.0122\n",
    "r_biosyn.EC11137 = 0.061\n",
    "r_biosyn.EC6411 = 0\n",
    "r_biosyn.EC43117 = 0\n",
    "\n",
    "neg_in = r_biosyn.simulate(0, 4*60*60)"
   ]
  },
  {
   "cell_type": "code",
   "execution_count": 190,
   "metadata": {},
   "outputs": [],
   "source": [
    "r_biosyn.reset()\n",
    "r_biosyn.setValue('init(dilution_factor)',1/200)\n",
    "r_biosyn.C00022 = 1\n",
    "r_biosyn.C00288 = 5\n",
    "r_biosyn.C00002 = 1\n",
    "r_biosyn.C00033 = 2\n",
    "r_biosyn.C00024 = 1\n",
    "r_biosyn.C00004 = 1\n",
    "r_biosyn.C00058 = 15\n",
    "r.C00158HCT = 0\n",
    "r_biosyn.EC11719 = 0.0122\n",
    "r_biosyn.EC11137 = 0.061\n",
    "r_biosyn.EC6411 = 0.0488\n",
    "r_biosyn.EC43117 = 0\n",
    "\n",
    "pyc_na = r_biosyn.simulate(0, 4*60*60)"
   ]
  },
  {
   "cell_type": "code",
   "execution_count": 191,
   "metadata": {},
   "outputs": [],
   "source": [
    "r_biosyn.reset()\n",
    "r_biosyn.setValue('init(dilution_factor)',1/200)\n",
    "r_biosyn.C00022 = 1\n",
    "r_biosyn.C00288 = 5\n",
    "r_biosyn.C00002 = 1\n",
    "r_biosyn.C00033 = 2\n",
    "r_biosyn.C00024 = 1\n",
    "r_biosyn.C00004 = 1\n",
    "r_biosyn.C00058 = 15\n",
    "r.C00158HCT = 0\n",
    "r_biosyn.EC11719 = 0.0122\n",
    "r_biosyn.EC11137 = 0.061\n",
    "r_biosyn.EC6411 = 0\n",
    "r_biosyn.EC43117 = 0\n",
    "\n",
    "neg_na = r_biosyn.simulate(0, 4*60*60)"
   ]
  },
  {
   "cell_type": "code",
   "execution_count": null,
   "metadata": {},
   "outputs": [],
   "source": [
    "# Create a figure and three subplots in one row\n",
    "fig, axs = plt.subplots(1, 2, figsize=(10, 5))\n",
    "\n",
    "# Second plot: Serine Spiked, Measuring Glycine\n",
    "time_biosyn = base_results['time']\n",
    "pyc_na_results = pyc_na['[C00149]']\n",
    "neg_na_results = neg_na['[C00149]']\n",
    "\n",
    "axs[0].plot(time_biosyn, neg_na_results, 'gray', label=\"- Pyc\")\n",
    "axs[0].plot(time_biosyn, pyc_na_results, 'red', label=\"+ Pyc\")\n",
    "axs[0].legend()\n",
    "axs[0].set_title(\"200x dilution -HCT\")\n",
    "axs[0].set_xlabel(\"Time (s)\")\n",
    "axs[0].set_ylabel(\"[Malate] (mM)\")\n",
    "\n",
    "# First plot: Glycine Spiked, Measuring Serine\n",
    "time_biosyn = pyc_in['time']\n",
    "pyc_in_results = pyc_in['[C00149]']\n",
    "neg_in_results = neg_in['[C00149]']\n",
    "\n",
    "axs[1].plot(time_biosyn, neg_in_results, 'gray', label=\"- Pyc\")\n",
    "axs[1].plot(time_biosyn, pyc_in_results, 'red', label=\"+ Pyc\")\n",
    "axs[1].legend()\n",
    "axs[1].set_title(\"200x dilution +HCT\")\n",
    "axs[1].set_xlabel(\"Time (s)\")\n",
    "axs[1].set_ylabel(\"[Malate] (mM)\")\n",
    "\n",
    "# Adjust layout to avoid overlap\n",
    "plt.tight_layout()\n",
    "\n",
    "# Show the plot\n",
    "plt.show()"
   ]
  },
  {
   "cell_type": "markdown",
   "metadata": {},
   "source": [
    "All factors"
   ]
  },
  {
   "cell_type": "code",
   "execution_count": 193,
   "metadata": {},
   "outputs": [],
   "source": [
    "r_biosyn.reset()\n",
    "r_biosyn.setValue('init(dilution_factor)',1)\n",
    "r_biosyn.C00022 = 1\n",
    "r_biosyn.C00288 = 10\n",
    "r_biosyn.C00002 = 1\n",
    "r_biosyn.C00024 = 1\n",
    "r_biosyn.C00120 = 0.1\n",
    "r_biosyn.C00033 = 2\n",
    "r_biosyn.C00004 = 1\n",
    "r_biosyn.C00058 = 10\n",
    "r.C00158HCT = 0\n",
    "r_biosyn.EC11719 = 0.0122\n",
    "r_biosyn.EC11137 = 0.061\n",
    "r_biosyn.EC6411 = 0\n",
    "r_biosyn.EC43117 = 0\n",
    "\n",
    "emp_un_conc = r_biosyn.simulate(0, 4*60*60)"
   ]
  },
  {
   "cell_type": "code",
   "execution_count": 194,
   "metadata": {},
   "outputs": [],
   "source": [
    "r_biosyn.reset()\n",
    "r_biosyn.setValue('init(dilution_factor)',1)\n",
    "r_biosyn.C00022 = 1\n",
    "r_biosyn.C00288 = 10\n",
    "r_biosyn.C00002 = 1\n",
    "r_biosyn.C00024 = 1\n",
    "r_biosyn.C00120 = 0.1\n",
    "r_biosyn.C00033 = 2\n",
    "r_biosyn.C00004 = 1\n",
    "r_biosyn.C00058 = 10\n",
    "r.C00158HCT = 0\n",
    "r_biosyn.EC11719 = 0.0122\n",
    "r_biosyn.EC11137 = 0.061\n",
    "r_biosyn.EC6411 = 0.0488\n",
    "r_biosyn.EC43117 = 0\n",
    "\n",
    "pyc_un_conc = r_biosyn.simulate(0, 4*60*60)"
   ]
  },
  {
   "cell_type": "code",
   "execution_count": 195,
   "metadata": {},
   "outputs": [],
   "source": [
    "r_biosyn.reset()\n",
    "r_biosyn.setValue('init(dilution_factor)',1)\n",
    "r_biosyn.C00022 = 1\n",
    "r_biosyn.C00288 = 10\n",
    "r_biosyn.C00002 = 1\n",
    "r_biosyn.C00024 = 1\n",
    "r_biosyn.C00120 = 0.1\n",
    "r_biosyn.C00033 = 2\n",
    "r_biosyn.C00004 = 1\n",
    "r_biosyn.C00058 = 10\n",
    "r.C00158HCT = 10\n",
    "r_biosyn.EC11719 = 0.0122\n",
    "r_biosyn.EC11137 = 0.061\n",
    "r_biosyn.EC6411 = 0\n",
    "r_biosyn.EC43117 = 0\n",
    "\n",
    "empty_in_conc = r_biosyn.simulate(0, 4*60*60)"
   ]
  },
  {
   "cell_type": "code",
   "execution_count": 196,
   "metadata": {},
   "outputs": [],
   "source": [
    "r_biosyn.reset()\n",
    "r_biosyn.setValue('init(dilution_factor)',1)\n",
    "r_biosyn.C00022 = 1\n",
    "r_biosyn.C00288 = 10\n",
    "r_biosyn.C00002 = 1\n",
    "r_biosyn.C00024 = 1\n",
    "r_biosyn.C00120 = 0.1\n",
    "r_biosyn.C00033 = 2\n",
    "r_biosyn.C00004 = 1\n",
    "r_biosyn.C00058 = 10\n",
    "r.C00158HCT = 10\n",
    "r_biosyn.EC11719 = 0.0122\n",
    "r_biosyn.EC11137 = 0.061\n",
    "r_biosyn.EC6411 = 0.0488\n",
    "r_biosyn.EC43117 = 0\n",
    "\n",
    "pyc_in_conc = r_biosyn.simulate(0, 4*60*60)"
   ]
  },
  {
   "cell_type": "code",
   "execution_count": 197,
   "metadata": {},
   "outputs": [],
   "source": [
    "r_biosyn.reset()\n",
    "r_biosyn.setValue('init(dilution_factor)',1/200)\n",
    "r_biosyn.C00022 = 1\n",
    "r_biosyn.C00288 = 10\n",
    "r_biosyn.C00002 = 1\n",
    "r_biosyn.C00024 = 1\n",
    "r_biosyn.C00120 = 0.1\n",
    "r_biosyn.C00033 = 2\n",
    "r_biosyn.C00004 = 1\n",
    "r_biosyn.C00058 = 10\n",
    "r.C00158HCT = 0\n",
    "r_biosyn.EC11719 = 0.0122\n",
    "r_biosyn.EC11137 = 0.061\n",
    "r_biosyn.EC6411 = 0\n",
    "r_biosyn.EC43117 = 0\n",
    "\n",
    "empty_un_dil = r_biosyn.simulate(0, 4*60*60)"
   ]
  },
  {
   "cell_type": "code",
   "execution_count": 198,
   "metadata": {},
   "outputs": [],
   "source": [
    "r_biosyn.reset()\n",
    "r_biosyn.setValue('init(dilution_factor)',1/200)\n",
    "r_biosyn.C00022 = 1\n",
    "r_biosyn.C00288 = 10\n",
    "r_biosyn.C00002 = 1\n",
    "r_biosyn.C00024 = 1\n",
    "r_biosyn.C00120 = 0.1\n",
    "r_biosyn.C00033 = 2\n",
    "r_biosyn.C00004 = 1\n",
    "r_biosyn.C00058 = 10\n",
    "r.C00158HCT = 0\n",
    "r_biosyn.EC11719 = 0.0122\n",
    "r_biosyn.EC11137 = 0.061\n",
    "r_biosyn.EC6411 = 0.0488\n",
    "r_biosyn.EC43117 = 0\n",
    "pyc_un_dil = r_biosyn.simulate(0, 4*60*60)"
   ]
  },
  {
   "cell_type": "code",
   "execution_count": 199,
   "metadata": {},
   "outputs": [],
   "source": [
    "r_biosyn.reset()\n",
    "r_biosyn.setValue('init(dilution_factor)',1/200)\n",
    "r_biosyn.C00022 = 1\n",
    "r_biosyn.C00288 = 10\n",
    "r_biosyn.C00002 = 1\n",
    "r_biosyn.C00024 = 1\n",
    "r_biosyn.C00120 = 0.1\n",
    "r_biosyn.C00033 = 2\n",
    "r_biosyn.C00004 = 1\n",
    "r_biosyn.C00058 = 10\n",
    "r.C00158HCT = 10\n",
    "r_biosyn.EC11719 = 0.0122\n",
    "r_biosyn.EC11137 = 0.061\n",
    "r_biosyn.EC6411 = 0\n",
    "r_biosyn.EC43117 = 0\n",
    "\n",
    "empty_in_dil = r_biosyn.simulate(0, 4*60*60)"
   ]
  },
  {
   "cell_type": "code",
   "execution_count": 200,
   "metadata": {},
   "outputs": [],
   "source": [
    "r_biosyn.reset()\n",
    "r_biosyn.setValue('init(dilution_factor)',1/200)\n",
    "r_biosyn.C00022 = 1\n",
    "r_biosyn.C00288 = 10\n",
    "r_biosyn.C00002 = 1\n",
    "r_biosyn.C00024 = 1\n",
    "r_biosyn.C00120 = 0.1\n",
    "r_biosyn.C00033 = 2\n",
    "r_biosyn.C00004 = 1\n",
    "r_biosyn.C00058 = 10\n",
    "r.C00158HCT = 10\n",
    "r_biosyn.EC11719 = 0.0122\n",
    "r_biosyn.EC11137 = 0.061\n",
    "r_biosyn.EC6411 = 0.0488\n",
    "r_biosyn.EC43117 = 0\n",
    "\n",
    "pyc_in_dil = r_biosyn.simulate(0, 4*60*60)"
   ]
  },
  {
   "cell_type": "code",
   "execution_count": 201,
   "metadata": {},
   "outputs": [],
   "source": [
    "results = []\n",
    "for sim in [emp_un_conc, pyc_un_conc, empty_in_conc, pyc_in_conc, empty_un_dil, pyc_un_dil, empty_in_dil, pyc_in_dil]:\n",
    "    results.append(sim['[C00149]'][-1])"
   ]
  },
  {
   "cell_type": "code",
   "execution_count": null,
   "metadata": {},
   "outputs": [],
   "source": [
    "conditions = ['-Pyc-HCT-Dil', '+Pyc-HCT-Dil', '-Pyc+HCT-Dil', '+Pyc+HCT-Dil', '-Pyc-HCT+Dil', '+Pyc-HCT+Dil', '-Pyc+HCT+Dil', '+Pyc+HCT+Dil']\n",
    "#values = [emp_un_conc, pyc_un_conc, empty_in_conc, pyc_in_conc, empty_un_dil, pyc_un_dil, empty_in_dil, pyc_in_dil]\n",
    "\n",
    "plt.bar(conditions, results, color ='maroon', width = 0.4)\n",
    "plt.ylabel('[Malate] (mM)')\n",
    "plt.xticks(rotation=45)"
   ]
  },
  {
   "cell_type": "code",
   "execution_count": null,
   "metadata": {},
   "outputs": [],
   "source": []
  }
 ],
 "metadata": {
  "kernelspec": {
   "display_name": "arpae",
   "language": "python",
   "name": "python3"
  },
  "language_info": {
   "codemirror_mode": {
    "name": "ipython",
    "version": 3
   },
   "file_extension": ".py",
   "mimetype": "text/x-python",
   "name": "python",
   "nbconvert_exporter": "python",
   "pygments_lexer": "ipython3",
   "version": "3.12.7"
  }
 },
 "nbformat": 4,
 "nbformat_minor": 2
}
