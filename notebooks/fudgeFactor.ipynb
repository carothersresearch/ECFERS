{
 "cells": [
  {
   "cell_type": "code",
   "execution_count": 1,
   "metadata": {},
   "outputs": [],
   "source": [
    "import pandas as pd"
   ]
  },
  {
   "cell_type": "code",
   "execution_count": null,
   "metadata": {},
   "outputs": [],
   "source": [
    "# Load in the Reaction CSV for the model you want to find dead-end metabolites for\n",
    "m3 = pd.read_csv('/workspaces/ECFERS/src/frenda_brenda/Files/KEGG_Filtered/Reactions_M3.csv')"
   ]
  },
  {
   "cell_type": "code",
   "execution_count": 8,
   "metadata": {},
   "outputs": [],
   "source": [
    "def get_deadends(reaction):\n",
    "    # Extract IDs from Substrates and Products columns\n",
    "    substrates = reaction['Substrates'].str.findall(r'\\bC\\d+\\b').explode()\n",
    "    products = reaction['Products'].str.findall(r'\\bC\\d+\\b').explode()\n",
    "\n",
    "    # Combine all IDs into one series\n",
    "    all_ids = pd.concat([substrates, products])\n",
    "\n",
    "    # Count occurrences of each ID\n",
    "    id_counts = all_ids.value_counts()\n",
    "\n",
    "    # Find IDs that only appear once\n",
    "    unique_ids = id_counts[id_counts == 1].index.tolist()\n",
    "\n",
    "    return(unique_ids)"
   ]
  },
  {
   "cell_type": "code",
   "execution_count": 9,
   "metadata": {},
   "outputs": [],
   "source": [
    "unique_ids = get_deadends(m3)"
   ]
  },
  {
   "cell_type": "code",
   "execution_count": 10,
   "metadata": {},
   "outputs": [
    {
     "data": {
      "text/plain": [
       "['C02051',\n",
       " 'C15972',\n",
       " 'C05576',\n",
       " 'C00143',\n",
       " 'C00473',\n",
       " 'C00286',\n",
       " 'C06612',\n",
       " 'C00051',\n",
       " 'C00206',\n",
       " 'C00361',\n",
       " 'C00454',\n",
       " 'C00390',\n",
       " 'C06611',\n",
       " 'C05577',\n",
       " 'C16348',\n",
       " 'C06613',\n",
       " 'C00201',\n",
       " 'C00376',\n",
       " 'C02972',\n",
       " 'C15973',\n",
       " 'C00037',\n",
       " 'C00083',\n",
       " 'C00101',\n",
       " 'C03451',\n",
       " 'C00058',\n",
       " 'C00065',\n",
       " 'C00490',\n",
       " 'C00399',\n",
       " 'C00131',\n",
       " 'C00531']"
      ]
     },
     "execution_count": 10,
     "metadata": {},
     "output_type": "execute_result"
    }
   ],
   "source": [
    "unique_ids"
   ]
  }
 ],
 "metadata": {
  "kernelspec": {
   "display_name": "myenv",
   "language": "python",
   "name": "python3"
  },
  "language_info": {
   "codemirror_mode": {
    "name": "ipython",
    "version": 3
   },
   "file_extension": ".py",
   "mimetype": "text/x-python",
   "name": "python",
   "nbconvert_exporter": "python",
   "pygments_lexer": "ipython3",
   "version": "3.9.18"
  }
 },
 "nbformat": 4,
 "nbformat_minor": 2
}
