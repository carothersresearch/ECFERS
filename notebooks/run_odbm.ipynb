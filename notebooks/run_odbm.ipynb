{
 "cells": [
  {
   "cell_type": "code",
   "execution_count": 5,
   "metadata": {},
   "outputs": [
    {
     "ename": "RuntimeError",
     "evalue": "Global parameter 'Ki_C00345_R1' is missing a value.  While roadrunner gives species a default value of zero, and compartments a default value of one, it requires parameters to be initialized.  Set one by giving it a value, initial assignment, or an assignment rule.",
     "output_type": "error",
     "traceback": [
      "\u001b[0;31m---------------------------------------------------------------------------\u001b[0m",
      "\u001b[0;31mRuntimeError\u001b[0m                              Traceback (most recent call last)",
      "Cell \u001b[0;32mIn[5], line 15\u001b[0m\n\u001b[1;32m     12\u001b[0m myModel \u001b[38;5;241m=\u001b[39m ModelBuilder(model_species, model_rxns)\n\u001b[1;32m     13\u001b[0m myModel\u001b[38;5;241m.\u001b[39msaveModel(modelfile)\n\u001b[0;32m---> 15\u001b[0m r  \u001b[38;5;241m=\u001b[39m \u001b[43mte\u001b[49m\u001b[38;5;241;43m.\u001b[39;49m\u001b[43mloada\u001b[49m\u001b[43m(\u001b[49m\u001b[43mmyModel\u001b[49m\u001b[38;5;241;43m.\u001b[39;49m\u001b[43mcompile\u001b[49m\u001b[43m(\u001b[49m\u001b[43m)\u001b[49m\u001b[43m)\u001b[49m\n\u001b[1;32m     17\u001b[0m s \u001b[38;5;241m=\u001b[39m r\u001b[38;5;241m.\u001b[39msimulate(\u001b[38;5;241m0\u001b[39m,\u001b[38;5;241m10\u001b[39m)\n",
      "File \u001b[0;32m/opt/conda/envs/myenv/lib/python3.9/site-packages/tellurium/tellurium.py:522\u001b[0m, in \u001b[0;36mloada\u001b[0;34m(ant)\u001b[0m\n\u001b[1;32m    509\u001b[0m \u001b[38;5;28;01mdef\u001b[39;00m \u001b[38;5;21mloada\u001b[39m(ant):\n\u001b[1;32m    510\u001b[0m \u001b[38;5;250m    \u001b[39m\u001b[38;5;124;03m\"\"\"Load model from Antimony string.\u001b[39;00m\n\u001b[1;32m    511\u001b[0m \n\u001b[1;32m    512\u001b[0m \u001b[38;5;124;03m    See also: :func:`loadAntimonyModel`\u001b[39;00m\n\u001b[0;32m   (...)\u001b[0m\n\u001b[1;32m    520\u001b[0m \u001b[38;5;124;03m    :rtype: roadrunner.ExtendedRoadRunner\u001b[39;00m\n\u001b[1;32m    521\u001b[0m \u001b[38;5;124;03m    \"\"\"\u001b[39;00m\n\u001b[0;32m--> 522\u001b[0m     \u001b[38;5;28;01mreturn\u001b[39;00m \u001b[43mloadAntimonyModel\u001b[49m\u001b[43m(\u001b[49m\u001b[43mant\u001b[49m\u001b[43m)\u001b[49m\n",
      "File \u001b[0;32m/opt/conda/envs/myenv/lib/python3.9/site-packages/tellurium/tellurium.py:539\u001b[0m, in \u001b[0;36mloadAntimonyModel\u001b[0;34m(ant)\u001b[0m\n\u001b[1;32m    526\u001b[0m \u001b[38;5;250m\u001b[39m\u001b[38;5;124;03m\"\"\"Load Antimony model with tellurium.\u001b[39;00m\n\u001b[1;32m    527\u001b[0m \n\u001b[1;32m    528\u001b[0m \u001b[38;5;124;03mSee also: :func:`loada`\u001b[39;00m\n\u001b[0;32m   (...)\u001b[0m\n\u001b[1;32m    536\u001b[0m \u001b[38;5;124;03m:rtype: roadrunner.ExtendedRoadRunner\u001b[39;00m\n\u001b[1;32m    537\u001b[0m \u001b[38;5;124;03m\"\"\"\u001b[39;00m\n\u001b[1;32m    538\u001b[0m sbml \u001b[38;5;241m=\u001b[39m antimonyToSBML(ant)\n\u001b[0;32m--> 539\u001b[0m \u001b[38;5;28;01mreturn\u001b[39;00m \u001b[43mroadrunner\u001b[49m\u001b[38;5;241;43m.\u001b[39;49m\u001b[43mRoadRunner\u001b[49m\u001b[43m(\u001b[49m\u001b[43msbml\u001b[49m\u001b[43m)\u001b[49m\n",
      "File \u001b[0;32m/opt/conda/envs/myenv/lib/python3.9/site-packages/tellurium/roadrunner/extended_roadrunner.py:16\u001b[0m, in \u001b[0;36mExtendedRoadRunner.__init__\u001b[0;34m(self, *args, **kwargs)\u001b[0m\n\u001b[1;32m     15\u001b[0m \u001b[38;5;28;01mdef\u001b[39;00m \u001b[38;5;21m__init__\u001b[39m(\u001b[38;5;28mself\u001b[39m, \u001b[38;5;241m*\u001b[39margs, \u001b[38;5;241m*\u001b[39m\u001b[38;5;241m*\u001b[39mkwargs):\n\u001b[0;32m---> 16\u001b[0m     \u001b[38;5;28;43msuper\u001b[39;49m\u001b[43m(\u001b[49m\u001b[43mExtendedRoadRunner\u001b[49m\u001b[43m,\u001b[49m\u001b[43m \u001b[49m\u001b[38;5;28;43mself\u001b[39;49m\u001b[43m)\u001b[49m\u001b[38;5;241;43m.\u001b[39;49m\u001b[38;5;21;43m__init__\u001b[39;49m\u001b[43m(\u001b[49m\u001b[38;5;241;43m*\u001b[39;49m\u001b[43margs\u001b[49m\u001b[43m,\u001b[49m\u001b[43m \u001b[49m\u001b[38;5;241;43m*\u001b[39;49m\u001b[38;5;241;43m*\u001b[39;49m\u001b[43mkwargs\u001b[49m\u001b[43m)\u001b[49m\n",
      "File \u001b[0;32m/opt/conda/envs/myenv/lib/python3.9/site-packages/roadrunner/roadrunner.py:4536\u001b[0m, in \u001b[0;36mRoadRunner._new_init\u001b[0;34m(self, *args)\u001b[0m\n\u001b[1;32m   4533\u001b[0m             \u001b[38;5;28;01mreturn\u001b[39;00m\n\u001b[1;32m   4535\u001b[0m \u001b[38;5;66;03m# Otherwise, use regular init\u001b[39;00m\n\u001b[0;32m-> 4536\u001b[0m     \u001b[43mRoadRunner\u001b[49m\u001b[38;5;241;43m.\u001b[39;49m\u001b[43m_swig_init\u001b[49m\u001b[43m(\u001b[49m\u001b[38;5;28;43mself\u001b[39;49m\u001b[43m,\u001b[49m\u001b[43m \u001b[49m\u001b[38;5;241;43m*\u001b[39;49m\u001b[43margs\u001b[49m\u001b[43m)\u001b[49m\n\u001b[1;32m   4537\u001b[0m     RoadRunner\u001b[38;5;241m.\u001b[39m_makeProperties(\u001b[38;5;28mself\u001b[39m)\n",
      "File \u001b[0;32m/opt/conda/envs/myenv/lib/python3.9/site-packages/roadrunner/roadrunner.py:2730\u001b[0m, in \u001b[0;36mRoadRunner.__init__\u001b[0;34m(self, *args)\u001b[0m\n\u001b[1;32m   2702\u001b[0m \u001b[38;5;28;01mdef\u001b[39;00m \u001b[38;5;21m__init__\u001b[39m(\u001b[38;5;28mself\u001b[39m, \u001b[38;5;241m*\u001b[39margs):\n\u001b[1;32m   2703\u001b[0m \u001b[38;5;250m    \u001b[39m\u001b[38;5;124mr\u001b[39m\u001b[38;5;124;03m\"\"\"\u001b[39;00m\n\u001b[1;32m   2704\u001b[0m \u001b[38;5;124;03m    *Overload 1:*\u001b[39;00m\n\u001b[1;32m   2705\u001b[0m \n\u001b[0;32m   (...)\u001b[0m\n\u001b[1;32m   2728\u001b[0m \u001b[38;5;124;03m    RoadRunner copy constructor\u001b[39;00m\n\u001b[1;32m   2729\u001b[0m \u001b[38;5;124;03m    \"\"\"\u001b[39;00m\n\u001b[0;32m-> 2730\u001b[0m     _roadrunner\u001b[38;5;241m.\u001b[39mRoadRunner_swiginit(\u001b[38;5;28mself\u001b[39m, \u001b[43m_roadrunner\u001b[49m\u001b[38;5;241;43m.\u001b[39;49m\u001b[43mnew_RoadRunner\u001b[49m\u001b[43m(\u001b[49m\u001b[38;5;241;43m*\u001b[39;49m\u001b[43margs\u001b[49m\u001b[43m)\u001b[49m)\n",
      "\u001b[0;31mRuntimeError\u001b[0m: Global parameter 'Ki_C00345_R1' is missing a value.  While roadrunner gives species a default value of zero, and compartments a default value of one, it requires parameters to be initialized.  Set one by giving it a value, initial assignment, or an assignment rule."
     ]
    }
   ],
   "source": [
    "import pandas as pd\n",
    "import tellurium as te\n",
    "from src.odbm.odbm_main import ModelBuilder\n",
    "\n",
    "\n",
    "#Define DataFrames of species, reactions from input model\n",
    "model_species = pd.read_csv('src/frenda_brenda/Files/SpeciesBaseMechanisms.csv')\n",
    "model_rxns = pd.read_csv('src/frenda_brenda/Files/Reaction.csv')\n",
    "\n",
    "#Generate and save model to txt file\n",
    "modelfile = 'src/frenda_brenda/Files/240226MC_R1.txt'\n",
    "myModel = ModelBuilder(model_species, model_rxns)\n",
    "myModel.saveModel(modelfile)\n",
    "\n",
    "r  = te.loada(myModel.compile())\n",
    "\n",
    "s = r.simulate(0,10)\n",
    "\n"
   ]
  },
  {
   "cell_type": "code",
   "execution_count": 1,
   "metadata": {},
   "outputs": [],
   "source": [
    "import os\n",
    "os.chdir('/mmfs1/gscratch/cheme/dalba/repos/ECFERS')"
   ]
  },
  {
   "cell_type": "code",
   "execution_count": null,
   "metadata": {},
   "outputs": [],
   "source": []
  }
 ],
 "metadata": {
  "kernelspec": {
   "display_name": "myenv",
   "language": "python",
   "name": "myenv"
  },
  "language_info": {
   "codemirror_mode": {
    "name": "ipython",
    "version": 3
   },
   "file_extension": ".py",
   "mimetype": "text/x-python",
   "name": "python",
   "nbconvert_exporter": "python",
   "pygments_lexer": "ipython3",
   "version": "3.9.18"
  }
 },
 "nbformat": 4,
 "nbformat_minor": 2
}
