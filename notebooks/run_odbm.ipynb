{
 "cells": [
  {
   "cell_type": "code",
   "execution_count": 1,
   "metadata": {},
   "outputs": [],
   "source": [
    "import os \n",
    "os.chdir('..')\n",
    "\n",
    "import pandas as pd\n",
    "import tellurium as te\n",
    "from src.odbm.odbm_main import ModelBuilder\n"
   ]
  },
  {
   "cell_type": "code",
   "execution_count": 29,
   "metadata": {},
   "outputs": [],
   "source": [
    "#Define DataFrames of species, reactions from input model\n",
    "model_rxns = pd.read_csv('src/frenda_brenda/Files/KEGG_Filtered/Reactions_M0.csv')\n",
    "model_species = pd.read_csv('src/frenda_brenda/Files/KEGG_Filtered/SpeciesBaseMechanism_biosyn.csv')"
   ]
  },
  {
   "cell_type": "code",
   "execution_count": 30,
   "metadata": {},
   "outputs": [],
   "source": [
    "#Generate and save model to txt file\n",
    "modelfile = 'src/frenda_brenda/Files/KEGG_Filtered/M0.txt'\n",
    "myModel = ModelBuilder(model_species, model_rxns)\n",
    "myModel.saveModel(modelfile)\n",
    "\n",
    "r = []\n",
    "while not r:\n",
    "    try:\n",
    "        r  = te.loada(myModel.compile())\n",
    "    except Exception as e:\n",
    "        myModel.addSpecies(str(e).split(\"'\")[1], 0.001)\n",
    "        print(str(e).split(\"'\")[1])\n",
    "        print(e)\n",
    "\n",
    "# s = r.simulate(0,10)"
   ]
  },
  {
   "cell_type": "code",
   "execution_count": 31,
   "metadata": {},
   "outputs": [],
   "source": [
    "with open('models/240828_M0.sbml', 'w') as f:\n",
    "    # Write the data to the file\n",
    "    f.write(r.getSBML())"
   ]
  },
  {
   "cell_type": "code",
   "execution_count": null,
   "metadata": {},
   "outputs": [],
   "source": []
  }
 ],
 "metadata": {
  "kernelspec": {
   "display_name": "ODBM2",
   "language": "python",
   "name": "python3"
  },
  "language_info": {
   "codemirror_mode": {
    "name": "ipython",
    "version": 3
   },
   "file_extension": ".py",
   "mimetype": "text/x-python",
   "name": "python",
   "nbconvert_exporter": "python",
   "pygments_lexer": "ipython3",
   "version": "3.8.17"
  }
 },
 "nbformat": 4,
 "nbformat_minor": 2
}
