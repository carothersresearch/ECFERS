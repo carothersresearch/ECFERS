{
 "cells": [
  {
   "cell_type": "code",
   "execution_count": 34,
   "metadata": {},
   "outputs": [
    {
     "name": "stdout",
     "output_type": "stream",
     "text": [
      "Added species:  D00037\n",
      "Added species:  D05467\n",
      "Added species:  D08646\n",
      "Added species:  G11113\n",
      "Added species:  C00988\n",
      "Added species:  C13199\n",
      "Added species:  D01732\n",
      "Added species:  D05878\n",
      "Added species:  D02769\n",
      "Added species:  C00665\n",
      "Added species:  D02060\n",
      "Added species:  D05577\n",
      "Added species:  C20679\n",
      "Added species:  C00097\n",
      "Added species:  D00026\n",
      "Added species:  C00736\n",
      "Added species:  C01478\n",
      "Added species:  C11215\n",
      "Added species:  C02086\n",
      "Added species:  C06232\n",
      "Added species:  C00284\n",
      "Added species:  D00052\n",
      "Added species:  C18713\n",
      "Added species:  C00127\n",
      "Added species:  D00031\n",
      "Added species:  C01159\n",
      "Added species:  C00742\n",
      "Added species:  C16487\n",
      "Added species:  C00451\n",
      "Added species:  C00209\n",
      "Added species:  C00041\n",
      "Added species:  D00012\n",
      "Added species:  C01401\n",
      "Added species:  D02308\n",
      "Added species:  C00025\n",
      "Added species:  D00007\n",
      "Added species:  C00302\n",
      "Added species:  D04341\n",
      "Added species:  C05625\n",
      "Added species:  D08499\n",
      "Added species:  C00389\n",
      "Added species:  C00168\n",
      "Added species:  C00109\n",
      "Added species:  C00048\n",
      "Added species:  C00712\n",
      "Added species:  D02315\n",
      "Added species:  C04284\n",
      "Added species:  C00383\n",
      "Added species:  C02575\n",
      "Added species:  C00704\n",
      "Added species:  C00552\n",
      "Added species:  C02441\n",
      "Added species:  C11592\n",
      "Added species:  C00741\n",
      "Added species:  C01112\n",
      "Added species:  C07182\n",
      "Added species:  D00396\n",
      "Added species:  C02426\n",
      "Added species:  C11165\n",
      "Added species:  C03444\n",
      "Added species:  C00120\n",
      "Added species:  D00029\n",
      "Added species:  C05682\n",
      "Added species:  C01213\n",
      "Added species:  C00363\n",
      "Added species:  C01231\n",
      "Added species:  C01182\n"
     ]
    },
    {
     "ename": "RuntimeError",
     "evalue": "CVODE Error: CV_CONV_FAILURE: Convergence test failures occurred too many times (= MXNCF = 10) during one internal timestep or occurred with |h| = hmin.; In ?integrate@CVODEIntegrator@rr@@UEAANNN@Z",
     "output_type": "error",
     "traceback": [
      "\u001b[1;31m---------------------------------------------------------------------------\u001b[0m",
      "\u001b[1;31mRuntimeError\u001b[0m                              Traceback (most recent call last)",
      "\u001b[1;32m<ipython-input-34-d1643798816e>\u001b[0m in \u001b[0;36m<module>\u001b[1;34m\u001b[0m\n\u001b[0;32m     21\u001b[0m         \u001b[0mprint\u001b[0m\u001b[1;33m(\u001b[0m\u001b[1;34m'Added species: '\u001b[0m\u001b[1;33m,\u001b[0m \u001b[0mstr\u001b[0m\u001b[1;33m(\u001b[0m\u001b[0me\u001b[0m\u001b[1;33m)\u001b[0m\u001b[1;33m.\u001b[0m\u001b[0msplit\u001b[0m\u001b[1;33m(\u001b[0m\u001b[1;34m\"'\"\u001b[0m\u001b[1;33m)\u001b[0m\u001b[1;33m[\u001b[0m\u001b[1;36m1\u001b[0m\u001b[1;33m]\u001b[0m\u001b[1;33m)\u001b[0m\u001b[1;33m\u001b[0m\u001b[1;33m\u001b[0m\u001b[0m\n\u001b[0;32m     22\u001b[0m \u001b[1;33m\u001b[0m\u001b[0m\n\u001b[1;32m---> 23\u001b[1;33m \u001b[0ms\u001b[0m \u001b[1;33m=\u001b[0m \u001b[0mr\u001b[0m\u001b[1;33m.\u001b[0m\u001b[0msimulate\u001b[0m\u001b[1;33m(\u001b[0m\u001b[1;36m0\u001b[0m\u001b[1;33m,\u001b[0m\u001b[1;36m10\u001b[0m\u001b[1;33m)\u001b[0m\u001b[1;33m\u001b[0m\u001b[1;33m\u001b[0m\u001b[0m\n\u001b[0m\u001b[0;32m     24\u001b[0m \u001b[1;33m\u001b[0m\u001b[0m\n",
      "\u001b[1;32mc:\\Users\\dex36\\miniconda2\\envs\\ODBM\\lib\\site-packages\\roadrunner\\roadrunner.py\u001b[0m in \u001b[0;36msimulate\u001b[1;34m(self, start, end, points, selections, output_file, steps)\u001b[0m\n\u001b[0;32m   3938\u001b[0m             \u001b[0mo\u001b[0m\u001b[1;33m.\u001b[0m\u001b[0msteps\u001b[0m \u001b[1;33m=\u001b[0m \u001b[0msteps\u001b[0m\u001b[1;33m\u001b[0m\u001b[1;33m\u001b[0m\u001b[0m\n\u001b[0;32m   3939\u001b[0m \u001b[1;33m\u001b[0m\u001b[0m\n\u001b[1;32m-> 3940\u001b[1;33m         \u001b[0mresult\u001b[0m \u001b[1;33m=\u001b[0m \u001b[0mself\u001b[0m\u001b[1;33m.\u001b[0m\u001b[0m_simulate\u001b[0m\u001b[1;33m(\u001b[0m\u001b[0mo\u001b[0m\u001b[1;33m)\u001b[0m\u001b[1;33m\u001b[0m\u001b[1;33m\u001b[0m\u001b[0m\n\u001b[0m\u001b[0;32m   3941\u001b[0m \u001b[1;33m\u001b[0m\u001b[0m\n\u001b[0;32m   3942\u001b[0m     \u001b[1;31m#Check to make sure we made it to the 'end'.\u001b[0m\u001b[1;33m\u001b[0m\u001b[1;33m\u001b[0m\u001b[1;33m\u001b[0m\u001b[0m\n",
      "\u001b[1;32mc:\\Users\\dex36\\miniconda2\\envs\\ODBM\\lib\\site-packages\\roadrunner\\roadrunner.py\u001b[0m in \u001b[0;36m_simulate\u001b[1;34m(self, opt)\u001b[0m\n\u001b[0;32m   3607\u001b[0m \u001b[1;33m\u001b[0m\u001b[0m\n\u001b[0;32m   3608\u001b[0m     \u001b[1;32mdef\u001b[0m \u001b[0m_simulate\u001b[0m\u001b[1;33m(\u001b[0m\u001b[0mself\u001b[0m\u001b[1;33m,\u001b[0m \u001b[0mopt\u001b[0m\u001b[1;33m)\u001b[0m\u001b[1;33m:\u001b[0m\u001b[1;33m\u001b[0m\u001b[1;33m\u001b[0m\u001b[0m\n\u001b[1;32m-> 3609\u001b[1;33m         \u001b[1;32mreturn\u001b[0m \u001b[0m_roadrunner\u001b[0m\u001b[1;33m.\u001b[0m\u001b[0mRoadRunner__simulate\u001b[0m\u001b[1;33m(\u001b[0m\u001b[0mself\u001b[0m\u001b[1;33m,\u001b[0m \u001b[0mopt\u001b[0m\u001b[1;33m)\u001b[0m\u001b[1;33m\u001b[0m\u001b[1;33m\u001b[0m\u001b[0m\n\u001b[0m\u001b[0;32m   3610\u001b[0m \u001b[1;33m\u001b[0m\u001b[0m\n\u001b[0;32m   3611\u001b[0m     \u001b[1;32mdef\u001b[0m \u001b[0m_getValue\u001b[0m\u001b[1;33m(\u001b[0m\u001b[0mself\u001b[0m\u001b[1;33m,\u001b[0m \u001b[1;33m*\u001b[0m\u001b[0margs\u001b[0m\u001b[1;33m)\u001b[0m\u001b[1;33m:\u001b[0m\u001b[1;33m\u001b[0m\u001b[1;33m\u001b[0m\u001b[0m\n",
      "\u001b[1;31mRuntimeError\u001b[0m: CVODE Error: CV_CONV_FAILURE: Convergence test failures occurred too many times (= MXNCF = 10) during one internal timestep or occurred with |h| = hmin.; In ?integrate@CVODEIntegrator@rr@@UEAANNN@Z"
     ]
    }
   ],
   "source": [
    "import pandas as pd\n",
    "import tellurium as te\n",
    "from src.odbm.odbm_main import ModelBuilder\n",
    "\n",
    "\n",
    "#Define DataFrames of species, reactions from input model\n",
    "model_species = pd.read_csv('src/frenda_brenda/Files/SpeciesBaseMechanisms.csv')\n",
    "model_rxns = pd.read_csv('src/frenda_brenda/Files/Reaction.csv')\n",
    "\n",
    "#Generate and save model to txt file\n",
    "modelfile = 'src/frenda_brenda/Files/240226MC_R1.txt'\n",
    "myModel = ModelBuilder(model_species, model_rxns)\n",
    "myModel.saveModel(modelfile)\n",
    "\n",
    "r = []\n",
    "while not r:\n",
    "    try:\n",
    "        r  = te.loada(myModel.compile())\n",
    "    except Exception as e:\n",
    "        myModel.addSpecies(str(e).split(\"'\")[1], 1)\n",
    "        print('Added species: ', str(e).split(\"'\")[1])\n",
    "\n",
    "s = r.simulate(0,10)\n",
    "\n"
   ]
  },
  {
   "cell_type": "code",
   "execution_count": null,
   "metadata": {},
   "outputs": [
    {
     "ename": "",
     "evalue": "",
     "output_type": "error",
     "traceback": [
      "\u001b[1;31mFailed to start the Kernel. \n",
      "\u001b[1;31mThe kernel 'Python 3' was not started as it is located in an insecure location 'c:\\ProgramData\\jupyter\\kernels\\python3\\kernel.json'.  \n",
      "\u001b[1;31mClick <a href='https://aka.ms/JupyterTrustedKernelPaths'>here</a> for further details, optionally update the setting <a href='command:workbench.action.openSettings?[\"jupyter.kernels.trusted\"]'>jupyter.kernels.trusted</a> to trust the kernel."
     ]
    }
   ],
   "source": [
    "import os\n",
    "os.chdir('/mmfs1/gscratch/cheme/dalba/repos/ECFERS')"
   ]
  },
  {
   "cell_type": "code",
   "execution_count": 37,
   "metadata": {},
   "outputs": [],
   "source": [
    "r.exportToSBML('models/240226MC_R1.sbml')"
   ]
  },
  {
   "cell_type": "code",
   "execution_count": null,
   "metadata": {},
   "outputs": [],
   "source": []
  }
 ],
 "metadata": {
  "kernelspec": {
   "display_name": "Python 3",
   "language": "python",
   "name": "python3"
  },
  "language_info": {
   "codemirror_mode": {
    "name": "ipython",
    "version": 3
   },
   "file_extension": ".py",
   "mimetype": "text/x-python",
   "name": "python",
   "nbconvert_exporter": "python",
   "pygments_lexer": "ipython3",
   "version": "3.6.13"
  }
 },
 "nbformat": 4,
 "nbformat_minor": 2
}
