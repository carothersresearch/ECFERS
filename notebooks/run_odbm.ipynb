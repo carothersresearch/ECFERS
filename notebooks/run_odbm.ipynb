{
 "cells": [
  {
   "cell_type": "code",
   "execution_count": 62,
   "metadata": {},
   "outputs": [],
   "source": [
    "import os \n",
    "os.chdir('..')\n",
    "\n",
    "import pandas as pd\n",
    "import tellurium as te\n",
    "from src.odbm.odbm_main import ModelBuilder\n"
   ]
  },
  {
   "cell_type": "code",
   "execution_count": 2,
   "metadata": {},
   "outputs": [],
   "source": [
    "#Define DataFrames of species, reactions from input model\n",
    "model_species = pd.read_csv('src/frenda_brenda/Files/SpeciesBaseMechanisms.csv')\n",
    "model_rxns = pd.read_csv('src/frenda_brenda/Files/Reaction.csv')\n",
    "\n",
    "model_rxns['Id'] = model_rxns['Enzyme']+'; ' +model_rxns['Substrates']+'; '+model_rxns['Products']\n",
    "model_rxns.drop_duplicates(subset='Id', inplace=True)"
   ]
  },
  {
   "cell_type": "code",
   "execution_count": 101,
   "metadata": {},
   "outputs": [],
   "source": [
    "#Generate and save model to txt file\n",
    "modelfile = 'src/frenda_brenda/Files/240226MC_FULL.txt'\n",
    "myModel = ModelBuilder(model_species, model_rxns)\n",
    "myModel.saveModel(modelfile)\n",
    "\n",
    "r = []\n",
    "while not r:\n",
    "    try:\n",
    "        r  = te.loada(myModel.compile())\n",
    "    except Exception as e:\n",
    "        myModel.addSpecies(str(e).split(\"'\")[1], 0.001)\n",
    "        print(str(e).split(\"'\")[1])\n",
    "\n",
    "# s = r.simulate(0,10)"
   ]
  },
  {
   "cell_type": "code",
   "execution_count": 102,
   "metadata": {},
   "outputs": [],
   "source": [
    "import numpy as np\n",
    "mean = {}\n",
    "fixed = myModel.compile()\n",
    "    \n",
    "for k in ['Km','Kcat_F','Kcat_R','Ki']:\n",
    "    labels = [K for K in r.getGlobalParameterIds() if k in K]\n",
    "    mean[k] = np.nanmean([r[l] for l in labels])\n",
    "    for l in labels:\n",
    "        if np.isnan(r[l]):\n",
    "            fixed = fixed.replace(l+'=nan', l+'='+str(mean['Km']))\n",
    "\n",
    "with open('models/240226MC_FULL_fixed.txt', 'w') as f:\n",
    "    f.write(fixed)\n",
    "\n",
    "r  = te.loada(fixed)"
   ]
  },
  {
   "cell_type": "code",
   "execution_count": 11,
   "metadata": {},
   "outputs": [],
   "source": [
    "with open('models/240226MC_FULL_fixed.txt', 'r') as f:\n",
    "    fixed = f.read()\n",
    "\n",
    "r  = te.loada(fixed)\n",
    "\n",
    "with open('models/240226MC_FULL.sbml', 'w') as f:\n",
    "    # Write the data to the file\n",
    "    f.write(r.getSBML())"
   ]
  },
  {
   "cell_type": "code",
   "execution_count": null,
   "metadata": {},
   "outputs": [],
   "source": []
  }
 ],
 "metadata": {
  "kernelspec": {
   "display_name": "Python 3",
   "language": "python",
   "name": "python3"
  },
  "language_info": {
   "codemirror_mode": {
    "name": "ipython",
    "version": 3
   },
   "file_extension": ".py",
   "mimetype": "text/x-python",
   "name": "python",
   "nbconvert_exporter": "python",
   "pygments_lexer": "ipython3",
   "version": "3.7.6"
  }
 },
 "nbformat": 4,
 "nbformat_minor": 2
}
