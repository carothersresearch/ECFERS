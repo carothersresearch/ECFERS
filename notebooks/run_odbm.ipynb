{
 "cells": [
  {
   "cell_type": "code",
   "execution_count": 1,
   "metadata": {},
   "outputs": [],
   "source": [
    "import os \n",
    "os.chdir('..')\n",
    "\n",
    "import pandas as pd\n",
    "import tellurium as te\n",
    "from src.odbm.odbm_main import ModelBuilder\n"
   ]
  },
  {
   "cell_type": "code",
   "execution_count": 2,
   "metadata": {},
   "outputs": [],
   "source": [
    "#Define DataFrames of species, reactions from input model\n",
    "model_species = pd.read_csv('src/frenda_brenda/Files/SpeciesBaseMechanisms.csv')\n",
    "model_rxns = pd.read_csv('src/frenda_brenda/Files/Reaction.csv')\n",
    "\n",
    "# model_rxns['Id'] = model_rxns['Enzyme']+'; ' +model_rxns['Substrates']+'; '+model_rxns['Products']\n",
    "# model_rxns.drop_duplicates(subset='Id', inplace=True)"
   ]
  },
  {
   "cell_type": "code",
   "execution_count": 3,
   "metadata": {},
   "outputs": [],
   "source": [
    "#Generate and save model to txt file\n",
    "modelfile = 'src/frenda_brenda/Files/240424MC_FULL.txt'\n",
    "myModel = ModelBuilder(model_species, model_rxns)\n",
    "myModel.saveModel(modelfile)\n",
    "\n",
    "r = []\n",
    "while not r:\n",
    "    try:\n",
    "        r  = te.loada(myModel.compile())\n",
    "    except Exception as e:\n",
    "        myModel.addSpecies(str(e).split(\"'\")[1], 0.001)\n",
    "        print(str(e).split(\"'\")[1])\n",
    "\n",
    "# s = r.simulate(0,10)"
   ]
  },
  {
   "cell_type": "code",
   "execution_count": 102,
   "metadata": {},
   "outputs": [],
   "source": [
    "import numpy as np\n",
    "mean = {}\n",
    "fixed = myModel.compile()\n",
    "    \n",
    "for k in ['Km','Kcat_F','Kcat_R','Ki']:\n",
    "    labels = [K for K in r.getGlobalParameterIds() if k in K]\n",
    "    mean[k] = np.nanmean([r[l] for l in labels])\n",
    "    for l in labels:\n",
    "        if np.isnan(r[l]):\n",
    "            fixed = fixed.replace(l+'=nan', l+'='+str(mean['Km']))\n",
    "\n",
    "with open('models/240226MC_FULL_fixed.txt', 'w') as f:\n",
    "    f.write(fixed)\n",
    "\n",
    "r  = te.loada(fixed)"
   ]
  },
  {
   "cell_type": "code",
   "execution_count": 11,
   "metadata": {},
   "outputs": [],
   "source": [
    "with open('models/240226MC_FULL_fixed.txt', 'r') as f:\n",
    "    fixed = f.read()\n",
    "\n",
    "r  = te.loada(fixed)\n",
    "\n",
    "with open('models/240226MC_FULL.sbml', 'w') as f:\n",
    "    # Write the data to the file\n",
    "    f.write(r.getSBML())"
   ]
  },
  {
   "cell_type": "code",
   "execution_count": 15,
   "metadata": {},
   "outputs": [],
   "source": [
    "with open('models/240226MC_FULL_fixed.txt', 'r') as f:\n",
    "    fixed = f.read()\n",
    "\n",
    "r  = te.loada(fixed)\n",
    "\n",
    "all_s = np.unique(r.getFloatingSpeciesIds()+ [i.split('_')[1] for i in r.getGlobalParameterIds() if 'Ki' in i])\n",
    "pre = '# Initialize species \\n'\n",
    "for s in all_s:\n",
    "    pre += f\"species {s};\\n\"\n",
    "\n",
    "r2  = te.loada(pre+fixed)\n",
    "with open('models/240226MC_FULL.sbml', 'w') as f:\n",
    "    # Write the data to the file\n",
    "    f.write(r2.getSBML())"
   ]
  },
  {
   "cell_type": "code",
   "execution_count": null,
   "metadata": {},
   "outputs": [],
   "source": [
    "import re\n",
    "\n",
    "with open('models/240226MC_FULL_fixed.txt', 'r') as f:\n",
    "    fixed = f.read()\n",
    "# Define the pattern to match \"Rxx\" in Kms\n",
    "pattern = lambda p,x: r\"\\b\"+p+r\"_(\\w+)_\"+x+r\"\\b\"\n",
    "\n",
    "# Define the replacement string\n",
    "replacement = lambda p,x: p+r\"_\\1_\"+x\n",
    "\n",
    "# model_rxns['EC'] = model_rxns['EC'].apply(lambda x: 'EC'+x.replace('.',''))\n",
    "r_to_ec_map = {l:ec for l,ec in zip(model_rxns['Label'],model_rxns['EC'])}\n",
    "\n",
    "for rid in model_rxns['Label'].values:\n",
    "    fixed = re.sub(pattern('Km',rid), replacement('Km',r_to_ec_map[rid]), fixed)\n",
    "    fixed = re.sub(pattern('Ki',rid), replacement('Ki',r_to_ec_map[rid]), fixed)\n",
    "    fixed = re.sub(pattern('Gi',rid), replacement('Gi',r_to_ec_map[rid]), fixed)\n",
    "\n",
    "r2  = te.loada(fixed)\n",
    "with open('models/240226MC_FULL.sbml', 'w') as f:\n",
    "    # Write the data to the file\n",
    "    f.write(r2.getSBML())"
   ]
  },
  {
   "cell_type": "code",
   "execution_count": 52,
   "metadata": {},
   "outputs": [],
   "source": [
    "r2  = te.loada(fixed)\n",
    "with open('models/240226MC_FULL.sbml', 'w') as f:\n",
    "    # Write the data to the file\n",
    "    f.write(r2.getSBML())"
   ]
  },
  {
   "cell_type": "code",
   "execution_count": 55,
   "metadata": {},
   "outputs": [
    {
     "data": {
      "text/plain": [
       "1283"
      ]
     },
     "execution_count": 55,
     "metadata": {},
     "output_type": "execute_result"
    }
   ],
   "source": [
    "len(r2.getGlobalParameterIds())"
   ]
  },
  {
   "cell_type": "code",
   "execution_count": null,
   "metadata": {},
   "outputs": [],
   "source": []
  }
 ],
 "metadata": {
  "kernelspec": {
   "display_name": "myenv",
   "language": "python",
   "name": "myenv"
  }
 },
 "nbformat": 4,
 "nbformat_minor": 2
}
