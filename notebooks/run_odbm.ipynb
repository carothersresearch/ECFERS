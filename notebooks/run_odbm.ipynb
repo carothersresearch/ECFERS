{
 "cells": [
  {
   "cell_type": "code",
   "execution_count": 1,
   "metadata": {},
   "outputs": [],
   "source": [
    "import os \n",
    "os.chdir('..')\n",
    "\n",
    "import pandas as pd\n",
    "import tellurium as te\n",
    "from src.odbm.odbm_main import ModelBuilder\n"
   ]
  },
  {
   "cell_type": "code",
   "execution_count": 6,
   "metadata": {},
   "outputs": [],
   "source": [
    "#Define DataFrames of species, reactions from input model\n",
    "model_species = pd.read_csv('src/frenda_brenda/Files/SpeciesBaseMechanisms.csv')\n",
    "model_rxns = pd.read_csv('src/frenda_brenda/Files/Reaction.csv')\n",
    "\n",
    "model_rxns['Id'] = model_rxns['Enzyme']+'; ' +model_rxns['Substrates']+'; '+model_rxns['Products']\n",
    "model_rxns.drop_duplicates(subset='Id', inplace=True)"
   ]
  },
  {
   "cell_type": "code",
   "execution_count": 7,
   "metadata": {},
   "outputs": [
    {
     "ename": "RuntimeError",
     "evalue": "CVODE Error: CV_CONV_FAILURE: Convergence test failures occurred too many times (= MXNCF = 10) during one internal timestep or occurred with |h| = hmin.; In ?integrate@CVODEIntegrator@rr@@UEAANNN@Z",
     "output_type": "error",
     "traceback": [
      "\u001b[1;31m---------------------------------------------------------------------------\u001b[0m",
      "\u001b[1;31mRuntimeError\u001b[0m                              Traceback (most recent call last)",
      "Cell \u001b[1;32mIn[7], line 14\u001b[0m\n\u001b[0;32m     11\u001b[0m         myModel\u001b[38;5;241m.\u001b[39maddSpecies(\u001b[38;5;28mstr\u001b[39m(e)\u001b[38;5;241m.\u001b[39msplit(\u001b[38;5;124m\"\u001b[39m\u001b[38;5;124m'\u001b[39m\u001b[38;5;124m\"\u001b[39m)[\u001b[38;5;241m1\u001b[39m], \u001b[38;5;241m0.001\u001b[39m)\n\u001b[0;32m     12\u001b[0m         \u001b[38;5;28mprint\u001b[39m(\u001b[38;5;28mstr\u001b[39m(e)\u001b[38;5;241m.\u001b[39msplit(\u001b[38;5;124m\"\u001b[39m\u001b[38;5;124m'\u001b[39m\u001b[38;5;124m\"\u001b[39m)[\u001b[38;5;241m1\u001b[39m])\n\u001b[1;32m---> 14\u001b[0m s \u001b[38;5;241m=\u001b[39m \u001b[43mr\u001b[49m\u001b[38;5;241;43m.\u001b[39;49m\u001b[43msimulate\u001b[49m\u001b[43m(\u001b[49m\u001b[38;5;241;43m0\u001b[39;49m\u001b[43m,\u001b[49m\u001b[38;5;241;43m10\u001b[39;49m\u001b[43m)\u001b[49m\n",
      "File \u001b[1;32mc:\\Users\\Diego Alba\\.conda\\envs\\ODBM2\\lib\\site-packages\\roadrunner\\roadrunner.py:3940\u001b[0m, in \u001b[0;36mRoadRunner.simulate\u001b[1;34m(self, start, end, points, selections, output_file, steps)\u001b[0m\n\u001b[0;32m   3937\u001b[0m     \u001b[38;5;28;01mif\u001b[39;00m steps \u001b[38;5;129;01mis\u001b[39;00m \u001b[38;5;129;01mnot\u001b[39;00m \u001b[38;5;28;01mNone\u001b[39;00m:\n\u001b[0;32m   3938\u001b[0m         o\u001b[38;5;241m.\u001b[39msteps \u001b[38;5;241m=\u001b[39m steps\n\u001b[1;32m-> 3940\u001b[0m     result \u001b[38;5;241m=\u001b[39m \u001b[38;5;28;43mself\u001b[39;49m\u001b[38;5;241;43m.\u001b[39;49m\u001b[43m_simulate\u001b[49m\u001b[43m(\u001b[49m\u001b[43mo\u001b[49m\u001b[43m)\u001b[49m\n\u001b[0;32m   3942\u001b[0m \u001b[38;5;66;03m#Check to make sure we made it to the 'end'.\u001b[39;00m\n\u001b[0;32m   3943\u001b[0m     selections_lower \u001b[38;5;241m=\u001b[39m [x\u001b[38;5;241m.\u001b[39mlower() \u001b[38;5;28;01mfor\u001b[39;00m x \u001b[38;5;129;01min\u001b[39;00m \u001b[38;5;28mself\u001b[39m\u001b[38;5;241m.\u001b[39mtimeCourseSelections]\n",
      "File \u001b[1;32mc:\\Users\\Diego Alba\\.conda\\envs\\ODBM2\\lib\\site-packages\\roadrunner\\roadrunner.py:3609\u001b[0m, in \u001b[0;36mRoadRunner._simulate\u001b[1;34m(self, opt)\u001b[0m\n\u001b[0;32m   3608\u001b[0m \u001b[38;5;28;01mdef\u001b[39;00m \u001b[38;5;21m_simulate\u001b[39m(\u001b[38;5;28mself\u001b[39m, opt):\n\u001b[1;32m-> 3609\u001b[0m     \u001b[38;5;28;01mreturn\u001b[39;00m \u001b[43m_roadrunner\u001b[49m\u001b[38;5;241;43m.\u001b[39;49m\u001b[43mRoadRunner__simulate\u001b[49m\u001b[43m(\u001b[49m\u001b[38;5;28;43mself\u001b[39;49m\u001b[43m,\u001b[49m\u001b[43m \u001b[49m\u001b[43mopt\u001b[49m\u001b[43m)\u001b[49m\n",
      "\u001b[1;31mRuntimeError\u001b[0m: CVODE Error: CV_CONV_FAILURE: Convergence test failures occurred too many times (= MXNCF = 10) during one internal timestep or occurred with |h| = hmin.; In ?integrate@CVODEIntegrator@rr@@UEAANNN@Z"
     ]
    }
   ],
   "source": [
    "#Generate and save model to txt file\n",
    "modelfile = 'src/frenda_brenda/Files/240226MC_FULL.txt'\n",
    "myModel = ModelBuilder(model_species, model_rxns)\n",
    "myModel.saveModel(modelfile)\n",
    "\n",
    "r = []\n",
    "while not r:\n",
    "    try:\n",
    "        r  = te.loada(myModel.compile())\n",
    "    except Exception as e:\n",
    "        myModel.addSpecies(str(e).split(\"'\")[1], 0.001)\n",
    "        print(str(e).split(\"'\")[1])\n",
    "\n",
    "s = r.simulate(0,10)"
   ]
  },
  {
   "cell_type": "code",
   "execution_count": null,
   "metadata": {},
   "outputs": [
    {
     "ename": "",
     "evalue": "",
     "output_type": "error",
     "traceback": [
      "\u001b[1;31mFailed to start the Kernel. \n",
      "\u001b[1;31mThe kernel 'Python 3' was not started as it is located in an insecure location 'c:\\ProgramData\\jupyter\\kernels\\python3\\kernel.json'.  \n",
      "\u001b[1;31mClick <a href='https://aka.ms/JupyterTrustedKernelPaths'>here</a> for further details, optionally update the setting <a href='command:workbench.action.openSettings?[\"jupyter.kernels.trusted\"]'>jupyter.kernels.trusted</a> to trust the kernel."
     ]
    }
   ],
   "source": [
    "import os\n",
    "os.chdir('/mmfs1/gscratch/cheme/dalba/repos/ECFERS')"
   ]
  },
  {
   "cell_type": "code",
   "execution_count": 13,
   "metadata": {},
   "outputs": [],
   "source": [
    "r.exportToSBML('models/240226MC_FULL.sbml')"
   ]
  },
  {
   "cell_type": "code",
   "execution_count": 10,
   "metadata": {},
   "outputs": [],
   "source": [
    "import numpy as np\n",
    "for k in ['Km','Kcat_F','Kcat_R','Ki']:\n",
    "    labels = [K for K in r.getGlobalParameterIds() if k in K]\n",
    "    mean = np.nanmean([r[k] for k in labels])\n",
    "    for k in labels:\n",
    "        r[k] = mean"
   ]
  }
 ],
 "metadata": {
  "kernelspec": {
   "display_name": "Python 3",
   "language": "python",
   "name": "python3"
  },
  "language_info": {
   "codemirror_mode": {
    "name": "ipython",
    "version": 3
   },
   "file_extension": ".py",
   "mimetype": "text/x-python",
   "name": "python",
   "nbconvert_exporter": "python",
   "pygments_lexer": "ipython3",
   "version": "3.8.17"
  }
 },
 "nbformat": 4,
 "nbformat_minor": 2
}
