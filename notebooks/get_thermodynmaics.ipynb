{
 "cells": [
  {
   "cell_type": "code",
   "execution_count": 3,
   "metadata": {},
   "outputs": [],
   "source": [
    "from src.thermo_calculations.equilibrium_constants import keq_from_kegg\n",
    "import pandas as pd\n",
    "import os   "
   ]
  },
  {
   "cell_type": "code",
   "execution_count": 2,
   "metadata": {},
   "outputs": [],
   "source": [
    "import os\n",
    "os.chdir('..')"
   ]
  },
  {
   "cell_type": "code",
   "execution_count": 4,
   "metadata": {},
   "outputs": [
    {
     "name": "stdout",
     "output_type": "stream",
     "text": [
      "'NoneType' object has no attribute 'inchi_key'\n"
     ]
    },
    {
     "name": "stderr",
     "output_type": "stream",
     "text": [
      "c:\\Users\\Diego Alba\\.conda\\envs\\ODBM2\\lib\\site-packages\\pint\\facets\\numpy\\numpy_func.py:307: RuntimeWarning: overflow encountered in exp\n",
      "  result_magnitude = func(*stripped_args, **stripped_kwargs)\n",
      "c:\\Users\\Diego Alba\\.conda\\envs\\ODBM2\\lib\\site-packages\\equilibrator_cache\\reaction.py:616: UserWarning: Cannot calculate Legendre transform for Compound(id=3221, inchi_key=None): CHEBI:10667 has not yet been analyzed by ChemAxon.\n",
      "  warnings.warn(\n",
      "c:\\Users\\Diego Alba\\.conda\\envs\\ODBM2\\lib\\site-packages\\equilibrator_cache\\reaction.py:616: UserWarning: Cannot calculate Legendre transform for Compound(id=6467, inchi_key=None): tRNA containing N(7)-methylguanine has not yet been analyzed by ChemAxon.\n",
      "  warnings.warn(\n",
      "c:\\Users\\Diego Alba\\.conda\\envs\\ODBM2\\lib\\site-packages\\pint\\facets\\numpy\\numpy_func.py:307: RuntimeWarning: overflow encountered in exp\n",
      "  result_magnitude = func(*stripped_args, **stripped_kwargs)\n",
      "c:\\Users\\Diego Alba\\.conda\\envs\\ODBM2\\lib\\site-packages\\pint\\facets\\numpy\\numpy_func.py:307: RuntimeWarning: overflow encountered in exp\n",
      "  result_magnitude = func(*stripped_args, **stripped_kwargs)\n",
      "c:\\Users\\Diego Alba\\.conda\\envs\\ODBM2\\lib\\site-packages\\equilibrator_cache\\reaction.py:616: UserWarning: Cannot calculate Legendre transform for Compound(id=74673, inchi_key=None): tRNA has not yet been analyzed by ChemAxon.\n",
      "  warnings.warn(\n",
      "c:\\Users\\Diego Alba\\.conda\\envs\\ODBM2\\lib\\site-packages\\equilibrator_cache\\reaction.py:616: UserWarning: Cannot calculate Legendre transform for Compound(id=75010, inchi_key=None): N-Substituted-Amino-Acids has not yet been analyzed by ChemAxon.\n",
      "  warnings.warn(\n",
      "c:\\Users\\Diego Alba\\.conda\\envs\\ODBM2\\lib\\site-packages\\equilibrator_cache\\reaction.py:616: UserWarning: Cannot calculate Legendre transform for Compound(id=6273, inchi_key=None): N-Substituted-Aminoacyl-tRNA has not yet been analyzed by ChemAxon.\n",
      "  warnings.warn(\n",
      "c:\\Users\\Diego Alba\\.conda\\envs\\ODBM2\\lib\\site-packages\\pint\\facets\\numpy\\numpy_func.py:307: RuntimeWarning: overflow encountered in exp\n",
      "  result_magnitude = func(*stripped_args, **stripped_kwargs)\n",
      "c:\\Users\\Diego Alba\\.conda\\envs\\ODBM2\\lib\\site-packages\\equilibrator_cache\\reaction.py:616: UserWarning: Cannot calculate Legendre transform for Compound(id=2156, inchi_key=None): Nucleoside has not yet been analyzed by ChemAxon.\n",
      "  warnings.warn(\n",
      "c:\\Users\\Diego Alba\\.conda\\envs\\ODBM2\\lib\\site-packages\\equilibrator_cache\\reaction.py:616: UserWarning: Cannot calculate Legendre transform for Compound(id=66402, inchi_key=None): 5'-Nucleotide has not yet been analyzed by ChemAxon.\n",
      "  warnings.warn(\n",
      "c:\\Users\\Diego Alba\\.conda\\envs\\ODBM2\\lib\\site-packages\\pint\\facets\\numpy\\numpy_func.py:307: RuntimeWarning: overflow encountered in exp\n",
      "  result_magnitude = func(*stripped_args, **stripped_kwargs)\n",
      "c:\\Users\\Diego Alba\\.conda\\envs\\ODBM2\\lib\\site-packages\\equilibrator_cache\\reaction.py:616: UserWarning: Cannot calculate Legendre transform for Compound(id=75223, inchi_key=None): Ribosomal RNA has not yet been analyzed by ChemAxon.\n",
      "  warnings.warn(\n",
      "c:\\Users\\Diego Alba\\.conda\\envs\\ODBM2\\lib\\site-packages\\equilibrator_cache\\reaction.py:616: UserWarning: Cannot calculate Legendre transform for Compound(id=119092, inchi_key=None): rRNA containing N(2)-methylguanine has not yet been analyzed by ChemAxon.\n",
      "  warnings.warn(\n",
      "c:\\Users\\Diego Alba\\.conda\\envs\\ODBM2\\lib\\site-packages\\pint\\facets\\numpy\\numpy_func.py:307: RuntimeWarning: overflow encountered in exp\n",
      "  result_magnitude = func(*stripped_args, **stripped_kwargs)\n",
      "c:\\Users\\Diego Alba\\.conda\\envs\\ODBM2\\lib\\site-packages\\pint\\facets\\numpy\\numpy_func.py:307: RuntimeWarning: overflow encountered in exp\n",
      "  result_magnitude = func(*stripped_args, **stripped_kwargs)\n",
      "c:\\Users\\Diego Alba\\.conda\\envs\\ODBM2\\lib\\site-packages\\pint\\facets\\numpy\\numpy_func.py:307: RuntimeWarning: overflow encountered in exp\n",
      "  result_magnitude = func(*stripped_args, **stripped_kwargs)\n"
     ]
    },
    {
     "name": "stdout",
     "output_type": "stream",
     "text": [
      "Cannot oxidize 2 H+ + 2 SAM + 2 e- + dethiobiotin + CHEBI:80867 <=> 2 M + BIOT + 2 CH3Ado only with these atoms: {'S'}\n"
     ]
    },
    {
     "name": "stderr",
     "output_type": "stream",
     "text": [
      "c:\\Users\\Diego Alba\\.conda\\envs\\ODBM2\\lib\\site-packages\\equilibrator_cache\\reaction.py:616: UserWarning: Cannot calculate Legendre transform for Compound(id=3548, inchi_key=None): CHEBI:80867 has not yet been analyzed by ChemAxon.\n",
      "  warnings.warn(\n",
      "c:\\Users\\Diego Alba\\.conda\\envs\\ODBM2\\lib\\site-packages\\pint\\facets\\numpy\\numpy_func.py:307: RuntimeWarning: overflow encountered in exp\n",
      "  result_magnitude = func(*stripped_args, **stripped_kwargs)\n",
      "c:\\Users\\Diego Alba\\.conda\\envs\\ODBM2\\lib\\site-packages\\equilibrator_cache\\reaction.py:616: UserWarning: Cannot calculate Legendre transform for Compound(id=78363, inchi_key=None): 2',3'-Cyclic nucleotide has not yet been analyzed by ChemAxon.\n",
      "  warnings.warn(\n",
      "c:\\Users\\Diego Alba\\.conda\\envs\\ODBM2\\lib\\site-packages\\equilibrator_cache\\reaction.py:616: UserWarning: Cannot calculate Legendre transform for Compound(id=82603, inchi_key=None): nucleoside 3'-phosphate has not yet been analyzed by ChemAxon.\n",
      "  warnings.warn(\n",
      "c:\\Users\\Diego Alba\\.conda\\envs\\ODBM2\\lib\\site-packages\\pint\\facets\\numpy\\numpy_func.py:307: RuntimeWarning: overflow encountered in exp\n",
      "  result_magnitude = func(*stripped_args, **stripped_kwargs)\n",
      "c:\\Users\\Diego Alba\\.conda\\envs\\ODBM2\\lib\\site-packages\\pint\\facets\\numpy\\numpy_func.py:307: RuntimeWarning: overflow encountered in exp\n",
      "  result_magnitude = func(*stripped_args, **stripped_kwargs)\n"
     ]
    }
   ],
   "source": [
    "reactions = pd.read_csv('src/frenda_brenda/Files/Reaction_full.csv')\n",
    "\n",
    "keqs = {}\n",
    "for index, row in reactions.iterrows():\n",
    "    keqs[row['Reaction ID']] = keq_from_kegg(row['Reaction ID'])"
   ]
  },
  {
   "cell_type": "code",
   "execution_count": 10,
   "metadata": {},
   "outputs": [
    {
     "data": {
      "text/html": [
       "<div>\n",
       "<style scoped>\n",
       "    .dataframe tbody tr th:only-of-type {\n",
       "        vertical-align: middle;\n",
       "    }\n",
       "\n",
       "    .dataframe tbody tr th {\n",
       "        vertical-align: top;\n",
       "    }\n",
       "\n",
       "    .dataframe thead th {\n",
       "        text-align: right;\n",
       "    }\n",
       "</style>\n",
       "<table border=\"1\" class=\"dataframe\">\n",
       "  <thead>\n",
       "    <tr style=\"text-align: right;\">\n",
       "      <th></th>\n",
       "      <th>value</th>\n",
       "      <th>error</th>\n",
       "    </tr>\n",
       "  </thead>\n",
       "  <tbody>\n",
       "    <tr>\n",
       "      <th>R01324</th>\n",
       "      <td>0.063084</td>\n",
       "      <td>1.142640</td>\n",
       "    </tr>\n",
       "    <tr>\n",
       "      <th>R01325</th>\n",
       "      <td>0.032766</td>\n",
       "      <td>1.580463</td>\n",
       "    </tr>\n",
       "    <tr>\n",
       "      <th>R01900</th>\n",
       "      <td>0.519395</td>\n",
       "      <td>1.580982</td>\n",
       "    </tr>\n",
       "    <tr>\n",
       "      <th>R00444</th>\n",
       "      <td>0.000004</td>\n",
       "      <td>inf</td>\n",
       "    </tr>\n",
       "    <tr>\n",
       "      <th>R00435</th>\n",
       "      <td>inf</td>\n",
       "      <td>3045026.490886</td>\n",
       "    </tr>\n",
       "    <tr>\n",
       "      <th>...</th>\n",
       "      <td>...</td>\n",
       "      <td>...</td>\n",
       "    </tr>\n",
       "    <tr>\n",
       "      <th>R05135</th>\n",
       "      <td>595879.336908</td>\n",
       "      <td>3.395119</td>\n",
       "    </tr>\n",
       "    <tr>\n",
       "      <th>R01773</th>\n",
       "      <td>0.000392</td>\n",
       "      <td>1.992019</td>\n",
       "    </tr>\n",
       "    <tr>\n",
       "      <th>R01775</th>\n",
       "      <td>0.000391</td>\n",
       "      <td>1.983162</td>\n",
       "    </tr>\n",
       "    <tr>\n",
       "      <th>R04208</th>\n",
       "      <td>0.089696</td>\n",
       "      <td>inf</td>\n",
       "    </tr>\n",
       "    <tr>\n",
       "      <th>R00182</th>\n",
       "      <td>1377.094108</td>\n",
       "      <td>1.829698</td>\n",
       "    </tr>\n",
       "  </tbody>\n",
       "</table>\n",
       "<p>570 rows × 2 columns</p>\n",
       "</div>"
      ],
      "text/plain": [
       "                value           error\n",
       "R01324       0.063084        1.142640\n",
       "R01325       0.032766        1.580463\n",
       "R01900       0.519395        1.580982\n",
       "R00444       0.000004             inf\n",
       "R00435            inf  3045026.490886\n",
       "...               ...             ...\n",
       "R05135  595879.336908        3.395119\n",
       "R01773       0.000392        1.992019\n",
       "R01775       0.000391        1.983162\n",
       "R04208       0.089696             inf\n",
       "R00182    1377.094108        1.829698\n",
       "\n",
       "[570 rows x 2 columns]"
      ]
     },
     "execution_count": 10,
     "metadata": {},
     "output_type": "execute_result"
    }
   ],
   "source": [
    "pd.DataFrame.from_dict(keqs).T"
   ]
  },
  {
   "cell_type": "code",
   "execution_count": null,
   "metadata": {},
   "outputs": [],
   "source": []
  }
 ],
 "metadata": {
  "kernelspec": {
   "display_name": "ODBM2",
   "language": "python",
   "name": "python3"
  },
  "language_info": {
   "codemirror_mode": {
    "name": "ipython",
    "version": 3
   },
   "file_extension": ".py",
   "mimetype": "text/x-python",
   "name": "python",
   "nbconvert_exporter": "python",
   "pygments_lexer": "ipython3",
   "version": "3.8.17"
  }
 },
 "nbformat": 4,
 "nbformat_minor": 2
}
