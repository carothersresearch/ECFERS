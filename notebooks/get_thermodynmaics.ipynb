{
 "cells": [
  {
   "cell_type": "code",
   "execution_count": 3,
   "metadata": {},
   "outputs": [],
   "source": [
    "from src.thermo_calculations.equilibrium_constants import keq_from_kegg\n",
    "import pandas as pd\n",
    "import os   "
   ]
  },
  {
   "cell_type": "code",
   "execution_count": 2,
   "metadata": {},
   "outputs": [],
   "source": [
    "import os\n",
    "os.chdir('..')"
   ]
  },
  {
   "cell_type": "code",
   "execution_count": 41,
   "metadata": {},
   "outputs": [],
   "source": [
    "reactions = pd.read_csv('src/frenda_brenda/Files/KEGG_Filtered/Reactions_M7.csv', index_col = None)"
   ]
  },
  {
   "cell_type": "code",
   "execution_count": 43,
   "metadata": {},
   "outputs": [],
   "source": [
    "# abbridged version\n",
    "rid_to_keq = {r:k for r,k in zip(reactions['Reaction ID'], reactions['Keq'])}\n",
    "reactions2 = pd.read_csv('src/frenda_brenda/Files/KEGG_Filtered/New Folder/Reactions_M1.csv', index_col = None)\n",
    "reactions2['Keq'] = [rid_to_keq[r] for r in reactions2['Reaction ID']]"
   ]
  },
  {
   "cell_type": "code",
   "execution_count": null,
   "metadata": {},
   "outputs": [],
   "source": [
    "keqs = {}\n",
    "for index, row in reactions2.iterrows():\n",
    "    keqs[row['Reaction ID']] = keq_from_kegg(row['Reaction ID'])"
   ]
  },
  {
   "cell_type": "code",
   "execution_count": 28,
   "metadata": {},
   "outputs": [],
   "source": [
    "keqs_df = pd.DataFrame.from_dict(keqs).T\n",
    "n=12\n",
    "keqs_df['value'][keqs_df['value']>10**n]=10**n\n",
    "keqs_df['value'][keqs_df['value']<10**-n]=10**-n\n",
    "\n",
    "er = 6\n",
    "keqs_df['error'][keqs_df['error']>10**er]=10**er\n",
    "keqs_df['error'][keqs_df['error']<10**-er]=10**-er"
   ]
  },
  {
   "cell_type": "code",
   "execution_count": null,
   "metadata": {},
   "outputs": [],
   "source": [
    "import numpy as np\n",
    "reactions2['Keq'] = range(len(reactions2))\n",
    "for index, row in keqs_df.iterrows():\n",
    "    reactions2['Keq'][reactions2['Reaction ID'] == index] = 'Keq: '+str(row['value']) if np.abs(np.log10(row['error']))<5.5 else 'Keq: 1'"
   ]
  },
  {
   "cell_type": "code",
   "execution_count": 65,
   "metadata": {},
   "outputs": [],
   "source": [
    "reactions2.to_csv('src/frenda_brenda/Files/KEGG_Filtered/Reactions_M1.csv', index = False)"
   ]
  },
  {
   "cell_type": "code",
   "execution_count": null,
   "metadata": {},
   "outputs": [],
   "source": []
  }
 ],
 "metadata": {
  "kernelspec": {
   "display_name": "Python 3",
   "language": "python",
   "name": "python3"
  },
  "language_info": {
   "codemirror_mode": {
    "name": "ipython",
    "version": 3
   },
   "file_extension": ".py",
   "mimetype": "text/x-python",
   "name": "python",
   "nbconvert_exporter": "python",
   "pygments_lexer": "ipython3",
   "version": "3.8.17"
  }
 },
 "nbformat": 4,
 "nbformat_minor": 2
}
