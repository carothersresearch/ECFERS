{
 "cells": [
  {
   "cell_type": "code",
   "execution_count": 1,
   "metadata": {},
   "outputs": [
    {
     "data": {
      "text/plain": [
       "<Response [200]>"
      ]
     },
     "execution_count": 1,
     "metadata": {},
     "output_type": "execute_result"
    }
   ],
   "source": [
    "import requests\n",
    "import xml.etree.ElementTree as ET\n",
    "import pandas as pd\n",
    "import numpy as np\n",
    "import pickle\n",
    "import os\n",
    "\n",
    "os.chdir('..')\n",
    "s = requests.Session() # create session\n",
    "# Post login credentials to session:\n",
    "s.post('https://websvc.biocyc.org/credentials/login/', data={'email':'diegoalbaburbano@gmail.com', 'password':'qwerty'})\n"
   ]
  },
  {
   "cell_type": "code",
   "execution_count": 2,
   "metadata": {},
   "outputs": [],
   "source": [
    "# from EC to BioCyc Reaction ID\n",
    "EC = '2.3.3.16'\n",
    "r = s.get('https://metacyc.org/META/substring-search?type=NIL&object=EC+'+EC)"
   ]
  },
  {
   "cell_type": "code",
   "execution_count": 3,
   "metadata": {},
   "outputs": [],
   "source": [
    "loc = r.text.find('/reaction?orgid=META&id=') # this only finds the first instance, there may be other reactinos associated with this EC...\n",
    "BioCycID = r.text[loc+len('/reaction?orgid=META&id='):].split('\"')[0]"
   ]
  },
  {
   "cell_type": "code",
   "execution_count": 4,
   "metadata": {},
   "outputs": [],
   "source": [
    "\n",
    "# from BioCyc Reaction ID to  reactions\n",
    "r = s.get('https://websvc.biocyc.org/apixml?fn=enzymes-of-reaction&id=META:{i}&detail=low'.format(i=BioCycID))\n",
    "reactions = [e.find('catalyzes').find('Enzymatic-Reaction').items()[0][1] for e in list(ET.fromstring(r.text))[1:]]\n",
    "\n",
    "# from reactions to inhibitors\n",
    "inhibitors = []\n",
    "inhibitors_smiles = []\n",
    "for reaction in reactions:\n",
    "    r = s.get('https://websvc.biocyc.org/apixml?fn=direct-inhibitors&id={i}&detail=low'.format(i=reaction))\n",
    "    inhibitors.append([list(c)[-1].text for c in list(ET.fromstring(r.text))[1:]])\n",
    "    inhibitors_smiles.append([c.find('cml')[0][-1].text for c in list(ET.fromstring(r.text))[1:]])\n",
    "\n",
    "inhibitors = sum(inhibitors,[])\n",
    "inhibitors_smiles = sum(inhibitors_smiles,[])"
   ]
  },
  {
   "cell_type": "code",
   "execution_count": 6,
   "metadata": {},
   "outputs": [
    {
     "data": {
      "text/plain": [
       "['CCCCCCCCCCCCCCCC(SCCNC(=O)CCNC(=O)[C@H](O)C(C)(C)COP(=O)(OP(=O)(OC[C@@H]1([C@@H](OP([O-])(=O)[O-])[C@@H](O)[C@@H](O1)N2(C3(\\\\N=C/N=C(C(\\\\N=C/2)=3)/N))))[O-])[O-])=O',\n",
       " 'C(O)[C@H]3(O[C@@H](N1(C2(\\\\C(\\\\N=C/1)=C(N)/N=C\\\\N=2)))[C@H](O)[C@H](OP([O-])(=O)[O-])3)',\n",
       " 'C(CC([O-])=O)C(=O)C([O-])=O',\n",
       " 'CCC(=O)SCCNC(=O)CCNC(=O)[C@H](O)C(C)(C)COP(=O)(OP(=O)(OC[C@@H]1([C@@H](OP([O-])(=O)[O-])[C@@H](O)[C@@H](O1)N2(C3(\\\\N=C/N=C(C(\\\\N=C/2)=3)/N))))[O-])[O-]',\n",
       " 'CC(C)([C@@H](O)C(=O)NCCC(=O)NCCSCC([O-])=O)COP(=O)(OP(=O)(OC[C@H]1(O[C@H]([C@@H]([C@@H]1OP([O-])(=O)[O-])O)N2(C3(\\\\N=C/N=C(C(\\\\N=C/2)=3)/N))))[O-])[O-]',\n",
       " 'C1(/N(\\\\C=C/CC(/C(N)=O)=1)[C@@H]5(O[C@H](COP(OP(OC[C@H]4(O[C@@H](N2(C3(\\\\C(\\\\N=C/2)=C(N)/N=C\\\\N=3)))[C@H](O)[C@H](O)4))(=O)[O-])(=O)[O-])[C@@H](O)[C@@H](O)5))']"
      ]
     },
     "execution_count": 6,
     "metadata": {},
     "output_type": "execute_result"
    }
   ],
   "source": [
    "inhibitors_smiles"
   ]
  },
  {
   "cell_type": "code",
   "execution_count": 208,
   "metadata": {},
   "outputs": [],
   "source": [
    "from equilibrator_api import ComponentContribution\n",
    "cc = ComponentContribution()\n",
    "\n",
    "inhibitors_kegg = []\n",
    "for inhibitor in inhibitors:\n",
    "    try: # the inhibitor string may be too off, or has no kegg id\n",
    "        for i in cc.search_compound(inhibitor).identifiers:\n",
    "            if i.registry.namespace == 'kegg':\n",
    "                inhibitors_kegg.append(i.accession)\n",
    "    except:\n",
    "        inhibitors_kegg.append('')"
   ]
  },
  {
   "cell_type": "code",
   "execution_count": 209,
   "metadata": {},
   "outputs": [
    {
     "data": {
      "text/plain": [
       "['C00036',\n",
       " 'C00002',\n",
       " 'D08646',\n",
       " 'C00024',\n",
       " 'C00010',\n",
       " 'C00209',\n",
       " 'C02441',\n",
       " 'C11592',\n",
       " 'C00741',\n",
       " '']"
      ]
     },
     "execution_count": 209,
     "metadata": {},
     "output_type": "execute_result"
    }
   ],
   "source": [
    "inhibitors_kegg"
   ]
  },
  {
   "cell_type": "code",
   "execution_count": 3,
   "metadata": {},
   "outputs": [],
   "source": [
    "# now let put in a function and run thorugh all ECs\n",
    "\n",
    "def get_inhibitors(s, EC, output = 'SMILES'):\n",
    "    try:\n",
    "        with open(os.getcwd()+'/src/kinetic_estimator/biocyc_cache.pickle', 'rb') as handle:\n",
    "            biocyc_cache = pickle.load(handle)\n",
    "    except:\n",
    "        biocyc_cache = {}\n",
    "    \n",
    "    if EC+'_'+output in biocyc_cache:\n",
    "        return biocyc_cache[EC+'_'+output]\n",
    "    \n",
    "    else:\n",
    "        r = s.get('https://metacyc.org/META/substring-search?type=NIL&object=EC+'+EC)\n",
    "        # old version\n",
    "        # loc = r.text.find('/META/NEW-IMAGE?type=REACTION&object=') # this only finds the first instance, there may be other reactinos associated with this EC...\n",
    "        # BioCycID = r.text[loc+37:].split('\"')[0]\n",
    "        loc = r.text.find('/reaction?orgid=META&id=') # this only finds the first instance, there may be other reactinos associated with this EC...\n",
    "        BioCycID = r.text[loc+len('/reaction?orgid=META&id='):].split('\"')[0]\n",
    "        print(BioCycID)\n",
    "\n",
    "        try:\n",
    "            # from BioCyc Reaction ID to  reactions\n",
    "            r = s.get('https://websvc.biocyc.org/apixml?fn=enzymes-of-reaction&id=META:{i}&detail=low'.format(i=BioCycID))\n",
    "            if r.status_code != 200:\n",
    "                print('No reaction found for EC '+EC)\n",
    "                return []\n",
    "            reactions = [e.find('catalyzes').find('Enzymatic-Reaction').items()[0][1] for e in list(ET.fromstring(r.text))[1:]]\n",
    "        except:\n",
    "            with open('src/kinetic_estimator/xmls/'+BioCycID+'.xml', 'r') as handle:\n",
    "                r = handle.read()\n",
    "                reactions = [e.find('catalyzes').find('Enzymatic-Reaction').items()[0][1] for e in list(ET.fromstring(r))[1:]]\n",
    "\n",
    "        # print(reactions)\n",
    "        # from reactions to inhibitors\n",
    "        inhibitors = []\n",
    "        inhibitors_smiles = []\n",
    "        for reaction in reactions:\n",
    "            r = s.get('https://websvc.biocyc.org/apixml?fn=direct-inhibitors&id={i}&detail=low'.format(i=reaction))\n",
    "            inhibitors.append([list(c)[-1].text for c in list(ET.fromstring(r.text))[1:] if c ])\n",
    "            inhibitors_smiles.append([c.find('cml')[0][-1].text for c in list(ET.fromstring(r.text))[1:] if c and c.find('cml')])\n",
    "\n",
    "        inhibitors = sum(inhibitors,[])\n",
    "        inhibitors_smiles = sum(inhibitors_smiles,[])\n",
    "        biocyc_cache[EC+'_SMILES'] = inhibitors_smiles\n",
    "        biocyc_cache[EC+'_names'] = inhibitors\n",
    "        with open(os.getcwd()+'/src/kinetic_estimator/biocyc_cache.pickle', 'wb') as handle:\n",
    "            pickle.dump(biocyc_cache, handle, protocol=pickle.HIGHEST_PROTOCOL)\n",
    "\n",
    "        if output == 'kegg':\n",
    "            from equilibrator_api import ComponentContribution\n",
    "            cc = ComponentContribution()\n",
    "            inhibitors_kegg = []\n",
    "            for inhibitor in inhibitors:\n",
    "                try: # the inhibitor string may be too off, or has no kegg id\n",
    "                    for i in cc.search_compound(inhibitor).identifiers:\n",
    "                        if i.registry.namespace == 'kegg':\n",
    "                            inhibitors_kegg.append(i.accession)\n",
    "                except:\n",
    "                    print(\"Didn't find kegg id for \"+inhibitor)\n",
    "                    # inhibitors_kegg.append('')\n",
    "                    pass\n",
    "            biocyc_cache[EC+'_kegg'] = inhibitors_kegg\n",
    "            with open(os.getcwd()+'/src/kinetic_estimator/biocyc_cache.pickle', 'wb') as handle:\n",
    "                pickle.dump(biocyc_cache, handle, protocol=pickle.HIGHEST_PROTOCOL)\n",
    "            return inhibitors_kegg\n",
    "        \n",
    "        elif output == 'SMILES':\n",
    "            return inhibitors_smiles\n",
    "        elif output == 'names':\n",
    "            return inhibitors\n",
    "        else:\n",
    "            return inhibitors, inhibitors_smiles\n",
    "    \n",
    "# get all EC numbers\n",
    "import gzip\n",
    "import json\n",
    "\n",
    "with gzip.open(\"src/thermo_calculations/kegg_enzymes.json.gz\", \"r\") as f:\n",
    "        ECs = {e['EC']:e['reaction_ids'] for e in json.load(f)}\n",
    "\n",
    "with gzip.open(\"src/thermo_calculations/kegg_reactions.json.gz\", \"r\") as f:\n",
    "        RXNs = {r['RID']:r['reaction'] for r in json.load(f)}\n",
    "\n",
    "# reactions = pd.read_csv('src/frenda_brenda/Files/Reaction_full.csv')\n",
    "# all_enzymes = []\n",
    "# all_organisms = []\n",
    "# for i,row in reactions.iterrows():\n",
    "#     ec_string = row['EC']\n",
    "#     try:\n",
    "#         for r in ECs[ec_string]:\n",
    "#             try:\n",
    "#                 if ec_string not in all_enzymes:\n",
    "#                     all_enzymes.append(ec_string)\n",
    "#                     if type(row['Species']) is str:\n",
    "#                         organism = r['Species']\n",
    "#                     else:\n",
    "#                         organism = 'Escherichia coli' \n",
    "#                     all_organisms.append(organism)\n",
    "#             except:\n",
    "#                 pass\n",
    "#     except:\n",
    "#         pass"
   ]
  },
  {
   "cell_type": "code",
   "execution_count": 4,
   "metadata": {},
   "outputs": [
    {
     "data": {
      "text/html": [
       "<div>\n",
       "<style scoped>\n",
       "    .dataframe tbody tr th:only-of-type {\n",
       "        vertical-align: middle;\n",
       "    }\n",
       "\n",
       "    .dataframe tbody tr th {\n",
       "        vertical-align: top;\n",
       "    }\n",
       "\n",
       "    .dataframe thead th {\n",
       "        text-align: right;\n",
       "    }\n",
       "</style>\n",
       "<table border=\"1\" class=\"dataframe\">\n",
       "  <thead>\n",
       "    <tr style=\"text-align: right;\">\n",
       "      <th></th>\n",
       "      <th>Accession Number</th>\n",
       "      <th>EC</th>\n",
       "      <th>Species</th>\n",
       "      <th>Label</th>\n",
       "      <th>Enzyme</th>\n",
       "      <th>Reaction ID</th>\n",
       "      <th>Mechanism</th>\n",
       "      <th>Substrates</th>\n",
       "      <th>Products</th>\n",
       "      <th>Km</th>\n",
       "      <th>Kcat</th>\n",
       "      <th>Inhibitors</th>\n",
       "      <th>KI</th>\n",
       "      <th>Keq</th>\n",
       "    </tr>\n",
       "  </thead>\n",
       "  <tbody>\n",
       "    <tr>\n",
       "      <th>288</th>\n",
       "      <td>Heterologous</td>\n",
       "      <td>1.17.1.9</td>\n",
       "      <td>Starkeya novella</td>\n",
       "      <td>R197</td>\n",
       "      <td>Formate dehydrogenase</td>\n",
       "      <td>R00519</td>\n",
       "      <td>MRL</td>\n",
       "      <td>1 C00003; 1 C00058</td>\n",
       "      <td>1 C00004; 1 C00011; 1 C00080</td>\n",
       "      <td>Km_C00058: 6.299069881; Km_C00003: 0.179658741...</td>\n",
       "      <td>Kcat_F: 12.1695376695; Kcat_R: 26.700187375</td>\n",
       "      <td>NaN</td>\n",
       "      <td>NaN</td>\n",
       "      <td>Keq: 336.0231457353914</td>\n",
       "    </tr>\n",
       "    <tr>\n",
       "      <th>88</th>\n",
       "      <td>NaN</td>\n",
       "      <td>2.3.3.8</td>\n",
       "      <td>Escherichia coli</td>\n",
       "      <td>R123</td>\n",
       "      <td>Atp citrate synthase</td>\n",
       "      <td>R00352</td>\n",
       "      <td>MRL</td>\n",
       "      <td>1 C00002; 1 C00010; 1 C00158</td>\n",
       "      <td>1 C00008; 1 C00009; 1 C00024; 1 C00036</td>\n",
       "      <td>Km_C00008: 11.421359055528603; Km_C00009: 11.4...</td>\n",
       "      <td>Kcat_F: 19.78221183941891; Kcat_R: 19.78221183...</td>\n",
       "      <td>NaN</td>\n",
       "      <td>NaN</td>\n",
       "      <td>Keq: 0.02520442315960882</td>\n",
       "    </tr>\n",
       "    <tr>\n",
       "      <th>115</th>\n",
       "      <td>NaN</td>\n",
       "      <td>2.3.3.16</td>\n",
       "      <td>Escherichia coli</td>\n",
       "      <td>R157</td>\n",
       "      <td>Citrate synthase</td>\n",
       "      <td>R00351</td>\n",
       "      <td>MRL</td>\n",
       "      <td>1 C00010; 1 C00158</td>\n",
       "      <td>1 C00001; 1 C00024; 1 C00036</td>\n",
       "      <td>Km_C00158: 0.206155464; Km_C00010: 0.065331496...</td>\n",
       "      <td>Kcat_F: 33.803514055; Kcat_R: 47.3506715233333</td>\n",
       "      <td>C00158HCT</td>\n",
       "      <td>C00158HCT_KI: 0.206155464</td>\n",
       "      <td>Keq: 1.6057484977815639e-07</td>\n",
       "    </tr>\n",
       "  </tbody>\n",
       "</table>\n",
       "</div>"
      ],
      "text/plain": [
       "    Accession Number        EC           Species Label                 Enzyme  \\\n",
       "288     Heterologous  1.17.1.9  Starkeya novella  R197  Formate dehydrogenase   \n",
       "88               NaN   2.3.3.8  Escherichia coli  R123   Atp citrate synthase   \n",
       "115              NaN  2.3.3.16  Escherichia coli  R157       Citrate synthase   \n",
       "\n",
       "    Reaction ID Mechanism                    Substrates  \\\n",
       "288      R00519       MRL            1 C00003; 1 C00058   \n",
       "88       R00352       MRL  1 C00002; 1 C00010; 1 C00158   \n",
       "115      R00351       MRL            1 C00010; 1 C00158   \n",
       "\n",
       "                                   Products  \\\n",
       "288            1 C00004; 1 C00011; 1 C00080   \n",
       "88   1 C00008; 1 C00009; 1 C00024; 1 C00036   \n",
       "115            1 C00001; 1 C00024; 1 C00036   \n",
       "\n",
       "                                                    Km  \\\n",
       "288  Km_C00058: 6.299069881; Km_C00003: 0.179658741...   \n",
       "88   Km_C00008: 11.421359055528603; Km_C00009: 11.4...   \n",
       "115  Km_C00158: 0.206155464; Km_C00010: 0.065331496...   \n",
       "\n",
       "                                                  Kcat Inhibitors  \\\n",
       "288        Kcat_F: 12.1695376695; Kcat_R: 26.700187375        NaN   \n",
       "88   Kcat_F: 19.78221183941891; Kcat_R: 19.78221183...        NaN   \n",
       "115     Kcat_F: 33.803514055; Kcat_R: 47.3506715233333  C00158HCT   \n",
       "\n",
       "                            KI                          Keq  \n",
       "288                        NaN       Keq: 336.0231457353914  \n",
       "88                         NaN     Keq: 0.02520442315960882  \n",
       "115  C00158HCT_KI: 0.206155464  Keq: 1.6057484977815639e-07  "
      ]
     },
     "execution_count": 4,
     "metadata": {},
     "output_type": "execute_result"
    }
   ],
   "source": [
    "reactions = pd.read_csv('src/frenda_brenda/Files/KEGG_Filtered/Reactions_M8.csv')\n",
    "reactions = reactions.iloc[[288, 88, 115]]\n",
    "reactions"
   ]
  },
  {
   "cell_type": "code",
   "execution_count": 5,
   "metadata": {},
   "outputs": [],
   "source": [
    "all_enzymes = reactions['EC'].values\n",
    "all_organisms = reactions['Species'].values"
   ]
  },
  {
   "cell_type": "code",
   "execution_count": 6,
   "metadata": {},
   "outputs": [],
   "source": [
    "all_inhibitors = list(map(lambda e: get_inhibitors(s, e, output = 'kegg'), all_enzymes))\n",
    "\n",
    "# flatten lists\n",
    "all_enzymes = [[enzyme]*len(inhibitors) for enzyme, inhibitors in zip(all_enzymes, all_inhibitors)]\n",
    "all_organisms = [[organism]*len(inhibitors) for organism, inhibitors in zip(all_organisms, all_inhibitors)]\n",
    "all_enzymes = sum(all_enzymes,[])\n",
    "all_inhibitors = sum(all_inhibitors,[])\n",
    "all_organisms = sum(all_organisms,[])"
   ]
  },
  {
   "cell_type": "code",
   "execution_count": 7,
   "metadata": {},
   "outputs": [],
   "source": [
    "import pickle\n",
    "pickle.dump([all_inhibitors, all_enzymes, all_organisms], open('inhibitors.pickle', 'wb'))"
   ]
  },
  {
   "cell_type": "code",
   "execution_count": null,
   "metadata": {},
   "outputs": [
    {
     "ename": "OSError",
     "evalue": "[WinError 182] The operating system cannot run %1. Error loading \"c:\\Users\\Diego Alba\\.conda\\envs\\ODBM2\\lib\\site-packages\\torch\\lib\\shm.dll\" or one of its dependencies.",
     "output_type": "error",
     "traceback": [
      "\u001b[1;31m---------------------------------------------------------------------------\u001b[0m",
      "\u001b[1;31mOSError\u001b[0m                                   Traceback (most recent call last)",
      "Cell \u001b[1;32mIn[12], line 1\u001b[0m\n\u001b[1;32m----> 1\u001b[0m \u001b[38;5;28;01mfrom\u001b[39;00m \u001b[38;5;21;01msrc\u001b[39;00m\u001b[38;5;21;01m.\u001b[39;00m\u001b[38;5;21;01mkinetic_estimator\u001b[39;00m\u001b[38;5;21;01m.\u001b[39;00m\u001b[38;5;21;01mestimators\u001b[39;00m \u001b[38;5;28;01mimport\u001b[39;00m Estimator\n\u001b[0;32m      3\u001b[0m KMest \u001b[38;5;241m=\u001b[39m Estimator(\u001b[38;5;124m'\u001b[39m\u001b[38;5;124mKM_prediction\u001b[39m\u001b[38;5;124m'\u001b[39m,\u001b[38;5;124m'\u001b[39m\u001b[38;5;124mKm\u001b[39m\u001b[38;5;124m'\u001b[39m)\n\u001b[0;32m      4\u001b[0m kis \u001b[38;5;241m=\u001b[39m KMest\u001b[38;5;241m.\u001b[39mestimate(all_inhibitors, all_enzymes, all_organisms, \u001b[38;5;28;01mTrue\u001b[39;00m)\n",
      "File \u001b[1;32mc:\\Users\\Diego Alba\\Documents\\GitHub\\ECFERS\\src\\kinetic_estimator\\estimators.py:5\u001b[0m\n\u001b[0;32m      2\u001b[0m \u001b[38;5;28;01mfrom\u001b[39;00m \u001b[38;5;21;01moverrides\u001b[39;00m \u001b[38;5;28;01mimport\u001b[39;00m EnforceOverrides, overrides, final\n\u001b[0;32m      3\u001b[0m \u001b[38;5;28;01mimport\u001b[39;00m \u001b[38;5;21;01mpickle\u001b[39;00m\n\u001b[1;32m----> 5\u001b[0m \u001b[38;5;28;01mimport\u001b[39;00m \u001b[38;5;21;01msrc\u001b[39;00m\u001b[38;5;21;01m.\u001b[39;00m\u001b[38;5;21;01mkinetic_estimator\u001b[39;00m\u001b[38;5;21;01m.\u001b[39;00m\u001b[38;5;21;01mDLKcat\u001b[39;00m\u001b[38;5;21;01m.\u001b[39;00m\u001b[38;5;21;01mmodel\u001b[39;00m \u001b[38;5;28;01mas\u001b[39;00m \u001b[38;5;21;01mDLKcat_model\u001b[39;00m\n\u001b[0;32m      6\u001b[0m \u001b[38;5;28;01mfrom\u001b[39;00m \u001b[38;5;21;01msrc\u001b[39;00m\u001b[38;5;21;01m.\u001b[39;00m\u001b[38;5;21;01mkinetic_estimator\u001b[39;00m\u001b[38;5;21;01m.\u001b[39;00m\u001b[38;5;21;01mKM_prediction_function\u001b[39;00m\u001b[38;5;21;01m.\u001b[39;00m\u001b[38;5;21;01mmetabolite_preprocessing\u001b[39;00m \u001b[38;5;28;01mimport\u001b[39;00m metabolite_preprocessing\n\u001b[0;32m      7\u001b[0m \u001b[38;5;28;01mfrom\u001b[39;00m \u001b[38;5;21;01msrc\u001b[39;00m\u001b[38;5;21;01m.\u001b[39;00m\u001b[38;5;21;01mkinetic_estimator\u001b[39;00m\u001b[38;5;21;01m.\u001b[39;00m\u001b[38;5;21;01mKM_prediction_function\u001b[39;00m\u001b[38;5;21;01m.\u001b[39;00m\u001b[38;5;21;01mGNN_functions\u001b[39;00m \u001b[38;5;28;01mimport\u001b[39;00m calculate_gnn_representations\n",
      "File \u001b[1;32mc:\\Users\\Diego Alba\\Documents\\GitHub\\ECFERS\\src\\kinetic_estimator\\DLKcat\\model.py:11\u001b[0m\n\u001b[0;32m      9\u001b[0m \u001b[38;5;28;01mimport\u001b[39;00m \u001b[38;5;21;01mtimeit\u001b[39;00m\n\u001b[0;32m     10\u001b[0m \u001b[38;5;28;01mimport\u001b[39;00m \u001b[38;5;21;01mnumpy\u001b[39;00m \u001b[38;5;28;01mas\u001b[39;00m \u001b[38;5;21;01mnp\u001b[39;00m\n\u001b[1;32m---> 11\u001b[0m \u001b[38;5;28;01mimport\u001b[39;00m \u001b[38;5;21;01mtorch\u001b[39;00m\n\u001b[0;32m     12\u001b[0m \u001b[38;5;28;01mimport\u001b[39;00m \u001b[38;5;21;01mtorch\u001b[39;00m\u001b[38;5;21;01m.\u001b[39;00m\u001b[38;5;21;01mnn\u001b[39;00m \u001b[38;5;28;01mas\u001b[39;00m \u001b[38;5;21;01mnn\u001b[39;00m\n\u001b[0;32m     13\u001b[0m \u001b[38;5;28;01mimport\u001b[39;00m \u001b[38;5;21;01mtorch\u001b[39;00m\u001b[38;5;21;01m.\u001b[39;00m\u001b[38;5;21;01mnn\u001b[39;00m\u001b[38;5;21;01m.\u001b[39;00m\u001b[38;5;21;01mfunctional\u001b[39;00m \u001b[38;5;28;01mas\u001b[39;00m \u001b[38;5;21;01mF\u001b[39;00m\n",
      "File \u001b[1;32mc:\\Users\\Diego Alba\\.conda\\envs\\ODBM2\\lib\\site-packages\\torch\\__init__.py:122\u001b[0m\n\u001b[0;32m    120\u001b[0m     err \u001b[38;5;241m=\u001b[39m ctypes\u001b[38;5;241m.\u001b[39mWinError(last_error)\n\u001b[0;32m    121\u001b[0m     err\u001b[38;5;241m.\u001b[39mstrerror \u001b[38;5;241m+\u001b[39m\u001b[38;5;241m=\u001b[39m \u001b[38;5;124mf\u001b[39m\u001b[38;5;124m'\u001b[39m\u001b[38;5;124m Error loading \u001b[39m\u001b[38;5;124m\"\u001b[39m\u001b[38;5;132;01m{\u001b[39;00mdll\u001b[38;5;132;01m}\u001b[39;00m\u001b[38;5;124m\"\u001b[39m\u001b[38;5;124m or one of its dependencies.\u001b[39m\u001b[38;5;124m'\u001b[39m\n\u001b[1;32m--> 122\u001b[0m     \u001b[38;5;28;01mraise\u001b[39;00m err\n\u001b[0;32m    123\u001b[0m \u001b[38;5;28;01melif\u001b[39;00m res \u001b[38;5;129;01mis\u001b[39;00m \u001b[38;5;129;01mnot\u001b[39;00m \u001b[38;5;28;01mNone\u001b[39;00m:\n\u001b[0;32m    124\u001b[0m     is_loaded \u001b[38;5;241m=\u001b[39m \u001b[38;5;28;01mTrue\u001b[39;00m\n",
      "\u001b[1;31mOSError\u001b[0m: [WinError 182] The operating system cannot run %1. Error loading \"c:\\Users\\Diego Alba\\.conda\\envs\\ODBM2\\lib\\site-packages\\torch\\lib\\shm.dll\" or one of its dependencies."
     ]
    }
   ],
   "source": [
    "from src.kinetic_estimator.estimators import Estimator\n",
    "\n",
    "KMest = Estimator('KM_prediction','Km')\n",
    "kis = KMest.estimate(all_inhibitors, all_enzymes, all_organisms, True)\n",
    "pd.DataFrame.from_dict(kis).to_csv('241023_missing_kis.csv')"
   ]
  },
  {
   "cell_type": "code",
   "execution_count": null,
   "metadata": {},
   "outputs": [],
   "source": []
  }
 ],
 "metadata": {
  "kernelspec": {
   "display_name": "ODBM2",
   "language": "python",
   "name": "python3"
  },
  "language_info": {
   "codemirror_mode": {
    "name": "ipython",
    "version": 3
   },
   "file_extension": ".py",
   "mimetype": "text/x-python",
   "name": "python",
   "nbconvert_exporter": "python",
   "pygments_lexer": "ipython3",
   "version": "3.8.17"
  }
 },
 "nbformat": 4,
 "nbformat_minor": 2
}
