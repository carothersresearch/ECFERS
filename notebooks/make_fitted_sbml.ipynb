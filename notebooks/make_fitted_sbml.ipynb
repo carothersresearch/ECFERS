{
 "cells": [
  {
   "cell_type": "code",
   "execution_count": 1,
   "metadata": {},
   "outputs": [],
   "source": [
    "import os\n",
    "import tellurium as te\n",
    "import numpy as np\n",
    "import pandas as pd\n",
    "import pickle\n",
    "\n",
    "os.chdir('..')"
   ]
  },
  {
   "cell_type": "code",
   "execution_count": null,
   "metadata": {},
   "outputs": [],
   "source": [
    "with open('results/240707_VNMetGly_BIOSYN_train-test/train_myprob_test.obj', 'rb') as file:\n",
    "    myprob = pickle.load(file)\n",
    "\n",
    "# r = te.loadSBMLModel(myprob.model[0])\n",
    "myprob._setup_rr()\n",
    "r = myprob.r[0]\n",
    "# make upper and lower bounds\n",
    "upper = np.array([r[i]*100 for i in [p for p in myprob.parameter_labels if 'Kcat' in p]] + \n",
    "                 [r[i]*100 for i in [p for p in myprob.parameter_labels if 'Km' in p]] + \n",
    "                 [r[i]*100 for i in [p for p in myprob.parameter_labels if 'Ki' in p]] +\n",
    "                 [1 for _ in [p for p in myprob.parameter_labels if 'Gnc' in p]] +\n",
    "                 [1 for _ in [p for p in myprob.parameter_labels if 'Gc' in p]] +\n",
    "                 [100 for _ in [p for p in myprob.parameter_labels if 'v' in p]] + \n",
    "                 [100, 100])\n",
    "\n",
    "lower = np.array([r[i]/100 for i in [p for p in myprob.parameter_labels if 'Kcat' in p]] + \n",
    "                 [r[i]/100 for i in [p for p in myprob.parameter_labels if 'Km' in p]] + \n",
    "                 [r[i]/100 for i in [p for p in myprob.parameter_labels if 'Ki' in p]] +\n",
    "                 [1/100 for _ in [p for p in myprob.parameter_labels if 'Gnc' in p]] +\n",
    "                 [1/100 for _ in [p for p in myprob.parameter_labels if 'Gc' in p]] +\n",
    "                 [1/100 for _ in [p for p in myprob.parameter_labels if 'v' in p]] + \n",
    "                 [1/100, 1/100])\n",
    "\n",
    "from src.fitting.pygmo_problems import SBMLGlobalFit_Multi_Fly\n",
    "myprob = SBMLGlobalFit_Multi_Fly(\n",
    "    model = myprob.model, \n",
    "    data = myprob.data, \n",
    "    data_weights = None,\n",
    "    parameter_labels=myprob.parameter_labels, \n",
    "    lower_bounds=lower, upper_bounds=upper, \n",
    "    metadata=myprob.metadata,\n",
    "    variables=myprob.variables,\n",
    "    scale=True,\n",
    "    dlambda = 1)"
   ]
  },
  {
   "cell_type": "code",
   "execution_count": 5,
   "metadata": {},
   "outputs": [],
   "source": [
    "with open('results/240707_VNMetGly_BIOSYN_train-test/checkpoint_t_test.dat', 'rb') as file:\n",
    "    pops = pickle.load(file)\n",
    "\n",
    "new_p_initial = np.array(myprob._unscale(pops[0].champion_x))\n",
    "new_p_dict = {l:v for l,v in zip(myprob.parameter_labels,new_p_initial)}\n",
    "new_upper = np.array([new_p_dict[i]*100 for i in [p for p in myprob.parameter_labels if 'Kcat' in p]] + \n",
    "                 [new_p_dict[i]*100 for i in [p for p in myprob.parameter_labels if 'Km' in p]] + \n",
    "                 [new_p_dict[i]*100 for i in [p for p in myprob.parameter_labels if 'Ki' in p]] +\n",
    "                 [1 for _ in [p for p in myprob.parameter_labels if 'Gnc' in p]] +\n",
    "                 [1 for _ in [p for p in myprob.parameter_labels if 'Gc' in p]] +\n",
    "                 [new_p_dict[i]*100 for i in [p for p in myprob.parameter_labels if 'v' in p]] + \n",
    "                 [new_p_dict['rel0']*10, new_p_dict['rel1']*10])\n",
    "\n",
    "new_lower = np.array([new_p_dict[i]/100 for i in [p for p in myprob.parameter_labels if 'Kcat' in p]] + \n",
    "                 [new_p_dict[i]/100 for i in [p for p in myprob.parameter_labels if 'Km' in p]] + \n",
    "                 [new_p_dict[i]/100 for i in [p for p in myprob.parameter_labels if 'Ki' in p]] +\n",
    "                 [1/100 for _ in [p for p in myprob.parameter_labels if 'Gnc' in p]] +\n",
    "                 [1/100 for _ in [p for p in myprob.parameter_labels if 'Gc' in p]] +\n",
    "                 [new_p_dict[i]/100 for i in [p for p in myprob.parameter_labels if 'v' in p]] + \n",
    "                 [new_p_dict['rel0']/10, new_p_dict['rel1']/10])\n",
    "\n",
    "myprob.set_bounds(new_upper, new_lower)\n",
    "with open('results/240707_VNMetGly_BIOSYN_train-test/checkpoint_t_test2.dat', 'rb') as file:\n",
    "    pops = pickle.load(file)\n",
    "\n",
    "new_p_initial = np.array(myprob._unscale(pops[0].champion_x))\n",
    "new_p_dict = {l:v for l,v in zip(myprob.parameter_labels,new_p_initial)}\n",
    "new_upper = np.array([new_p_dict[i]*100 for i in [p for p in myprob.parameter_labels if 'Kcat' in p]] + \n",
    "                 [new_p_dict[i]*100 for i in [p for p in myprob.parameter_labels if 'Km' in p]] + \n",
    "                 [new_p_dict[i]*100 for i in [p for p in myprob.parameter_labels if 'Ki' in p]] +\n",
    "                 [1 for _ in [p for p in myprob.parameter_labels if 'Gnc' in p]] +\n",
    "                 [1 for _ in [p for p in myprob.parameter_labels if 'Gc' in p]] +\n",
    "                 [new_p_dict[i]*100 for i in [p for p in myprob.parameter_labels if 'v' in p]] + \n",
    "                 [new_p_dict['rel0']*10, new_p_dict['rel1']*10])\n",
    "\n",
    "new_lower = np.array([new_p_dict[i]/100 for i in [p for p in myprob.parameter_labels if 'Kcat' in p]] + \n",
    "                 [new_p_dict[i]/100 for i in [p for p in myprob.parameter_labels if 'Km' in p]] + \n",
    "                 [new_p_dict[i]/100 for i in [p for p in myprob.parameter_labels if 'Ki' in p]] +\n",
    "                 [1/100 for _ in [p for p in myprob.parameter_labels if 'Gnc' in p]] +\n",
    "                 [1/100 for _ in [p for p in myprob.parameter_labels if 'Gc' in p]] +\n",
    "                 [new_p_dict[i]/100 for i in [p for p in myprob.parameter_labels if 'v' in p]] + \n",
    "                 [new_p_dict['rel0']/10, new_p_dict['rel1']/10])\n",
    "\n",
    "myprob.set_bounds(new_upper, new_lower)\n",
    "with open('results/240707_VNMetGly_BIOSYN_train-test/checkpoint_t_testw.dat', 'rb') as file:\n",
    "    pops = pickle.load(file)\n",
    "\n"
   ]
  },
  {
   "cell_type": "code",
   "execution_count": 33,
   "metadata": {},
   "outputs": [],
   "source": [
    "with open('src/frenda_brenda/Files/Reduced Complexity/240621_VN_Metabolism_Gly_BIOSYN.txt', 'r') as f:\n",
    "    antimony = f.read()\n",
    "\n",
    "x = [*list(myprob._unscale(pops[0].champion_x)), myprob.variables[0]['empty']['dilution_factor']]\n",
    "for p,v in zip(myprob.parameter_labels+['dilution_factor'], x):\n",
    "    start = antimony.find(p+' =')\n",
    "    end = start + antimony[start:start+50].find(';')\n",
    "    antimony = antimony.replace(antimony[start:end], p+' ='+str(v))\n",
    "\n",
    "with open('results/240707_VNMetGly_BIOSYN_train-test/240621_VN_Metabolism_Gly_BIOSYN_fitted.sbml', 'w') as f:\n",
    "    f.write(te.loada(antimony).getSBML())"
   ]
  },
  {
   "cell_type": "code",
   "execution_count": 8,
   "metadata": {},
   "outputs": [],
   "source": [
    "myprob._setup_rr()\n",
    "\n",
    "res = myprob._simulate(myprob._unscale(pops[0].champion_x))"
   ]
  },
  {
   "cell_type": "code",
   "execution_count": 17,
   "metadata": {},
   "outputs": [
    {
     "data": {
      "text/plain": [
       "[<matplotlib.lines.Line2D at 0x7fdd49c52b80>]"
      ]
     },
     "execution_count": 17,
     "metadata": {},
     "output_type": "execute_result"
    },
    {
     "data": {
      "image/png": "[encoded data removed]",
      "text/plain": [
       "<Figure size 640x480 with 1 Axes>"
      ]
     },
     "metadata": {},
     "output_type": "display_data"
    }
   ],
   "source": [
    "import matplotlib.pyplot as plt\n",
    "plt.plot(res[0]['mal'][:,120])"
   ]
  },
  {
   "cell_type": "code",
   "execution_count": 13,
   "metadata": {},
   "outputs": [
    {
     "data": {
      "text/plain": [
       "(array([120]),)"
      ]
     },
     "execution_count": 13,
     "metadata": {},
     "output_type": "execute_result"
    }
   ],
   "source": [
    "np.where(['C00022' == s for s in myprob.r[0].getFloatingSpeciesIds()])"
   ]
  },
  {
   "cell_type": "code",
   "execution_count": 18,
   "metadata": {},
   "outputs": [
    {
     "data": {
      "text/plain": [
       "dict_keys(['empty', 'mal', 'pyr', 'ser', 'gly'])"
      ]
     },
     "execution_count": 18,
     "metadata": {},
     "output_type": "execute_result"
    }
   ],
   "source": [
    "res[0].keys()"
   ]
  },
  {
   "cell_type": "code",
   "execution_count": 20,
   "metadata": {},
   "outputs": [
    {
     "data": {
      "text/plain": [
       "dict_keys(['empty', 'mal', 'pyr', 'ser', 'gly'])"
      ]
     },
     "execution_count": 20,
     "metadata": {},
     "output_type": "execute_result"
    }
   ],
   "source": [
    "myprob.variables[0].keys()"
   ]
  }
 ],
 "metadata": {
  "kernelspec": {
   "display_name": "ODBM2",
   "language": "python",
   "name": "python3"
  },
  "language_info": {
   "codemirror_mode": {
    "name": "ipython",
    "version": 3
   },
   "file_extension": ".py",
   "mimetype": "text/x-python",
   "name": "python",
   "nbconvert_exporter": "python",
   "pygments_lexer": "ipython3",
   "version": "undefined.undefined.undefined"
  }
 },
 "nbformat": 4,
 "nbformat_minor": 2
}
