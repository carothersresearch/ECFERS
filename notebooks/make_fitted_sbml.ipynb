{
 "cells": [
  {
   "cell_type": "code",
   "execution_count": 1,
   "metadata": {},
   "outputs": [],
   "source": [
    "import os\n",
    "import tellurium as te\n",
    "import numpy as np\n",
    "import pandas as pd\n",
    "import pickle\n",
    "\n",
    "os.chdir('..')"
   ]
  },
  {
   "cell_type": "code",
   "execution_count": 2,
   "metadata": {},
   "outputs": [],
   "source": [
    "with open('results/240707_VNMetGly_Keq_PSOs/train_myprob_3.obj', 'rb') as file:\n",
    "    myprob = pickle.load(file)"
   ]
  },
  {
   "cell_type": "code",
   "execution_count": 3,
   "metadata": {},
   "outputs": [],
   "source": [
    "with open('results/240707_VNMetGly_Keq_PSOs/checkpoint_t3.dat', 'rb') as file:\n",
    "    pops = pickle.load(file)"
   ]
  },
  {
   "cell_type": "code",
   "execution_count": 4,
   "metadata": {},
   "outputs": [],
   "source": [
    "from roadrunner import Config, RoadRunner, Logger\n",
    "Logger.disableLogging()\n",
    "Config.setValue(Config.ROADRUNNER_DISABLE_PYTHON_DYNAMIC_PROPERTIES, True)\n",
    "Config.setValue(Config.LOADSBMLOPTIONS_RECOMPILE, False) \n",
    "Config.setValue(Config.LLJIT_OPTIMIZATION_LEVEL, 4)\n",
    "Config.setValue(Config.LLVM_SYMBOL_CACHE, True)\n",
    "Config.setValue(Config.LOADSBMLOPTIONS_OPTIMIZE_GVN, True)\n",
    "Config.setValue(Config.LOADSBMLOPTIONS_OPTIMIZE_CFG_SIMPLIFICATION, True)\n",
    "Config.setValue(Config.LOADSBMLOPTIONS_OPTIMIZE_INSTRUCTION_COMBINING, True)\n",
    "Config.setValue(Config.LOADSBMLOPTIONS_OPTIMIZE_DEAD_INST_ELIMINATION, True)\n",
    "Config.setValue(Config.LOADSBMLOPTIONS_OPTIMIZE_DEAD_CODE_ELIMINATION, True)\n",
    "Config.setValue(Config.LOADSBMLOPTIONS_OPTIMIZE_INSTRUCTION_SIMPLIFIER, True)\n",
    "Config.setValue(Config.SIMULATEOPTIONS_COPY_RESULT, True)\n",
    "r = te.loadSBMLModel('/workspaces/ECFERS/models/240621_VN_Metabolism_Gly_Keq.sbml')\n",
    "r.integrator.absolute_tolerance = 1e-8\n",
    "r.integrator.relative_tolerance = 1e-8\n",
    "r.integrator.maximum_num_steps = 2000\n",
    "myprob.r =[r]"
   ]
  },
  {
   "cell_type": "code",
   "execution_count": 22,
   "metadata": {},
   "outputs": [],
   "source": [
    "with open('/workspaces/ECFERS/src/frenda_brenda/Files/Reduced Complexity/240621_VN_Metabolism_Gly_Keq.txt', 'r') as f:\n",
    "    antimony = f.read()\n",
    "\n",
    "x = [*list(myprob._unscale(pops[0].champion_x))[:-1], myprob.variables[0]['empty']['dilution_factor']]\n",
    "for p,v in zip(myprob.parameter_labels[:-1]+['dilution_factor'], x):\n",
    "    start = antimony.find(p+' =')\n",
    "    end = start + antimony[start:start+50].find(';')\n",
    "    antimony = antimony.replace(antimony[start:end], p+' ='+str(v))\n",
    "\n",
    "with open('/workspaces/ECFERS/results/240707_VNMetGly_Keq_PSOs/240621_VN_Metabolism_Gly_Keq_fitted.sbml', 'w') as f:\n",
    "    f.write(te.loada(antimony).getSBML())"
   ]
  },
  {
   "cell_type": "code",
   "execution_count": 24,
   "metadata": {},
   "outputs": [],
   "source": [
    "res = myprob._simulate(myprob._unscale(pops[0].champion_x))"
   ]
  },
  {
   "cell_type": "code",
   "execution_count": 26,
   "metadata": {},
   "outputs": [
    {
     "data": {
      "text/plain": [
       "(array([118]),)"
      ]
     },
     "execution_count": 26,
     "metadata": {},
     "output_type": "execute_result"
    }
   ],
   "source": [
    "np.where([k == 'C00022' for k in r.getFloatingSpeciesIds()])"
   ]
  },
  {
   "cell_type": "code",
   "execution_count": 27,
   "metadata": {},
   "outputs": [
    {
     "data": {
      "text/plain": [
       "[<matplotlib.lines.Line2D at 0x7fe1d09bb550>]"
      ]
     },
     "execution_count": 27,
     "metadata": {},
     "output_type": "execute_result"
    },
    {
     "data": {
      "image/png": "[encoded data removed]",
      "text/plain": [
       "<Figure size 640x480 with 1 Axes>"
      ]
     },
     "metadata": {},
     "output_type": "display_data"
    }
   ],
   "source": [
    "import matplotlib.pyplot as plt\n",
    "\n",
    "plt.plot(res[0]['pyr'][:,118])"
   ]
  },
  {
   "cell_type": "code",
   "execution_count": null,
   "metadata": {},
   "outputs": [],
   "source": []
  },
  {
   "cell_type": "code",
   "execution_count": null,
   "metadata": {},
   "outputs": [],
   "source": []
  },
  {
   "cell_type": "code",
   "execution_count": null,
   "metadata": {},
   "outputs": [],
   "source": []
  },
  {
   "cell_type": "code",
   "execution_count": 29,
   "metadata": {},
   "outputs": [],
   "source": [
    "with open('results/240707_VNMetGly_BIOSYN_train-test/train_myprob_test.obj', 'rb') as file:\n",
    "    myprob = pickle.load(file)\n",
    "\n",
    "r = te.loadSBMLModel(myprob.model[0])\n",
    "# make upper and lower bounds\n",
    "upper = np.array([r[i]*100 for i in [p for p in myprob.parameter_labels if 'Kcat' in p]] + \n",
    "                 [r[i]*100 for i in [p for p in myprob.parameter_labels if 'Km' in p]] + \n",
    "                 [r[i]*100 for i in [p for p in myprob.parameter_labels if 'Ki' in p]] +\n",
    "                 [1 for _ in [p for p in myprob.parameter_labels if 'Gnc' in p]] +\n",
    "                 [1 for _ in [p for p in myprob.parameter_labels if 'Gc' in p]] +\n",
    "                 [100 for _ in [p for p in myprob.parameter_labels if 'v' in p]] + \n",
    "                 [100, 100])\n",
    "\n",
    "lower = np.array([r[i]/100 for i in [p for p in myprob.parameter_labels if 'Kcat' in p]] + \n",
    "                 [r[i]/100 for i in [p for p in myprob.parameter_labels if 'Km' in p]] + \n",
    "                 [r[i]/100 for i in [p for p in myprob.parameter_labels if 'Ki' in p]] +\n",
    "                 [1/100 for _ in [p for p in myprob.parameter_labels if 'Gnc' in p]] +\n",
    "                 [1/100 for _ in [p for p in myprob.parameter_labels if 'Gc' in p]] +\n",
    "                 [1/100 for _ in [p for p in myprob.parameter_labels if 'v' in p]] + \n",
    "                 [1/100, 1/100])\n",
    "\n",
    "from src.fitting.pygmo_problems import SBMLGlobalFit_Multi_Fly\n",
    "myprob = SBMLGlobalFit_Multi_Fly(\n",
    "    model = myprob.model, \n",
    "    data = myprob.data, \n",
    "    parameter_labels=myprob.parameter_labels, \n",
    "    lower_bounds=lower, upper_bounds=upper, \n",
    "    metadata=myprob.metadata,\n",
    "    variables=myprob.variables,\n",
    "    scale=True,\n",
    "    dlambda = 1)"
   ]
  },
  {
   "cell_type": "code",
   "execution_count": 30,
   "metadata": {},
   "outputs": [],
   "source": [
    "with open('results/240707_VNMetGly_BIOSYN_train-test/checkpoint_t_test.dat', 'rb') as file:\n",
    "    pops = pickle.load(file)\n",
    "\n",
    "new_p_initial = np.array(myprob._unscale(pops[0].champion_x))\n",
    "new_p_dict = {l:v for l,v in zip(myprob.parameter_labels,new_p_initial)}\n",
    "new_upper = np.array([new_p_dict[i]*100 for i in [p for p in myprob.parameter_labels if 'Kcat' in p]] + \n",
    "                 [new_p_dict[i]*100 for i in [p for p in myprob.parameter_labels if 'Km' in p]] + \n",
    "                 [new_p_dict[i]*100 for i in [p for p in myprob.parameter_labels if 'Ki' in p]] +\n",
    "                 [1 for _ in [p for p in myprob.parameter_labels if 'Gnc' in p]] +\n",
    "                 [1 for _ in [p for p in myprob.parameter_labels if 'Gc' in p]] +\n",
    "                 [new_p_dict[i]*100 for i in [p for p in myprob.parameter_labels if 'v' in p]] + \n",
    "                 [new_p_dict['rel0']*10, new_p_dict['rel1']*10])\n",
    "\n",
    "new_lower = np.array([new_p_dict[i]/100 for i in [p for p in myprob.parameter_labels if 'Kcat' in p]] + \n",
    "                 [new_p_dict[i]/100 for i in [p for p in myprob.parameter_labels if 'Km' in p]] + \n",
    "                 [new_p_dict[i]/100 for i in [p for p in myprob.parameter_labels if 'Ki' in p]] +\n",
    "                 [1/100 for _ in [p for p in myprob.parameter_labels if 'Gnc' in p]] +\n",
    "                 [1/100 for _ in [p for p in myprob.parameter_labels if 'Gc' in p]] +\n",
    "                 [new_p_dict[i]/100 for i in [p for p in myprob.parameter_labels if 'v' in p]] + \n",
    "                 [new_p_dict['rel0']/10, new_p_dict['rel1']/10])\n",
    "\n",
    "myprob.set_bounds(new_upper, new_lower)\n",
    "with open('results/240707_VNMetGly_BIOSYN_train-test/checkpoint_t_test2.dat', 'rb') as file:\n",
    "    pops = pickle.load(file)\n",
    "\n",
    "new_p_initial = np.array(myprob._unscale(pops[0].champion_x))\n",
    "new_p_dict = {l:v for l,v in zip(myprob.parameter_labels,new_p_initial)}\n",
    "new_upper = np.array([new_p_dict[i]*100 for i in [p for p in myprob.parameter_labels if 'Kcat' in p]] + \n",
    "                 [new_p_dict[i]*100 for i in [p for p in myprob.parameter_labels if 'Km' in p]] + \n",
    "                 [new_p_dict[i]*100 for i in [p for p in myprob.parameter_labels if 'Ki' in p]] +\n",
    "                 [1 for _ in [p for p in myprob.parameter_labels if 'Gnc' in p]] +\n",
    "                 [1 for _ in [p for p in myprob.parameter_labels if 'Gc' in p]] +\n",
    "                 [new_p_dict[i]*100 for i in [p for p in myprob.parameter_labels if 'v' in p]] + \n",
    "                 [new_p_dict['rel0']*10, new_p_dict['rel1']*10])\n",
    "\n",
    "new_lower = np.array([new_p_dict[i]/100 for i in [p for p in myprob.parameter_labels if 'Kcat' in p]] + \n",
    "                 [new_p_dict[i]/100 for i in [p for p in myprob.parameter_labels if 'Km' in p]] + \n",
    "                 [new_p_dict[i]/100 for i in [p for p in myprob.parameter_labels if 'Ki' in p]] +\n",
    "                 [1/100 for _ in [p for p in myprob.parameter_labels if 'Gnc' in p]] +\n",
    "                 [1/100 for _ in [p for p in myprob.parameter_labels if 'Gc' in p]] +\n",
    "                 [new_p_dict[i]/100 for i in [p for p in myprob.parameter_labels if 'v' in p]] + \n",
    "                 [new_p_dict['rel0']/10, new_p_dict['rel1']/10])\n",
    "\n",
    "myprob.set_bounds(new_upper, new_lower)\n",
    "with open('results/240707_VNMetGly_BIOSYN_train-test/checkpoint_t_testw.dat', 'rb') as file:\n",
    "    pops = pickle.load(file)"
   ]
  },
  {
   "cell_type": "code",
   "execution_count": 33,
   "metadata": {},
   "outputs": [],
   "source": [
    "with open('src/frenda_brenda/Files/Reduced Complexity/240621_VN_Metabolism_Gly_BIOSYN.txt', 'r') as f:\n",
    "    antimony = f.read()\n",
    "\n",
    "x = [*list(myprob._unscale(pops[0].champion_x)), myprob.variables[0]['empty']['dilution_factor']]\n",
    "for p,v in zip(myprob.parameter_labels+['dilution_factor'], x):\n",
    "    start = antimony.find(p+' =')\n",
    "    end = start + antimony[start:start+50].find(';')\n",
    "    antimony = antimony.replace(antimony[start:end], p+' ='+str(v))\n",
    "\n",
    "with open('results/240707_VNMetGly_BIOSYN_train-test/240621_VN_Metabolism_Gly_BIOSYN_fitted.sbml', 'w') as f:\n",
    "    f.write(te.loada(antimony).getSBML())"
   ]
  },
  {
   "cell_type": "code",
   "execution_count": null,
   "metadata": {},
   "outputs": [],
   "source": []
  }
 ],
 "metadata": {
  "kernelspec": {
   "display_name": "ODBM2",
   "language": "python",
   "name": "python3"
  },
  "language_info": {
   "codemirror_mode": {
    "name": "ipython",
    "version": 3
   },
   "file_extension": ".py",
   "mimetype": "text/x-python",
   "name": "python",
   "nbconvert_exporter": "python",
   "pygments_lexer": "ipython3",
   "version": "undefined.undefined.undefined"
  }
 },
 "nbformat": 4,
 "nbformat_minor": 2
}
