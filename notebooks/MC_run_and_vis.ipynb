{
 "cells": [
  {
   "cell_type": "code",
   "execution_count": null,
   "id": "732789d1",
   "metadata": {},
   "outputs": [
    {
     "ename": "",
     "evalue": "",
     "output_type": "error",
     "traceback": [
      "\u001b[1;31mRunning cells with 'Python 3.10.12' requires the ipykernel package.\n",
      "\u001b[1;31mRun the following command to install 'ipykernel' into the Python environment. \n",
      "\u001b[1;31mCommand: '/bin/python3 -m pip install ipykernel -U --user --force-reinstall'"
     ]
    }
   ],
   "source": [
    "import os\n",
    "import pickle\n",
    "\n",
    "import matplotlib.colors as colors\n",
    "import matplotlib.pyplot as plt\n",
    "import numpy as np\n",
    "import pandas as pd\n",
    "import pygmo as pg\n",
    "# import seaborn as sns\n",
    "import tellurium as te\n",
    "\n",
    "os.chdir('..')\n",
    "\n",
    "from mpl_toolkits.axes_grid1 import make_axes_locatable\n",
    "from src.odbm.odbm_main import ModelBuilder"
   ]
  },
  {
   "cell_type": "code",
   "execution_count": 2,
   "id": "2ec50436",
   "metadata": {
    "scrolled": true
   },
   "outputs": [
    {
     "data": {
      "text/plain": [
       "'/workspaces/ECFERS'"
      ]
     },
     "execution_count": 2,
     "metadata": {},
     "output_type": "execute_result"
    }
   ],
   "source": [
    "os.getcwd()"
   ]
  },
  {
   "cell_type": "markdown",
   "id": "7a7dcd1e",
   "metadata": {},
   "source": [
    "# Generate and read in an SBML file\n",
    "### Only need to run once, but replace file names"
   ]
  },
  {
   "cell_type": "code",
   "execution_count": null,
   "id": "818d9087",
   "metadata": {},
   "outputs": [],
   "source": [
    "# Only need to run this the first time to make the model\n",
    "model_species = pd.read_csv('src/frenda_brenda/Files/CCNs/SpeciesBaseMechanism_TXTL.csv')\n",
    "model_rxns = pd.read_csv('src/frenda_brenda/Files/CCNs/Reaction_TXTL.csv')\n",
    "\n",
    "modelfile = 'src/frenda_brenda/Files/SBML models/240626_TXTL.txt'\n",
    "myModel = ModelBuilder(model_species, model_rxns)\n",
    "myModel.saveModel(modelfile)\n",
    "\n",
    "with open('src/frenda_brenda/Files/SBML models/240626_TXTL.txt', 'r') as f:\n",
    "    antimony = f.read()\n",
    "    \n",
    "r_TXTL  = te.loada(antimony)\n",
    "r_TXTL.exportToSBML('src/frenda_brenda/Files/SBML models/240626_TXTL.sbml', current=False)"
   ]
  },
  {
   "cell_type": "code",
   "execution_count": null,
   "id": "8e986321",
   "metadata": {},
   "outputs": [],
   "source": [
    "# Only need to run this the first time to make the model\n",
    "model_species = pd.read_csv('src/frenda_brenda/Files/CCNs/SpeciesBaseMechanism_2R.csv')\n",
    "model_rxns = pd.read_csv('src/frenda_brenda/Files/CCNs/Reaction_2R.csv')\n",
    "\n",
    "modelfile = 'src/frenda_brenda/Files/SBML models/240611MC_double.txt'\n",
    "myModel = ModelBuilder(model_species, model_rxns)\n",
    "myModel.saveModel(modelfile)\n",
    "\n",
    "with open('src/frenda_brenda/Files/SBML models/240611MC_double.txt', 'r') as f:\n",
    "    antimony = f.read()\n",
    "    \n",
    "r_double  = te.loada(antimony)"
   ]
  },
  {
   "cell_type": "code",
   "execution_count": null,
   "id": "ab2d5eba",
   "metadata": {},
   "outputs": [],
   "source": [
    "# Only need to run this the first time to make the model\n",
    "model_species = pd.read_csv('src/frenda_brenda/Files/CCNs/SpeciesBaseMechanism_NOG.csv')\n",
    "model_rxns = pd.read_csv('src/frenda_brenda/Files/CCNs/Reaction_NOG.csv')\n",
    "\n",
    "modelfile = 'src/frenda_brenda/Files/SBML models/240604MC_NOG.txt'\n",
    "myModel = ModelBuilder(model_species, model_rxns)\n",
    "myModel.saveModel(modelfile)\n",
    "\n",
    "with open('src/frenda_brenda/Files/SBML models/240604MC_NOG.txt', 'r') as f:\n",
    "    antimony = f.read()\n",
    "    \n",
    "r_NOG = te.loada(antimony)\n",
    "r_NOG.exportToSBML('src/frenda_brenda/Files/SBML models/240604MC_NOG.sbml', current=False)"
   ]
  },
  {
   "cell_type": "code",
   "execution_count": null,
   "id": "56cbdfa3",
   "metadata": {},
   "outputs": [],
   "source": [
    "# Only need to run this the first time to make the model\n",
    "model_species = pd.read_csv('src/frenda_brenda/Files/CCNs/SpeciesBaseMechanism_rGS.csv')\n",
    "model_rxns = pd.read_csv('src/frenda_brenda/Files/CCNs/Reaction_rGS.csv')\n",
    "\n",
    "modelfile = 'src/frenda_brenda/Files/SBML models/240604MC_rGS.txt'\n",
    "myModel = ModelBuilder(model_species, model_rxns)\n",
    "myModel.saveModel(modelfile)\n",
    "\n",
    "with open('src/frenda_brenda/Files/SBML models/240604MC_rGS.txt', 'r') as f:\n",
    "    antimony = f.read()\n",
    "    \n",
    "r_rGS  = te.loada(antimony)\n",
    "r_rGS.exportToSBML('src/frenda_brenda/Files/SBML models/240604MC_rGS.sbml', current=False)"
   ]
  },
  {
   "cell_type": "code",
   "execution_count": 3,
   "id": "87af26a8",
   "metadata": {},
   "outputs": [],
   "source": [
    "# Only need to run this the first time to make the model\n",
    "model_species = pd.read_csv('src/frenda_brenda/Files/CCNs/SpeciesBaseMechanism_VN_HCT.csv')\n",
    "model_rxns = pd.read_csv('src/frenda_brenda/Files/CCNs/Reaction_VN_HCT.csv')\n",
    "\n",
    "modelfile = 'src/frenda_brenda/Files/SBML models/240709MC_VN_HCT.txt'\n",
    "myModel = ModelBuilder(model_species, model_rxns)\n",
    "myModel.saveModel(modelfile)\n",
    "\n",
    "with open('src/frenda_brenda/Files/SBML models/240709MC_VN_HCT.txt', 'r') as f:\n",
    "    antimony = f.read()\n",
    "    \n",
    "r_VNHCT = te.loada(antimony)\n",
    "r_VNHCT.exportToSBML('src/frenda_brenda/Files/SBML models/240709MC_VN_HCT.sbml', current=False)"
   ]
  },
  {
   "cell_type": "code",
   "execution_count": 3,
   "id": "d8bd1355",
   "metadata": {},
   "outputs": [
    {
     "ename": "FileNotFoundError",
     "evalue": "[Errno 2] No such file or directory: 'src/frenda_brenda/Files/SBML models/240618MC_metab_biosyn.txt'",
     "output_type": "error",
     "traceback": [
      "\u001b[0;31m---------------------------------------------------------------------------\u001b[0m",
      "\u001b[0;31mFileNotFoundError\u001b[0m                         Traceback (most recent call last)",
      "Cell \u001b[0;32mIn[3], line 1\u001b[0m\n\u001b[0;32m----> 1\u001b[0m \u001b[38;5;28;01mwith\u001b[39;00m \u001b[38;5;28;43mopen\u001b[39;49m\u001b[43m(\u001b[49m\u001b[38;5;124;43m'\u001b[39;49m\u001b[38;5;124;43msrc/frenda_brenda/Files/SBML models/240618MC_metab_biosyn.txt\u001b[39;49m\u001b[38;5;124;43m'\u001b[39;49m\u001b[43m,\u001b[49m\u001b[43m \u001b[49m\u001b[38;5;124;43m'\u001b[39;49m\u001b[38;5;124;43mr\u001b[39;49m\u001b[38;5;124;43m'\u001b[39;49m\u001b[43m)\u001b[49m \u001b[38;5;28;01mas\u001b[39;00m f:\n\u001b[1;32m      2\u001b[0m     antimony \u001b[38;5;241m=\u001b[39m f\u001b[38;5;241m.\u001b[39mread()\n\u001b[1;32m      4\u001b[0m r_efflux  \u001b[38;5;241m=\u001b[39m te\u001b[38;5;241m.\u001b[39mloada(antimony)\n",
      "File \u001b[0;32m/opt/conda/envs/myenv/lib/python3.9/site-packages/IPython/core/interactiveshell.py:284\u001b[0m, in \u001b[0;36m_modified_open\u001b[0;34m(file, *args, **kwargs)\u001b[0m\n\u001b[1;32m    277\u001b[0m \u001b[38;5;28;01mif\u001b[39;00m file \u001b[38;5;129;01min\u001b[39;00m {\u001b[38;5;241m0\u001b[39m, \u001b[38;5;241m1\u001b[39m, \u001b[38;5;241m2\u001b[39m}:\n\u001b[1;32m    278\u001b[0m     \u001b[38;5;28;01mraise\u001b[39;00m \u001b[38;5;167;01mValueError\u001b[39;00m(\n\u001b[1;32m    279\u001b[0m         \u001b[38;5;124mf\u001b[39m\u001b[38;5;124m\"\u001b[39m\u001b[38;5;124mIPython won\u001b[39m\u001b[38;5;124m'\u001b[39m\u001b[38;5;124mt let you open fd=\u001b[39m\u001b[38;5;132;01m{\u001b[39;00mfile\u001b[38;5;132;01m}\u001b[39;00m\u001b[38;5;124m by default \u001b[39m\u001b[38;5;124m\"\u001b[39m\n\u001b[1;32m    280\u001b[0m         \u001b[38;5;124m\"\u001b[39m\u001b[38;5;124mas it is likely to crash IPython. If you know what you are doing, \u001b[39m\u001b[38;5;124m\"\u001b[39m\n\u001b[1;32m    281\u001b[0m         \u001b[38;5;124m\"\u001b[39m\u001b[38;5;124myou can use builtins\u001b[39m\u001b[38;5;124m'\u001b[39m\u001b[38;5;124m open.\u001b[39m\u001b[38;5;124m\"\u001b[39m\n\u001b[1;32m    282\u001b[0m     )\n\u001b[0;32m--> 284\u001b[0m \u001b[38;5;28;01mreturn\u001b[39;00m \u001b[43mio_open\u001b[49m\u001b[43m(\u001b[49m\u001b[43mfile\u001b[49m\u001b[43m,\u001b[49m\u001b[43m \u001b[49m\u001b[38;5;241;43m*\u001b[39;49m\u001b[43margs\u001b[49m\u001b[43m,\u001b[49m\u001b[43m \u001b[49m\u001b[38;5;241;43m*\u001b[39;49m\u001b[38;5;241;43m*\u001b[39;49m\u001b[43mkwargs\u001b[49m\u001b[43m)\u001b[49m\n",
      "\u001b[0;31mFileNotFoundError\u001b[0m: [Errno 2] No such file or directory: 'src/frenda_brenda/Files/SBML models/240618MC_metab_biosyn.txt'"
     ]
    }
   ],
   "source": [
    "with open('src/frenda_brenda/Files/SBML models/240618MC_metab_biosyn.txt', 'r') as f:\n",
    "    antimony = f.read()\n",
    "    \n",
    "r_efflux  = te.loada(antimony)\n",
    "#r_efflux.exportToSBML('src/frenda_brenda/Files/SBML models/240610MC_simple.sbml', current=False)"
   ]
  },
  {
   "cell_type": "markdown",
   "id": "42b34561",
   "metadata": {},
   "source": [
    "### Run this if you just need to load in an existing SBML file"
   ]
  },
  {
   "cell_type": "code",
   "execution_count": null,
   "id": "060d94a3",
   "metadata": {},
   "outputs": [],
   "source": [
    "# This is all you need to run in order to load in the SBML file\n",
    "#r_base = te.loads('src/frenda_brenda/Files/SBML models/240603MC_base.sbml')\n",
    "r_biosyn = te.loads('src/frenda_brenda/Files/SBML models/240604MC_biosyn.sbml')"
   ]
  },
  {
   "cell_type": "code",
   "execution_count": 4,
   "id": "b4d48b39",
   "metadata": {},
   "outputs": [],
   "source": [
    "r_VN = te.loads('src/frenda_brenda/Files/SBML models/240625_VN_biosyn.sbml')"
   ]
  },
  {
   "cell_type": "code",
   "execution_count": null,
   "id": "a0268ebd",
   "metadata": {},
   "outputs": [],
   "source": [
    "r_NOG = te.loads('src/frenda_brenda/Files/SBML models/240604MC_NOG.sbml')\n",
    "r_rGS = te.loads('src/frenda_brenda/Files/SBML models/240604MC_rGS.sbml')"
   ]
  },
  {
   "cell_type": "code",
   "execution_count": null,
   "id": "74a9fa76",
   "metadata": {},
   "outputs": [],
   "source": [
    "r_simple = te.loads('src/frenda_brenda/Files/SBML models/240610MC_simple.sbml')"
   ]
  },
  {
   "cell_type": "markdown",
   "id": "ae68715c",
   "metadata": {},
   "source": [
    "### Code to change the dilution factor"
   ]
  },
  {
   "cell_type": "code",
   "execution_count": null,
   "id": "4c894092",
   "metadata": {},
   "outputs": [],
   "source": [
    "r_biosyn.setValue('init(dilution_factor)',1/200)\n",
    "addedmetabs = pd.read_csv('src/frenda_brenda/adding_biosynthesis.csv')\n",
    "subs_df = addedmetabs[addedmetabs['Type']=='Metabolite'].drop(columns=['Type','EC','Species'])\n",
    "for sub, conc in zip(subs_df.KEGG, subs_df.Concentration):\n",
    "    r_biosyn.setValue(f'[{sub}]',conc)"
   ]
  },
  {
   "cell_type": "code",
   "execution_count": 5,
   "id": "2707b4e9",
   "metadata": {},
   "outputs": [],
   "source": [
    "r_VN.setValue('init(dilution_factor)',1/200)\n",
    "addedmetabs = pd.read_csv('src/frenda_brenda/adding_biosynthesis.csv')\n",
    "subs_df = addedmetabs[addedmetabs['Type']=='Metabolite'].drop(columns=['Type','EC','Species'])\n",
    "for sub, conc in zip(subs_df.KEGG, subs_df.Concentration):\n",
    "    r_VN.setValue(f'[{sub}]',conc)"
   ]
  },
  {
   "cell_type": "code",
   "execution_count": 6,
   "id": "1605a335",
   "metadata": {},
   "outputs": [],
   "source": [
    "r_VNHCT.setValue('init(dilution_factor)',1/200)\n",
    "addedmetabs = pd.read_csv('src/frenda_brenda/adding_biosynthesis.csv')\n",
    "subs_df = addedmetabs[addedmetabs['Type']=='Metabolite'].drop(columns=['Type','EC','Species'])\n",
    "for sub, conc in zip(subs_df.KEGG, subs_df.Concentration):\n",
    "    r_VNHCT.setValue(f'[{sub}]',conc)"
   ]
  },
  {
   "cell_type": "code",
   "execution_count": null,
   "id": "529ceae2",
   "metadata": {},
   "outputs": [],
   "source": []
  },
  {
   "cell_type": "markdown",
   "id": "302aade4",
   "metadata": {},
   "source": [
    "# Perturb and repeatedly simulate an SBML model\n",
    "### This code is for perturbing a compound"
   ]
  },
  {
   "cell_type": "code",
   "execution_count": 6,
   "id": "bd20b0c2",
   "metadata": {},
   "outputs": [
    {
     "data": {
      "image/png": "[encoded data removed]",
      "text/plain": [
       "<Figure size 640x480 with 1 Axes>"
      ]
     },
     "metadata": {},
     "output_type": "display_data"
    }
   ],
   "source": [
    "# Choose a substrate and iterate from start to end value (must be doubles) in increment values\n",
    "for C00058 in np.arange(0.0, 0.1, 0.02):\n",
    "    r_VN.reset() # reset the SBML values each loop iteration\n",
    "    r_VN.C00058 = C00058 \n",
    "    m = r_VN.simulate (0, 8*60*60, ['time', 'C00004']) # simulate model, this version specifies which values to take note of\n",
    "    te.plotArray (m, show=False, labels=['Formate='+str(C00058)], resetColorCycle=False, xlabel=\"Time (s)\", ylabel=\"[Malate] (mM)\", title=\"Concentration of Malate over Time\") # add that simulation to plot"
   ]
  },
  {
   "cell_type": "code",
   "execution_count": null,
   "id": "ab9c36c9",
   "metadata": {},
   "outputs": [],
   "source": [
    "# Choose a substrate and iterate from start to end value (must be doubles) in increment values\n",
    "for C00036 in np.arange(0.0, 3, 0.5):\n",
    "    r_biosyn.reset() # reset the SBML values each loop iteration\n",
    "    p = r_biosyn.simulate (0, 1, ['time', 'C00149'])\n",
    "    r_biosyn.C00036 = C00036 # assign chosen substrate/enzyme to newly perturbed value\n",
    "    m = r_biosyn.simulate (0, 10, ['time', 'C00149']) # simulate model, this version specifies which values to take note of\n",
    "    te.plotArray (m, show=False, labels=['Oxaloacetate='+str(C00036)], resetColorCycle=False, xlabel=\"Time (s)\", ylabel=\"[Malate] (mM)\", title=\"Concentration of Malate over Time\") # add that simulation to plot\n",
    "    #te.plotArray (p, show=False, labels=['Oxaloacetate='+str(C00036)], resetColorCycle=False, xlabel=\"Time (s)\", ylabel=\"[Malate] (mM)\", title=\"Concentration of Malate over Time\") # add that simulation to plot"
   ]
  },
  {
   "cell_type": "markdown",
   "id": "c22afd09",
   "metadata": {},
   "source": [
    "### This code is for perturbing an enzyme"
   ]
  },
  {
   "cell_type": "code",
   "execution_count": null,
   "id": "fae19a40",
   "metadata": {},
   "outputs": [],
   "source": [
    "# Choose an EC ID and iterate from start to end value (must be doubles) in increment values\n",
    "for EC11719 in np.arange(0.0, 0.3, 0.02):\n",
    "    r_biosyn.reset()\n",
    "    r_biosyn.EC11719 = EC11719\n",
    "    m = r_biosyn.simulate (0, 8*60*60, ['time', 'C00149'])\n",
    "    te.plotArray (m, show=False, labels=['Fumarase='+str(EC11719)], resetColorCycle=False)\n",
    "te.show()"
   ]
  },
  {
   "cell_type": "markdown",
   "id": "0661df9b",
   "metadata": {},
   "source": [
    "### This code is for perturbing two enzymes in a matrix"
   ]
  },
  {
   "cell_type": "code",
   "execution_count": null,
   "id": "31d38b0a",
   "metadata": {},
   "outputs": [],
   "source": [
    "import numpy as np\n",
    "import matplotlib.pyplot as plt\n",
    "from mpl_toolkits.mplot3d import Axes3D\n",
    "\n",
    "# Prepare the figure for 3D plotting\n",
    "fig = plt.figure()\n",
    "ax = fig.add_subplot(111, projection='3d')\n",
    "\n",
    "# Define the range for the two compounds\n",
    "C00036_values = np.arange(0.0, 3, 0.5)\n",
    "C00004_values = np.arange(0.0, 3, 0.5)\n",
    "\n",
    "# Create a meshgrid for the compound values\n",
    "C00036_mesh, C00004_mesh = np.meshgrid(C00036_values, C00004_values)\n",
    "\n",
    "# Prepare to store the results\n",
    "C00149_mesh = np.zeros_like(C00036_mesh)\n",
    "\n",
    "# Iterate over both compounds\n",
    "for i, C00036 in enumerate(C00036_values):\n",
    "    for j, C00004 in enumerate(C00004_values):\n",
    "        r_biosyn.reset() # reset the SBML values each loop iteration\n",
    "        r_biosyn.C00036 = C00036 # assign chosen substrate/enzyme to newly perturbed value\n",
    "        r_biosyn.C00004 = C00004 # assign second compound to newly perturbed value\n",
    "        m = r_biosyn.simulate(0, 28800, 1000, ['time', 'C00149']) # simulate model\n",
    "        final_value = m[-1, 1] # get the final value of C00149\n",
    "        C00149_mesh[j, i] = final_value\n",
    "\n",
    "# Plot the surface\n",
    "ax.plot_surface(C00036_mesh, C00004_mesh, C00149_mesh, cmap='viridis')\n",
    "\n",
    "# Label axes\n",
    "ax.set_xlabel('C00036')\n",
    "ax.set_ylabel('C00004')\n",
    "ax.set_zlabel('C00149')\n",
    "\n",
    "# Show plot\n",
    "plt.show()"
   ]
  },
  {
   "cell_type": "markdown",
   "id": "02a193e6",
   "metadata": {},
   "source": [
    "# Single simulation and kinetics visualization"
   ]
  },
  {
   "cell_type": "code",
   "execution_count": null,
   "id": "8e691de6",
   "metadata": {},
   "outputs": [],
   "source": [
    "r_biosyn"
   ]
  },
  {
   "cell_type": "code",
   "execution_count": 8,
   "id": "ecabda5d",
   "metadata": {},
   "outputs": [],
   "source": [
    "# r_biosyn.reset()\n",
    "# result_biosyn = r_biosyn.simulate(0,8*60*60)\n",
    "\n",
    "r_VN.reset()\n",
    "result_VN = r_VN.simulate(0,8*60*60)"
   ]
  },
  {
   "cell_type": "code",
   "execution_count": 9,
   "id": "0d941dc4",
   "metadata": {},
   "outputs": [],
   "source": [
    "r_VNHCT.reset()\n",
    "result_VNHCT = r_VNHCT.simulate(0,8*60*60)"
   ]
  },
  {
   "cell_type": "code",
   "execution_count": null,
   "id": "1ec2128c",
   "metadata": {},
   "outputs": [],
   "source": [
    "from matplotlib.ticker import ScalarFormatter"
   ]
  },
  {
   "cell_type": "code",
   "execution_count": null,
   "id": "f9cf2f37",
   "metadata": {},
   "outputs": [],
   "source": [
    "df_TXTL = pd.DataFrame(result_TXTL, columns=result_TXTL.colnames)"
   ]
  },
  {
   "cell_type": "code",
   "execution_count": null,
   "id": "72bce314",
   "metadata": {},
   "outputs": [],
   "source": [
    "columns_to_keep = [col for col in df_TXTL.columns if col.startswith('[C')] + ['time']\n",
    "df_filtered = df_TXTL[columns_to_keep]"
   ]
  },
  {
   "cell_type": "code",
   "execution_count": null,
   "id": "b360decb",
   "metadata": {},
   "outputs": [],
   "source": [
    "import pandas as pd\n",
    "import matplotlib.pyplot as plt\n",
    "\n",
    "# Load the kegg_labels.csv file\n",
    "kegg_labels = pd.read_csv('kegg_labels.csv', index_col=0)\n",
    "\n",
    "# Function to translate compound IDs to human-readable names\n",
    "translate_kegg = lambda X: [kegg_labels.loc[x[1:-1]].values[0] if x[1:-1] in kegg_labels.index else x for x in X]\n",
    "\n",
    "# Assuming your filtered DataFrame is named df_filtered\n",
    "\n",
    "# List of compounds to plot\n",
    "compounds_to_plot = ['[C06481]', '[C16636]', '[C00046]', '[C00013]', '[C00065]', '[C00020]', '[C00075]', '[C00063]', '[C00044]', '[C00002]', '[C00201]']\n",
    "\n",
    "# Select the columns to plot\n",
    "df_selected = df_filtered[['time'] + compounds_to_plot]\n",
    "\n",
    "# Translate compound IDs to human-readable names\n",
    "translated_labels = translate_kegg(compounds_to_plot)\n",
    "translated_labels = ['time'] + translated_labels\n",
    "\n",
    "# Set 'time' as the index for plotting\n",
    "df_selected.set_index('time', inplace=True)\n",
    "\n",
    "# Plot the data\n",
    "plt.figure(figsize=(12, 8))\n",
    "for original, translated in zip(compounds_to_plot, translated_labels[1:]):\n",
    "    plt.plot(df_selected.index, df_selected[original], label=translated)\n",
    "\n",
    "plt.xlabel('Time')\n",
    "plt.ylabel('Concentration')\n",
    "plt.title('Concentration of Selected Compounds Over Time')\n",
    "plt.legend(loc='best')\n",
    "plt.tight_layout()\n",
    "plt.show()\n"
   ]
  },
  {
   "cell_type": "code",
   "execution_count": null,
   "id": "73b186e6",
   "metadata": {},
   "outputs": [],
   "source": [
    "import pandas as pd\n",
    "import matplotlib.pyplot as plt\n",
    "\n",
    "# Assuming your filtered DataFrame is named df_filtered\n",
    "\n",
    "# List of compounds to plot\n",
    "compounds_to_plot = ['[C06481]', '[C16636]', '[C00046]', '[C00013]', '[C00065]', '[C00020]', '[C00075]', '[C00063]', '[C00044]', '[C00002]', '[C00201]']\n",
    "\n",
    "# Select the columns to plot\n",
    "df_selected = df_filtered[['time'] + compounds_to_plot]\n",
    "\n",
    "# Set 'time' as the index for plotting\n",
    "df_selected.set_index('time', inplace=True)\n",
    "\n",
    "# Plot the data\n",
    "plt.figure(figsize=(12, 8))\n",
    "for column in compounds_to_plot:\n",
    "    plt.plot(df_selected.index, df_selected[column], label=column)\n",
    "\n",
    "plt.xlabel('Time')\n",
    "plt.ylabel('Concentration')\n",
    "plt.title('Concentration of Selected Compounds Over Time')\n",
    "plt.legend(loc='best')\n",
    "plt.tight_layout()\n",
    "plt.show()\n"
   ]
  },
  {
   "cell_type": "code",
   "execution_count": null,
   "id": "90cd0324",
   "metadata": {},
   "outputs": [],
   "source": [
    "time_biosyn = result_biosyn['time']\n",
    "mal_biosyn = result_biosyn['[C00149]']\n",
    "nad_biosyn = result_biosyn['[C00003]']\n",
    "nadh_biosyn = result_biosyn['[C00004]']\n",
    "oaa_biosyn = result_biosyn['[C00036]']\n",
    "pep = result_biosyn['[C00074]']\n",
    "ortho = result_biosyn['[C00009]']\n",
    "serine = result_biosyn['[C00065]']\n",
    "pyruvate = result_biosyn['[C00022]']\n",
    "\n",
    "plt.plot(time_biosyn, mal_biosyn, 'c', label = \"Malate Biosyn\")\n",
    "# plt.plot(time_biosyn, serine, 'c', label = \"Serine\")\n",
    "# plt.plot(time_biosyn, pyruvate, 'm', label = \"Pyruvate\")\n",
    "# plt.plot(time_biosyn, nad_biosyn, 'g', label = \"NAD+ Biosyn\")\n",
    "# plt.plot(time_biosyn, nadh_biosyn, 'm', label = \"NADH Biosyn\")\n",
    "# plt.plot(time_biosyn, oaa_biosyn, 'g', label = \"OAA Biosyn\")\n",
    "# plt.plot(time_biosyn, pep, 'k', label = \"PEP Biosyn\")\n",
    "# plt.plot(time_biosyn, ortho, 'r', label = \"Orthophosphate Biosyn\")\n",
    "\n",
    "plt.yscale(\"log\")\n",
    "# plt.legend()\n",
    "plt.title(\"Kinetics of Malate in Full Model\")\n",
    "plt.xlabel(\"Time (s)\")\n",
    "plt.ylabel(\"Concentration (mM)\")\n",
    "plt.gca().yaxis.set_major_formatter(ScalarFormatter()) \n",
    "plt.gca().yaxis.set_minor_formatter(ScalarFormatter()); \n",
    "plt.show()"
   ]
  },
  {
   "cell_type": "code",
   "execution_count": null,
   "id": "551c2a2b",
   "metadata": {},
   "outputs": [],
   "source": [
    "time_biosyn = result_double['time']\n",
    "# mal_biosyn = result_double['[C00149]']\n",
    "# nad_biosyn = result_double['[C00003]']\n",
    "# nadh_biosyn = result_double['[C00004]']\n",
    "\n",
    "oaa_biosyn = result_double['[C00036]']\n",
    "pep = result_double['[C00074]']\n",
    "ortho = result_double['[C00009]']\n",
    "co2 = result_double['[C00011]']\n",
    "water = result_double['[C00001]']\n",
    "\n",
    "\n",
    "# plt.plot(time_biosyn, mal_biosyn, 'c', label = \"Malate Biosyn\")\n",
    "# plt.plot(time_biosyn, nad_biosyn, 'g', label = \"NAD+ Biosyn\")\n",
    "# plt.plot(time_biosyn, nadh_biosyn, 'm', label = \"NADH Biosyn\")\n",
    "plt.plot(time_biosyn, oaa_biosyn, 'y', label = \"OAA Biosyn\")\n",
    "plt.plot(time_biosyn, pep, 'k', label = \"PEP Biosyn\")\n",
    "plt.plot(time_biosyn, ortho, 'r', label = \"Orthophosphate Biosyn\")\n",
    "plt.plot(time_biosyn, co2, 'c', label = \"CO2 Biosyn\")\n",
    "plt.plot(time_biosyn, water, 'm', label = \"Water Biosyn\")\n",
    "\n",
    "plt.yscale(\"log\")\n",
    "plt.legend()\n",
    "plt.title(\"Kinetics of R61 and R110\")\n",
    "plt.xlabel(\"Time (s)\")\n",
    "plt.ylabel(\"Concentration (mM)\")\n",
    "plt.show()"
   ]
  },
  {
   "cell_type": "code",
   "execution_count": 17,
   "id": "4326a060",
   "metadata": {},
   "outputs": [
    {
     "data": {
      "image/png": "[encoded data removed]",
      "text/plain": [
       "<Figure size 640x480 with 1 Axes>"
      ]
     },
     "metadata": {},
     "output_type": "display_data"
    }
   ],
   "source": [
    "time_biosyn = result_VN['time']\n",
    "\n",
    "citrate = result_VN['[C00158]']\n",
    "isocitrate = result_VN['[C00311]']\n",
    "aketoglutarate = result_VN['[C00026]']\n",
    "succcoa = result_VN['[C00091]']\n",
    "succ = result_VN['[C00042]']\n",
    "fum = result_VN['[C00122]']\n",
    "malate = result_VN['[C00149]']\n",
    "oaa = result_VN['[C00036]']\n",
    "co2 = result_VN['[C00011]']\n",
    "\n",
    "plt.plot(time_biosyn, citrate, 'm', label = \"Citrate\")\n",
    "plt.plot(time_biosyn, isocitrate, 'c', label = \"Isocitrate\")\n",
    "plt.plot(time_biosyn, aketoglutarate, 'y', label = \"a-ketoglutarate\")\n",
    "plt.plot(time_biosyn, succcoa, 'r', label = \"Succinyl CoA\")\n",
    "plt.plot(time_biosyn, succ, 'orange', label = \"Succinate\")\n",
    "plt.plot(time_biosyn, fum, 'g', label = \"Fumarate\")\n",
    "plt.plot(time_biosyn, malate, 'b', label = \"Malate\")\n",
    "plt.plot(time_biosyn, oaa, 'purple', label = \"OAA\")\n",
    "plt.plot(time_biosyn, co2, 'black', label = \"CO2\")\n",
    "\n",
    "plt.legend()\n",
    "plt.title(\"TCA Intermediates without Hydroxycitrate\")\n",
    "plt.xlabel(\"Time (s)\")\n",
    "plt.ylabel(\"Concentration (mM)\")\n",
    "plt.show()"
   ]
  },
  {
   "cell_type": "code",
   "execution_count": 18,
   "id": "c865f608",
   "metadata": {},
   "outputs": [
    {
     "data": {
      "image/png": "[encoded data removed]",
      "text/plain": [
       "<Figure size 640x480 with 1 Axes>"
      ]
     },
     "metadata": {},
     "output_type": "display_data"
    }
   ],
   "source": [
    "time_biosyn = result_VNHCT['time']\n",
    "\n",
    "citrate = result_VNHCT['[C00158]']\n",
    "isocitrate = result_VNHCT['[C00311]']\n",
    "aketoglutarate = result_VNHCT['[C00026]']\n",
    "succcoa = result_VNHCT['[C00091]']\n",
    "succ = result_VNHCT['[C00042]']\n",
    "fum = result_VNHCT['[C00122]']\n",
    "malate = result_VNHCT['[C00149]']\n",
    "oaa = result_VNHCT['[C00036]']\n",
    "co2 = result_VNHCT['[C00011]']\n",
    "\n",
    "plt.plot(time_biosyn, citrate, 'm', label = \"Citrate\")\n",
    "plt.plot(time_biosyn, isocitrate, 'c', label = \"Isocitrate\")\n",
    "plt.plot(time_biosyn, aketoglutarate, 'y', label = \"a-ketoglutarate\")\n",
    "plt.plot(time_biosyn, succcoa, 'r', label = \"Succinyl CoA\")\n",
    "plt.plot(time_biosyn, succ, 'orange', label = \"Succinate\")\n",
    "plt.plot(time_biosyn, fum, 'g', label = \"Fumarate\")\n",
    "plt.plot(time_biosyn, malate, 'b', label = \"Malate\")\n",
    "plt.plot(time_biosyn, oaa, 'purple', label = \"OAA\")\n",
    "plt.plot(time_biosyn, co2, 'black', label = \"CO2\")\n",
    "\n",
    "plt.legend()\n",
    "plt.title(\"TCA Intermediates with Hydroxycitrate\")\n",
    "plt.xlabel(\"Time (s)\")\n",
    "plt.ylabel(\"Concentration (mM)\")\n",
    "plt.show()"
   ]
  },
  {
   "cell_type": "code",
   "execution_count": null,
   "id": "88a8e1e4",
   "metadata": {},
   "outputs": [],
   "source": []
  },
  {
   "cell_type": "markdown",
   "id": "30eab68e",
   "metadata": {},
   "source": [
    "# Generate heatmaps for flux through enzymes"
   ]
  },
  {
   "cell_type": "code",
   "execution_count": null,
   "id": "44772500",
   "metadata": {},
   "outputs": [],
   "source": [
    "kegg_labels = pd.read_csv('kegg_labels.csv', index_col = 0)\n",
    "translate_kegg = lambda X: [kegg_labels.loc[x].values[0] for x in X]"
   ]
  },
  {
   "cell_type": "code",
   "execution_count": null,
   "id": "372abf40",
   "metadata": {},
   "outputs": [],
   "source": [
    "# simulate an SBML model at 30, 60, 120, 240, and 480 minutes\n",
    "r_VN.reset()\n",
    "r01 = r_VN.simulate(0,60)\n",
    "rates01 = r_VN.getReactionRates()\n",
    "\n",
    "r_VN.reset()\n",
    "r30 = r_VN.simulate(0,1800)\n",
    "rates30 = r_VN.getReactionRates()\n",
    "\n",
    "r_VN.reset()\n",
    "r60 = r_VN.simulate(0,3600)\n",
    "rates60 = r_VN.getReactionRates()\n",
    "\n",
    "r_VN.reset()\n",
    "r120 = r_VN.simulate(0,7200)\n",
    "rates120 = r_VN.getReactionRates()\n",
    "\n",
    "r_VN.reset()\n",
    "r240 = r_VN.simulate(0,14400)\n",
    "rates240 = r_VN.getReactionRates()\n",
    "\n",
    "r_VN.reset()\n",
    "r480 = r_VN.simulate(0,28800)\n",
    "rates480 = r_VN.getReactionRates()"
   ]
  },
  {
   "cell_type": "code",
   "execution_count": null,
   "id": "49a01e34",
   "metadata": {},
   "outputs": [],
   "source": [
    "# find the indices for all reactions involving Malate (C00149)\n",
    "r_met = np.where(np.abs(r_VN.getFullStoichiometryMatrix()['C00002']))[0]"
   ]
  },
  {
   "cell_type": "code",
   "execution_count": null,
   "id": "453a826b",
   "metadata": {},
   "outputs": [],
   "source": [
    "# index the rates at certain time points to get the rates of reactions involving malate\n",
    "spec_rates01 = rates01[r_met]\n",
    "spec_rates30 = rates30[r_met]\n",
    "spec_rates60 = rates60[r_met]\n",
    "spec_rates120 = rates120[r_met]\n",
    "spec_rates240 = rates240[r_met]\n",
    "spec_rates480 = rates480[r_met]"
   ]
  },
  {
   "cell_type": "code",
   "execution_count": null,
   "id": "0a190ac0",
   "metadata": {},
   "outputs": [],
   "source": [
    "model_rxns = pd.read_csv('src/frenda_brenda/Files/CCNs/Reaction_VN_Metabolism_biosyn.csv')"
   ]
  },
  {
   "cell_type": "code",
   "execution_count": null,
   "id": "5e823204",
   "metadata": {},
   "outputs": [],
   "source": [
    "from matplotlib import colors\n",
    "divnorm=colors.TwoSlopeNorm(vmin=-1e-9, vcenter=0., vmax=1e-7)"
   ]
  },
  {
   "cell_type": "code",
   "execution_count": null,
   "id": "233c14d9",
   "metadata": {},
   "outputs": [],
   "source": [
    "kegg_labels = pd.read_csv('kegg_labels.csv', index_col = 0)\n",
    "def translate_kegg(X):\n",
    "    translated = []\n",
    "    for x in X:\n",
    "        try:\n",
    "            translated.append(kegg_labels.loc[x].values[0])\n",
    "        except KeyError:\n",
    "            print(f\"KeyError: {x} not found in kegg_labels\")\n",
    "            translated.append(\"Unknown\")\n",
    "    return translated\n",
    "\n",
    "# Combine the arrays into a 2D array\n",
    "reaction_rates = np.array([spec_rates01, spec_rates30, spec_rates60, spec_rates120, spec_rates240, spec_rates480])\n",
    "\n",
    "# Define time points in minutes\n",
    "time_points = [1, 30, 60, 120, 240, 480]\n",
    "\n",
    "# Set up the figure size and subplot adjustments\n",
    "size = np.ceil(len(r_met) / 3) + 1\n",
    "fig, ax = plt.subplots(figsize=(8, size))\n",
    "fig.subplots_adjust(wspace=0.5)\n",
    "\n",
    "# Create the heatmap\n",
    "im = ax.imshow(reaction_rates.T, aspect='auto', cmap='PuOr', norm=colors.SymLogNorm(1e-10))\n",
    "\n",
    "# Set axis labels\n",
    "ax.set_ylabel('Reactants')\n",
    "ax.set_xlabel('Time (mins)')\n",
    "\n",
    "# Set x-axis ticks and labels\n",
    "ax.set_xticks(np.arange(len(time_points)))\n",
    "ax.set_xticklabels(time_points)\n",
    "\n",
    "# Optionally, add a secondary y-axis for additional labels (if needed)\n",
    "ax.set_yticks(np.arange(0,len(r_met),1), labels = ['EC '+model_rxns.loc[model_rxns['Label'] == r]['EC'].values[0] +': '+' + '.join((translate_kegg(model_rxns.loc[model_rxns['Label'] == r]['Substrates'].values[0].replace(\" \",'').split(';')))) for r in np.array(r_VN.getReactionIds())[r_met]])\n",
    "ax2 = ax.twinx()\n",
    "ax2.set_ylim(ax.get_ylim())\n",
    "ax2.set_yticks(np.arange(0,len(r_met),1), labels = [' + '.join((translate_kegg(model_rxns.loc[model_rxns['Label'] == r]['Products'].values[0].replace(\" \",'').split(';')))) for r in np.array(r_VN.getReactionIds())[r_met]])\n",
    "ax2.set_ylabel('Products')\n",
    "\n",
    "# # Add a colorbar on top with adjusted position\n",
    "divider = make_axes_locatable(ax2)\n",
    "cax2 = divider.append_axes('top', size='1%', pad='50%')  # Adjust pad to increase space between colorbar and heatmap\n",
    "\n",
    "cbar = fig.colorbar(im, cax=cax2, orientation='horizontal', label='Rate')\n",
    "cax2.xaxis.set_ticks_position(\"top\")\n",
    "cbar.ax.xaxis.set_label_position('top')  # Move colorbar label to the top\n",
    "\n",
    "# Show the plot\n",
    "plt.show()\n",
    "\n",
    "#Required to remove some white border"
   ]
  },
  {
   "cell_type": "markdown",
   "id": "782f37d0",
   "metadata": {},
   "source": [
    "# Looking into control coefficients"
   ]
  },
  {
   "cell_type": "code",
   "execution_count": null,
   "id": "627e6816",
   "metadata": {},
   "outputs": [],
   "source": [
    "kegg_labels = pd.read_csv('kegg_labels.csv', index_col = 0)\n",
    "model_rxns = pd.read_csv('src/frenda_brenda/Files/CCNs/Reaction_biosyn.csv')\n",
    "from matplotlib.colors import LogNorm"
   ]
  },
  {
   "cell_type": "code",
   "execution_count": null,
   "id": "e4bcf0d3",
   "metadata": {},
   "outputs": [],
   "source": [
    "def plotCoeffs(sbml, ec, RID):\n",
    "    \"\"\"\n",
    "    Extract KEGG compounds and calculate elasticity coefficients for a given reaction and enzyme.\n",
    "    \n",
    "    Parameters:\n",
    "    sbml (object): The SBML model object\n",
    "    ec (str): The enzyme commission number\n",
    "    RID (str): The reaction ID\n",
    "    \n",
    "    Returns:\n",
    "    dict: A dictionary with KEGG compounds as keys and their corresponding elasticity coefficients as values\n",
    "    \"\"\"\n",
    "    #model_rxns = pd.read_csv('src/frenda_brenda/Files/CCNs/Reaction_2R.csv')\n",
    "    \n",
    "    # Extract KEGG compounds from Km and KI values\n",
    "    keggs = []\n",
    "    for i in model_rxns[model_rxns['EC'] == ec]['Km'].iloc[0].split('; '):\n",
    "        for k in i.split(': '):\n",
    "            if k.startswith('K'):\n",
    "                k = k.removeprefix('Km_')\n",
    "                keggs.append(k)\n",
    "    for i in model_rxns[model_rxns['EC'] == ec]['KI'].iloc[0].split(';'):\n",
    "        for k in i.split(': '):\n",
    "            if k.startswith('C'):\n",
    "                k = k.removesuffix('_KI')\n",
    "                keggs.append(k)\n",
    "                \n",
    "    kegg = set(keggs)\n",
    "    \n",
    "    # Calculate elasticity coefficients\n",
    "    ees = []\n",
    "    for j in kegg:\n",
    "        ee = sbml.getEE(RID, j)\n",
    "        ees.append(ee)\n",
    "    \n",
    "    res = dict(zip(kegg, ees))\n",
    "    return res\n"
   ]
  },
  {
   "cell_type": "code",
   "execution_count": null,
   "id": "55cae0ef",
   "metadata": {},
   "outputs": [],
   "source": [
    "def plotCoeffs(sbml, ec, RID):\n",
    "    \"\"\"\n",
    "    Extract KEGG compounds and calculate elasticity coefficients for a given reaction and enzyme.\n",
    "    \n",
    "    Parameters:\n",
    "    sbml (object): The SBML model object\n",
    "    ec (str): The enzyme commission number\n",
    "    RID (str): The reaction ID\n",
    "    \n",
    "    Returns:\n",
    "    dict: A dictionary with KEGG compounds as keys and their corresponding elasticity coefficients as values\n",
    "    \"\"\"\n",
    "    model_rxns = pd.read_csv('src/frenda_brenda/Files/CCNs/Reaction_2R.csv')\n",
    "    \n",
    "    # Extract KEGG compounds from Km values\n",
    "    keggs = []\n",
    "    for i in model_rxns[model_rxns['EC'] == ec]['Km'].iloc[0].split('; '):\n",
    "        for k in i.split(': '):\n",
    "            if k.startswith('K'):\n",
    "                k = k.removeprefix('Km_')\n",
    "                keggs.append(k)\n",
    "                \n",
    "    # Extract KEGG compounds from KI values if they exist\n",
    "    if 'KI' in model_rxns.columns:\n",
    "        try:\n",
    "            for i in model_rxns[model_rxns['EC'] == ec]['KI'].iloc[0].split(';'):\n",
    "                for k in i.split(': '):\n",
    "                    if k.startswith('C'):\n",
    "                        k = k.removesuffix('_KI')\n",
    "                        keggs.append(k)\n",
    "        except (IndexError, AttributeError):\n",
    "            # Handle case where there are no KI values\n",
    "            pass\n",
    "                \n",
    "    kegg = set(keggs)\n",
    "    \n",
    "    # Calculate elasticity coefficients\n",
    "    ees = []\n",
    "    for j in kegg:\n",
    "        ee = sbml.getEE(RID, j)\n",
    "        ees.append(ee)\n",
    "    \n",
    "    res = dict(zip(kegg, ees))\n",
    "    return res"
   ]
  },
  {
   "cell_type": "code",
   "execution_count": null,
   "id": "f90aa1cd",
   "metadata": {},
   "outputs": [],
   "source": [
    "def translate_kegg(X, kegg_labels):\n",
    "    \"\"\"\n",
    "    Translate KEGG compound IDs to names using the kegg_labels DataFrame.\n",
    "    \n",
    "    Parameters:\n",
    "    X (list): List of KEGG compound IDs\n",
    "    kegg_labels (DataFrame): DataFrame containing KEGG compound IDs and their corresponding names\n",
    "    \n",
    "    Returns:\n",
    "    list: Translated names or original IDs if not found in kegg_labels\n",
    "    \"\"\"\n",
    "    translated = []\n",
    "    for x in X:\n",
    "        try:\n",
    "            translated.append(kegg_labels.loc[x].values[0])\n",
    "        except KeyError:\n",
    "            translated.append(x)  # Use the original ID if not found\n",
    "    return translated"
   ]
  },
  {
   "cell_type": "code",
   "execution_count": null,
   "id": "952fefb6",
   "metadata": {},
   "outputs": [],
   "source": [
    "def createHeatmap(sbml, ec, RID, times, kegg_labels):\n",
    "    \"\"\"\n",
    "    Simulate the model for given time points and create a heatmap of elasticity coefficients.\n",
    "    \n",
    "    Parameters:\n",
    "    sbml (object): The SBML model object\n",
    "    ec (str): The enzyme commission number\n",
    "    RID (str): The reaction ID\n",
    "    times (list): A list of time points in seconds\n",
    "    kegg_labels (DataFrame): DataFrame containing KEGG compound IDs and their corresponding names\n",
    "    \n",
    "    Returns:\n",
    "    None: Displays the heatmap\n",
    "    \"\"\"\n",
    "    coeftime = []\n",
    "    \n",
    "    for time in times:\n",
    "        sbml.reset()\n",
    "        sbml.simulate(0, time)\n",
    "        x = plotCoeffs(sbml, ec, RID)\n",
    "        coeftime.append(x)\n",
    "    \n",
    "    timeshrs = [t / 3600 for t in times]\n",
    "    df = pd.DataFrame(coeftime, index=timeshrs)\n",
    "    \n",
    "    # Transpose the DataFrame to have compounds as rows and time points as columns\n",
    "    df_transposed = df.T\n",
    "    \n",
    "    # Translate compound IDs to names\n",
    "    compound_ids = df_transposed.index.tolist()\n",
    "    translated_names = translate_kegg(compound_ids, kegg_labels)\n",
    "    df_transposed.index = translated_names\n",
    "    \n",
    "    # Plotting the heatmap\n",
    "    plt.figure(figsize=(12, 8))\n",
    "    sns.heatmap(df_transposed, annot=True, cmap='coolwarm', norm=LogNorm(), cbar_kws={'label': 'Elasticity Coefficient'})\n",
    "    plt.xlabel('Time (Hours)')\n",
    "    plt.ylabel('Compound')\n",
    "    plt.title(f'Effect of Compound on Rate of {RID} over Time')\n",
    "    plt.show()"
   ]
  },
  {
   "cell_type": "code",
   "execution_count": null,
   "id": "016ba4db",
   "metadata": {},
   "outputs": [],
   "source": [
    "t = [1800, 3600, 7200, 17000, 28800]\n",
    "createHeatmap(r_biosyn, '4.1.1.31', 'R110', t, kegg_labels)"
   ]
  },
  {
   "cell_type": "code",
   "execution_count": null,
   "id": "d51ebe77",
   "metadata": {},
   "outputs": [],
   "source": [
    "import pandas as pd\n",
    "import seaborn as sns\n",
    "import matplotlib.pyplot as plt\n",
    "import numpy as np\n",
    "from matplotlib.colors import SymLogNorm\n",
    "\n",
    "def plotCoeffs(sbml, ec, RID):\n",
    "    \"\"\"\n",
    "    Extract KEGG compounds and calculate elasticity coefficients for a given reaction and enzyme.\n",
    "    \n",
    "    Parameters:\n",
    "    sbml (object): The SBML model object\n",
    "    ec (str): The enzyme commission number\n",
    "    RID (str): The reaction ID\n",
    "    \n",
    "    Returns:\n",
    "    dict: A dictionary with KEGG compounds as keys and their corresponding elasticity coefficients as values\n",
    "    \"\"\"\n",
    "    model_rxns = pd.read_csv('src/frenda_brenda/Files/CCNs/Reaction_biosyn.csv')\n",
    "    \n",
    "    # Extract KEGG compounds from Km values\n",
    "    keggs = []\n",
    "    for i in model_rxns[model_rxns['EC'] == ec]['Km'].iloc[0].split('; '):\n",
    "        for k in i.split(': '):\n",
    "            if k.startswith('K'):\n",
    "                k = k.removeprefix('Km_')\n",
    "                keggs.append(k)\n",
    "                \n",
    "    # Extract KEGG compounds from KI values if they exist\n",
    "    if 'KI' in model_rxns.columns:\n",
    "        try:\n",
    "            for i in model_rxns[model_rxns['EC'] == ec]['KI'].iloc[0].split(';'):\n",
    "                for k in i.split(': '):\n",
    "                    if k.startswith('C'):\n",
    "                        k = k.removesuffix('_KI')\n",
    "                        keggs.append(k)\n",
    "        except (IndexError, AttributeError):\n",
    "            # Handle case where there are no KI values\n",
    "            pass\n",
    "                \n",
    "    kegg = set(keggs)\n",
    "    \n",
    "    # Calculate elasticity coefficients\n",
    "    ees = []\n",
    "    for j in kegg:\n",
    "        ee = sbml.getEE(RID, j)\n",
    "        ees.append(ee)\n",
    "    \n",
    "    res = dict(zip(kegg, ees))\n",
    "    return res\n",
    "\n",
    "def translate_kegg(X, kegg_labels):\n",
    "    \"\"\"\n",
    "    Translate KEGG compound IDs to names using the kegg_labels DataFrame.\n",
    "    \n",
    "    Parameters:\n",
    "    X (list): List of KEGG compound IDs\n",
    "    kegg_labels (DataFrame): DataFrame containing KEGG compound IDs and their corresponding names\n",
    "    \n",
    "    Returns:\n",
    "    list: Translated names or original IDs if not found in kegg_labels\n",
    "    \"\"\"\n",
    "    translated = []\n",
    "    for x in X:\n",
    "        try:\n",
    "            translated.append(kegg_labels.loc[x].values[0])\n",
    "        except KeyError:\n",
    "            translated.append(x)  # Use the original ID if not found\n",
    "    return translated\n",
    "\n",
    "def createHeatmap(sbml, ec, RID, times, kegg_labels):\n",
    "    \"\"\"\n",
    "    Simulate the model for given time points and create a heatmap of elasticity coefficients.\n",
    "    \n",
    "    Parameters:\n",
    "    sbml (object): The SBML model object\n",
    "    ec (str): The enzyme commission number\n",
    "    RID (str): The reaction ID\n",
    "    times (list): A list of time points in seconds\n",
    "    kegg_labels (DataFrame): DataFrame containing KEGG compound IDs and their corresponding names\n",
    "    \n",
    "    Returns:\n",
    "    None: Displays the heatmap\n",
    "    \"\"\"\n",
    "    coeftime = []\n",
    "    \n",
    "    for time in times:\n",
    "        sbml.reset()\n",
    "        sbml.simulate(0, time)\n",
    "        x = plotCoeffs(sbml, ec, RID)\n",
    "        coeftime.append(x)\n",
    "    \n",
    "    timeshrs = [t / 3600 for t in times]\n",
    "    df = pd.DataFrame(coeftime, index=timeshrs)\n",
    "    \n",
    "    # Transpose the DataFrame to have compounds as rows and time points as columns\n",
    "    df_transposed = df.T\n",
    "    \n",
    "    # Translate compound IDs to names\n",
    "    compound_ids = df_transposed.index.tolist()\n",
    "    translated_names = translate_kegg(compound_ids, kegg_labels)\n",
    "    df_transposed.index = translated_names\n",
    "    \n",
    "    # Plotting the heatmap with symmetrical log scale for color mapping\n",
    "    plt.figure(figsize=(12, 8))\n",
    "    sns.heatmap(df_transposed, annot=True, cmap='coolwarm', norm=SymLogNorm(linthresh=1e-2, linscale=1, vmin=-1e2, vmax=1e2), cbar_kws={'label': 'Elasticity Coefficient'})\n",
    "    plt.xlabel('Time (Hours)')\n",
    "    plt.ylabel('Compound')\n",
    "    plt.title(f'Effect of Compound on Rate of {RID} over Time')\n",
    "    plt.show()\n",
    "\n",
    "# Example usage:\n",
    "# Assuming `r_biosyn` is your SBML model object and `kegg_labels` is the DataFrame containing KEGG labels\n",
    "# kegg_labels = pd.read_csv('kegg_labels.csv', index_col=0)\n",
    "# createHeatmap(r_biosyn, '1.1.1.37', 'R61', [1800, 3600, 7200, 14400, 28800], kegg_labels)\n"
   ]
  },
  {
   "cell_type": "code",
   "execution_count": null,
   "id": "edf23ae6",
   "metadata": {},
   "outputs": [],
   "source": [
    "t = [1, 240, 480, 960, 1920]\n",
    "createHeatmap(r_biosyn, '1.1.1.37', 'R61', t, kegg_labels)"
   ]
  },
  {
   "cell_type": "markdown",
   "id": "2cb8703b",
   "metadata": {},
   "source": [
    "# Preparing for a DBTL cycle"
   ]
  },
  {
   "cell_type": "code",
   "execution_count": null,
   "id": "e92edf95",
   "metadata": {},
   "outputs": [],
   "source": [
    "addedmetabs = pd.read_csv('src/frenda_brenda/adding_biosynthesis.csv')"
   ]
  },
  {
   "cell_type": "code",
   "execution_count": null,
   "id": "2c0d2107",
   "metadata": {},
   "outputs": [],
   "source": [
    "subs_df = addedmetabs[addedmetabs['Type']=='Metabolite'].drop(columns=['Type','EC','Species'])\n",
    "enz_df = addedmetabs[addedmetabs['Type']=='Enzyme'].drop(columns=['Type','KEGG','Species'])"
   ]
  },
  {
   "cell_type": "code",
   "execution_count": null,
   "id": "6f436eaa",
   "metadata": {},
   "outputs": [],
   "source": [
    "import numpy as np\n",
    "import pandas as pd\n",
    "import itertools\n",
    "import tellurium as te\n",
    "\n",
    "# Define the perturbation factors: 1/10 and 10x the original value\n",
    "perturbation_factors = [1/10000000000000, 1]\n",
    "\n",
    "# Create all combinations of perturbed values for the enzymes\n",
    "combinations = list(itertools.product(perturbation_factors, repeat=len(enz_df)))\n",
    "\n",
    "# Store the results\n",
    "results = []\n",
    "\n",
    "# Perform simulations for each combination of enzyme concentrations\n",
    "for combination in combinations:\n",
    "    # Reset the model\n",
    "    r_biosyn.reset()\n",
    "    \n",
    "    # Set the enzyme concentrations for this combination\n",
    "    initial_values = {}\n",
    "    for i, (factor, (identifier, concentration)) in enumerate(zip(combination, enz_df.itertuples(index=False))):\n",
    "        new_concentration = concentration * factor\n",
    "        formatted_identifier = f'p_EC{identifier.replace(\".\", \"\")}'\n",
    "        setattr(r_biosyn, formatted_identifier, new_concentration)  # set enzyme concentration\n",
    "        initial_values[identifier] = new_concentration\n",
    "    \n",
    "    # Run the simulation\n",
    "    r_biosyn.simulate(0, 8*60*60)\n",
    "    \n",
    "    # Get the final value of C00149 (malate)\n",
    "    final_C00149 = r_biosyn.C00149\n",
    "    \n",
    "    # Store the result\n",
    "    initial_values['final_C00149'] = final_C00149\n",
    "    results.append(initial_values)\n",
    "\n",
    "# Convert results to a DataFrame for easy analysis\n",
    "results_df = pd.DataFrame(results)\n",
    "\n",
    "# Display or save the results\n",
    "print(results_df)\n",
    "# You can save the results_df to a CSV file if needed\n",
    "# results_df.to_csv('simulation_results.csv', index=False)"
   ]
  },
  {
   "cell_type": "code",
   "execution_count": null,
   "id": "1c9d391b",
   "metadata": {},
   "outputs": [],
   "source": [
    "pd.options.display.float_format = \"{:,.4f}\".format"
   ]
  },
  {
   "cell_type": "code",
   "execution_count": null,
   "id": "1474e83d",
   "metadata": {},
   "outputs": [],
   "source": [
    "results_df"
   ]
  },
  {
   "cell_type": "code",
   "execution_count": null,
   "id": "dec0e913",
   "metadata": {},
   "outputs": [],
   "source": [
    "import matplotlib.pyplot as plt\n",
    "import seaborn as sns\n",
    "from pandas.plotting import parallel_coordinates\n",
    "from mpl_toolkits.mplot3d import Axes3D"
   ]
  },
  {
   "cell_type": "code",
   "execution_count": null,
   "id": "8f969f2e",
   "metadata": {},
   "outputs": [],
   "source": [
    "# Bar Plot of final malate concentrations\n",
    "results_df_sorted = results_df.sort_values(by='final_C00149')\n",
    "plt.figure(figsize=(12, 8))\n",
    "sns.barplot(x=results_df_sorted.index, y='final_C00149', data=results_df_sorted, palette='viridis')\n",
    "plt.title('Bar Plot of Final Malate Concentrations')\n",
    "plt.xlabel('Simulation Index')\n",
    "plt.ylabel('Final Malate Concentration (C00149)')\n",
    "plt.xticks(rotation=90)\n",
    "plt.show()"
   ]
  },
  {
   "cell_type": "code",
   "execution_count": null,
   "id": "caca1662",
   "metadata": {},
   "outputs": [],
   "source": [
    "# Create the reformatted DataFrame\n",
    "reformatted_data = []\n",
    "\n",
    "# Process each row in results_df\n",
    "for index, row in results_df.iterrows():\n",
    "    # Create the Line Name\n",
    "    perturbation_labels = ''.join(['1' if row[enz] > 1 else '0' for enz in results_df.columns[:-1]])\n",
    "    line_name = 'Sample' + perturbation_labels\n",
    "    \n",
    "    # Add the malate concentration\n",
    "    reformatted_data.append({\n",
    "        'Line Name': line_name,\n",
    "        'Type': 'Malate',\n",
    "        '24': row['final_C00149']\n",
    "    })\n",
    "    \n",
    "    # Add the individual enzyme concentrations\n",
    "    for enzyme in results_df.columns[:-1]:  # Exclude the 'final_C00149' column\n",
    "        reformatted_data.append({\n",
    "            'Line Name': line_name,\n",
    "            'Type': enzyme,\n",
    "            '24': row[enzyme]\n",
    "        })\n",
    "\n",
    "# Convert to DataFrame\n",
    "reformatted_df = pd.DataFrame(reformatted_data)\n",
    "\n",
    "# Display the reformatted DataFrame\n",
    "print(reformatted_df)\n",
    "# You can save the reformatted_df to a CSV file if needed\n",
    "# reformatted_df.to_csv('reformatted_results.csv', index=False)"
   ]
  },
  {
   "cell_type": "code",
   "execution_count": null,
   "id": "9fc7373d",
   "metadata": {},
   "outputs": [],
   "source": [
    "reformatted_df"
   ]
  },
  {
   "cell_type": "markdown",
   "id": "30cd2aba",
   "metadata": {},
   "source": [
    "# Perturbing kinetic parameters for one reaction and plotting simulation results"
   ]
  },
  {
   "cell_type": "code",
   "execution_count": null,
   "id": "aaf2d83f",
   "metadata": {},
   "outputs": [],
   "source": [
    "import re\n",
    "import seaborn as sns\n",
    "import matplotlib.pyplot as plt"
   ]
  },
  {
   "cell_type": "code",
   "execution_count": null,
   "id": "0e6ca7fd",
   "metadata": {},
   "outputs": [],
   "source": [
    "model_rxns = pd.read_csv('src/frenda_brenda/Files/CCNs/Reaction_biosyn.csv')"
   ]
  },
  {
   "cell_type": "code",
   "execution_count": null,
   "id": "ec71e181",
   "metadata": {},
   "outputs": [],
   "source": [
    "# find the indices for all reactions involving Malate (C00149)\n",
    "r_met = np.where(np.abs(r_biosyn.getFullStoichiometryMatrix()['C00149']))[0]\n",
    "np.array(r_biosyn.getReactionIds())[r_met]"
   ]
  },
  {
   "cell_type": "code",
   "execution_count": null,
   "id": "ec4f2e34",
   "metadata": {},
   "outputs": [],
   "source": [
    "def details(label):\n",
    "    filt = model_rxns[model_rxns['Label'] == label]\n",
    "    ec = filt['EC'].iloc[0]\n",
    "    ecform = re.sub(r'[^\\w\\s]','',ec)\n",
    "    params = []\n",
    "    \n",
    "    km = filt['Km']\n",
    "    for kms in km.iloc[0].split('; '):\n",
    "        for vals in kms.split(': '):\n",
    "            if vals.startswith('Km'):\n",
    "                params.append(f'{vals}_EC{ecform}')\n",
    "                \n",
    "    kcat = filt['Kcat']\n",
    "    for kcats in kcat.iloc[0].split('; '):\n",
    "        for vals in kcats.split(': '):\n",
    "            if vals.startswith('Kcat'):\n",
    "                params.append(f'{vals}_{label}')\n",
    "                \n",
    "    ki = filt['KI']\n",
    "    for kis in ki.iloc[0].split(';'):\n",
    "        for vals in kis.split(': '):\n",
    "            if vals.startswith('C'):\n",
    "                fval = re.sub('_KI','','C00209_KI')\n",
    "                params.append(f'Ki_{fval}_EC{ecform}')\n",
    "    \n",
    "    return(params)"
   ]
  },
  {
   "cell_type": "code",
   "execution_count": null,
   "id": "8d5fc292",
   "metadata": {},
   "outputs": [],
   "source": [
    "fractions = [1 / i for i in range(10, 0, -1)]\n",
    "integers = list(range(1, 11))\n",
    "combined = fractions + integers"
   ]
  },
  {
   "cell_type": "code",
   "execution_count": null,
   "id": "0493ac6f",
   "metadata": {},
   "outputs": [],
   "source": [
    "def simplotparams(param):    \n",
    "    # Initialize an empty list to store results for each iteration\n",
    "    results_list = []\n",
    "    \n",
    "    # Iterate through the combined list of values\n",
    "    for num in combined:\n",
    "        # Reset the model for each iteration\n",
    "        r_biosyn.reset()\n",
    "\n",
    "        # Modify the enzyme concentration\n",
    "        r_biosyn.param = r_biosyn.param * num\n",
    "\n",
    "        # Simulate the model\n",
    "        r_biosyn.simulate(0, 8*60*60, ['time', 'C00149'])\n",
    "\n",
    "        # Get the final value of C00149 (malate)\n",
    "        final_C00149 = r_biosyn.C00149\n",
    "\n",
    "        # Store the result for this iteration\n",
    "        results_list.append({'kinetic parameter value': r_biosyn.param, 'final malate concentration': final_C00149})\n",
    "\n",
    "    # Convert the list of results to a DataFrame for easy analysis\n",
    "    results_df = pd.DataFrame(results_list)\n",
    "    sns.scatterplot(data=results_df, x=\"final malate concentration\", y=\"kinetic parameter value\").set(title=f'{param}')\n",
    "    plt.show()"
   ]
  },
  {
   "cell_type": "code",
   "execution_count": null,
   "id": "cd489705",
   "metadata": {},
   "outputs": [],
   "source": [
    "simplotparams(details('R61')[0])"
   ]
  },
  {
   "cell_type": "code",
   "execution_count": null,
   "id": "4ad52ef2",
   "metadata": {},
   "outputs": [],
   "source": [
    "for p in details('R61'):\n",
    "    simplotparams(p)"
   ]
  },
  {
   "cell_type": "markdown",
   "id": "fa9be7fe",
   "metadata": {},
   "source": [
    "# Finding and detailing metrics for a perturbation condition"
   ]
  },
  {
   "cell_type": "code",
   "execution_count": 21,
   "id": "fe3bbd3d",
   "metadata": {},
   "outputs": [],
   "source": [
    "import pandas as pd\n",
    "\n",
    "def calc_metrics(model):\n",
    "    # make a dataframe of the simulation results\n",
    "    df = pd.DataFrame(model, columns=model.colnames)\n",
    "    columns_to_keep = ['time'] + [col for col in df.columns if col.startswith('[C')]\n",
    "    df_filtered = df[columns_to_keep]\n",
    "    df = df_filtered\n",
    "    \n",
    "    # create a list to store each row as a dictionary\n",
    "    rows = []\n",
    "    \n",
    "    for compound in df.columns[:2]:\n",
    "        \n",
    "        if compound == 'time':\n",
    "            continue\n",
    "            \n",
    "        # calculate the initial concentration\n",
    "        initialconc = df[compound].iloc[0]\n",
    "\n",
    "        # calculate the final concentration\n",
    "        finalconc = df[compound].iloc[-1]\n",
    "\n",
    "        # calculates change in malate from start to finish\n",
    "        deltatot = finalconc - initialconc\n",
    "\n",
    "        # finds the minimum concentration and time at minima\n",
    "        minconc = min(df[compound])\n",
    "        mintime = df['time'][df[compound].idxmin()]\n",
    "\n",
    "        # finds the maximum concentration and time at maximum\n",
    "        maxconc = max(df[compound])\n",
    "        maxtime = df['time'][df[compound].idxmax()]\n",
    "\n",
    "        # calculates change in malate from start to max\n",
    "        deltamax = maxconc - initialconc\n",
    "\n",
    "        # calculates half of produced malate\n",
    "        halfmax = deltamax / 2\n",
    "\n",
    "        # finds the concentration and time closest to half max\n",
    "        df_closest = df.iloc[(df[compound] - (initialconc + halfmax)).abs().argsort()[:1]]\n",
    "        halftime = df_closest['time'].iloc[0]\n",
    "        halfconc = df_closest[compound].iloc[0]\n",
    "\n",
    "        # append the calculated metrics to the list of rows\n",
    "        rows.append({'Species': compound,\n",
    "                     'Final Concentration': finalconc,\n",
    "                     'Min Conc': minconc,\n",
    "                     'Max Conc': maxconc,\n",
    "                     'Min Time': mintime,\n",
    "                     'Max Time': maxtime,\n",
    "                     'Total Production': deltatot,\n",
    "                     'Production to Max': deltamax,\n",
    "                     'Half Max Time': halftime,\n",
    "                     'Half Max Conc': halfconc})\n",
    "    \n",
    "    # create a dataframe from the list of rows\n",
    "    df_final = pd.DataFrame(rows)\n",
    "    \n",
    "    return df_final"
   ]
  },
  {
   "cell_type": "code",
   "execution_count": 23,
   "id": "2f6f8aa5",
   "metadata": {},
   "outputs": [],
   "source": [
    "results = r_VN.simulate(8*60*60)"
   ]
  },
  {
   "cell_type": "code",
   "execution_count": 24,
   "id": "96415be6",
   "metadata": {},
   "outputs": [
    {
     "data": {
      "text/html": [
       "<div>\n",
       "<style scoped>\n",
       "    .dataframe tbody tr th:only-of-type {\n",
       "        vertical-align: middle;\n",
       "    }\n",
       "\n",
       "    .dataframe tbody tr th {\n",
       "        vertical-align: top;\n",
       "    }\n",
       "\n",
       "    .dataframe thead th {\n",
       "        text-align: right;\n",
       "    }\n",
       "</style>\n",
       "<table border=\"1\" class=\"dataframe\">\n",
       "  <thead>\n",
       "    <tr style=\"text-align: right;\">\n",
       "      <th></th>\n",
       "      <th>Species</th>\n",
       "      <th>Final Concentration</th>\n",
       "      <th>Min Conc</th>\n",
       "      <th>Max Conc</th>\n",
       "      <th>Min Time</th>\n",
       "      <th>Max Time</th>\n",
       "      <th>Total Production</th>\n",
       "      <th>Production to Max</th>\n",
       "      <th>Half Max Time</th>\n",
       "      <th>Half Max Conc</th>\n",
       "    </tr>\n",
       "  </thead>\n",
       "  <tbody>\n",
       "    <tr>\n",
       "      <th>0</th>\n",
       "      <td>[C00079]</td>\n",
       "      <td>0.000005</td>\n",
       "      <td>0.000005</td>\n",
       "      <td>0.000005</td>\n",
       "      <td>28800.0</td>\n",
       "      <td>28800.0</td>\n",
       "      <td>0.0</td>\n",
       "      <td>0.0</td>\n",
       "      <td>28800.0</td>\n",
       "      <td>0.000005</td>\n",
       "    </tr>\n",
       "  </tbody>\n",
       "</table>\n",
       "</div>"
      ],
      "text/plain": [
       "    Species  Final Concentration  Min Conc  Max Conc  Min Time  Max Time  \\\n",
       "0  [C00079]             0.000005  0.000005  0.000005   28800.0   28800.0   \n",
       "\n",
       "   Total Production  Production to Max  Half Max Time  Half Max Conc  \n",
       "0               0.0                0.0        28800.0       0.000005  "
      ]
     },
     "execution_count": 24,
     "metadata": {},
     "output_type": "execute_result"
    }
   ],
   "source": [
    "calc_metrics(results)"
   ]
  },
  {
   "cell_type": "markdown",
   "id": "a576e8f9",
   "metadata": {},
   "source": [
    "### Now, we want to be able to perturb every single enzyme concentration (and metabolite?) in the model and run these calculations for each variation of the model"
   ]
  },
  {
   "cell_type": "code",
   "execution_count": 5,
   "id": "d8b91685",
   "metadata": {},
   "outputs": [],
   "source": [
    "import numpy as np\n",
    "import pandas as pd\n",
    "import itertools\n",
    "import tellurium as te"
   ]
  },
  {
   "cell_type": "code",
   "execution_count": 6,
   "id": "05617c79",
   "metadata": {},
   "outputs": [],
   "source": [
    "# We will actually access the IDs using the keys of the model like so\n",
    "IDs = r_VN.getFloatingSpeciesIds()\n",
    "\n",
    "# Define the perturbation factors: 1/10 and 10x the original value\n",
    "perturbation_factors = [1/10, 1/5, 1/2, 1, 2, 5, 10]"
   ]
  },
  {
   "cell_type": "markdown",
   "id": "785fd18b",
   "metadata": {},
   "source": [
    "### Now that we have the metrics in a dataframe and the identifiers to help us track the changes in the input of the model, we want a way to calculate coefficients of importance for each parameter"
   ]
  },
  {
   "cell_type": "code",
   "execution_count": null,
   "id": "4c813364",
   "metadata": {},
   "outputs": [],
   "source": [
    "import pandas as pd\n",
    "import statsmodels.api as sm\n",
    "\n",
    "# Pivot the results_df to have metrics for each compound in separate columns\n",
    "pivoted_df = results_df.pivot(index='Perturbation ID', columns='Species')\n",
    "\n",
    "# Flatten the column multi-index\n",
    "pivoted_df.columns = ['_'.join(col).strip() for col in pivoted_df.columns.values]\n",
    "\n",
    "# Merge the pivoted results with concentration data\n",
    "merged_df = pd.merge(pivoted_df, concentration_df, on='Perturbation ID')\n",
    "\n",
    "# List of compounds\n",
    "compounds = ['C00079', 'C00185']\n",
    "\n",
    "# List of metrics\n",
    "metrics = ['Final Concentration', 'Min Conc', 'Max Conc', 'Min Time', 'Max Time', \n",
    "           'Total Production', 'Production to Max', 'Half Max Conc', 'Half Max Time']\n",
    "\n",
    "# Initialize a dataframe to store regression coefficients\n",
    "regression_coefficients = pd.DataFrame(columns=['Metric', 'Target Compound'] + compounds)\n",
    "\n",
    "# Perform regression analysis for each metric of each compound\n",
    "for compound in compounds:\n",
    "    for metric in metrics:\n",
    "        target_metric = f'{metric}_{compound}'\n",
    "        X = merged_df[compounds]\n",
    "        y = merged_df[target_metric]\n",
    "        X = sm.add_constant(X)  # Add a constant term for the intercept\n",
    "        \n",
    "        # Fit the regression model\n",
    "        model = sm.OLS(y, X).fit()\n",
    "        \n",
    "        # Extract the coefficients\n",
    "        coefficients = model.params\n",
    "        \n",
    "        # Append to the regression coefficients dataframe\n",
    "        regression_coefficients = regression_coefficients.append({\n",
    "            'Metric': metric,\n",
    "            'Target Compound': compound,\n",
    "            **coefficients\n",
    "        }, ignore_index=True)"
   ]
  },
  {
   "cell_type": "code",
   "execution_count": null,
   "id": "4dbd1607",
   "metadata": {},
   "outputs": [],
   "source": [
    "merged_df[]"
   ]
  },
  {
   "cell_type": "markdown",
   "id": "ddf57a67",
   "metadata": {},
   "source": [
    "### Add stuff to the pygmo problems code for parallelization"
   ]
  },
  {
   "cell_type": "code",
   "execution_count": 7,
   "id": "3f2ed6a3",
   "metadata": {},
   "outputs": [],
   "source": [
    "pvals = {p:r_VN[p] for p in r_VN.getGlobalParameterIds() if 'p_EC' in p}\n",
    "plabels = list(pvals.keys())\n",
    "\n",
    "metabolites = [s for s in r_VN.getFloatingSpeciesIds() if 'EC' not in s]\n",
    "rstr = r_VN.getSBML()\n",
    "vlabels = [v for v in [(rstr[rstr.find('<initialAssignment symbol=\"'+s+'\">')+150:rstr.find('<initialAssignment symbol=\"'+s+'\">')+150+len(s)]).split(' ')[0] for s in metabolites] if 'v' in v]\n",
    "\n",
    "parameter_labels = plabels + vlabels"
   ]
  },
  {
   "cell_type": "code",
   "execution_count": 10,
   "id": "ae5cdba6",
   "metadata": {},
   "outputs": [],
   "source": [
    "# Example list of IDs and perturbation factors\n",
    "IDs = parameter_labels[:2]\n",
    "perturbation_factors = [1/10, 10]\n",
    "\n",
    "# Initialize empty dataframe to store results\n",
    "concentration_df = pd.DataFrame(columns=['Perturbation ID'] + IDs)\n",
    "\n",
    "# Generate all combinations of perturbation factors for the IDs\n",
    "perturbation_combinations = list(itertools.product(perturbation_factors, repeat=len(IDs)))\n",
    "\n",
    "perturbation_id = 1\n",
    "for combination in perturbation_combinations:\n",
    "    # Track the concentration values for this perturbation\n",
    "    concentration_values = [perturbation_id]\n",
    "    for i, ID in enumerate(IDs):\n",
    "        initial_concentration = r_VN.getValue(ID)\n",
    "        perturbed_concentration = initial_concentration * combination[i]\n",
    "        concentration_values.append(perturbed_concentration)\n",
    "    concentration_df.loc[len(concentration_df)] = concentration_values\n",
    "    perturbation_id += 1"
   ]
  },
  {
   "cell_type": "code",
   "execution_count": 11,
   "id": "7eae2a36",
   "metadata": {
    "scrolled": true
   },
   "outputs": [
    {
     "data": {
      "text/html": [
       "<div>\n",
       "<style scoped>\n",
       "    .dataframe tbody tr th:only-of-type {\n",
       "        vertical-align: middle;\n",
       "    }\n",
       "\n",
       "    .dataframe tbody tr th {\n",
       "        vertical-align: top;\n",
       "    }\n",
       "\n",
       "    .dataframe thead th {\n",
       "        text-align: right;\n",
       "    }\n",
       "</style>\n",
       "<table border=\"1\" class=\"dataframe\">\n",
       "  <thead>\n",
       "    <tr style=\"text-align: right;\">\n",
       "      <th></th>\n",
       "      <th>Perturbation ID</th>\n",
       "      <th>p_EC4213</th>\n",
       "      <th>p_EC2776</th>\n",
       "    </tr>\n",
       "  </thead>\n",
       "  <tbody>\n",
       "    <tr>\n",
       "      <th>0</th>\n",
       "      <td>1.0</td>\n",
       "      <td>0.1</td>\n",
       "      <td>0.1</td>\n",
       "    </tr>\n",
       "    <tr>\n",
       "      <th>1</th>\n",
       "      <td>2.0</td>\n",
       "      <td>0.1</td>\n",
       "      <td>10.0</td>\n",
       "    </tr>\n",
       "    <tr>\n",
       "      <th>2</th>\n",
       "      <td>3.0</td>\n",
       "      <td>10.0</td>\n",
       "      <td>0.1</td>\n",
       "    </tr>\n",
       "    <tr>\n",
       "      <th>3</th>\n",
       "      <td>4.0</td>\n",
       "      <td>10.0</td>\n",
       "      <td>10.0</td>\n",
       "    </tr>\n",
       "  </tbody>\n",
       "</table>\n",
       "</div>"
      ],
      "text/plain": [
       "   Perturbation ID  p_EC4213  p_EC2776\n",
       "0              1.0       0.1       0.1\n",
       "1              2.0       0.1      10.0\n",
       "2              3.0      10.0       0.1\n",
       "3              4.0      10.0      10.0"
      ]
     },
     "execution_count": 11,
     "metadata": {},
     "output_type": "execute_result"
    }
   ],
   "source": [
    "concentration_df"
   ]
  },
  {
   "cell_type": "code",
   "execution_count": null,
   "id": "057233d1",
   "metadata": {},
   "outputs": [],
   "source": [
    "SBML_Barebone_Multi_Fly(model:list, parameter_labels, timepoint, variables:list)"
   ]
  },
  {
   "cell_type": "code",
   "execution_count": null,
   "id": "72b7dbdb",
   "metadata": {},
   "outputs": [],
   "source": [
    "class SBML_Barebone_Multi_Fly:\n",
    "    class ModelStuff:\n",
    "        def __init__(self, model, parameter_labels, variables):\n",
    "            r = te.loadSBMLModel(model)\n",
    "            self.species_labels = np.array(r.getFullStoichiometryMatrix().rownames)\n",
    "            self.r_parameter_labels = np.array(r.getGlobalParameterIds())\n",
    "            self.parameter_order = np.int32(np.squeeze(np.array([np.where(p == self.r_parameter_labels) for p in parameter_labels if p in self.r_parameter_labels])))\n",
    "            self.parameter_present = [p in self.r_parameter_labels for p in parameter_labels]\n",
    "            self.variable_order = {sample:np.int32(np.squeeze(np.array([np.where(p == self.r_parameter_labels) for p in var.keys() if p in self.r_parameter_labels]))) for sample,var in variables.items()}\n",
    "            self.variable_present = {sample:[p in self.r_parameter_labels for p in var.keys()] for sample,var in variables.items()}\n",
    "            del r\n",
    "\n",
    "    def __init__(self, model:list, parameter_labels, timepoint, variables:list):\n",
    "        self.model = model # now a list of models\n",
    "        self.timepoint = timepoint\n",
    "        self.parameter_labels = parameter_labels # all parameters across all models, only the ones that are going to be fitted\n",
    "        self.variables = variables # list of dict of labels and values. use this for species\n",
    "        self.cvode_timepoints = 1000\n",
    "        self.model_stuff = [self.ModelStuff(m, self.parameter_labels, var) for m,var in zip(self.model, self.variables)]\n",
    "\n",
    "    def _setup_rr(self): # run on engine\n",
    "        from roadrunner import Config, RoadRunner, Logger\n",
    "        Logger.disableLogging()\n",
    "        Config.setValue(Config.ROADRUNNER_DISABLE_PYTHON_DYNAMIC_PROPERTIES, True)\n",
    "        Config.setValue(Config.LOADSBMLOPTIONS_RECOMPILE, False) \n",
    "        Config.setValue(Config.LLJIT_OPTIMIZATION_LEVEL, 4)\n",
    "        Config.setValue(Config.LLVM_SYMBOL_CACHE, True)\n",
    "        Config.setValue(Config.LOADSBMLOPTIONS_OPTIMIZE_GVN, True)\n",
    "        Config.setValue(Config.LOADSBMLOPTIONS_OPTIMIZE_CFG_SIMPLIFICATION, True)\n",
    "        Config.setValue(Config.LOADSBMLOPTIONS_OPTIMIZE_INSTRUCTION_COMBINING, True)\n",
    "        Config.setValue(Config.LOADSBMLOPTIONS_OPTIMIZE_DEAD_INST_ELIMINATION, True)\n",
    "        Config.setValue(Config.LOADSBMLOPTIONS_OPTIMIZE_DEAD_CODE_ELIMINATION, True)\n",
    "        Config.setValue(Config.LOADSBMLOPTIONS_OPTIMIZE_INSTRUCTION_SIMPLIFIER, True)\n",
    "        Config.setValue(Config.SIMULATEOPTIONS_COPY_RESULT, True)\n",
    "        self.r = []\n",
    "        for m in self.model:\n",
    "            r = te.loadSBMLModel(m)\n",
    "            r.integrator.absolute_tolerance = 1e-8\n",
    "            r.integrator.relative_tolerance = 1e-8\n",
    "            r.integrator.maximum_num_steps = 2000\n",
    "            self.r.append(r)\n",
    "            \n",
    "    def _simulate(self, x):\n",
    "        from roadrunner import Config, RoadRunner, Logger\n",
    "        Logger.disableLogging()\n",
    "        Config.setValue(Config.ROADRUNNER_DISABLE_PYTHON_DYNAMIC_PROPERTIES, True)\n",
    "        Config.setValue(Config.LOADSBMLOPTIONS_RECOMPILE, False) \n",
    "        Config.setValue(Config.LLJIT_OPTIMIZATION_LEVEL, 4)\n",
    "        Config.setValue(Config.LLVM_SYMBOL_CACHE, True)\n",
    "        Config.setValue(Config.LOADSBMLOPTIONS_OPTIMIZE_GVN, True)\n",
    "        Config.setValue(Config.LOADSBMLOPTIONS_OPTIMIZE_CFG_SIMPLIFICATION, True)\n",
    "        Config.setValue(Config.LOADSBMLOPTIONS_OPTIMIZE_INSTRUCTION_COMBINING, True)\n",
    "        Config.setValue(Config.LOADSBMLOPTIONS_OPTIMIZE_DEAD_INST_ELIMINATION, True)\n",
    "        Config.setValue(Config.LOADSBMLOPTIONS_OPTIMIZE_DEAD_CODE_ELIMINATION, True)\n",
    "        Config.setValue(Config.LOADSBMLOPTIONS_OPTIMIZE_INSTRUCTION_SIMPLIFIER, True)\n",
    "        Config.setValue(Config.SIMULATEOPTIONS_COPY_RESULT, True)\n",
    "\n",
    "        all_results = []\n",
    "        for r,ms,v in zip(self.r, self.model_stuff, self.variables):\n",
    "\n",
    "            # this sets the \"parameters\"\n",
    "            r.model.setGlobalParameterValues([*ms.parameter_order, *ms.variable_order], [*x[ms.parameter_present], *np.array(list(v.values()))[ms.variable_present]])\n",
    "            r.reset()\n",
    "\n",
    "            # this sets species inital concentrations\n",
    "            for label, value in v.items():\n",
    "                if not np.isnan(value):\n",
    "                    if label in ms.species_labels:\n",
    "                        r.setValue('['+label+']', value)\n",
    "            try:\n",
    "                results = r.simulate(0,self.timepoint,self.cvode_timepoints)\n",
    "            except Exception as e:\n",
    "                print(e)\n",
    "                # break # stop if any fail\n",
    "            r.resetToOrigin()\n",
    "            all_results.append(results)\n",
    "        del Config, RoadRunner, Logger, results\n",
    "        return all_results\n",
    "\n",
    "    def _calculate_metrics(self, x): # x is an array of parameter values, variables is a list of dictionaries\n",
    "        all_results =  self._simulate(x) # this returns a list of results\n",
    "\n",
    "        all_metrics = []\n",
    "        for result in all_results:\n",
    "            # result is a numpy array \n",
    "            # make a dataframe of the simulation results\n",
    "            df_un = pd.DataFrame(result, columns=result.colnames)\n",
    "            columns_to_keep = ['time'] + [col for col in df_un.columns if col.startswith('[C')]\n",
    "            df = df_un[columns_to_keep]\n",
    "            \n",
    "            # create a list to store each row as a dictionary\n",
    "            rows = []\n",
    "            \n",
    "            for compound in df.columns:\n",
    "                if compound == 'time':\n",
    "                    continue\n",
    "                # calculate the initial concentration\n",
    "                initialconc = df[compound].iloc[0]\n",
    "                # calculate the final concentration\n",
    "                finalconc = df[compound].iloc[-1]\n",
    "                # calculates change in malate from start to finish\n",
    "                deltatot = finalconc - initialconc\n",
    "                # finds the minimum concentration and time at minima\n",
    "                minconc = min(df[compound])\n",
    "                mintime = df['time'][df[compound].idxmin()]\n",
    "                # finds the maximum concentration and time at maximum\n",
    "                maxconc = max(df[compound])\n",
    "                maxtime = df['time'][df[compound].idxmax()]\n",
    "                # calculates change in malate from start to max\n",
    "                deltamax = maxconc - initialconc\n",
    "                # calculates half of produced malate\n",
    "                halfmax = deltamax / 2\n",
    "                # finds the concentration and time closest to half max\n",
    "                df_closest = df.iloc[(df[compound] - (initialconc + halfmax)).abs().argsort()[:1]]\n",
    "                halftime = df_closest['time'].iloc[0]\n",
    "                halfconc = df_closest[compound].iloc[0]\n",
    "                # append the calculated metrics to the list of rows\n",
    "                rows.append({'Species': compound,\n",
    "                             'Final Concentration': finalconc,\n",
    "                             'Min Conc': minconc,\n",
    "                             'Max Conc': maxconc,\n",
    "                             'Min Time': mintime,\n",
    "                             'Max Time': maxtime,\n",
    "                             'Total Production': deltatot,\n",
    "                             'Production to Max': deltamax,\n",
    "                             'Half Max Time': halftime,\n",
    "                             'Half Max Conc': halfconc})\n",
    "\n",
    "        # create a dataframe from the list of rows\n",
    "        df_final = pd.DataFrame(rows)\n",
    "            \n",
    "        all_metrics.append(df_final)\n",
    "\n",
    "        return all_metrics\n",
    "\n",
    "    # gotta keep these around but we dont use them\n",
    "    def fitness(self, x):\n",
    "        return [1]\n",
    "\n",
    "    def get_bounds(self):\n",
    "        return ([0 for i in self.parameter_labels], [1 for i in self.parameter_labels])\n",
    "    "
   ]
  }
 ],
 "metadata": {
  "kernelspec": {
   "display_name": "Python 3 (ipykernel)",
   "language": "python",
   "name": "python3"
  },
  "language_info": {
   "codemirror_mode": {
    "name": "ipython",
    "version": 3
   },
   "file_extension": ".py",
   "mimetype": "text/x-python",
   "name": "python",
   "nbconvert_exporter": "python",
   "pygments_lexer": "ipython3",
   "version": "3.10.12"
  }
 },
 "nbformat": 4,
 "nbformat_minor": 5
}
